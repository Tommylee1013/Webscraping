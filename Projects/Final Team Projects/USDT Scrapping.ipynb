{
 "cells": [
  {
   "cell_type": "code",
   "execution_count": 1,
   "id": "63efc7a2",
   "metadata": {
    "ExecuteTime": {
     "end_time": "2023-12-09T04:42:26.590669Z",
     "start_time": "2023-12-09T04:42:26.452351Z"
    }
   },
   "outputs": [],
   "source": [
    "from selenium import webdriver\n",
    "from selenium.webdriver.common.keys import Keys\n",
    "import time\n",
    "import urllib.request\n",
    "import os\n",
    "import numpy as np\n",
    "import pandas as pd\n",
    "from urllib.parse import quote_plus          \n",
    "import time\n",
    "from urllib.request import (urlopen, urlparse, urlunparse, urlretrieve)\n",
    "from selenium.common.exceptions import NoSuchElementException\n",
    "from selenium.webdriver.common.action_chains import ActionChains\n",
    "import math\n",
    "import re\n",
    "from selenium.webdriver.chrome.service import Service\n",
    "import os \n",
    "from webdriver_manager.chrome import ChromeDriverManager\n",
    "from tqdm import tqdm\n",
    "import pdb\n",
    "import os\n",
    "from selenium.common.exceptions import TimeoutException\n",
    "from selenium.webdriver.common.by import By\n",
    "from selenium.webdriver.support import expected_conditions as EC\n",
    "from selenium.webdriver.support.ui import WebDriverWait\n",
    "import traceback         \n",
    "from selenium.webdriver.common.proxy import Proxy, ProxyType\n",
    "import csv\n",
    "import requests\n",
    "import json\n",
    "import random\n",
    "import psutil\n",
    "from datetime import datetime\n",
    "import pickle\n",
    "import warnings\n",
    "from bs4 import BeautifulSoup"
   ]
  },
  {
   "cell_type": "code",
   "execution_count": 2,
   "id": "cb43edee",
   "metadata": {
    "ExecuteTime": {
     "end_time": "2023-12-09T04:42:27.572298Z",
     "start_time": "2023-12-09T04:42:27.562256Z"
    }
   },
   "outputs": [],
   "source": [
    "chrome_options = webdriver.ChromeOptions()\n",
    "chrome_options.add_argument('--no-sandbox')\n",
    "chrome_options.add_argument('--disable-setuid-sandbox')\n",
    "chrome_options.add_argument('--disable-dev-shm-usage')\n",
    "chrome_options.add_argument(\"--disable-extensions\")\n",
    "chrome_options.add_experimental_option(\"excludeSwitches\", [\"enable-automation\"])\n",
    "chrome_options.add_experimental_option('useAutomationExtension', False)\n",
    "chrome_options.add_argument('--ignore-certificate-errors')\n",
    "chrome_options.add_argument('--allow-running-insecure-content')\n",
    "chrome_options.add_argument(\"disable-infobars\")\n",
    "#chrome_options.add_argument(\"headless\")\n",
    "#chrome_options.add_argument(\"--start-maximized\")\n",
    "user_agent = 'Mozilla/5.0 (Windows NT 10.0; Win64; x64) AppleWebKit/537.36 (KHTML, like Gecko) Chrome/106.0.0.0 Safari/537.36'\n",
    "chrome_options.add_argument(f'user-agent={user_agent}')\n",
    "os.environ['WDM_LOG_LEVEL'] = '0'\n",
    "os.environ['WDM_LOG'] = \"false\"\n",
    "warnings.filterwarnings(\"ignore\")\n",
    "chrome_path = 'C:\\\\Users\\\\cafel\\\\chromedriver.exe'"
   ]
  },
  {
   "cell_type": "code",
   "execution_count": 3,
   "id": "c09e0b7d",
   "metadata": {
    "ExecuteTime": {
     "end_time": "2023-12-09T04:42:28.774494Z",
     "start_time": "2023-12-09T04:42:28.771861Z"
    }
   },
   "outputs": [],
   "source": [
    "def selenium_scroll_down(driver):\n",
    "    SCROLL_PAUSE_SEC = 1\n",
    "    last_height = driver.execute_script(\"return document.body.scrollHeight\")\n",
    "    while True:\n",
    "        driver.execute_script(\"window.scrollTo(0, document.body.scrollHeight);\")\n",
    "        time.sleep(SCROLL_PAUSE_SEC)\n",
    "        new_height = driver.execute_script(\"return document.body.scrollHeight\")\n",
    "  \n",
    "        if new_height == last_height:\n",
    "            return 1\n",
    "        last_height = new_height\n",
    "\n",
    "\n",
    "def get_driver(chrome_path, chrome_options, url):\n",
    "    driver = None\n",
    "    count = 0\n",
    "    \n",
    "    while (driver == None) and (count < 10):\n",
    "            try:\n",
    "                driver = webdriver.Chrome(chrome_path, options=chrome_options)\n",
    "            except Exception:\n",
    "                count = count + 1\n",
    "                clean_up()\n",
    "                if driver: driver.quit()\n",
    "                continue\n",
    "    connect = False\n",
    "    \n",
    "    while connect == False: \n",
    "        try:\n",
    "            driver.get(url)\n",
    "            driver.implicitly_wait(10)\n",
    "            connect = True\n",
    "        except Exception:\n",
    "            del driver\n",
    "            driver = webdriver.Chrome(chrome_path, options=chrome_options)\n",
    "            continue\n",
    "    return driver\n",
    "\n",
    "def reset_driver(driver, chrome_path, chrome_options, url, cookies):\n",
    "\n",
    "    try :\n",
    "        driver.quit()\n",
    "        driver = get_driver(chrome_path, chrome_options, url, cookies)\n",
    "    except Exception:\n",
    "        driver = get_driver(chrome_path, chrome_options, url, cookies)\n",
    "    return driver\n",
    "\n",
    "\n",
    "def write_data(write_file, datas):\n",
    "\n",
    "    for data in datas:\n",
    "        write_file = write_file.append(data, ignore_index = True)\n",
    "    \n",
    "    return write_file\n",
    "\n",
    "\n",
    "def get_list(chrome_path, chrome_options):\n",
    "    for i in range(6, 24):\n",
    "        base_url = 'https://home.treasury.gov/news/press-releases?title=remark&publication-start-date=20{:02d}-01-01&publication-end-date=20{:02d}-12-31'.format(i, i)\n",
    "        try:\n",
    "            driver = get_driver(chrome_path, chrome_options, base_url)\n",
    "        except Exception:\n",
    "            reset_driver(driver, chrome_path, chrome_options, base_url)\n",
    "\n",
    "        dataframe = pd.DataFrame(columns = ['title', 'url'])\n",
    "        count = 0\n",
    "        page_exist = True\n",
    "\n",
    "        while page_exist:\n",
    "            try:\n",
    "                datas = []\n",
    "                selenium_scroll_down(driver)\n",
    "                main = WebDriverWait(driver, 5).until(EC.visibility_of_element_located((By.CLASS_NAME, 'region.region-content'))).find_element(By.CLASS_NAME, 'content--2col__body')\n",
    "                articles = main.find_elements(By.CSS_SELECTOR, 'div')\n",
    "\n",
    "                for article in tqdm(articles):\n",
    "                    data = {}\n",
    "                    try:\n",
    "                        title = article.find_element(By.CSS_SELECTOR, 'h3 > a').get_attribute('href')\n",
    "                        url = article.find_element(By.CSS_SELECTOR, 'h3 > a').text\n",
    "                    except Exception:\n",
    "                        title = None\n",
    "                        url = None\n",
    "\n",
    "                    data['title'] = title\n",
    "                    data['url'] = url\n",
    "                    datas.append(data)\n",
    "\n",
    "                dataframe = write_data(dataframe, datas)   \n",
    "\n",
    "                count = count + 1\n",
    "                driver.implicitly_wait(1)\n",
    "\n",
    "                try:\n",
    "                    next_btn = driver.find_element(By.XPATH, '//*[@id=\"block-hamilton-content\"]/div/div/div[2]/nav/ul/li[7]/a/span[2]/img')\n",
    "                    next_btn.click()\n",
    "                except NoSuchElementException:\n",
    "                    try:\n",
    "                        next_btn = driver.find_element(By.XPATH, '//*[@id=\"block-hamilton-content\"]/div/div/div[2]/nav/ul/li[6]/a/span[2]/img')\n",
    "                        next_btn.click()\n",
    "                    except NoSuchElementException:\n",
    "                        try:\n",
    "                            next_btn = driver.find_element(By.XPATH, '//*[@id=\"block-hamilton-content\"]/div/div/div[2]/nav/ul/li[5]/a/span[2]/img')\n",
    "                            next_btn.click()\n",
    "                        except NoSuchElementException:\n",
    "                            print(\"No more next buttons found.\")\n",
    "                            page_exist = False\n",
    "\n",
    "            except Exception:\n",
    "                print(count)\n",
    "                break\n",
    "\n",
    "        dataframe = dataframe.drop_duplicates(subset=['url'], keep = 'first')\n",
    "        dataframe.to_csv('C:/Users/cafel/Desktop/USDT/USDT_article_url/USDT_article_url_20{:02d}.csv'.format(i), encoding = 'utf-8-sig', index = False)\n",
    "        driver.quit()\n",
    "        print(\"End\")"
   ]
  },
  {
   "cell_type": "code",
   "execution_count": 4,
   "id": "2e336570",
   "metadata": {
    "scrolled": true,
    "ExecuteTime": {
     "end_time": "2023-12-09T04:42:30.855756Z",
     "start_time": "2023-12-09T04:42:30.484388Z"
    }
   },
   "outputs": [
    {
     "ename": "UnboundLocalError",
     "evalue": "local variable 'driver' referenced before assignment",
     "output_type": "error",
     "traceback": [
      "\u001B[0;31m---------------------------------------------------------------------------\u001B[0m",
      "\u001B[0;31mTypeError\u001B[0m                                 Traceback (most recent call last)",
      "Cell \u001B[0;32mIn[3], line 20\u001B[0m, in \u001B[0;36mget_driver\u001B[0;34m(chrome_path, chrome_options, url)\u001B[0m\n\u001B[1;32m     19\u001B[0m \u001B[38;5;28;01mtry\u001B[39;00m:\n\u001B[0;32m---> 20\u001B[0m     driver \u001B[38;5;241m=\u001B[39m \u001B[43mwebdriver\u001B[49m\u001B[38;5;241;43m.\u001B[39;49m\u001B[43mChrome\u001B[49m\u001B[43m(\u001B[49m\u001B[43mchrome_path\u001B[49m\u001B[43m,\u001B[49m\u001B[43m \u001B[49m\u001B[43moptions\u001B[49m\u001B[38;5;241;43m=\u001B[39;49m\u001B[43mchrome_options\u001B[49m\u001B[43m)\u001B[49m\n\u001B[1;32m     21\u001B[0m \u001B[38;5;28;01mexcept\u001B[39;00m \u001B[38;5;167;01mException\u001B[39;00m:\n",
      "\u001B[0;31mTypeError\u001B[0m: WebDriver.__init__() got multiple values for argument 'options'",
      "\nDuring handling of the above exception, another exception occurred:\n",
      "\u001B[0;31mNameError\u001B[0m                                 Traceback (most recent call last)",
      "Cell \u001B[0;32mIn[3], line 61\u001B[0m, in \u001B[0;36mget_list\u001B[0;34m(chrome_path, chrome_options)\u001B[0m\n\u001B[1;32m     60\u001B[0m \u001B[38;5;28;01mtry\u001B[39;00m:\n\u001B[0;32m---> 61\u001B[0m     driver \u001B[38;5;241m=\u001B[39m \u001B[43mget_driver\u001B[49m\u001B[43m(\u001B[49m\u001B[43mchrome_path\u001B[49m\u001B[43m,\u001B[49m\u001B[43m \u001B[49m\u001B[43mchrome_options\u001B[49m\u001B[43m,\u001B[49m\u001B[43m \u001B[49m\u001B[43mbase_url\u001B[49m\u001B[43m)\u001B[49m\n\u001B[1;32m     62\u001B[0m \u001B[38;5;28;01mexcept\u001B[39;00m \u001B[38;5;167;01mException\u001B[39;00m:\n",
      "Cell \u001B[0;32mIn[3], line 23\u001B[0m, in \u001B[0;36mget_driver\u001B[0;34m(chrome_path, chrome_options, url)\u001B[0m\n\u001B[1;32m     22\u001B[0m count \u001B[38;5;241m=\u001B[39m count \u001B[38;5;241m+\u001B[39m \u001B[38;5;241m1\u001B[39m\n\u001B[0;32m---> 23\u001B[0m \u001B[43mclean_up\u001B[49m()\n\u001B[1;32m     24\u001B[0m \u001B[38;5;28;01mif\u001B[39;00m driver: driver\u001B[38;5;241m.\u001B[39mquit()\n",
      "\u001B[0;31mNameError\u001B[0m: name 'clean_up' is not defined",
      "\nDuring handling of the above exception, another exception occurred:\n",
      "\u001B[0;31mUnboundLocalError\u001B[0m                         Traceback (most recent call last)",
      "Cell \u001B[0;32mIn[4], line 1\u001B[0m\n\u001B[0;32m----> 1\u001B[0m \u001B[43mget_list\u001B[49m\u001B[43m(\u001B[49m\u001B[43mchrome_path\u001B[49m\u001B[43m,\u001B[49m\u001B[43m \u001B[49m\u001B[43mchrome_options\u001B[49m\u001B[43m)\u001B[49m\n",
      "Cell \u001B[0;32mIn[3], line 63\u001B[0m, in \u001B[0;36mget_list\u001B[0;34m(chrome_path, chrome_options)\u001B[0m\n\u001B[1;32m     61\u001B[0m     driver \u001B[38;5;241m=\u001B[39m get_driver(chrome_path, chrome_options, base_url)\n\u001B[1;32m     62\u001B[0m \u001B[38;5;28;01mexcept\u001B[39;00m \u001B[38;5;167;01mException\u001B[39;00m:\n\u001B[0;32m---> 63\u001B[0m     reset_driver(\u001B[43mdriver\u001B[49m, chrome_path, chrome_options, base_url)\n\u001B[1;32m     65\u001B[0m dataframe \u001B[38;5;241m=\u001B[39m pd\u001B[38;5;241m.\u001B[39mDataFrame(columns \u001B[38;5;241m=\u001B[39m [\u001B[38;5;124m'\u001B[39m\u001B[38;5;124mtitle\u001B[39m\u001B[38;5;124m'\u001B[39m, \u001B[38;5;124m'\u001B[39m\u001B[38;5;124murl\u001B[39m\u001B[38;5;124m'\u001B[39m])\n\u001B[1;32m     66\u001B[0m count \u001B[38;5;241m=\u001B[39m \u001B[38;5;241m0\u001B[39m\n",
      "\u001B[0;31mUnboundLocalError\u001B[0m: local variable 'driver' referenced before assignment"
     ]
    }
   ],
   "source": [
    "get_list(chrome_path, chrome_options)"
   ]
  },
  {
   "cell_type": "code",
   "execution_count": 7,
   "id": "4120178d",
   "metadata": {},
   "outputs": [
    {
     "name": "stdout",
     "output_type": "stream",
     "text": [
      "                                                 title  \\\n",
      "0    https://home.treasury.gov/news/press-releases/...   \n",
      "1    https://home.treasury.gov/news/press-releases/...   \n",
      "2    https://home.treasury.gov/news/press-releases/...   \n",
      "3    https://home.treasury.gov/news/press-releases/...   \n",
      "4    https://home.treasury.gov/news/press-releases/...   \n",
      "..                                                 ...   \n",
      "976  https://home.treasury.gov/news/press-releases/...   \n",
      "977  https://home.treasury.gov/news/press-releases/...   \n",
      "978  https://home.treasury.gov/news/press-releases/...   \n",
      "979  https://home.treasury.gov/news/press-releases/...   \n",
      "980  https://home.treasury.gov/news/press-releases/...   \n",
      "\n",
      "                                                   url  \n",
      "0    Under Secretary for International Affairs Davi...  \n",
      "1    Deputy Assistant Secretary Sobel Remarks on th...  \n",
      "2    Interim Assistant Secretary for Financial Stab...  \n",
      "3    Opening Remarks by Secretary Henry M. Paulson,...  \n",
      "4    Secretary Henry M. Paulson, Jr. Remarks on U.S...  \n",
      "..                                                 ...  \n",
      "976  Remarks by Chief Recovery Officer Jacob Leiben...  \n",
      "977  Remarks by Deputy Secretary of the Treasury Wa...  \n",
      "978  Remarks by Secretary of the Treasury Janet L. ...  \n",
      "979  Remarks by Deputy Secretary of the Treasury Wa...  \n",
      "980  Remarks by Secretary of the Treasury Janet L. ...  \n",
      "\n",
      "[981 rows x 2 columns]\n"
     ]
    }
   ],
   "source": [
    "url_list = pd.DataFrame()\n",
    "for i in range(6, 24):\n",
    "    temp = pd.read_csv('C:/Users/cafel/Desktop/USDT/USDT_article_url/USDT_article_url_20{:02d}.csv'.format(i), encoding='utf-8-sig')\n",
    "    url_list = pd.concat([url_list, temp], ignore_index=True)\n",
    "\n",
    "# Print or use url_list as needed\n",
    "print(url_list)"
   ]
  },
  {
   "cell_type": "code",
   "execution_count": 8,
   "id": "5cd7ebf6",
   "metadata": {},
   "outputs": [],
   "source": [
    "def get_review(chrome_path, chrome_options, url_list):\n",
    "    for i in tqdm(range(656, len(url_list))):\n",
    "        base_url = url_list['title'][i]\n",
    "        try:\n",
    "            driver = get_driver(chrome_path, chrome_options, base_url)\n",
    "        except Exception:\n",
    "            reset_driver(driver, chrome_path, chrome_options, base_url)\n",
    "        \n",
    "        action = ActionChains(driver)\n",
    "        \n",
    "        dataframe = pd.DataFrame(columns = ['title', 'date', 'content'])\n",
    "        datas = []\n",
    "\n",
    "        try:\n",
    "            selenium_scroll_down(driver)\n",
    "            main = WebDriverWait(driver, 5).until(EC.visibility_of_element_located((By.CLASS_NAME, 'clearfix.content__container'))).find_element(By.CLASS_NAME, 'region.region-content')\n",
    "            title = main.find_element(By.CSS_SELECTOR, '#block-hamilton-page-title > h2 > span').text\n",
    "            date = main.find_element(By.CSS_SELECTOR, '#block-hamilton-content > article > div > div.date-format.field.field--name-field-news-publication-date.field--type-datetime.field--label-hidden.field__item > time').text.replace(' ','-').replace(',','')\n",
    "            paragraphs = main.find_elements(By.CSS_SELECTOR, '#block-hamilton-content > article > div > div.clearfix.text-formatted.field.field--name-field-news-body.field--type-text-long.field--label-hidden.field__item > p')\n",
    "            content = ''\n",
    "            \n",
    "            for paragraph in paragraphs:\n",
    "                temp = paragraph.text\n",
    "                content = content + ' ' + temp\n",
    "            \n",
    "        except Exception:\n",
    "            title = None\n",
    "            date = None\n",
    "            content = None\n",
    "            \n",
    "        data = {'title': title, 'date': date, 'content': content}\n",
    "        datas.append(data)\n",
    "        driver.close()\n",
    "        \n",
    "        dataframe = write_data(dataframe, datas)\n",
    "        dataframe.to_csv('C:/Users/cafel/Desktop/USDT/USDT_article/{}.csv'.format(i), encoding ='utf-8-sig', index=False)\n",
    "    \n",
    "    print(\"End\")"
   ]
  },
  {
   "cell_type": "code",
   "execution_count": 9,
   "id": "b42712ff",
   "metadata": {},
   "outputs": [
    {
     "name": "stderr",
     "output_type": "stream",
     "text": [
      "100%|████████████████████████████████████████████████████████████████████████████████| 325/325 [31:06<00:00,  5.74s/it]\n"
     ]
    },
    {
     "name": "stdout",
     "output_type": "stream",
     "text": [
      "End\n"
     ]
    }
   ],
   "source": [
    "get_review(chrome_path, chrome_options, url_list)"
   ]
  },
  {
   "cell_type": "code",
   "execution_count": 27,
   "id": "dc52a154",
   "metadata": {},
   "outputs": [
    {
     "name": "stderr",
     "output_type": "stream",
     "text": [
      "100%|███████████████████████████████████████████████████████████████████████████████| 981/981 [00:01<00:00, 575.12it/s]\n"
     ]
    },
    {
     "name": "stdout",
     "output_type": "stream",
     "text": [
      "                                                 title              date  \\\n",
      "0    Under Secretary for International Affairs Davi...  December-16-2008   \n",
      "1    Deputy Assistant Secretary Sobel Remarks on th...  December-10-2008   \n",
      "2    Interim Assistant Secretary for Financial Stab...   December-5-2008   \n",
      "3    Opening Remarks by Secretary Henry M. Paulson,...   December-3-2008   \n",
      "4    Secretary Henry M. Paulson, Jr. Remarks on U.S...   December-2-2008   \n",
      "..                                                 ...               ...   \n",
      "976  Remarks by Chief Recovery Officer Jacob Leiben...   January-19-2023   \n",
      "977  Remarks by Deputy Secretary of the Treasury Wa...   January-18-2023   \n",
      "978  Remarks by Secretary of the Treasury Janet L. ...   January-18-2023   \n",
      "979  Remarks by Deputy Secretary of the Treasury Wa...   January-17-2023   \n",
      "980  Remarks by Secretary of the Treasury Janet L. ...   January-10-2023   \n",
      "\n",
      "                                               content  \n",
      "0      HP-1329 On U.S.-Asia Economic Relations at t...  \n",
      "1                                              HP-1325  \n",
      "2      hp-1314   Today, I will focus my remarks on ...  \n",
      "3      HP-1308 At the U.S. – China Strategic Econom...  \n",
      "4      HP-1306 Washington- Good afternoon.   I am p...  \n",
      "..                                                 ...  \n",
      "976   WASHINGTON – Today, Chief Recovery Officer Ja...  \n",
      "977   WASHINGTON – Today, the U.S. Department of th...  \n",
      "978   As Prepared for Delivery Vice Premier Liu, I ...  \n",
      "979   As prepared for delivery Thank you, Secretary...  \n",
      "980   As prepared for delivery Deputy Prime Ministe...  \n",
      "\n",
      "[981 rows x 3 columns]\n"
     ]
    }
   ],
   "source": [
    "article_list = pd.DataFrame()\n",
    "\n",
    "for i in tqdm(range(len(url_list))):\n",
    "    temp = pd.read_csv('C:/Users/cafel/Desktop/USDT/USDT_article/{}.csv'.format(i), encoding='utf-8-sig')\n",
    "    \n",
    "    # Replace multiple values in the 'content' column using re.sub\n",
    "    temp['content'] = temp['content'].replace(['-30-', '###', 'Archived Content'], '', regex=True)\n",
    "    \n",
    "    # Apply re.sub only to non-null string values\n",
    "    temp['content'] = temp['content'].apply(lambda x: re.sub(\"[()]\", \"\", str(x)) if pd.notnull(x) else x)\n",
    "    \n",
    "    article_list = pd.concat([article_list, temp], ignore_index=True)\n",
    "\n",
    "# Print or use article_list as needed\n",
    "print(article_list)"
   ]
  },
  {
   "cell_type": "code",
   "execution_count": 28,
   "id": "14190557",
   "metadata": {},
   "outputs": [],
   "source": [
    "article_list.to_csv('C:/Users/cafel/Desktop/USDT/USDT_article_total.csv', encoding ='utf-8-sig', index=False)"
   ]
  }
 ],
 "metadata": {
  "kernelspec": {
   "display_name": "Python 3 (ipykernel)",
   "language": "python",
   "name": "python3"
  },
  "language_info": {
   "codemirror_mode": {
    "name": "ipython",
    "version": 3
   },
   "file_extension": ".py",
   "mimetype": "text/x-python",
   "name": "python",
   "nbconvert_exporter": "python",
   "pygments_lexer": "ipython3",
   "version": "3.10.5"
  }
 },
 "nbformat": 4,
 "nbformat_minor": 5
}
