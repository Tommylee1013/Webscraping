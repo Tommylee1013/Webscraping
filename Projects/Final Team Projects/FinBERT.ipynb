{
 "cells": [
  {
   "cell_type": "markdown",
   "id": "152cd0730265ec40",
   "metadata": {},
   "source": [
    "### FINBERT"
   ]
  },
  {
   "cell_type": "code",
   "execution_count": 1,
   "id": "initial_id",
   "metadata": {
    "collapsed": true,
    "ExecuteTime": {
     "end_time": "2023-12-02T08:06:18.438372Z",
     "start_time": "2023-12-02T08:06:13.990033Z"
    }
   },
   "outputs": [],
   "source": [
    "import numpy as np\n",
    "import pandas as pd\n",
    "import torch\n",
    "from transformers import AutoTokenizer, AutoModelForSequenceClassification\n",
    "from torch.utils.data import DataLoader, TensorDataset\n",
    "import nltk\n",
    "from nltk.corpus import stopwords\n",
    "\n",
    "model_name = \"yiyanghkust/finbert-tone\"\n",
    "tokenizer = AutoTokenizer.from_pretrained(model_name)\n",
    "model = AutoModelForSequenceClassification.from_pretrained(model_name)"
   ]
  },
  {
   "cell_type": "code",
   "execution_count": 2,
   "id": "2b01af21be694ed8",
   "metadata": {
    "ExecuteTime": {
     "end_time": "2023-12-02T08:06:18.447225Z",
     "start_time": "2023-12-02T08:06:18.438598Z"
    }
   },
   "outputs": [],
   "source": [
    "import warnings\n",
    "warnings.simplefilter(action='ignore', category=FutureWarning) # FutureWarning 제거"
   ]
  },
  {
   "cell_type": "markdown",
   "id": "73f7355648784ca6",
   "metadata": {},
   "source": [
    "#### Speech Data"
   ]
  },
  {
   "cell_type": "code",
   "execution_count": 3,
   "id": "c34bc09f52aa5e79",
   "metadata": {
    "ExecuteTime": {
     "end_time": "2023-11-30T08:26:20.032831Z",
     "start_time": "2023-11-30T08:26:19.537190Z"
    }
   },
   "outputs": [],
   "source": [
    "speech = pd.read_excel('../../Data/Final/speech_df.xlsx', index_col = 1)"
   ]
  },
  {
   "cell_type": "code",
   "execution_count": 4,
   "id": "b3dd6cc2c23bd2f1",
   "metadata": {
    "ExecuteTime": {
     "end_time": "2023-11-30T08:26:20.893301Z",
     "start_time": "2023-11-30T08:26:20.878956Z"
    }
   },
   "outputs": [
    {
     "data": {
      "text/html": [
       "<div>\n",
       "<style scoped>\n",
       "    .dataframe tbody tr th:only-of-type {\n",
       "        vertical-align: middle;\n",
       "    }\n",
       "\n",
       "    .dataframe tbody tr th {\n",
       "        vertical-align: top;\n",
       "    }\n",
       "\n",
       "    .dataframe thead th {\n",
       "        text-align: right;\n",
       "    }\n",
       "</style>\n",
       "<table border=\"1\" class=\"dataframe\">\n",
       "  <thead>\n",
       "    <tr style=\"text-align: right;\">\n",
       "      <th></th>\n",
       "      <th>Unnamed: 0</th>\n",
       "      <th>title</th>\n",
       "      <th>speaker</th>\n",
       "      <th>speech</th>\n",
       "    </tr>\n",
       "    <tr>\n",
       "      <th>date</th>\n",
       "      <th></th>\n",
       "      <th></th>\n",
       "      <th></th>\n",
       "      <th></th>\n",
       "    </tr>\n",
       "  </thead>\n",
       "  <tbody>\n",
       "    <tr>\n",
       "      <th>November 16, 2023</th>\n",
       "      <td>0</td>\n",
       "      <td>Global Linkages:  Supply, Spillovers, and Comm...</td>\n",
       "      <td>Governor Lisa D. Cook</td>\n",
       "      <td>Thank you, Sylvain, and thank you for the opp...</td>\n",
       "    </tr>\n",
       "    <tr>\n",
       "      <th>November 16, 2023</th>\n",
       "      <td>1</td>\n",
       "      <td>The 2023 U.S. Treasury Market Conference</td>\n",
       "      <td>Vice Chair for Supervision Michael S. Barr</td>\n",
       "      <td>I am pleased to join you today at the ninth a...</td>\n",
       "    </tr>\n",
       "    <tr>\n",
       "      <th>November 14, 2023</th>\n",
       "      <td>2</td>\n",
       "      <td>Elevated Economic Uncertainty: Causes and Cons...</td>\n",
       "      <td>Vice Chair Philip N. Jefferson</td>\n",
       "      <td>Introduction \\nThank you for the opportunity ...</td>\n",
       "    </tr>\n",
       "    <tr>\n",
       "      <th>November 13, 2023</th>\n",
       "      <td>3</td>\n",
       "      <td>Welcoming Remarks</td>\n",
       "      <td>Governor Lisa D. Cook</td>\n",
       "      <td>Good morning, and welcome to the 5th annual c...</td>\n",
       "    </tr>\n",
       "    <tr>\n",
       "      <th>November 09, 2023</th>\n",
       "      <td>4</td>\n",
       "      <td>Opening Remarks</td>\n",
       "      <td>Chair Jerome H. Powell</td>\n",
       "      <td>Thank you for the opportunity to participate ...</td>\n",
       "    </tr>\n",
       "    <tr>\n",
       "      <th>...</th>\n",
       "      <td>...</td>\n",
       "      <td>...</td>\n",
       "      <td>...</td>\n",
       "      <td>...</td>\n",
       "    </tr>\n",
       "    <tr>\n",
       "      <th>February 24, 2006</th>\n",
       "      <td>1041</td>\n",
       "      <td>The Benefits of Price Stability</td>\n",
       "      <td>Chairman Ben S. Bernanke</td>\n",
       "      <td>It is a great pleasure for me to return to Pr...</td>\n",
       "    </tr>\n",
       "    <tr>\n",
       "      <th>February 23, 2006</th>\n",
       "      <td>1042</td>\n",
       "      <td>Globalization, Insurers, and Regulators: Share...</td>\n",
       "      <td>Vice Chairman Roger W. Ferguson, Jr.</td>\n",
       "      <td>I am honored to deliver the keynote address a...</td>\n",
       "    </tr>\n",
       "    <tr>\n",
       "      <th>February 06, 2006</th>\n",
       "      <td>1043</td>\n",
       "      <td>Remarks at ceremonial swearing-in by President...</td>\n",
       "      <td>Chairman Ben S. Bernanke</td>\n",
       "      <td>Good morning. I would like to begin by thanki...</td>\n",
       "    </tr>\n",
       "    <tr>\n",
       "      <th>February 02, 2006</th>\n",
       "      <td>1044</td>\n",
       "      <td>The Continuous Challenges of Risk Management</td>\n",
       "      <td>Governor Susan Schmidt Bies</td>\n",
       "      <td>I thank you for the invitation to speak today...</td>\n",
       "    </tr>\n",
       "    <tr>\n",
       "      <th>January 18, 2006</th>\n",
       "      <td>1045</td>\n",
       "      <td>Productivity and Economic Outlook</td>\n",
       "      <td>Governor Susan Schmidt Bies</td>\n",
       "      <td>I appreciate the opportunity to speak with yo...</td>\n",
       "    </tr>\n",
       "  </tbody>\n",
       "</table>\n",
       "<p>1046 rows × 4 columns</p>\n",
       "</div>"
      ],
      "text/plain": [
       "                   Unnamed: 0  \\\n",
       "date                            \n",
       "November 16, 2023           0   \n",
       "November 16, 2023           1   \n",
       "November 14, 2023           2   \n",
       "November 13, 2023           3   \n",
       "November 09, 2023           4   \n",
       "...                       ...   \n",
       "February 24, 2006        1041   \n",
       "February 23, 2006        1042   \n",
       "February 06, 2006        1043   \n",
       "February 02, 2006        1044   \n",
       "January 18, 2006         1045   \n",
       "\n",
       "                                                               title  \\\n",
       "date                                                                   \n",
       "November 16, 2023  Global Linkages:  Supply, Spillovers, and Comm...   \n",
       "November 16, 2023           The 2023 U.S. Treasury Market Conference   \n",
       "November 14, 2023  Elevated Economic Uncertainty: Causes and Cons...   \n",
       "November 13, 2023                                  Welcoming Remarks   \n",
       "November 09, 2023                                    Opening Remarks   \n",
       "...                                                              ...   \n",
       "February 24, 2006                    The Benefits of Price Stability   \n",
       "February 23, 2006  Globalization, Insurers, and Regulators: Share...   \n",
       "February 06, 2006  Remarks at ceremonial swearing-in by President...   \n",
       "February 02, 2006       The Continuous Challenges of Risk Management   \n",
       "January 18, 2006                   Productivity and Economic Outlook   \n",
       "\n",
       "                                                      speaker  \\\n",
       "date                                                            \n",
       "November 16, 2023                       Governor Lisa D. Cook   \n",
       "November 16, 2023  Vice Chair for Supervision Michael S. Barr   \n",
       "November 14, 2023              Vice Chair Philip N. Jefferson   \n",
       "November 13, 2023                       Governor Lisa D. Cook   \n",
       "November 09, 2023                      Chair Jerome H. Powell   \n",
       "...                                                       ...   \n",
       "February 24, 2006                    Chairman Ben S. Bernanke   \n",
       "February 23, 2006        Vice Chairman Roger W. Ferguson, Jr.   \n",
       "February 06, 2006                    Chairman Ben S. Bernanke   \n",
       "February 02, 2006                 Governor Susan Schmidt Bies   \n",
       "January 18, 2006                  Governor Susan Schmidt Bies   \n",
       "\n",
       "                                                              speech  \n",
       "date                                                                  \n",
       "November 16, 2023   Thank you, Sylvain, and thank you for the opp...  \n",
       "November 16, 2023   I am pleased to join you today at the ninth a...  \n",
       "November 14, 2023   Introduction \\nThank you for the opportunity ...  \n",
       "November 13, 2023   Good morning, and welcome to the 5th annual c...  \n",
       "November 09, 2023   Thank you for the opportunity to participate ...  \n",
       "...                                                              ...  \n",
       "February 24, 2006   It is a great pleasure for me to return to Pr...  \n",
       "February 23, 2006   I am honored to deliver the keynote address a...  \n",
       "February 06, 2006   Good morning. I would like to begin by thanki...  \n",
       "February 02, 2006   I thank you for the invitation to speak today...  \n",
       "January 18, 2006    I appreciate the opportunity to speak with yo...  \n",
       "\n",
       "[1046 rows x 4 columns]"
      ]
     },
     "execution_count": 4,
     "metadata": {},
     "output_type": "execute_result"
    }
   ],
   "source": [
    "speech"
   ]
  },
  {
   "cell_type": "code",
   "execution_count": 5,
   "id": "a0e23952df3a961b",
   "metadata": {
    "ExecuteTime": {
     "end_time": "2023-11-30T08:26:23.347243Z",
     "start_time": "2023-11-30T08:26:23.337098Z"
    }
   },
   "outputs": [],
   "source": [
    "speech.index = pd.to_datetime(speech.index)"
   ]
  },
  {
   "cell_type": "code",
   "execution_count": 6,
   "id": "de1608554087b03e",
   "metadata": {
    "ExecuteTime": {
     "end_time": "2023-11-30T08:26:23.530949Z",
     "start_time": "2023-11-30T08:26:23.523375Z"
    }
   },
   "outputs": [
    {
     "data": {
      "text/html": [
       "<div>\n",
       "<style scoped>\n",
       "    .dataframe tbody tr th:only-of-type {\n",
       "        vertical-align: middle;\n",
       "    }\n",
       "\n",
       "    .dataframe tbody tr th {\n",
       "        vertical-align: top;\n",
       "    }\n",
       "\n",
       "    .dataframe thead th {\n",
       "        text-align: right;\n",
       "    }\n",
       "</style>\n",
       "<table border=\"1\" class=\"dataframe\">\n",
       "  <thead>\n",
       "    <tr style=\"text-align: right;\">\n",
       "      <th></th>\n",
       "      <th>Unnamed: 0</th>\n",
       "      <th>title</th>\n",
       "      <th>speaker</th>\n",
       "      <th>speech</th>\n",
       "    </tr>\n",
       "    <tr>\n",
       "      <th>date</th>\n",
       "      <th></th>\n",
       "      <th></th>\n",
       "      <th></th>\n",
       "      <th></th>\n",
       "    </tr>\n",
       "  </thead>\n",
       "  <tbody>\n",
       "    <tr>\n",
       "      <th>2023-11-16</th>\n",
       "      <td>0</td>\n",
       "      <td>Global Linkages:  Supply, Spillovers, and Comm...</td>\n",
       "      <td>Governor Lisa D. Cook</td>\n",
       "      <td>Thank you, Sylvain, and thank you for the opp...</td>\n",
       "    </tr>\n",
       "    <tr>\n",
       "      <th>2023-11-16</th>\n",
       "      <td>1</td>\n",
       "      <td>The 2023 U.S. Treasury Market Conference</td>\n",
       "      <td>Vice Chair for Supervision Michael S. Barr</td>\n",
       "      <td>I am pleased to join you today at the ninth a...</td>\n",
       "    </tr>\n",
       "    <tr>\n",
       "      <th>2023-11-14</th>\n",
       "      <td>2</td>\n",
       "      <td>Elevated Economic Uncertainty: Causes and Cons...</td>\n",
       "      <td>Vice Chair Philip N. Jefferson</td>\n",
       "      <td>Introduction \\nThank you for the opportunity ...</td>\n",
       "    </tr>\n",
       "    <tr>\n",
       "      <th>2023-11-13</th>\n",
       "      <td>3</td>\n",
       "      <td>Welcoming Remarks</td>\n",
       "      <td>Governor Lisa D. Cook</td>\n",
       "      <td>Good morning, and welcome to the 5th annual c...</td>\n",
       "    </tr>\n",
       "    <tr>\n",
       "      <th>2023-11-09</th>\n",
       "      <td>4</td>\n",
       "      <td>Opening Remarks</td>\n",
       "      <td>Chair Jerome H. Powell</td>\n",
       "      <td>Thank you for the opportunity to participate ...</td>\n",
       "    </tr>\n",
       "    <tr>\n",
       "      <th>...</th>\n",
       "      <td>...</td>\n",
       "      <td>...</td>\n",
       "      <td>...</td>\n",
       "      <td>...</td>\n",
       "    </tr>\n",
       "    <tr>\n",
       "      <th>2006-02-24</th>\n",
       "      <td>1041</td>\n",
       "      <td>The Benefits of Price Stability</td>\n",
       "      <td>Chairman Ben S. Bernanke</td>\n",
       "      <td>It is a great pleasure for me to return to Pr...</td>\n",
       "    </tr>\n",
       "    <tr>\n",
       "      <th>2006-02-23</th>\n",
       "      <td>1042</td>\n",
       "      <td>Globalization, Insurers, and Regulators: Share...</td>\n",
       "      <td>Vice Chairman Roger W. Ferguson, Jr.</td>\n",
       "      <td>I am honored to deliver the keynote address a...</td>\n",
       "    </tr>\n",
       "    <tr>\n",
       "      <th>2006-02-06</th>\n",
       "      <td>1043</td>\n",
       "      <td>Remarks at ceremonial swearing-in by President...</td>\n",
       "      <td>Chairman Ben S. Bernanke</td>\n",
       "      <td>Good morning. I would like to begin by thanki...</td>\n",
       "    </tr>\n",
       "    <tr>\n",
       "      <th>2006-02-02</th>\n",
       "      <td>1044</td>\n",
       "      <td>The Continuous Challenges of Risk Management</td>\n",
       "      <td>Governor Susan Schmidt Bies</td>\n",
       "      <td>I thank you for the invitation to speak today...</td>\n",
       "    </tr>\n",
       "    <tr>\n",
       "      <th>2006-01-18</th>\n",
       "      <td>1045</td>\n",
       "      <td>Productivity and Economic Outlook</td>\n",
       "      <td>Governor Susan Schmidt Bies</td>\n",
       "      <td>I appreciate the opportunity to speak with yo...</td>\n",
       "    </tr>\n",
       "  </tbody>\n",
       "</table>\n",
       "<p>1046 rows × 4 columns</p>\n",
       "</div>"
      ],
      "text/plain": [
       "            Unnamed: 0                                              title  \\\n",
       "date                                                                        \n",
       "2023-11-16           0  Global Linkages:  Supply, Spillovers, and Comm...   \n",
       "2023-11-16           1           The 2023 U.S. Treasury Market Conference   \n",
       "2023-11-14           2  Elevated Economic Uncertainty: Causes and Cons...   \n",
       "2023-11-13           3                                  Welcoming Remarks   \n",
       "2023-11-09           4                                    Opening Remarks   \n",
       "...                ...                                                ...   \n",
       "2006-02-24        1041                    The Benefits of Price Stability   \n",
       "2006-02-23        1042  Globalization, Insurers, and Regulators: Share...   \n",
       "2006-02-06        1043  Remarks at ceremonial swearing-in by President...   \n",
       "2006-02-02        1044       The Continuous Challenges of Risk Management   \n",
       "2006-01-18        1045                  Productivity and Economic Outlook   \n",
       "\n",
       "                                               speaker  \\\n",
       "date                                                     \n",
       "2023-11-16                       Governor Lisa D. Cook   \n",
       "2023-11-16  Vice Chair for Supervision Michael S. Barr   \n",
       "2023-11-14              Vice Chair Philip N. Jefferson   \n",
       "2023-11-13                       Governor Lisa D. Cook   \n",
       "2023-11-09                      Chair Jerome H. Powell   \n",
       "...                                                ...   \n",
       "2006-02-24                    Chairman Ben S. Bernanke   \n",
       "2006-02-23        Vice Chairman Roger W. Ferguson, Jr.   \n",
       "2006-02-06                    Chairman Ben S. Bernanke   \n",
       "2006-02-02                 Governor Susan Schmidt Bies   \n",
       "2006-01-18                 Governor Susan Schmidt Bies   \n",
       "\n",
       "                                                       speech  \n",
       "date                                                           \n",
       "2023-11-16   Thank you, Sylvain, and thank you for the opp...  \n",
       "2023-11-16   I am pleased to join you today at the ninth a...  \n",
       "2023-11-14   Introduction \\nThank you for the opportunity ...  \n",
       "2023-11-13   Good morning, and welcome to the 5th annual c...  \n",
       "2023-11-09   Thank you for the opportunity to participate ...  \n",
       "...                                                       ...  \n",
       "2006-02-24   It is a great pleasure for me to return to Pr...  \n",
       "2006-02-23   I am honored to deliver the keynote address a...  \n",
       "2006-02-06   Good morning. I would like to begin by thanki...  \n",
       "2006-02-02   I thank you for the invitation to speak today...  \n",
       "2006-01-18   I appreciate the opportunity to speak with yo...  \n",
       "\n",
       "[1046 rows x 4 columns]"
      ]
     },
     "execution_count": 6,
     "metadata": {},
     "output_type": "execute_result"
    }
   ],
   "source": [
    "speech"
   ]
  },
  {
   "cell_type": "code",
   "execution_count": 7,
   "id": "480cd233401b5367",
   "metadata": {
    "ExecuteTime": {
     "end_time": "2023-11-30T08:26:37.331002Z",
     "start_time": "2023-11-30T08:26:37.151829Z"
    }
   },
   "outputs": [
    {
     "name": "stderr",
     "output_type": "stream",
     "text": [
      "[nltk_data] Downloading package stopwords to\n",
      "[nltk_data]     /Users/junghunlee/nltk_data...\n",
      "[nltk_data]   Package stopwords is already up-to-date!\n"
     ]
    }
   ],
   "source": [
    "daily_sentiments = pd.DataFrame(columns = [\"Date\", \"Positive\", \"Negative\", \"Neutral\"])\n",
    "unique_dates = speech.index.unique()\n",
    "nltk.download(\"stopwords\")\n",
    "stop_words = set(stopwords.words(\"english\"))"
   ]
  },
  {
   "cell_type": "code",
   "execution_count": 8,
   "id": "55129504bafd4c6d",
   "metadata": {
    "ExecuteTime": {
     "end_time": "2023-11-30T08:26:44.845288Z",
     "start_time": "2023-11-30T08:26:38.346271Z"
    }
   },
   "outputs": [],
   "source": [
    "text_for_date = speech[\"speech\"].tolist()\n",
    "\n",
    "tokenized_texts = [\n",
    "        [word for word in tokenizer.tokenize(text) if word.lower() not in stop_words]\n",
    "        for text in text_for_date]"
   ]
  },
  {
   "cell_type": "code",
   "execution_count": 9,
   "id": "c840a8e9bba7877f",
   "metadata": {
    "ExecuteTime": {
     "end_time": "2023-11-30T08:26:51.246477Z",
     "start_time": "2023-11-30T08:26:51.242732Z"
    }
   },
   "outputs": [
    {
     "data": {
      "text/plain": [
       "4761"
      ]
     },
     "execution_count": 9,
     "metadata": {},
     "output_type": "execute_result"
    }
   ],
   "source": [
    "len(max(tokenized_texts, key = len))"
   ]
  },
  {
   "cell_type": "code",
   "execution_count": 10,
   "id": "691b5ae812b1f98f",
   "metadata": {
    "ExecuteTime": {
     "end_time": "2023-11-30T08:29:12.321581Z",
     "start_time": "2023-11-30T08:27:41.065383Z"
    }
   },
   "outputs": [
    {
     "name": "stderr",
     "output_type": "stream",
     "text": [
      "[nltk_data] Downloading package stopwords to\n",
      "[nltk_data]     /Users/junghunlee/nltk_data...\n",
      "[nltk_data]   Package stopwords is already up-to-date!\n"
     ]
    },
    {
     "name": "stdout",
     "output_type": "stream",
     "text": [
      "spent time : 91.2483651638031\n"
     ]
    },
    {
     "data": {
      "text/html": [
       "<div>\n",
       "<style scoped>\n",
       "    .dataframe tbody tr th:only-of-type {\n",
       "        vertical-align: middle;\n",
       "    }\n",
       "\n",
       "    .dataframe tbody tr th {\n",
       "        vertical-align: top;\n",
       "    }\n",
       "\n",
       "    .dataframe thead th {\n",
       "        text-align: right;\n",
       "    }\n",
       "</style>\n",
       "<table border=\"1\" class=\"dataframe\">\n",
       "  <thead>\n",
       "    <tr style=\"text-align: right;\">\n",
       "      <th></th>\n",
       "      <th>Positive</th>\n",
       "      <th>Negative</th>\n",
       "      <th>Neutral</th>\n",
       "    </tr>\n",
       "    <tr>\n",
       "      <th>Date</th>\n",
       "      <th></th>\n",
       "      <th></th>\n",
       "      <th></th>\n",
       "    </tr>\n",
       "  </thead>\n",
       "  <tbody>\n",
       "    <tr>\n",
       "      <th>2023-11-16</th>\n",
       "      <td>9.260676e-05</td>\n",
       "      <td>6.362590e-01</td>\n",
       "      <td>0.363648</td>\n",
       "    </tr>\n",
       "    <tr>\n",
       "      <th>2023-11-14</th>\n",
       "      <td>8.614503e-05</td>\n",
       "      <td>9.999092e-01</td>\n",
       "      <td>0.000005</td>\n",
       "    </tr>\n",
       "    <tr>\n",
       "      <th>2023-11-13</th>\n",
       "      <td>3.063124e-06</td>\n",
       "      <td>2.920278e-03</td>\n",
       "      <td>0.997077</td>\n",
       "    </tr>\n",
       "    <tr>\n",
       "      <th>2023-11-09</th>\n",
       "      <td>3.795873e-05</td>\n",
       "      <td>4.946647e-01</td>\n",
       "      <td>0.505297</td>\n",
       "    </tr>\n",
       "    <tr>\n",
       "      <th>2023-11-08</th>\n",
       "      <td>2.169078e-04</td>\n",
       "      <td>6.716564e-01</td>\n",
       "      <td>0.328127</td>\n",
       "    </tr>\n",
       "    <tr>\n",
       "      <th>...</th>\n",
       "      <td>...</td>\n",
       "      <td>...</td>\n",
       "      <td>...</td>\n",
       "    </tr>\n",
       "    <tr>\n",
       "      <th>2006-02-24</th>\n",
       "      <td>5.051418e-06</td>\n",
       "      <td>9.862870e-01</td>\n",
       "      <td>0.013708</td>\n",
       "    </tr>\n",
       "    <tr>\n",
       "      <th>2006-02-23</th>\n",
       "      <td>9.557231e-06</td>\n",
       "      <td>8.381755e-04</td>\n",
       "      <td>0.999152</td>\n",
       "    </tr>\n",
       "    <tr>\n",
       "      <th>2006-02-06</th>\n",
       "      <td>1.203636e-05</td>\n",
       "      <td>9.765797e-01</td>\n",
       "      <td>0.023408</td>\n",
       "    </tr>\n",
       "    <tr>\n",
       "      <th>2006-02-02</th>\n",
       "      <td>8.535815e-01</td>\n",
       "      <td>3.401738e-02</td>\n",
       "      <td>0.112401</td>\n",
       "    </tr>\n",
       "    <tr>\n",
       "      <th>2006-01-18</th>\n",
       "      <td>7.971052e-08</td>\n",
       "      <td>2.516444e-07</td>\n",
       "      <td>1.000000</td>\n",
       "    </tr>\n",
       "  </tbody>\n",
       "</table>\n",
       "<p>896 rows × 3 columns</p>\n",
       "</div>"
      ],
      "text/plain": [
       "                Positive      Negative   Neutral\n",
       "Date                                            \n",
       "2023-11-16  9.260676e-05  6.362590e-01  0.363648\n",
       "2023-11-14  8.614503e-05  9.999092e-01  0.000005\n",
       "2023-11-13  3.063124e-06  2.920278e-03  0.997077\n",
       "2023-11-09  3.795873e-05  4.946647e-01  0.505297\n",
       "2023-11-08  2.169078e-04  6.716564e-01  0.328127\n",
       "...                  ...           ...       ...\n",
       "2006-02-24  5.051418e-06  9.862870e-01  0.013708\n",
       "2006-02-23  9.557231e-06  8.381755e-04  0.999152\n",
       "2006-02-06  1.203636e-05  9.765797e-01  0.023408\n",
       "2006-02-02  8.535815e-01  3.401738e-02  0.112401\n",
       "2006-01-18  7.971052e-08  2.516444e-07  1.000000\n",
       "\n",
       "[896 rows x 3 columns]"
      ]
     },
     "execution_count": 10,
     "metadata": {},
     "output_type": "execute_result"
    }
   ],
   "source": [
    "import time \n",
    "start_time = time.time()\n",
    "\n",
    "nltk.download(\"stopwords\")\n",
    "stop_words = set(stopwords.words(\"english\"))\n",
    "\n",
    "for date in unique_dates:    \n",
    "    #text_for_date = data[data[\"rgs_dt\"] == date][\"news_smy_ifo\"].tolist()\n",
    "    text_for_date = speech[speech.index == date][\"speech\"].tolist()\n",
    "\n",
    "    tokenized_texts = [\n",
    "        [word for word in tokenizer.tokenize(text) if word.lower() not in stop_words]\n",
    "        for text in text_for_date\n",
    "    ]\n",
    "\n",
    "    max_token_length = 150\n",
    "\n",
    "    tokenized_texts = [\" \".join(tokens[:max_token_length]) for tokens in tokenized_texts]\n",
    "    inputs = tokenizer(tokenized_texts, padding = True, truncation = True, return_tensors = \"pt\", max_length = max_token_length)\n",
    "\n",
    "    with torch.no_grad():\n",
    "        outputs = model(**inputs)\n",
    "        logits = outputs.logits\n",
    "\n",
    "    probabilities = torch.softmax(logits, dim=1)\n",
    "    positive_prob = probabilities[:, 2].mean().item()\n",
    "    negative_prob = probabilities[:, 0].mean().item()\n",
    "    neutral_prob = probabilities[:, 1].mean().item()\n",
    "    \n",
    "    daily_sentiments = pd.concat([daily_sentiments, \n",
    "                                  pd.DataFrame({\"Date\": date, \n",
    "                                                \"Positive\": positive_prob, \n",
    "                                                \"Negative\": negative_prob, \n",
    "                                                \"Neutral\": neutral_prob}, index = ['0'])],\n",
    "                                 ignore_index = True)\n",
    "\n",
    "print(f'spent time : {time.time() - start_time}')\n",
    "daily_sentiments.index = daily_sentiments.Date\n",
    "daily_sentiments = daily_sentiments.iloc[:,1:]\n",
    "daily_sentiments"
   ]
  },
  {
   "cell_type": "code",
   "execution_count": 11,
   "id": "c3500984d2c0ddfc",
   "metadata": {
    "ExecuteTime": {
     "end_time": "2023-11-30T08:31:48.697545Z",
     "start_time": "2023-11-30T08:31:48.691620Z"
    }
   },
   "outputs": [],
   "source": [
    "daily_sentiments['sentimental_score'] = daily_sentiments['Positive'] - daily_sentiments['Negative'] + daily_sentiments['Neutral'] * 0.5"
   ]
  },
  {
   "cell_type": "code",
   "execution_count": 12,
   "id": "3dfc32205cdd93ec",
   "metadata": {
    "ExecuteTime": {
     "end_time": "2023-11-30T08:31:49.562579Z",
     "start_time": "2023-11-30T08:31:49.288108Z"
    }
   },
   "outputs": [
    {
     "data": {
      "image/png": "[encoded data removed]",
      "text/plain": [
       "<Figure size 640x480 with 1 Axes>"
      ]
     },
     "metadata": {},
     "output_type": "display_data"
    }
   ],
   "source": [
    "import matplotlib.pyplot as plt\n",
    "\n",
    "plt.hist(daily_sentiments['sentimental_score'], bins = 100, color = 'darkorange')\n",
    "plt.grid(False)\n",
    "plt.title(\"Federal Reserve Speeches\", fontsize = 12, fontfamily = 'Serif')\n",
    "plt.show()"
   ]
  },
  {
   "cell_type": "code",
   "execution_count": 13,
   "id": "3ecd239ce71dd092",
   "metadata": {
    "ExecuteTime": {
     "end_time": "2023-11-30T08:31:51.122576Z",
     "start_time": "2023-11-30T08:31:51.094168Z"
    }
   },
   "outputs": [
    {
     "data": {
      "text/html": [
       "<div>\n",
       "<style scoped>\n",
       "    .dataframe tbody tr th:only-of-type {\n",
       "        vertical-align: middle;\n",
       "    }\n",
       "\n",
       "    .dataframe tbody tr th {\n",
       "        vertical-align: top;\n",
       "    }\n",
       "\n",
       "    .dataframe thead th {\n",
       "        text-align: right;\n",
       "    }\n",
       "</style>\n",
       "<table border=\"1\" class=\"dataframe\">\n",
       "  <thead>\n",
       "    <tr style=\"text-align: right;\">\n",
       "      <th></th>\n",
       "      <th>Positive</th>\n",
       "      <th>Negative</th>\n",
       "      <th>Neutral</th>\n",
       "      <th>sentimental_score</th>\n",
       "    </tr>\n",
       "    <tr>\n",
       "      <th>Date</th>\n",
       "      <th></th>\n",
       "      <th></th>\n",
       "      <th></th>\n",
       "      <th></th>\n",
       "    </tr>\n",
       "  </thead>\n",
       "  <tbody>\n",
       "    <tr>\n",
       "      <th>2006-01-31</th>\n",
       "      <td>7.971052e-08</td>\n",
       "      <td>2.516444e-07</td>\n",
       "      <td>1.000000</td>\n",
       "      <td>0.500000</td>\n",
       "    </tr>\n",
       "    <tr>\n",
       "      <th>2006-02-28</th>\n",
       "      <td>2.134020e-01</td>\n",
       "      <td>4.994306e-01</td>\n",
       "      <td>0.287167</td>\n",
       "      <td>-0.142445</td>\n",
       "    </tr>\n",
       "    <tr>\n",
       "      <th>2006-03-31</th>\n",
       "      <td>2.156177e-01</td>\n",
       "      <td>5.577889e-01</td>\n",
       "      <td>0.226593</td>\n",
       "      <td>-0.228875</td>\n",
       "    </tr>\n",
       "    <tr>\n",
       "      <th>2006-04-30</th>\n",
       "      <td>4.671889e-02</td>\n",
       "      <td>4.433666e-01</td>\n",
       "      <td>0.509914</td>\n",
       "      <td>-0.141691</td>\n",
       "    </tr>\n",
       "    <tr>\n",
       "      <th>2006-05-31</th>\n",
       "      <td>1.709526e-04</td>\n",
       "      <td>6.226610e-01</td>\n",
       "      <td>0.377168</td>\n",
       "      <td>-0.433906</td>\n",
       "    </tr>\n",
       "    <tr>\n",
       "      <th>...</th>\n",
       "      <td>...</td>\n",
       "      <td>...</td>\n",
       "      <td>...</td>\n",
       "      <td>...</td>\n",
       "    </tr>\n",
       "    <tr>\n",
       "      <th>2023-07-31</th>\n",
       "      <td>5.476058e-02</td>\n",
       "      <td>6.210716e-01</td>\n",
       "      <td>0.324168</td>\n",
       "      <td>-0.404227</td>\n",
       "    </tr>\n",
       "    <tr>\n",
       "      <th>2023-08-31</th>\n",
       "      <td>5.046593e-04</td>\n",
       "      <td>7.823840e-01</td>\n",
       "      <td>0.217111</td>\n",
       "      <td>-0.673324</td>\n",
       "    </tr>\n",
       "    <tr>\n",
       "      <th>2023-09-30</th>\n",
       "      <td>1.012808e-03</td>\n",
       "      <td>6.145024e-01</td>\n",
       "      <td>0.384485</td>\n",
       "      <td>-0.421247</td>\n",
       "    </tr>\n",
       "    <tr>\n",
       "      <th>2023-10-31</th>\n",
       "      <td>2.448585e-03</td>\n",
       "      <td>7.261041e-01</td>\n",
       "      <td>0.271447</td>\n",
       "      <td>-0.587932</td>\n",
       "    </tr>\n",
       "    <tr>\n",
       "      <th>2023-11-30</th>\n",
       "      <td>1.255554e-04</td>\n",
       "      <td>6.861930e-01</td>\n",
       "      <td>0.313681</td>\n",
       "      <td>-0.529227</td>\n",
       "    </tr>\n",
       "  </tbody>\n",
       "</table>\n",
       "<p>215 rows × 4 columns</p>\n",
       "</div>"
      ],
      "text/plain": [
       "                Positive      Negative   Neutral  sentimental_score\n",
       "Date                                                               \n",
       "2006-01-31  7.971052e-08  2.516444e-07  1.000000           0.500000\n",
       "2006-02-28  2.134020e-01  4.994306e-01  0.287167          -0.142445\n",
       "2006-03-31  2.156177e-01  5.577889e-01  0.226593          -0.228875\n",
       "2006-04-30  4.671889e-02  4.433666e-01  0.509914          -0.141691\n",
       "2006-05-31  1.709526e-04  6.226610e-01  0.377168          -0.433906\n",
       "...                  ...           ...       ...                ...\n",
       "2023-07-31  5.476058e-02  6.210716e-01  0.324168          -0.404227\n",
       "2023-08-31  5.046593e-04  7.823840e-01  0.217111          -0.673324\n",
       "2023-09-30  1.012808e-03  6.145024e-01  0.384485          -0.421247\n",
       "2023-10-31  2.448585e-03  7.261041e-01  0.271447          -0.587932\n",
       "2023-11-30  1.255554e-04  6.861930e-01  0.313681          -0.529227\n",
       "\n",
       "[215 rows x 4 columns]"
      ]
     },
     "execution_count": 13,
     "metadata": {},
     "output_type": "execute_result"
    }
   ],
   "source": [
    "daily_sentiments.resample('M').mean()"
   ]
  },
  {
   "cell_type": "code",
   "execution_count": 14,
   "id": "280337017d907bb1",
   "metadata": {
    "ExecuteTime": {
     "end_time": "2023-11-30T08:31:55.416215Z",
     "start_time": "2023-11-30T08:31:55.276269Z"
    }
   },
   "outputs": [
    {
     "data": {
      "image/png": "[encoded data removed]",
      "text/plain": [
       "<Figure size 640x480 with 1 Axes>"
      ]
     },
     "metadata": {},
     "output_type": "display_data"
    }
   ],
   "source": [
    "plt.hist(daily_sentiments.resample('M').mean()['sentimental_score'], bins = 100, color = 'darkorange')\n",
    "plt.grid(False)\n",
    "plt.title(\"Federal Reserve Speeches\", fontsize = 12, fontfamily = 'Serif')\n",
    "plt.show()"
   ]
  },
  {
   "cell_type": "code",
   "execution_count": 15,
   "id": "45c6bb37f68edfd8",
   "metadata": {
    "ExecuteTime": {
     "end_time": "2023-11-30T08:32:03.363870Z",
     "start_time": "2023-11-30T08:32:03.352633Z"
    }
   },
   "outputs": [],
   "source": [
    "# daily_sentiments.resample('M').mean().to_csv('../../Data/federal_sentiment.csv')"
   ]
  },
  {
   "cell_type": "markdown",
   "id": "acb3096bb64bde2c",
   "metadata": {},
   "source": [
    "#### Press_Data"
   ]
  },
  {
   "cell_type": "code",
   "execution_count": 67,
   "id": "bee19ffacde66804",
   "metadata": {
    "ExecuteTime": {
     "end_time": "2023-12-02T09:14:40.663690Z",
     "start_time": "2023-12-02T09:14:40.478470Z"
    }
   },
   "outputs": [],
   "source": [
    "press = pd.read_excel('../../Data/Final/press_df.xlsx', index_col = 1)"
   ]
  },
  {
   "cell_type": "code",
   "execution_count": 68,
   "id": "b67dbb6dfb83f77b",
   "metadata": {
    "ExecuteTime": {
     "end_time": "2023-12-02T09:14:41.212052Z",
     "start_time": "2023-12-02T09:14:41.207650Z"
    }
   },
   "outputs": [
    {
     "data": {
      "text/plain": "                   Unnamed: 0  \\\ndate                            \nNovember 22, 2023           0   \nNovember 21, 2023           1   \nNovember 21, 2023           2   \nNovember 21, 2023           3   \nNovember 17, 2023           4   \n\n                                                               title  \\\ndate                                                                   \nNovember 22, 2023  Agencies extend comment period on  proposed ru...   \nNovember 21, 2023  Federal Reserve Board announces approval of ap...   \nNovember 21, 2023  Minutes of the Federal Open Market Committee, ...   \nNovember 21, 2023  Federal Reserve Board issues enforcement actio...   \nNovember 17, 2023  Federal Reserve announces College Fed Challeng...   \n\n                                                              speech  \ndate                                                                  \nNovember 22, 2023   Federal bank regulatory agencies announced to...  \nNovember 21, 2023   The Federal Reserve Board on Tuesday announce...  \nNovember 21, 2023   The Federal Reserve on Tuesday released the m...  \nNovember 21, 2023   The Federal Reserve Board on Tuesday announce...  \nNovember 17, 2023   Harvard College won the 20th annual national ...  ",
      "text/html": "<div>\n<style scoped>\n    .dataframe tbody tr th:only-of-type {\n        vertical-align: middle;\n    }\n\n    .dataframe tbody tr th {\n        vertical-align: top;\n    }\n\n    .dataframe thead th {\n        text-align: right;\n    }\n</style>\n<table border=\"1\" class=\"dataframe\">\n  <thead>\n    <tr style=\"text-align: right;\">\n      <th></th>\n      <th>Unnamed: 0</th>\n      <th>title</th>\n      <th>speech</th>\n    </tr>\n    <tr>\n      <th>date</th>\n      <th></th>\n      <th></th>\n      <th></th>\n    </tr>\n  </thead>\n  <tbody>\n    <tr>\n      <th>November 22, 2023</th>\n      <td>0</td>\n      <td>Agencies extend comment period on  proposed ru...</td>\n      <td>Federal bank regulatory agencies announced to...</td>\n    </tr>\n    <tr>\n      <th>November 21, 2023</th>\n      <td>1</td>\n      <td>Federal Reserve Board announces approval of ap...</td>\n      <td>The Federal Reserve Board on Tuesday announce...</td>\n    </tr>\n    <tr>\n      <th>November 21, 2023</th>\n      <td>2</td>\n      <td>Minutes of the Federal Open Market Committee, ...</td>\n      <td>The Federal Reserve on Tuesday released the m...</td>\n    </tr>\n    <tr>\n      <th>November 21, 2023</th>\n      <td>3</td>\n      <td>Federal Reserve Board issues enforcement actio...</td>\n      <td>The Federal Reserve Board on Tuesday announce...</td>\n    </tr>\n    <tr>\n      <th>November 17, 2023</th>\n      <td>4</td>\n      <td>Federal Reserve announces College Fed Challeng...</td>\n      <td>Harvard College won the 20th annual national ...</td>\n    </tr>\n  </tbody>\n</table>\n</div>"
     },
     "execution_count": 68,
     "metadata": {},
     "output_type": "execute_result"
    }
   ],
   "source": [
    "press.head()"
   ]
  },
  {
   "cell_type": "code",
   "execution_count": 69,
   "id": "c14140a63a3ae921",
   "metadata": {
    "ExecuteTime": {
     "end_time": "2023-12-02T09:14:41.754994Z",
     "start_time": "2023-12-02T09:14:41.711849Z"
    }
   },
   "outputs": [
    {
     "name": "stderr",
     "output_type": "stream",
     "text": [
      "[nltk_data] Downloading package stopwords to\n",
      "[nltk_data]     /Users/junghunlee/nltk_data...\n",
      "[nltk_data]   Package stopwords is already up-to-date!\n"
     ]
    }
   ],
   "source": [
    "daily_sentiments = pd.DataFrame(columns = [\"Date\", \"Positive\", \"Negative\", \"Neutral\"])\n",
    "unique_dates = press.index.unique()\n",
    "nltk.download(\"stopwords\")\n",
    "stop_words = set(stopwords.words(\"english\"))"
   ]
  },
  {
   "cell_type": "code",
   "execution_count": 70,
   "id": "2fee0c2a4924d083",
   "metadata": {
    "ExecuteTime": {
     "end_time": "2023-12-02T09:14:42.370286Z",
     "start_time": "2023-12-02T09:14:42.366325Z"
    }
   },
   "outputs": [],
   "source": [
    "text_for_date = press[\"speech\"].tolist()"
   ]
  },
  {
   "cell_type": "code",
   "execution_count": 71,
   "id": "b8552ee028600f44",
   "metadata": {
    "ExecuteTime": {
     "end_time": "2023-12-02T09:14:44.745105Z",
     "start_time": "2023-12-02T09:14:42.934369Z"
    }
   },
   "outputs": [],
   "source": [
    "tokenized_texts = []\n",
    "for text in text_for_date :\n",
    "    try : \n",
    "        temp = []\n",
    "        for word in tokenizer.tokenize(text) :\n",
    "            if word.lower() not in stop_words :\n",
    "                temp.append(word)\n",
    "        tokenized_texts.append(temp)\n",
    "    except : pass"
   ]
  },
  {
   "cell_type": "code",
   "execution_count": 72,
   "id": "5b130b7be3f22633",
   "metadata": {
    "ExecuteTime": {
     "end_time": "2023-12-02T09:21:30.747597Z",
     "start_time": "2023-12-02T09:14:45.184824Z"
    }
   },
   "outputs": [
    {
     "name": "stderr",
     "output_type": "stream",
     "text": [
      "[nltk_data] Downloading package stopwords to\n",
      "[nltk_data]     /Users/junghunlee/nltk_data...\n",
      "[nltk_data]   Package stopwords is already up-to-date!\n"
     ]
    },
    {
     "data": {
      "text/plain": "                       Positive  Negative   Neutral\nDate                                               \nNovember 22, 2023  5.422469e-05  0.998995  0.000950\nNovember 21, 2023  6.874374e-04  0.996567  0.002745\nNovember 17, 2023  1.240634e-06  0.999995  0.000003\nNovember 15, 2023  1.945501e-04  0.999486  0.000320\nNovember 13, 2023  4.631872e-05  0.999673  0.000281\n...                         ...       ...       ...\nJanuary 17, 2006   1.062821e-04  0.998626  0.001267\nJanuary 13, 2006   4.509139e-05  0.999462  0.000493\nJanuary 10, 2006   7.730573e-03  0.992146  0.000124\nJanuary 09, 2006   4.506466e-07  0.999998  0.000002\nJanuary 03, 2006   3.829438e-05  0.999858  0.000103\n\n[2594 rows x 3 columns]",
      "text/html": "<div>\n<style scoped>\n    .dataframe tbody tr th:only-of-type {\n        vertical-align: middle;\n    }\n\n    .dataframe tbody tr th {\n        vertical-align: top;\n    }\n\n    .dataframe thead th {\n        text-align: right;\n    }\n</style>\n<table border=\"1\" class=\"dataframe\">\n  <thead>\n    <tr style=\"text-align: right;\">\n      <th></th>\n      <th>Positive</th>\n      <th>Negative</th>\n      <th>Neutral</th>\n    </tr>\n    <tr>\n      <th>Date</th>\n      <th></th>\n      <th></th>\n      <th></th>\n    </tr>\n  </thead>\n  <tbody>\n    <tr>\n      <th>November 22, 2023</th>\n      <td>5.422469e-05</td>\n      <td>0.998995</td>\n      <td>0.000950</td>\n    </tr>\n    <tr>\n      <th>November 21, 2023</th>\n      <td>6.874374e-04</td>\n      <td>0.996567</td>\n      <td>0.002745</td>\n    </tr>\n    <tr>\n      <th>November 17, 2023</th>\n      <td>1.240634e-06</td>\n      <td>0.999995</td>\n      <td>0.000003</td>\n    </tr>\n    <tr>\n      <th>November 15, 2023</th>\n      <td>1.945501e-04</td>\n      <td>0.999486</td>\n      <td>0.000320</td>\n    </tr>\n    <tr>\n      <th>November 13, 2023</th>\n      <td>4.631872e-05</td>\n      <td>0.999673</td>\n      <td>0.000281</td>\n    </tr>\n    <tr>\n      <th>...</th>\n      <td>...</td>\n      <td>...</td>\n      <td>...</td>\n    </tr>\n    <tr>\n      <th>January 17, 2006</th>\n      <td>1.062821e-04</td>\n      <td>0.998626</td>\n      <td>0.001267</td>\n    </tr>\n    <tr>\n      <th>January 13, 2006</th>\n      <td>4.509139e-05</td>\n      <td>0.999462</td>\n      <td>0.000493</td>\n    </tr>\n    <tr>\n      <th>January 10, 2006</th>\n      <td>7.730573e-03</td>\n      <td>0.992146</td>\n      <td>0.000124</td>\n    </tr>\n    <tr>\n      <th>January 09, 2006</th>\n      <td>4.506466e-07</td>\n      <td>0.999998</td>\n      <td>0.000002</td>\n    </tr>\n    <tr>\n      <th>January 03, 2006</th>\n      <td>3.829438e-05</td>\n      <td>0.999858</td>\n      <td>0.000103</td>\n    </tr>\n  </tbody>\n</table>\n<p>2594 rows × 3 columns</p>\n</div>"
     },
     "execution_count": 72,
     "metadata": {},
     "output_type": "execute_result"
    }
   ],
   "source": [
    "import time\n",
    "daily_sentiments_excerpt = pd.DataFrame(columns = [\"Date\", \"Positive\", \"Negative\", \"Neutral\"])\n",
    "start_time = time.time()\n",
    "\n",
    "nltk.download(\"stopwords\")\n",
    "stop_words = set(stopwords.words(\"english\"))\n",
    "\n",
    "for date in unique_dates:    \n",
    "    #text_for_date = data[data[\"rgs_dt\"] == date][\"news_smy_ifo\"].tolist()\n",
    "    text_for_date = press[press.index == date][\"speech\"].tolist()\n",
    "\n",
    "    tokenized_texts = []\n",
    "    for text in text_for_date :\n",
    "        try : \n",
    "            temp = []\n",
    "            for word in tokenizer.tokenize(text) :\n",
    "                if word.lower() not in stop_words :\n",
    "                    temp.append(word)\n",
    "            tokenized_texts.append(temp)\n",
    "        except : \n",
    "            tokenized_texts.append([])\n",
    "\n",
    "    max_token_length = 500\n",
    "\n",
    "    tokenized_texts = [\" \".join(tokens[:max_token_length]) for tokens in tokenized_texts]\n",
    "    inputs = tokenizer(tokenized_texts, padding = True, truncation = True, return_tensors = \"pt\", max_length = max_token_length)\n",
    "\n",
    "    with torch.no_grad():\n",
    "        outputs = model(**inputs)\n",
    "        logits = outputs.logits\n",
    "\n",
    "    probabilities = torch.softmax(logits, dim=1)\n",
    "    positive_prob = probabilities[:, 2].mean().item()\n",
    "    negative_prob = probabilities[:, 0].mean().item()\n",
    "    neutral_prob = probabilities[:, 1].mean().item()\n",
    "    \n",
    "    daily_sentiments_excerpt = pd.concat([daily_sentiments_excerpt, \n",
    "                                          pd.DataFrame({\"Date\": date, \n",
    "                                                        \"Positive\": positive_prob, \n",
    "                                                        \"Negative\": negative_prob, \n",
    "                                                        \"Neutral\": neutral_prob}, index = ['0'])],\n",
    "                                 ignore_index = True)\n",
    "\n",
    "daily_sentiments_excerpt.index = daily_sentiments_excerpt.Date\n",
    "daily_sentiments_excerpt = daily_sentiments_excerpt.iloc[:,1:]\n",
    "daily_sentiments_excerpt"
   ]
  },
  {
   "cell_type": "code",
   "execution_count": 73,
   "id": "436796dabc416786",
   "metadata": {
    "ExecuteTime": {
     "end_time": "2023-12-02T09:21:46.115883Z",
     "start_time": "2023-12-02T09:21:46.100614Z"
    }
   },
   "outputs": [],
   "source": [
    "daily_sentiments_excerpt['sentimental_score'] = daily_sentiments_excerpt['Positive'] - daily_sentiments_excerpt['Negative'] + daily_sentiments_excerpt['Neutral'] * 0.5"
   ]
  },
  {
   "cell_type": "code",
   "execution_count": 74,
   "id": "a5b90a97d4f29d58",
   "metadata": {
    "ExecuteTime": {
     "end_time": "2023-12-02T09:21:46.626508Z",
     "start_time": "2023-12-02T09:21:46.617374Z"
    }
   },
   "outputs": [],
   "source": [
    "daily_sentiments_excerpt.index = pd.to_datetime(daily_sentiments_excerpt.index)"
   ]
  },
  {
   "cell_type": "code",
   "execution_count": 75,
   "outputs": [],
   "source": [
    "daily_sentiments_excerpt = daily_sentiments_excerpt.iloc[:,1:]"
   ],
   "metadata": {
    "collapsed": false,
    "ExecuteTime": {
     "end_time": "2023-12-02T09:21:47.032077Z",
     "start_time": "2023-12-02T09:21:47.029420Z"
    }
   },
   "id": "c36e241bf337b1ed"
  },
  {
   "cell_type": "code",
   "execution_count": 77,
   "id": "e76ea4c8c8879715",
   "metadata": {
    "ExecuteTime": {
     "end_time": "2023-12-02T09:21:55.962305Z",
     "start_time": "2023-12-02T09:21:55.947365Z"
    }
   },
   "outputs": [],
   "source": [
    "daily_sentiments_excerpt = daily_sentiments_excerpt.resample('M').mean()"
   ]
  },
  {
   "cell_type": "code",
   "execution_count": 78,
   "id": "e1f781788bf20ef5",
   "metadata": {
    "ExecuteTime": {
     "end_time": "2023-12-02T09:21:59.588672Z",
     "start_time": "2023-12-02T09:21:59.472750Z"
    }
   },
   "outputs": [
    {
     "data": {
      "text/plain": "<Figure size 640x480 with 1 Axes>",
      "image/png": "[encoded data removed]"
     },
     "metadata": {},
     "output_type": "display_data"
    }
   ],
   "source": [
    "import matplotlib.pyplot as plt\n",
    "\n",
    "plt.hist(daily_sentiments_excerpt['sentimental_score'], bins = 100, color = 'darkorange')\n",
    "plt.grid(False)\n",
    "plt.title(\"Federal Reserve Press\", fontsize = 12, fontfamily = 'Serif')\n",
    "plt.show()"
   ]
  },
  {
   "cell_type": "code",
   "execution_count": 79,
   "id": "6ab11016ff0bf398",
   "metadata": {
    "ExecuteTime": {
     "end_time": "2023-12-02T09:22:07.011533Z",
     "start_time": "2023-12-02T09:22:06.996418Z"
    }
   },
   "outputs": [],
   "source": [
    "# daily_sentiments_excerpt.to_csv('../../Data/Final/press_sentiment.csv')"
   ]
  },
  {
   "cell_type": "markdown",
   "id": "ec48c392d3dc7a35",
   "metadata": {},
   "source": [
    "#### Investing.com Data"
   ]
  },
  {
   "cell_type": "code",
   "execution_count": 19,
   "id": "5770f6751052df90",
   "metadata": {
    "ExecuteTime": {
     "end_time": "2023-12-02T08:27:24.142038Z",
     "start_time": "2023-12-02T08:27:24.112926Z"
    }
   },
   "outputs": [
    {
     "data": {
      "text/plain": "       Unnamed: 0  year  month  \\\n0               0  2023     11   \n1               1  2023     11   \n2               2  2023     11   \n3               3  2023     11   \n4               4  2023     11   \n...           ...   ...    ...   \n22113       22113  2021     11   \n22114       22114  2021     11   \n22115       22115  2021     11   \n22116       22116  2021     11   \n22117       22117  2021     11   \n\n                                                   title  \n0      US Black Friday sales rise 2.5% -Mastercard Sp...  \n1      Poland's budget deficit hits PLN 36.42 billion...  \n2      Bundesbank Chief Urges Swift Fiscal Planning f...  \n3      Signa unit confirms bankruptcy filing in lette...  \n4      Nigeria cenbank to tighten policy to curb infl...  \n...                                                  ...  \n22113  Inflation, Rivian IPO, Jobless Claims - What's...  \n22114  German govt finances in critical state, federa...  \n22115  Chinese state firms ask regulators to adjust l...  \n22116  Europe's pandemic productivity growth surge ma...  \n22117  Asset managers flock to Singapore's new corpor...  \n\n[22118 rows x 4 columns]",
      "text/html": "<div>\n<style scoped>\n    .dataframe tbody tr th:only-of-type {\n        vertical-align: middle;\n    }\n\n    .dataframe tbody tr th {\n        vertical-align: top;\n    }\n\n    .dataframe thead th {\n        text-align: right;\n    }\n</style>\n<table border=\"1\" class=\"dataframe\">\n  <thead>\n    <tr style=\"text-align: right;\">\n      <th></th>\n      <th>Unnamed: 0</th>\n      <th>year</th>\n      <th>month</th>\n      <th>title</th>\n    </tr>\n  </thead>\n  <tbody>\n    <tr>\n      <th>0</th>\n      <td>0</td>\n      <td>2023</td>\n      <td>11</td>\n      <td>US Black Friday sales rise 2.5% -Mastercard Sp...</td>\n    </tr>\n    <tr>\n      <th>1</th>\n      <td>1</td>\n      <td>2023</td>\n      <td>11</td>\n      <td>Poland's budget deficit hits PLN 36.42 billion...</td>\n    </tr>\n    <tr>\n      <th>2</th>\n      <td>2</td>\n      <td>2023</td>\n      <td>11</td>\n      <td>Bundesbank Chief Urges Swift Fiscal Planning f...</td>\n    </tr>\n    <tr>\n      <th>3</th>\n      <td>3</td>\n      <td>2023</td>\n      <td>11</td>\n      <td>Signa unit confirms bankruptcy filing in lette...</td>\n    </tr>\n    <tr>\n      <th>4</th>\n      <td>4</td>\n      <td>2023</td>\n      <td>11</td>\n      <td>Nigeria cenbank to tighten policy to curb infl...</td>\n    </tr>\n    <tr>\n      <th>...</th>\n      <td>...</td>\n      <td>...</td>\n      <td>...</td>\n      <td>...</td>\n    </tr>\n    <tr>\n      <th>22113</th>\n      <td>22113</td>\n      <td>2021</td>\n      <td>11</td>\n      <td>Inflation, Rivian IPO, Jobless Claims - What's...</td>\n    </tr>\n    <tr>\n      <th>22114</th>\n      <td>22114</td>\n      <td>2021</td>\n      <td>11</td>\n      <td>German govt finances in critical state, federa...</td>\n    </tr>\n    <tr>\n      <th>22115</th>\n      <td>22115</td>\n      <td>2021</td>\n      <td>11</td>\n      <td>Chinese state firms ask regulators to adjust l...</td>\n    </tr>\n    <tr>\n      <th>22116</th>\n      <td>22116</td>\n      <td>2021</td>\n      <td>11</td>\n      <td>Europe's pandemic productivity growth surge ma...</td>\n    </tr>\n    <tr>\n      <th>22117</th>\n      <td>22117</td>\n      <td>2021</td>\n      <td>11</td>\n      <td>Asset managers flock to Singapore's new corpor...</td>\n    </tr>\n  </tbody>\n</table>\n<p>22118 rows × 4 columns</p>\n</div>"
     },
     "execution_count": 19,
     "metadata": {},
     "output_type": "execute_result"
    }
   ],
   "source": [
    "invest = pd.read_csv('../../Data/Final/investing_crawling.csv')\n",
    "invest"
   ]
  },
  {
   "cell_type": "code",
   "execution_count": 20,
   "id": "e481e57a265b149b",
   "metadata": {
    "ExecuteTime": {
     "end_time": "2023-12-02T08:27:25.639827Z",
     "start_time": "2023-12-02T08:27:25.634977Z"
    }
   },
   "outputs": [],
   "source": [
    "invest['index'] = invest['year'].astype(str) + '-' + invest['month'].astype(str)"
   ]
  },
  {
   "cell_type": "code",
   "execution_count": 21,
   "id": "294d5624c6a50a55",
   "metadata": {
    "ExecuteTime": {
     "end_time": "2023-12-02T08:27:25.943364Z",
     "start_time": "2023-12-02T08:27:25.935871Z"
    }
   },
   "outputs": [
    {
     "data": {
      "text/plain": "       Unnamed: 0  year  month  \\\n0               0  2023     11   \n1               1  2023     11   \n2               2  2023     11   \n3               3  2023     11   \n4               4  2023     11   \n...           ...   ...    ...   \n22113       22113  2021     11   \n22114       22114  2021     11   \n22115       22115  2021     11   \n22116       22116  2021     11   \n22117       22117  2021     11   \n\n                                                   title    index  \n0      US Black Friday sales rise 2.5% -Mastercard Sp...  2023-11  \n1      Poland's budget deficit hits PLN 36.42 billion...  2023-11  \n2      Bundesbank Chief Urges Swift Fiscal Planning f...  2023-11  \n3      Signa unit confirms bankruptcy filing in lette...  2023-11  \n4      Nigeria cenbank to tighten policy to curb infl...  2023-11  \n...                                                  ...      ...  \n22113  Inflation, Rivian IPO, Jobless Claims - What's...  2021-11  \n22114  German govt finances in critical state, federa...  2021-11  \n22115  Chinese state firms ask regulators to adjust l...  2021-11  \n22116  Europe's pandemic productivity growth surge ma...  2021-11  \n22117  Asset managers flock to Singapore's new corpor...  2021-11  \n\n[22118 rows x 5 columns]",
      "text/html": "<div>\n<style scoped>\n    .dataframe tbody tr th:only-of-type {\n        vertical-align: middle;\n    }\n\n    .dataframe tbody tr th {\n        vertical-align: top;\n    }\n\n    .dataframe thead th {\n        text-align: right;\n    }\n</style>\n<table border=\"1\" class=\"dataframe\">\n  <thead>\n    <tr style=\"text-align: right;\">\n      <th></th>\n      <th>Unnamed: 0</th>\n      <th>year</th>\n      <th>month</th>\n      <th>title</th>\n      <th>index</th>\n    </tr>\n  </thead>\n  <tbody>\n    <tr>\n      <th>0</th>\n      <td>0</td>\n      <td>2023</td>\n      <td>11</td>\n      <td>US Black Friday sales rise 2.5% -Mastercard Sp...</td>\n      <td>2023-11</td>\n    </tr>\n    <tr>\n      <th>1</th>\n      <td>1</td>\n      <td>2023</td>\n      <td>11</td>\n      <td>Poland's budget deficit hits PLN 36.42 billion...</td>\n      <td>2023-11</td>\n    </tr>\n    <tr>\n      <th>2</th>\n      <td>2</td>\n      <td>2023</td>\n      <td>11</td>\n      <td>Bundesbank Chief Urges Swift Fiscal Planning f...</td>\n      <td>2023-11</td>\n    </tr>\n    <tr>\n      <th>3</th>\n      <td>3</td>\n      <td>2023</td>\n      <td>11</td>\n      <td>Signa unit confirms bankruptcy filing in lette...</td>\n      <td>2023-11</td>\n    </tr>\n    <tr>\n      <th>4</th>\n      <td>4</td>\n      <td>2023</td>\n      <td>11</td>\n      <td>Nigeria cenbank to tighten policy to curb infl...</td>\n      <td>2023-11</td>\n    </tr>\n    <tr>\n      <th>...</th>\n      <td>...</td>\n      <td>...</td>\n      <td>...</td>\n      <td>...</td>\n      <td>...</td>\n    </tr>\n    <tr>\n      <th>22113</th>\n      <td>22113</td>\n      <td>2021</td>\n      <td>11</td>\n      <td>Inflation, Rivian IPO, Jobless Claims - What's...</td>\n      <td>2021-11</td>\n    </tr>\n    <tr>\n      <th>22114</th>\n      <td>22114</td>\n      <td>2021</td>\n      <td>11</td>\n      <td>German govt finances in critical state, federa...</td>\n      <td>2021-11</td>\n    </tr>\n    <tr>\n      <th>22115</th>\n      <td>22115</td>\n      <td>2021</td>\n      <td>11</td>\n      <td>Chinese state firms ask regulators to adjust l...</td>\n      <td>2021-11</td>\n    </tr>\n    <tr>\n      <th>22116</th>\n      <td>22116</td>\n      <td>2021</td>\n      <td>11</td>\n      <td>Europe's pandemic productivity growth surge ma...</td>\n      <td>2021-11</td>\n    </tr>\n    <tr>\n      <th>22117</th>\n      <td>22117</td>\n      <td>2021</td>\n      <td>11</td>\n      <td>Asset managers flock to Singapore's new corpor...</td>\n      <td>2021-11</td>\n    </tr>\n  </tbody>\n</table>\n<p>22118 rows × 5 columns</p>\n</div>"
     },
     "execution_count": 21,
     "metadata": {},
     "output_type": "execute_result"
    }
   ],
   "source": [
    "invest"
   ]
  },
  {
   "cell_type": "code",
   "execution_count": 22,
   "id": "dac1d96e9eb1bd6f",
   "metadata": {
    "ExecuteTime": {
     "end_time": "2023-12-02T08:27:28.958112Z",
     "start_time": "2023-12-02T08:27:28.947878Z"
    }
   },
   "outputs": [
    {
     "data": {
      "text/plain": "      Unnamed: 0  year  month  \\\n0              0  2023     11   \n1              1  2023     11   \n2              2  2023     11   \n3              3  2023     11   \n4              4  2023     11   \n...          ...   ...    ...   \n2944        2944  2018     12   \n2945        2945  2018     12   \n2946        2946  2018     12   \n2947        2947  2018     12   \n2948        2948  2018     12   \n\n                                                  title  \n0     Investors pour cash into US corporate debt in ...  \n1     Fed officials showed little urgency to raise r...  \n2     Emerging market central banks may be trumping ...  \n3     The Fed’s balance sheet isn’t so boring after all  \n4     Falling fuel prices and airfares bring relief ...  \n...                                                 ...  \n2944  Fed’s Powell poised to set rates policy tone f...  \n2945       Week ahead: Fed, BoE, US government shutdown  \n2946     Investors signal concerns with leveraged loans  \n2947               An error-correcting inflation target  \n2948  Tepid inflation gives Fed room to slow rate rises  \n\n[2949 rows x 4 columns]",
      "text/html": "<div>\n<style scoped>\n    .dataframe tbody tr th:only-of-type {\n        vertical-align: middle;\n    }\n\n    .dataframe tbody tr th {\n        vertical-align: top;\n    }\n\n    .dataframe thead th {\n        text-align: right;\n    }\n</style>\n<table border=\"1\" class=\"dataframe\">\n  <thead>\n    <tr style=\"text-align: right;\">\n      <th></th>\n      <th>Unnamed: 0</th>\n      <th>year</th>\n      <th>month</th>\n      <th>title</th>\n    </tr>\n  </thead>\n  <tbody>\n    <tr>\n      <th>0</th>\n      <td>0</td>\n      <td>2023</td>\n      <td>11</td>\n      <td>Investors pour cash into US corporate debt in ...</td>\n    </tr>\n    <tr>\n      <th>1</th>\n      <td>1</td>\n      <td>2023</td>\n      <td>11</td>\n      <td>Fed officials showed little urgency to raise r...</td>\n    </tr>\n    <tr>\n      <th>2</th>\n      <td>2</td>\n      <td>2023</td>\n      <td>11</td>\n      <td>Emerging market central banks may be trumping ...</td>\n    </tr>\n    <tr>\n      <th>3</th>\n      <td>3</td>\n      <td>2023</td>\n      <td>11</td>\n      <td>The Fed’s balance sheet isn’t so boring after all</td>\n    </tr>\n    <tr>\n      <th>4</th>\n      <td>4</td>\n      <td>2023</td>\n      <td>11</td>\n      <td>Falling fuel prices and airfares bring relief ...</td>\n    </tr>\n    <tr>\n      <th>...</th>\n      <td>...</td>\n      <td>...</td>\n      <td>...</td>\n      <td>...</td>\n    </tr>\n    <tr>\n      <th>2944</th>\n      <td>2944</td>\n      <td>2018</td>\n      <td>12</td>\n      <td>Fed’s Powell poised to set rates policy tone f...</td>\n    </tr>\n    <tr>\n      <th>2945</th>\n      <td>2945</td>\n      <td>2018</td>\n      <td>12</td>\n      <td>Week ahead: Fed, BoE, US government shutdown</td>\n    </tr>\n    <tr>\n      <th>2946</th>\n      <td>2946</td>\n      <td>2018</td>\n      <td>12</td>\n      <td>Investors signal concerns with leveraged loans</td>\n    </tr>\n    <tr>\n      <th>2947</th>\n      <td>2947</td>\n      <td>2018</td>\n      <td>12</td>\n      <td>An error-correcting inflation target</td>\n    </tr>\n    <tr>\n      <th>2948</th>\n      <td>2948</td>\n      <td>2018</td>\n      <td>12</td>\n      <td>Tepid inflation gives Fed room to slow rate rises</td>\n    </tr>\n  </tbody>\n</table>\n<p>2949 rows × 4 columns</p>\n</div>"
     },
     "execution_count": 22,
     "metadata": {},
     "output_type": "execute_result"
    }
   ],
   "source": [
    "ft = pd.read_csv('../../Data/Final/ft_crawling.csv')\n",
    "ft"
   ]
  },
  {
   "cell_type": "markdown",
   "id": "9b44a4694e6e5cc4",
   "metadata": {},
   "source": [
    "USDT article"
   ]
  },
  {
   "cell_type": "code",
   "execution_count": 58,
   "id": "65ff40f629eb0bf5",
   "metadata": {
    "ExecuteTime": {
     "end_time": "2023-12-02T08:59:55.021803Z",
     "start_time": "2023-12-02T08:59:54.952225Z"
    }
   },
   "outputs": [],
   "source": [
    "usdt = pd.read_csv('../../Data/Final/USDT_article_total.csv')\n",
    "usdt.date = pd.to_datetime(usdt.date)\n",
    "usdt.index = usdt.date\n",
    "usdt.sort_index(ascending=True, inplace = True)"
   ]
  },
  {
   "cell_type": "code",
   "execution_count": 59,
   "outputs": [
    {
     "data": {
      "text/plain": "                                                        title       date  \\\ndate                                                                       \n2008-01-07  Remarks by Treasury Secretary Henry M. Paulson... 2008-01-07   \n2008-01-14  Remarks by Treasury Under Secretary David H. M... 2008-01-14   \n2008-01-22  Secretary Paulson Remarks on the Economy Befor... 2008-01-22   \n2008-01-24  Under Secretary David H. McCormick to Deliver ... 2008-01-24   \n2008-01-28  Treasury Assistant Secretary for Financial Mar... 2008-01-28   \n...                                                       ...        ...   \n2023-11-13  Remarks by Secretary of the Treasury Janet L. ... 2023-11-13   \n2023-11-15  Remarks By Secretary of the Treasury Janet L. ... 2023-11-15   \n2023-11-16  Remarks by Under Secretary for Domestic Financ... 2023-11-16   \n2023-11-17  Remarks by Assistant Secretary Graham Steele a... 2023-11-17   \n2023-11-21  Remarks by Secretary of the Treasury Janet L. ... 2023-11-21   \n\n                                                      content  \ndate                                                           \n2008-01-07      As I have said for some time, the housing ...  \n2008-01-14      La Jolla, Calif. - Thank you Phil for that...  \n2008-01-22        Washington- Thank you, Bruce, and good m...  \n2008-01-24    Treasury Under Secretary David H. McCormick ...  \n2008-01-28      In assessing liquidity, we must begin by r...  \n...                                                       ...  \n2023-11-13   As Prepared for Delivery Thank you to Lieuten...  \n2023-11-15   As Prepared for Delivery Hello everyone. I’m ...  \n2023-11-16   As Prepared for Delivery Good morning and tha...  \n2023-11-17   As Prepared for Delivery Good afternoon. My n...  \n2023-11-21   As Prepared for Delivery Good afternoon. I’m ...  \n\n[980 rows x 3 columns]",
      "text/html": "<div>\n<style scoped>\n    .dataframe tbody tr th:only-of-type {\n        vertical-align: middle;\n    }\n\n    .dataframe tbody tr th {\n        vertical-align: top;\n    }\n\n    .dataframe thead th {\n        text-align: right;\n    }\n</style>\n<table border=\"1\" class=\"dataframe\">\n  <thead>\n    <tr style=\"text-align: right;\">\n      <th></th>\n      <th>title</th>\n      <th>date</th>\n      <th>content</th>\n    </tr>\n    <tr>\n      <th>date</th>\n      <th></th>\n      <th></th>\n      <th></th>\n    </tr>\n  </thead>\n  <tbody>\n    <tr>\n      <th>2008-01-07</th>\n      <td>Remarks by Treasury Secretary Henry M. Paulson...</td>\n      <td>2008-01-07</td>\n      <td>As I have said for some time, the housing ...</td>\n    </tr>\n    <tr>\n      <th>2008-01-14</th>\n      <td>Remarks by Treasury Under Secretary David H. M...</td>\n      <td>2008-01-14</td>\n      <td>La Jolla, Calif. - Thank you Phil for that...</td>\n    </tr>\n    <tr>\n      <th>2008-01-22</th>\n      <td>Secretary Paulson Remarks on the Economy Befor...</td>\n      <td>2008-01-22</td>\n      <td>Washington- Thank you, Bruce, and good m...</td>\n    </tr>\n    <tr>\n      <th>2008-01-24</th>\n      <td>Under Secretary David H. McCormick to Deliver ...</td>\n      <td>2008-01-24</td>\n      <td>Treasury Under Secretary David H. McCormick ...</td>\n    </tr>\n    <tr>\n      <th>2008-01-28</th>\n      <td>Treasury Assistant Secretary for Financial Mar...</td>\n      <td>2008-01-28</td>\n      <td>In assessing liquidity, we must begin by r...</td>\n    </tr>\n    <tr>\n      <th>...</th>\n      <td>...</td>\n      <td>...</td>\n      <td>...</td>\n    </tr>\n    <tr>\n      <th>2023-11-13</th>\n      <td>Remarks by Secretary of the Treasury Janet L. ...</td>\n      <td>2023-11-13</td>\n      <td>As Prepared for Delivery Thank you to Lieuten...</td>\n    </tr>\n    <tr>\n      <th>2023-11-15</th>\n      <td>Remarks By Secretary of the Treasury Janet L. ...</td>\n      <td>2023-11-15</td>\n      <td>As Prepared for Delivery Hello everyone. I’m ...</td>\n    </tr>\n    <tr>\n      <th>2023-11-16</th>\n      <td>Remarks by Under Secretary for Domestic Financ...</td>\n      <td>2023-11-16</td>\n      <td>As Prepared for Delivery Good morning and tha...</td>\n    </tr>\n    <tr>\n      <th>2023-11-17</th>\n      <td>Remarks by Assistant Secretary Graham Steele a...</td>\n      <td>2023-11-17</td>\n      <td>As Prepared for Delivery Good afternoon. My n...</td>\n    </tr>\n    <tr>\n      <th>2023-11-21</th>\n      <td>Remarks by Secretary of the Treasury Janet L. ...</td>\n      <td>2023-11-21</td>\n      <td>As Prepared for Delivery Good afternoon. I’m ...</td>\n    </tr>\n  </tbody>\n</table>\n<p>980 rows × 3 columns</p>\n</div>"
     },
     "execution_count": 59,
     "metadata": {},
     "output_type": "execute_result"
    }
   ],
   "source": [
    "usdt = usdt.iloc[:-1]\n",
    "usdt"
   ],
   "metadata": {
    "collapsed": false,
    "ExecuteTime": {
     "end_time": "2023-12-02T08:59:55.187457Z",
     "start_time": "2023-12-02T08:59:55.181744Z"
    }
   },
   "id": "533096be57574795"
  },
  {
   "cell_type": "code",
   "execution_count": 60,
   "id": "91f7876dc4da2444",
   "metadata": {
    "ExecuteTime": {
     "end_time": "2023-12-02T09:00:01.133087Z",
     "start_time": "2023-12-02T09:00:01.115624Z"
    }
   },
   "outputs": [
    {
     "name": "stderr",
     "output_type": "stream",
     "text": [
      "[nltk_data] Downloading package stopwords to\n",
      "[nltk_data]     /Users/junghunlee/nltk_data...\n",
      "[nltk_data]   Package stopwords is already up-to-date!\n"
     ]
    }
   ],
   "source": [
    "daily_sentiments = pd.DataFrame(columns = [\"Date\", \"Positive\", \"Negative\", \"Neutral\"])\n",
    "unique_dates = usdt.index.unique()\n",
    "nltk.download(\"stopwords\")\n",
    "stop_words = set(stopwords.words(\"english\"))"
   ]
  },
  {
   "cell_type": "code",
   "execution_count": 61,
   "outputs": [
    {
     "data": {
      "text/plain": "DatetimeIndex(['2008-01-07', '2008-01-14', '2008-01-22', '2008-01-24',\n               '2008-01-28', '2008-01-29', '2008-01-30', '2008-02-05',\n               '2008-02-07', '2008-02-08',\n               ...\n               '2023-11-03', '2023-11-07', '2023-11-09', '2023-11-10',\n               '2023-11-12', '2023-11-13', '2023-11-15', '2023-11-16',\n               '2023-11-17', '2023-11-21'],\n              dtype='datetime64[ns]', name='date', length=765, freq=None)"
     },
     "execution_count": 61,
     "metadata": {},
     "output_type": "execute_result"
    }
   ],
   "source": [
    "unique_dates = usdt.index.unique()\n",
    "unique_dates"
   ],
   "metadata": {
    "collapsed": false,
    "ExecuteTime": {
     "end_time": "2023-12-02T09:00:03.143298Z",
     "start_time": "2023-12-02T09:00:03.140874Z"
    }
   },
   "id": "b03fd6b8a4caba8f"
  },
  {
   "cell_type": "code",
   "execution_count": 62,
   "outputs": [
    {
     "name": "stderr",
     "output_type": "stream",
     "text": [
      "[nltk_data] Downloading package stopwords to\n",
      "[nltk_data]     /Users/junghunlee/nltk_data...\n",
      "[nltk_data]   Package stopwords is already up-to-date!\n"
     ]
    },
    {
     "name": "stdout",
     "output_type": "stream",
     "text": [
      "spent time : 160.79831886291504\n"
     ]
    },
    {
     "data": {
      "text/plain": "                Positive  Negative   Neutral\nDate                                        \n2008-01-07  1.564376e-03  0.783840  0.214596\n2008-01-14  1.094061e-04  0.993025  0.006866\n2008-01-22  9.106998e-07  0.000029  0.999970\n2008-01-24  1.283392e-05  0.999986  0.000001\n2008-01-28  6.957560e-05  0.890780  0.109150\n...                  ...       ...       ...\n2023-11-13  2.368747e-06  0.001262  0.998736\n2023-11-15  1.569805e-04  0.772632  0.227211\n2023-11-16  3.782207e-03  0.820299  0.175919\n2023-11-17  1.104357e-05  0.930277  0.069712\n2023-11-21  1.318836e-05  0.999954  0.000033\n\n[765 rows x 3 columns]",
      "text/html": "<div>\n<style scoped>\n    .dataframe tbody tr th:only-of-type {\n        vertical-align: middle;\n    }\n\n    .dataframe tbody tr th {\n        vertical-align: top;\n    }\n\n    .dataframe thead th {\n        text-align: right;\n    }\n</style>\n<table border=\"1\" class=\"dataframe\">\n  <thead>\n    <tr style=\"text-align: right;\">\n      <th></th>\n      <th>Positive</th>\n      <th>Negative</th>\n      <th>Neutral</th>\n    </tr>\n    <tr>\n      <th>Date</th>\n      <th></th>\n      <th></th>\n      <th></th>\n    </tr>\n  </thead>\n  <tbody>\n    <tr>\n      <th>2008-01-07</th>\n      <td>1.564376e-03</td>\n      <td>0.783840</td>\n      <td>0.214596</td>\n    </tr>\n    <tr>\n      <th>2008-01-14</th>\n      <td>1.094061e-04</td>\n      <td>0.993025</td>\n      <td>0.006866</td>\n    </tr>\n    <tr>\n      <th>2008-01-22</th>\n      <td>9.106998e-07</td>\n      <td>0.000029</td>\n      <td>0.999970</td>\n    </tr>\n    <tr>\n      <th>2008-01-24</th>\n      <td>1.283392e-05</td>\n      <td>0.999986</td>\n      <td>0.000001</td>\n    </tr>\n    <tr>\n      <th>2008-01-28</th>\n      <td>6.957560e-05</td>\n      <td>0.890780</td>\n      <td>0.109150</td>\n    </tr>\n    <tr>\n      <th>...</th>\n      <td>...</td>\n      <td>...</td>\n      <td>...</td>\n    </tr>\n    <tr>\n      <th>2023-11-13</th>\n      <td>2.368747e-06</td>\n      <td>0.001262</td>\n      <td>0.998736</td>\n    </tr>\n    <tr>\n      <th>2023-11-15</th>\n      <td>1.569805e-04</td>\n      <td>0.772632</td>\n      <td>0.227211</td>\n    </tr>\n    <tr>\n      <th>2023-11-16</th>\n      <td>3.782207e-03</td>\n      <td>0.820299</td>\n      <td>0.175919</td>\n    </tr>\n    <tr>\n      <th>2023-11-17</th>\n      <td>1.104357e-05</td>\n      <td>0.930277</td>\n      <td>0.069712</td>\n    </tr>\n    <tr>\n      <th>2023-11-21</th>\n      <td>1.318836e-05</td>\n      <td>0.999954</td>\n      <td>0.000033</td>\n    </tr>\n  </tbody>\n</table>\n<p>765 rows × 3 columns</p>\n</div>"
     },
     "execution_count": 62,
     "metadata": {},
     "output_type": "execute_result"
    }
   ],
   "source": [
    "daily_sentiments_excerpt = pd.DataFrame(columns = [\"Date\", \"Positive\", \"Negative\", \"Neutral\"])\n",
    "\n",
    "start_time = time.time()\n",
    "\n",
    "nltk.download(\"stopwords\")\n",
    "stop_words = set(stopwords.words(\"english\"))\n",
    "\n",
    "for date in unique_dates:    \n",
    "    #text_for_date = data[data[\"rgs_dt\"] == date][\"news_smy_ifo\"].tolist()\n",
    "    text_for_date = usdt[usdt.index == date][\"content\"].tolist()\n",
    "\n",
    "    tokenized_texts = []\n",
    "    for text in text_for_date :\n",
    "        try : \n",
    "            temp = []\n",
    "            for word in tokenizer.tokenize(text) :\n",
    "                if word.lower() not in stop_words :\n",
    "                    temp.append(word)\n",
    "            tokenized_texts.append(temp)\n",
    "        except : \n",
    "            tokenized_texts.append([])\n",
    "\n",
    "    max_token_length = 500\n",
    "\n",
    "    tokenized_texts = [\" \".join(tokens[:max_token_length]) for tokens in tokenized_texts]\n",
    "    inputs = tokenizer(tokenized_texts, padding = True, truncation = True, return_tensors = \"pt\", max_length = max_token_length)\n",
    "\n",
    "    with torch.no_grad():\n",
    "        outputs = model(**inputs)\n",
    "        logits = outputs.logits\n",
    "\n",
    "    probabilities = torch.softmax(logits, dim=1)\n",
    "    positive_prob = probabilities[:, 2].mean().item()\n",
    "    negative_prob = probabilities[:, 0].mean().item()\n",
    "    neutral_prob = probabilities[:, 1].mean().item()\n",
    "    \n",
    "    daily_sentiments_excerpt = pd.concat([daily_sentiments_excerpt, \n",
    "                                          pd.DataFrame({\"Date\": date, \n",
    "                                                        \"Positive\": positive_prob, \n",
    "                                                        \"Negative\": negative_prob, \n",
    "                                                        \"Neutral\": neutral_prob}, index = ['0'])],\n",
    "                                 ignore_index = True)\n",
    "\n",
    "print(f'spent time : {time.time() - start_time}')\n",
    "daily_sentiments_excerpt.index = daily_sentiments_excerpt.Date\n",
    "daily_sentiments_excerpt = daily_sentiments_excerpt.iloc[:,1:]\n",
    "daily_sentiments_excerpt"
   ],
   "metadata": {
    "collapsed": false,
    "ExecuteTime": {
     "end_time": "2023-12-02T09:02:45.722808Z",
     "start_time": "2023-12-02T09:00:04.918154Z"
    }
   },
   "id": "4c4b60926302d437"
  },
  {
   "cell_type": "code",
   "execution_count": 64,
   "outputs": [],
   "source": [
    "daily_sentiments_excerpt['sentimental_score'] = daily_sentiments_excerpt['Positive'] - daily_sentiments_excerpt['Negative'] + daily_sentiments_excerpt['Neutral'] * 0.5"
   ],
   "metadata": {
    "collapsed": false,
    "ExecuteTime": {
     "end_time": "2023-12-02T09:12:16.407489Z",
     "start_time": "2023-12-02T09:12:16.380703Z"
    }
   },
   "id": "df810fe224f8188c"
  },
  {
   "cell_type": "code",
   "execution_count": 66,
   "outputs": [],
   "source": [
    "daily_sentiments_excerpt.resample('M').mean().to_csv('../../Data/Final/USDT_sentiment.csv')"
   ],
   "metadata": {
    "collapsed": false,
    "ExecuteTime": {
     "end_time": "2023-12-02T09:14:22.109470Z",
     "start_time": "2023-12-02T09:14:22.090735Z"
    }
   },
   "id": "92e539505602888f"
  },
  {
   "cell_type": "code",
   "execution_count": null,
   "outputs": [],
   "source": [],
   "metadata": {
    "collapsed": false
   },
   "id": "ed27b53a05c5129c"
  }
 ],
 "metadata": {
  "kernelspec": {
   "display_name": "Python 3 (ipykernel)",
   "language": "python",
   "name": "python3"
  },
  "language_info": {
   "codemirror_mode": {
    "name": "ipython",
    "version": 3
   },
   "file_extension": ".py",
   "mimetype": "text/x-python",
   "name": "python",
   "nbconvert_exporter": "python",
   "pygments_lexer": "ipython3",
   "version": "3.11.4"
  }
 },
 "nbformat": 4,
 "nbformat_minor": 5
}
