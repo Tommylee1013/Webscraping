{
 "cells": [
  {
   "cell_type": "markdown",
   "source": [
    "### FINBERT"
   ],
   "metadata": {
    "collapsed": false
   },
   "id": "152cd0730265ec40"
  },
  {
   "cell_type": "code",
   "execution_count": 3,
   "id": "initial_id",
   "metadata": {
    "collapsed": true,
    "ExecuteTime": {
     "end_time": "2023-11-25T08:27:39.108867Z",
     "start_time": "2023-11-25T08:27:37.017803Z"
    }
   },
   "outputs": [],
   "source": [
    "import numpy as np\n",
    "import pandas as pd\n",
    "import torch\n",
    "from transformers import AutoTokenizer, AutoModelForSequenceClassification\n",
    "from torch.utils.data import DataLoader, TensorDataset\n",
    "import nltk\n",
    "from nltk.corpus import stopwords\n",
    "\n",
    "model_name = \"yiyanghkust/finbert-tone\"\n",
    "tokenizer = AutoTokenizer.from_pretrained(model_name)\n",
    "model = AutoModelForSequenceClassification.from_pretrained(model_name)"
   ]
  },
  {
   "cell_type": "code",
   "execution_count": 4,
   "outputs": [],
   "source": [
    "import warnings\n",
    "warnings.simplefilter(action='ignore', category=FutureWarning) # FutureWarning 제거"
   ],
   "metadata": {
    "collapsed": false,
    "ExecuteTime": {
     "end_time": "2023-11-25T08:27:39.112154Z",
     "start_time": "2023-11-25T08:27:39.109516Z"
    }
   },
   "id": "2b01af21be694ed8"
  },
  {
   "cell_type": "markdown",
   "source": [
    "#### Data Import "
   ],
   "metadata": {
    "collapsed": false
   },
   "id": "73f7355648784ca6"
  },
  {
   "cell_type": "code",
   "execution_count": 12,
   "outputs": [],
   "source": [
    "speech = pd.read_excel('../../Data/speech_df.xlsx', index_col = 1)"
   ],
   "metadata": {
    "collapsed": false,
    "ExecuteTime": {
     "end_time": "2023-11-25T08:43:10.869089Z",
     "start_time": "2023-11-25T08:43:10.692927Z"
    }
   },
   "id": "c34bc09f52aa5e79"
  },
  {
   "cell_type": "code",
   "execution_count": 13,
   "outputs": [
    {
     "data": {
      "text/plain": "                   Unnamed: 0  \\\ndate                            \nNovember 16, 2023           0   \nNovember 16, 2023           1   \nNovember 14, 2023           2   \nNovember 13, 2023           3   \nNovember 09, 2023           4   \n...                       ...   \nFebruary 24, 2006        1041   \nFebruary 23, 2006        1042   \nFebruary 06, 2006        1043   \nFebruary 02, 2006        1044   \nJanuary 18, 2006         1045   \n\n                                                               title  \\\ndate                                                                   \nNovember 16, 2023  Global Linkages:  Supply, Spillovers, and Comm...   \nNovember 16, 2023           The 2023 U.S. Treasury Market Conference   \nNovember 14, 2023  Elevated Economic Uncertainty: Causes and Cons...   \nNovember 13, 2023                                  Welcoming Remarks   \nNovember 09, 2023                                    Opening Remarks   \n...                                                              ...   \nFebruary 24, 2006                    The Benefits of Price Stability   \nFebruary 23, 2006  Globalization, Insurers, and Regulators: Share...   \nFebruary 06, 2006  Remarks at ceremonial swearing-in by President...   \nFebruary 02, 2006       The Continuous Challenges of Risk Management   \nJanuary 18, 2006                   Productivity and Economic Outlook   \n\n                                                      speaker  \\\ndate                                                            \nNovember 16, 2023                       Governor Lisa D. Cook   \nNovember 16, 2023  Vice Chair for Supervision Michael S. Barr   \nNovember 14, 2023              Vice Chair Philip N. Jefferson   \nNovember 13, 2023                       Governor Lisa D. Cook   \nNovember 09, 2023                      Chair Jerome H. Powell   \n...                                                       ...   \nFebruary 24, 2006                    Chairman Ben S. Bernanke   \nFebruary 23, 2006        Vice Chairman Roger W. Ferguson, Jr.   \nFebruary 06, 2006                    Chairman Ben S. Bernanke   \nFebruary 02, 2006                 Governor Susan Schmidt Bies   \nJanuary 18, 2006                  Governor Susan Schmidt Bies   \n\n                                                              speech  \ndate                                                                  \nNovember 16, 2023   Thank you, Sylvain, and thank you for the opp...  \nNovember 16, 2023   I am pleased to join you today at the ninth a...  \nNovember 14, 2023   Introduction \\nThank you for the opportunity ...  \nNovember 13, 2023   Good morning, and welcome to the 5th annual c...  \nNovember 09, 2023   Thank you for the opportunity to participate ...  \n...                                                              ...  \nFebruary 24, 2006   It is a great pleasure for me to return to Pr...  \nFebruary 23, 2006   I am honored to deliver the keynote address a...  \nFebruary 06, 2006   Good morning. I would like to begin by thanki...  \nFebruary 02, 2006   I thank you for the invitation to speak today...  \nJanuary 18, 2006    I appreciate the opportunity to speak with yo...  \n\n[1046 rows x 4 columns]",
      "text/html": "<div>\n<style scoped>\n    .dataframe tbody tr th:only-of-type {\n        vertical-align: middle;\n    }\n\n    .dataframe tbody tr th {\n        vertical-align: top;\n    }\n\n    .dataframe thead th {\n        text-align: right;\n    }\n</style>\n<table border=\"1\" class=\"dataframe\">\n  <thead>\n    <tr style=\"text-align: right;\">\n      <th></th>\n      <th>Unnamed: 0</th>\n      <th>title</th>\n      <th>speaker</th>\n      <th>speech</th>\n    </tr>\n    <tr>\n      <th>date</th>\n      <th></th>\n      <th></th>\n      <th></th>\n      <th></th>\n    </tr>\n  </thead>\n  <tbody>\n    <tr>\n      <th>November 16, 2023</th>\n      <td>0</td>\n      <td>Global Linkages:  Supply, Spillovers, and Comm...</td>\n      <td>Governor Lisa D. Cook</td>\n      <td>Thank you, Sylvain, and thank you for the opp...</td>\n    </tr>\n    <tr>\n      <th>November 16, 2023</th>\n      <td>1</td>\n      <td>The 2023 U.S. Treasury Market Conference</td>\n      <td>Vice Chair for Supervision Michael S. Barr</td>\n      <td>I am pleased to join you today at the ninth a...</td>\n    </tr>\n    <tr>\n      <th>November 14, 2023</th>\n      <td>2</td>\n      <td>Elevated Economic Uncertainty: Causes and Cons...</td>\n      <td>Vice Chair Philip N. Jefferson</td>\n      <td>Introduction \\nThank you for the opportunity ...</td>\n    </tr>\n    <tr>\n      <th>November 13, 2023</th>\n      <td>3</td>\n      <td>Welcoming Remarks</td>\n      <td>Governor Lisa D. Cook</td>\n      <td>Good morning, and welcome to the 5th annual c...</td>\n    </tr>\n    <tr>\n      <th>November 09, 2023</th>\n      <td>4</td>\n      <td>Opening Remarks</td>\n      <td>Chair Jerome H. Powell</td>\n      <td>Thank you for the opportunity to participate ...</td>\n    </tr>\n    <tr>\n      <th>...</th>\n      <td>...</td>\n      <td>...</td>\n      <td>...</td>\n      <td>...</td>\n    </tr>\n    <tr>\n      <th>February 24, 2006</th>\n      <td>1041</td>\n      <td>The Benefits of Price Stability</td>\n      <td>Chairman Ben S. Bernanke</td>\n      <td>It is a great pleasure for me to return to Pr...</td>\n    </tr>\n    <tr>\n      <th>February 23, 2006</th>\n      <td>1042</td>\n      <td>Globalization, Insurers, and Regulators: Share...</td>\n      <td>Vice Chairman Roger W. Ferguson, Jr.</td>\n      <td>I am honored to deliver the keynote address a...</td>\n    </tr>\n    <tr>\n      <th>February 06, 2006</th>\n      <td>1043</td>\n      <td>Remarks at ceremonial swearing-in by President...</td>\n      <td>Chairman Ben S. Bernanke</td>\n      <td>Good morning. I would like to begin by thanki...</td>\n    </tr>\n    <tr>\n      <th>February 02, 2006</th>\n      <td>1044</td>\n      <td>The Continuous Challenges of Risk Management</td>\n      <td>Governor Susan Schmidt Bies</td>\n      <td>I thank you for the invitation to speak today...</td>\n    </tr>\n    <tr>\n      <th>January 18, 2006</th>\n      <td>1045</td>\n      <td>Productivity and Economic Outlook</td>\n      <td>Governor Susan Schmidt Bies</td>\n      <td>I appreciate the opportunity to speak with yo...</td>\n    </tr>\n  </tbody>\n</table>\n<p>1046 rows × 4 columns</p>\n</div>"
     },
     "execution_count": 13,
     "metadata": {},
     "output_type": "execute_result"
    }
   ],
   "source": [
    "speech"
   ],
   "metadata": {
    "collapsed": false,
    "ExecuteTime": {
     "end_time": "2023-11-25T08:43:11.607024Z",
     "start_time": "2023-11-25T08:43:11.599469Z"
    }
   },
   "id": "b3dd6cc2c23bd2f1"
  },
  {
   "cell_type": "code",
   "execution_count": 14,
   "outputs": [],
   "source": [
    "speech.index = pd.to_datetime(speech.index)"
   ],
   "metadata": {
    "collapsed": false,
    "ExecuteTime": {
     "end_time": "2023-11-25T08:43:23.342086Z",
     "start_time": "2023-11-25T08:43:23.336798Z"
    }
   },
   "id": "a0e23952df3a961b"
  },
  {
   "cell_type": "code",
   "execution_count": 15,
   "outputs": [
    {
     "data": {
      "text/plain": "            Unnamed: 0                                              title  \\\ndate                                                                        \n2023-11-16           0  Global Linkages:  Supply, Spillovers, and Comm...   \n2023-11-16           1           The 2023 U.S. Treasury Market Conference   \n2023-11-14           2  Elevated Economic Uncertainty: Causes and Cons...   \n2023-11-13           3                                  Welcoming Remarks   \n2023-11-09           4                                    Opening Remarks   \n...                ...                                                ...   \n2006-02-24        1041                    The Benefits of Price Stability   \n2006-02-23        1042  Globalization, Insurers, and Regulators: Share...   \n2006-02-06        1043  Remarks at ceremonial swearing-in by President...   \n2006-02-02        1044       The Continuous Challenges of Risk Management   \n2006-01-18        1045                  Productivity and Economic Outlook   \n\n                                               speaker  \\\ndate                                                     \n2023-11-16                       Governor Lisa D. Cook   \n2023-11-16  Vice Chair for Supervision Michael S. Barr   \n2023-11-14              Vice Chair Philip N. Jefferson   \n2023-11-13                       Governor Lisa D. Cook   \n2023-11-09                      Chair Jerome H. Powell   \n...                                                ...   \n2006-02-24                    Chairman Ben S. Bernanke   \n2006-02-23        Vice Chairman Roger W. Ferguson, Jr.   \n2006-02-06                    Chairman Ben S. Bernanke   \n2006-02-02                 Governor Susan Schmidt Bies   \n2006-01-18                 Governor Susan Schmidt Bies   \n\n                                                       speech  \ndate                                                           \n2023-11-16   Thank you, Sylvain, and thank you for the opp...  \n2023-11-16   I am pleased to join you today at the ninth a...  \n2023-11-14   Introduction \\nThank you for the opportunity ...  \n2023-11-13   Good morning, and welcome to the 5th annual c...  \n2023-11-09   Thank you for the opportunity to participate ...  \n...                                                       ...  \n2006-02-24   It is a great pleasure for me to return to Pr...  \n2006-02-23   I am honored to deliver the keynote address a...  \n2006-02-06   Good morning. I would like to begin by thanki...  \n2006-02-02   I thank you for the invitation to speak today...  \n2006-01-18   I appreciate the opportunity to speak with yo...  \n\n[1046 rows x 4 columns]",
      "text/html": "<div>\n<style scoped>\n    .dataframe tbody tr th:only-of-type {\n        vertical-align: middle;\n    }\n\n    .dataframe tbody tr th {\n        vertical-align: top;\n    }\n\n    .dataframe thead th {\n        text-align: right;\n    }\n</style>\n<table border=\"1\" class=\"dataframe\">\n  <thead>\n    <tr style=\"text-align: right;\">\n      <th></th>\n      <th>Unnamed: 0</th>\n      <th>title</th>\n      <th>speaker</th>\n      <th>speech</th>\n    </tr>\n    <tr>\n      <th>date</th>\n      <th></th>\n      <th></th>\n      <th></th>\n      <th></th>\n    </tr>\n  </thead>\n  <tbody>\n    <tr>\n      <th>2023-11-16</th>\n      <td>0</td>\n      <td>Global Linkages:  Supply, Spillovers, and Comm...</td>\n      <td>Governor Lisa D. Cook</td>\n      <td>Thank you, Sylvain, and thank you for the opp...</td>\n    </tr>\n    <tr>\n      <th>2023-11-16</th>\n      <td>1</td>\n      <td>The 2023 U.S. Treasury Market Conference</td>\n      <td>Vice Chair for Supervision Michael S. Barr</td>\n      <td>I am pleased to join you today at the ninth a...</td>\n    </tr>\n    <tr>\n      <th>2023-11-14</th>\n      <td>2</td>\n      <td>Elevated Economic Uncertainty: Causes and Cons...</td>\n      <td>Vice Chair Philip N. Jefferson</td>\n      <td>Introduction \\nThank you for the opportunity ...</td>\n    </tr>\n    <tr>\n      <th>2023-11-13</th>\n      <td>3</td>\n      <td>Welcoming Remarks</td>\n      <td>Governor Lisa D. Cook</td>\n      <td>Good morning, and welcome to the 5th annual c...</td>\n    </tr>\n    <tr>\n      <th>2023-11-09</th>\n      <td>4</td>\n      <td>Opening Remarks</td>\n      <td>Chair Jerome H. Powell</td>\n      <td>Thank you for the opportunity to participate ...</td>\n    </tr>\n    <tr>\n      <th>...</th>\n      <td>...</td>\n      <td>...</td>\n      <td>...</td>\n      <td>...</td>\n    </tr>\n    <tr>\n      <th>2006-02-24</th>\n      <td>1041</td>\n      <td>The Benefits of Price Stability</td>\n      <td>Chairman Ben S. Bernanke</td>\n      <td>It is a great pleasure for me to return to Pr...</td>\n    </tr>\n    <tr>\n      <th>2006-02-23</th>\n      <td>1042</td>\n      <td>Globalization, Insurers, and Regulators: Share...</td>\n      <td>Vice Chairman Roger W. Ferguson, Jr.</td>\n      <td>I am honored to deliver the keynote address a...</td>\n    </tr>\n    <tr>\n      <th>2006-02-06</th>\n      <td>1043</td>\n      <td>Remarks at ceremonial swearing-in by President...</td>\n      <td>Chairman Ben S. Bernanke</td>\n      <td>Good morning. I would like to begin by thanki...</td>\n    </tr>\n    <tr>\n      <th>2006-02-02</th>\n      <td>1044</td>\n      <td>The Continuous Challenges of Risk Management</td>\n      <td>Governor Susan Schmidt Bies</td>\n      <td>I thank you for the invitation to speak today...</td>\n    </tr>\n    <tr>\n      <th>2006-01-18</th>\n      <td>1045</td>\n      <td>Productivity and Economic Outlook</td>\n      <td>Governor Susan Schmidt Bies</td>\n      <td>I appreciate the opportunity to speak with yo...</td>\n    </tr>\n  </tbody>\n</table>\n<p>1046 rows × 4 columns</p>\n</div>"
     },
     "execution_count": 15,
     "metadata": {},
     "output_type": "execute_result"
    }
   ],
   "source": [
    "speech"
   ],
   "metadata": {
    "collapsed": false,
    "ExecuteTime": {
     "end_time": "2023-11-25T08:43:25.869243Z",
     "start_time": "2023-11-25T08:43:25.859294Z"
    }
   },
   "id": "de1608554087b03e"
  },
  {
   "cell_type": "code",
   "execution_count": 16,
   "outputs": [
    {
     "name": "stderr",
     "output_type": "stream",
     "text": [
      "[nltk_data] Downloading package stopwords to\n",
      "[nltk_data]     /Users/junghunlee/nltk_data...\n",
      "[nltk_data]   Package stopwords is already up-to-date!\n"
     ]
    }
   ],
   "source": [
    "daily_sentiments = pd.DataFrame(columns = [\"Date\", \"Positive\", \"Negative\", \"Neutral\"])\n",
    "unique_dates = speech.index.unique()\n",
    "nltk.download(\"stopwords\")\n",
    "stop_words = set(stopwords.words(\"english\"))"
   ],
   "metadata": {
    "collapsed": false,
    "ExecuteTime": {
     "end_time": "2023-11-25T08:44:19.235313Z",
     "start_time": "2023-11-25T08:44:18.959439Z"
    }
   },
   "id": "480cd233401b5367"
  },
  {
   "cell_type": "code",
   "execution_count": 18,
   "outputs": [],
   "source": [
    "text_for_date = speech[\"speech\"].tolist()\n",
    "\n",
    "tokenized_texts = [\n",
    "        [word for word in tokenizer.tokenize(text) if word.lower() not in stop_words]\n",
    "        for text in text_for_date]"
   ],
   "metadata": {
    "collapsed": false,
    "ExecuteTime": {
     "end_time": "2023-11-25T08:45:06.331810Z",
     "start_time": "2023-11-25T08:44:59.959728Z"
    }
   },
   "id": "55129504bafd4c6d"
  },
  {
   "cell_type": "code",
   "execution_count": 20,
   "outputs": [
    {
     "data": {
      "text/plain": "4761"
     },
     "execution_count": 20,
     "metadata": {},
     "output_type": "execute_result"
    }
   ],
   "source": [
    "len(max(tokenized_texts, key = len))"
   ],
   "metadata": {
    "collapsed": false,
    "ExecuteTime": {
     "end_time": "2023-11-25T08:46:57.622044Z",
     "start_time": "2023-11-25T08:46:57.615973Z"
    }
   },
   "id": "c840a8e9bba7877f"
  },
  {
   "cell_type": "code",
   "execution_count": 21,
   "outputs": [
    {
     "name": "stderr",
     "output_type": "stream",
     "text": [
      "[nltk_data] Downloading package stopwords to\n",
      "[nltk_data]     /Users/junghunlee/nltk_data...\n",
      "[nltk_data]   Package stopwords is already up-to-date!\n"
     ]
    },
    {
     "data": {
      "text/plain": "                Positive      Negative   Neutral\nDate                                            \n2023-11-16  9.260676e-05  6.362590e-01  0.363648\n2023-11-14  8.614503e-05  9.999092e-01  0.000005\n2023-11-13  3.063124e-06  2.920278e-03  0.997077\n2023-11-09  3.795873e-05  4.946647e-01  0.505297\n2023-11-08  2.169078e-04  6.716564e-01  0.328127\n...                  ...           ...       ...\n2006-02-24  5.051418e-06  9.862870e-01  0.013708\n2006-02-23  9.557231e-06  8.381755e-04  0.999152\n2006-02-06  1.203636e-05  9.765797e-01  0.023408\n2006-02-02  8.535815e-01  3.401738e-02  0.112401\n2006-01-18  7.971052e-08  2.516444e-07  1.000000\n\n[896 rows x 3 columns]",
      "text/html": "<div>\n<style scoped>\n    .dataframe tbody tr th:only-of-type {\n        vertical-align: middle;\n    }\n\n    .dataframe tbody tr th {\n        vertical-align: top;\n    }\n\n    .dataframe thead th {\n        text-align: right;\n    }\n</style>\n<table border=\"1\" class=\"dataframe\">\n  <thead>\n    <tr style=\"text-align: right;\">\n      <th></th>\n      <th>Positive</th>\n      <th>Negative</th>\n      <th>Neutral</th>\n    </tr>\n    <tr>\n      <th>Date</th>\n      <th></th>\n      <th></th>\n      <th></th>\n    </tr>\n  </thead>\n  <tbody>\n    <tr>\n      <th>2023-11-16</th>\n      <td>9.260676e-05</td>\n      <td>6.362590e-01</td>\n      <td>0.363648</td>\n    </tr>\n    <tr>\n      <th>2023-11-14</th>\n      <td>8.614503e-05</td>\n      <td>9.999092e-01</td>\n      <td>0.000005</td>\n    </tr>\n    <tr>\n      <th>2023-11-13</th>\n      <td>3.063124e-06</td>\n      <td>2.920278e-03</td>\n      <td>0.997077</td>\n    </tr>\n    <tr>\n      <th>2023-11-09</th>\n      <td>3.795873e-05</td>\n      <td>4.946647e-01</td>\n      <td>0.505297</td>\n    </tr>\n    <tr>\n      <th>2023-11-08</th>\n      <td>2.169078e-04</td>\n      <td>6.716564e-01</td>\n      <td>0.328127</td>\n    </tr>\n    <tr>\n      <th>...</th>\n      <td>...</td>\n      <td>...</td>\n      <td>...</td>\n    </tr>\n    <tr>\n      <th>2006-02-24</th>\n      <td>5.051418e-06</td>\n      <td>9.862870e-01</td>\n      <td>0.013708</td>\n    </tr>\n    <tr>\n      <th>2006-02-23</th>\n      <td>9.557231e-06</td>\n      <td>8.381755e-04</td>\n      <td>0.999152</td>\n    </tr>\n    <tr>\n      <th>2006-02-06</th>\n      <td>1.203636e-05</td>\n      <td>9.765797e-01</td>\n      <td>0.023408</td>\n    </tr>\n    <tr>\n      <th>2006-02-02</th>\n      <td>8.535815e-01</td>\n      <td>3.401738e-02</td>\n      <td>0.112401</td>\n    </tr>\n    <tr>\n      <th>2006-01-18</th>\n      <td>7.971052e-08</td>\n      <td>2.516444e-07</td>\n      <td>1.000000</td>\n    </tr>\n  </tbody>\n</table>\n<p>896 rows × 3 columns</p>\n</div>"
     },
     "execution_count": 21,
     "metadata": {},
     "output_type": "execute_result"
    }
   ],
   "source": [
    "import time \n",
    "start_time = time.time()\n",
    "\n",
    "nltk.download(\"stopwords\")\n",
    "stop_words = set(stopwords.words(\"english\"))\n",
    "\n",
    "for date in unique_dates:    \n",
    "    #text_for_date = data[data[\"rgs_dt\"] == date][\"news_smy_ifo\"].tolist()\n",
    "    text_for_date = speech[speech.index == date][\"speech\"].tolist()\n",
    "\n",
    "    tokenized_texts = [\n",
    "        [word for word in tokenizer.tokenize(text) if word.lower() not in stop_words]\n",
    "        for text in text_for_date\n",
    "    ]\n",
    "\n",
    "    max_token_length = 150\n",
    "\n",
    "    tokenized_texts = [\" \".join(tokens[:max_token_length]) for tokens in tokenized_texts]\n",
    "    inputs = tokenizer(tokenized_texts, padding = True, truncation = True, return_tensors = \"pt\", max_length = max_token_length)\n",
    "\n",
    "    with torch.no_grad():\n",
    "        outputs = model(**inputs)\n",
    "        logits = outputs.logits\n",
    "\n",
    "    probabilities = torch.softmax(logits, dim=1)\n",
    "    positive_prob = probabilities[:, 2].mean().item()\n",
    "    negative_prob = probabilities[:, 0].mean().item()\n",
    "    neutral_prob = probabilities[:, 1].mean().item()\n",
    "    \n",
    "    daily_sentiments = pd.concat([daily_sentiments, \n",
    "                                  pd.DataFrame({\"Date\": date, \n",
    "                                                \"Positive\": positive_prob, \n",
    "                                                \"Negative\": negative_prob, \n",
    "                                                \"Neutral\": neutral_prob}, index = ['0'])],\n",
    "                                 ignore_index = True)\n",
    "\n",
    "daily_sentiments.index = daily_sentiments.Date\n",
    "daily_sentiments = daily_sentiments.iloc[:,1:]\n",
    "daily_sentiments"
   ],
   "metadata": {
    "collapsed": false,
    "ExecuteTime": {
     "end_time": "2023-11-25T08:49:13.693941Z",
     "start_time": "2023-11-25T08:47:45.054822Z"
    }
   },
   "id": "691b5ae812b1f98f"
  },
  {
   "cell_type": "code",
   "execution_count": 22,
   "outputs": [],
   "source": [
    "daily_sentiments['sentimental_score'] = daily_sentiments['Positive'] - daily_sentiments['Negative'] + daily_sentiments['Neutral'] * 0.5"
   ],
   "metadata": {
    "collapsed": false,
    "ExecuteTime": {
     "end_time": "2023-11-25T08:49:59.187981Z",
     "start_time": "2023-11-25T08:49:59.170564Z"
    }
   },
   "id": "c3500984d2c0ddfc"
  },
  {
   "cell_type": "code",
   "execution_count": 28,
   "outputs": [
    {
     "data": {
      "text/plain": "<Figure size 640x480 with 1 Axes>",
      "image/png": "[encoded data removed]"
     },
     "metadata": {},
     "output_type": "display_data"
    }
   ],
   "source": [
    "import matplotlib.pyplot as plt\n",
    "\n",
    "plt.hist(daily_sentiments['sentimental_score'], bins = 100, color = 'darkorange')\n",
    "plt.grid(False)\n",
    "plt.title(\"Federal Reserve Speeches\", fontsize = 12, fontfamily = 'Serif')\n",
    "plt.show()"
   ],
   "metadata": {
    "collapsed": false,
    "ExecuteTime": {
     "end_time": "2023-11-25T08:51:23.671253Z",
     "start_time": "2023-11-25T08:51:23.541595Z"
    }
   },
   "id": "3dfc32205cdd93ec"
  },
  {
   "cell_type": "code",
   "execution_count": 35,
   "outputs": [
    {
     "data": {
      "text/plain": "                Positive      Negative   Neutral  sentimental_score\nDate                                                               \n2006-01-31  7.971052e-08  2.516444e-07  1.000000           0.500000\n2006-02-28  2.134020e-01  4.994306e-01  0.287167          -0.142445\n2006-03-31  2.156177e-01  5.577889e-01  0.226593          -0.228875\n2006-04-30  4.671889e-02  4.433666e-01  0.509914          -0.141691\n2006-05-31  1.709526e-04  6.226610e-01  0.377168          -0.433906\n...                  ...           ...       ...                ...\n2023-07-31  5.476058e-02  6.210716e-01  0.324168          -0.404227\n2023-08-31  5.046593e-04  7.823840e-01  0.217111          -0.673324\n2023-09-30  1.012808e-03  6.145024e-01  0.384485          -0.421247\n2023-10-31  2.448585e-03  7.261041e-01  0.271447          -0.587932\n2023-11-30  1.255554e-04  6.861930e-01  0.313681          -0.529227\n\n[215 rows x 4 columns]",
      "text/html": "<div>\n<style scoped>\n    .dataframe tbody tr th:only-of-type {\n        vertical-align: middle;\n    }\n\n    .dataframe tbody tr th {\n        vertical-align: top;\n    }\n\n    .dataframe thead th {\n        text-align: right;\n    }\n</style>\n<table border=\"1\" class=\"dataframe\">\n  <thead>\n    <tr style=\"text-align: right;\">\n      <th></th>\n      <th>Positive</th>\n      <th>Negative</th>\n      <th>Neutral</th>\n      <th>sentimental_score</th>\n    </tr>\n    <tr>\n      <th>Date</th>\n      <th></th>\n      <th></th>\n      <th></th>\n      <th></th>\n    </tr>\n  </thead>\n  <tbody>\n    <tr>\n      <th>2006-01-31</th>\n      <td>7.971052e-08</td>\n      <td>2.516444e-07</td>\n      <td>1.000000</td>\n      <td>0.500000</td>\n    </tr>\n    <tr>\n      <th>2006-02-28</th>\n      <td>2.134020e-01</td>\n      <td>4.994306e-01</td>\n      <td>0.287167</td>\n      <td>-0.142445</td>\n    </tr>\n    <tr>\n      <th>2006-03-31</th>\n      <td>2.156177e-01</td>\n      <td>5.577889e-01</td>\n      <td>0.226593</td>\n      <td>-0.228875</td>\n    </tr>\n    <tr>\n      <th>2006-04-30</th>\n      <td>4.671889e-02</td>\n      <td>4.433666e-01</td>\n      <td>0.509914</td>\n      <td>-0.141691</td>\n    </tr>\n    <tr>\n      <th>2006-05-31</th>\n      <td>1.709526e-04</td>\n      <td>6.226610e-01</td>\n      <td>0.377168</td>\n      <td>-0.433906</td>\n    </tr>\n    <tr>\n      <th>...</th>\n      <td>...</td>\n      <td>...</td>\n      <td>...</td>\n      <td>...</td>\n    </tr>\n    <tr>\n      <th>2023-07-31</th>\n      <td>5.476058e-02</td>\n      <td>6.210716e-01</td>\n      <td>0.324168</td>\n      <td>-0.404227</td>\n    </tr>\n    <tr>\n      <th>2023-08-31</th>\n      <td>5.046593e-04</td>\n      <td>7.823840e-01</td>\n      <td>0.217111</td>\n      <td>-0.673324</td>\n    </tr>\n    <tr>\n      <th>2023-09-30</th>\n      <td>1.012808e-03</td>\n      <td>6.145024e-01</td>\n      <td>0.384485</td>\n      <td>-0.421247</td>\n    </tr>\n    <tr>\n      <th>2023-10-31</th>\n      <td>2.448585e-03</td>\n      <td>7.261041e-01</td>\n      <td>0.271447</td>\n      <td>-0.587932</td>\n    </tr>\n    <tr>\n      <th>2023-11-30</th>\n      <td>1.255554e-04</td>\n      <td>6.861930e-01</td>\n      <td>0.313681</td>\n      <td>-0.529227</td>\n    </tr>\n  </tbody>\n</table>\n<p>215 rows × 4 columns</p>\n</div>"
     },
     "execution_count": 35,
     "metadata": {},
     "output_type": "execute_result"
    }
   ],
   "source": [
    "daily_sentiments.resample('M').mean()"
   ],
   "metadata": {
    "collapsed": false,
    "ExecuteTime": {
     "end_time": "2023-11-25T09:08:00.709398Z",
     "start_time": "2023-11-25T09:08:00.696127Z"
    }
   },
   "id": "3ecd239ce71dd092"
  },
  {
   "cell_type": "code",
   "execution_count": 38,
   "outputs": [
    {
     "data": {
      "text/plain": "<Figure size 640x480 with 1 Axes>",
      "image/png": "[encoded data removed]"
     },
     "metadata": {},
     "output_type": "display_data"
    }
   ],
   "source": [
    "plt.hist(daily_sentiments.resample('M').mean()['sentimental_score'], bins = 100, color = 'darkorange')\n",
    "plt.grid(False)\n",
    "plt.title(\"Federal Reserve Speeches\", fontsize = 12, fontfamily = 'Serif')\n",
    "plt.show()"
   ],
   "metadata": {
    "collapsed": false,
    "ExecuteTime": {
     "end_time": "2023-11-25T10:47:22.369727Z",
     "start_time": "2023-11-25T10:47:22.216275Z"
    }
   },
   "id": "280337017d907bb1"
  },
  {
   "cell_type": "code",
   "execution_count": 37,
   "outputs": [],
   "source": [
    "# daily_sentiments.resample('M').mean().to_csv('../../Data/federal_sentiment.csv')"
   ],
   "metadata": {
    "collapsed": false,
    "ExecuteTime": {
     "end_time": "2023-11-25T09:09:58.763289Z",
     "start_time": "2023-11-25T09:09:58.744687Z"
    }
   },
   "id": "45c6bb37f68edfd8"
  },
  {
   "cell_type": "code",
   "execution_count": 29,
   "outputs": [
    {
     "name": "stderr",
     "output_type": "stream",
     "text": [
      "[nltk_data] Downloading package stopwords to\n",
      "[nltk_data]     /Users/junghunlee/nltk_data...\n",
      "[nltk_data]   Package stopwords is already up-to-date!\n"
     ]
    },
    {
     "data": {
      "text/plain": "            Positive      Negative       Neutral\nDate                                            \n2023-11-16  0.000021  9.996207e-01  3.580711e-04\n2023-11-14  0.999999  2.141863e-07  7.070903e-07\n2023-11-13  0.000006  9.999937e-01  1.253463e-07\n2023-11-09  0.000040  9.999586e-01  1.023317e-06\n2023-11-08  0.000435  6.662204e-01  3.333444e-01\n...              ...           ...           ...\n2006-02-24  0.001206  4.980852e-01  5.007090e-01\n2006-02-23  0.000487  9.849166e-01  1.459588e-02\n2006-02-06  0.000006  9.999704e-01  2.320365e-05\n2006-02-02  0.039426  1.144876e-02  9.491253e-01\n2006-01-18  0.090025  1.129068e-01  7.970686e-01\n\n[896 rows x 3 columns]",
      "text/html": "<div>\n<style scoped>\n    .dataframe tbody tr th:only-of-type {\n        vertical-align: middle;\n    }\n\n    .dataframe tbody tr th {\n        vertical-align: top;\n    }\n\n    .dataframe thead th {\n        text-align: right;\n    }\n</style>\n<table border=\"1\" class=\"dataframe\">\n  <thead>\n    <tr style=\"text-align: right;\">\n      <th></th>\n      <th>Positive</th>\n      <th>Negative</th>\n      <th>Neutral</th>\n    </tr>\n    <tr>\n      <th>Date</th>\n      <th></th>\n      <th></th>\n      <th></th>\n    </tr>\n  </thead>\n  <tbody>\n    <tr>\n      <th>2023-11-16</th>\n      <td>0.000021</td>\n      <td>9.996207e-01</td>\n      <td>3.580711e-04</td>\n    </tr>\n    <tr>\n      <th>2023-11-14</th>\n      <td>0.999999</td>\n      <td>2.141863e-07</td>\n      <td>7.070903e-07</td>\n    </tr>\n    <tr>\n      <th>2023-11-13</th>\n      <td>0.000006</td>\n      <td>9.999937e-01</td>\n      <td>1.253463e-07</td>\n    </tr>\n    <tr>\n      <th>2023-11-09</th>\n      <td>0.000040</td>\n      <td>9.999586e-01</td>\n      <td>1.023317e-06</td>\n    </tr>\n    <tr>\n      <th>2023-11-08</th>\n      <td>0.000435</td>\n      <td>6.662204e-01</td>\n      <td>3.333444e-01</td>\n    </tr>\n    <tr>\n      <th>...</th>\n      <td>...</td>\n      <td>...</td>\n      <td>...</td>\n    </tr>\n    <tr>\n      <th>2006-02-24</th>\n      <td>0.001206</td>\n      <td>4.980852e-01</td>\n      <td>5.007090e-01</td>\n    </tr>\n    <tr>\n      <th>2006-02-23</th>\n      <td>0.000487</td>\n      <td>9.849166e-01</td>\n      <td>1.459588e-02</td>\n    </tr>\n    <tr>\n      <th>2006-02-06</th>\n      <td>0.000006</td>\n      <td>9.999704e-01</td>\n      <td>2.320365e-05</td>\n    </tr>\n    <tr>\n      <th>2006-02-02</th>\n      <td>0.039426</td>\n      <td>1.144876e-02</td>\n      <td>9.491253e-01</td>\n    </tr>\n    <tr>\n      <th>2006-01-18</th>\n      <td>0.090025</td>\n      <td>1.129068e-01</td>\n      <td>7.970686e-01</td>\n    </tr>\n  </tbody>\n</table>\n<p>896 rows × 3 columns</p>\n</div>"
     },
     "execution_count": 29,
     "metadata": {},
     "output_type": "execute_result"
    }
   ],
   "source": [
    "daily_sentiments_excerpt = pd.DataFrame(columns = [\"Date\", \"Positive\", \"Negative\", \"Neutral\"])\n",
    "\n",
    "text_for_date = speech[\"title\"].tolist()\n",
    "\n",
    "tokenized_texts = [\n",
    "        [word for word in tokenizer.tokenize(text) if word.lower() not in stop_words]\n",
    "        for text in text_for_date]\n",
    "\n",
    "start_time = time.time()\n",
    "\n",
    "nltk.download(\"stopwords\")\n",
    "stop_words = set(stopwords.words(\"english\"))\n",
    "\n",
    "for date in unique_dates:    \n",
    "    #text_for_date = data[data[\"rgs_dt\"] == date][\"news_smy_ifo\"].tolist()\n",
    "    text_for_date = speech[speech.index == date][\"title\"].tolist()\n",
    "\n",
    "    tokenized_texts = [\n",
    "        [word for word in tokenizer.tokenize(text) if word.lower() not in stop_words]\n",
    "        for text in text_for_date\n",
    "    ]\n",
    "\n",
    "    max_token_length = 500\n",
    "\n",
    "    tokenized_texts = [\" \".join(tokens[:max_token_length]) for tokens in tokenized_texts]\n",
    "    inputs = tokenizer(tokenized_texts, padding = True, truncation = True, return_tensors = \"pt\", max_length = max_token_length)\n",
    "\n",
    "    with torch.no_grad():\n",
    "        outputs = model(**inputs)\n",
    "        logits = outputs.logits\n",
    "\n",
    "    probabilities = torch.softmax(logits, dim=1)\n",
    "    positive_prob = probabilities[:, 2].mean().item()\n",
    "    negative_prob = probabilities[:, 0].mean().item()\n",
    "    neutral_prob = probabilities[:, 1].mean().item()\n",
    "    \n",
    "    daily_sentiments_excerpt = pd.concat([daily_sentiments_excerpt, \n",
    "                                          pd.DataFrame({\"Date\": date, \n",
    "                                                        \"Positive\": positive_prob, \n",
    "                                                        \"Negative\": negative_prob, \n",
    "                                                        \"Neutral\": neutral_prob}, index = ['0'])],\n",
    "                                 ignore_index = True)\n",
    "\n",
    "daily_sentiments_excerpt.index = daily_sentiments_excerpt.Date\n",
    "daily_sentiments_excerpt = daily_sentiments_excerpt.iloc[:,1:]\n",
    "daily_sentiments_excerpt"
   ],
   "metadata": {
    "collapsed": false,
    "ExecuteTime": {
     "end_time": "2023-11-25T08:53:18.203943Z",
     "start_time": "2023-11-25T08:52:35.783122Z"
    }
   },
   "id": "5b130b7be3f22633"
  },
  {
   "cell_type": "code",
   "execution_count": 30,
   "outputs": [],
   "source": [
    "daily_sentiments_excerpt['sentimental_score'] = daily_sentiments_excerpt['Positive'] - daily_sentiments_excerpt['Negative'] + daily_sentiments_excerpt['Neutral'] * 0.5"
   ],
   "metadata": {
    "collapsed": false,
    "ExecuteTime": {
     "end_time": "2023-11-25T08:53:55.766007Z",
     "start_time": "2023-11-25T08:53:55.749513Z"
    }
   },
   "id": "436796dabc416786"
  },
  {
   "cell_type": "code",
   "execution_count": 31,
   "outputs": [
    {
     "data": {
      "text/plain": "<Figure size 640x480 with 1 Axes>",
      "image/png": "[encoded data removed]"
     },
     "metadata": {},
     "output_type": "display_data"
    }
   ],
   "source": [
    "import matplotlib.pyplot as plt\n",
    "\n",
    "plt.hist(daily_sentiments_excerpt['sentimental_score'], bins = 100, color = 'darkorange')\n",
    "plt.grid(False)\n",
    "plt.title(\"Rederal Reserve Speeches\", fontsize = 12, fontfamily = 'Serif')\n",
    "plt.show()"
   ],
   "metadata": {
    "collapsed": false,
    "ExecuteTime": {
     "end_time": "2023-11-25T08:54:27.021575Z",
     "start_time": "2023-11-25T08:54:26.898782Z"
    }
   },
   "id": "e1f781788bf20ef5"
  }
 ],
 "metadata": {
  "kernelspec": {
   "display_name": "Python 3",
   "language": "python",
   "name": "python3"
  },
  "language_info": {
   "codemirror_mode": {
    "name": "ipython",
    "version": 2
   },
   "file_extension": ".py",
   "mimetype": "text/x-python",
   "name": "python",
   "nbconvert_exporter": "python",
   "pygments_lexer": "ipython2",
   "version": "2.7.6"
  }
 },
 "nbformat": 4,
 "nbformat_minor": 5
}
