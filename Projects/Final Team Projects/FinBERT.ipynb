{
 "cells": [
  {
   "cell_type": "markdown",
   "id": "152cd0730265ec40",
   "metadata": {},
   "source": [
    "### FINBERT"
   ]
  },
  {
   "cell_type": "code",
   "execution_count": 1,
   "id": "initial_id",
   "metadata": {
    "collapsed": true,
    "ExecuteTime": {
     "end_time": "2023-12-09T06:20:13.308099Z",
     "start_time": "2023-12-09T06:20:11.907325Z"
    }
   },
   "outputs": [
    {
     "name": "stdout",
     "output_type": "stream",
     "text": [
      "Intel MKL WARNING: Support of Intel(R) Streaming SIMD Extensions 4.2 (Intel(R) SSE4.2) enabled only processors has been deprecated. Intel oneAPI Math Kernel Library 2025.0 will require Intel(R) Advanced Vector Extensions (Intel(R) AVX) instructions.\n",
      "Intel MKL WARNING: Support of Intel(R) Streaming SIMD Extensions 4.2 (Intel(R) SSE4.2) enabled only processors has been deprecated. Intel oneAPI Math Kernel Library 2025.0 will require Intel(R) Advanced Vector Extensions (Intel(R) AVX) instructions.\n"
     ]
    },
    {
     "ename": "ModuleNotFoundError",
     "evalue": "No module named 'torch'",
     "output_type": "error",
     "traceback": [
      "\u001B[0;31m---------------------------------------------------------------------------\u001B[0m",
      "\u001B[0;31mModuleNotFoundError\u001B[0m                       Traceback (most recent call last)",
      "Cell \u001B[0;32mIn[1], line 3\u001B[0m\n\u001B[1;32m      1\u001B[0m \u001B[38;5;28;01mimport\u001B[39;00m \u001B[38;5;21;01mnumpy\u001B[39;00m \u001B[38;5;28;01mas\u001B[39;00m \u001B[38;5;21;01mnp\u001B[39;00m\n\u001B[1;32m      2\u001B[0m \u001B[38;5;28;01mimport\u001B[39;00m \u001B[38;5;21;01mpandas\u001B[39;00m \u001B[38;5;28;01mas\u001B[39;00m \u001B[38;5;21;01mpd\u001B[39;00m\n\u001B[0;32m----> 3\u001B[0m \u001B[38;5;28;01mimport\u001B[39;00m \u001B[38;5;21;01mtorch\u001B[39;00m\n\u001B[1;32m      4\u001B[0m \u001B[38;5;28;01mfrom\u001B[39;00m \u001B[38;5;21;01mtransformers\u001B[39;00m \u001B[38;5;28;01mimport\u001B[39;00m AutoTokenizer, AutoModelForSequenceClassification\n\u001B[1;32m      5\u001B[0m \u001B[38;5;28;01mfrom\u001B[39;00m \u001B[38;5;21;01mtorch\u001B[39;00m\u001B[38;5;21;01m.\u001B[39;00m\u001B[38;5;21;01mutils\u001B[39;00m\u001B[38;5;21;01m.\u001B[39;00m\u001B[38;5;21;01mdata\u001B[39;00m \u001B[38;5;28;01mimport\u001B[39;00m DataLoader, TensorDataset\n",
      "\u001B[0;31mModuleNotFoundError\u001B[0m: No module named 'torch'"
     ]
    }
   ],
   "source": [
    "import numpy as np\n",
    "import pandas as pd\n",
    "import torch\n",
    "from transformers import AutoTokenizer, AutoModelForSequenceClassification\n",
    "from torch.utils.data import DataLoader, TensorDataset\n",
    "import nltk\n",
    "from nltk.corpus import stopwords\n",
    "\n",
    "model_name = \"yiyanghkust/finbert-tone\"\n",
    "tokenizer = AutoTokenizer.from_pretrained(model_name)\n",
    "model = AutoModelForSequenceClassification.from_pretrained(model_name)"
   ]
  },
  {
   "cell_type": "code",
   "execution_count": 2,
   "id": "2b01af21be694ed8",
   "metadata": {
    "ExecuteTime": {
     "end_time": "2023-12-08T14:03:56.642560Z",
     "start_time": "2023-12-08T14:03:56.640576Z"
    }
   },
   "outputs": [],
   "source": [
    "import warnings\n",
    "warnings.simplefilter(action='ignore', category=FutureWarning) # FutureWarning 제거"
   ]
  },
  {
   "cell_type": "markdown",
   "id": "73f7355648784ca6",
   "metadata": {},
   "source": [
    "#### Speech Data"
   ]
  },
  {
   "cell_type": "code",
   "execution_count": 3,
   "id": "c34bc09f52aa5e79",
   "metadata": {
    "ExecuteTime": {
     "end_time": "2023-12-08T14:03:57.395481Z",
     "start_time": "2023-12-08T14:03:56.642694Z"
    }
   },
   "outputs": [],
   "source": [
    "speech = pd.read_excel('../../Data/Final/speech_df.xlsx', index_col = 1)"
   ]
  },
  {
   "cell_type": "code",
   "execution_count": 4,
   "id": "b3dd6cc2c23bd2f1",
   "metadata": {
    "ExecuteTime": {
     "end_time": "2023-12-08T14:03:57.406943Z",
     "start_time": "2023-12-08T14:03:57.397593Z"
    }
   },
   "outputs": [
    {
     "data": {
      "text/plain": "                   Unnamed: 0  \\\ndate                            \nNovember 16, 2023           0   \nNovember 16, 2023           1   \nNovember 14, 2023           2   \nNovember 13, 2023           3   \nNovember 09, 2023           4   \n...                       ...   \nFebruary 24, 2006        1041   \nFebruary 23, 2006        1042   \nFebruary 06, 2006        1043   \nFebruary 02, 2006        1044   \nJanuary 18, 2006         1045   \n\n                                                               title  \\\ndate                                                                   \nNovember 16, 2023  Global Linkages:  Supply, Spillovers, and Comm...   \nNovember 16, 2023           The 2023 U.S. Treasury Market Conference   \nNovember 14, 2023  Elevated Economic Uncertainty: Causes and Cons...   \nNovember 13, 2023                                  Welcoming Remarks   \nNovember 09, 2023                                    Opening Remarks   \n...                                                              ...   \nFebruary 24, 2006                    The Benefits of Price Stability   \nFebruary 23, 2006  Globalization, Insurers, and Regulators: Share...   \nFebruary 06, 2006  Remarks at ceremonial swearing-in by President...   \nFebruary 02, 2006       The Continuous Challenges of Risk Management   \nJanuary 18, 2006                   Productivity and Economic Outlook   \n\n                                                      speaker  \\\ndate                                                            \nNovember 16, 2023                       Governor Lisa D. Cook   \nNovember 16, 2023  Vice Chair for Supervision Michael S. Barr   \nNovember 14, 2023              Vice Chair Philip N. Jefferson   \nNovember 13, 2023                       Governor Lisa D. Cook   \nNovember 09, 2023                      Chair Jerome H. Powell   \n...                                                       ...   \nFebruary 24, 2006                    Chairman Ben S. Bernanke   \nFebruary 23, 2006        Vice Chairman Roger W. Ferguson, Jr.   \nFebruary 06, 2006                    Chairman Ben S. Bernanke   \nFebruary 02, 2006                 Governor Susan Schmidt Bies   \nJanuary 18, 2006                  Governor Susan Schmidt Bies   \n\n                                                              speech  \ndate                                                                  \nNovember 16, 2023   Thank you, Sylvain, and thank you for the opp...  \nNovember 16, 2023   I am pleased to join you today at the ninth a...  \nNovember 14, 2023   Introduction \\nThank you for the opportunity ...  \nNovember 13, 2023   Good morning, and welcome to the 5th annual c...  \nNovember 09, 2023   Thank you for the opportunity to participate ...  \n...                                                              ...  \nFebruary 24, 2006   It is a great pleasure for me to return to Pr...  \nFebruary 23, 2006   I am honored to deliver the keynote address a...  \nFebruary 06, 2006   Good morning. I would like to begin by thanki...  \nFebruary 02, 2006   I thank you for the invitation to speak today...  \nJanuary 18, 2006    I appreciate the opportunity to speak with yo...  \n\n[1046 rows x 4 columns]",
      "text/html": "<div>\n<style scoped>\n    .dataframe tbody tr th:only-of-type {\n        vertical-align: middle;\n    }\n\n    .dataframe tbody tr th {\n        vertical-align: top;\n    }\n\n    .dataframe thead th {\n        text-align: right;\n    }\n</style>\n<table border=\"1\" class=\"dataframe\">\n  <thead>\n    <tr style=\"text-align: right;\">\n      <th></th>\n      <th>Unnamed: 0</th>\n      <th>title</th>\n      <th>speaker</th>\n      <th>speech</th>\n    </tr>\n    <tr>\n      <th>date</th>\n      <th></th>\n      <th></th>\n      <th></th>\n      <th></th>\n    </tr>\n  </thead>\n  <tbody>\n    <tr>\n      <th>November 16, 2023</th>\n      <td>0</td>\n      <td>Global Linkages:  Supply, Spillovers, and Comm...</td>\n      <td>Governor Lisa D. Cook</td>\n      <td>Thank you, Sylvain, and thank you for the opp...</td>\n    </tr>\n    <tr>\n      <th>November 16, 2023</th>\n      <td>1</td>\n      <td>The 2023 U.S. Treasury Market Conference</td>\n      <td>Vice Chair for Supervision Michael S. Barr</td>\n      <td>I am pleased to join you today at the ninth a...</td>\n    </tr>\n    <tr>\n      <th>November 14, 2023</th>\n      <td>2</td>\n      <td>Elevated Economic Uncertainty: Causes and Cons...</td>\n      <td>Vice Chair Philip N. Jefferson</td>\n      <td>Introduction \\nThank you for the opportunity ...</td>\n    </tr>\n    <tr>\n      <th>November 13, 2023</th>\n      <td>3</td>\n      <td>Welcoming Remarks</td>\n      <td>Governor Lisa D. Cook</td>\n      <td>Good morning, and welcome to the 5th annual c...</td>\n    </tr>\n    <tr>\n      <th>November 09, 2023</th>\n      <td>4</td>\n      <td>Opening Remarks</td>\n      <td>Chair Jerome H. Powell</td>\n      <td>Thank you for the opportunity to participate ...</td>\n    </tr>\n    <tr>\n      <th>...</th>\n      <td>...</td>\n      <td>...</td>\n      <td>...</td>\n      <td>...</td>\n    </tr>\n    <tr>\n      <th>February 24, 2006</th>\n      <td>1041</td>\n      <td>The Benefits of Price Stability</td>\n      <td>Chairman Ben S. Bernanke</td>\n      <td>It is a great pleasure for me to return to Pr...</td>\n    </tr>\n    <tr>\n      <th>February 23, 2006</th>\n      <td>1042</td>\n      <td>Globalization, Insurers, and Regulators: Share...</td>\n      <td>Vice Chairman Roger W. Ferguson, Jr.</td>\n      <td>I am honored to deliver the keynote address a...</td>\n    </tr>\n    <tr>\n      <th>February 06, 2006</th>\n      <td>1043</td>\n      <td>Remarks at ceremonial swearing-in by President...</td>\n      <td>Chairman Ben S. Bernanke</td>\n      <td>Good morning. I would like to begin by thanki...</td>\n    </tr>\n    <tr>\n      <th>February 02, 2006</th>\n      <td>1044</td>\n      <td>The Continuous Challenges of Risk Management</td>\n      <td>Governor Susan Schmidt Bies</td>\n      <td>I thank you for the invitation to speak today...</td>\n    </tr>\n    <tr>\n      <th>January 18, 2006</th>\n      <td>1045</td>\n      <td>Productivity and Economic Outlook</td>\n      <td>Governor Susan Schmidt Bies</td>\n      <td>I appreciate the opportunity to speak with yo...</td>\n    </tr>\n  </tbody>\n</table>\n<p>1046 rows × 4 columns</p>\n</div>"
     },
     "execution_count": 4,
     "metadata": {},
     "output_type": "execute_result"
    }
   ],
   "source": [
    "speech"
   ]
  },
  {
   "cell_type": "code",
   "execution_count": 5,
   "id": "a0e23952df3a961b",
   "metadata": {
    "ExecuteTime": {
     "end_time": "2023-12-08T14:03:57.418754Z",
     "start_time": "2023-12-08T14:03:57.409523Z"
    }
   },
   "outputs": [],
   "source": [
    "speech.index = pd.to_datetime(speech.index)"
   ]
  },
  {
   "cell_type": "code",
   "execution_count": 6,
   "id": "de1608554087b03e",
   "metadata": {
    "ExecuteTime": {
     "end_time": "2023-12-08T14:04:00.334812Z",
     "start_time": "2023-12-08T14:04:00.320159Z"
    }
   },
   "outputs": [
    {
     "data": {
      "text/plain": "            Unnamed: 0                                              title  \\\ndate                                                                        \n2023-11-16           0  Global Linkages:  Supply, Spillovers, and Comm...   \n2023-11-16           1           The 2023 U.S. Treasury Market Conference   \n2023-11-14           2  Elevated Economic Uncertainty: Causes and Cons...   \n2023-11-13           3                                  Welcoming Remarks   \n2023-11-09           4                                    Opening Remarks   \n...                ...                                                ...   \n2006-02-24        1041                    The Benefits of Price Stability   \n2006-02-23        1042  Globalization, Insurers, and Regulators: Share...   \n2006-02-06        1043  Remarks at ceremonial swearing-in by President...   \n2006-02-02        1044       The Continuous Challenges of Risk Management   \n2006-01-18        1045                  Productivity and Economic Outlook   \n\n                                               speaker  \\\ndate                                                     \n2023-11-16                       Governor Lisa D. Cook   \n2023-11-16  Vice Chair for Supervision Michael S. Barr   \n2023-11-14              Vice Chair Philip N. Jefferson   \n2023-11-13                       Governor Lisa D. Cook   \n2023-11-09                      Chair Jerome H. Powell   \n...                                                ...   \n2006-02-24                    Chairman Ben S. Bernanke   \n2006-02-23        Vice Chairman Roger W. Ferguson, Jr.   \n2006-02-06                    Chairman Ben S. Bernanke   \n2006-02-02                 Governor Susan Schmidt Bies   \n2006-01-18                 Governor Susan Schmidt Bies   \n\n                                                       speech  \ndate                                                           \n2023-11-16   Thank you, Sylvain, and thank you for the opp...  \n2023-11-16   I am pleased to join you today at the ninth a...  \n2023-11-14   Introduction \\nThank you for the opportunity ...  \n2023-11-13   Good morning, and welcome to the 5th annual c...  \n2023-11-09   Thank you for the opportunity to participate ...  \n...                                                       ...  \n2006-02-24   It is a great pleasure for me to return to Pr...  \n2006-02-23   I am honored to deliver the keynote address a...  \n2006-02-06   Good morning. I would like to begin by thanki...  \n2006-02-02   I thank you for the invitation to speak today...  \n2006-01-18   I appreciate the opportunity to speak with yo...  \n\n[1046 rows x 4 columns]",
      "text/html": "<div>\n<style scoped>\n    .dataframe tbody tr th:only-of-type {\n        vertical-align: middle;\n    }\n\n    .dataframe tbody tr th {\n        vertical-align: top;\n    }\n\n    .dataframe thead th {\n        text-align: right;\n    }\n</style>\n<table border=\"1\" class=\"dataframe\">\n  <thead>\n    <tr style=\"text-align: right;\">\n      <th></th>\n      <th>Unnamed: 0</th>\n      <th>title</th>\n      <th>speaker</th>\n      <th>speech</th>\n    </tr>\n    <tr>\n      <th>date</th>\n      <th></th>\n      <th></th>\n      <th></th>\n      <th></th>\n    </tr>\n  </thead>\n  <tbody>\n    <tr>\n      <th>2023-11-16</th>\n      <td>0</td>\n      <td>Global Linkages:  Supply, Spillovers, and Comm...</td>\n      <td>Governor Lisa D. Cook</td>\n      <td>Thank you, Sylvain, and thank you for the opp...</td>\n    </tr>\n    <tr>\n      <th>2023-11-16</th>\n      <td>1</td>\n      <td>The 2023 U.S. Treasury Market Conference</td>\n      <td>Vice Chair for Supervision Michael S. Barr</td>\n      <td>I am pleased to join you today at the ninth a...</td>\n    </tr>\n    <tr>\n      <th>2023-11-14</th>\n      <td>2</td>\n      <td>Elevated Economic Uncertainty: Causes and Cons...</td>\n      <td>Vice Chair Philip N. Jefferson</td>\n      <td>Introduction \\nThank you for the opportunity ...</td>\n    </tr>\n    <tr>\n      <th>2023-11-13</th>\n      <td>3</td>\n      <td>Welcoming Remarks</td>\n      <td>Governor Lisa D. Cook</td>\n      <td>Good morning, and welcome to the 5th annual c...</td>\n    </tr>\n    <tr>\n      <th>2023-11-09</th>\n      <td>4</td>\n      <td>Opening Remarks</td>\n      <td>Chair Jerome H. Powell</td>\n      <td>Thank you for the opportunity to participate ...</td>\n    </tr>\n    <tr>\n      <th>...</th>\n      <td>...</td>\n      <td>...</td>\n      <td>...</td>\n      <td>...</td>\n    </tr>\n    <tr>\n      <th>2006-02-24</th>\n      <td>1041</td>\n      <td>The Benefits of Price Stability</td>\n      <td>Chairman Ben S. Bernanke</td>\n      <td>It is a great pleasure for me to return to Pr...</td>\n    </tr>\n    <tr>\n      <th>2006-02-23</th>\n      <td>1042</td>\n      <td>Globalization, Insurers, and Regulators: Share...</td>\n      <td>Vice Chairman Roger W. Ferguson, Jr.</td>\n      <td>I am honored to deliver the keynote address a...</td>\n    </tr>\n    <tr>\n      <th>2006-02-06</th>\n      <td>1043</td>\n      <td>Remarks at ceremonial swearing-in by President...</td>\n      <td>Chairman Ben S. Bernanke</td>\n      <td>Good morning. I would like to begin by thanki...</td>\n    </tr>\n    <tr>\n      <th>2006-02-02</th>\n      <td>1044</td>\n      <td>The Continuous Challenges of Risk Management</td>\n      <td>Governor Susan Schmidt Bies</td>\n      <td>I thank you for the invitation to speak today...</td>\n    </tr>\n    <tr>\n      <th>2006-01-18</th>\n      <td>1045</td>\n      <td>Productivity and Economic Outlook</td>\n      <td>Governor Susan Schmidt Bies</td>\n      <td>I appreciate the opportunity to speak with yo...</td>\n    </tr>\n  </tbody>\n</table>\n<p>1046 rows × 4 columns</p>\n</div>"
     },
     "execution_count": 6,
     "metadata": {},
     "output_type": "execute_result"
    }
   ],
   "source": [
    "speech"
   ]
  },
  {
   "cell_type": "code",
   "execution_count": 8,
   "id": "480cd233401b5367",
   "metadata": {
    "ExecuteTime": {
     "end_time": "2023-12-08T14:04:26.810331Z",
     "start_time": "2023-12-08T14:04:26.722433Z"
    }
   },
   "outputs": [
    {
     "name": "stderr",
     "output_type": "stream",
     "text": [
      "[nltk_data] Downloading package stopwords to\n",
      "[nltk_data]     /Users/junghunlee/nltk_data...\n",
      "[nltk_data]   Package stopwords is already up-to-date!\n"
     ]
    }
   ],
   "source": [
    "daily_sentiments = pd.DataFrame(columns = [\"Date\", \"Positive\", \"Negative\", \"Neutral\"])\n",
    "unique_dates = speech.index.unique()\n",
    "nltk.download(\"stopwords\")\n",
    "stop_words = set(stopwords.words(\"english\"))"
   ]
  },
  {
   "cell_type": "code",
   "execution_count": 9,
   "id": "55129504bafd4c6d",
   "metadata": {
    "ExecuteTime": {
     "end_time": "2023-12-08T14:04:41.708853Z",
     "start_time": "2023-12-08T14:04:34.865297Z"
    }
   },
   "outputs": [],
   "source": [
    "text_for_date = speech[\"speech\"].tolist()\n",
    "\n",
    "tokenized_texts = [\n",
    "        [word for word in tokenizer.tokenize(text) if word.lower() not in stop_words]\n",
    "        for text in text_for_date]"
   ]
  },
  {
   "cell_type": "code",
   "execution_count": 11,
   "outputs": [
    {
     "data": {
      "text/plain": "1046"
     },
     "execution_count": 11,
     "metadata": {},
     "output_type": "execute_result"
    }
   ],
   "source": [
    "len(tokenized_texts)"
   ],
   "metadata": {
    "collapsed": false,
    "ExecuteTime": {
     "end_time": "2023-12-08T14:04:58.677945Z",
     "start_time": "2023-12-08T14:04:58.462575Z"
    }
   },
   "id": "32f8299d674b24c9"
  },
  {
   "cell_type": "code",
   "execution_count": 12,
   "outputs": [
    {
     "data": {
      "text/plain": "1917"
     },
     "execution_count": 12,
     "metadata": {},
     "output_type": "execute_result"
    }
   ],
   "source": [
    "len(tokenized_texts[0])"
   ],
   "metadata": {
    "collapsed": false,
    "ExecuteTime": {
     "end_time": "2023-12-08T14:05:06.171639Z",
     "start_time": "2023-12-08T14:05:06.142654Z"
    }
   },
   "id": "6331bf0280283379"
  },
  {
   "cell_type": "code",
   "execution_count": null,
   "id": "c840a8e9bba7877f",
   "metadata": {},
   "outputs": [],
   "source": [
    "len(max(tokenized_texts, key = len))"
   ]
  },
  {
   "cell_type": "code",
   "execution_count": null,
   "id": "691b5ae812b1f98f",
   "metadata": {},
   "outputs": [],
   "source": [
    "import time \n",
    "start_time = time.time()\n",
    "\n",
    "nltk.download(\"stopwords\")\n",
    "stop_words = set(stopwords.words(\"english\"))\n",
    "\n",
    "for date in unique_dates:    \n",
    "    #text_for_date = data[data[\"rgs_dt\"] == date][\"news_smy_ifo\"].tolist()\n",
    "    text_for_date = speech[speech.index == date][\"speech\"].tolist()\n",
    "\n",
    "    tokenized_texts = [\n",
    "        [word for word in tokenizer.tokenize(text) if word.lower() not in stop_words]\n",
    "        for text in text_for_date\n",
    "    ]\n",
    "\n",
    "    max_token_length = 512\n",
    "\n",
    "    tokenized_texts = [\" \".join(tokens[:max_token_length]) for tokens in tokenized_texts]\n",
    "    inputs = tokenizer(tokenized_texts, padding = True, truncation = True, return_tensors = \"pt\", max_length = max_token_length)\n",
    "\n",
    "    with torch.no_grad():\n",
    "        outputs = model(**inputs)\n",
    "        logits = outputs.logits\n",
    "\n",
    "    probabilities = torch.softmax(logits, dim=1)\n",
    "    positive_prob = probabilities[:, 2].mean().item()\n",
    "    negative_prob = probabilities[:, 0].mean().item()\n",
    "    neutral_prob = probabilities[:, 1].mean().item()\n",
    "    \n",
    "    daily_sentiments = pd.concat([daily_sentiments, \n",
    "                                  pd.DataFrame({\"Date\": date, \n",
    "                                                \"Positive\": positive_prob, \n",
    "                                                \"Negative\": negative_prob, \n",
    "                                                \"Neutral\": neutral_prob}, index = ['0'])],\n",
    "                                 ignore_index = True)\n",
    "\n",
    "print(f'spent time : {time.time() - start_time}')\n",
    "daily_sentiments.index = daily_sentiments.Date\n",
    "daily_sentiments = daily_sentiments.iloc[:,1:]\n",
    "daily_sentiments"
   ]
  },
  {
   "cell_type": "code",
   "execution_count": null,
   "id": "c3500984d2c0ddfc",
   "metadata": {},
   "outputs": [],
   "source": [
    "daily_sentiments['sentimental_score'] = daily_sentiments['Positive'] - daily_sentiments['Negative'] + daily_sentiments['Neutral'] * 0.5"
   ]
  },
  {
   "cell_type": "code",
   "execution_count": 14,
   "id": "3dfc32205cdd93ec",
   "metadata": {
    "ExecuteTime": {
     "end_time": "2023-12-06T16:28:44.140835Z",
     "start_time": "2023-12-06T16:28:43.903518Z"
    }
   },
   "outputs": [
    {
     "data": {
      "text/plain": "<Figure size 640x480 with 1 Axes>",
      "image/png": "[encoded data removed]"
     },
     "metadata": {},
     "output_type": "display_data"
    }
   ],
   "source": [
    "import matplotlib.pyplot as plt\n",
    "\n",
    "plt.hist(daily_sentiments['sentimental_score'], bins = 100, color = 'darkorange')\n",
    "plt.grid(False)\n",
    "plt.title(\"Federal Reserve Speeches\", fontsize = 12, fontfamily = 'Serif')\n",
    "plt.show()"
   ]
  },
  {
   "cell_type": "code",
   "execution_count": 15,
   "id": "3ecd239ce71dd092",
   "metadata": {
    "ExecuteTime": {
     "end_time": "2023-12-06T16:28:46.602721Z",
     "start_time": "2023-12-06T16:28:46.578173Z"
    }
   },
   "outputs": [
    {
     "data": {
      "text/plain": "            Positive  Negative   Neutral  sentimental_score\nDate                                                       \n2006-01-31  0.000009  0.000472  0.999519           0.499296\n2006-02-28  0.000317  0.515556  0.484128          -0.273175\n2006-03-31  0.000115  0.508240  0.491644          -0.262303\n2006-04-30  0.000724  0.612916  0.386360          -0.419012\n2006-05-31  0.001353  0.528266  0.470380          -0.291723\n...              ...       ...       ...                ...\n2023-07-31  0.000121  0.999553  0.000325          -0.999269\n2023-08-31  0.000394  0.534201  0.465406          -0.301104\n2023-09-30  0.000326  0.601556  0.398118          -0.402171\n2023-10-31  0.000774  0.525111  0.474115          -0.287280\n2023-11-30  0.004284  0.790350  0.205367          -0.683383\n\n[215 rows x 4 columns]",
      "text/html": "<div>\n<style scoped>\n    .dataframe tbody tr th:only-of-type {\n        vertical-align: middle;\n    }\n\n    .dataframe tbody tr th {\n        vertical-align: top;\n    }\n\n    .dataframe thead th {\n        text-align: right;\n    }\n</style>\n<table border=\"1\" class=\"dataframe\">\n  <thead>\n    <tr style=\"text-align: right;\">\n      <th></th>\n      <th>Positive</th>\n      <th>Negative</th>\n      <th>Neutral</th>\n      <th>sentimental_score</th>\n    </tr>\n    <tr>\n      <th>Date</th>\n      <th></th>\n      <th></th>\n      <th></th>\n      <th></th>\n    </tr>\n  </thead>\n  <tbody>\n    <tr>\n      <th>2006-01-31</th>\n      <td>0.000009</td>\n      <td>0.000472</td>\n      <td>0.999519</td>\n      <td>0.499296</td>\n    </tr>\n    <tr>\n      <th>2006-02-28</th>\n      <td>0.000317</td>\n      <td>0.515556</td>\n      <td>0.484128</td>\n      <td>-0.273175</td>\n    </tr>\n    <tr>\n      <th>2006-03-31</th>\n      <td>0.000115</td>\n      <td>0.508240</td>\n      <td>0.491644</td>\n      <td>-0.262303</td>\n    </tr>\n    <tr>\n      <th>2006-04-30</th>\n      <td>0.000724</td>\n      <td>0.612916</td>\n      <td>0.386360</td>\n      <td>-0.419012</td>\n    </tr>\n    <tr>\n      <th>2006-05-31</th>\n      <td>0.001353</td>\n      <td>0.528266</td>\n      <td>0.470380</td>\n      <td>-0.291723</td>\n    </tr>\n    <tr>\n      <th>...</th>\n      <td>...</td>\n      <td>...</td>\n      <td>...</td>\n      <td>...</td>\n    </tr>\n    <tr>\n      <th>2023-07-31</th>\n      <td>0.000121</td>\n      <td>0.999553</td>\n      <td>0.000325</td>\n      <td>-0.999269</td>\n    </tr>\n    <tr>\n      <th>2023-08-31</th>\n      <td>0.000394</td>\n      <td>0.534201</td>\n      <td>0.465406</td>\n      <td>-0.301104</td>\n    </tr>\n    <tr>\n      <th>2023-09-30</th>\n      <td>0.000326</td>\n      <td>0.601556</td>\n      <td>0.398118</td>\n      <td>-0.402171</td>\n    </tr>\n    <tr>\n      <th>2023-10-31</th>\n      <td>0.000774</td>\n      <td>0.525111</td>\n      <td>0.474115</td>\n      <td>-0.287280</td>\n    </tr>\n    <tr>\n      <th>2023-11-30</th>\n      <td>0.004284</td>\n      <td>0.790350</td>\n      <td>0.205367</td>\n      <td>-0.683383</td>\n    </tr>\n  </tbody>\n</table>\n<p>215 rows × 4 columns</p>\n</div>"
     },
     "execution_count": 15,
     "metadata": {},
     "output_type": "execute_result"
    }
   ],
   "source": [
    "daily_sentiments.resample('M').mean()"
   ]
  },
  {
   "cell_type": "code",
   "execution_count": 16,
   "id": "280337017d907bb1",
   "metadata": {
    "ExecuteTime": {
     "end_time": "2023-12-06T16:28:48.024539Z",
     "start_time": "2023-12-06T16:28:47.903041Z"
    }
   },
   "outputs": [
    {
     "data": {
      "text/plain": "<Figure size 640x480 with 1 Axes>",
      "image/png": "[encoded data removed]"
     },
     "metadata": {},
     "output_type": "display_data"
    }
   ],
   "source": [
    "plt.hist(daily_sentiments.resample('M').mean()['sentimental_score'], bins = 100, color = 'darkorange')\n",
    "plt.grid(False)\n",
    "plt.title(\"Federal Reserve Speeches\", fontsize = 12, fontfamily = 'Serif')\n",
    "plt.show()"
   ]
  },
  {
   "cell_type": "code",
   "execution_count": 17,
   "id": "45c6bb37f68edfd8",
   "metadata": {
    "ExecuteTime": {
     "end_time": "2023-12-06T16:28:52.329797Z",
     "start_time": "2023-12-06T16:28:52.285393Z"
    }
   },
   "outputs": [],
   "source": [
    "#daily_sentiments.resample('M').mean().to_csv('../../Data/federal_sentiment.csv')"
   ]
  },
  {
   "cell_type": "code",
   "execution_count": 12,
   "outputs": [
    {
     "name": "stderr",
     "output_type": "stream",
     "text": [
      "[nltk_data] Downloading package stopwords to\n",
      "[nltk_data]     /Users/junghunlee/nltk_data...\n",
      "[nltk_data]   Package stopwords is already up-to-date!\n",
      "[nltk_data] Downloading package punkt to\n",
      "[nltk_data]     /Users/junghunlee/nltk_data...\n",
      "[nltk_data]   Package punkt is already up-to-date!\n"
     ]
    },
    {
     "name": "stdout",
     "output_type": "stream",
     "text": [
      "Topic: 0 \n",
      "Words: 0.017*\"inflation\" + 0.010*\"policy\" + 0.010*\"rate\" + 0.009*\"percent\" + 0.007*\"economy\" + 0.006*\"federal\" + 0.006*\"economic\" + 0.006*\"market\" + 0.006*\"growth\" + 0.006*\"monetary\"\n",
      "Topic: 1 \n",
      "Words: 0.018*\"financial\" + 0.009*\"banks\" + 0.008*\"capital\" + 0.007*\"market\" + 0.007*\"risk\" + 0.006*\"federal\" + 0.006*\"reserve\" + 0.006*\"system\" + 0.005*\"bank\" + 0.005*\"credit\"\n",
      "Topic: 2 \n",
      "Words: 0.014*\"policy\" + 0.010*\"financial\" + 0.009*\"federal\" + 0.008*\"inflation\" + 0.008*\"monetary\" + 0.007*\"bank\" + 0.006*\"reserve\" + 0.006*\"central\" + 0.006*\"economic\" + 0.006*\"rate\"\n",
      "Topic: 3 \n",
      "Words: 0.008*\"banks\" + 0.008*\"community\" + 0.008*\"financial\" + 0.005*\"also\" + 0.005*\"federal\" + 0.005*\"economic\" + 0.005*\"reserve\" + 0.004*\"credit\" + 0.004*\"bank\" + 0.004*\"percent\"\n"
     ]
    }
   ],
   "source": [
    "import nltk\n",
    "from nltk.corpus import stopwords\n",
    "from nltk.tokenize import word_tokenize\n",
    "from gensim import corpora, models\n",
    "import re\n",
    "\n",
    "nltk.download('stopwords')\n",
    "nltk.download('punkt')\n",
    "\n",
    "documents = list(speech.speech)\n",
    "\n",
    "stop_words = set(stopwords.words('english'))\n",
    "processed_docs = [[word for word in word_tokenize(doc.lower()) if word not in stop_words and re.match('[a-zA-Z]+', word)] for doc in documents]\n",
    "\n",
    "dictionary = corpora.Dictionary(processed_docs)\n",
    "corpus = [dictionary.doc2bow(doc) for doc in processed_docs]\n",
    "\n",
    "lda_model = models.LdaModel(corpus, \n",
    "                            num_topics=4, \n",
    "                            id2word=dictionary, \n",
    "                            passes=5)\n",
    "\n",
    "for idx, topic in lda_model.print_topics(-1):\n",
    "    print('Topic: {} \\nWords: {}'.format(idx, topic))"
   ],
   "metadata": {
    "collapsed": false,
    "ExecuteTime": {
     "end_time": "2023-12-07T07:14:12.420287Z",
     "start_time": "2023-12-07T07:13:53.066907Z"
    }
   },
   "id": "5c18c02d0479ab9c"
  },
  {
   "cell_type": "code",
   "execution_count": 28,
   "outputs": [
    {
     "data": {
      "text/plain": "[('financial', 0.0177614),\n ('banks', 0.009374482),\n ('capital', 0.00794341),\n ('market', 0.007080088),\n ('risk', 0.0069455695),\n ('federal', 0.00626854),\n ('reserve', 0.0057302252),\n ('system', 0.0055617127),\n ('bank', 0.0054274923),\n ('credit', 0.0053125825)]"
     },
     "execution_count": 28,
     "metadata": {},
     "output_type": "execute_result"
    }
   ],
   "source": [
    "lda_model.show_topic(1)"
   ],
   "metadata": {
    "collapsed": false,
    "ExecuteTime": {
     "end_time": "2023-12-07T07:30:29.314652Z",
     "start_time": "2023-12-07T07:30:29.272605Z"
    }
   },
   "id": "decf3b43fd63fe17"
  },
  {
   "cell_type": "code",
   "execution_count": 18,
   "outputs": [
    {
     "ename": "ValueError",
     "evalue": "too many values to unpack (expected 2)",
     "output_type": "error",
     "traceback": [
      "\u001B[0;31m---------------------------------------------------------------------------\u001B[0m",
      "\u001B[0;31mValueError\u001B[0m                                Traceback (most recent call last)",
      "Cell \u001B[0;32mIn[18], line 1\u001B[0m\n\u001B[0;32m----> 1\u001B[0m \u001B[43mlda_model\u001B[49m\u001B[38;5;241;43m.\u001B[39;49m\u001B[43mget_document_topics\u001B[49m\u001B[43m(\u001B[49m\u001B[43mdocuments\u001B[49m\u001B[43m)\u001B[49m\n",
      "File \u001B[0;32m~/anaconda3/envs/Webscraping/lib/python3.10/site-packages/gensim/models/ldamodel.py:1354\u001B[0m, in \u001B[0;36mLdaModel.get_document_topics\u001B[0;34m(self, bow, minimum_probability, minimum_phi_value, per_word_topics)\u001B[0m\n\u001B[1;32m   1347\u001B[0m     kwargs \u001B[38;5;241m=\u001B[39m \u001B[38;5;28mdict\u001B[39m(\n\u001B[1;32m   1348\u001B[0m         per_word_topics\u001B[38;5;241m=\u001B[39mper_word_topics,\n\u001B[1;32m   1349\u001B[0m         minimum_probability\u001B[38;5;241m=\u001B[39mminimum_probability,\n\u001B[1;32m   1350\u001B[0m         minimum_phi_value\u001B[38;5;241m=\u001B[39mminimum_phi_value\n\u001B[1;32m   1351\u001B[0m     )\n\u001B[1;32m   1352\u001B[0m     \u001B[38;5;28;01mreturn\u001B[39;00m \u001B[38;5;28mself\u001B[39m\u001B[38;5;241m.\u001B[39m_apply(corpus, \u001B[38;5;241m*\u001B[39m\u001B[38;5;241m*\u001B[39mkwargs)\n\u001B[0;32m-> 1354\u001B[0m gamma, phis \u001B[38;5;241m=\u001B[39m \u001B[38;5;28;43mself\u001B[39;49m\u001B[38;5;241;43m.\u001B[39;49m\u001B[43minference\u001B[49m\u001B[43m(\u001B[49m\u001B[43m[\u001B[49m\u001B[43mbow\u001B[49m\u001B[43m]\u001B[49m\u001B[43m,\u001B[49m\u001B[43m \u001B[49m\u001B[43mcollect_sstats\u001B[49m\u001B[38;5;241;43m=\u001B[39;49m\u001B[43mper_word_topics\u001B[49m\u001B[43m)\u001B[49m\n\u001B[1;32m   1355\u001B[0m topic_dist \u001B[38;5;241m=\u001B[39m gamma[\u001B[38;5;241m0\u001B[39m] \u001B[38;5;241m/\u001B[39m \u001B[38;5;28msum\u001B[39m(gamma[\u001B[38;5;241m0\u001B[39m])  \u001B[38;5;66;03m# normalize distribution\u001B[39;00m\n\u001B[1;32m   1357\u001B[0m document_topics \u001B[38;5;241m=\u001B[39m [\n\u001B[1;32m   1358\u001B[0m     (topicid, topicvalue) \u001B[38;5;28;01mfor\u001B[39;00m topicid, topicvalue \u001B[38;5;129;01min\u001B[39;00m \u001B[38;5;28menumerate\u001B[39m(topic_dist)\n\u001B[1;32m   1359\u001B[0m     \u001B[38;5;28;01mif\u001B[39;00m topicvalue \u001B[38;5;241m>\u001B[39m\u001B[38;5;241m=\u001B[39m minimum_probability\n\u001B[1;32m   1360\u001B[0m ]\n",
      "File \u001B[0;32m~/anaconda3/envs/Webscraping/lib/python3.10/site-packages/gensim/models/ldamodel.py:699\u001B[0m, in \u001B[0;36mLdaModel.inference\u001B[0;34m(self, chunk, collect_sstats)\u001B[0m\n\u001B[1;32m    696\u001B[0m \u001B[38;5;28;01mfor\u001B[39;00m d, doc \u001B[38;5;129;01min\u001B[39;00m \u001B[38;5;28menumerate\u001B[39m(chunk):\n\u001B[1;32m    697\u001B[0m     \u001B[38;5;28;01mif\u001B[39;00m \u001B[38;5;28mlen\u001B[39m(doc) \u001B[38;5;241m>\u001B[39m \u001B[38;5;241m0\u001B[39m \u001B[38;5;129;01mand\u001B[39;00m \u001B[38;5;129;01mnot\u001B[39;00m \u001B[38;5;28misinstance\u001B[39m(doc[\u001B[38;5;241m0\u001B[39m][\u001B[38;5;241m0\u001B[39m], integer_types):\n\u001B[1;32m    698\u001B[0m         \u001B[38;5;66;03m# make sure the term IDs are ints, otherwise np will get upset\u001B[39;00m\n\u001B[0;32m--> 699\u001B[0m         ids \u001B[38;5;241m=\u001B[39m [\u001B[38;5;28mint\u001B[39m(idx) \u001B[38;5;28;01mfor\u001B[39;00m idx, _ \u001B[38;5;129;01min\u001B[39;00m doc]\n\u001B[1;32m    700\u001B[0m     \u001B[38;5;28;01melse\u001B[39;00m:\n\u001B[1;32m    701\u001B[0m         ids \u001B[38;5;241m=\u001B[39m [idx \u001B[38;5;28;01mfor\u001B[39;00m idx, _ \u001B[38;5;129;01min\u001B[39;00m doc]\n",
      "File \u001B[0;32m~/anaconda3/envs/Webscraping/lib/python3.10/site-packages/gensim/models/ldamodel.py:699\u001B[0m, in \u001B[0;36m<listcomp>\u001B[0;34m(.0)\u001B[0m\n\u001B[1;32m    696\u001B[0m \u001B[38;5;28;01mfor\u001B[39;00m d, doc \u001B[38;5;129;01min\u001B[39;00m \u001B[38;5;28menumerate\u001B[39m(chunk):\n\u001B[1;32m    697\u001B[0m     \u001B[38;5;28;01mif\u001B[39;00m \u001B[38;5;28mlen\u001B[39m(doc) \u001B[38;5;241m>\u001B[39m \u001B[38;5;241m0\u001B[39m \u001B[38;5;129;01mand\u001B[39;00m \u001B[38;5;129;01mnot\u001B[39;00m \u001B[38;5;28misinstance\u001B[39m(doc[\u001B[38;5;241m0\u001B[39m][\u001B[38;5;241m0\u001B[39m], integer_types):\n\u001B[1;32m    698\u001B[0m         \u001B[38;5;66;03m# make sure the term IDs are ints, otherwise np will get upset\u001B[39;00m\n\u001B[0;32m--> 699\u001B[0m         ids \u001B[38;5;241m=\u001B[39m [\u001B[38;5;28mint\u001B[39m(idx) \u001B[38;5;28;01mfor\u001B[39;00m idx, _ \u001B[38;5;129;01min\u001B[39;00m doc]\n\u001B[1;32m    700\u001B[0m     \u001B[38;5;28;01melse\u001B[39;00m:\n\u001B[1;32m    701\u001B[0m         ids \u001B[38;5;241m=\u001B[39m [idx \u001B[38;5;28;01mfor\u001B[39;00m idx, _ \u001B[38;5;129;01min\u001B[39;00m doc]\n",
      "\u001B[0;31mValueError\u001B[0m: too many values to unpack (expected 2)"
     ]
    }
   ],
   "source": [
    "lda_model.get_document_topics(documents)"
   ],
   "metadata": {
    "collapsed": false,
    "ExecuteTime": {
     "end_time": "2023-12-07T07:18:32.092370Z",
     "start_time": "2023-12-07T07:18:31.973242Z"
    }
   },
   "id": "1d6e029fecfa2507"
  },
  {
   "cell_type": "markdown",
   "id": "acb3096bb64bde2c",
   "metadata": {
    "ExecuteTime": {
     "end_time": "2023-12-07T07:10:21.963619Z",
     "start_time": "2023-12-07T07:10:21.935853Z"
    }
   },
   "source": [
    "#### Press_Data"
   ]
  },
  {
   "cell_type": "code",
   "execution_count": 18,
   "id": "bee19ffacde66804",
   "metadata": {
    "ExecuteTime": {
     "end_time": "2023-12-06T16:29:00.575423Z",
     "start_time": "2023-12-06T16:29:00.374722Z"
    }
   },
   "outputs": [],
   "source": [
    "press = pd.read_excel('../../Data/Final/press_df.xlsx', index_col = 1)"
   ]
  },
  {
   "cell_type": "code",
   "execution_count": 19,
   "id": "b67dbb6dfb83f77b",
   "metadata": {
    "ExecuteTime": {
     "end_time": "2023-12-06T16:29:01.022582Z",
     "start_time": "2023-12-06T16:29:00.996682Z"
    }
   },
   "outputs": [
    {
     "data": {
      "text/plain": "                   Unnamed: 0  \\\ndate                            \nNovember 22, 2023           0   \nNovember 21, 2023           1   \nNovember 21, 2023           2   \nNovember 21, 2023           3   \nNovember 17, 2023           4   \n\n                                                               title  \\\ndate                                                                   \nNovember 22, 2023  Agencies extend comment period on  proposed ru...   \nNovember 21, 2023  Federal Reserve Board announces approval of ap...   \nNovember 21, 2023  Minutes of the Federal Open Market Committee, ...   \nNovember 21, 2023  Federal Reserve Board issues enforcement actio...   \nNovember 17, 2023  Federal Reserve announces College Fed Challeng...   \n\n                                                              speech  \ndate                                                                  \nNovember 22, 2023   Federal bank regulatory agencies announced to...  \nNovember 21, 2023   The Federal Reserve Board on Tuesday announce...  \nNovember 21, 2023   The Federal Reserve on Tuesday released the m...  \nNovember 21, 2023   The Federal Reserve Board on Tuesday announce...  \nNovember 17, 2023   Harvard College won the 20th annual national ...  ",
      "text/html": "<div>\n<style scoped>\n    .dataframe tbody tr th:only-of-type {\n        vertical-align: middle;\n    }\n\n    .dataframe tbody tr th {\n        vertical-align: top;\n    }\n\n    .dataframe thead th {\n        text-align: right;\n    }\n</style>\n<table border=\"1\" class=\"dataframe\">\n  <thead>\n    <tr style=\"text-align: right;\">\n      <th></th>\n      <th>Unnamed: 0</th>\n      <th>title</th>\n      <th>speech</th>\n    </tr>\n    <tr>\n      <th>date</th>\n      <th></th>\n      <th></th>\n      <th></th>\n    </tr>\n  </thead>\n  <tbody>\n    <tr>\n      <th>November 22, 2023</th>\n      <td>0</td>\n      <td>Agencies extend comment period on  proposed ru...</td>\n      <td>Federal bank regulatory agencies announced to...</td>\n    </tr>\n    <tr>\n      <th>November 21, 2023</th>\n      <td>1</td>\n      <td>Federal Reserve Board announces approval of ap...</td>\n      <td>The Federal Reserve Board on Tuesday announce...</td>\n    </tr>\n    <tr>\n      <th>November 21, 2023</th>\n      <td>2</td>\n      <td>Minutes of the Federal Open Market Committee, ...</td>\n      <td>The Federal Reserve on Tuesday released the m...</td>\n    </tr>\n    <tr>\n      <th>November 21, 2023</th>\n      <td>3</td>\n      <td>Federal Reserve Board issues enforcement actio...</td>\n      <td>The Federal Reserve Board on Tuesday announce...</td>\n    </tr>\n    <tr>\n      <th>November 17, 2023</th>\n      <td>4</td>\n      <td>Federal Reserve announces College Fed Challeng...</td>\n      <td>Harvard College won the 20th annual national ...</td>\n    </tr>\n  </tbody>\n</table>\n</div>"
     },
     "execution_count": 19,
     "metadata": {},
     "output_type": "execute_result"
    }
   ],
   "source": [
    "press.head()"
   ]
  },
  {
   "cell_type": "code",
   "execution_count": 20,
   "id": "c14140a63a3ae921",
   "metadata": {
    "ExecuteTime": {
     "end_time": "2023-12-06T16:29:02.435061Z",
     "start_time": "2023-12-06T16:29:02.411263Z"
    }
   },
   "outputs": [
    {
     "name": "stderr",
     "output_type": "stream",
     "text": [
      "[nltk_data] Downloading package stopwords to\n",
      "[nltk_data]     /Users/junghunlee/nltk_data...\n",
      "[nltk_data]   Package stopwords is already up-to-date!\n"
     ]
    }
   ],
   "source": [
    "daily_sentiments = pd.DataFrame(columns = [\"Date\", \"Positive\", \"Negative\", \"Neutral\"])\n",
    "unique_dates = press.index.unique()\n",
    "nltk.download(\"stopwords\")\n",
    "stop_words = set(stopwords.words(\"english\"))"
   ]
  },
  {
   "cell_type": "code",
   "execution_count": 21,
   "id": "2fee0c2a4924d083",
   "metadata": {
    "ExecuteTime": {
     "end_time": "2023-12-06T16:29:03.254883Z",
     "start_time": "2023-12-06T16:29:03.231005Z"
    }
   },
   "outputs": [],
   "source": [
    "text_for_date = press[\"speech\"].tolist()"
   ]
  },
  {
   "cell_type": "code",
   "execution_count": 22,
   "id": "b8552ee028600f44",
   "metadata": {
    "ExecuteTime": {
     "end_time": "2023-12-06T16:29:05.782189Z",
     "start_time": "2023-12-06T16:29:03.998546Z"
    }
   },
   "outputs": [],
   "source": [
    "tokenized_texts = []\n",
    "for text in text_for_date :\n",
    "    try : \n",
    "        temp = []\n",
    "        for word in tokenizer.tokenize(text) :\n",
    "            if word.lower() not in stop_words :\n",
    "                temp.append(word)\n",
    "        tokenized_texts.append(temp)\n",
    "    except : pass"
   ]
  },
  {
   "cell_type": "code",
   "execution_count": 23,
   "id": "5b130b7be3f22633",
   "metadata": {
    "ExecuteTime": {
     "end_time": "2023-12-06T16:36:29.476666Z",
     "start_time": "2023-12-06T16:29:11.271182Z"
    }
   },
   "outputs": [
    {
     "name": "stderr",
     "output_type": "stream",
     "text": [
      "[nltk_data] Downloading package stopwords to\n",
      "[nltk_data]     /Users/junghunlee/nltk_data...\n",
      "[nltk_data]   Package stopwords is already up-to-date!\n"
     ]
    },
    {
     "data": {
      "text/plain": "                       Positive  Negative   Neutral\nDate                                               \nNovember 22, 2023  5.422469e-05  0.998995  0.000950\nNovember 21, 2023  6.874374e-04  0.996567  0.002745\nNovember 17, 2023  1.240634e-06  0.999995  0.000003\nNovember 15, 2023  1.945501e-04  0.999486  0.000320\nNovember 13, 2023  4.631872e-05  0.999673  0.000281\n...                         ...       ...       ...\nJanuary 17, 2006   1.062821e-04  0.998626  0.001267\nJanuary 13, 2006   4.509139e-05  0.999462  0.000493\nJanuary 10, 2006   7.730573e-03  0.992146  0.000124\nJanuary 09, 2006   4.274655e-07  0.999998  0.000002\nJanuary 03, 2006   3.829438e-05  0.999858  0.000103\n\n[2594 rows x 3 columns]",
      "text/html": "<div>\n<style scoped>\n    .dataframe tbody tr th:only-of-type {\n        vertical-align: middle;\n    }\n\n    .dataframe tbody tr th {\n        vertical-align: top;\n    }\n\n    .dataframe thead th {\n        text-align: right;\n    }\n</style>\n<table border=\"1\" class=\"dataframe\">\n  <thead>\n    <tr style=\"text-align: right;\">\n      <th></th>\n      <th>Positive</th>\n      <th>Negative</th>\n      <th>Neutral</th>\n    </tr>\n    <tr>\n      <th>Date</th>\n      <th></th>\n      <th></th>\n      <th></th>\n    </tr>\n  </thead>\n  <tbody>\n    <tr>\n      <th>November 22, 2023</th>\n      <td>5.422469e-05</td>\n      <td>0.998995</td>\n      <td>0.000950</td>\n    </tr>\n    <tr>\n      <th>November 21, 2023</th>\n      <td>6.874374e-04</td>\n      <td>0.996567</td>\n      <td>0.002745</td>\n    </tr>\n    <tr>\n      <th>November 17, 2023</th>\n      <td>1.240634e-06</td>\n      <td>0.999995</td>\n      <td>0.000003</td>\n    </tr>\n    <tr>\n      <th>November 15, 2023</th>\n      <td>1.945501e-04</td>\n      <td>0.999486</td>\n      <td>0.000320</td>\n    </tr>\n    <tr>\n      <th>November 13, 2023</th>\n      <td>4.631872e-05</td>\n      <td>0.999673</td>\n      <td>0.000281</td>\n    </tr>\n    <tr>\n      <th>...</th>\n      <td>...</td>\n      <td>...</td>\n      <td>...</td>\n    </tr>\n    <tr>\n      <th>January 17, 2006</th>\n      <td>1.062821e-04</td>\n      <td>0.998626</td>\n      <td>0.001267</td>\n    </tr>\n    <tr>\n      <th>January 13, 2006</th>\n      <td>4.509139e-05</td>\n      <td>0.999462</td>\n      <td>0.000493</td>\n    </tr>\n    <tr>\n      <th>January 10, 2006</th>\n      <td>7.730573e-03</td>\n      <td>0.992146</td>\n      <td>0.000124</td>\n    </tr>\n    <tr>\n      <th>January 09, 2006</th>\n      <td>4.274655e-07</td>\n      <td>0.999998</td>\n      <td>0.000002</td>\n    </tr>\n    <tr>\n      <th>January 03, 2006</th>\n      <td>3.829438e-05</td>\n      <td>0.999858</td>\n      <td>0.000103</td>\n    </tr>\n  </tbody>\n</table>\n<p>2594 rows × 3 columns</p>\n</div>"
     },
     "execution_count": 23,
     "metadata": {},
     "output_type": "execute_result"
    }
   ],
   "source": [
    "import time\n",
    "daily_sentiments_excerpt = pd.DataFrame(columns = [\"Date\", \"Positive\", \"Negative\", \"Neutral\"])\n",
    "start_time = time.time()\n",
    "\n",
    "nltk.download(\"stopwords\")\n",
    "stop_words = set(stopwords.words(\"english\"))\n",
    "\n",
    "for date in unique_dates:    \n",
    "    #text_for_date = data[data[\"rgs_dt\"] == date][\"news_smy_ifo\"].tolist()\n",
    "    text_for_date = press[press.index == date][\"speech\"].tolist()\n",
    "\n",
    "    tokenized_texts = []\n",
    "    for text in text_for_date :\n",
    "        try : \n",
    "            temp = []\n",
    "            for word in tokenizer.tokenize(text) :\n",
    "                if word.lower() not in stop_words :\n",
    "                    temp.append(word)\n",
    "            tokenized_texts.append(temp)\n",
    "        except : \n",
    "            tokenized_texts.append([])\n",
    "\n",
    "    max_token_length = 512\n",
    "\n",
    "    tokenized_texts = [\" \".join(tokens[:max_token_length]) for tokens in tokenized_texts]\n",
    "    inputs = tokenizer(tokenized_texts, padding = True, truncation = True, return_tensors = \"pt\", max_length = max_token_length)\n",
    "\n",
    "    with torch.no_grad():\n",
    "        outputs = model(**inputs)\n",
    "        logits = outputs.logits\n",
    "\n",
    "    probabilities = torch.softmax(logits, dim=1)\n",
    "    positive_prob = probabilities[:, 2].mean().item()\n",
    "    negative_prob = probabilities[:, 0].mean().item()\n",
    "    neutral_prob = probabilities[:, 1].mean().item()\n",
    "    \n",
    "    daily_sentiments_excerpt = pd.concat([daily_sentiments_excerpt, \n",
    "                                          pd.DataFrame({\"Date\": date, \n",
    "                                                        \"Positive\": positive_prob, \n",
    "                                                        \"Negative\": negative_prob, \n",
    "                                                        \"Neutral\": neutral_prob}, index = ['0'])],\n",
    "                                 ignore_index = True)\n",
    "\n",
    "daily_sentiments_excerpt.index = daily_sentiments_excerpt.Date\n",
    "daily_sentiments_excerpt = daily_sentiments_excerpt.iloc[:,1:]\n",
    "daily_sentiments_excerpt"
   ]
  },
  {
   "cell_type": "code",
   "execution_count": 24,
   "id": "436796dabc416786",
   "metadata": {
    "ExecuteTime": {
     "end_time": "2023-12-06T16:36:47.999737Z",
     "start_time": "2023-12-06T16:36:47.965517Z"
    }
   },
   "outputs": [],
   "source": [
    "daily_sentiments_excerpt['sentimental_score'] = daily_sentiments_excerpt['Positive'] - daily_sentiments_excerpt['Negative'] + daily_sentiments_excerpt['Neutral'] * 0.5"
   ]
  },
  {
   "cell_type": "code",
   "execution_count": 25,
   "id": "a5b90a97d4f29d58",
   "metadata": {
    "ExecuteTime": {
     "end_time": "2023-12-06T16:36:48.450317Z",
     "start_time": "2023-12-06T16:36:48.408634Z"
    }
   },
   "outputs": [],
   "source": [
    "daily_sentiments_excerpt.index = pd.to_datetime(daily_sentiments_excerpt.index)"
   ]
  },
  {
   "cell_type": "code",
   "execution_count": 26,
   "outputs": [],
   "source": [
    "daily_sentiments_excerpt = daily_sentiments_excerpt.iloc[:,1:]"
   ],
   "metadata": {
    "collapsed": false,
    "ExecuteTime": {
     "end_time": "2023-12-06T16:36:48.946441Z",
     "start_time": "2023-12-06T16:36:48.924117Z"
    }
   },
   "id": "c36e241bf337b1ed"
  },
  {
   "cell_type": "code",
   "execution_count": 27,
   "id": "e76ea4c8c8879715",
   "metadata": {
    "ExecuteTime": {
     "end_time": "2023-12-06T16:36:49.293256Z",
     "start_time": "2023-12-06T16:36:49.268306Z"
    }
   },
   "outputs": [],
   "source": [
    "daily_sentiments_excerpt = daily_sentiments_excerpt.resample('M').mean()"
   ]
  },
  {
   "cell_type": "code",
   "execution_count": 28,
   "id": "e1f781788bf20ef5",
   "metadata": {
    "ExecuteTime": {
     "end_time": "2023-12-06T16:36:50.897229Z",
     "start_time": "2023-12-06T16:36:50.784607Z"
    }
   },
   "outputs": [
    {
     "data": {
      "text/plain": "<Figure size 640x480 with 1 Axes>",
      "image/png": "[encoded data removed]"
     },
     "metadata": {},
     "output_type": "display_data"
    }
   ],
   "source": [
    "import matplotlib.pyplot as plt\n",
    "\n",
    "plt.hist(daily_sentiments_excerpt['sentimental_score'], bins = 100, color = 'darkorange')\n",
    "plt.grid(False)\n",
    "plt.title(\"Federal Reserve Press\", fontsize = 12, fontfamily = 'Serif')\n",
    "plt.show()"
   ]
  },
  {
   "cell_type": "code",
   "execution_count": 29,
   "id": "6ab11016ff0bf398",
   "metadata": {
    "ExecuteTime": {
     "end_time": "2023-12-06T16:36:54.863194Z",
     "start_time": "2023-12-06T16:36:54.839195Z"
    }
   },
   "outputs": [],
   "source": [
    "# daily_sentiments_excerpt.to_csv('../../Data/Final/press_sentiment.csv')"
   ]
  },
  {
   "cell_type": "markdown",
   "id": "ec48c392d3dc7a35",
   "metadata": {},
   "source": [
    "#### Investing.com Data"
   ]
  },
  {
   "cell_type": "code",
   "execution_count": 35,
   "id": "5770f6751052df90",
   "metadata": {
    "ExecuteTime": {
     "end_time": "2023-12-02T17:42:56.130756Z",
     "start_time": "2023-12-02T17:42:56.102774Z"
    }
   },
   "outputs": [
    {
     "data": {
      "text/plain": "       Unnamed: 0  year  month  \\\n0               0  2023     11   \n1               1  2023     11   \n2               2  2023     11   \n3               3  2023     11   \n4               4  2023     11   \n...           ...   ...    ...   \n22113       22113  2021     11   \n22114       22114  2021     11   \n22115       22115  2021     11   \n22116       22116  2021     11   \n22117       22117  2021     11   \n\n                                                   title  \n0      US Black Friday sales rise 2.5% -Mastercard Sp...  \n1      Poland's budget deficit hits PLN 36.42 billion...  \n2      Bundesbank Chief Urges Swift Fiscal Planning f...  \n3      Signa unit confirms bankruptcy filing in lette...  \n4      Nigeria cenbank to tighten policy to curb infl...  \n...                                                  ...  \n22113  Inflation, Rivian IPO, Jobless Claims - What's...  \n22114  German govt finances in critical state, federa...  \n22115  Chinese state firms ask regulators to adjust l...  \n22116  Europe's pandemic productivity growth surge ma...  \n22117  Asset managers flock to Singapore's new corpor...  \n\n[22118 rows x 4 columns]",
      "text/html": "<div>\n<style scoped>\n    .dataframe tbody tr th:only-of-type {\n        vertical-align: middle;\n    }\n\n    .dataframe tbody tr th {\n        vertical-align: top;\n    }\n\n    .dataframe thead th {\n        text-align: right;\n    }\n</style>\n<table border=\"1\" class=\"dataframe\">\n  <thead>\n    <tr style=\"text-align: right;\">\n      <th></th>\n      <th>Unnamed: 0</th>\n      <th>year</th>\n      <th>month</th>\n      <th>title</th>\n    </tr>\n  </thead>\n  <tbody>\n    <tr>\n      <th>0</th>\n      <td>0</td>\n      <td>2023</td>\n      <td>11</td>\n      <td>US Black Friday sales rise 2.5% -Mastercard Sp...</td>\n    </tr>\n    <tr>\n      <th>1</th>\n      <td>1</td>\n      <td>2023</td>\n      <td>11</td>\n      <td>Poland's budget deficit hits PLN 36.42 billion...</td>\n    </tr>\n    <tr>\n      <th>2</th>\n      <td>2</td>\n      <td>2023</td>\n      <td>11</td>\n      <td>Bundesbank Chief Urges Swift Fiscal Planning f...</td>\n    </tr>\n    <tr>\n      <th>3</th>\n      <td>3</td>\n      <td>2023</td>\n      <td>11</td>\n      <td>Signa unit confirms bankruptcy filing in lette...</td>\n    </tr>\n    <tr>\n      <th>4</th>\n      <td>4</td>\n      <td>2023</td>\n      <td>11</td>\n      <td>Nigeria cenbank to tighten policy to curb infl...</td>\n    </tr>\n    <tr>\n      <th>...</th>\n      <td>...</td>\n      <td>...</td>\n      <td>...</td>\n      <td>...</td>\n    </tr>\n    <tr>\n      <th>22113</th>\n      <td>22113</td>\n      <td>2021</td>\n      <td>11</td>\n      <td>Inflation, Rivian IPO, Jobless Claims - What's...</td>\n    </tr>\n    <tr>\n      <th>22114</th>\n      <td>22114</td>\n      <td>2021</td>\n      <td>11</td>\n      <td>German govt finances in critical state, federa...</td>\n    </tr>\n    <tr>\n      <th>22115</th>\n      <td>22115</td>\n      <td>2021</td>\n      <td>11</td>\n      <td>Chinese state firms ask regulators to adjust l...</td>\n    </tr>\n    <tr>\n      <th>22116</th>\n      <td>22116</td>\n      <td>2021</td>\n      <td>11</td>\n      <td>Europe's pandemic productivity growth surge ma...</td>\n    </tr>\n    <tr>\n      <th>22117</th>\n      <td>22117</td>\n      <td>2021</td>\n      <td>11</td>\n      <td>Asset managers flock to Singapore's new corpor...</td>\n    </tr>\n  </tbody>\n</table>\n<p>22118 rows × 4 columns</p>\n</div>"
     },
     "execution_count": 35,
     "metadata": {},
     "output_type": "execute_result"
    }
   ],
   "source": [
    "invest = pd.read_csv('../../Data/Final/investing_crawling.csv')\n",
    "invest"
   ]
  },
  {
   "cell_type": "code",
   "execution_count": 36,
   "id": "e481e57a265b149b",
   "metadata": {
    "ExecuteTime": {
     "end_time": "2023-12-02T17:42:56.612799Z",
     "start_time": "2023-12-02T17:42:56.604032Z"
    }
   },
   "outputs": [],
   "source": [
    "invest['index'] = invest['year'].astype(str) + '-' + invest['month'].astype(str)"
   ]
  },
  {
   "cell_type": "code",
   "execution_count": 37,
   "id": "294d5624c6a50a55",
   "metadata": {
    "ExecuteTime": {
     "end_time": "2023-12-02T17:42:57.102870Z",
     "start_time": "2023-12-02T17:42:57.097927Z"
    }
   },
   "outputs": [],
   "source": [
    "invest.index = invest['index']"
   ]
  },
  {
   "cell_type": "code",
   "execution_count": 38,
   "outputs": [
    {
     "data": {
      "text/plain": "         Unnamed: 0  year  month  \\\nindex                              \n2023-11           0  2023     11   \n2023-11           1  2023     11   \n2023-11           2  2023     11   \n2023-11           3  2023     11   \n2023-11           4  2023     11   \n...             ...   ...    ...   \n2021-11       22113  2021     11   \n2021-11       22114  2021     11   \n2021-11       22115  2021     11   \n2021-11       22116  2021     11   \n2021-11       22117  2021     11   \n\n                                                     title    index  \nindex                                                                \n2023-11  US Black Friday sales rise 2.5% -Mastercard Sp...  2023-11  \n2023-11  Poland's budget deficit hits PLN 36.42 billion...  2023-11  \n2023-11  Bundesbank Chief Urges Swift Fiscal Planning f...  2023-11  \n2023-11  Signa unit confirms bankruptcy filing in lette...  2023-11  \n2023-11  Nigeria cenbank to tighten policy to curb infl...  2023-11  \n...                                                    ...      ...  \n2021-11  Inflation, Rivian IPO, Jobless Claims - What's...  2021-11  \n2021-11  German govt finances in critical state, federa...  2021-11  \n2021-11  Chinese state firms ask regulators to adjust l...  2021-11  \n2021-11  Europe's pandemic productivity growth surge ma...  2021-11  \n2021-11  Asset managers flock to Singapore's new corpor...  2021-11  \n\n[22118 rows x 5 columns]",
      "text/html": "<div>\n<style scoped>\n    .dataframe tbody tr th:only-of-type {\n        vertical-align: middle;\n    }\n\n    .dataframe tbody tr th {\n        vertical-align: top;\n    }\n\n    .dataframe thead th {\n        text-align: right;\n    }\n</style>\n<table border=\"1\" class=\"dataframe\">\n  <thead>\n    <tr style=\"text-align: right;\">\n      <th></th>\n      <th>Unnamed: 0</th>\n      <th>year</th>\n      <th>month</th>\n      <th>title</th>\n      <th>index</th>\n    </tr>\n    <tr>\n      <th>index</th>\n      <th></th>\n      <th></th>\n      <th></th>\n      <th></th>\n      <th></th>\n    </tr>\n  </thead>\n  <tbody>\n    <tr>\n      <th>2023-11</th>\n      <td>0</td>\n      <td>2023</td>\n      <td>11</td>\n      <td>US Black Friday sales rise 2.5% -Mastercard Sp...</td>\n      <td>2023-11</td>\n    </tr>\n    <tr>\n      <th>2023-11</th>\n      <td>1</td>\n      <td>2023</td>\n      <td>11</td>\n      <td>Poland's budget deficit hits PLN 36.42 billion...</td>\n      <td>2023-11</td>\n    </tr>\n    <tr>\n      <th>2023-11</th>\n      <td>2</td>\n      <td>2023</td>\n      <td>11</td>\n      <td>Bundesbank Chief Urges Swift Fiscal Planning f...</td>\n      <td>2023-11</td>\n    </tr>\n    <tr>\n      <th>2023-11</th>\n      <td>3</td>\n      <td>2023</td>\n      <td>11</td>\n      <td>Signa unit confirms bankruptcy filing in lette...</td>\n      <td>2023-11</td>\n    </tr>\n    <tr>\n      <th>2023-11</th>\n      <td>4</td>\n      <td>2023</td>\n      <td>11</td>\n      <td>Nigeria cenbank to tighten policy to curb infl...</td>\n      <td>2023-11</td>\n    </tr>\n    <tr>\n      <th>...</th>\n      <td>...</td>\n      <td>...</td>\n      <td>...</td>\n      <td>...</td>\n      <td>...</td>\n    </tr>\n    <tr>\n      <th>2021-11</th>\n      <td>22113</td>\n      <td>2021</td>\n      <td>11</td>\n      <td>Inflation, Rivian IPO, Jobless Claims - What's...</td>\n      <td>2021-11</td>\n    </tr>\n    <tr>\n      <th>2021-11</th>\n      <td>22114</td>\n      <td>2021</td>\n      <td>11</td>\n      <td>German govt finances in critical state, federa...</td>\n      <td>2021-11</td>\n    </tr>\n    <tr>\n      <th>2021-11</th>\n      <td>22115</td>\n      <td>2021</td>\n      <td>11</td>\n      <td>Chinese state firms ask regulators to adjust l...</td>\n      <td>2021-11</td>\n    </tr>\n    <tr>\n      <th>2021-11</th>\n      <td>22116</td>\n      <td>2021</td>\n      <td>11</td>\n      <td>Europe's pandemic productivity growth surge ma...</td>\n      <td>2021-11</td>\n    </tr>\n    <tr>\n      <th>2021-11</th>\n      <td>22117</td>\n      <td>2021</td>\n      <td>11</td>\n      <td>Asset managers flock to Singapore's new corpor...</td>\n      <td>2021-11</td>\n    </tr>\n  </tbody>\n</table>\n<p>22118 rows × 5 columns</p>\n</div>"
     },
     "execution_count": 38,
     "metadata": {},
     "output_type": "execute_result"
    }
   ],
   "source": [
    "invest"
   ],
   "metadata": {
    "collapsed": false,
    "ExecuteTime": {
     "end_time": "2023-12-02T17:42:57.549791Z",
     "start_time": "2023-12-02T17:42:57.545215Z"
    }
   },
   "id": "4df0ff7a9386736d"
  },
  {
   "cell_type": "code",
   "execution_count": 39,
   "outputs": [
    {
     "data": {
      "text/plain": "Index(['2023-11', '2023-10', '2023-9', '2023-8', '2023-7', '2023-6', '2023-5',\n       '2023-4', '2023-3', '2023-2', '2023-1', '2022-12', '2022-11', '2022-10',\n       '2022-9', '2022-8', '2022-7', '2022-6', '2022-5', '2022-4', '2022-3',\n       '2022-2', '2022-1', '2021-12', '2021-11'],\n      dtype='object', name='index')"
     },
     "execution_count": 39,
     "metadata": {},
     "output_type": "execute_result"
    }
   ],
   "source": [
    "unique_dates = invest.index.unique()\n",
    "unique_dates"
   ],
   "metadata": {
    "collapsed": false,
    "ExecuteTime": {
     "end_time": "2023-12-02T17:42:58.064910Z",
     "start_time": "2023-12-02T17:42:58.059678Z"
    }
   },
   "id": "51d5a9e734dba71c"
  },
  {
   "cell_type": "code",
   "execution_count": 40,
   "outputs": [
    {
     "name": "stderr",
     "output_type": "stream",
     "text": [
      "[nltk_data] Downloading package stopwords to\n",
      "[nltk_data]     /Users/junghunlee/nltk_data...\n",
      "[nltk_data]   Package stopwords is already up-to-date!\n"
     ]
    },
    {
     "name": "stdout",
     "output_type": "stream",
     "text": [
      "spent time : 224.32314705848694\n"
     ]
    },
    {
     "data": {
      "text/plain": "         Positive  Negative   Neutral\nDate                                 \n2023-11  0.159651  0.646914  0.193435\n2023-10  0.160515  0.635881  0.203604\n2023-9   0.151963  0.656168  0.191869\n2023-8   0.122717  0.711143  0.166141\n2023-7   0.103711  0.745990  0.150299\n2023-6   0.094562  0.734463  0.170975\n2023-5   0.138747  0.724805  0.136448\n2023-4   0.130142  0.714174  0.155683\n2023-3   0.131547  0.734119  0.134333\n2023-2   0.083283  0.775285  0.141431\n2023-1   0.113265  0.743193  0.143542\n2022-12  0.122348  0.727467  0.150185\n2022-11  0.122920  0.733155  0.143925\n2022-10  0.133871  0.711609  0.154520\n2022-9   0.120112  0.719561  0.160327\n2022-8   0.119312  0.718504  0.162184\n2022-7   0.140451  0.689566  0.169983\n2022-6   0.119699  0.738483  0.141818\n2022-5   0.109284  0.713173  0.177543\n2022-4   0.114747  0.731923  0.153330\n2022-3   0.124584  0.761502  0.113914\n2022-2   0.090664  0.771379  0.137957\n2022-1   0.093653  0.724971  0.181376\n2021-12  0.075194  0.757125  0.167681\n2021-11  0.078778  0.777119  0.144103",
      "text/html": "<div>\n<style scoped>\n    .dataframe tbody tr th:only-of-type {\n        vertical-align: middle;\n    }\n\n    .dataframe tbody tr th {\n        vertical-align: top;\n    }\n\n    .dataframe thead th {\n        text-align: right;\n    }\n</style>\n<table border=\"1\" class=\"dataframe\">\n  <thead>\n    <tr style=\"text-align: right;\">\n      <th></th>\n      <th>Positive</th>\n      <th>Negative</th>\n      <th>Neutral</th>\n    </tr>\n    <tr>\n      <th>Date</th>\n      <th></th>\n      <th></th>\n      <th></th>\n    </tr>\n  </thead>\n  <tbody>\n    <tr>\n      <th>2023-11</th>\n      <td>0.159651</td>\n      <td>0.646914</td>\n      <td>0.193435</td>\n    </tr>\n    <tr>\n      <th>2023-10</th>\n      <td>0.160515</td>\n      <td>0.635881</td>\n      <td>0.203604</td>\n    </tr>\n    <tr>\n      <th>2023-9</th>\n      <td>0.151963</td>\n      <td>0.656168</td>\n      <td>0.191869</td>\n    </tr>\n    <tr>\n      <th>2023-8</th>\n      <td>0.122717</td>\n      <td>0.711143</td>\n      <td>0.166141</td>\n    </tr>\n    <tr>\n      <th>2023-7</th>\n      <td>0.103711</td>\n      <td>0.745990</td>\n      <td>0.150299</td>\n    </tr>\n    <tr>\n      <th>2023-6</th>\n      <td>0.094562</td>\n      <td>0.734463</td>\n      <td>0.170975</td>\n    </tr>\n    <tr>\n      <th>2023-5</th>\n      <td>0.138747</td>\n      <td>0.724805</td>\n      <td>0.136448</td>\n    </tr>\n    <tr>\n      <th>2023-4</th>\n      <td>0.130142</td>\n      <td>0.714174</td>\n      <td>0.155683</td>\n    </tr>\n    <tr>\n      <th>2023-3</th>\n      <td>0.131547</td>\n      <td>0.734119</td>\n      <td>0.134333</td>\n    </tr>\n    <tr>\n      <th>2023-2</th>\n      <td>0.083283</td>\n      <td>0.775285</td>\n      <td>0.141431</td>\n    </tr>\n    <tr>\n      <th>2023-1</th>\n      <td>0.113265</td>\n      <td>0.743193</td>\n      <td>0.143542</td>\n    </tr>\n    <tr>\n      <th>2022-12</th>\n      <td>0.122348</td>\n      <td>0.727467</td>\n      <td>0.150185</td>\n    </tr>\n    <tr>\n      <th>2022-11</th>\n      <td>0.122920</td>\n      <td>0.733155</td>\n      <td>0.143925</td>\n    </tr>\n    <tr>\n      <th>2022-10</th>\n      <td>0.133871</td>\n      <td>0.711609</td>\n      <td>0.154520</td>\n    </tr>\n    <tr>\n      <th>2022-9</th>\n      <td>0.120112</td>\n      <td>0.719561</td>\n      <td>0.160327</td>\n    </tr>\n    <tr>\n      <th>2022-8</th>\n      <td>0.119312</td>\n      <td>0.718504</td>\n      <td>0.162184</td>\n    </tr>\n    <tr>\n      <th>2022-7</th>\n      <td>0.140451</td>\n      <td>0.689566</td>\n      <td>0.169983</td>\n    </tr>\n    <tr>\n      <th>2022-6</th>\n      <td>0.119699</td>\n      <td>0.738483</td>\n      <td>0.141818</td>\n    </tr>\n    <tr>\n      <th>2022-5</th>\n      <td>0.109284</td>\n      <td>0.713173</td>\n      <td>0.177543</td>\n    </tr>\n    <tr>\n      <th>2022-4</th>\n      <td>0.114747</td>\n      <td>0.731923</td>\n      <td>0.153330</td>\n    </tr>\n    <tr>\n      <th>2022-3</th>\n      <td>0.124584</td>\n      <td>0.761502</td>\n      <td>0.113914</td>\n    </tr>\n    <tr>\n      <th>2022-2</th>\n      <td>0.090664</td>\n      <td>0.771379</td>\n      <td>0.137957</td>\n    </tr>\n    <tr>\n      <th>2022-1</th>\n      <td>0.093653</td>\n      <td>0.724971</td>\n      <td>0.181376</td>\n    </tr>\n    <tr>\n      <th>2021-12</th>\n      <td>0.075194</td>\n      <td>0.757125</td>\n      <td>0.167681</td>\n    </tr>\n    <tr>\n      <th>2021-11</th>\n      <td>0.078778</td>\n      <td>0.777119</td>\n      <td>0.144103</td>\n    </tr>\n  </tbody>\n</table>\n</div>"
     },
     "execution_count": 40,
     "metadata": {},
     "output_type": "execute_result"
    }
   ],
   "source": [
    "import time\n",
    "daily_sentiments_excerpt = pd.DataFrame(columns = [\"Date\", \"Positive\", \"Negative\", \"Neutral\"])\n",
    "\n",
    "start_time = time.time()\n",
    "\n",
    "nltk.download(\"stopwords\")\n",
    "stop_words = set(stopwords.words(\"english\"))\n",
    "\n",
    "for date in unique_dates:    \n",
    "    #text_for_date = data[data[\"rgs_dt\"] == date][\"news_smy_ifo\"].tolist()\n",
    "    text_for_date = invest[invest.index == date][\"title\"].tolist()\n",
    "\n",
    "    tokenized_texts = []\n",
    "    for text in text_for_date :\n",
    "        try : \n",
    "            temp = []\n",
    "            for word in tokenizer.tokenize(text) :\n",
    "                if word.lower() not in stop_words :\n",
    "                    temp.append(word)\n",
    "            tokenized_texts.append(temp)\n",
    "        except : \n",
    "            tokenized_texts.append([])\n",
    "\n",
    "    max_token_length = 500\n",
    "\n",
    "    tokenized_texts = [\" \".join(tokens[:max_token_length]) for tokens in tokenized_texts]\n",
    "    inputs = tokenizer(tokenized_texts, padding = True, truncation = True, return_tensors = \"pt\", max_length = max_token_length)\n",
    "\n",
    "    with torch.no_grad():\n",
    "        outputs = model(**inputs)\n",
    "        logits = outputs.logits\n",
    "\n",
    "    probabilities = torch.softmax(logits, dim=1)\n",
    "    positive_prob = probabilities[:, 2].mean().item()\n",
    "    negative_prob = probabilities[:, 0].mean().item()\n",
    "    neutral_prob = probabilities[:, 1].mean().item()\n",
    "    \n",
    "    daily_sentiments_excerpt = pd.concat([daily_sentiments_excerpt, \n",
    "                                          pd.DataFrame({\"Date\": date, \n",
    "                                                        \"Positive\": positive_prob, \n",
    "                                                        \"Negative\": negative_prob, \n",
    "                                                        \"Neutral\": neutral_prob}, index = ['0'])],\n",
    "                                 ignore_index = True)\n",
    "\n",
    "print(f'spent time : {time.time() - start_time}')\n",
    "daily_sentiments_excerpt.index = daily_sentiments_excerpt.Date\n",
    "daily_sentiments_excerpt = daily_sentiments_excerpt.iloc[:,1:]\n",
    "daily_sentiments_excerpt"
   ],
   "metadata": {
    "collapsed": false,
    "ExecuteTime": {
     "end_time": "2023-12-02T17:46:44.147524Z",
     "start_time": "2023-12-02T17:42:59.819219Z"
    }
   },
   "id": "8eedd9e23a76f888"
  },
  {
   "cell_type": "code",
   "execution_count": 41,
   "outputs": [],
   "source": [
    "daily_sentiments_excerpt['sentimental_score'] = daily_sentiments_excerpt['Positive'] - daily_sentiments_excerpt['Negative'] + daily_sentiments_excerpt['Neutral'] * 0.5"
   ],
   "metadata": {
    "collapsed": false,
    "ExecuteTime": {
     "end_time": "2023-12-02T17:49:23.318380Z",
     "start_time": "2023-12-02T17:49:23.303602Z"
    }
   },
   "id": "8297d8e5091a94fa"
  },
  {
   "cell_type": "code",
   "execution_count": 42,
   "outputs": [],
   "source": [
    "daily_sentiments_excerpt.index = pd.to_datetime(daily_sentiments_excerpt.index)"
   ],
   "metadata": {
    "collapsed": false,
    "ExecuteTime": {
     "end_time": "2023-12-02T17:49:23.784877Z",
     "start_time": "2023-12-02T17:49:23.769336Z"
    }
   },
   "id": "8e9a657574315325"
  },
  {
   "cell_type": "code",
   "execution_count": 43,
   "outputs": [
    {
     "data": {
      "text/plain": "<Figure size 640x480 with 1 Axes>",
      "image/png": "[encoded data removed]"
     },
     "metadata": {},
     "output_type": "display_data"
    }
   ],
   "source": [
    "import matplotlib.pyplot as plt\n",
    "\n",
    "plt.hist(daily_sentiments_excerpt['sentimental_score'], bins = 100, color = 'darkorange')\n",
    "plt.grid(False)\n",
    "plt.title(\"Investing.com news data\", fontsize = 12, fontfamily = 'Serif')\n",
    "plt.show()"
   ],
   "metadata": {
    "collapsed": false,
    "ExecuteTime": {
     "end_time": "2023-12-02T17:49:24.929596Z",
     "start_time": "2023-12-02T17:49:24.815571Z"
    }
   },
   "id": "a1c9b2cd63fcd87f"
  },
  {
   "cell_type": "code",
   "execution_count": 44,
   "outputs": [],
   "source": [
    "# daily_sentiments_excerpt.to_csv('../../Data/Final/invest_com_sentiment.csv')"
   ],
   "metadata": {
    "collapsed": false,
    "ExecuteTime": {
     "end_time": "2023-12-02T17:49:51.786110Z",
     "start_time": "2023-12-02T17:49:51.762633Z"
    }
   },
   "id": "eff2e57819cb53ec"
  },
  {
   "cell_type": "markdown",
   "source": [
    "#### FT Titles"
   ],
   "metadata": {
    "collapsed": false
   },
   "id": "250e91de9b8b1a35"
  },
  {
   "cell_type": "code",
   "execution_count": 45,
   "id": "dac1d96e9eb1bd6f",
   "metadata": {
    "ExecuteTime": {
     "end_time": "2023-12-02T17:49:55.605934Z",
     "start_time": "2023-12-02T17:49:55.595356Z"
    }
   },
   "outputs": [
    {
     "data": {
      "text/plain": "      Unnamed: 0  year  month  \\\n0              0  2023     11   \n1              1  2023     11   \n2              2  2023     11   \n3              3  2023     11   \n4              4  2023     11   \n...          ...   ...    ...   \n2944        2944  2018     12   \n2945        2945  2018     12   \n2946        2946  2018     12   \n2947        2947  2018     12   \n2948        2948  2018     12   \n\n                                                  title  \n0     Investors pour cash into US corporate debt in ...  \n1     Fed officials showed little urgency to raise r...  \n2     Emerging market central banks may be trumping ...  \n3     The Fed’s balance sheet isn’t so boring after all  \n4     Falling fuel prices and airfares bring relief ...  \n...                                                 ...  \n2944  Fed’s Powell poised to set rates policy tone f...  \n2945       Week ahead: Fed, BoE, US government shutdown  \n2946     Investors signal concerns with leveraged loans  \n2947               An error-correcting inflation target  \n2948  Tepid inflation gives Fed room to slow rate rises  \n\n[2949 rows x 4 columns]",
      "text/html": "<div>\n<style scoped>\n    .dataframe tbody tr th:only-of-type {\n        vertical-align: middle;\n    }\n\n    .dataframe tbody tr th {\n        vertical-align: top;\n    }\n\n    .dataframe thead th {\n        text-align: right;\n    }\n</style>\n<table border=\"1\" class=\"dataframe\">\n  <thead>\n    <tr style=\"text-align: right;\">\n      <th></th>\n      <th>Unnamed: 0</th>\n      <th>year</th>\n      <th>month</th>\n      <th>title</th>\n    </tr>\n  </thead>\n  <tbody>\n    <tr>\n      <th>0</th>\n      <td>0</td>\n      <td>2023</td>\n      <td>11</td>\n      <td>Investors pour cash into US corporate debt in ...</td>\n    </tr>\n    <tr>\n      <th>1</th>\n      <td>1</td>\n      <td>2023</td>\n      <td>11</td>\n      <td>Fed officials showed little urgency to raise r...</td>\n    </tr>\n    <tr>\n      <th>2</th>\n      <td>2</td>\n      <td>2023</td>\n      <td>11</td>\n      <td>Emerging market central banks may be trumping ...</td>\n    </tr>\n    <tr>\n      <th>3</th>\n      <td>3</td>\n      <td>2023</td>\n      <td>11</td>\n      <td>The Fed’s balance sheet isn’t so boring after all</td>\n    </tr>\n    <tr>\n      <th>4</th>\n      <td>4</td>\n      <td>2023</td>\n      <td>11</td>\n      <td>Falling fuel prices and airfares bring relief ...</td>\n    </tr>\n    <tr>\n      <th>...</th>\n      <td>...</td>\n      <td>...</td>\n      <td>...</td>\n      <td>...</td>\n    </tr>\n    <tr>\n      <th>2944</th>\n      <td>2944</td>\n      <td>2018</td>\n      <td>12</td>\n      <td>Fed’s Powell poised to set rates policy tone f...</td>\n    </tr>\n    <tr>\n      <th>2945</th>\n      <td>2945</td>\n      <td>2018</td>\n      <td>12</td>\n      <td>Week ahead: Fed, BoE, US government shutdown</td>\n    </tr>\n    <tr>\n      <th>2946</th>\n      <td>2946</td>\n      <td>2018</td>\n      <td>12</td>\n      <td>Investors signal concerns with leveraged loans</td>\n    </tr>\n    <tr>\n      <th>2947</th>\n      <td>2947</td>\n      <td>2018</td>\n      <td>12</td>\n      <td>An error-correcting inflation target</td>\n    </tr>\n    <tr>\n      <th>2948</th>\n      <td>2948</td>\n      <td>2018</td>\n      <td>12</td>\n      <td>Tepid inflation gives Fed room to slow rate rises</td>\n    </tr>\n  </tbody>\n</table>\n<p>2949 rows × 4 columns</p>\n</div>"
     },
     "execution_count": 45,
     "metadata": {},
     "output_type": "execute_result"
    }
   ],
   "source": [
    "ft = pd.read_csv('../../Data/Final/ft_crawling.csv')\n",
    "ft"
   ]
  },
  {
   "cell_type": "code",
   "execution_count": 46,
   "outputs": [],
   "source": [
    "ft.index = ft['year'].astype(str) + '-' + ft['month'].astype(str)"
   ],
   "metadata": {
    "collapsed": false,
    "ExecuteTime": {
     "end_time": "2023-12-02T17:49:56.268759Z",
     "start_time": "2023-12-02T17:49:56.264957Z"
    }
   },
   "id": "ea1f79a52b3547f0"
  },
  {
   "cell_type": "code",
   "execution_count": 47,
   "outputs": [
    {
     "data": {
      "text/plain": "Index(['2023-11', '2023-10', '2023-9', '2023-8', '2023-7', '2023-6', '2023-5',\n       '2023-4', '2023-3', '2023-2', '2023-1', '2022-12', '2022-11', '2022-10',\n       '2022-9', '2022-8', '2022-7', '2022-6', '2022-5', '2022-4', '2022-3',\n       '2022-2', '2022-1', '2021-12', '2021-11', '2021-10', '2021-9', '2021-8',\n       '2021-7', '2021-6', '2021-5', '2021-4', '2021-3', '2021-2', '2021-1',\n       '2020-12', '2020-11', '2020-10', '2020-9', '2020-8', '2020-7', '2020-6',\n       '2020-5', '2020-4', '2020-3', '2020-2', '2020-1', '2019-12', '2019-11',\n       '2019-10', '2019-9', '2019-8', '2019-7', '2019-6', '2019-5', '2019-4',\n       '2019-3', '2019-2', '2019-1', '2018-12'],\n      dtype='object')"
     },
     "execution_count": 47,
     "metadata": {},
     "output_type": "execute_result"
    }
   ],
   "source": [
    "unique_dates = ft.index.unique()\n",
    "unique_dates"
   ],
   "metadata": {
    "collapsed": false,
    "ExecuteTime": {
     "end_time": "2023-12-02T17:49:56.614511Z",
     "start_time": "2023-12-02T17:49:56.608924Z"
    }
   },
   "id": "c76413baa26efa96"
  },
  {
   "cell_type": "code",
   "execution_count": 48,
   "outputs": [
    {
     "name": "stderr",
     "output_type": "stream",
     "text": [
      "[nltk_data] Downloading package stopwords to\n",
      "[nltk_data]     /Users/junghunlee/nltk_data...\n",
      "[nltk_data]   Package stopwords is already up-to-date!\n"
     ]
    },
    {
     "name": "stdout",
     "output_type": "stream",
     "text": [
      "spent time : 23.534430027008057\n"
     ]
    },
    {
     "data": {
      "text/plain": "         Positive  Negative   Neutral\nDate                                 \n2023-11  0.174408  0.688674  0.136918\n2023-10  0.241055  0.525816  0.233129\n2023-9   0.224177  0.573975  0.201848\n2023-8   0.144376  0.757819  0.097805\n2023-7   0.298952  0.569860  0.131188\n2023-6   0.085023  0.727201  0.187776\n2023-5   0.242027  0.627649  0.130324\n2023-4   0.289253  0.593404  0.117343\n2023-3   0.262735  0.627765  0.109500\n2023-2   0.186114  0.635836  0.178050\n2023-1   0.099978  0.587200  0.312822\n2022-12  0.203554  0.589863  0.206583\n2022-11  0.234410  0.545349  0.220240\n2022-10  0.200804  0.672526  0.126670\n2022-9   0.199042  0.637858  0.163100\n2022-8   0.203809  0.645549  0.150641\n2022-7   0.283156  0.527786  0.189058\n2022-6   0.270299  0.567947  0.161753\n2022-5   0.154391  0.758516  0.087093\n2022-4   0.117450  0.773610  0.108940\n2022-3   0.249807  0.557184  0.193009\n2022-2   0.143109  0.725116  0.131776\n2022-1   0.184032  0.684803  0.131164\n2021-12  0.156116  0.753452  0.090432\n2021-11  0.207745  0.665200  0.127056\n2021-10  0.176380  0.705675  0.117946\n2021-9   0.215501  0.646039  0.138460\n2021-8   0.124789  0.660259  0.214952\n2021-7   0.157800  0.689560  0.152640\n2021-6   0.145355  0.748378  0.106268\n2021-5   0.118462  0.795748  0.085789\n2021-4   0.208625  0.593957  0.197418\n2021-3   0.089211  0.717830  0.192959\n2021-2   0.202181  0.606202  0.191617\n2021-1   0.305763  0.692176  0.002061\n2020-12  0.119055  0.737268  0.143677\n2020-11  0.178871  0.752938  0.068191\n2020-10  0.175156  0.748806  0.076037\n2020-9   0.131790  0.819864  0.048346\n2020-8   0.281896  0.624814  0.093290\n2020-7   0.120421  0.753881  0.125698\n2020-6   0.168726  0.710329  0.120945\n2020-5   0.249296  0.496663  0.254041\n2020-4   0.134044  0.687118  0.178838\n2020-3   0.155356  0.683940  0.160703\n2020-2   0.073606  0.628408  0.297986\n2020-1   0.148903  0.675774  0.175323\n2019-12  0.152910  0.691829  0.155260\n2019-11  0.155964  0.613831  0.230205\n2019-10  0.229948  0.619001  0.151052\n2019-9   0.214123  0.606583  0.179293\n2019-8   0.215622  0.677417  0.106960\n2019-7   0.064060  0.790115  0.145825\n2019-6   0.135557  0.734414  0.130029\n2019-5   0.266043  0.571977  0.161980\n2019-4   0.138558  0.755921  0.105520\n2019-3   0.167230  0.632296  0.200474\n2019-2   0.137491  0.626814  0.235695\n2019-1   0.102436  0.701169  0.196395\n2018-12  0.234367  0.633257  0.132375",
      "text/html": "<div>\n<style scoped>\n    .dataframe tbody tr th:only-of-type {\n        vertical-align: middle;\n    }\n\n    .dataframe tbody tr th {\n        vertical-align: top;\n    }\n\n    .dataframe thead th {\n        text-align: right;\n    }\n</style>\n<table border=\"1\" class=\"dataframe\">\n  <thead>\n    <tr style=\"text-align: right;\">\n      <th></th>\n      <th>Positive</th>\n      <th>Negative</th>\n      <th>Neutral</th>\n    </tr>\n    <tr>\n      <th>Date</th>\n      <th></th>\n      <th></th>\n      <th></th>\n    </tr>\n  </thead>\n  <tbody>\n    <tr>\n      <th>2023-11</th>\n      <td>0.174408</td>\n      <td>0.688674</td>\n      <td>0.136918</td>\n    </tr>\n    <tr>\n      <th>2023-10</th>\n      <td>0.241055</td>\n      <td>0.525816</td>\n      <td>0.233129</td>\n    </tr>\n    <tr>\n      <th>2023-9</th>\n      <td>0.224177</td>\n      <td>0.573975</td>\n      <td>0.201848</td>\n    </tr>\n    <tr>\n      <th>2023-8</th>\n      <td>0.144376</td>\n      <td>0.757819</td>\n      <td>0.097805</td>\n    </tr>\n    <tr>\n      <th>2023-7</th>\n      <td>0.298952</td>\n      <td>0.569860</td>\n      <td>0.131188</td>\n    </tr>\n    <tr>\n      <th>2023-6</th>\n      <td>0.085023</td>\n      <td>0.727201</td>\n      <td>0.187776</td>\n    </tr>\n    <tr>\n      <th>2023-5</th>\n      <td>0.242027</td>\n      <td>0.627649</td>\n      <td>0.130324</td>\n    </tr>\n    <tr>\n      <th>2023-4</th>\n      <td>0.289253</td>\n      <td>0.593404</td>\n      <td>0.117343</td>\n    </tr>\n    <tr>\n      <th>2023-3</th>\n      <td>0.262735</td>\n      <td>0.627765</td>\n      <td>0.109500</td>\n    </tr>\n    <tr>\n      <th>2023-2</th>\n      <td>0.186114</td>\n      <td>0.635836</td>\n      <td>0.178050</td>\n    </tr>\n    <tr>\n      <th>2023-1</th>\n      <td>0.099978</td>\n      <td>0.587200</td>\n      <td>0.312822</td>\n    </tr>\n    <tr>\n      <th>2022-12</th>\n      <td>0.203554</td>\n      <td>0.589863</td>\n      <td>0.206583</td>\n    </tr>\n    <tr>\n      <th>2022-11</th>\n      <td>0.234410</td>\n      <td>0.545349</td>\n      <td>0.220240</td>\n    </tr>\n    <tr>\n      <th>2022-10</th>\n      <td>0.200804</td>\n      <td>0.672526</td>\n      <td>0.126670</td>\n    </tr>\n    <tr>\n      <th>2022-9</th>\n      <td>0.199042</td>\n      <td>0.637858</td>\n      <td>0.163100</td>\n    </tr>\n    <tr>\n      <th>2022-8</th>\n      <td>0.203809</td>\n      <td>0.645549</td>\n      <td>0.150641</td>\n    </tr>\n    <tr>\n      <th>2022-7</th>\n      <td>0.283156</td>\n      <td>0.527786</td>\n      <td>0.189058</td>\n    </tr>\n    <tr>\n      <th>2022-6</th>\n      <td>0.270299</td>\n      <td>0.567947</td>\n      <td>0.161753</td>\n    </tr>\n    <tr>\n      <th>2022-5</th>\n      <td>0.154391</td>\n      <td>0.758516</td>\n      <td>0.087093</td>\n    </tr>\n    <tr>\n      <th>2022-4</th>\n      <td>0.117450</td>\n      <td>0.773610</td>\n      <td>0.108940</td>\n    </tr>\n    <tr>\n      <th>2022-3</th>\n      <td>0.249807</td>\n      <td>0.557184</td>\n      <td>0.193009</td>\n    </tr>\n    <tr>\n      <th>2022-2</th>\n      <td>0.143109</td>\n      <td>0.725116</td>\n      <td>0.131776</td>\n    </tr>\n    <tr>\n      <th>2022-1</th>\n      <td>0.184032</td>\n      <td>0.684803</td>\n      <td>0.131164</td>\n    </tr>\n    <tr>\n      <th>2021-12</th>\n      <td>0.156116</td>\n      <td>0.753452</td>\n      <td>0.090432</td>\n    </tr>\n    <tr>\n      <th>2021-11</th>\n      <td>0.207745</td>\n      <td>0.665200</td>\n      <td>0.127056</td>\n    </tr>\n    <tr>\n      <th>2021-10</th>\n      <td>0.176380</td>\n      <td>0.705675</td>\n      <td>0.117946</td>\n    </tr>\n    <tr>\n      <th>2021-9</th>\n      <td>0.215501</td>\n      <td>0.646039</td>\n      <td>0.138460</td>\n    </tr>\n    <tr>\n      <th>2021-8</th>\n      <td>0.124789</td>\n      <td>0.660259</td>\n      <td>0.214952</td>\n    </tr>\n    <tr>\n      <th>2021-7</th>\n      <td>0.157800</td>\n      <td>0.689560</td>\n      <td>0.152640</td>\n    </tr>\n    <tr>\n      <th>2021-6</th>\n      <td>0.145355</td>\n      <td>0.748378</td>\n      <td>0.106268</td>\n    </tr>\n    <tr>\n      <th>2021-5</th>\n      <td>0.118462</td>\n      <td>0.795748</td>\n      <td>0.085789</td>\n    </tr>\n    <tr>\n      <th>2021-4</th>\n      <td>0.208625</td>\n      <td>0.593957</td>\n      <td>0.197418</td>\n    </tr>\n    <tr>\n      <th>2021-3</th>\n      <td>0.089211</td>\n      <td>0.717830</td>\n      <td>0.192959</td>\n    </tr>\n    <tr>\n      <th>2021-2</th>\n      <td>0.202181</td>\n      <td>0.606202</td>\n      <td>0.191617</td>\n    </tr>\n    <tr>\n      <th>2021-1</th>\n      <td>0.305763</td>\n      <td>0.692176</td>\n      <td>0.002061</td>\n    </tr>\n    <tr>\n      <th>2020-12</th>\n      <td>0.119055</td>\n      <td>0.737268</td>\n      <td>0.143677</td>\n    </tr>\n    <tr>\n      <th>2020-11</th>\n      <td>0.178871</td>\n      <td>0.752938</td>\n      <td>0.068191</td>\n    </tr>\n    <tr>\n      <th>2020-10</th>\n      <td>0.175156</td>\n      <td>0.748806</td>\n      <td>0.076037</td>\n    </tr>\n    <tr>\n      <th>2020-9</th>\n      <td>0.131790</td>\n      <td>0.819864</td>\n      <td>0.048346</td>\n    </tr>\n    <tr>\n      <th>2020-8</th>\n      <td>0.281896</td>\n      <td>0.624814</td>\n      <td>0.093290</td>\n    </tr>\n    <tr>\n      <th>2020-7</th>\n      <td>0.120421</td>\n      <td>0.753881</td>\n      <td>0.125698</td>\n    </tr>\n    <tr>\n      <th>2020-6</th>\n      <td>0.168726</td>\n      <td>0.710329</td>\n      <td>0.120945</td>\n    </tr>\n    <tr>\n      <th>2020-5</th>\n      <td>0.249296</td>\n      <td>0.496663</td>\n      <td>0.254041</td>\n    </tr>\n    <tr>\n      <th>2020-4</th>\n      <td>0.134044</td>\n      <td>0.687118</td>\n      <td>0.178838</td>\n    </tr>\n    <tr>\n      <th>2020-3</th>\n      <td>0.155356</td>\n      <td>0.683940</td>\n      <td>0.160703</td>\n    </tr>\n    <tr>\n      <th>2020-2</th>\n      <td>0.073606</td>\n      <td>0.628408</td>\n      <td>0.297986</td>\n    </tr>\n    <tr>\n      <th>2020-1</th>\n      <td>0.148903</td>\n      <td>0.675774</td>\n      <td>0.175323</td>\n    </tr>\n    <tr>\n      <th>2019-12</th>\n      <td>0.152910</td>\n      <td>0.691829</td>\n      <td>0.155260</td>\n    </tr>\n    <tr>\n      <th>2019-11</th>\n      <td>0.155964</td>\n      <td>0.613831</td>\n      <td>0.230205</td>\n    </tr>\n    <tr>\n      <th>2019-10</th>\n      <td>0.229948</td>\n      <td>0.619001</td>\n      <td>0.151052</td>\n    </tr>\n    <tr>\n      <th>2019-9</th>\n      <td>0.214123</td>\n      <td>0.606583</td>\n      <td>0.179293</td>\n    </tr>\n    <tr>\n      <th>2019-8</th>\n      <td>0.215622</td>\n      <td>0.677417</td>\n      <td>0.106960</td>\n    </tr>\n    <tr>\n      <th>2019-7</th>\n      <td>0.064060</td>\n      <td>0.790115</td>\n      <td>0.145825</td>\n    </tr>\n    <tr>\n      <th>2019-6</th>\n      <td>0.135557</td>\n      <td>0.734414</td>\n      <td>0.130029</td>\n    </tr>\n    <tr>\n      <th>2019-5</th>\n      <td>0.266043</td>\n      <td>0.571977</td>\n      <td>0.161980</td>\n    </tr>\n    <tr>\n      <th>2019-4</th>\n      <td>0.138558</td>\n      <td>0.755921</td>\n      <td>0.105520</td>\n    </tr>\n    <tr>\n      <th>2019-3</th>\n      <td>0.167230</td>\n      <td>0.632296</td>\n      <td>0.200474</td>\n    </tr>\n    <tr>\n      <th>2019-2</th>\n      <td>0.137491</td>\n      <td>0.626814</td>\n      <td>0.235695</td>\n    </tr>\n    <tr>\n      <th>2019-1</th>\n      <td>0.102436</td>\n      <td>0.701169</td>\n      <td>0.196395</td>\n    </tr>\n    <tr>\n      <th>2018-12</th>\n      <td>0.234367</td>\n      <td>0.633257</td>\n      <td>0.132375</td>\n    </tr>\n  </tbody>\n</table>\n</div>"
     },
     "execution_count": 48,
     "metadata": {},
     "output_type": "execute_result"
    }
   ],
   "source": [
    "import time\n",
    "daily_sentiments_excerpt = pd.DataFrame(columns = [\"Date\", \"Positive\", \"Negative\", \"Neutral\"])\n",
    "\n",
    "start_time = time.time()\n",
    "\n",
    "nltk.download(\"stopwords\")\n",
    "stop_words = set(stopwords.words(\"english\"))\n",
    "\n",
    "for date in unique_dates:    \n",
    "    #text_for_date = data[data[\"rgs_dt\"] == date][\"news_smy_ifo\"].tolist()\n",
    "    text_for_date = ft[ft.index == date][\"title\"].tolist()\n",
    "\n",
    "    tokenized_texts = []\n",
    "    for text in text_for_date :\n",
    "        try : \n",
    "            temp = []\n",
    "            for word in tokenizer.tokenize(text) :\n",
    "                if word.lower() not in stop_words :\n",
    "                    temp.append(word)\n",
    "            tokenized_texts.append(temp)\n",
    "        except : \n",
    "            tokenized_texts.append([])\n",
    "\n",
    "    max_token_length = 500\n",
    "\n",
    "    tokenized_texts = [\" \".join(tokens[:max_token_length]) for tokens in tokenized_texts]\n",
    "    inputs = tokenizer(tokenized_texts, padding = True, truncation = True, return_tensors = \"pt\", max_length = max_token_length)\n",
    "\n",
    "    with torch.no_grad():\n",
    "        outputs = model(**inputs)\n",
    "        logits = outputs.logits\n",
    "\n",
    "    probabilities = torch.softmax(logits, dim=1)\n",
    "    positive_prob = probabilities[:, 2].mean().item()\n",
    "    negative_prob = probabilities[:, 0].mean().item()\n",
    "    neutral_prob = probabilities[:, 1].mean().item()\n",
    "    \n",
    "    daily_sentiments_excerpt = pd.concat([daily_sentiments_excerpt, \n",
    "                                          pd.DataFrame({\"Date\": date, \n",
    "                                                        \"Positive\": positive_prob, \n",
    "                                                        \"Negative\": negative_prob, \n",
    "                                                        \"Neutral\": neutral_prob}, index = ['0'])],\n",
    "                                 ignore_index = True)\n",
    "\n",
    "print(f'spent time : {time.time() - start_time}')\n",
    "daily_sentiments_excerpt.index = daily_sentiments_excerpt.Date\n",
    "daily_sentiments_excerpt = daily_sentiments_excerpt.iloc[:,1:]\n",
    "daily_sentiments_excerpt"
   ],
   "metadata": {
    "collapsed": false,
    "ExecuteTime": {
     "end_time": "2023-12-02T17:50:20.794413Z",
     "start_time": "2023-12-02T17:49:57.251245Z"
    }
   },
   "id": "9ef4922ef6ad4961"
  },
  {
   "cell_type": "code",
   "execution_count": 49,
   "outputs": [],
   "source": [
    "daily_sentiments_excerpt['sentimental_score'] = daily_sentiments_excerpt['Positive'] - daily_sentiments_excerpt['Negative'] + daily_sentiments_excerpt['Neutral'] * 0.5\n",
    "daily_sentiments_excerpt.index = pd.to_datetime(daily_sentiments_excerpt.index)"
   ],
   "metadata": {
    "collapsed": false,
    "ExecuteTime": {
     "end_time": "2023-12-02T17:50:25.857175Z",
     "start_time": "2023-12-02T17:50:25.839814Z"
    }
   },
   "id": "e1187e21039a7415"
  },
  {
   "cell_type": "code",
   "execution_count": 50,
   "outputs": [
    {
     "data": {
      "text/plain": "<Figure size 640x480 with 1 Axes>",
      "image/png": "[encoded data removed]"
     },
     "metadata": {},
     "output_type": "display_data"
    }
   ],
   "source": [
    "plt.hist(daily_sentiments_excerpt['sentimental_score'], bins = 100, color = 'darkorange')\n",
    "plt.grid(False)\n",
    "plt.title(\"News Data\", fontsize = 12, fontfamily = 'Serif')\n",
    "plt.show()"
   ],
   "metadata": {
    "collapsed": false,
    "ExecuteTime": {
     "end_time": "2023-12-02T17:50:27.491858Z",
     "start_time": "2023-12-02T17:50:27.378457Z"
    }
   },
   "id": "8fe65ab1f0bca842"
  },
  {
   "cell_type": "code",
   "execution_count": 51,
   "outputs": [],
   "source": [
    "# daily_sentiments_excerpt.to_csv('../../Data/Final/ft_sentiment.csv')"
   ],
   "metadata": {
    "collapsed": false,
    "ExecuteTime": {
     "end_time": "2023-12-02T17:50:45.564933Z",
     "start_time": "2023-12-02T17:50:45.550403Z"
    }
   },
   "id": "8cb348e873df20d9"
  },
  {
   "cell_type": "markdown",
   "id": "9b44a4694e6e5cc4",
   "metadata": {},
   "source": [
    "#### USDT article"
   ]
  },
  {
   "cell_type": "code",
   "execution_count": 3,
   "id": "65ff40f629eb0bf5",
   "metadata": {
    "ExecuteTime": {
     "end_time": "2023-12-02T17:25:38.391546Z",
     "start_time": "2023-12-02T17:25:38.308502Z"
    }
   },
   "outputs": [],
   "source": [
    "usdt = pd.read_csv('../../Data/Final/USDT_article_total.csv')\n",
    "usdt.date = pd.to_datetime(usdt.date)\n",
    "usdt.index = usdt.date\n",
    "usdt.sort_index(ascending=True, inplace = True)"
   ]
  },
  {
   "cell_type": "code",
   "execution_count": 4,
   "outputs": [
    {
     "data": {
      "text/plain": "                                                        title       date  \\\ndate                                                                       \n2008-01-07  Remarks by Treasury Secretary Henry M. Paulson... 2008-01-07   \n2008-01-14  Remarks by Treasury Under Secretary David H. M... 2008-01-14   \n2008-01-22  Secretary Paulson Remarks on the Economy Befor... 2008-01-22   \n2008-01-24  Under Secretary David H. McCormick to Deliver ... 2008-01-24   \n2008-01-28  Treasury Assistant Secretary for Financial Mar... 2008-01-28   \n...                                                       ...        ...   \n2023-11-13  Remarks by Secretary of the Treasury Janet L. ... 2023-11-13   \n2023-11-15  Remarks By Secretary of the Treasury Janet L. ... 2023-11-15   \n2023-11-16  Remarks by Under Secretary for Domestic Financ... 2023-11-16   \n2023-11-17  Remarks by Assistant Secretary Graham Steele a... 2023-11-17   \n2023-11-21  Remarks by Secretary of the Treasury Janet L. ... 2023-11-21   \n\n                                                      content  \ndate                                                           \n2008-01-07      As I have said for some time, the housing ...  \n2008-01-14      La Jolla, Calif. - Thank you Phil for that...  \n2008-01-22        Washington- Thank you, Bruce, and good m...  \n2008-01-24    Treasury Under Secretary David H. McCormick ...  \n2008-01-28      In assessing liquidity, we must begin by r...  \n...                                                       ...  \n2023-11-13   As Prepared for Delivery Thank you to Lieuten...  \n2023-11-15   As Prepared for Delivery Hello everyone. I’m ...  \n2023-11-16   As Prepared for Delivery Good morning and tha...  \n2023-11-17   As Prepared for Delivery Good afternoon. My n...  \n2023-11-21   As Prepared for Delivery Good afternoon. I’m ...  \n\n[980 rows x 3 columns]",
      "text/html": "<div>\n<style scoped>\n    .dataframe tbody tr th:only-of-type {\n        vertical-align: middle;\n    }\n\n    .dataframe tbody tr th {\n        vertical-align: top;\n    }\n\n    .dataframe thead th {\n        text-align: right;\n    }\n</style>\n<table border=\"1\" class=\"dataframe\">\n  <thead>\n    <tr style=\"text-align: right;\">\n      <th></th>\n      <th>title</th>\n      <th>date</th>\n      <th>content</th>\n    </tr>\n    <tr>\n      <th>date</th>\n      <th></th>\n      <th></th>\n      <th></th>\n    </tr>\n  </thead>\n  <tbody>\n    <tr>\n      <th>2008-01-07</th>\n      <td>Remarks by Treasury Secretary Henry M. Paulson...</td>\n      <td>2008-01-07</td>\n      <td>As I have said for some time, the housing ...</td>\n    </tr>\n    <tr>\n      <th>2008-01-14</th>\n      <td>Remarks by Treasury Under Secretary David H. M...</td>\n      <td>2008-01-14</td>\n      <td>La Jolla, Calif. - Thank you Phil for that...</td>\n    </tr>\n    <tr>\n      <th>2008-01-22</th>\n      <td>Secretary Paulson Remarks on the Economy Befor...</td>\n      <td>2008-01-22</td>\n      <td>Washington- Thank you, Bruce, and good m...</td>\n    </tr>\n    <tr>\n      <th>2008-01-24</th>\n      <td>Under Secretary David H. McCormick to Deliver ...</td>\n      <td>2008-01-24</td>\n      <td>Treasury Under Secretary David H. McCormick ...</td>\n    </tr>\n    <tr>\n      <th>2008-01-28</th>\n      <td>Treasury Assistant Secretary for Financial Mar...</td>\n      <td>2008-01-28</td>\n      <td>In assessing liquidity, we must begin by r...</td>\n    </tr>\n    <tr>\n      <th>...</th>\n      <td>...</td>\n      <td>...</td>\n      <td>...</td>\n    </tr>\n    <tr>\n      <th>2023-11-13</th>\n      <td>Remarks by Secretary of the Treasury Janet L. ...</td>\n      <td>2023-11-13</td>\n      <td>As Prepared for Delivery Thank you to Lieuten...</td>\n    </tr>\n    <tr>\n      <th>2023-11-15</th>\n      <td>Remarks By Secretary of the Treasury Janet L. ...</td>\n      <td>2023-11-15</td>\n      <td>As Prepared for Delivery Hello everyone. I’m ...</td>\n    </tr>\n    <tr>\n      <th>2023-11-16</th>\n      <td>Remarks by Under Secretary for Domestic Financ...</td>\n      <td>2023-11-16</td>\n      <td>As Prepared for Delivery Good morning and tha...</td>\n    </tr>\n    <tr>\n      <th>2023-11-17</th>\n      <td>Remarks by Assistant Secretary Graham Steele a...</td>\n      <td>2023-11-17</td>\n      <td>As Prepared for Delivery Good afternoon. My n...</td>\n    </tr>\n    <tr>\n      <th>2023-11-21</th>\n      <td>Remarks by Secretary of the Treasury Janet L. ...</td>\n      <td>2023-11-21</td>\n      <td>As Prepared for Delivery Good afternoon. I’m ...</td>\n    </tr>\n  </tbody>\n</table>\n<p>980 rows × 3 columns</p>\n</div>"
     },
     "execution_count": 4,
     "metadata": {},
     "output_type": "execute_result"
    }
   ],
   "source": [
    "usdt = usdt.iloc[:-1]\n",
    "usdt"
   ],
   "metadata": {
    "collapsed": false,
    "ExecuteTime": {
     "end_time": "2023-12-02T17:25:38.968594Z",
     "start_time": "2023-12-02T17:25:38.958217Z"
    }
   },
   "id": "533096be57574795"
  },
  {
   "cell_type": "code",
   "execution_count": 5,
   "id": "91f7876dc4da2444",
   "metadata": {
    "ExecuteTime": {
     "end_time": "2023-12-02T17:25:40.432758Z",
     "start_time": "2023-12-02T17:25:40.212773Z"
    }
   },
   "outputs": [
    {
     "name": "stderr",
     "output_type": "stream",
     "text": [
      "[nltk_data] Downloading package stopwords to\n",
      "[nltk_data]     /Users/junghunlee/nltk_data...\n",
      "[nltk_data]   Package stopwords is already up-to-date!\n"
     ]
    }
   ],
   "source": [
    "daily_sentiments = pd.DataFrame(columns = [\"Date\", \"Positive\", \"Negative\", \"Neutral\"])\n",
    "unique_dates = usdt.index.unique()\n",
    "nltk.download(\"stopwords\")\n",
    "stop_words = set(stopwords.words(\"english\"))"
   ]
  },
  {
   "cell_type": "code",
   "execution_count": 6,
   "outputs": [
    {
     "data": {
      "text/plain": "DatetimeIndex(['2008-01-07', '2008-01-14', '2008-01-22', '2008-01-24',\n               '2008-01-28', '2008-01-29', '2008-01-30', '2008-02-05',\n               '2008-02-07', '2008-02-08',\n               ...\n               '2023-11-03', '2023-11-07', '2023-11-09', '2023-11-10',\n               '2023-11-12', '2023-11-13', '2023-11-15', '2023-11-16',\n               '2023-11-17', '2023-11-21'],\n              dtype='datetime64[ns]', name='date', length=765, freq=None)"
     },
     "execution_count": 6,
     "metadata": {},
     "output_type": "execute_result"
    }
   ],
   "source": [
    "unique_dates = usdt.index.unique()\n",
    "unique_dates"
   ],
   "metadata": {
    "collapsed": false,
    "ExecuteTime": {
     "end_time": "2023-12-02T17:25:41.182773Z",
     "start_time": "2023-12-02T17:25:41.179106Z"
    }
   },
   "id": "b03fd6b8a4caba8f"
  },
  {
   "cell_type": "code",
   "execution_count": 8,
   "outputs": [
    {
     "name": "stderr",
     "output_type": "stream",
     "text": [
      "[nltk_data] Downloading package stopwords to\n",
      "[nltk_data]     /Users/junghunlee/nltk_data...\n",
      "[nltk_data]   Package stopwords is already up-to-date!\n"
     ]
    },
    {
     "name": "stdout",
     "output_type": "stream",
     "text": [
      "spent time : 176.55477714538574\n"
     ]
    },
    {
     "data": {
      "text/plain": "                Positive  Negative   Neutral\nDate                                        \n2008-01-07  1.564376e-03  0.783840  0.214596\n2008-01-14  1.094061e-04  0.993025  0.006866\n2008-01-22  9.106998e-07  0.000029  0.999970\n2008-01-24  1.283392e-05  0.999986  0.000001\n2008-01-28  6.957560e-05  0.890780  0.109150\n...                  ...       ...       ...\n2023-11-13  2.368747e-06  0.001262  0.998736\n2023-11-15  1.569805e-04  0.772632  0.227211\n2023-11-16  3.782207e-03  0.820299  0.175919\n2023-11-17  1.104357e-05  0.930277  0.069712\n2023-11-21  1.318836e-05  0.999954  0.000033\n\n[765 rows x 3 columns]",
      "text/html": "<div>\n<style scoped>\n    .dataframe tbody tr th:only-of-type {\n        vertical-align: middle;\n    }\n\n    .dataframe tbody tr th {\n        vertical-align: top;\n    }\n\n    .dataframe thead th {\n        text-align: right;\n    }\n</style>\n<table border=\"1\" class=\"dataframe\">\n  <thead>\n    <tr style=\"text-align: right;\">\n      <th></th>\n      <th>Positive</th>\n      <th>Negative</th>\n      <th>Neutral</th>\n    </tr>\n    <tr>\n      <th>Date</th>\n      <th></th>\n      <th></th>\n      <th></th>\n    </tr>\n  </thead>\n  <tbody>\n    <tr>\n      <th>2008-01-07</th>\n      <td>1.564376e-03</td>\n      <td>0.783840</td>\n      <td>0.214596</td>\n    </tr>\n    <tr>\n      <th>2008-01-14</th>\n      <td>1.094061e-04</td>\n      <td>0.993025</td>\n      <td>0.006866</td>\n    </tr>\n    <tr>\n      <th>2008-01-22</th>\n      <td>9.106998e-07</td>\n      <td>0.000029</td>\n      <td>0.999970</td>\n    </tr>\n    <tr>\n      <th>2008-01-24</th>\n      <td>1.283392e-05</td>\n      <td>0.999986</td>\n      <td>0.000001</td>\n    </tr>\n    <tr>\n      <th>2008-01-28</th>\n      <td>6.957560e-05</td>\n      <td>0.890780</td>\n      <td>0.109150</td>\n    </tr>\n    <tr>\n      <th>...</th>\n      <td>...</td>\n      <td>...</td>\n      <td>...</td>\n    </tr>\n    <tr>\n      <th>2023-11-13</th>\n      <td>2.368747e-06</td>\n      <td>0.001262</td>\n      <td>0.998736</td>\n    </tr>\n    <tr>\n      <th>2023-11-15</th>\n      <td>1.569805e-04</td>\n      <td>0.772632</td>\n      <td>0.227211</td>\n    </tr>\n    <tr>\n      <th>2023-11-16</th>\n      <td>3.782207e-03</td>\n      <td>0.820299</td>\n      <td>0.175919</td>\n    </tr>\n    <tr>\n      <th>2023-11-17</th>\n      <td>1.104357e-05</td>\n      <td>0.930277</td>\n      <td>0.069712</td>\n    </tr>\n    <tr>\n      <th>2023-11-21</th>\n      <td>1.318836e-05</td>\n      <td>0.999954</td>\n      <td>0.000033</td>\n    </tr>\n  </tbody>\n</table>\n<p>765 rows × 3 columns</p>\n</div>"
     },
     "execution_count": 8,
     "metadata": {},
     "output_type": "execute_result"
    }
   ],
   "source": [
    "import time\n",
    "daily_sentiments_excerpt = pd.DataFrame(columns = [\"Date\", \"Positive\", \"Negative\", \"Neutral\"])\n",
    "\n",
    "start_time = time.time()\n",
    "\n",
    "nltk.download(\"stopwords\")\n",
    "stop_words = set(stopwords.words(\"english\"))\n",
    "\n",
    "for date in unique_dates:    \n",
    "    #text_for_date = data[data[\"rgs_dt\"] == date][\"news_smy_ifo\"].tolist()\n",
    "    text_for_date = usdt[usdt.index == date][\"content\"].tolist()\n",
    "\n",
    "    tokenized_texts = []\n",
    "    for text in text_for_date :\n",
    "        try : \n",
    "            temp = []\n",
    "            for word in tokenizer.tokenize(text) :\n",
    "                if word.lower() not in stop_words :\n",
    "                    temp.append(word)\n",
    "            tokenized_texts.append(temp)\n",
    "        except : \n",
    "            tokenized_texts.append([])\n",
    "\n",
    "    max_token_length = 500\n",
    "\n",
    "    tokenized_texts = [\" \".join(tokens[:max_token_length]) for tokens in tokenized_texts]\n",
    "    inputs = tokenizer(tokenized_texts, padding = True, truncation = True, return_tensors = \"pt\", max_length = max_token_length)\n",
    "\n",
    "    with torch.no_grad():\n",
    "        outputs = model(**inputs)\n",
    "        logits = outputs.logits\n",
    "\n",
    "    probabilities = torch.softmax(logits, dim=1)\n",
    "    positive_prob = probabilities[:, 2].mean().item()\n",
    "    negative_prob = probabilities[:, 0].mean().item()\n",
    "    neutral_prob = probabilities[:, 1].mean().item()\n",
    "    \n",
    "    daily_sentiments_excerpt = pd.concat([daily_sentiments_excerpt, \n",
    "                                          pd.DataFrame({\"Date\": date, \n",
    "                                                        \"Positive\": positive_prob, \n",
    "                                                        \"Negative\": negative_prob, \n",
    "                                                        \"Neutral\": neutral_prob}, index = ['0'])],\n",
    "                                 ignore_index = True)\n",
    "\n",
    "print(f'spent time : {time.time() - start_time}')\n",
    "daily_sentiments_excerpt.index = daily_sentiments_excerpt.Date\n",
    "daily_sentiments_excerpt = daily_sentiments_excerpt.iloc[:,1:]\n",
    "daily_sentiments_excerpt"
   ],
   "metadata": {
    "collapsed": false,
    "ExecuteTime": {
     "end_time": "2023-12-02T17:29:02.443949Z",
     "start_time": "2023-12-02T17:26:05.878440Z"
    }
   },
   "id": "4c4b60926302d437"
  },
  {
   "cell_type": "code",
   "execution_count": 9,
   "outputs": [],
   "source": [
    "daily_sentiments_excerpt['sentimental_score'] = daily_sentiments_excerpt['Positive'] - daily_sentiments_excerpt['Negative'] + daily_sentiments_excerpt['Neutral'] * 0.5"
   ],
   "metadata": {
    "collapsed": false,
    "ExecuteTime": {
     "end_time": "2023-12-02T17:29:40.048040Z",
     "start_time": "2023-12-02T17:29:40.035680Z"
    }
   },
   "id": "df810fe224f8188c"
  },
  {
   "cell_type": "code",
   "execution_count": 11,
   "outputs": [],
   "source": [
    "temp = daily_sentiments_excerpt.resample('M').mean()"
   ],
   "metadata": {
    "collapsed": false,
    "ExecuteTime": {
     "end_time": "2023-12-02T17:29:45.327740Z",
     "start_time": "2023-12-02T17:29:45.310407Z"
    }
   },
   "id": "7df27b25cb3031fe"
  },
  {
   "cell_type": "code",
   "execution_count": 13,
   "outputs": [
    {
     "data": {
      "text/plain": "<Figure size 640x480 with 1 Axes>",
      "image/png": "[encoded data removed]"
     },
     "metadata": {},
     "output_type": "display_data"
    }
   ],
   "source": [
    "import matplotlib.pyplot as plt\n",
    "\n",
    "plt.hist(temp['sentimental_score'], bins = 100, color = 'darkorange')\n",
    "plt.grid(False)\n",
    "plt.title(\"News Data\", fontsize = 12, fontfamily = 'Serif')\n",
    "plt.show()"
   ],
   "metadata": {
    "collapsed": false,
    "ExecuteTime": {
     "end_time": "2023-12-02T17:30:09.806695Z",
     "start_time": "2023-12-02T17:30:09.685365Z"
    }
   },
   "id": "48b7e2358cebffa2"
  },
  {
   "cell_type": "code",
   "execution_count": 66,
   "outputs": [],
   "source": [
    "#daily_sentiments_excerpt.resample('M').mean().to_csv('../../Data/Final/USDT_sentiment.csv')"
   ],
   "metadata": {
    "collapsed": false,
    "ExecuteTime": {
     "end_time": "2023-12-02T09:14:22.109470Z",
     "start_time": "2023-12-02T09:14:22.090735Z"
    }
   },
   "id": "92e539505602888f"
  },
  {
   "cell_type": "code",
   "execution_count": null,
   "outputs": [],
   "source": [],
   "metadata": {
    "collapsed": false
   },
   "id": "ed27b53a05c5129c"
  }
 ],
 "metadata": {
  "kernelspec": {
   "display_name": "Python 3 (ipykernel)",
   "language": "python",
   "name": "python3"
  },
  "language_info": {
   "codemirror_mode": {
    "name": "ipython",
    "version": 3
   },
   "file_extension": ".py",
   "mimetype": "text/x-python",
   "name": "python",
   "nbconvert_exporter": "python",
   "pygments_lexer": "ipython3",
   "version": "3.11.4"
  }
 },
 "nbformat": 4,
 "nbformat_minor": 5
}
