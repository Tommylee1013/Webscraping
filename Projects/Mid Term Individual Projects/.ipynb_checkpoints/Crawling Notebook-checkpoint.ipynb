{
 "cells": [
  {
   "cell_type": "markdown",
   "id": "fa097ae26434b247",
   "metadata": {},
   "source": [
    "### Oil Prices"
   ]
  },
  {
   "cell_type": "code",
   "execution_count": 9,
   "id": "initial_id",
   "metadata": {
    "ExecuteTime": {
     "end_time": "2023-10-25T13:09:34.863809Z",
     "start_time": "2023-10-25T13:06:16.796097Z"
    },
    "collapsed": true
   },
   "outputs": [],
   "source": [
    "import requests\n",
    "from bs4 import BeautifulSoup\n",
    "import pandas as pd\n",
    "\n",
    "url = \"https://oilprice.com/Latest-Energy-News/World-News/Page-\"\n",
    "\n",
    "news_titles = []\n",
    "news_date = []\n",
    "news_writer = []\n",
    "news_excerpt = []\n",
    "\n",
    "for i in range(150):\n",
    "    req = requests.get(url + str(i) + \".html\")\n",
    "    html = req.text\n",
    "    soup = BeautifulSoup(html, \"html.parser\")\n",
    "\n",
    "    title_elements = soup.select(\".categoryArticle__title\")\n",
    "    meta_elements = soup.select(\".categoryArticle__meta\")\n",
    "    excerpt_elements = soup.select('.categoryArticle__excerpt')\n",
    "\n",
    "    for title_element in title_elements:\n",
    "        title = title_element.text.strip()\n",
    "        news_titles.append(title)\n",
    "\n",
    "    for meta_element in meta_elements:\n",
    "        time, writer = meta_element.text.strip().split(' | ')\n",
    "        date, _ = time.split(' at ')\n",
    "        news_writer.append(writer)\n",
    "        news_date.append(date)\n",
    "\n",
    "    for excerpt_element in excerpt_elements:\n",
    "        excerpt = excerpt_element.text.strip()\n",
    "        news_excerpt.append(excerpt)\n",
    "\n",
    "news = pd.DataFrame([news_titles, news_writer, news_excerpt],\n",
    "                    columns = news_date,\n",
    "                    index = ['title', 'writer', 'excerpt']).T"
   ]
  },
  {
   "cell_type": "code",
   "execution_count": 13,
   "id": "481b8d058781aed0",
   "metadata": {
    "ExecuteTime": {
     "end_time": "2023-10-25T13:14:47.568502Z",
     "start_time": "2023-10-25T13:14:47.559324Z"
    }
   },
   "outputs": [
    {
     "data": {
      "text/html": [
       "<div>\n",
       "<style scoped>\n",
       "    .dataframe tbody tr th:only-of-type {\n",
       "        vertical-align: middle;\n",
       "    }\n",
       "\n",
       "    .dataframe tbody tr th {\n",
       "        vertical-align: top;\n",
       "    }\n",
       "\n",
       "    .dataframe thead th {\n",
       "        text-align: right;\n",
       "    }\n",
       "</style>\n",
       "<table border=\"1\" class=\"dataframe\">\n",
       "  <thead>\n",
       "    <tr style=\"text-align: right;\">\n",
       "      <th></th>\n",
       "      <th>title</th>\n",
       "      <th>writer</th>\n",
       "      <th>excerpt</th>\n",
       "    </tr>\n",
       "  </thead>\n",
       "  <tbody>\n",
       "    <tr>\n",
       "      <th>Oct 25, 2023</th>\n",
       "      <td>Environmentalists Slam EU Hydrogen Pipeline Pl...</td>\n",
       "      <td>Tsvetana Paraskova</td>\n",
       "      <td>The European Union’s plans to include natural ...</td>\n",
       "    </tr>\n",
       "    <tr>\n",
       "      <th>Oct 25, 2023</th>\n",
       "      <td>Germany’s Uniper Expects Higher Profits For 20...</td>\n",
       "      <td>Charles Kennedy</td>\n",
       "      <td>Germany’s energy major Uniper expects to book ...</td>\n",
       "    </tr>\n",
       "    <tr>\n",
       "      <th>Oct 25, 2023</th>\n",
       "      <td>Oil Prices Under Pressure Despite Inventory Draw</td>\n",
       "      <td>Irina Slav</td>\n",
       "      <td>After shedding some 6% over the past three tra...</td>\n",
       "    </tr>\n",
       "    <tr>\n",
       "      <th>Oct 24, 2023</th>\n",
       "      <td>Strong Gasoline Draw Supports Oil Prices</td>\n",
       "      <td>Julianne Geiger</td>\n",
       "      <td>Crude oil inventories in the United States fel...</td>\n",
       "    </tr>\n",
       "    <tr>\n",
       "      <th>Oct 24, 2023</th>\n",
       "      <td>Saudi Arabia, Big Oil, Betting On Oil Even As ...</td>\n",
       "      <td>Julianne Geiger</td>\n",
       "      <td>The latest rash of high-scale oil and gas merg...</td>\n",
       "    </tr>\n",
       "    <tr>\n",
       "      <th>...</th>\n",
       "      <td>...</td>\n",
       "      <td>...</td>\n",
       "      <td>...</td>\n",
       "    </tr>\n",
       "    <tr>\n",
       "      <th>Oct 11, 2022</th>\n",
       "      <td>Biden Is Re-Evaluating Relations With Saudi Ar...</td>\n",
       "      <td>Michael Kern</td>\n",
       "      <td>U.S. President Joe Biden is re-evaluating the ...</td>\n",
       "    </tr>\n",
       "    <tr>\n",
       "      <th>Oct 11, 2022</th>\n",
       "      <td>EU Eyes November Deal To Tackle Runaway Gas Pr...</td>\n",
       "      <td>City A.M</td>\n",
       "      <td>The European Union (EU) will push for a Novemb...</td>\n",
       "    </tr>\n",
       "    <tr>\n",
       "      <th>Oct 11, 2022</th>\n",
       "      <td>LNG Freight Rates Hit Record High As Europe Ra...</td>\n",
       "      <td>Tsvetana Paraskova</td>\n",
       "      <td>LNG carrier rates hit an all-time high on Tues...</td>\n",
       "    </tr>\n",
       "    <tr>\n",
       "      <th>Oct 11, 2022</th>\n",
       "      <td>Sweden Boots Russia From Nord Stream Investiga...</td>\n",
       "      <td>RFE/RL staff</td>\n",
       "      <td>Sweden has said it will not allow Moscow to pa...</td>\n",
       "    </tr>\n",
       "    <tr>\n",
       "      <th>Oct 11, 2022</th>\n",
       "      <td>More U.S. Oil Heads To Asia As French Strikes ...</td>\n",
       "      <td>Irina Slav</td>\n",
       "      <td>More U.S. crude oil is going to Asia as close ...</td>\n",
       "    </tr>\n",
       "  </tbody>\n",
       "</table>\n",
       "<p>3000 rows × 3 columns</p>\n",
       "</div>"
      ],
      "text/plain": [
       "                                                          title  \\\n",
       "Oct 25, 2023  Environmentalists Slam EU Hydrogen Pipeline Pl...   \n",
       "Oct 25, 2023  Germany’s Uniper Expects Higher Profits For 20...   \n",
       "Oct 25, 2023   Oil Prices Under Pressure Despite Inventory Draw   \n",
       "Oct 24, 2023           Strong Gasoline Draw Supports Oil Prices   \n",
       "Oct 24, 2023  Saudi Arabia, Big Oil, Betting On Oil Even As ...   \n",
       "...                                                         ...   \n",
       "Oct 11, 2022  Biden Is Re-Evaluating Relations With Saudi Ar...   \n",
       "Oct 11, 2022  EU Eyes November Deal To Tackle Runaway Gas Pr...   \n",
       "Oct 11, 2022  LNG Freight Rates Hit Record High As Europe Ra...   \n",
       "Oct 11, 2022  Sweden Boots Russia From Nord Stream Investiga...   \n",
       "Oct 11, 2022  More U.S. Oil Heads To Asia As French Strikes ...   \n",
       "\n",
       "                          writer  \\\n",
       "Oct 25, 2023  Tsvetana Paraskova   \n",
       "Oct 25, 2023     Charles Kennedy   \n",
       "Oct 25, 2023          Irina Slav   \n",
       "Oct 24, 2023     Julianne Geiger   \n",
       "Oct 24, 2023     Julianne Geiger   \n",
       "...                          ...   \n",
       "Oct 11, 2022        Michael Kern   \n",
       "Oct 11, 2022            City A.M   \n",
       "Oct 11, 2022  Tsvetana Paraskova   \n",
       "Oct 11, 2022        RFE/RL staff   \n",
       "Oct 11, 2022          Irina Slav   \n",
       "\n",
       "                                                        excerpt  \n",
       "Oct 25, 2023  The European Union’s plans to include natural ...  \n",
       "Oct 25, 2023  Germany’s energy major Uniper expects to book ...  \n",
       "Oct 25, 2023  After shedding some 6% over the past three tra...  \n",
       "Oct 24, 2023  Crude oil inventories in the United States fel...  \n",
       "Oct 24, 2023  The latest rash of high-scale oil and gas merg...  \n",
       "...                                                         ...  \n",
       "Oct 11, 2022  U.S. President Joe Biden is re-evaluating the ...  \n",
       "Oct 11, 2022  The European Union (EU) will push for a Novemb...  \n",
       "Oct 11, 2022  LNG carrier rates hit an all-time high on Tues...  \n",
       "Oct 11, 2022  Sweden has said it will not allow Moscow to pa...  \n",
       "Oct 11, 2022  More U.S. crude oil is going to Asia as close ...  \n",
       "\n",
       "[3000 rows x 3 columns]"
      ]
     },
     "execution_count": 13,
     "metadata": {},
     "output_type": "execute_result"
    }
   ],
   "source": [
    "news"
   ]
  },
  {
   "cell_type": "code",
   "execution_count": 14,
   "id": "49c8424446a9caa0",
   "metadata": {
    "ExecuteTime": {
     "end_time": "2023-10-25T13:15:40.586086Z",
     "start_time": "2023-10-25T13:15:40.571617Z"
    }
   },
   "outputs": [],
   "source": [
    "news.index = pd.to_datetime(news.index)"
   ]
  },
  {
   "cell_type": "code",
   "execution_count": 16,
   "id": "67d2d4a2004ebae",
   "metadata": {
    "ExecuteTime": {
     "end_time": "2023-10-25T13:19:43.200023Z",
     "start_time": "2023-10-25T13:19:10.412035Z"
    }
   },
   "outputs": [
    {
     "data": {
      "application/vnd.jupyter.widget-view+json": {
       "model_id": "58c4d18d4b5a4a02bbb478a105beae40",
       "version_major": 2,
       "version_minor": 0
      },
      "text/plain": [
       "Downloading (…)lve/main/config.json:   0%|          | 0.00/533 [00:00<?, ?B/s]"
      ]
     },
     "metadata": {},
     "output_type": "display_data"
    },
    {
     "data": {
      "application/vnd.jupyter.widget-view+json": {
       "model_id": "1a24b982c1e94727aeaebfded197b0bc",
       "version_major": 2,
       "version_minor": 0
      },
      "text/plain": [
       "Downloading (…)solve/main/vocab.txt:   0%|          | 0.00/226k [00:00<?, ?B/s]"
      ]
     },
     "metadata": {},
     "output_type": "display_data"
    },
    {
     "data": {
      "application/vnd.jupyter.widget-view+json": {
       "model_id": "2e1c078f7fe949bc8221083e585a1ef7",
       "version_major": 2,
       "version_minor": 0
      },
      "text/plain": [
       "Downloading pytorch_model.bin:   0%|          | 0.00/439M [00:00<?, ?B/s]"
      ]
     },
     "metadata": {},
     "output_type": "display_data"
    }
   ],
   "source": [
    "import numpy as np\n",
    "import torch\n",
    "from transformers import AutoTokenizer, AutoModelForSequenceClassification\n",
    "from torch.utils.data import DataLoader, TensorDataset\n",
    "import nltk\n",
    "from nltk.corpus import stopwords\n",
    "\n",
    "model_name = \"yiyanghkust/finbert-tone\"\n",
    "tokenizer = AutoTokenizer.from_pretrained(model_name)\n",
    "model = AutoModelForSequenceClassification.from_pretrained(model_name)"
   ]
  },
  {
   "cell_type": "code",
   "execution_count": 17,
   "id": "b8c7f6e09b7a8025",
   "metadata": {
    "ExecuteTime": {
     "end_time": "2023-10-25T13:19:44.682617Z",
     "start_time": "2023-10-25T13:19:44.665653Z"
    }
   },
   "outputs": [],
   "source": [
    "import warnings\n",
    "warnings.simplefilter(action='ignore', category=FutureWarning) # FutureWarning 제거"
   ]
  },
  {
   "cell_type": "code",
   "execution_count": 39,
   "id": "aa6444d10f1122d5",
   "metadata": {
    "ExecuteTime": {
     "end_time": "2023-10-25T13:36:38.105120Z",
     "start_time": "2023-10-25T13:36:38.092517Z"
    }
   },
   "outputs": [
    {
     "name": "stderr",
     "output_type": "stream",
     "text": [
      "[nltk_data] Downloading package stopwords to\n",
      "[nltk_data]     /Users/junghunlee/nltk_data...\n",
      "[nltk_data]   Package stopwords is already up-to-date!\n"
     ]
    }
   ],
   "source": [
    "daily_sentiments = pd.DataFrame(columns = [\"Date\", \"Positive\", \"Negative\", \"Neutral\"])\n",
    "unique_dates = news.index.unique()\n",
    "nltk.download(\"stopwords\")\n",
    "stop_words = set(stopwords.words(\"english\"))"
   ]
  },
  {
   "cell_type": "code",
   "execution_count": 40,
   "id": "3336d9799bf41ce9",
   "metadata": {
    "ExecuteTime": {
     "end_time": "2023-10-25T13:36:38.555026Z",
     "start_time": "2023-10-25T13:36:38.425203Z"
    }
   },
   "outputs": [],
   "source": [
    "text_for_date = news[\"title\"].tolist()\n",
    "\n",
    "tokenized_texts = [\n",
    "        [word for word in tokenizer.tokenize(text) if word.lower() not in stop_words]\n",
    "        for text in text_for_date]"
   ]
  },
  {
   "cell_type": "code",
   "execution_count": 41,
   "id": "3985f5169686f01b",
   "metadata": {
    "ExecuteTime": {
     "end_time": "2023-10-25T13:36:39.066281Z",
     "start_time": "2023-10-25T13:36:39.064119Z"
    }
   },
   "outputs": [
    {
     "data": {
      "text/plain": [
       "['environmental',\n",
       " '##ists',\n",
       " 'sla',\n",
       " '##m',\n",
       " 'eu',\n",
       " 'hydrogen',\n",
       " 'pipeline',\n",
       " 'plan',\n",
       " 'favoring',\n",
       " 'fossil',\n",
       " 'fuel',\n",
       " 'giant',\n",
       " '##s']"
      ]
     },
     "execution_count": 41,
     "metadata": {},
     "output_type": "execute_result"
    }
   ],
   "source": [
    "tokenized_texts[0]"
   ]
  },
  {
   "cell_type": "code",
   "execution_count": 42,
   "id": "c23e1d146307e6ff",
   "metadata": {
    "ExecuteTime": {
     "end_time": "2023-10-25T13:36:39.681052Z",
     "start_time": "2023-10-25T13:36:39.674812Z"
    }
   },
   "outputs": [
    {
     "data": {
      "text/plain": [
       "21"
      ]
     },
     "execution_count": 42,
     "metadata": {},
     "output_type": "execute_result"
    }
   ],
   "source": [
    "len(max(tokenized_texts, key = len))"
   ]
  },
  {
   "cell_type": "code",
   "execution_count": 43,
   "id": "a1e2419038317fa1",
   "metadata": {
    "ExecuteTime": {
     "end_time": "2023-10-25T13:37:15.305942Z",
     "start_time": "2023-10-25T13:36:40.057503Z"
    }
   },
   "outputs": [
    {
     "name": "stderr",
     "output_type": "stream",
     "text": [
      "[nltk_data] Downloading package stopwords to\n",
      "[nltk_data]     /Users/junghunlee/nltk_data...\n",
      "[nltk_data]   Package stopwords is already up-to-date!\n"
     ]
    },
    {
     "data": {
      "text/html": [
       "<div>\n",
       "<style scoped>\n",
       "    .dataframe tbody tr th:only-of-type {\n",
       "        vertical-align: middle;\n",
       "    }\n",
       "\n",
       "    .dataframe tbody tr th {\n",
       "        vertical-align: top;\n",
       "    }\n",
       "\n",
       "    .dataframe thead th {\n",
       "        text-align: right;\n",
       "    }\n",
       "</style>\n",
       "<table border=\"1\" class=\"dataframe\">\n",
       "  <thead>\n",
       "    <tr style=\"text-align: right;\">\n",
       "      <th></th>\n",
       "      <th>Positive</th>\n",
       "      <th>Negative</th>\n",
       "      <th>Neutral</th>\n",
       "    </tr>\n",
       "    <tr>\n",
       "      <th>Date</th>\n",
       "      <th></th>\n",
       "      <th></th>\n",
       "      <th></th>\n",
       "    </tr>\n",
       "  </thead>\n",
       "  <tbody>\n",
       "    <tr>\n",
       "      <th>2023-10-25</th>\n",
       "      <td>0.285694</td>\n",
       "      <td>0.285684</td>\n",
       "      <td>0.428622</td>\n",
       "    </tr>\n",
       "    <tr>\n",
       "      <th>2023-10-24</th>\n",
       "      <td>0.000679</td>\n",
       "      <td>0.583150</td>\n",
       "      <td>0.416171</td>\n",
       "    </tr>\n",
       "    <tr>\n",
       "      <th>2023-10-23</th>\n",
       "      <td>0.166845</td>\n",
       "      <td>0.647982</td>\n",
       "      <td>0.185172</td>\n",
       "    </tr>\n",
       "    <tr>\n",
       "      <th>2023-10-20</th>\n",
       "      <td>0.002066</td>\n",
       "      <td>0.725442</td>\n",
       "      <td>0.272491</td>\n",
       "    </tr>\n",
       "    <tr>\n",
       "      <th>2023-10-19</th>\n",
       "      <td>0.003131</td>\n",
       "      <td>0.779026</td>\n",
       "      <td>0.217843</td>\n",
       "    </tr>\n",
       "    <tr>\n",
       "      <th>...</th>\n",
       "      <td>...</td>\n",
       "      <td>...</td>\n",
       "      <td>...</td>\n",
       "    </tr>\n",
       "    <tr>\n",
       "      <th>2022-10-17</th>\n",
       "      <td>0.265755</td>\n",
       "      <td>0.597089</td>\n",
       "      <td>0.137157</td>\n",
       "    </tr>\n",
       "    <tr>\n",
       "      <th>2022-10-14</th>\n",
       "      <td>0.183603</td>\n",
       "      <td>0.813680</td>\n",
       "      <td>0.002717</td>\n",
       "    </tr>\n",
       "    <tr>\n",
       "      <th>2022-10-13</th>\n",
       "      <td>0.297304</td>\n",
       "      <td>0.700573</td>\n",
       "      <td>0.002123</td>\n",
       "    </tr>\n",
       "    <tr>\n",
       "      <th>2022-10-12</th>\n",
       "      <td>0.198105</td>\n",
       "      <td>0.607261</td>\n",
       "      <td>0.194633</td>\n",
       "    </tr>\n",
       "    <tr>\n",
       "      <th>2022-10-11</th>\n",
       "      <td>0.112544</td>\n",
       "      <td>0.796045</td>\n",
       "      <td>0.091411</td>\n",
       "    </tr>\n",
       "  </tbody>\n",
       "</table>\n",
       "<p>273 rows × 3 columns</p>\n",
       "</div>"
      ],
      "text/plain": [
       "            Positive  Negative   Neutral\n",
       "Date                                    \n",
       "2023-10-25  0.285694  0.285684  0.428622\n",
       "2023-10-24  0.000679  0.583150  0.416171\n",
       "2023-10-23  0.166845  0.647982  0.185172\n",
       "2023-10-20  0.002066  0.725442  0.272491\n",
       "2023-10-19  0.003131  0.779026  0.217843\n",
       "...              ...       ...       ...\n",
       "2022-10-17  0.265755  0.597089  0.137157\n",
       "2022-10-14  0.183603  0.813680  0.002717\n",
       "2022-10-13  0.297304  0.700573  0.002123\n",
       "2022-10-12  0.198105  0.607261  0.194633\n",
       "2022-10-11  0.112544  0.796045  0.091411\n",
       "\n",
       "[273 rows x 3 columns]"
      ]
     },
     "execution_count": 43,
     "metadata": {},
     "output_type": "execute_result"
    }
   ],
   "source": [
    "import time \n",
    "start_time = time.time()\n",
    "\n",
    "nltk.download(\"stopwords\")\n",
    "stop_words = set(stopwords.words(\"english\"))\n",
    "\n",
    "for date in unique_dates:    \n",
    "    #text_for_date = data[data[\"rgs_dt\"] == date][\"news_smy_ifo\"].tolist()\n",
    "    text_for_date = news[news.index == date][\"title\"].tolist()\n",
    "\n",
    "    tokenized_texts = [\n",
    "        [word for word in tokenizer.tokenize(text) if word.lower() not in stop_words]\n",
    "        for text in text_for_date\n",
    "    ]\n",
    "\n",
    "    max_token_length = 150\n",
    "\n",
    "    tokenized_texts = [\" \".join(tokens[:max_token_length]) for tokens in tokenized_texts]\n",
    "    inputs = tokenizer(tokenized_texts, padding = True, truncation = True, return_tensors = \"pt\", max_length = max_token_length)\n",
    "\n",
    "    with torch.no_grad():\n",
    "        outputs = model(**inputs)\n",
    "        logits = outputs.logits\n",
    "\n",
    "    probabilities = torch.softmax(logits, dim=1)\n",
    "    positive_prob = probabilities[:, 2].mean().item()\n",
    "    negative_prob = probabilities[:, 0].mean().item()\n",
    "    neutral_prob = probabilities[:, 1].mean().item()\n",
    "    \n",
    "    daily_sentiments = pd.concat([daily_sentiments, \n",
    "                                  pd.DataFrame({\"Date\": date, \n",
    "                                                \"Positive\": positive_prob, \n",
    "                                                \"Negative\": negative_prob, \n",
    "                                                \"Neutral\": neutral_prob}, index = ['0'])],\n",
    "                                 ignore_index = True)\n",
    "\n",
    "daily_sentiments.index = daily_sentiments.Date\n",
    "daily_sentiments = daily_sentiments.iloc[:,1:]\n",
    "daily_sentiments"
   ]
  },
  {
   "cell_type": "code",
   "execution_count": 57,
   "id": "74bfddc31254a987",
   "metadata": {
    "ExecuteTime": {
     "end_time": "2023-10-25T13:44:03.144382Z",
     "start_time": "2023-10-25T13:43:08.903667Z"
    }
   },
   "outputs": [
    {
     "name": "stderr",
     "output_type": "stream",
     "text": [
      "[nltk_data] Downloading package stopwords to\n",
      "[nltk_data]     /Users/junghunlee/nltk_data...\n",
      "[nltk_data]   Package stopwords is already up-to-date!\n"
     ]
    },
    {
     "data": {
      "text/html": [
       "<div>\n",
       "<style scoped>\n",
       "    .dataframe tbody tr th:only-of-type {\n",
       "        vertical-align: middle;\n",
       "    }\n",
       "\n",
       "    .dataframe tbody tr th {\n",
       "        vertical-align: top;\n",
       "    }\n",
       "\n",
       "    .dataframe thead th {\n",
       "        text-align: right;\n",
       "    }\n",
       "</style>\n",
       "<table border=\"1\" class=\"dataframe\">\n",
       "  <thead>\n",
       "    <tr style=\"text-align: right;\">\n",
       "      <th></th>\n",
       "      <th>Positive</th>\n",
       "      <th>Negative</th>\n",
       "      <th>Neutral</th>\n",
       "    </tr>\n",
       "    <tr>\n",
       "      <th>Date</th>\n",
       "      <th></th>\n",
       "      <th></th>\n",
       "      <th></th>\n",
       "    </tr>\n",
       "  </thead>\n",
       "  <tbody>\n",
       "    <tr>\n",
       "      <th>2023-10-25</th>\n",
       "      <td>0.285732</td>\n",
       "      <td>0.286004</td>\n",
       "      <td>0.428264</td>\n",
       "    </tr>\n",
       "    <tr>\n",
       "      <th>2023-10-24</th>\n",
       "      <td>0.000019</td>\n",
       "      <td>0.580857</td>\n",
       "      <td>0.419124</td>\n",
       "    </tr>\n",
       "    <tr>\n",
       "      <th>2023-10-23</th>\n",
       "      <td>0.004062</td>\n",
       "      <td>0.831589</td>\n",
       "      <td>0.164349</td>\n",
       "    </tr>\n",
       "    <tr>\n",
       "      <th>2023-10-20</th>\n",
       "      <td>0.091018</td>\n",
       "      <td>0.725542</td>\n",
       "      <td>0.183440</td>\n",
       "    </tr>\n",
       "    <tr>\n",
       "      <th>2023-10-19</th>\n",
       "      <td>0.157983</td>\n",
       "      <td>0.684441</td>\n",
       "      <td>0.157576</td>\n",
       "    </tr>\n",
       "    <tr>\n",
       "      <th>...</th>\n",
       "      <td>...</td>\n",
       "      <td>...</td>\n",
       "      <td>...</td>\n",
       "    </tr>\n",
       "    <tr>\n",
       "      <th>2022-10-17</th>\n",
       "      <td>0.294527</td>\n",
       "      <td>0.604239</td>\n",
       "      <td>0.101234</td>\n",
       "    </tr>\n",
       "    <tr>\n",
       "      <th>2022-10-14</th>\n",
       "      <td>0.090951</td>\n",
       "      <td>0.817710</td>\n",
       "      <td>0.091339</td>\n",
       "    </tr>\n",
       "    <tr>\n",
       "      <th>2022-10-13</th>\n",
       "      <td>0.333142</td>\n",
       "      <td>0.666653</td>\n",
       "      <td>0.000205</td>\n",
       "    </tr>\n",
       "    <tr>\n",
       "      <th>2022-10-12</th>\n",
       "      <td>0.130429</td>\n",
       "      <td>0.717557</td>\n",
       "      <td>0.152014</td>\n",
       "    </tr>\n",
       "    <tr>\n",
       "      <th>2022-10-11</th>\n",
       "      <td>0.255890</td>\n",
       "      <td>0.536001</td>\n",
       "      <td>0.208109</td>\n",
       "    </tr>\n",
       "  </tbody>\n",
       "</table>\n",
       "<p>273 rows × 3 columns</p>\n",
       "</div>"
      ],
      "text/plain": [
       "            Positive  Negative   Neutral\n",
       "Date                                    \n",
       "2023-10-25  0.285732  0.286004  0.428264\n",
       "2023-10-24  0.000019  0.580857  0.419124\n",
       "2023-10-23  0.004062  0.831589  0.164349\n",
       "2023-10-20  0.091018  0.725542  0.183440\n",
       "2023-10-19  0.157983  0.684441  0.157576\n",
       "...              ...       ...       ...\n",
       "2022-10-17  0.294527  0.604239  0.101234\n",
       "2022-10-14  0.090951  0.817710  0.091339\n",
       "2022-10-13  0.333142  0.666653  0.000205\n",
       "2022-10-12  0.130429  0.717557  0.152014\n",
       "2022-10-11  0.255890  0.536001  0.208109\n",
       "\n",
       "[273 rows x 3 columns]"
      ]
     },
     "execution_count": 57,
     "metadata": {},
     "output_type": "execute_result"
    }
   ],
   "source": [
    "daily_sentiments_excerpt = pd.DataFrame(columns = [\"Date\", \"Positive\", \"Negative\", \"Neutral\"])\n",
    "\n",
    "text_for_date = news[\"excerpt\"].tolist()\n",
    "\n",
    "tokenized_texts = [\n",
    "        [word for word in tokenizer.tokenize(text) if word.lower() not in stop_words]\n",
    "        for text in text_for_date]\n",
    "\n",
    "start_time = time.time()\n",
    "\n",
    "nltk.download(\"stopwords\")\n",
    "stop_words = set(stopwords.words(\"english\"))\n",
    "\n",
    "for date in unique_dates:    \n",
    "    #text_for_date = data[data[\"rgs_dt\"] == date][\"news_smy_ifo\"].tolist()\n",
    "    text_for_date = news[news.index == date][\"excerpt\"].tolist()\n",
    "\n",
    "    tokenized_texts = [\n",
    "        [word for word in tokenizer.tokenize(text) if word.lower() not in stop_words]\n",
    "        for text in text_for_date\n",
    "    ]\n",
    "\n",
    "    max_token_length = 500\n",
    "\n",
    "    tokenized_texts = [\" \".join(tokens[:max_token_length]) for tokens in tokenized_texts]\n",
    "    inputs = tokenizer(tokenized_texts, padding = True, truncation = True, return_tensors = \"pt\", max_length = max_token_length)\n",
    "\n",
    "    with torch.no_grad():\n",
    "        outputs = model(**inputs)\n",
    "        logits = outputs.logits\n",
    "\n",
    "    probabilities = torch.softmax(logits, dim=1)\n",
    "    positive_prob = probabilities[:, 2].mean().item()\n",
    "    negative_prob = probabilities[:, 0].mean().item()\n",
    "    neutral_prob = probabilities[:, 1].mean().item()\n",
    "    \n",
    "    daily_sentiments_excerpt = pd.concat([daily_sentiments_excerpt, \n",
    "                                          pd.DataFrame({\"Date\": date, \n",
    "                                                        \"Positive\": positive_prob, \n",
    "                                                        \"Negative\": negative_prob, \n",
    "                                                        \"Neutral\": neutral_prob}, index = ['0'])],\n",
    "                                 ignore_index = True)\n",
    "\n",
    "daily_sentiments_excerpt.index = daily_sentiments_excerpt.Date\n",
    "daily_sentiments_excerpt = daily_sentiments_excerpt.iloc[:,1:]\n",
    "daily_sentiments_excerpt"
   ]
  },
  {
   "cell_type": "code",
   "execution_count": 48,
   "id": "5b9cefd29ee0933b",
   "metadata": {
    "ExecuteTime": {
     "end_time": "2023-10-25T13:40:48.441559Z",
     "start_time": "2023-10-25T13:40:48.431768Z"
    }
   },
   "outputs": [],
   "source": [
    "daily_sentiments['sentimental_score'] = daily_sentiments['Positive'] - daily_sentiments['Negative'] + daily_sentiments['Neutral'] * 0.5"
   ]
  },
  {
   "cell_type": "code",
   "execution_count": 54,
   "id": "9da659e52069358b",
   "metadata": {
    "ExecuteTime": {
     "end_time": "2023-10-25T13:41:56.626964Z",
     "start_time": "2023-10-25T13:41:56.532184Z"
    }
   },
   "outputs": [
    {
     "data": {
      "image/png": "[encoded data removed]",
      "text/plain": [
       "<Figure size 640x480 with 1 Axes>"
      ]
     },
     "metadata": {},
     "output_type": "display_data"
    }
   ],
   "source": [
    "import matplotlib.pyplot as plt\n",
    "\n",
    "plt.hist(daily_sentiments['sentimental_score'], bins = 100)\n",
    "plt.show()"
   ]
  },
  {
   "cell_type": "code",
   "execution_count": 58,
   "id": "92d9a1ca5850527d",
   "metadata": {
    "ExecuteTime": {
     "end_time": "2023-10-25T13:44:12.809780Z",
     "start_time": "2023-10-25T13:44:12.801551Z"
    }
   },
   "outputs": [],
   "source": [
    "daily_sentiments_excerpt['sentimental_score'] = daily_sentiments_excerpt['Positive'] - daily_sentiments_excerpt['Negative'] + daily_sentiments_excerpt['Neutral'] * 0.5"
   ]
  },
  {
   "cell_type": "code",
   "execution_count": 59,
   "id": "30a7ca15fc064405",
   "metadata": {
    "ExecuteTime": {
     "end_time": "2023-10-25T13:44:13.652810Z",
     "start_time": "2023-10-25T13:44:13.559015Z"
    }
   },
   "outputs": [
    {
     "data": {
      "image/png": "[encoded data removed]",
      "text/plain": [
       "<Figure size 640x480 with 1 Axes>"
      ]
     },
     "metadata": {},
     "output_type": "display_data"
    }
   ],
   "source": [
    "plt.hist(daily_sentiments_excerpt['sentimental_score'], bins = 100)\n",
    "plt.show()"
   ]
  },
  {
   "cell_type": "code",
   "execution_count": 60,
   "id": "27aed5be898486a7",
   "metadata": {
    "ExecuteTime": {
     "end_time": "2023-10-25T13:45:36.276976Z",
     "start_time": "2023-10-25T13:45:36.252829Z"
    }
   },
   "outputs": [],
   "source": [
    "# daily_sentiments_excerpt.to_csv('excerpt_sentimental.csv')\n",
    "# daily_sentiments.to_csv('title_sentimental.csv')"
   ]
  }
 ],
 "metadata": {
  "kernelspec": {
   "display_name": "Python 3 (ipykernel)",
   "language": "python",
   "name": "python3"
  },
  "language_info": {
   "codemirror_mode": {
    "name": "ipython",
    "version": 3
   },
   "file_extension": ".py",
   "mimetype": "text/x-python",
   "name": "python",
   "nbconvert_exporter": "python",
   "pygments_lexer": "ipython3",
   "version": "3.11.4"
  }
 },
 "nbformat": 4,
 "nbformat_minor": 5
}
