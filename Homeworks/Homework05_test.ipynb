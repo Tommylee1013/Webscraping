{
 "cells": [
  {
   "cell_type": "markdown",
   "id": "bdcd1cca39775b79",
   "metadata": {},
   "source": [
    "### Text Mining Homework 5\n",
    "\n",
    "Regarding first 2,000 overviews of movie review data (movies_metadata.csv), after undergoing the following preprocessing, you want to do cluster analysis for movie titles. Create a TF-IDF vector using the method below and answer the questions below\n",
    "\n",
    "```\n",
    "[Preprocessing]\n",
    "[Step 1] Null Remove row with value\n",
    "[Step 2] Convert non-alphabetic characters to spaces\n",
    "[Step 3] Convert to lower case\n",
    "[Step 4] Create TF-IDF considering stopwords\n",
    "```"
   ]
  },
  {
   "cell_type": "markdown",
   "id": "8b48e4a814799b70",
   "metadata": {},
   "source": [
    "#### Problem 1\n",
    "\n",
    "Please answer the questions below regarding the movie [Jumanji]"
   ]
  },
  {
   "cell_type": "code",
   "execution_count": 55,
   "id": "initial_id",
   "metadata": {
    "collapsed": true,
    "ExecuteTime": {
     "end_time": "2023-12-12T15:40:51.153723Z",
     "start_time": "2023-12-12T15:40:50.487188Z"
    }
   },
   "outputs": [
    {
     "data": {
      "text/plain": "   adult                              belongs_to_collection    budget  \\\n0  False  {'id': 10194, 'name': 'Toy Story Collection', ...  30000000   \n1  False                                                NaN  65000000   \n2  False  {'id': 119050, 'name': 'Grumpy Old Men Collect...         0   \n3  False                                                NaN  16000000   \n4  False  {'id': 96871, 'name': 'Father of the Bride Col...         0   \n\n                                              genres  \\\n0  [{'id': 16, 'name': 'Animation'}, {'id': 35, '...   \n1  [{'id': 12, 'name': 'Adventure'}, {'id': 14, '...   \n2  [{'id': 10749, 'name': 'Romance'}, {'id': 35, ...   \n3  [{'id': 35, 'name': 'Comedy'}, {'id': 18, 'nam...   \n4                     [{'id': 35, 'name': 'Comedy'}]   \n\n                               homepage     id    imdb_id original_language  \\\n0  http://toystory.disney.com/toy-story    862  tt0114709                en   \n1                                   NaN   8844  tt0113497                en   \n2                                   NaN  15602  tt0113228                en   \n3                                   NaN  31357  tt0114885                en   \n4                                   NaN  11862  tt0113041                en   \n\n                original_title  \\\n0                    Toy Story   \n1                      Jumanji   \n2             Grumpier Old Men   \n3            Waiting to Exhale   \n4  Father of the Bride Part II   \n\n                                            overview  ... release_date  \\\n0  Led by Woody, Andy's toys live happily in his ...  ...   1995-10-30   \n1  When siblings Judy and Peter discover an encha...  ...   1995-12-15   \n2  A family wedding reignites the ancient feud be...  ...   1995-12-22   \n3  Cheated on, mistreated and stepped on, the wom...  ...   1995-12-22   \n4  Just when George Banks has recovered from his ...  ...   1995-02-10   \n\n       revenue runtime                                   spoken_languages  \\\n0  373554033.0    81.0           [{'iso_639_1': 'en', 'name': 'English'}]   \n1  262797249.0   104.0  [{'iso_639_1': 'en', 'name': 'English'}, {'iso...   \n2          0.0   101.0           [{'iso_639_1': 'en', 'name': 'English'}]   \n3   81452156.0   127.0           [{'iso_639_1': 'en', 'name': 'English'}]   \n4   76578911.0   106.0           [{'iso_639_1': 'en', 'name': 'English'}]   \n\n     status                                            tagline  \\\n0  Released                                                NaN   \n1  Released          Roll the dice and unleash the excitement!   \n2  Released  Still Yelling. Still Fighting. Still Ready for...   \n3  Released  Friends are the people who let you be yourself...   \n4  Released  Just When His World Is Back To Normal... He's ...   \n\n                         title  video vote_average vote_count  \n0                    Toy Story  False          7.7     5415.0  \n1                      Jumanji  False          6.9     2413.0  \n2             Grumpier Old Men  False          6.5       92.0  \n3            Waiting to Exhale  False          6.1       34.0  \n4  Father of the Bride Part II  False          5.7      173.0  \n\n[5 rows x 24 columns]",
      "text/html": "<div>\n<style scoped>\n    .dataframe tbody tr th:only-of-type {\n        vertical-align: middle;\n    }\n\n    .dataframe tbody tr th {\n        vertical-align: top;\n    }\n\n    .dataframe thead th {\n        text-align: right;\n    }\n</style>\n<table border=\"1\" class=\"dataframe\">\n  <thead>\n    <tr style=\"text-align: right;\">\n      <th></th>\n      <th>adult</th>\n      <th>belongs_to_collection</th>\n      <th>budget</th>\n      <th>genres</th>\n      <th>homepage</th>\n      <th>id</th>\n      <th>imdb_id</th>\n      <th>original_language</th>\n      <th>original_title</th>\n      <th>overview</th>\n      <th>...</th>\n      <th>release_date</th>\n      <th>revenue</th>\n      <th>runtime</th>\n      <th>spoken_languages</th>\n      <th>status</th>\n      <th>tagline</th>\n      <th>title</th>\n      <th>video</th>\n      <th>vote_average</th>\n      <th>vote_count</th>\n    </tr>\n  </thead>\n  <tbody>\n    <tr>\n      <th>0</th>\n      <td>False</td>\n      <td>{'id': 10194, 'name': 'Toy Story Collection', ...</td>\n      <td>30000000</td>\n      <td>[{'id': 16, 'name': 'Animation'}, {'id': 35, '...</td>\n      <td>http://toystory.disney.com/toy-story</td>\n      <td>862</td>\n      <td>tt0114709</td>\n      <td>en</td>\n      <td>Toy Story</td>\n      <td>Led by Woody, Andy's toys live happily in his ...</td>\n      <td>...</td>\n      <td>1995-10-30</td>\n      <td>373554033.0</td>\n      <td>81.0</td>\n      <td>[{'iso_639_1': 'en', 'name': 'English'}]</td>\n      <td>Released</td>\n      <td>NaN</td>\n      <td>Toy Story</td>\n      <td>False</td>\n      <td>7.7</td>\n      <td>5415.0</td>\n    </tr>\n    <tr>\n      <th>1</th>\n      <td>False</td>\n      <td>NaN</td>\n      <td>65000000</td>\n      <td>[{'id': 12, 'name': 'Adventure'}, {'id': 14, '...</td>\n      <td>NaN</td>\n      <td>8844</td>\n      <td>tt0113497</td>\n      <td>en</td>\n      <td>Jumanji</td>\n      <td>When siblings Judy and Peter discover an encha...</td>\n      <td>...</td>\n      <td>1995-12-15</td>\n      <td>262797249.0</td>\n      <td>104.0</td>\n      <td>[{'iso_639_1': 'en', 'name': 'English'}, {'iso...</td>\n      <td>Released</td>\n      <td>Roll the dice and unleash the excitement!</td>\n      <td>Jumanji</td>\n      <td>False</td>\n      <td>6.9</td>\n      <td>2413.0</td>\n    </tr>\n    <tr>\n      <th>2</th>\n      <td>False</td>\n      <td>{'id': 119050, 'name': 'Grumpy Old Men Collect...</td>\n      <td>0</td>\n      <td>[{'id': 10749, 'name': 'Romance'}, {'id': 35, ...</td>\n      <td>NaN</td>\n      <td>15602</td>\n      <td>tt0113228</td>\n      <td>en</td>\n      <td>Grumpier Old Men</td>\n      <td>A family wedding reignites the ancient feud be...</td>\n      <td>...</td>\n      <td>1995-12-22</td>\n      <td>0.0</td>\n      <td>101.0</td>\n      <td>[{'iso_639_1': 'en', 'name': 'English'}]</td>\n      <td>Released</td>\n      <td>Still Yelling. Still Fighting. Still Ready for...</td>\n      <td>Grumpier Old Men</td>\n      <td>False</td>\n      <td>6.5</td>\n      <td>92.0</td>\n    </tr>\n    <tr>\n      <th>3</th>\n      <td>False</td>\n      <td>NaN</td>\n      <td>16000000</td>\n      <td>[{'id': 35, 'name': 'Comedy'}, {'id': 18, 'nam...</td>\n      <td>NaN</td>\n      <td>31357</td>\n      <td>tt0114885</td>\n      <td>en</td>\n      <td>Waiting to Exhale</td>\n      <td>Cheated on, mistreated and stepped on, the wom...</td>\n      <td>...</td>\n      <td>1995-12-22</td>\n      <td>81452156.0</td>\n      <td>127.0</td>\n      <td>[{'iso_639_1': 'en', 'name': 'English'}]</td>\n      <td>Released</td>\n      <td>Friends are the people who let you be yourself...</td>\n      <td>Waiting to Exhale</td>\n      <td>False</td>\n      <td>6.1</td>\n      <td>34.0</td>\n    </tr>\n    <tr>\n      <th>4</th>\n      <td>False</td>\n      <td>{'id': 96871, 'name': 'Father of the Bride Col...</td>\n      <td>0</td>\n      <td>[{'id': 35, 'name': 'Comedy'}]</td>\n      <td>NaN</td>\n      <td>11862</td>\n      <td>tt0113041</td>\n      <td>en</td>\n      <td>Father of the Bride Part II</td>\n      <td>Just when George Banks has recovered from his ...</td>\n      <td>...</td>\n      <td>1995-02-10</td>\n      <td>76578911.0</td>\n      <td>106.0</td>\n      <td>[{'iso_639_1': 'en', 'name': 'English'}]</td>\n      <td>Released</td>\n      <td>Just When His World Is Back To Normal... He's ...</td>\n      <td>Father of the Bride Part II</td>\n      <td>False</td>\n      <td>5.7</td>\n      <td>173.0</td>\n    </tr>\n  </tbody>\n</table>\n<p>5 rows × 24 columns</p>\n</div>"
     },
     "execution_count": 55,
     "metadata": {},
     "output_type": "execute_result"
    }
   ],
   "source": [
    "import pandas as pd\n",
    "import numpy as np\n",
    "import matplotlib.pyplot as plt\n",
    "import seaborn as sns\n",
    "import re\n",
    "\n",
    "data = pd.read_csv('../Data/movies_metadata.csv', engine = 'python')\n",
    "data.head()"
   ]
  },
  {
   "cell_type": "markdown",
   "id": "a77682579d92b7d7",
   "metadata": {},
   "source": [
    "Check if there is null in building TF-IDF"
   ]
  },
  {
   "cell_type": "code",
   "execution_count": 56,
   "id": "6161e22aed016af3",
   "metadata": {
    "ExecuteTime": {
     "end_time": "2023-12-12T15:40:52.090810Z",
     "start_time": "2023-12-12T15:40:52.072802Z"
    }
   },
   "outputs": [
    {
     "data": {
      "text/plain": "25054"
     },
     "execution_count": 56,
     "metadata": {},
     "output_type": "execute_result"
    }
   ],
   "source": [
    "data['tagline'].isnull().sum()"
   ]
  },
  {
   "cell_type": "markdown",
   "id": "6eb03894d268150",
   "metadata": {},
   "source": [
    "Remove Null from overview"
   ]
  },
  {
   "cell_type": "code",
   "execution_count": 57,
   "id": "83442b3777f57bf4",
   "metadata": {
    "ExecuteTime": {
     "end_time": "2023-12-12T15:41:01.284199Z",
     "start_time": "2023-12-12T15:41:01.266770Z"
    }
   },
   "outputs": [
    {
     "data": {
      "text/plain": "0"
     },
     "execution_count": 57,
     "metadata": {},
     "output_type": "execute_result"
    }
   ],
   "source": [
    "data['tagline'] = data['tagline'].fillna('')  # fillna(\"\"): delete null\n",
    "data['tagline'].isnull().sum() #  Null check again"
   ]
  },
  {
   "cell_type": "code",
   "execution_count": 58,
   "id": "d9d33b4a9fbf6444",
   "metadata": {
    "ExecuteTime": {
     "end_time": "2023-12-12T15:41:02.394437Z",
     "start_time": "2023-12-12T15:41:02.374539Z"
    }
   },
   "outputs": [],
   "source": [
    "data = data[:2000] # select 2000 review data"
   ]
  },
  {
   "cell_type": "markdown",
   "id": "54eb39ecb6626e10",
   "metadata": {},
   "source": [
    "remove non-alphabetic characters and spaces"
   ]
  },
  {
   "cell_type": "code",
   "execution_count": 59,
   "id": "ba8971b4959d613",
   "metadata": {
    "ExecuteTime": {
     "end_time": "2023-12-12T15:41:11.038363Z",
     "start_time": "2023-12-12T15:41:11.027500Z"
    }
   },
   "outputs": [],
   "source": [
    "overview_list = []\n",
    "\n",
    "for i in range(len(data['tagline'])):\n",
    "    overview1 = re.sub('[^a-zA-z]',' ',data['tagline'][i])\n",
    "    overview_list.append(overview1.lower())"
   ]
  },
  {
   "cell_type": "code",
   "execution_count": 60,
   "id": "c21f6edd0aad722a",
   "metadata": {
    "ExecuteTime": {
     "end_time": "2023-12-12T15:41:12.763963Z",
     "start_time": "2023-12-12T15:41:12.748903Z"
    }
   },
   "outputs": [],
   "source": [
    "titles = data['original_title']"
   ]
  },
  {
   "cell_type": "code",
   "execution_count": 62,
   "outputs": [],
   "source": [
    "import re\n",
    "synopses = [re.sub(r'[^a-zA-Z]', ' ', overview) for overview in data['tagline']]\n",
    "synopses = [line.lower() for line in synopses]"
   ],
   "metadata": {
    "collapsed": false,
    "ExecuteTime": {
     "end_time": "2023-12-12T15:41:17.053159Z",
     "start_time": "2023-12-12T15:41:17.037327Z"
    }
   },
   "id": "15e8d7e8bba0329a"
  },
  {
   "cell_type": "markdown",
   "id": "d9350a1c83f300be",
   "metadata": {},
   "source": [
    "Vectorize using TF-IDF"
   ]
  },
  {
   "cell_type": "code",
   "execution_count": 63,
   "id": "a43c45cf13b9633f",
   "metadata": {
    "ExecuteTime": {
     "end_time": "2023-12-12T15:41:19.388935Z",
     "start_time": "2023-12-12T15:41:19.380653Z"
    }
   },
   "outputs": [],
   "source": [
    "from sklearn.feature_extraction.text import TfidfVectorizer\n",
    "\n",
    "tfidf = TfidfVectorizer(stop_words = 'english')\n",
    "tfidf_matrix = tfidf.fit_transform(synopses)"
   ]
  },
  {
   "cell_type": "code",
   "execution_count": 64,
   "outputs": [
    {
     "data": {
      "text/plain": "<Axes: >"
     },
     "execution_count": 64,
     "metadata": {},
     "output_type": "execute_result"
    },
    {
     "data": {
      "text/plain": "<Figure size 640x480 with 2 Axes>",
      "image/png": "[encoded data removed]"
     },
     "metadata": {},
     "output_type": "display_data"
    }
   ],
   "source": [
    "import seaborn as sns\n",
    "sns.heatmap(\n",
    "    tfidf_matrix.toarray()\n",
    ")"
   ],
   "metadata": {
    "collapsed": false,
    "ExecuteTime": {
     "end_time": "2023-12-12T15:41:23.084628Z",
     "start_time": "2023-12-12T15:41:20.398523Z"
    }
   },
   "id": "a2f1e62beece8e86"
  },
  {
   "cell_type": "markdown",
   "id": "827ef71f0b6e7ae2",
   "metadata": {},
   "source": [
    "make movie indeces"
   ]
  },
  {
   "cell_type": "code",
   "execution_count": 65,
   "id": "d24390abbbbd835",
   "metadata": {
    "ExecuteTime": {
     "end_time": "2023-12-12T15:41:28.909280Z",
     "start_time": "2023-12-12T15:41:28.890344Z"
    }
   },
   "outputs": [],
   "source": [
    "indices = pd.Series(data.index, index = data['title']).drop_duplicates()"
   ]
  },
  {
   "cell_type": "markdown",
   "id": "cb7d54196e30fcc4",
   "metadata": {},
   "source": [
    "**1.1**  Find how many movies are in the same cluster as the movie jumanji using Euclidean similarity and K-means (k=10) method."
   ]
  },
  {
   "cell_type": "code",
   "execution_count": 66,
   "id": "413bb18504a73530",
   "metadata": {
    "ExecuteTime": {
     "end_time": "2023-12-12T15:41:31.155405Z",
     "start_time": "2023-12-12T15:41:31.056820Z"
    }
   },
   "outputs": [
    {
     "name": "stdout",
     "output_type": "stream",
     "text": [
      "CPU times: user 290 ms, sys: 219 ms, total: 508 ms\n",
      "Wall time: 96.7 ms\n"
     ]
    },
    {
     "name": "stderr",
     "output_type": "stream",
     "text": [
      "/Users/junghunlee/anaconda3/envs/Webscraping/lib/python3.10/site-packages/sklearn/cluster/_kmeans.py:1412: FutureWarning: The default value of `n_init` will change from 10 to 'auto' in 1.4. Set the value of `n_init` explicitly to suppress the warning\n",
      "  super()._check_params_vs_input(X, default_n_init=10)\n"
     ]
    },
    {
     "data": {
      "text/plain": "KMeans(n_clusters=10, random_state=42)",
      "text/html": "<style>#sk-container-id-5 {color: black;}#sk-container-id-5 pre{padding: 0;}#sk-container-id-5 div.sk-toggleable {background-color: white;}#sk-container-id-5 label.sk-toggleable__label {cursor: pointer;display: block;width: 100%;margin-bottom: 0;padding: 0.3em;box-sizing: border-box;text-align: center;}#sk-container-id-5 label.sk-toggleable__label-arrow:before {content: \"▸\";float: left;margin-right: 0.25em;color: #696969;}#sk-container-id-5 label.sk-toggleable__label-arrow:hover:before {color: black;}#sk-container-id-5 div.sk-estimator:hover label.sk-toggleable__label-arrow:before {color: black;}#sk-container-id-5 div.sk-toggleable__content {max-height: 0;max-width: 0;overflow: hidden;text-align: left;background-color: #f0f8ff;}#sk-container-id-5 div.sk-toggleable__content pre {margin: 0.2em;color: black;border-radius: 0.25em;background-color: #f0f8ff;}#sk-container-id-5 input.sk-toggleable__control:checked~div.sk-toggleable__content {max-height: 200px;max-width: 100%;overflow: auto;}#sk-container-id-5 input.sk-toggleable__control:checked~label.sk-toggleable__label-arrow:before {content: \"▾\";}#sk-container-id-5 div.sk-estimator input.sk-toggleable__control:checked~label.sk-toggleable__label {background-color: #d4ebff;}#sk-container-id-5 div.sk-label input.sk-toggleable__control:checked~label.sk-toggleable__label {background-color: #d4ebff;}#sk-container-id-5 input.sk-hidden--visually {border: 0;clip: rect(1px 1px 1px 1px);clip: rect(1px, 1px, 1px, 1px);height: 1px;margin: -1px;overflow: hidden;padding: 0;position: absolute;width: 1px;}#sk-container-id-5 div.sk-estimator {font-family: monospace;background-color: #f0f8ff;border: 1px dotted black;border-radius: 0.25em;box-sizing: border-box;margin-bottom: 0.5em;}#sk-container-id-5 div.sk-estimator:hover {background-color: #d4ebff;}#sk-container-id-5 div.sk-parallel-item::after {content: \"\";width: 100%;border-bottom: 1px solid gray;flex-grow: 1;}#sk-container-id-5 div.sk-label:hover label.sk-toggleable__label {background-color: #d4ebff;}#sk-container-id-5 div.sk-serial::before {content: \"\";position: absolute;border-left: 1px solid gray;box-sizing: border-box;top: 0;bottom: 0;left: 50%;z-index: 0;}#sk-container-id-5 div.sk-serial {display: flex;flex-direction: column;align-items: center;background-color: white;padding-right: 0.2em;padding-left: 0.2em;position: relative;}#sk-container-id-5 div.sk-item {position: relative;z-index: 1;}#sk-container-id-5 div.sk-parallel {display: flex;align-items: stretch;justify-content: center;background-color: white;position: relative;}#sk-container-id-5 div.sk-item::before, #sk-container-id-5 div.sk-parallel-item::before {content: \"\";position: absolute;border-left: 1px solid gray;box-sizing: border-box;top: 0;bottom: 0;left: 50%;z-index: -1;}#sk-container-id-5 div.sk-parallel-item {display: flex;flex-direction: column;z-index: 1;position: relative;background-color: white;}#sk-container-id-5 div.sk-parallel-item:first-child::after {align-self: flex-end;width: 50%;}#sk-container-id-5 div.sk-parallel-item:last-child::after {align-self: flex-start;width: 50%;}#sk-container-id-5 div.sk-parallel-item:only-child::after {width: 0;}#sk-container-id-5 div.sk-dashed-wrapped {border: 1px dashed gray;margin: 0 0.4em 0.5em 0.4em;box-sizing: border-box;padding-bottom: 0.4em;background-color: white;}#sk-container-id-5 div.sk-label label {font-family: monospace;font-weight: bold;display: inline-block;line-height: 1.2em;}#sk-container-id-5 div.sk-label-container {text-align: center;}#sk-container-id-5 div.sk-container {/* jupyter's `normalize.less` sets `[hidden] { display: none; }` but bootstrap.min.css set `[hidden] { display: none !important; }` so we also need the `!important` here to be able to override the default hidden behavior on the sphinx rendered scikit-learn.org. See: https://github.com/scikit-learn/scikit-learn/issues/21755 */display: inline-block !important;position: relative;}#sk-container-id-5 div.sk-text-repr-fallback {display: none;}</style><div id=\"sk-container-id-5\" class=\"sk-top-container\"><div class=\"sk-text-repr-fallback\"><pre>KMeans(n_clusters=10, random_state=42)</pre><b>In a Jupyter environment, please rerun this cell to show the HTML representation or trust the notebook. <br />On GitHub, the HTML representation is unable to render, please try loading this page with nbviewer.org.</b></div><div class=\"sk-container\" hidden><div class=\"sk-item\"><div class=\"sk-estimator sk-toggleable\"><input class=\"sk-toggleable__control sk-hidden--visually\" id=\"sk-estimator-id-5\" type=\"checkbox\" checked><label for=\"sk-estimator-id-5\" class=\"sk-toggleable__label sk-toggleable__label-arrow\">KMeans</label><div class=\"sk-toggleable__content\"><pre>KMeans(n_clusters=10, random_state=42)</pre></div></div></div></div></div>"
     },
     "execution_count": 66,
     "metadata": {},
     "output_type": "execute_result"
    }
   ],
   "source": [
    "from sklearn.cluster import KMeans\n",
    "\n",
    "num_cluster = 10\n",
    "kmeans_model = KMeans(\n",
    "    n_clusters = num_cluster, \n",
    "    random_state = 42\n",
    ")\n",
    "\n",
    "%time kmeans_model.fit(tfidf_matrix)"
   ]
  },
  {
   "cell_type": "markdown",
   "id": "fdbc4760518967bd",
   "metadata": {},
   "source": [
    "Kmeans clusters set a distance as euclidean to default. and now, we check a clustered labels."
   ]
  },
  {
   "cell_type": "code",
   "execution_count": 67,
   "id": "3b27c90e93a4a2a7",
   "metadata": {
    "ExecuteTime": {
     "end_time": "2023-12-12T15:41:33.658175Z",
     "start_time": "2023-12-12T15:41:33.636637Z"
    }
   },
   "outputs": [
    {
     "data": {
      "text/plain": "[2, 2, 2, 2, 2, 2, 2, 2, 2, 2]"
     },
     "execution_count": 67,
     "metadata": {},
     "output_type": "execute_result"
    }
   ],
   "source": [
    "clusters = kmeans_model.labels_.tolist()\n",
    "clusters[:10]"
   ]
  },
  {
   "cell_type": "code",
   "execution_count": 68,
   "id": "d5d894c46d19ae67",
   "metadata": {
    "ExecuteTime": {
     "end_time": "2023-12-12T15:41:35.320293Z",
     "start_time": "2023-12-12T15:41:35.308690Z"
    }
   },
   "outputs": [
    {
     "data": {
      "text/plain": "   cluster  count\n0        2   1910\n1        7     40\n2        5     14\n3        6     12\n4        3     10\n5        4      6\n6        8      5\n7        0      1\n8        9      1\n9        1      1",
      "text/html": "<div>\n<style scoped>\n    .dataframe tbody tr th:only-of-type {\n        vertical-align: middle;\n    }\n\n    .dataframe tbody tr th {\n        vertical-align: top;\n    }\n\n    .dataframe thead th {\n        text-align: right;\n    }\n</style>\n<table border=\"1\" class=\"dataframe\">\n  <thead>\n    <tr style=\"text-align: right;\">\n      <th></th>\n      <th>cluster</th>\n      <th>count</th>\n    </tr>\n  </thead>\n  <tbody>\n    <tr>\n      <th>0</th>\n      <td>2</td>\n      <td>1910</td>\n    </tr>\n    <tr>\n      <th>1</th>\n      <td>7</td>\n      <td>40</td>\n    </tr>\n    <tr>\n      <th>2</th>\n      <td>5</td>\n      <td>14</td>\n    </tr>\n    <tr>\n      <th>3</th>\n      <td>6</td>\n      <td>12</td>\n    </tr>\n    <tr>\n      <th>4</th>\n      <td>3</td>\n      <td>10</td>\n    </tr>\n    <tr>\n      <th>5</th>\n      <td>4</td>\n      <td>6</td>\n    </tr>\n    <tr>\n      <th>6</th>\n      <td>8</td>\n      <td>5</td>\n    </tr>\n    <tr>\n      <th>7</th>\n      <td>0</td>\n      <td>1</td>\n    </tr>\n    <tr>\n      <th>8</th>\n      <td>9</td>\n      <td>1</td>\n    </tr>\n    <tr>\n      <th>9</th>\n      <td>1</td>\n      <td>1</td>\n    </tr>\n  </tbody>\n</table>\n</div>"
     },
     "execution_count": 68,
     "metadata": {},
     "output_type": "execute_result"
    }
   ],
   "source": [
    "films = {'title': titles, \n",
    "         'synopsis': synopses, \n",
    "         'cluster': clusters}\n",
    "frame = pd.DataFrame(films)\n",
    "number_frame = pd.DataFrame(frame['cluster'].value_counts()).reset_index()\n",
    "number_frame"
   ]
  },
  {
   "cell_type": "code",
   "execution_count": 69,
   "id": "335167a6e63af801",
   "metadata": {
    "ExecuteTime": {
     "end_time": "2023-12-12T15:41:38.134231Z",
     "start_time": "2023-12-12T15:41:38.110920Z"
    }
   },
   "outputs": [
    {
     "name": "stdout",
     "output_type": "stream",
     "text": [
      "The cluster number with jumanji is 2 and the number of movie in this cluster is 1910\n"
     ]
    }
   ],
   "source": [
    "print(f\"The cluster number with jumanji is {frame[frame['title']=='Jumanji']['cluster'].to_list()[0]} and the number of movie in this cluster is {number_frame[number_frame['cluster'] == frame[frame['title']=='Jumanji']['cluster'].to_list()[0]]['count'].to_list()[0]}\")"
   ]
  },
  {
   "cell_type": "markdown",
   "id": "a9ab4a47fea4a901",
   "metadata": {},
   "source": [
    "**1.2** Find how many movies are in the same cluster as the movie Jumanji using Euclidean similarity and hierarchical clustering (ward, k=10) method."
   ]
  },
  {
   "cell_type": "code",
   "execution_count": 70,
   "id": "724776718210cf7e",
   "metadata": {
    "ExecuteTime": {
     "end_time": "2023-12-12T15:41:43.008905Z",
     "start_time": "2023-12-12T15:41:41.436658Z"
    }
   },
   "outputs": [
    {
     "name": "stdout",
     "output_type": "stream",
     "text": [
      "CPU times: user 1.52 s, sys: 22.3 ms, total: 1.54 s\n",
      "Wall time: 1.57 s\n"
     ]
    },
    {
     "data": {
      "text/plain": "AgglomerativeClustering(metric='euclidean', n_clusters=10)",
      "text/html": "<style>#sk-container-id-6 {color: black;}#sk-container-id-6 pre{padding: 0;}#sk-container-id-6 div.sk-toggleable {background-color: white;}#sk-container-id-6 label.sk-toggleable__label {cursor: pointer;display: block;width: 100%;margin-bottom: 0;padding: 0.3em;box-sizing: border-box;text-align: center;}#sk-container-id-6 label.sk-toggleable__label-arrow:before {content: \"▸\";float: left;margin-right: 0.25em;color: #696969;}#sk-container-id-6 label.sk-toggleable__label-arrow:hover:before {color: black;}#sk-container-id-6 div.sk-estimator:hover label.sk-toggleable__label-arrow:before {color: black;}#sk-container-id-6 div.sk-toggleable__content {max-height: 0;max-width: 0;overflow: hidden;text-align: left;background-color: #f0f8ff;}#sk-container-id-6 div.sk-toggleable__content pre {margin: 0.2em;color: black;border-radius: 0.25em;background-color: #f0f8ff;}#sk-container-id-6 input.sk-toggleable__control:checked~div.sk-toggleable__content {max-height: 200px;max-width: 100%;overflow: auto;}#sk-container-id-6 input.sk-toggleable__control:checked~label.sk-toggleable__label-arrow:before {content: \"▾\";}#sk-container-id-6 div.sk-estimator input.sk-toggleable__control:checked~label.sk-toggleable__label {background-color: #d4ebff;}#sk-container-id-6 div.sk-label input.sk-toggleable__control:checked~label.sk-toggleable__label {background-color: #d4ebff;}#sk-container-id-6 input.sk-hidden--visually {border: 0;clip: rect(1px 1px 1px 1px);clip: rect(1px, 1px, 1px, 1px);height: 1px;margin: -1px;overflow: hidden;padding: 0;position: absolute;width: 1px;}#sk-container-id-6 div.sk-estimator {font-family: monospace;background-color: #f0f8ff;border: 1px dotted black;border-radius: 0.25em;box-sizing: border-box;margin-bottom: 0.5em;}#sk-container-id-6 div.sk-estimator:hover {background-color: #d4ebff;}#sk-container-id-6 div.sk-parallel-item::after {content: \"\";width: 100%;border-bottom: 1px solid gray;flex-grow: 1;}#sk-container-id-6 div.sk-label:hover label.sk-toggleable__label {background-color: #d4ebff;}#sk-container-id-6 div.sk-serial::before {content: \"\";position: absolute;border-left: 1px solid gray;box-sizing: border-box;top: 0;bottom: 0;left: 50%;z-index: 0;}#sk-container-id-6 div.sk-serial {display: flex;flex-direction: column;align-items: center;background-color: white;padding-right: 0.2em;padding-left: 0.2em;position: relative;}#sk-container-id-6 div.sk-item {position: relative;z-index: 1;}#sk-container-id-6 div.sk-parallel {display: flex;align-items: stretch;justify-content: center;background-color: white;position: relative;}#sk-container-id-6 div.sk-item::before, #sk-container-id-6 div.sk-parallel-item::before {content: \"\";position: absolute;border-left: 1px solid gray;box-sizing: border-box;top: 0;bottom: 0;left: 50%;z-index: -1;}#sk-container-id-6 div.sk-parallel-item {display: flex;flex-direction: column;z-index: 1;position: relative;background-color: white;}#sk-container-id-6 div.sk-parallel-item:first-child::after {align-self: flex-end;width: 50%;}#sk-container-id-6 div.sk-parallel-item:last-child::after {align-self: flex-start;width: 50%;}#sk-container-id-6 div.sk-parallel-item:only-child::after {width: 0;}#sk-container-id-6 div.sk-dashed-wrapped {border: 1px dashed gray;margin: 0 0.4em 0.5em 0.4em;box-sizing: border-box;padding-bottom: 0.4em;background-color: white;}#sk-container-id-6 div.sk-label label {font-family: monospace;font-weight: bold;display: inline-block;line-height: 1.2em;}#sk-container-id-6 div.sk-label-container {text-align: center;}#sk-container-id-6 div.sk-container {/* jupyter's `normalize.less` sets `[hidden] { display: none; }` but bootstrap.min.css set `[hidden] { display: none !important; }` so we also need the `!important` here to be able to override the default hidden behavior on the sphinx rendered scikit-learn.org. See: https://github.com/scikit-learn/scikit-learn/issues/21755 */display: inline-block !important;position: relative;}#sk-container-id-6 div.sk-text-repr-fallback {display: none;}</style><div id=\"sk-container-id-6\" class=\"sk-top-container\"><div class=\"sk-text-repr-fallback\"><pre>AgglomerativeClustering(metric=&#x27;euclidean&#x27;, n_clusters=10)</pre><b>In a Jupyter environment, please rerun this cell to show the HTML representation or trust the notebook. <br />On GitHub, the HTML representation is unable to render, please try loading this page with nbviewer.org.</b></div><div class=\"sk-container\" hidden><div class=\"sk-item\"><div class=\"sk-estimator sk-toggleable\"><input class=\"sk-toggleable__control sk-hidden--visually\" id=\"sk-estimator-id-6\" type=\"checkbox\" checked><label for=\"sk-estimator-id-6\" class=\"sk-toggleable__label sk-toggleable__label-arrow\">AgglomerativeClustering</label><div class=\"sk-toggleable__content\"><pre>AgglomerativeClustering(metric=&#x27;euclidean&#x27;, n_clusters=10)</pre></div></div></div></div></div>"
     },
     "execution_count": 70,
     "metadata": {},
     "output_type": "execute_result"
    }
   ],
   "source": [
    "from sklearn.cluster import AgglomerativeClustering\n",
    "\n",
    "agg_cluster = AgglomerativeClustering(\n",
    "    n_clusters = 10, # change number of clusters\n",
    "    metric = 'euclidean',\n",
    "    linkage = 'ward'\n",
    ")\n",
    "%time agg_cluster.fit(tfidf_matrix.toarray())"
   ]
  },
  {
   "cell_type": "code",
   "execution_count": 71,
   "id": "97243ad60fb41d8e",
   "metadata": {
    "ExecuteTime": {
     "end_time": "2023-12-12T15:42:35.041084Z",
     "start_time": "2023-12-12T15:42:33.485400Z"
    }
   },
   "outputs": [],
   "source": [
    "result1 = agg_cluster.fit_predict(tfidf_matrix.toarray())"
   ]
  },
  {
   "cell_type": "code",
   "execution_count": 72,
   "id": "e05c5e1dc695e2e0",
   "metadata": {
    "ExecuteTime": {
     "end_time": "2023-12-12T15:42:35.843758Z",
     "start_time": "2023-12-12T15:42:35.829196Z"
    }
   },
   "outputs": [
    {
     "data": {
      "text/plain": "   cluster  count\n0        2   1688\n1        0    142\n2        1     76\n3        3     25\n4        5     23\n5        6     11\n6        8      9\n7        9      9\n8        7      9\n9        4      8",
      "text/html": "<div>\n<style scoped>\n    .dataframe tbody tr th:only-of-type {\n        vertical-align: middle;\n    }\n\n    .dataframe tbody tr th {\n        vertical-align: top;\n    }\n\n    .dataframe thead th {\n        text-align: right;\n    }\n</style>\n<table border=\"1\" class=\"dataframe\">\n  <thead>\n    <tr style=\"text-align: right;\">\n      <th></th>\n      <th>cluster</th>\n      <th>count</th>\n    </tr>\n  </thead>\n  <tbody>\n    <tr>\n      <th>0</th>\n      <td>2</td>\n      <td>1688</td>\n    </tr>\n    <tr>\n      <th>1</th>\n      <td>0</td>\n      <td>142</td>\n    </tr>\n    <tr>\n      <th>2</th>\n      <td>1</td>\n      <td>76</td>\n    </tr>\n    <tr>\n      <th>3</th>\n      <td>3</td>\n      <td>25</td>\n    </tr>\n    <tr>\n      <th>4</th>\n      <td>5</td>\n      <td>23</td>\n    </tr>\n    <tr>\n      <th>5</th>\n      <td>6</td>\n      <td>11</td>\n    </tr>\n    <tr>\n      <th>6</th>\n      <td>8</td>\n      <td>9</td>\n    </tr>\n    <tr>\n      <th>7</th>\n      <td>9</td>\n      <td>9</td>\n    </tr>\n    <tr>\n      <th>8</th>\n      <td>7</td>\n      <td>9</td>\n    </tr>\n    <tr>\n      <th>9</th>\n      <td>4</td>\n      <td>8</td>\n    </tr>\n  </tbody>\n</table>\n</div>"
     },
     "execution_count": 72,
     "metadata": {},
     "output_type": "execute_result"
    }
   ],
   "source": [
    "films = {'title': titles, \n",
    "         'synopsis': synopses, \n",
    "         'cluster': result1}\n",
    "frame = pd.DataFrame(films)\n",
    "frame['cluster'].value_counts(films)\n",
    "number_frame = pd.DataFrame(frame['cluster'].value_counts()).reset_index()\n",
    "number_frame"
   ]
  },
  {
   "cell_type": "code",
   "execution_count": 73,
   "id": "b94ab826df9b2de6",
   "metadata": {
    "ExecuteTime": {
     "end_time": "2023-12-12T15:42:37.643376Z",
     "start_time": "2023-12-12T15:42:37.627777Z"
    }
   },
   "outputs": [
    {
     "name": "stdout",
     "output_type": "stream",
     "text": [
      "The cluster number with jumanji is 2 and the number of movie in this cluster is 1688\n"
     ]
    }
   ],
   "source": [
    "print(f\"The cluster number with jumanji is {frame[frame['title']=='Jumanji']['cluster'].to_list()[0]} and the number of movie in this cluster is {number_frame[number_frame['cluster'] == frame[frame['title']=='Jumanji']['cluster'].to_list()[0]]['count'].to_list()[0]}\")"
   ]
  },
  {
   "cell_type": "code",
   "execution_count": 74,
   "outputs": [
    {
     "data": {
      "text/plain": "                            title  \\\n0                       Toy Story   \n1                         Jumanji   \n2                Grumpier Old Men   \n3               Waiting to Exhale   \n4     Father of the Bride Part II   \n...                           ...   \n1995                          Tex   \n1996                         Tron   \n1997                   Swing Kids   \n1998               Halloween: H20   \n1999                   L.A. Story   \n\n                                               synopsis  cluster  \n0                                                              2  \n1             roll the dice and unleash the excitement         2  \n2     still yelling  still fighting  still ready for...        0  \n3     friends are the people who let you be yourself...        0  \n4     just when his world is back to normal    he s ...        2  \n...                                                 ...      ...  \n1995                                                           2  \n1996  a world inside the computer where man has neve...        2  \n1997  in a world on the brink of war  you either mar...        2  \n1998                       blood is thicker than water         2  \n1999                                                           2  \n\n[2000 rows x 3 columns]",
      "text/html": "<div>\n<style scoped>\n    .dataframe tbody tr th:only-of-type {\n        vertical-align: middle;\n    }\n\n    .dataframe tbody tr th {\n        vertical-align: top;\n    }\n\n    .dataframe thead th {\n        text-align: right;\n    }\n</style>\n<table border=\"1\" class=\"dataframe\">\n  <thead>\n    <tr style=\"text-align: right;\">\n      <th></th>\n      <th>title</th>\n      <th>synopsis</th>\n      <th>cluster</th>\n    </tr>\n  </thead>\n  <tbody>\n    <tr>\n      <th>0</th>\n      <td>Toy Story</td>\n      <td></td>\n      <td>2</td>\n    </tr>\n    <tr>\n      <th>1</th>\n      <td>Jumanji</td>\n      <td>roll the dice and unleash the excitement</td>\n      <td>2</td>\n    </tr>\n    <tr>\n      <th>2</th>\n      <td>Grumpier Old Men</td>\n      <td>still yelling  still fighting  still ready for...</td>\n      <td>0</td>\n    </tr>\n    <tr>\n      <th>3</th>\n      <td>Waiting to Exhale</td>\n      <td>friends are the people who let you be yourself...</td>\n      <td>0</td>\n    </tr>\n    <tr>\n      <th>4</th>\n      <td>Father of the Bride Part II</td>\n      <td>just when his world is back to normal    he s ...</td>\n      <td>2</td>\n    </tr>\n    <tr>\n      <th>...</th>\n      <td>...</td>\n      <td>...</td>\n      <td>...</td>\n    </tr>\n    <tr>\n      <th>1995</th>\n      <td>Tex</td>\n      <td></td>\n      <td>2</td>\n    </tr>\n    <tr>\n      <th>1996</th>\n      <td>Tron</td>\n      <td>a world inside the computer where man has neve...</td>\n      <td>2</td>\n    </tr>\n    <tr>\n      <th>1997</th>\n      <td>Swing Kids</td>\n      <td>in a world on the brink of war  you either mar...</td>\n      <td>2</td>\n    </tr>\n    <tr>\n      <th>1998</th>\n      <td>Halloween: H20</td>\n      <td>blood is thicker than water</td>\n      <td>2</td>\n    </tr>\n    <tr>\n      <th>1999</th>\n      <td>L.A. Story</td>\n      <td></td>\n      <td>2</td>\n    </tr>\n  </tbody>\n</table>\n<p>2000 rows × 3 columns</p>\n</div>"
     },
     "execution_count": 74,
     "metadata": {},
     "output_type": "execute_result"
    }
   ],
   "source": [
    "frame"
   ],
   "metadata": {
    "collapsed": false,
    "ExecuteTime": {
     "end_time": "2023-12-12T15:42:38.845927Z",
     "start_time": "2023-12-12T15:42:38.833149Z"
    }
   },
   "id": "79028f4e85f89564"
  },
  {
   "cell_type": "code",
   "execution_count": 75,
   "outputs": [],
   "source": [
    "data['cluster'] = frame['cluster']"
   ],
   "metadata": {
    "collapsed": false,
    "ExecuteTime": {
     "end_time": "2023-12-12T15:42:44.353163Z",
     "start_time": "2023-12-12T15:42:44.343115Z"
    }
   },
   "id": "62eef44287f0e6f7"
  },
  {
   "cell_type": "code",
   "execution_count": 76,
   "outputs": [
    {
     "data": {
      "text/plain": "6.280263157894736"
     },
     "execution_count": 76,
     "metadata": {},
     "output_type": "execute_result"
    }
   ],
   "source": [
    "data[data['cluster'] == 1]['vote_average'].mean()"
   ],
   "metadata": {
    "collapsed": false,
    "ExecuteTime": {
     "end_time": "2023-12-12T15:42:44.651913Z",
     "start_time": "2023-12-12T15:42:44.639038Z"
    }
   },
   "id": "e30ba7d1b4d8cb20"
  },
  {
   "cell_type": "code",
   "execution_count": 77,
   "outputs": [
    {
     "data": {
      "text/plain": "5.888000000000001"
     },
     "execution_count": 77,
     "metadata": {},
     "output_type": "execute_result"
    }
   ],
   "source": [
    "data[data['cluster'] == 3]['vote_average'].mean()"
   ],
   "metadata": {
    "collapsed": false,
    "ExecuteTime": {
     "end_time": "2023-12-12T15:42:45.861352Z",
     "start_time": "2023-12-12T15:42:45.847736Z"
    }
   },
   "id": "ae93f4bb0a91b178"
  },
  {
   "cell_type": "code",
   "execution_count": 78,
   "outputs": [
    {
     "data": {
      "text/plain": "6.3500000000000005"
     },
     "execution_count": 78,
     "metadata": {},
     "output_type": "execute_result"
    }
   ],
   "source": [
    "data[data['cluster'] == 0]['vote_average'].mean()"
   ],
   "metadata": {
    "collapsed": false,
    "ExecuteTime": {
     "end_time": "2023-12-12T15:42:46.471820Z",
     "start_time": "2023-12-12T15:42:46.457387Z"
    }
   },
   "id": "9466eaaa34f21569"
  },
  {
   "cell_type": "code",
   "execution_count": 79,
   "outputs": [
    {
     "data": {
      "text/plain": "455.38157894736844"
     },
     "execution_count": 79,
     "metadata": {},
     "output_type": "execute_result"
    }
   ],
   "source": [
    "data[data['cluster'] == 1]['vote_count'].mean()"
   ],
   "metadata": {
    "collapsed": false,
    "ExecuteTime": {
     "end_time": "2023-12-12T15:42:48.004102Z",
     "start_time": "2023-12-12T15:42:47.978446Z"
    }
   },
   "id": "b93f5f16a7b515b6"
  },
  {
   "cell_type": "markdown",
   "id": "18f7dcd4cb4857b3",
   "metadata": {},
   "source": [
    "**1.3** Recommend 3 movies that are closest to the movie Jumanji using cosine similarity "
   ]
  },
  {
   "cell_type": "code",
   "execution_count": 80,
   "id": "b0612b95044edc06",
   "metadata": {
    "ExecuteTime": {
     "end_time": "2023-12-12T15:42:52.754650Z",
     "start_time": "2023-12-12T15:42:52.738541Z"
    }
   },
   "outputs": [],
   "source": [
    "from sklearn.metrics.pairwise import cosine_similarity\n",
    "\n",
    "cosine_sim = cosine_similarity(tfidf_matrix, tfidf_matrix)"
   ]
  },
  {
   "cell_type": "code",
   "execution_count": 81,
   "id": "4737064059b32e58",
   "metadata": {
    "ExecuteTime": {
     "end_time": "2023-12-12T15:42:54.463981Z",
     "start_time": "2023-12-12T15:42:54.453386Z"
    }
   },
   "outputs": [
    {
     "name": "stdout",
     "output_type": "stream",
     "text": [
      "1404    Vegas Vacation\n",
      "1183     The Quiet Man\n",
      "983         Old Yeller\n",
      "Name: title, dtype: object\n"
     ]
    }
   ],
   "source": [
    "def get_recommendations(\n",
    "        title : str, \n",
    "        cosine_sim : np.array):\n",
    "    idx = indices[title]\n",
    "    sim_scores = list(enumerate(cosine_sim[idx]))\n",
    "    sim_scores = sorted(sim_scores, key = lambda x: x[1], reverse = True)\n",
    "    sim_scores = sim_scores[0:10]  \n",
    "    movie_indices = [i[0] for i in sim_scores]\n",
    "    return data['title'].iloc[movie_indices]\n",
    "\n",
    "print(\n",
    "    get_recommendations('Jumanji', \n",
    "                        cosine_sim = cosine_sim)[1:4]\n",
    ")"
   ]
  },
  {
   "cell_type": "markdown",
   "id": "9b5de4ca187b35a0",
   "metadata": {},
   "source": [
    "#### Problem 2\n",
    "\n",
    "We intend to analyze using a topic model based on LDA . Here, the max features of the TF -IDF vector are limited to 1000 and applied. Answer the questions below"
   ]
  },
  {
   "cell_type": "code",
   "execution_count": 82,
   "id": "2d0980981d68ec04",
   "metadata": {
    "ExecuteTime": {
     "end_time": "2023-12-12T15:43:19.671324Z",
     "start_time": "2023-12-12T15:43:19.362367Z"
    }
   },
   "outputs": [
    {
     "name": "stderr",
     "output_type": "stream",
     "text": [
      "[nltk_data] Downloading package punkt to\n",
      "[nltk_data]     /Users/junghunlee/nltk_data...\n",
      "[nltk_data]   Package punkt is already up-to-date!\n"
     ]
    }
   ],
   "source": [
    "import urllib.request\n",
    "import nltk\n",
    "nltk.download('punkt')\n",
    "from nltk.corpus import stopwords\n",
    "from nltk.stem import WordNetLemmatizer\n",
    "\n",
    "vectorizer = TfidfVectorizer(\n",
    "    stop_words = 'english', \n",
    "    max_features = 1000\n",
    ")\n",
    "X = vectorizer.fit_transform(synopses)"
   ]
  },
  {
   "cell_type": "markdown",
   "id": "77f2efd294728ceb",
   "metadata": {},
   "source": [
    "**2.1** Apply the topic model of the Sklearn library to find where the first document falls under topics 0 to 9. Apply (designate 10 topics , random state = 777, learning method = online, max iter = 5)"
   ]
  },
  {
   "cell_type": "code",
   "execution_count": 83,
   "id": "646798115b346c1e",
   "metadata": {
    "ExecuteTime": {
     "end_time": "2023-12-12T15:43:30.375513Z",
     "start_time": "2023-12-12T15:43:30.075162Z"
    }
   },
   "outputs": [
    {
     "name": "stdout",
     "output_type": "stream",
     "text": [
      "CPU times: user 294 ms, sys: 4.78 ms, total: 299 ms\n",
      "Wall time: 300 ms\n"
     ]
    }
   ],
   "source": [
    "from sklearn.decomposition import LatentDirichletAllocation\n",
    "\n",
    "lda_model = LatentDirichletAllocation(\n",
    "    n_components = 10,\n",
    "    learning_method = 'online',\n",
    "    random_state = 777,\n",
    "    max_iter = 5\n",
    ")\n",
    "\n",
    "%time lda_top = lda_model.fit_transform(X)"
   ]
  },
  {
   "cell_type": "code",
   "execution_count": 86,
   "id": "e047468e0d307992",
   "metadata": {
    "ExecuteTime": {
     "end_time": "2023-12-12T15:43:46.457552Z",
     "start_time": "2023-12-12T15:43:46.435452Z"
    }
   },
   "outputs": [
    {
     "data": {
      "text/plain": "array([0.23920994, 0.25978865, 0.24464509, 0.03662233, 0.03662233,\n       0.03662233, 0.03662233, 0.03662233, 0.03662233, 0.03662233])"
     },
     "execution_count": 86,
     "metadata": {},
     "output_type": "execute_result"
    }
   ],
   "source": [
    "lda_top[1]"
   ]
  },
  {
   "cell_type": "markdown",
   "id": "5f209874135cf494",
   "metadata": {},
   "source": [
    "The Topic of first document is index 9 and it's estimated value is about 0.6651"
   ]
  },
  {
   "cell_type": "markdown",
   "id": "a8b1b2de42580c53",
   "metadata": {},
   "source": [
    "**2.2** Print the top 5 words for each of the 10 topics"
   ]
  },
  {
   "cell_type": "code",
   "execution_count": 87,
   "id": "e9c9358ec3a04f5f",
   "metadata": {
    "ExecuteTime": {
     "end_time": "2023-12-12T15:43:52.607043Z",
     "start_time": "2023-12-12T15:43:52.580277Z"
    }
   },
   "outputs": [
    {
     "name": "stdout",
     "output_type": "stream",
     "text": [
      "Topic 1: [('just', 18.06), ('don', 12.09), ('got', 8.81), ('war', 8.71), ('power', 8.26)]\n",
      "Topic 2: [('time', 22.61), ('men', 11.08), ('new', 10.26), ('good', 9.53), ('adventure', 8.83)]\n",
      "Topic 3: [('murder', 11.15), ('believe', 7.54), ('lives', 7.5), ('action', 4.43), ('half', 4.37)]\n",
      "Topic 4: [('cop', 7.64), ('kill', 7.37), ('secret', 6.88), ('bad', 6.71), ('family', 6.64)]\n",
      "Topic 5: [('comedy', 17.8), ('live', 6.8), ('high', 4.98), ('love', 4.69), ('new', 4.5)]\n",
      "Topic 6: [('life', 11.7), ('romance', 8.35), ('night', 7.19), ('ready', 7.08), ('movie', 5.62)]\n",
      "Topic 7: [('story', 18.87), ('man', 12.02), ('make', 8.69), ('love', 8.1), ('woman', 7.87)]\n",
      "Topic 8: [('ll', 10.54), ('ve', 9.85), ('heart', 9.55), ('people', 8.87), ('best', 7.99)]\n",
      "Topic 9: [('true', 11.05), ('picture', 9.52), ('terror', 8.55), ('come', 7.33), ('rules', 6.52)]\n",
      "Topic 10: [('love', 18.01), ('way', 9.99), ('forever', 8.03), ('magic', 6.42), ('real', 6.11)]\n"
     ]
    }
   ],
   "source": [
    "terms = vectorizer.get_feature_names_out()\n",
    "\n",
    "def get_topics(components, feature_names, n = 5):\n",
    "    for idx, topic in enumerate(components):\n",
    "        print(\"Topic %d:\" % (idx+1), \n",
    "              [(feature_names[i], topic[i].round(2)) for i in topic.argsort()[:-n - 1:-1]])\n",
    "\n",
    "get_topics(lda_model.components_, terms)"
   ]
  },
  {
   "cell_type": "markdown",
   "id": "1370e9651108e7d2",
   "metadata": {},
   "source": [
    "**2.3** Use the show_perflexity function of the lecture notes to create a graph with the number of topic candidates from 2 to 30"
   ]
  },
  {
   "cell_type": "code",
   "execution_count": 88,
   "id": "60ebc4f54c941e3a",
   "metadata": {
    "ExecuteTime": {
     "end_time": "2023-12-12T15:51:38.381400Z",
     "start_time": "2023-12-12T15:51:38.363803Z"
    }
   },
   "outputs": [],
   "source": [
    "def show_perplexity(vectorizer, \n",
    "                    start = 1, \n",
    "                    end = 30, \n",
    "                    max_iter = 5, \n",
    "                    topic_word_prior = 0.1,\n",
    "                    doc_topic_prior = 1.0):\n",
    "    iter_num = []\n",
    "    per_value = []\n",
    "    plt.figure(figsize = (6, 4))\n",
    "    for i in range(start, end + 1):\n",
    "        lda = LatentDirichletAllocation(\n",
    "            n_components = i, max_iter = max_iter,\n",
    "            topic_word_prior = topic_word_prior,\n",
    "            doc_topic_prior = doc_topic_prior,\n",
    "            learning_method = 'batch',\n",
    "            n_jobs = -1,\n",
    "            random_state = 42)\n",
    "        lda.fit(vectorizer)\n",
    "        iter_num.append(i)\n",
    "        pv = lda.perplexity(vectorizer)\n",
    "        per_value.append(pv)\n",
    "        print(f'n_components: {i}, perplexity: {pv:0.3f}')\n",
    "\n",
    "    plt.plot(iter_num, per_value, 'g-')\n",
    "    plt.grid(False)\n",
    "    plt.title('perplexity', fontsize = 12, fontfamily = 'Serif')\n",
    "    plt.show()\n",
    "    return start + per_value.index(min(per_value))"
   ]
  },
  {
   "cell_type": "code",
   "execution_count": 89,
   "id": "7d1932aea20ff5f2",
   "metadata": {
    "ExecuteTime": {
     "end_time": "2023-12-12T15:51:45.057640Z",
     "start_time": "2023-12-12T15:51:39.493702Z"
    }
   },
   "outputs": [
    {
     "name": "stdout",
     "output_type": "stream",
     "text": [
      "n_components: 1, perplexity: 1480.384\n",
      "n_components: 2, perplexity: 2039.217\n",
      "n_components: 3, perplexity: 2541.254\n",
      "n_components: 4, perplexity: 3081.110\n",
      "n_components: 5, perplexity: 3563.137\n",
      "n_components: 6, perplexity: 4034.939\n",
      "n_components: 7, perplexity: 4515.030\n",
      "n_components: 8, perplexity: 4929.233\n",
      "n_components: 9, perplexity: 5393.236\n",
      "n_components: 10, perplexity: 5807.942\n",
      "n_components: 11, perplexity: 6224.302\n",
      "n_components: 12, perplexity: 6622.222\n",
      "n_components: 13, perplexity: 6991.685\n",
      "n_components: 14, perplexity: 7415.838\n",
      "n_components: 15, perplexity: 7737.628\n",
      "n_components: 16, perplexity: 8130.965\n",
      "n_components: 17, perplexity: 8414.312\n",
      "n_components: 18, perplexity: 8684.759\n",
      "n_components: 19, perplexity: 9001.703\n",
      "n_components: 20, perplexity: 9399.950\n",
      "n_components: 21, perplexity: 9727.385\n",
      "n_components: 22, perplexity: 10074.666\n",
      "n_components: 23, perplexity: 10443.607\n",
      "n_components: 24, perplexity: 10817.092\n",
      "n_components: 25, perplexity: 11162.700\n",
      "n_components: 26, perplexity: 11507.582\n",
      "n_components: 27, perplexity: 11917.967\n",
      "n_components: 28, perplexity: 12367.646\n",
      "n_components: 29, perplexity: 12781.995\n",
      "n_components: 30, perplexity: 13162.431\n"
     ]
    },
    {
     "data": {
      "text/plain": "<Figure size 600x400 with 1 Axes>",
      "image/png": "[encoded data removed]"
     },
     "metadata": {},
     "output_type": "display_data"
    },
    {
     "data": {
      "text/plain": "1"
     },
     "execution_count": 89,
     "metadata": {},
     "output_type": "execute_result"
    }
   ],
   "source": [
    "show_perplexity(X)"
   ]
  },
  {
   "cell_type": "code",
   "execution_count": null,
   "outputs": [],
   "source": [],
   "metadata": {
    "collapsed": false
   },
   "id": "ccea6ba36ecf174c"
  }
 ],
 "metadata": {
  "kernelspec": {
   "display_name": "Python 3 (ipykernel)",
   "language": "python",
   "name": "python3"
  },
  "language_info": {
   "codemirror_mode": {
    "name": "ipython",
    "version": 3
   },
   "file_extension": ".py",
   "mimetype": "text/x-python",
   "name": "python",
   "nbconvert_exporter": "python",
   "pygments_lexer": "ipython3",
   "version": "3.11.4"
  }
 },
 "nbformat": 4,
 "nbformat_minor": 5
}
