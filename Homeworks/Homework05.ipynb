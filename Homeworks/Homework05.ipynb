{
 "cells": [
  {
   "cell_type": "markdown",
   "source": [
    "### Text Mining Homework 5\n",
    "\n",
    "Regarding first 2,000 overviews of movie review data (movies_metadata.csv), after undergoing the following preprocessing, you want to do cluster analysis for movie titles. Create a TF-IDF vector using the method below and answer the questions below\n",
    "\n",
    "```\n",
    "[Preprocessing]\n",
    "[Step 1] Null Remove row with value\n",
    "[Step 2] Convert non-alphabetic characters to spaces\n",
    "[Step 3] Convert to lower case\n",
    "[Step 4] Create TF-IDF considering stopwords\n",
    "```"
   ],
   "metadata": {
    "collapsed": false
   },
   "id": "bdcd1cca39775b79"
  },
  {
   "cell_type": "markdown",
   "source": [
    "#### Problem 1\n",
    "\n",
    "Please answer the questions below regarding the movie [Jumanji]"
   ],
   "metadata": {
    "collapsed": false
   },
   "id": "8b48e4a814799b70"
  },
  {
   "cell_type": "code",
   "execution_count": null,
   "id": "initial_id",
   "metadata": {
    "collapsed": true
   },
   "outputs": [],
   "source": []
  },
  {
   "cell_type": "markdown",
   "source": [
    "**1.1**  Find how many movies are in the same cluster as the movie jumanji using Euclidean similarity and K-means (k=10) method."
   ],
   "metadata": {
    "collapsed": false
   },
   "id": "cb7d54196e30fcc4"
  },
  {
   "cell_type": "code",
   "execution_count": null,
   "outputs": [],
   "source": [],
   "metadata": {
    "collapsed": false
   },
   "id": "413bb18504a73530"
  },
  {
   "cell_type": "markdown",
   "source": [
    "**1.2** Find how many movies are in the same cluster as the movie Jumanji using Euclidean similarity and hierarchical clustering (ward, k=10) method."
   ],
   "metadata": {
    "collapsed": false
   },
   "id": "a9ab4a47fea4a901"
  },
  {
   "cell_type": "code",
   "execution_count": null,
   "outputs": [],
   "source": [],
   "metadata": {
    "collapsed": false
   },
   "id": "724776718210cf7e"
  },
  {
   "cell_type": "markdown",
   "source": [
    "**1.3** Recommend 3 movies that are closest to the movie Jumanji using cosine similarity "
   ],
   "metadata": {
    "collapsed": false
   },
   "id": "18f7dcd4cb4857b3"
  },
  {
   "cell_type": "code",
   "execution_count": null,
   "outputs": [],
   "source": [],
   "metadata": {
    "collapsed": false
   },
   "id": "b0612b95044edc06"
  },
  {
   "cell_type": "markdown",
   "source": [
    "#### Problem 2\n",
    "\n",
    "We intend to analyze using a topic model based on LDA . Here, the max features of the TF -IDF vector are limited to 1000 and applied. Answer the questions below"
   ],
   "metadata": {
    "collapsed": false
   },
   "id": "9b5de4ca187b35a0"
  },
  {
   "cell_type": "code",
   "execution_count": null,
   "outputs": [],
   "source": [],
   "metadata": {
    "collapsed": false
   },
   "id": "2d0980981d68ec04"
  },
  {
   "cell_type": "markdown",
   "source": [
    "**2.1** Apply the topic model of the Sklearn library to find where the first document falls under topics 0 to 9. Apply (designate 10 topics , random state = 777, running method = online, max iter = 5)"
   ],
   "metadata": {
    "collapsed": false
   },
   "id": "77f2efd294728ceb"
  },
  {
   "cell_type": "code",
   "execution_count": null,
   "outputs": [],
   "source": [],
   "metadata": {
    "collapsed": false
   },
   "id": "646798115b346c1e"
  },
  {
   "cell_type": "markdown",
   "source": [
    "**2.2** Print the top 5 words for each of the 10 topics"
   ],
   "metadata": {
    "collapsed": false
   },
   "id": "a8b1b2de42580c53"
  },
  {
   "cell_type": "code",
   "execution_count": null,
   "outputs": [],
   "source": [],
   "metadata": {
    "collapsed": false
   },
   "id": "e9c9358ec3a04f5f"
  },
  {
   "cell_type": "markdown",
   "source": [
    "**2.3** Use the show_perflexity function of the lecture notes to create a graph with the number of topic candidates from 2 to 30"
   ],
   "metadata": {
    "collapsed": false
   },
   "id": "1370e9651108e7d2"
  },
  {
   "cell_type": "code",
   "execution_count": null,
   "outputs": [],
   "source": [],
   "metadata": {
    "collapsed": false
   },
   "id": "60ebc4f54c941e3a"
  }
 ],
 "metadata": {
  "kernelspec": {
   "display_name": "Python 3",
   "language": "python",
   "name": "python3"
  },
  "language_info": {
   "codemirror_mode": {
    "name": "ipython",
    "version": 2
   },
   "file_extension": ".py",
   "mimetype": "text/x-python",
   "name": "python",
   "nbconvert_exporter": "python",
   "pygments_lexer": "ipython2",
   "version": "2.7.6"
  }
 },
 "nbformat": 4,
 "nbformat_minor": 5
}
