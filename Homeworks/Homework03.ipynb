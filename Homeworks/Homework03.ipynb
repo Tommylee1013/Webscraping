{
 "cells": [
  {
   "cell_type": "markdown",
   "source": [
    "### Text Mining Homework 3\n",
    "\n",
    "#### Problem 1\n",
    "\n",
    "Get the titles of the 1st, 100th, and 200th topics by collecting data from the teamblind website below. (Hint: use selenium)"
   ],
   "metadata": {
    "collapsed": false
   },
   "id": "fbf41345e5b073a1"
  },
  {
   "cell_type": "code",
   "execution_count": 21,
   "id": "initial_id",
   "metadata": {
    "collapsed": true,
    "ExecuteTime": {
     "end_time": "2023-10-24T16:28:08.508084Z",
     "start_time": "2023-10-24T16:24:14.787446Z"
    }
   },
   "outputs": [
    {
     "data": {
      "text/plain": "3470"
     },
     "execution_count": 21,
     "metadata": {},
     "output_type": "execute_result"
    }
   ],
   "source": [
    "from selenium import webdriver\n",
    "from bs4 import BeautifulSoup\n",
    "import time\n",
    "\n",
    "chrome_options = webdriver.ChromeOptions()\n",
    "driver = webdriver.Chrome(options = chrome_options)\n",
    "\n",
    "url = \"https://www.teamblind.com/topics/Industries/Financial-Services\"\n",
    "driver.get(url)\n",
    "SCROLL_PAUSE_SEC = 1\n",
    "last_height = driver.execute_script (\"return document.body.scrollHeight\") # Get the scroll height\n",
    "while True :\n",
    "    driver.execute_script (\"window.scrollTo (0, document.body.scrollHeight);\") # Scroll down to the end (mouse movement effect)\n",
    "    time.sleep(SCROLL_PAUSE_SEC) # wait 1 second\n",
    "    new_height = driver.execute_script(\"return document.body.scrollHeight\") # Get scroll height back after scrolling down\n",
    "    if new_height == last_height : break\n",
    "    last_height = new_height\n",
    "    \n",
    "html1 = driver.page_source\n",
    "soup = BeautifulSoup(html1, 'html.parser')\n",
    "title_list = soup.select(\"div.h_tit > strong\")\n",
    "len(title_list)"
   ]
  },
  {
   "cell_type": "code",
   "execution_count": 22,
   "outputs": [],
   "source": [
    "import re\n",
    "meaningful_title = []\n",
    "\n",
    "for i in title_list :\n",
    "    clean_text = re.sub(r'<.*?>', '', str(i))\n",
    "    meaningful_info = ' '.join(clean_text.split())\n",
    "    meaningful_title.append(meaningful_info)"
   ],
   "metadata": {
    "collapsed": false,
    "ExecuteTime": {
     "end_time": "2023-10-24T16:29:18.983665Z",
     "start_time": "2023-10-24T16:29:18.967142Z"
    }
   },
   "id": "1cc6fb08b4ee00a5"
  },
  {
   "cell_type": "code",
   "execution_count": 24,
   "outputs": [
    {
     "data": {
      "text/plain": "['Struggling to pass recruiter interviews',\n 'If you work for a finance company, is it true that you have to report your stock market trades to your company?',\n 'C++ deployment at HFT',\n 'How much should I rent out a place (monthly) worth 1M dollars?',\n 'Can you reinterview at JS?',\n 'Is joining Svb safe in this market ?',\n 'Don’t know if I can do fintech anymore',\n 'JP Morgan referral',\n 'Scotiabank Layoffs',\n 'link Can I get a referral to fidelity?']"
     },
     "execution_count": 24,
     "metadata": {},
     "output_type": "execute_result"
    }
   ],
   "source": [
    "meaningful_title[:10]"
   ],
   "metadata": {
    "collapsed": false,
    "ExecuteTime": {
     "end_time": "2023-10-24T16:29:24.432795Z",
     "start_time": "2023-10-24T16:29:24.420166Z"
    }
   },
   "id": "10318b86e819b995"
  },
  {
   "cell_type": "code",
   "execution_count": 27,
   "outputs": [
    {
     "name": "stdout",
     "output_type": "stream",
     "text": [
      "The first topic is \"Struggling to pass recruiter interviews\"\n"
     ]
    }
   ],
   "source": [
    "print(f'The first topic is \"{meaningful_title[0]}\"')"
   ],
   "metadata": {
    "collapsed": false,
    "ExecuteTime": {
     "end_time": "2023-10-24T16:30:38.455380Z",
     "start_time": "2023-10-24T16:30:38.443119Z"
    }
   },
   "id": "553c293e1b5f6d11"
  },
  {
   "cell_type": "code",
   "execution_count": 28,
   "outputs": [
    {
     "name": "stdout",
     "output_type": "stream",
     "text": [
      "The 100th topic is \"VC: Anybody know how Partner levels work at a16z?\"\n"
     ]
    }
   ],
   "source": [
    "print(f'The 100th topic is \"{meaningful_title[99]}\"')"
   ],
   "metadata": {
    "collapsed": false,
    "ExecuteTime": {
     "end_time": "2023-10-24T16:30:57.390228Z",
     "start_time": "2023-10-24T16:30:57.378950Z"
    }
   },
   "id": "954ae7505690ce99"
  },
  {
   "cell_type": "code",
   "execution_count": 29,
   "outputs": [
    {
     "name": "stdout",
     "output_type": "stream",
     "text": [
      "The 200th topic is \"Living pay check to pay check\"\n"
     ]
    }
   ],
   "source": [
    "print(f'The 200th topic is \"{meaningful_title[199]}\"')"
   ],
   "metadata": {
    "collapsed": false,
    "ExecuteTime": {
     "end_time": "2023-10-24T16:32:09.325449Z",
     "start_time": "2023-10-24T16:32:09.316265Z"
    }
   },
   "id": "4ef8802e16b25223"
  },
  {
   "cell_type": "markdown",
   "source": [
    "#### Problem 2\n",
    "\n",
    "Create a data frame with [title, url to detailed news] as variables for the top 4 education(교육) news among [social(사회)] section of NAVER news (https://news.naver.com/), and report the result."
   ],
   "metadata": {
    "collapsed": false
   },
   "id": "f0cce7061711a03c"
  },
  {
   "cell_type": "code",
   "execution_count": 68,
   "outputs": [],
   "source": [
    "driver = webdriver.Chrome(options=chrome_options)\n",
    "# Extract\n",
    "from bs4 import BeautifulSoup\n",
    "import requests\n",
    "import re\n",
    "\n",
    "news_site = \"https://news.naver.com/main/main.naver?mode=LSD&mid=shm&sid1=\"\n",
    "url_section = ['102']\n",
    "\n",
    "title_list_all = []\n",
    "url_list_all = []\n",
    "news_stories_all =[]\n",
    "\n",
    "for url_i in url_section:\n",
    "    driver.get(news_site + url_i + '&sid2=250') # Section-based news list\n",
    "    html1 = driver.page_source\n",
    "    soup1 = BeautifulSoup(html1, 'html.parser')\n",
    "    titles1 = soup1.select(\".sh_text>a\")\n",
    "    title_list1 = []\n",
    "    url_list1 = []\n",
    "    for title1 in titles1:\n",
    "        text1 = title1.text\n",
    "        text2 = re.sub('\\\\|\\n', '', text1)\n",
    "        title_list1.append(text2)\n",
    "        url_list1.append(title1[\"href\"])\n",
    "        news_stories =[]\n",
    "        for url_j in url_list1:\n",
    "            driver.get(url_j)\n",
    "            html_j = driver.page_source\n",
    "            soup_j = BeautifulSoup(html_j, \"html.parser\")\n",
    "            string0 = soup_j.select(\"div#newsct_article\") # news contents in the linked articles\n",
    "            strings = \" \".join(map(str, string0)) # list into string\n",
    "            string1 = re.sub('<script.*?>.*?</script>', '', strings, 0, re.I|re.S) # remove contents in script\n",
    "            string2 = re.sub('<.+?>', '', string1, 0, re.I|re.S) # remove tags and annotations\n",
    "            storys = re.sub('\\t|\\r|\\n|\\.|//|\\{|\\}|', '', string2) # remove unnecessary symbols\n",
    "            news_stories.append(storys)\n",
    "        title_list_all.append(title_list1)\n",
    "        url_list_all.append(url_list1)\n",
    "        news_stories_all.append(news_stories)"
   ],
   "metadata": {
    "collapsed": false,
    "ExecuteTime": {
     "end_time": "2023-10-24T17:23:38.828133Z",
     "start_time": "2023-10-24T17:23:12.997112Z"
    }
   },
   "id": "9048a2011ded3a8"
  },
  {
   "cell_type": "code",
   "execution_count": 69,
   "outputs": [
    {
     "data": {
      "text/plain": "[['서울대 총장 \"조민 입학 취소되면 장학금 802만원 환수 요청\"',\n  'B.A.P 힘찬, 강제추행 재판 중 또 성범죄…피해자 측 \"합의없어\"',\n  '[속보] 민주노총 \"회계 공시 동참\"…중앙집행위서 결정',\n  '\"\\'이재명 위증교사\\' 왜 묶나, 사유 밝혀라\" 재판부 배당 때린 與',\n  \" 도로 위 숨진 택시기사와 공항서 발견된 빈 택시…'마지막 승객' 태국서 체포[Pick]\",\n  '경기도, 26일 시내버스 총파업 대비 ‘비상 수송대책’ 마련',\n  '대학교 캠퍼스에 “액상 대마 팝니다” 광고 카드 뿌린 40대 검거',\n  '\"여친 죽이겠다\" 13차례 허위신고…파출소서 난동도 부린 40대 실형',\n  '日 인구전문가 “저출생…가장 큰 걸림돌은 체면”',\n  '\"조두순 같은 성범죄자, 출소해도 집 아닌 국가 시설로\"'],\n ['서울대 총장 \"조민 입학 취소되면 장학금 802만원 환수 요청\"',\n  'B.A.P 힘찬, 강제추행 재판 중 또 성범죄…피해자 측 \"합의없어\"',\n  '[속보] 민주노총 \"회계 공시 동참\"…중앙집행위서 결정',\n  '\"\\'이재명 위증교사\\' 왜 묶나, 사유 밝혀라\" 재판부 배당 때린 與',\n  \" 도로 위 숨진 택시기사와 공항서 발견된 빈 택시…'마지막 승객' 태국서 체포[Pick]\",\n  '경기도, 26일 시내버스 총파업 대비 ‘비상 수송대책’ 마련',\n  '대학교 캠퍼스에 “액상 대마 팝니다” 광고 카드 뿌린 40대 검거',\n  '\"여친 죽이겠다\" 13차례 허위신고…파출소서 난동도 부린 40대 실형',\n  '日 인구전문가 “저출생…가장 큰 걸림돌은 체면”',\n  '\"조두순 같은 성범죄자, 출소해도 집 아닌 국가 시설로\"'],\n ['서울대 총장 \"조민 입학 취소되면 장학금 802만원 환수 요청\"',\n  'B.A.P 힘찬, 강제추행 재판 중 또 성범죄…피해자 측 \"합의없어\"',\n  '[속보] 민주노총 \"회계 공시 동참\"…중앙집행위서 결정',\n  '\"\\'이재명 위증교사\\' 왜 묶나, 사유 밝혀라\" 재판부 배당 때린 與',\n  \" 도로 위 숨진 택시기사와 공항서 발견된 빈 택시…'마지막 승객' 태국서 체포[Pick]\",\n  '경기도, 26일 시내버스 총파업 대비 ‘비상 수송대책’ 마련',\n  '대학교 캠퍼스에 “액상 대마 팝니다” 광고 카드 뿌린 40대 검거',\n  '\"여친 죽이겠다\" 13차례 허위신고…파출소서 난동도 부린 40대 실형',\n  '日 인구전문가 “저출생…가장 큰 걸림돌은 체면”',\n  '\"조두순 같은 성범죄자, 출소해도 집 아닌 국가 시설로\"'],\n ['서울대 총장 \"조민 입학 취소되면 장학금 802만원 환수 요청\"',\n  'B.A.P 힘찬, 강제추행 재판 중 또 성범죄…피해자 측 \"합의없어\"',\n  '[속보] 민주노총 \"회계 공시 동참\"…중앙집행위서 결정',\n  '\"\\'이재명 위증교사\\' 왜 묶나, 사유 밝혀라\" 재판부 배당 때린 與',\n  \" 도로 위 숨진 택시기사와 공항서 발견된 빈 택시…'마지막 승객' 태국서 체포[Pick]\",\n  '경기도, 26일 시내버스 총파업 대비 ‘비상 수송대책’ 마련',\n  '대학교 캠퍼스에 “액상 대마 팝니다” 광고 카드 뿌린 40대 검거',\n  '\"여친 죽이겠다\" 13차례 허위신고…파출소서 난동도 부린 40대 실형',\n  '日 인구전문가 “저출생…가장 큰 걸림돌은 체면”',\n  '\"조두순 같은 성범죄자, 출소해도 집 아닌 국가 시설로\"'],\n ['서울대 총장 \"조민 입학 취소되면 장학금 802만원 환수 요청\"',\n  'B.A.P 힘찬, 강제추행 재판 중 또 성범죄…피해자 측 \"합의없어\"',\n  '[속보] 민주노총 \"회계 공시 동참\"…중앙집행위서 결정',\n  '\"\\'이재명 위증교사\\' 왜 묶나, 사유 밝혀라\" 재판부 배당 때린 與',\n  \" 도로 위 숨진 택시기사와 공항서 발견된 빈 택시…'마지막 승객' 태국서 체포[Pick]\",\n  '경기도, 26일 시내버스 총파업 대비 ‘비상 수송대책’ 마련',\n  '대학교 캠퍼스에 “액상 대마 팝니다” 광고 카드 뿌린 40대 검거',\n  '\"여친 죽이겠다\" 13차례 허위신고…파출소서 난동도 부린 40대 실형',\n  '日 인구전문가 “저출생…가장 큰 걸림돌은 체면”',\n  '\"조두순 같은 성범죄자, 출소해도 집 아닌 국가 시설로\"'],\n ['서울대 총장 \"조민 입학 취소되면 장학금 802만원 환수 요청\"',\n  'B.A.P 힘찬, 강제추행 재판 중 또 성범죄…피해자 측 \"합의없어\"',\n  '[속보] 민주노총 \"회계 공시 동참\"…중앙집행위서 결정',\n  '\"\\'이재명 위증교사\\' 왜 묶나, 사유 밝혀라\" 재판부 배당 때린 與',\n  \" 도로 위 숨진 택시기사와 공항서 발견된 빈 택시…'마지막 승객' 태국서 체포[Pick]\",\n  '경기도, 26일 시내버스 총파업 대비 ‘비상 수송대책’ 마련',\n  '대학교 캠퍼스에 “액상 대마 팝니다” 광고 카드 뿌린 40대 검거',\n  '\"여친 죽이겠다\" 13차례 허위신고…파출소서 난동도 부린 40대 실형',\n  '日 인구전문가 “저출생…가장 큰 걸림돌은 체면”',\n  '\"조두순 같은 성범죄자, 출소해도 집 아닌 국가 시설로\"'],\n ['서울대 총장 \"조민 입학 취소되면 장학금 802만원 환수 요청\"',\n  'B.A.P 힘찬, 강제추행 재판 중 또 성범죄…피해자 측 \"합의없어\"',\n  '[속보] 민주노총 \"회계 공시 동참\"…중앙집행위서 결정',\n  '\"\\'이재명 위증교사\\' 왜 묶나, 사유 밝혀라\" 재판부 배당 때린 與',\n  \" 도로 위 숨진 택시기사와 공항서 발견된 빈 택시…'마지막 승객' 태국서 체포[Pick]\",\n  '경기도, 26일 시내버스 총파업 대비 ‘비상 수송대책’ 마련',\n  '대학교 캠퍼스에 “액상 대마 팝니다” 광고 카드 뿌린 40대 검거',\n  '\"여친 죽이겠다\" 13차례 허위신고…파출소서 난동도 부린 40대 실형',\n  '日 인구전문가 “저출생…가장 큰 걸림돌은 체면”',\n  '\"조두순 같은 성범죄자, 출소해도 집 아닌 국가 시설로\"'],\n ['서울대 총장 \"조민 입학 취소되면 장학금 802만원 환수 요청\"',\n  'B.A.P 힘찬, 강제추행 재판 중 또 성범죄…피해자 측 \"합의없어\"',\n  '[속보] 민주노총 \"회계 공시 동참\"…중앙집행위서 결정',\n  '\"\\'이재명 위증교사\\' 왜 묶나, 사유 밝혀라\" 재판부 배당 때린 與',\n  \" 도로 위 숨진 택시기사와 공항서 발견된 빈 택시…'마지막 승객' 태국서 체포[Pick]\",\n  '경기도, 26일 시내버스 총파업 대비 ‘비상 수송대책’ 마련',\n  '대학교 캠퍼스에 “액상 대마 팝니다” 광고 카드 뿌린 40대 검거',\n  '\"여친 죽이겠다\" 13차례 허위신고…파출소서 난동도 부린 40대 실형',\n  '日 인구전문가 “저출생…가장 큰 걸림돌은 체면”',\n  '\"조두순 같은 성범죄자, 출소해도 집 아닌 국가 시설로\"'],\n ['서울대 총장 \"조민 입학 취소되면 장학금 802만원 환수 요청\"',\n  'B.A.P 힘찬, 강제추행 재판 중 또 성범죄…피해자 측 \"합의없어\"',\n  '[속보] 민주노총 \"회계 공시 동참\"…중앙집행위서 결정',\n  '\"\\'이재명 위증교사\\' 왜 묶나, 사유 밝혀라\" 재판부 배당 때린 與',\n  \" 도로 위 숨진 택시기사와 공항서 발견된 빈 택시…'마지막 승객' 태국서 체포[Pick]\",\n  '경기도, 26일 시내버스 총파업 대비 ‘비상 수송대책’ 마련',\n  '대학교 캠퍼스에 “액상 대마 팝니다” 광고 카드 뿌린 40대 검거',\n  '\"여친 죽이겠다\" 13차례 허위신고…파출소서 난동도 부린 40대 실형',\n  '日 인구전문가 “저출생…가장 큰 걸림돌은 체면”',\n  '\"조두순 같은 성범죄자, 출소해도 집 아닌 국가 시설로\"'],\n ['서울대 총장 \"조민 입학 취소되면 장학금 802만원 환수 요청\"',\n  'B.A.P 힘찬, 강제추행 재판 중 또 성범죄…피해자 측 \"합의없어\"',\n  '[속보] 민주노총 \"회계 공시 동참\"…중앙집행위서 결정',\n  '\"\\'이재명 위증교사\\' 왜 묶나, 사유 밝혀라\" 재판부 배당 때린 與',\n  \" 도로 위 숨진 택시기사와 공항서 발견된 빈 택시…'마지막 승객' 태국서 체포[Pick]\",\n  '경기도, 26일 시내버스 총파업 대비 ‘비상 수송대책’ 마련',\n  '대학교 캠퍼스에 “액상 대마 팝니다” 광고 카드 뿌린 40대 검거',\n  '\"여친 죽이겠다\" 13차례 허위신고…파출소서 난동도 부린 40대 실형',\n  '日 인구전문가 “저출생…가장 큰 걸림돌은 체면”',\n  '\"조두순 같은 성범죄자, 출소해도 집 아닌 국가 시설로\"']]"
     },
     "execution_count": 69,
     "metadata": {},
     "output_type": "execute_result"
    }
   ],
   "source": [
    "title_list_all"
   ],
   "metadata": {
    "collapsed": false,
    "ExecuteTime": {
     "end_time": "2023-10-24T17:23:40.717609Z",
     "start_time": "2023-10-24T17:23:40.707799Z"
    }
   },
   "id": "87d44b08176891ff"
  },
  {
   "cell_type": "code",
   "execution_count": 60,
   "outputs": [],
   "source": [
    "news_list = zip(title_list, url_list)\n",
    "news_info_list = []\n",
    "for news in news_list:\n",
    "    news_dict = {\n",
    "    \"title\": news[0],\n",
    "    \" url \": news[1]\n",
    "    }\n",
    "    news_info_list.append(news_dict)"
   ],
   "metadata": {
    "collapsed": false,
    "ExecuteTime": {
     "end_time": "2023-10-24T17:18:09.405163Z",
     "start_time": "2023-10-24T17:18:09.392234Z"
    }
   },
   "id": "4770b5e0d84278e1"
  },
  {
   "cell_type": "code",
   "execution_count": 56,
   "outputs": [
    {
     "data": {
      "text/plain": "                                                title  \\\n0   편집국장-기자 갈등 커지는 한국경제에서 무슨 일이?\"디지털 전환 제대로 하려면 지면...   \n1   동영상재생시간01:43[단독]‘메타버스 한국’ 7억 쏟아붓고 한 달 방문 달랑 9명...   \n2   동영상재생시간03:04전라북도 국감 고성 난무 \"책임 져\" VS\"못 져\"◀앵커▶ 전...   \n3   혼술 인기 안주 '은행꼬치구이', 잘못 먹으면 쇼크 온다프라이팬에 기름을 두른 뒤,...   \n4   서울대 총장 \"조민 입학 취소되면 장학금 802만원 환수 요청\"서울대는 조국 전 법...   \n..                                                ...   \n77  운전기사 자청한 빈살만, 尹에 “다음엔 사우디 생산 현대차 함께 타길”예정 없이 숙...   \n78  [단독] \"김일성, 이승만 70만軍 지원했다\"뉴라이트 안병직 발언 '파문'안병직 서...   \n79  체임 노동자 숨통 틔울 ‘대지급금’ 부산 지급률 유독 낮다- 부산 체불 663억 작...   \n80  바람 잘 날 없는 에코프로이번엔 前 회장 ‘주식 증발’이동채 전 에코프로그룹 회장은...   \n81  고금리 세상, 서민의 비명과 은행의 즐거운 비명 [SCOOP 관점]# 고금리 세상의...   \n\n                                               url   \n0   https://n.news.naver.com/article/006/0000120459  \n1   https://n.news.naver.com/article/449/0000260258  \n2   https://n.news.naver.com/article/659/0000015889  \n3   https://n.news.naver.com/article/119/0002761650  \n4   https://n.news.naver.com/article/029/0002832517  \n..                                              ...  \n77  https://n.news.naver.com/article/023/0003795199  \n78  https://n.news.naver.com/article/629/0000245426  \n79  https://n.news.naver.com/article/658/0000056178  \n80  https://n.news.naver.com/article/050/0000069058  \n81  https://n.news.naver.com/article/665/0000001841  \n\n[82 rows x 2 columns]",
      "text/html": "<div>\n<style scoped>\n    .dataframe tbody tr th:only-of-type {\n        vertical-align: middle;\n    }\n\n    .dataframe tbody tr th {\n        vertical-align: top;\n    }\n\n    .dataframe thead th {\n        text-align: right;\n    }\n</style>\n<table border=\"1\" class=\"dataframe\">\n  <thead>\n    <tr style=\"text-align: right;\">\n      <th></th>\n      <th>title</th>\n      <th>url</th>\n    </tr>\n  </thead>\n  <tbody>\n    <tr>\n      <th>0</th>\n      <td>편집국장-기자 갈등 커지는 한국경제에서 무슨 일이?\"디지털 전환 제대로 하려면 지면...</td>\n      <td>https://n.news.naver.com/article/006/0000120459</td>\n    </tr>\n    <tr>\n      <th>1</th>\n      <td>동영상재생시간01:43[단독]‘메타버스 한국’ 7억 쏟아붓고 한 달 방문 달랑 9명...</td>\n      <td>https://n.news.naver.com/article/449/0000260258</td>\n    </tr>\n    <tr>\n      <th>2</th>\n      <td>동영상재생시간03:04전라북도 국감 고성 난무 \"책임 져\" VS\"못 져\"◀앵커▶ 전...</td>\n      <td>https://n.news.naver.com/article/659/0000015889</td>\n    </tr>\n    <tr>\n      <th>3</th>\n      <td>혼술 인기 안주 '은행꼬치구이', 잘못 먹으면 쇼크 온다프라이팬에 기름을 두른 뒤,...</td>\n      <td>https://n.news.naver.com/article/119/0002761650</td>\n    </tr>\n    <tr>\n      <th>4</th>\n      <td>서울대 총장 \"조민 입학 취소되면 장학금 802만원 환수 요청\"서울대는 조국 전 법...</td>\n      <td>https://n.news.naver.com/article/029/0002832517</td>\n    </tr>\n    <tr>\n      <th>...</th>\n      <td>...</td>\n      <td>...</td>\n    </tr>\n    <tr>\n      <th>77</th>\n      <td>운전기사 자청한 빈살만, 尹에 “다음엔 사우디 생산 현대차 함께 타길”예정 없이 숙...</td>\n      <td>https://n.news.naver.com/article/023/0003795199</td>\n    </tr>\n    <tr>\n      <th>78</th>\n      <td>[단독] \"김일성, 이승만 70만軍 지원했다\"뉴라이트 안병직 발언 '파문'안병직 서...</td>\n      <td>https://n.news.naver.com/article/629/0000245426</td>\n    </tr>\n    <tr>\n      <th>79</th>\n      <td>체임 노동자 숨통 틔울 ‘대지급금’ 부산 지급률 유독 낮다- 부산 체불 663억 작...</td>\n      <td>https://n.news.naver.com/article/658/0000056178</td>\n    </tr>\n    <tr>\n      <th>80</th>\n      <td>바람 잘 날 없는 에코프로이번엔 前 회장 ‘주식 증발’이동채 전 에코프로그룹 회장은...</td>\n      <td>https://n.news.naver.com/article/050/0000069058</td>\n    </tr>\n    <tr>\n      <th>81</th>\n      <td>고금리 세상, 서민의 비명과 은행의 즐거운 비명 [SCOOP 관점]# 고금리 세상의...</td>\n      <td>https://n.news.naver.com/article/665/0000001841</td>\n    </tr>\n  </tbody>\n</table>\n<p>82 rows × 2 columns</p>\n</div>"
     },
     "execution_count": 56,
     "metadata": {},
     "output_type": "execute_result"
    }
   ],
   "source": [
    "import pandas as pd\n",
    "pd.DataFrame(news_info_list)"
   ],
   "metadata": {
    "collapsed": false,
    "ExecuteTime": {
     "end_time": "2023-10-24T17:13:50.423685Z",
     "start_time": "2023-10-24T17:13:50.413752Z"
    }
   },
   "id": "d325899f9361c1ae"
  },
  {
   "cell_type": "code",
   "execution_count": null,
   "outputs": [],
   "source": [],
   "metadata": {
    "collapsed": false
   },
   "id": "2509c91937c79085"
  }
 ],
 "metadata": {
  "kernelspec": {
   "display_name": "Python 3",
   "language": "python",
   "name": "python3"
  },
  "language_info": {
   "codemirror_mode": {
    "name": "ipython",
    "version": 2
   },
   "file_extension": ".py",
   "mimetype": "text/x-python",
   "name": "python",
   "nbconvert_exporter": "python",
   "pygments_lexer": "ipython2",
   "version": "2.7.6"
  }
 },
 "nbformat": 4,
 "nbformat_minor": 5
}
