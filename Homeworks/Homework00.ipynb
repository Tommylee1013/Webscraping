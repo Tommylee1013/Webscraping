{
 "cells": [
  {
   "cell_type": "markdown",
   "source": [
    "### Text Mining HW0\n",
    "\n",
    "( Please write and submit the Python code and result together)\n",
    "\n",
    "#### Problem 1\n",
    "\n",
    "It's a new semester and I'm going to buy a new stationery. Let's say the stationery purchase list contains the following stationery: \n",
    "\n",
    "Stationery Buy List: `{ pencil case, marker pen , pencil sharpener }` \n",
    "\n",
    "Here, if it is located at the far left of the list, it is ranked 1 , Let's assume that the ranking is pushed in turn as you move to the right. In other words, { pencil case} is ranked first , { sign pen } is ranked second , and { pencil sharpener } is ranked third . Assume that when a new phrase is added to or deleted from the phrase purchase list, the ranking automatically changes due to a location change. If you want to continue purchasing the phrase by adding, selecting, or deleting the phrase purchase list, print the [1] code and [2] the result of executing the following commands in sequence using Python ."
   ],
   "metadata": {
    "collapsed": false
   },
   "id": "527eea671e942c85"
  },
  {
   "cell_type": "code",
   "execution_count": 11,
   "outputs": [],
   "source": [
    "buyList = ['pencil case',' marker pen', 'pencil sharpener']"
   ],
   "metadata": {
    "collapsed": false,
    "ExecuteTime": {
     "end_time": "2023-09-07T02:24:22.637469Z",
     "start_time": "2023-09-07T02:24:22.614007Z"
    }
   },
   "id": "f68b32c22b488d03"
  },
  {
   "cell_type": "markdown",
   "source": [
    "(1) Add { eraser } as 4th priority."
   ],
   "metadata": {
    "collapsed": false
   },
   "id": "ab2ed30ec5330bc8"
  },
  {
   "cell_type": "code",
   "execution_count": 12,
   "id": "initial_id",
   "metadata": {
    "collapsed": true,
    "ExecuteTime": {
     "end_time": "2023-09-07T02:24:22.644931Z",
     "start_time": "2023-09-07T02:24:22.618147Z"
    }
   },
   "outputs": [
    {
     "data": {
      "text/plain": "['pencil case', ' marker pen', 'pencil sharpener', 'eraser']"
     },
     "execution_count": 12,
     "metadata": {},
     "output_type": "execute_result"
    }
   ],
   "source": [
    "buyList.append('eraser')\n",
    "buyList"
   ]
  },
  {
   "cell_type": "markdown",
   "source": [
    "(2) Delete { pencil sharpener } from the stationery purchase list ."
   ],
   "metadata": {
    "collapsed": false
   },
   "id": "c5925330833c0a39"
  },
  {
   "cell_type": "code",
   "execution_count": 13,
   "outputs": [
    {
     "data": {
      "text/plain": "['pencil case', ' marker pen', 'eraser']"
     },
     "execution_count": 13,
     "metadata": {},
     "output_type": "execute_result"
    }
   ],
   "source": [
    "buyList.remove('pencil sharpener')\n",
    "buyList"
   ],
   "metadata": {
    "collapsed": false,
    "ExecuteTime": {
     "end_time": "2023-09-07T02:24:22.648574Z",
     "start_time": "2023-09-07T02:24:22.622810Z"
    }
   },
   "id": "b75f3585667e5c7e"
  },
  {
   "cell_type": "markdown",
   "source": [
    "(3) Add { ink pen } as the third priority."
   ],
   "metadata": {
    "collapsed": false
   },
   "id": "7cb80b615d56f960"
  },
  {
   "cell_type": "code",
   "execution_count": 14,
   "outputs": [
    {
     "data": {
      "text/plain": "['pencil case', ' marker pen', 'ink pen', 'eraser']"
     },
     "execution_count": 14,
     "metadata": {},
     "output_type": "execute_result"
    }
   ],
   "source": [
    "buyList.insert(2, 'ink pen')\n",
    "buyList"
   ],
   "metadata": {
    "collapsed": false,
    "ExecuteTime": {
     "end_time": "2023-09-07T02:24:22.677584Z",
     "start_time": "2023-09-07T02:24:22.626783Z"
    }
   },
   "id": "b457802ba1c0db9c"
  },
  {
   "cell_type": "markdown",
   "source": [
    "(4) Finally, find the number of { ink pen } in the stationery purchase list . (Hint) Using a list"
   ],
   "metadata": {
    "collapsed": false
   },
   "id": "a6679ee0d29b4ee7"
  },
  {
   "cell_type": "code",
   "execution_count": 15,
   "outputs": [
    {
     "data": {
      "text/plain": "2"
     },
     "execution_count": 15,
     "metadata": {},
     "output_type": "execute_result"
    }
   ],
   "source": [
    "buyList.index('ink pen')"
   ],
   "metadata": {
    "collapsed": false,
    "ExecuteTime": {
     "end_time": "2023-09-07T02:26:26.030442Z",
     "start_time": "2023-09-07T02:26:26.023027Z"
    }
   },
   "id": "16512fc6f59b70cc"
  },
  {
   "cell_type": "markdown",
   "source": [
    "#### Problem 2\n",
    "\n",
    "The title of the movie 007 series and box office : millions of dollars data were prepared as follows . {For Your Eyes Only : 449.4 , Skyfall : 943.5, Die Another Day : 465.4, A View to a Kill: 275.2 }. If you want to continue creating data by selecting, adding or deleting this data , print the [1] code and [2] the result of executing the following commands in sequence using Python"
   ],
   "metadata": {
    "collapsed": false
   },
   "id": "273221aaf3379439"
  },
  {
   "cell_type": "code",
   "execution_count": null,
   "outputs": [],
   "source": [
    "boxOffice = "
   ],
   "metadata": {
    "collapsed": false
   },
   "id": "36baf65048ce578a"
  },
  {
   "cell_type": "markdown",
   "source": [
    "(1) Add { Specter : 725.5}"
   ],
   "metadata": {
    "collapsed": false
   },
   "id": "8cc9ee6d304368e6"
  },
  {
   "cell_type": "code",
   "execution_count": null,
   "outputs": [],
   "source": [],
   "metadata": {
    "collapsed": false
   },
   "id": "1fafea3eee72be53"
  },
  {
   "cell_type": "markdown",
   "source": [
    "(2) Replace {For Your Eyes Only : 449.4 } with { Golden Eye : 518.5 } which performed better at box office"
   ],
   "metadata": {
    "collapsed": false
   },
   "id": "823efddf968cd614"
  },
  {
   "cell_type": "code",
   "execution_count": null,
   "outputs": [],
   "source": [],
   "metadata": {
    "collapsed": false
   },
   "id": "6a68c9f12054a622"
  },
  {
   "cell_type": "markdown",
   "source": [
    "(3) Delete { A View to a Kill: 275.2}"
   ],
   "metadata": {
    "collapsed": false
   },
   "id": "d21decde398e7562"
  },
  {
   "cell_type": "code",
   "execution_count": null,
   "outputs": [],
   "source": [],
   "metadata": {
    "collapsed": false
   },
   "id": "f699227e963cd727"
  },
  {
   "cell_type": "markdown",
   "source": [
    "(4) Outputs the box office performance of {Skyfall }"
   ],
   "metadata": {
    "collapsed": false
   },
   "id": "a75d427875f1ad7b"
  },
  {
   "cell_type": "code",
   "execution_count": null,
   "outputs": [],
   "source": [],
   "metadata": {
    "collapsed": false
   },
   "id": "e391d22ef7cd2fc3"
  },
  {
   "cell_type": "markdown",
   "source": [
    "(5) Summing up the box office (millions of dollars) of all movies included in the data . (Hint) Using a dictionary"
   ],
   "metadata": {
    "collapsed": false
   },
   "id": "15f730ccdef51a06"
  },
  {
   "cell_type": "code",
   "execution_count": null,
   "outputs": [],
   "source": [],
   "metadata": {
    "collapsed": false
   },
   "id": "c544e77bf7d7685a"
  }
 ],
 "metadata": {
  "kernelspec": {
   "display_name": "Python 3",
   "language": "python",
   "name": "python3"
  },
  "language_info": {
   "codemirror_mode": {
    "name": "ipython",
    "version": 2
   },
   "file_extension": ".py",
   "mimetype": "text/x-python",
   "name": "python",
   "nbconvert_exporter": "python",
   "pygments_lexer": "ipython2",
   "version": "2.7.6"
  }
 },
 "nbformat": 4,
 "nbformat_minor": 5
}
