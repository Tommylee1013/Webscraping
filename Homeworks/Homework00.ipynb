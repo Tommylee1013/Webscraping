{
 "cells": [
  {
   "cell_type": "markdown",
   "source": [
    "### Text Mining HW0\n",
    "\n",
    "( Please write and submit the Python code and result together)\n",
    "\n",
    "#### Problem 1\n",
    "\n",
    "It's a new semester and I'm going to buy a new stationery. Let's say the stationery purchase list contains the following stationery: \n",
    "\n",
    "Stationery Buy List: `{ pencil case, marker pen , pencil sharpener }` \n",
    "\n",
    "Here, if it is located at the far left of the list, it is ranked 1 , Let's assume that the ranking is pushed in turn as you move to the right. In other words, { pencil case} is ranked first , { sign pen } is ranked second , and { pencil sharpener } is ranked third . Assume that when a new phrase is added to or deleted from the phrase purchase list, the ranking automatically changes due to a location change. If you want to continue purchasing the phrase by adding, selecting, or deleting the phrase purchase list, print the [1] code and [2] the result of executing the following commands in sequence using Python ."
   ],
   "metadata": {
    "collapsed": false
   },
   "id": "527eea671e942c85"
  },
  {
   "cell_type": "code",
   "execution_count": 1,
   "outputs": [],
   "source": [
    "buyList = ['pencil case', ' marker pen', 'pencil sharpener']"
   ],
   "metadata": {
    "collapsed": false,
    "ExecuteTime": {
     "end_time": "2023-09-07T12:30:35.067183Z",
     "start_time": "2023-09-07T12:30:35.051804Z"
    }
   },
   "id": "f68b32c22b488d03"
  },
  {
   "cell_type": "markdown",
   "source": [
    "(1) Add { eraser } as 4th priority."
   ],
   "metadata": {
    "collapsed": false
   },
   "id": "ab2ed30ec5330bc8"
  },
  {
   "cell_type": "code",
   "execution_count": 2,
   "id": "initial_id",
   "metadata": {
    "collapsed": true,
    "ExecuteTime": {
     "end_time": "2023-09-07T12:30:35.067454Z",
     "start_time": "2023-09-07T12:30:35.056599Z"
    }
   },
   "outputs": [
    {
     "data": {
      "text/plain": "['pencil case', ' marker pen', 'pencil sharpener', 'eraser']"
     },
     "execution_count": 2,
     "metadata": {},
     "output_type": "execute_result"
    }
   ],
   "source": [
    "buyList.append('eraser')\n",
    "buyList"
   ]
  },
  {
   "cell_type": "markdown",
   "source": [
    "(2) Delete { pencil sharpener } from the stationery purchase list ."
   ],
   "metadata": {
    "collapsed": false
   },
   "id": "c5925330833c0a39"
  },
  {
   "cell_type": "code",
   "execution_count": 3,
   "outputs": [
    {
     "data": {
      "text/plain": "['pencil case', ' marker pen', 'eraser']"
     },
     "execution_count": 3,
     "metadata": {},
     "output_type": "execute_result"
    }
   ],
   "source": [
    "buyList.remove('pencil sharpener')\n",
    "buyList"
   ],
   "metadata": {
    "collapsed": false,
    "ExecuteTime": {
     "end_time": "2023-09-07T12:30:35.067560Z",
     "start_time": "2023-09-07T12:30:35.059367Z"
    }
   },
   "id": "b75f3585667e5c7e"
  },
  {
   "cell_type": "markdown",
   "source": [
    "(3) Add { ink pen } as the third priority."
   ],
   "metadata": {
    "collapsed": false
   },
   "id": "7cb80b615d56f960"
  },
  {
   "cell_type": "code",
   "execution_count": 4,
   "outputs": [
    {
     "data": {
      "text/plain": "['pencil case', ' marker pen', 'ink pen', 'eraser']"
     },
     "execution_count": 4,
     "metadata": {},
     "output_type": "execute_result"
    }
   ],
   "source": [
    "buyList.insert(2, 'ink pen')\n",
    "buyList"
   ],
   "metadata": {
    "collapsed": false,
    "ExecuteTime": {
     "end_time": "2023-09-07T12:30:35.131957Z",
     "start_time": "2023-09-07T12:30:35.062671Z"
    }
   },
   "id": "b457802ba1c0db9c"
  },
  {
   "cell_type": "markdown",
   "source": [
    "(4) Finally, find the number of { ink pen } in the stationery purchase list . (Hint) Using a list"
   ],
   "metadata": {
    "collapsed": false
   },
   "id": "a6679ee0d29b4ee7"
  },
  {
   "cell_type": "code",
   "execution_count": 5,
   "outputs": [
    {
     "data": {
      "text/plain": "2"
     },
     "execution_count": 5,
     "metadata": {},
     "output_type": "execute_result"
    }
   ],
   "source": [
    "buyList.index('ink pen')"
   ],
   "metadata": {
    "collapsed": false,
    "ExecuteTime": {
     "end_time": "2023-09-07T12:30:35.133992Z",
     "start_time": "2023-09-07T12:30:35.066242Z"
    }
   },
   "id": "16512fc6f59b70cc"
  },
  {
   "cell_type": "markdown",
   "source": [
    "#### Problem 2\n",
    "\n",
    "The title of the movie 007 series and box office : millions of dollars data were prepared as follows . {For Your Eyes Only : 449.4 , Skyfall : 943.5, Die Another Day : 465.4, A View to a Kill: 275.2 }. If you want to continue creating data by selecting, adding or deleting this data , print the [1] code and [2] the result of executing the following commands in sequence using Python"
   ],
   "metadata": {
    "collapsed": false
   },
   "id": "273221aaf3379439"
  },
  {
   "cell_type": "code",
   "execution_count": 6,
   "outputs": [],
   "source": [
    "boxOffice = {'For Your Eyes Only' : 449.4, \n",
    "             'Skyfall' : 943.5, \n",
    "             'Die Another Day' : 465.4, \n",
    "             'A View to a Kill' : 275.2 }"
   ],
   "metadata": {
    "collapsed": false,
    "ExecuteTime": {
     "end_time": "2023-09-07T12:30:35.134191Z",
     "start_time": "2023-09-07T12:30:35.068470Z"
    }
   },
   "id": "36baf65048ce578a"
  },
  {
   "cell_type": "markdown",
   "source": [
    "(1) Add { Specter : 725.5}"
   ],
   "metadata": {
    "collapsed": false
   },
   "id": "8cc9ee6d304368e6"
  },
  {
   "cell_type": "code",
   "execution_count": 7,
   "outputs": [
    {
     "data": {
      "text/plain": "{'For Your Eyes Only': 449.4,\n 'Skyfall': 943.5,\n 'Die Another Day': 465.4,\n 'A View to a Kill': 275.2,\n 'Specter': 725.5}"
     },
     "execution_count": 7,
     "metadata": {},
     "output_type": "execute_result"
    }
   ],
   "source": [
    "boxOffice['Specter'] = 725.5\n",
    "boxOffice"
   ],
   "metadata": {
    "collapsed": false,
    "ExecuteTime": {
     "end_time": "2023-09-07T12:30:35.134403Z",
     "start_time": "2023-09-07T12:30:35.071087Z"
    }
   },
   "id": "1fafea3eee72be53"
  },
  {
   "cell_type": "markdown",
   "source": [
    "(2) Replace {For Your Eyes Only : 449.4 } with { Golden Eye : 518.5 } which performed better at box office"
   ],
   "metadata": {
    "collapsed": false
   },
   "id": "823efddf968cd614"
  },
  {
   "cell_type": "code",
   "execution_count": 8,
   "outputs": [
    {
     "data": {
      "text/plain": "{'For Your Eyes Only': 449.4,\n 'Skyfall': 943.5,\n 'Die Another Day': 465.4,\n 'A View to a Kill': 275.2,\n 'Specter': 725.5,\n 'Golden Eye': 518.5}"
     },
     "execution_count": 8,
     "metadata": {},
     "output_type": "execute_result"
    }
   ],
   "source": [
    "boxOffice.update({'Golden Eye' : 518.5})\n",
    "boxOffice"
   ],
   "metadata": {
    "collapsed": false,
    "ExecuteTime": {
     "end_time": "2023-09-07T12:30:35.134574Z",
     "start_time": "2023-09-07T12:30:35.073901Z"
    }
   },
   "id": "6a68c9f12054a622"
  },
  {
   "cell_type": "markdown",
   "source": [
    "(3) Delete { A View to a Kill: 275.2}"
   ],
   "metadata": {
    "collapsed": false
   },
   "id": "d21decde398e7562"
  },
  {
   "cell_type": "code",
   "execution_count": 9,
   "outputs": [
    {
     "data": {
      "text/plain": "{'For Your Eyes Only': 449.4,\n 'Skyfall': 943.5,\n 'Die Another Day': 465.4,\n 'Specter': 725.5,\n 'Golden Eye': 518.5}"
     },
     "execution_count": 9,
     "metadata": {},
     "output_type": "execute_result"
    }
   ],
   "source": [
    "boxOffice.pop('A View to a Kill')\n",
    "boxOffice"
   ],
   "metadata": {
    "collapsed": false,
    "ExecuteTime": {
     "end_time": "2023-09-07T12:30:35.134960Z",
     "start_time": "2023-09-07T12:30:35.076563Z"
    }
   },
   "id": "f699227e963cd727"
  },
  {
   "cell_type": "markdown",
   "source": [
    "(4) Outputs the box office performance of {Skyfall}"
   ],
   "metadata": {
    "collapsed": false
   },
   "id": "a75d427875f1ad7b"
  },
  {
   "cell_type": "code",
   "execution_count": 10,
   "outputs": [
    {
     "name": "stdout",
     "output_type": "stream",
     "text": [
      "943.5\n"
     ]
    }
   ],
   "source": [
    "print(boxOffice['Skyfall'])"
   ],
   "metadata": {
    "collapsed": false,
    "ExecuteTime": {
     "end_time": "2023-09-07T12:30:35.135078Z",
     "start_time": "2023-09-07T12:30:35.079410Z"
    }
   },
   "id": "e391d22ef7cd2fc3"
  },
  {
   "cell_type": "markdown",
   "source": [
    "(5) Summing up the box office (millions of dollars) of all movies included in the data . (Hint) Using a dictionary"
   ],
   "metadata": {
    "collapsed": false
   },
   "id": "15f730ccdef51a06"
  },
  {
   "cell_type": "code",
   "execution_count": 11,
   "outputs": [
    {
     "name": "stdout",
     "output_type": "stream",
     "text": [
      "The total of box office earned is $3102.3M\n"
     ]
    }
   ],
   "source": [
    "boxOffice_sum = sum(boxOffice.values())\n",
    "print(f'The total of box office earned is ${boxOffice_sum}M')"
   ],
   "metadata": {
    "collapsed": false,
    "ExecuteTime": {
     "end_time": "2023-09-07T12:30:35.135166Z",
     "start_time": "2023-09-07T12:30:35.082262Z"
    }
   },
   "id": "c544e77bf7d7685a"
  },
  {
   "cell_type": "markdown",
   "source": [
    "#### Problem 3\n",
    "\n",
    "programmer A and B respectively use the following programming languages\n",
    "\n",
    "A: `{R, Python, Excel, Matlab , SAS, C#}` \n",
    "\n",
    "B: `{Python, HTML, CSS, C++, Excel}`"
   ],
   "metadata": {
    "collapsed": false
   },
   "id": "e5a4f8c62123bf"
  },
  {
   "cell_type": "code",
   "execution_count": 12,
   "outputs": [],
   "source": [
    "A = {'R','Python','Excel','Matlab','SAS','C#'}\n",
    "B = {'Python','HTML','CSS','C++','Excel'}"
   ],
   "metadata": {
    "collapsed": false,
    "ExecuteTime": {
     "end_time": "2023-09-07T12:30:35.135221Z",
     "start_time": "2023-09-07T12:30:35.084275Z"
    }
   },
   "id": "482a0afaefb7856a"
  },
  {
   "cell_type": "markdown",
   "source": [
    "(1) Find the programming language used by both programmers (intersection set)"
   ],
   "metadata": {
    "collapsed": false
   },
   "id": "179de7a94b8406fb"
  },
  {
   "cell_type": "code",
   "execution_count": 13,
   "outputs": [
    {
     "name": "stdout",
     "output_type": "stream",
     "text": [
      "{'Excel', 'Python'}\n"
     ]
    }
   ],
   "source": [
    "print(A.intersection(B))"
   ],
   "metadata": {
    "collapsed": false,
    "ExecuteTime": {
     "end_time": "2023-09-07T12:30:35.135313Z",
     "start_time": "2023-09-07T12:30:35.087141Z"
    }
   },
   "id": "10fd79e4a3a4fe2c"
  },
  {
   "cell_type": "markdown",
   "source": [
    "(2) Find all programming languages used by the two programmers (union)"
   ],
   "metadata": {
    "collapsed": false
   },
   "id": "53d3715e37854645"
  },
  {
   "cell_type": "code",
   "execution_count": 14,
   "outputs": [
    {
     "name": "stdout",
     "output_type": "stream",
     "text": [
      "{'R', 'C#', 'C++', 'Python', 'Excel', 'Matlab', 'CSS', 'SAS', 'HTML'}\n"
     ]
    }
   ],
   "source": [
    "print(A.union(B))"
   ],
   "metadata": {
    "collapsed": false,
    "ExecuteTime": {
     "end_time": "2023-09-07T12:30:35.135402Z",
     "start_time": "2023-09-07T12:30:35.091591Z"
    }
   },
   "id": "356fe316ca3b44e3"
  },
  {
   "cell_type": "markdown",
   "source": [
    "(3) A Find all programming languages that only programmers can use ( set difference )"
   ],
   "metadata": {
    "collapsed": false
   },
   "id": "3d69332ee5bea9aa"
  },
  {
   "cell_type": "code",
   "execution_count": 15,
   "outputs": [
    {
     "name": "stdout",
     "output_type": "stream",
     "text": [
      "Programmer A can use uniquely {'SAS', 'R', 'C#', 'Matlab'} and Programmer B can do uniquely {'CSS', 'HTML', 'C++'}.\n"
     ]
    }
   ],
   "source": [
    "print(f\"Programmer A can use uniquely {A.difference(B)} and Programmer B can do uniquely {B.difference(A)}.\")"
   ],
   "metadata": {
    "collapsed": false,
    "ExecuteTime": {
     "end_time": "2023-09-07T12:30:35.135490Z",
     "start_time": "2023-09-07T12:30:35.093682Z"
    }
   },
   "id": "c4035b6f7d7cd343"
  },
  {
   "cell_type": "markdown",
   "source": [
    "#### Problem 4 \n",
    "\n",
    "[English test score] and [ English literature major] The data are as follows.\n",
    "\n",
    "| English test scores | Englist literature major |\n",
    "|---------------------|--------------------------|\n",
    "| 95                  | 0                        |\n",
    "| 97                  | 0                        |\n",
    "| 90                  | 1                        |\n",
    "| 97                  | 1                        |\n",
    "| 93                  | 1                        |\n",
    "| 85                  | 0                        |\n",
    "| 79                  | 0                        |\n",
    "| 89                  | 1                        |\n",
    "\n",
    "Here, if you majored in computer science, it is marked as 1, otherwise it is marked as 0."
   ],
   "metadata": {
    "collapsed": false
   },
   "id": "378ff32e363db049"
  },
  {
   "cell_type": "markdown",
   "source": [
    "(1) Create a data frame using two variables"
   ],
   "metadata": {
    "collapsed": false
   },
   "id": "45fb3c0d7d44a6f7"
  },
  {
   "cell_type": "code",
   "execution_count": 16,
   "outputs": [
    {
     "name": "stdout",
     "output_type": "stream",
     "text": [
      "   English test scores  English literature major\n",
      "0                   95                         0\n",
      "1                   97                         0\n",
      "2                   90                         1\n",
      "3                   97                         1\n",
      "4                   93                         1\n",
      "5                   85                         0\n",
      "6                   79                         0\n",
      "7                   89                         1\n"
     ]
    }
   ],
   "source": [
    "import pandas as pd\n",
    "\n",
    "english = pd.DataFrame({\n",
    "    'English test scores' : [95,97,90,97,93,85,79,89],\n",
    "    'English literature major' : [0,0,1,1,1,0,0,1]\n",
    "});\n",
    "\n",
    "print(english)"
   ],
   "metadata": {
    "collapsed": false,
    "ExecuteTime": {
     "end_time": "2023-09-07T12:30:36.520177Z",
     "start_time": "2023-09-07T12:30:35.096133Z"
    }
   },
   "id": "75196921cfece47d"
  },
  {
   "cell_type": "markdown",
   "source": [
    "(2) Calculate the average of the English test scores of the English major group and the non-major group, respectively. (Hint: use pandas )"
   ],
   "metadata": {
    "collapsed": false
   },
   "id": "f72dec4bc7e1fcc6"
  },
  {
   "cell_type": "code",
   "execution_count": 17,
   "outputs": [
    {
     "name": "stdout",
     "output_type": "stream",
     "text": [
      "Mean of major group is 92.25, another group's is 89.0\n"
     ]
    }
   ],
   "source": [
    "mean_major = english[english['English literature major'] == 1]['English test scores'].mean()\n",
    "mean_nonMajor = english[english['English literature major'] == 0]['English test scores'].mean()\n",
    "\n",
    "print(f'Mean of major group is {mean_major}, another group\\'s is {mean_nonMajor}')"
   ],
   "metadata": {
    "collapsed": false,
    "ExecuteTime": {
     "end_time": "2023-09-07T12:30:36.525438Z",
     "start_time": "2023-09-07T12:30:36.521417Z"
    }
   },
   "id": "95065557527eeecc"
  },
  {
   "cell_type": "markdown",
   "source": [
    "#### Problem 5\n",
    "\n",
    "Write an array according to the conditions given below and answer the questions. (hint: use numpy)\n",
    "Class V (7 students) and Class A (6 students) are given below.\n",
    "\n",
    "Class V : {96, 78, 88, 93, 90, 85, 78} , Class A: {99, 74, 97, 79, 89, 90}"
   ],
   "metadata": {
    "collapsed": false
   },
   "id": "ea516c3a265c0a72"
  },
  {
   "cell_type": "code",
   "execution_count": 18,
   "outputs": [],
   "source": [
    "import numpy as np\n",
    "\n",
    "ClassV = np.array([\n",
    "    96, 78, 88, 93, 90, 85, 78\n",
    "]);\n",
    "ClassA = np.array([\n",
    "    99, 74, 97, 79, 89, 90\n",
    "]);"
   ],
   "metadata": {
    "collapsed": false,
    "ExecuteTime": {
     "end_time": "2023-09-07T12:30:36.526505Z",
     "start_time": "2023-09-07T12:30:36.524437Z"
    }
   },
   "id": "d44cba6348144c71"
  },
  {
   "cell_type": "markdown",
   "source": [
    "(1) Write the English scores of the two classes in one array"
   ],
   "metadata": {
    "collapsed": false
   },
   "id": "c2e5fc3d7ddb1975"
  },
  {
   "cell_type": "code",
   "execution_count": 19,
   "outputs": [
    {
     "name": "stdout",
     "output_type": "stream",
     "text": [
      "[96 78 88 93 90 85 78 99 74 97 79 89 90]\n",
      "<class 'numpy.ndarray'>\n"
     ]
    }
   ],
   "source": [
    "EnglishScores = np.concatenate([ClassV, ClassA])\n",
    "print(EnglishScores)\n",
    "print(type(EnglishScores))"
   ],
   "metadata": {
    "collapsed": false,
    "ExecuteTime": {
     "end_time": "2023-09-07T12:30:36.531756Z",
     "start_time": "2023-09-07T12:30:36.526962Z"
    }
   },
   "id": "40ae362ae18b8b1f"
  },
  {
   "cell_type": "markdown",
   "source": [
    "(2) Calculate the average of the English scores of both classes"
   ],
   "metadata": {
    "collapsed": false
   },
   "id": "4ea741f5a121251b"
  },
  {
   "cell_type": "code",
   "execution_count": 20,
   "outputs": [
    {
     "name": "stdout",
     "output_type": "stream",
     "text": [
      "The Average score of both classes is 87.38461538461539\n"
     ]
    }
   ],
   "source": [
    "meanOfBothClasses = EnglishScores.mean()\n",
    "print(f'The Average score of both classes is {meanOfBothClasses}')"
   ],
   "metadata": {
    "collapsed": false,
    "ExecuteTime": {
     "end_time": "2023-09-07T12:30:36.531987Z",
     "start_time": "2023-09-07T12:30:36.529146Z"
    }
   },
   "id": "b0fffb26d02e40d7"
  },
  {
   "cell_type": "markdown",
   "source": [
    "#### Problem 6\n",
    "\n",
    "Write a function that adds the numbers 1 to 10 and find the answer.\n",
    "( Hint: use def )"
   ],
   "metadata": {
    "collapsed": false
   },
   "id": "cdd40e16e60b378e"
  },
  {
   "cell_type": "code",
   "execution_count": 21,
   "outputs": [
    {
     "name": "stdout",
     "output_type": "stream",
     "text": [
      "55\n"
     ]
    }
   ],
   "source": [
    "def addNums(start : int = 1, end : int = 10) -> int:\n",
    "    result = 0\n",
    "    for i in range(start, end + 1) : result += i;\n",
    "    return result\n",
    "\n",
    "def main() -> None : print(addNums());\n",
    "\n",
    "if __name__ == '__main__' : main();"
   ],
   "metadata": {
    "collapsed": false,
    "ExecuteTime": {
     "end_time": "2023-09-07T12:30:36.534033Z",
     "start_time": "2023-09-07T12:30:36.532145Z"
    }
   },
   "id": "efc754fe75cc8831"
  },
  {
   "cell_type": "markdown",
   "source": [
    "#### Problem 7\n",
    "\n",
    "Extract and sum only odd numbers from numbers 1 to 100 , I am trying to write a function that extracts and sums only even numbers as follows. Please answer the question\n",
    "\n",
    "(1 ) Fill in ? with appropriate values\n",
    "(2) Find the result of sum_num2(100)"
   ],
   "metadata": {
    "collapsed": false
   },
   "id": "676294658639ea74"
  },
  {
   "cell_type": "code",
   "execution_count": 22,
   "outputs": [
    {
     "name": "stdout",
     "output_type": "stream",
     "text": [
      "(2550, 2500)\n"
     ]
    }
   ],
   "source": [
    "def sum_num2(n : int) -> int:\n",
    "    odd = 0\n",
    "    even = 0\n",
    "    for i in range(1, n+1) :\n",
    "        if i % 2 == 0 : even = even + i;\n",
    "        if i % 2 == 1 : odd = odd + i;\n",
    "    return even, odd\n",
    "\n",
    "def main() -> None : print(sum_num2(100));\n",
    "\n",
    "if __name__ == '__main__' : main();"
   ],
   "metadata": {
    "collapsed": false,
    "ExecuteTime": {
     "end_time": "2023-09-07T12:30:36.539066Z",
     "start_time": "2023-09-07T12:30:36.533949Z"
    }
   },
   "id": "654e8f81ed13f5d8"
  }
 ],
 "metadata": {
  "kernelspec": {
   "display_name": "Python 3",
   "language": "python",
   "name": "python3"
  },
  "language_info": {
   "codemirror_mode": {
    "name": "ipython",
    "version": 2
   },
   "file_extension": ".py",
   "mimetype": "text/x-python",
   "name": "python",
   "nbconvert_exporter": "python",
   "pygments_lexer": "ipython2",
   "version": "2.7.6"
  }
 },
 "nbformat": 4,
 "nbformat_minor": 5
}
