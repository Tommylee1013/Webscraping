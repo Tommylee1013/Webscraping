{
 "cells": [
  {
   "cell_type": "markdown",
   "id": "4eeb109dc97c01bf",
   "metadata": {},
   "source": [
    "### Text Mining Homework 4\n",
    "\n",
    "#### Problem 1\n",
    "\n",
    "Please put IMDB sentiment (positive, negative) of movie review data (IMDB Dataset.csv) as a dependent variable. You want to evaluate model accuracy after establishing a model with the sentiment score for the review obtained using the sentiment dictionary(lexicon) as an independent variable. Among the entire data, only the first 1000 data are used for convenience. Among these, the first 70% is used as train data to build a model, and the remaining 30% is used as test data to evaluate accuracy. For accuracy evaluation, accuracy ( accuracy rate) is used."
   ]
  },
  {
   "cell_type": "code",
   "execution_count": 1,
   "id": "2e06703f4b2a7be4",
   "metadata": {
    "ExecuteTime": {
     "end_time": "2023-12-12T14:14:21.696911Z",
     "start_time": "2023-12-12T14:14:21.692281Z"
    }
   },
   "outputs": [],
   "source": [
    "import numpy as np\n",
    "import pandas as pd"
   ]
  },
  {
   "cell_type": "code",
   "execution_count": 2,
   "id": "ff5af04e353c44ad",
   "metadata": {
    "ExecuteTime": {
     "end_time": "2023-12-12T14:14:25.019775Z",
     "start_time": "2023-12-12T14:14:24.542484Z"
    }
   },
   "outputs": [
    {
     "data": {
      "text/plain": "                                              review sentiment\n0  One of the other reviewers has mentioned that ...  positive\n1  A wonderful little production. <br /><br />The...  positive\n2  I thought this was a wonderful way to spend ti...  positive\n3  Basically there's a family where a little boy ...  negative\n4  Petter Mattei's \"Love in the Time of Money\" is...  positive",
      "text/html": "<div>\n<style scoped>\n    .dataframe tbody tr th:only-of-type {\n        vertical-align: middle;\n    }\n\n    .dataframe tbody tr th {\n        vertical-align: top;\n    }\n\n    .dataframe thead th {\n        text-align: right;\n    }\n</style>\n<table border=\"1\" class=\"dataframe\">\n  <thead>\n    <tr style=\"text-align: right;\">\n      <th></th>\n      <th>review</th>\n      <th>sentiment</th>\n    </tr>\n  </thead>\n  <tbody>\n    <tr>\n      <th>0</th>\n      <td>One of the other reviewers has mentioned that ...</td>\n      <td>positive</td>\n    </tr>\n    <tr>\n      <th>1</th>\n      <td>A wonderful little production. &lt;br /&gt;&lt;br /&gt;The...</td>\n      <td>positive</td>\n    </tr>\n    <tr>\n      <th>2</th>\n      <td>I thought this was a wonderful way to spend ti...</td>\n      <td>positive</td>\n    </tr>\n    <tr>\n      <th>3</th>\n      <td>Basically there's a family where a little boy ...</td>\n      <td>negative</td>\n    </tr>\n    <tr>\n      <th>4</th>\n      <td>Petter Mattei's \"Love in the Time of Money\" is...</td>\n      <td>positive</td>\n    </tr>\n  </tbody>\n</table>\n</div>"
     },
     "execution_count": 2,
     "metadata": {},
     "output_type": "execute_result"
    }
   ],
   "source": [
    "review = pd.read_csv('../Data/IMDBDataset.csv')\n",
    "review.head()"
   ]
  },
  {
   "cell_type": "markdown",
   "id": "3f2281b022a9f249",
   "metadata": {},
   "source": [
    "(1) Build a logistic regression model with the sentiment score obtained using the AFINN dictionary as an independent variable, and evaluate model accuracy."
   ]
  },
  {
   "cell_type": "code",
   "execution_count": 3,
   "id": "initial_id",
   "metadata": {
    "collapsed": true,
    "ExecuteTime": {
     "end_time": "2023-12-12T14:14:43.203656Z",
     "start_time": "2023-12-12T14:14:43.190328Z"
    }
   },
   "outputs": [],
   "source": [
    "train_y = review['sentiment'][0:700]  # 70% train dataset\n",
    "test_y = review['sentiment'][700:1000] # 30% test dataset"
   ]
  },
  {
   "cell_type": "code",
   "execution_count": 4,
   "id": "1af83e40407f2ac8",
   "metadata": {
    "ExecuteTime": {
     "end_time": "2023-12-12T14:14:50.031291Z",
     "start_time": "2023-12-12T14:14:45.940112Z"
    }
   },
   "outputs": [],
   "source": [
    "from afinn import Afinn\n",
    "afinn = Afinn()\n",
    "n = 1000\n",
    "score_list = []\n",
    "for row in review['review'][0:n]:\n",
    "    afscore = afinn.score(row)\n",
    "    score_list.append(afscore)\n",
    "train_x = score_list[0:700]\n",
    "test_x = score_list[700:1000]"
   ]
  },
  {
   "cell_type": "code",
   "execution_count": 6,
   "id": "a8f7bae973a48bc4",
   "metadata": {
    "ExecuteTime": {
     "end_time": "2023-12-12T14:15:16.987541Z",
     "start_time": "2023-12-12T14:15:16.967088Z"
    }
   },
   "outputs": [
    {
     "data": {
      "text/plain": "LogisticRegression(random_state=42)",
      "text/html": "<style>#sk-container-id-2 {color: black;}#sk-container-id-2 pre{padding: 0;}#sk-container-id-2 div.sk-toggleable {background-color: white;}#sk-container-id-2 label.sk-toggleable__label {cursor: pointer;display: block;width: 100%;margin-bottom: 0;padding: 0.3em;box-sizing: border-box;text-align: center;}#sk-container-id-2 label.sk-toggleable__label-arrow:before {content: \"▸\";float: left;margin-right: 0.25em;color: #696969;}#sk-container-id-2 label.sk-toggleable__label-arrow:hover:before {color: black;}#sk-container-id-2 div.sk-estimator:hover label.sk-toggleable__label-arrow:before {color: black;}#sk-container-id-2 div.sk-toggleable__content {max-height: 0;max-width: 0;overflow: hidden;text-align: left;background-color: #f0f8ff;}#sk-container-id-2 div.sk-toggleable__content pre {margin: 0.2em;color: black;border-radius: 0.25em;background-color: #f0f8ff;}#sk-container-id-2 input.sk-toggleable__control:checked~div.sk-toggleable__content {max-height: 200px;max-width: 100%;overflow: auto;}#sk-container-id-2 input.sk-toggleable__control:checked~label.sk-toggleable__label-arrow:before {content: \"▾\";}#sk-container-id-2 div.sk-estimator input.sk-toggleable__control:checked~label.sk-toggleable__label {background-color: #d4ebff;}#sk-container-id-2 div.sk-label input.sk-toggleable__control:checked~label.sk-toggleable__label {background-color: #d4ebff;}#sk-container-id-2 input.sk-hidden--visually {border: 0;clip: rect(1px 1px 1px 1px);clip: rect(1px, 1px, 1px, 1px);height: 1px;margin: -1px;overflow: hidden;padding: 0;position: absolute;width: 1px;}#sk-container-id-2 div.sk-estimator {font-family: monospace;background-color: #f0f8ff;border: 1px dotted black;border-radius: 0.25em;box-sizing: border-box;margin-bottom: 0.5em;}#sk-container-id-2 div.sk-estimator:hover {background-color: #d4ebff;}#sk-container-id-2 div.sk-parallel-item::after {content: \"\";width: 100%;border-bottom: 1px solid gray;flex-grow: 1;}#sk-container-id-2 div.sk-label:hover label.sk-toggleable__label {background-color: #d4ebff;}#sk-container-id-2 div.sk-serial::before {content: \"\";position: absolute;border-left: 1px solid gray;box-sizing: border-box;top: 0;bottom: 0;left: 50%;z-index: 0;}#sk-container-id-2 div.sk-serial {display: flex;flex-direction: column;align-items: center;background-color: white;padding-right: 0.2em;padding-left: 0.2em;position: relative;}#sk-container-id-2 div.sk-item {position: relative;z-index: 1;}#sk-container-id-2 div.sk-parallel {display: flex;align-items: stretch;justify-content: center;background-color: white;position: relative;}#sk-container-id-2 div.sk-item::before, #sk-container-id-2 div.sk-parallel-item::before {content: \"\";position: absolute;border-left: 1px solid gray;box-sizing: border-box;top: 0;bottom: 0;left: 50%;z-index: -1;}#sk-container-id-2 div.sk-parallel-item {display: flex;flex-direction: column;z-index: 1;position: relative;background-color: white;}#sk-container-id-2 div.sk-parallel-item:first-child::after {align-self: flex-end;width: 50%;}#sk-container-id-2 div.sk-parallel-item:last-child::after {align-self: flex-start;width: 50%;}#sk-container-id-2 div.sk-parallel-item:only-child::after {width: 0;}#sk-container-id-2 div.sk-dashed-wrapped {border: 1px dashed gray;margin: 0 0.4em 0.5em 0.4em;box-sizing: border-box;padding-bottom: 0.4em;background-color: white;}#sk-container-id-2 div.sk-label label {font-family: monospace;font-weight: bold;display: inline-block;line-height: 1.2em;}#sk-container-id-2 div.sk-label-container {text-align: center;}#sk-container-id-2 div.sk-container {/* jupyter's `normalize.less` sets `[hidden] { display: none; }` but bootstrap.min.css set `[hidden] { display: none !important; }` so we also need the `!important` here to be able to override the default hidden behavior on the sphinx rendered scikit-learn.org. See: https://github.com/scikit-learn/scikit-learn/issues/21755 */display: inline-block !important;position: relative;}#sk-container-id-2 div.sk-text-repr-fallback {display: none;}</style><div id=\"sk-container-id-2\" class=\"sk-top-container\"><div class=\"sk-text-repr-fallback\"><pre>LogisticRegression(random_state=42)</pre><b>In a Jupyter environment, please rerun this cell to show the HTML representation or trust the notebook. <br />On GitHub, the HTML representation is unable to render, please try loading this page with nbviewer.org.</b></div><div class=\"sk-container\" hidden><div class=\"sk-item\"><div class=\"sk-estimator sk-toggleable\"><input class=\"sk-toggleable__control sk-hidden--visually\" id=\"sk-estimator-id-2\" type=\"checkbox\" checked><label for=\"sk-estimator-id-2\" class=\"sk-toggleable__label sk-toggleable__label-arrow\">LogisticRegression</label><div class=\"sk-toggleable__content\"><pre>LogisticRegression(random_state=42)</pre></div></div></div></div></div>"
     },
     "execution_count": 6,
     "metadata": {},
     "output_type": "execute_result"
    }
   ],
   "source": [
    "from sklearn.linear_model import LogisticRegression\n",
    "\n",
    "model = LogisticRegression(random_state = 42)\n",
    "model.fit(np.array(train_x).reshape(-1,1), np.array(train_y))"
   ]
  },
  {
   "cell_type": "code",
   "execution_count": 7,
   "id": "5f4c9ac9d91fe2d0",
   "metadata": {
    "ExecuteTime": {
     "end_time": "2023-12-12T14:15:18.870901Z",
     "start_time": "2023-12-12T14:15:18.855362Z"
    }
   },
   "outputs": [
    {
     "name": "stdout",
     "output_type": "stream",
     "text": [
      "The model train score is  0.7557\n"
     ]
    }
   ],
   "source": [
    "print(f'The model train score is {model.score(np.array(train_x).reshape(-1,1), np.array(train_y)) : .4f}')"
   ]
  },
  {
   "cell_type": "code",
   "execution_count": 8,
   "id": "3eded564492c0809",
   "metadata": {
    "ExecuteTime": {
     "end_time": "2023-12-12T14:15:21.231331Z",
     "start_time": "2023-12-12T14:15:21.214913Z"
    }
   },
   "outputs": [
    {
     "name": "stdout",
     "output_type": "stream",
     "text": [
      "The model test score is  0.7633\n"
     ]
    }
   ],
   "source": [
    "print(f'The model test score is {model.score(np.array(test_x).reshape(-1,1), np.array(test_y)) : .4f}')"
   ]
  },
  {
   "cell_type": "code",
   "execution_count": 9,
   "id": "e5a9ea3549d0376d",
   "metadata": {
    "ExecuteTime": {
     "end_time": "2023-12-12T14:15:34.872162Z",
     "start_time": "2023-12-12T14:15:34.858749Z"
    }
   },
   "outputs": [
    {
     "name": "stdout",
     "output_type": "stream",
     "text": [
      "              precision    recall  f1-score   support\n",
      "\n",
      "    negative       0.74      0.75      0.74       137\n",
      "    positive       0.79      0.77      0.78       163\n",
      "\n",
      "    accuracy                           0.76       300\n",
      "   macro avg       0.76      0.76      0.76       300\n",
      "weighted avg       0.76      0.76      0.76       300\n"
     ]
    }
   ],
   "source": [
    "from sklearn.metrics import accuracy_score, classification_report, confusion_matrix\n",
    "y_pred = model.predict(np.array(test_x).reshape(-1,1))\n",
    "print(classification_report(test_y, y_pred))"
   ]
  },
  {
   "cell_type": "code",
   "execution_count": 10,
   "id": "d7e5890afd115c51",
   "metadata": {
    "ExecuteTime": {
     "end_time": "2023-12-12T14:15:35.429918Z",
     "start_time": "2023-12-12T14:15:35.262592Z"
    }
   },
   "outputs": [
    {
     "data": {
      "text/plain": "<Figure size 300x300 with 1 Axes>",
      "image/png": "[encoded data removed]"
     },
     "metadata": {},
     "output_type": "display_data"
    }
   ],
   "source": [
    "import seaborn as sns\n",
    "import matplotlib.pyplot as plt\n",
    "cm = confusion_matrix(test_y, y_pred)\n",
    "plt.figure(figsize = (3, 3))\n",
    "sns.heatmap(cm, annot = True, fmt = 'd', cbar = False)\n",
    "plt.xlabel('Predicted')\n",
    "plt.ylabel('True')\n",
    "plt.title('Confusion Matrix', fontsize = 12, fontfamily = 'Serif')\n",
    "plt.show()"
   ]
  },
  {
   "cell_type": "markdown",
   "id": "286fce9b0d3ab9f8",
   "metadata": {},
   "source": [
    "(2) First, preprocess the review sentence using the following preprocessing way "
   ]
  },
  {
   "cell_type": "code",
   "execution_count": 11,
   "id": "c5b3e12ffe8bcfef",
   "metadata": {
    "ExecuteTime": {
     "end_time": "2023-12-12T14:15:46.198694Z",
     "start_time": "2023-12-12T14:15:45.663068Z"
    }
   },
   "outputs": [
    {
     "name": "stderr",
     "output_type": "stream",
     "text": [
      "[nltk_data] Downloading package stopwords to\n",
      "[nltk_data]     /Users/junghunlee/nltk_data...\n",
      "[nltk_data]   Package stopwords is already up-to-date!\n"
     ]
    }
   ],
   "source": [
    "from nltk.tokenize import RegexpTokenizer\n",
    "from nltk.stem.porter import PorterStemmer\n",
    "import nltk\n",
    "nltk.download('stopwords')\n",
    "from nltk.corpus import stopwords\n",
    "\n",
    "NRC = pd.read_csv('../Data/NRC-Emotion-Lexicon-Wordlevel-v0.92.txt', \n",
    "                  engine = \"python\", \n",
    "                  header = None, \n",
    "                  sep = \"\\t\")\n",
    "NRC = NRC[(NRC != 0).all(1)] \n",
    "NRC = NRC.reset_index(drop=True)\n",
    "\n",
    "# data preprocessing\n",
    "tokenizer = RegexpTokenizer('[\\w]+')\n",
    "stop_words = stopwords.words('english')\n",
    "p_stemmer = PorterStemmer()\n",
    "\n",
    "n = 1000\n",
    "score_list = []"
   ]
  },
  {
   "cell_type": "code",
   "execution_count": 12,
   "id": "5def9a102cfba9d6",
   "metadata": {
    "ExecuteTime": {
     "end_time": "2023-12-12T14:15:52.274114Z",
     "start_time": "2023-12-12T14:15:52.249853Z"
    }
   },
   "outputs": [
    {
     "data": {
      "text/plain": "               0             1  2\n0         abacus         trust  1\n1        abandon          fear  1\n2        abandon      negative  1\n3        abandon       sadness  1\n4      abandoned         anger  1\n...          ...           ... ..\n13896       zest  anticipation  1\n13897       zest           joy  1\n13898       zest      positive  1\n13899       zest         trust  1\n13900        zip      negative  1\n\n[13901 rows x 3 columns]",
      "text/html": "<div>\n<style scoped>\n    .dataframe tbody tr th:only-of-type {\n        vertical-align: middle;\n    }\n\n    .dataframe tbody tr th {\n        vertical-align: top;\n    }\n\n    .dataframe thead th {\n        text-align: right;\n    }\n</style>\n<table border=\"1\" class=\"dataframe\">\n  <thead>\n    <tr style=\"text-align: right;\">\n      <th></th>\n      <th>0</th>\n      <th>1</th>\n      <th>2</th>\n    </tr>\n  </thead>\n  <tbody>\n    <tr>\n      <th>0</th>\n      <td>abacus</td>\n      <td>trust</td>\n      <td>1</td>\n    </tr>\n    <tr>\n      <th>1</th>\n      <td>abandon</td>\n      <td>fear</td>\n      <td>1</td>\n    </tr>\n    <tr>\n      <th>2</th>\n      <td>abandon</td>\n      <td>negative</td>\n      <td>1</td>\n    </tr>\n    <tr>\n      <th>3</th>\n      <td>abandon</td>\n      <td>sadness</td>\n      <td>1</td>\n    </tr>\n    <tr>\n      <th>4</th>\n      <td>abandoned</td>\n      <td>anger</td>\n      <td>1</td>\n    </tr>\n    <tr>\n      <th>...</th>\n      <td>...</td>\n      <td>...</td>\n      <td>...</td>\n    </tr>\n    <tr>\n      <th>13896</th>\n      <td>zest</td>\n      <td>anticipation</td>\n      <td>1</td>\n    </tr>\n    <tr>\n      <th>13897</th>\n      <td>zest</td>\n      <td>joy</td>\n      <td>1</td>\n    </tr>\n    <tr>\n      <th>13898</th>\n      <td>zest</td>\n      <td>positive</td>\n      <td>1</td>\n    </tr>\n    <tr>\n      <th>13899</th>\n      <td>zest</td>\n      <td>trust</td>\n      <td>1</td>\n    </tr>\n    <tr>\n      <th>13900</th>\n      <td>zip</td>\n      <td>negative</td>\n      <td>1</td>\n    </tr>\n  </tbody>\n</table>\n<p>13901 rows × 3 columns</p>\n</div>"
     },
     "execution_count": 12,
     "metadata": {},
     "output_type": "execute_result"
    }
   ],
   "source": [
    "NRC"
   ]
  },
  {
   "cell_type": "markdown",
   "id": "9700dd70860322af",
   "metadata": {},
   "source": [
    "Second, assign scores 1 and -1 to words that match positive and negative words in the NRC dictionary, respectively. "
   ]
  },
  {
   "cell_type": "code",
   "execution_count": 12,
   "id": "7fb778241e441986",
   "metadata": {
    "ExecuteTime": {
     "end_time": "2023-11-15T08:33:35.001829Z",
     "start_time": "2023-11-15T08:32:25.648911Z"
    }
   },
   "outputs": [],
   "source": [
    "for row in review['review'][0:n]:\n",
    "    raw = row.lower()\n",
    "    tokens = tokenizer.tokenize(raw)\n",
    "    stopped_tokens = [i for i in tokens if not i in stop_words] # remove stopwords\n",
    "    match_words = [x for x in stopped_tokens if x in list(NRC[0])] # match w/ lexicon\n",
    "\n",
    "    emotion=[]\n",
    "    for i in match_words:\n",
    "        temp = list(NRC.iloc[np.where(NRC[0] == i)[0],1])  # emotion list\n",
    "        for j in temp:\n",
    "            emotion.append(j)\n",
    "    sentiment_result1 = pd.Series(emotion).value_counts()\n",
    "    try: neg = sentiment_result1.negative  # negative word count\n",
    "    except: neg = 0\n",
    "    try: pos = sentiment_result1.positive # positive word count\n",
    "    except: pos = 0\n",
    "    score = pos-neg   \n",
    "    score_list.append(score)"
   ]
  },
  {
   "cell_type": "markdown",
   "id": "97acd841181815f3",
   "metadata": {},
   "source": [
    "Third, generate the sentiment score by adding the positive and negative scores as an independent variable. "
   ]
  },
  {
   "cell_type": "code",
   "execution_count": 13,
   "id": "e2153e2fe7010c0e",
   "metadata": {
    "ExecuteTime": {
     "end_time": "2023-11-15T08:33:35.012756Z",
     "start_time": "2023-11-15T08:33:35.010056Z"
    }
   },
   "outputs": [
    {
     "data": {
      "text/html": [
       "<div>\n",
       "<style scoped>\n",
       "    .dataframe tbody tr th:only-of-type {\n",
       "        vertical-align: middle;\n",
       "    }\n",
       "\n",
       "    .dataframe tbody tr th {\n",
       "        vertical-align: top;\n",
       "    }\n",
       "\n",
       "    .dataframe thead th {\n",
       "        text-align: right;\n",
       "    }\n",
       "</style>\n",
       "<table border=\"1\" class=\"dataframe\">\n",
       "  <thead>\n",
       "    <tr style=\"text-align: right;\">\n",
       "      <th></th>\n",
       "      <th>lexion</th>\n",
       "      <th>sentiment</th>\n",
       "    </tr>\n",
       "  </thead>\n",
       "  <tbody>\n",
       "    <tr>\n",
       "      <th>0</th>\n",
       "      <td>-11</td>\n",
       "      <td>positive</td>\n",
       "    </tr>\n",
       "    <tr>\n",
       "      <th>1</th>\n",
       "      <td>13</td>\n",
       "      <td>positive</td>\n",
       "    </tr>\n",
       "    <tr>\n",
       "      <th>2</th>\n",
       "      <td>4</td>\n",
       "      <td>positive</td>\n",
       "    </tr>\n",
       "    <tr>\n",
       "      <th>3</th>\n",
       "      <td>-3</td>\n",
       "      <td>negative</td>\n",
       "    </tr>\n",
       "    <tr>\n",
       "      <th>4</th>\n",
       "      <td>17</td>\n",
       "      <td>positive</td>\n",
       "    </tr>\n",
       "    <tr>\n",
       "      <th>...</th>\n",
       "      <td>...</td>\n",
       "      <td>...</td>\n",
       "    </tr>\n",
       "    <tr>\n",
       "      <th>995</th>\n",
       "      <td>1</td>\n",
       "      <td>positive</td>\n",
       "    </tr>\n",
       "    <tr>\n",
       "      <th>996</th>\n",
       "      <td>-2</td>\n",
       "      <td>negative</td>\n",
       "    </tr>\n",
       "    <tr>\n",
       "      <th>997</th>\n",
       "      <td>-2</td>\n",
       "      <td>negative</td>\n",
       "    </tr>\n",
       "    <tr>\n",
       "      <th>998</th>\n",
       "      <td>0</td>\n",
       "      <td>negative</td>\n",
       "    </tr>\n",
       "    <tr>\n",
       "      <th>999</th>\n",
       "      <td>-1</td>\n",
       "      <td>negative</td>\n",
       "    </tr>\n",
       "  </tbody>\n",
       "</table>\n",
       "<p>1000 rows × 2 columns</p>\n",
       "</div>"
      ],
      "text/plain": [
       "     lexion sentiment\n",
       "0       -11  positive\n",
       "1        13  positive\n",
       "2         4  positive\n",
       "3        -3  negative\n",
       "4        17  positive\n",
       "..      ...       ...\n",
       "995       1  positive\n",
       "996      -2  negative\n",
       "997      -2  negative\n",
       "998       0  negative\n",
       "999      -1  negative\n",
       "\n",
       "[1000 rows x 2 columns]"
      ]
     },
     "execution_count": 13,
     "metadata": {},
     "output_type": "execute_result"
    }
   ],
   "source": [
    "df_score = pd.DataFrame([score_list], index = ['lexion']).T\n",
    "df_score = pd.concat([df_score, review.sentiment[:1000]], axis = 1)\n",
    "df_score"
   ]
  },
  {
   "cell_type": "markdown",
   "id": "d6a9a4a82a8e58cc",
   "metadata": {},
   "source": [
    "Finally, evaluate the accuracy of a logistic regression model with the sentiment score obtained using the procedures above. (using NRC-Emotion-Lexicon-Wordlevel-v0.92.txt)"
   ]
  },
  {
   "cell_type": "code",
   "execution_count": 14,
   "id": "2d0fc3446b5c7f9e",
   "metadata": {
    "ExecuteTime": {
     "end_time": "2023-11-15T08:33:35.019446Z",
     "start_time": "2023-11-15T08:33:35.014021Z"
    }
   },
   "outputs": [
    {
     "data": {
      "text/html": [
       "<style>#sk-container-id-2 {color: black;}#sk-container-id-2 pre{padding: 0;}#sk-container-id-2 div.sk-toggleable {background-color: white;}#sk-container-id-2 label.sk-toggleable__label {cursor: pointer;display: block;width: 100%;margin-bottom: 0;padding: 0.3em;box-sizing: border-box;text-align: center;}#sk-container-id-2 label.sk-toggleable__label-arrow:before {content: \"▸\";float: left;margin-right: 0.25em;color: #696969;}#sk-container-id-2 label.sk-toggleable__label-arrow:hover:before {color: black;}#sk-container-id-2 div.sk-estimator:hover label.sk-toggleable__label-arrow:before {color: black;}#sk-container-id-2 div.sk-toggleable__content {max-height: 0;max-width: 0;overflow: hidden;text-align: left;background-color: #f0f8ff;}#sk-container-id-2 div.sk-toggleable__content pre {margin: 0.2em;color: black;border-radius: 0.25em;background-color: #f0f8ff;}#sk-container-id-2 input.sk-toggleable__control:checked~div.sk-toggleable__content {max-height: 200px;max-width: 100%;overflow: auto;}#sk-container-id-2 input.sk-toggleable__control:checked~label.sk-toggleable__label-arrow:before {content: \"▾\";}#sk-container-id-2 div.sk-estimator input.sk-toggleable__control:checked~label.sk-toggleable__label {background-color: #d4ebff;}#sk-container-id-2 div.sk-label input.sk-toggleable__control:checked~label.sk-toggleable__label {background-color: #d4ebff;}#sk-container-id-2 input.sk-hidden--visually {border: 0;clip: rect(1px 1px 1px 1px);clip: rect(1px, 1px, 1px, 1px);height: 1px;margin: -1px;overflow: hidden;padding: 0;position: absolute;width: 1px;}#sk-container-id-2 div.sk-estimator {font-family: monospace;background-color: #f0f8ff;border: 1px dotted black;border-radius: 0.25em;box-sizing: border-box;margin-bottom: 0.5em;}#sk-container-id-2 div.sk-estimator:hover {background-color: #d4ebff;}#sk-container-id-2 div.sk-parallel-item::after {content: \"\";width: 100%;border-bottom: 1px solid gray;flex-grow: 1;}#sk-container-id-2 div.sk-label:hover label.sk-toggleable__label {background-color: #d4ebff;}#sk-container-id-2 div.sk-serial::before {content: \"\";position: absolute;border-left: 1px solid gray;box-sizing: border-box;top: 0;bottom: 0;left: 50%;z-index: 0;}#sk-container-id-2 div.sk-serial {display: flex;flex-direction: column;align-items: center;background-color: white;padding-right: 0.2em;padding-left: 0.2em;position: relative;}#sk-container-id-2 div.sk-item {position: relative;z-index: 1;}#sk-container-id-2 div.sk-parallel {display: flex;align-items: stretch;justify-content: center;background-color: white;position: relative;}#sk-container-id-2 div.sk-item::before, #sk-container-id-2 div.sk-parallel-item::before {content: \"\";position: absolute;border-left: 1px solid gray;box-sizing: border-box;top: 0;bottom: 0;left: 50%;z-index: -1;}#sk-container-id-2 div.sk-parallel-item {display: flex;flex-direction: column;z-index: 1;position: relative;background-color: white;}#sk-container-id-2 div.sk-parallel-item:first-child::after {align-self: flex-end;width: 50%;}#sk-container-id-2 div.sk-parallel-item:last-child::after {align-self: flex-start;width: 50%;}#sk-container-id-2 div.sk-parallel-item:only-child::after {width: 0;}#sk-container-id-2 div.sk-dashed-wrapped {border: 1px dashed gray;margin: 0 0.4em 0.5em 0.4em;box-sizing: border-box;padding-bottom: 0.4em;background-color: white;}#sk-container-id-2 div.sk-label label {font-family: monospace;font-weight: bold;display: inline-block;line-height: 1.2em;}#sk-container-id-2 div.sk-label-container {text-align: center;}#sk-container-id-2 div.sk-container {/* jupyter's `normalize.less` sets `[hidden] { display: none; }` but bootstrap.min.css set `[hidden] { display: none !important; }` so we also need the `!important` here to be able to override the default hidden behavior on the sphinx rendered scikit-learn.org. See: https://github.com/scikit-learn/scikit-learn/issues/21755 */display: inline-block !important;position: relative;}#sk-container-id-2 div.sk-text-repr-fallback {display: none;}</style><div id=\"sk-container-id-2\" class=\"sk-top-container\"><div class=\"sk-text-repr-fallback\"><pre>LogisticRegression()</pre><b>In a Jupyter environment, please rerun this cell to show the HTML representation or trust the notebook. <br />On GitHub, the HTML representation is unable to render, please try loading this page with nbviewer.org.</b></div><div class=\"sk-container\" hidden><div class=\"sk-item\"><div class=\"sk-estimator sk-toggleable\"><input class=\"sk-toggleable__control sk-hidden--visually\" id=\"sk-estimator-id-2\" type=\"checkbox\" checked><label for=\"sk-estimator-id-2\" class=\"sk-toggleable__label sk-toggleable__label-arrow\">LogisticRegression</label><div class=\"sk-toggleable__content\"><pre>LogisticRegression()</pre></div></div></div></div></div>"
      ],
      "text/plain": [
       "LogisticRegression()"
      ]
     },
     "execution_count": 14,
     "metadata": {},
     "output_type": "execute_result"
    }
   ],
   "source": [
    "X_train = df_score['lexion'][:700]\n",
    "X_test = df_score['lexion'][700:]\n",
    "\n",
    "y_train = df_score['sentiment'][:700]\n",
    "y_test = df_score['sentiment'][700:]\n",
    "\n",
    "model = LogisticRegression()\n",
    "model.fit(np.array(X_train).reshape(-1,1), y_train)"
   ]
  },
  {
   "cell_type": "code",
   "execution_count": 15,
   "id": "d7ebb6fcdc9231d2",
   "metadata": {
    "ExecuteTime": {
     "end_time": "2023-11-15T08:33:35.022152Z",
     "start_time": "2023-11-15T08:33:35.019618Z"
    }
   },
   "outputs": [
    {
     "name": "stdout",
     "output_type": "stream",
     "text": [
      "The model train score is  0.6714\n"
     ]
    }
   ],
   "source": [
    "print(f'The model train score is {model.score(np.array(X_train).reshape(-1,1), np.array(y_train)) : .4f}')"
   ]
  },
  {
   "cell_type": "code",
   "execution_count": 16,
   "id": "c5c6d098daa99e6d",
   "metadata": {
    "ExecuteTime": {
     "end_time": "2023-11-15T08:33:35.048745Z",
     "start_time": "2023-11-15T08:33:35.022916Z"
    }
   },
   "outputs": [
    {
     "name": "stdout",
     "output_type": "stream",
     "text": [
      "The model test score is  0.6633\n"
     ]
    }
   ],
   "source": [
    "print(f'The model test score is {model.score(np.array(X_test).reshape(-1,1), np.array(y_test)) : .4f}')"
   ]
  },
  {
   "cell_type": "code",
   "execution_count": 17,
   "id": "7a0d46d97da5060c",
   "metadata": {
    "ExecuteTime": {
     "end_time": "2023-11-15T08:33:35.058778Z",
     "start_time": "2023-11-15T08:33:35.026959Z"
    }
   },
   "outputs": [
    {
     "name": "stdout",
     "output_type": "stream",
     "text": [
      "              precision    recall  f1-score   support\n",
      "\n",
      "    negative       0.61      0.74      0.67       137\n",
      "    positive       0.73      0.60      0.66       163\n",
      "\n",
      "    accuracy                           0.66       300\n",
      "   macro avg       0.67      0.67      0.66       300\n",
      "weighted avg       0.68      0.66      0.66       300\n"
     ]
    }
   ],
   "source": [
    "y_pred = model.predict(np.array(X_test).reshape(-1,1))\n",
    "print(classification_report(y_test, y_pred))"
   ]
  },
  {
   "cell_type": "code",
   "execution_count": 18,
   "id": "fad2142b1dca707a",
   "metadata": {
    "ExecuteTime": {
     "end_time": "2023-11-15T08:33:35.126157Z",
     "start_time": "2023-11-15T08:33:35.038030Z"
    }
   },
   "outputs": [
    {
     "data": {
      "image/png": "[encoded data removed]",
      "text/plain": [
       "<Figure size 300x300 with 1 Axes>"
      ]
     },
     "metadata": {},
     "output_type": "display_data"
    }
   ],
   "source": [
    "cm = confusion_matrix(y_test, y_pred)\n",
    "plt.figure(figsize = (3, 3))\n",
    "sns.heatmap(cm, annot = True, fmt = 'd', cbar = False)\n",
    "plt.xlabel('Predicted')\n",
    "plt.ylabel('True')\n",
    "plt.title('Confusion Matrix', fontsize = 12, fontfamily = 'Serif')\n",
    "plt.show()"
   ]
  },
  {
   "cell_type": "markdown",
   "id": "eda13411cfd64b5c",
   "metadata": {},
   "source": [
    "#### Problem 2\n",
    "\n",
    "Please put IMDB sentiment (positive, negative) of movie review data (IMDB Dataset.csv) as a dependent variable. The (raw frequency based or TF-IDF modified frequency based) Term-Document data for reviews work as independent variables. Among the entire data, only the first 1000 data are used for convenience. Among these, the first 70% is used as train data to build a model, and the remaining 30% is used as test data to evaluate accuracy. For accuracy evaluation, an accurate rate is used. Answer the questions using the data that went through the preprocessing process below.\n",
    "\n",
    "**Preprocessing process**\n",
    "\n",
    "1. HTML Remove tags and extract only text\n",
    "2. Convert non-alphabetic characters to spaces\n",
    "3. Convert to lower case\n",
    "4. stop words Removed (using nltk 's English stopwords)\n",
    "5. One Combining strings with spaces (using join)"
   ]
  },
  {
   "cell_type": "code",
   "execution_count": 19,
   "id": "1f0d0e595565e014",
   "metadata": {
    "ExecuteTime": {
     "end_time": "2023-11-15T08:33:35.362278Z",
     "start_time": "2023-11-15T08:33:35.083413Z"
    }
   },
   "outputs": [],
   "source": [
    "from bs4 import BeautifulSoup\n",
    "import html5lib\n",
    "import warnings\n",
    "warnings.filterwarnings('ignore')\n",
    "\n",
    "# use initial n reviews only\n",
    "n = 1000 # originally total 50000 reviews\n",
    "reviews = []\n",
    "for row in review['review'][0:n]:\n",
    "    review1 = BeautifulSoup(row, 'html5lib').get_text()\n",
    "    reviews.append(review1)"
   ]
  },
  {
   "cell_type": "markdown",
   "id": "e0035e1213134027",
   "metadata": {},
   "source": [
    "start with alphabet small letters"
   ]
  },
  {
   "cell_type": "code",
   "execution_count": 20,
   "id": "29febfc5f1dffd57",
   "metadata": {
    "ExecuteTime": {
     "end_time": "2023-11-15T08:33:35.396229Z",
     "start_time": "2023-11-15T08:33:35.393212Z"
    }
   },
   "outputs": [],
   "source": [
    "import re\n",
    "\n",
    "review_list = []\n",
    "for row1 in reviews:\n",
    "    review2 = re.sub('[^a-zA-z]',' ', row1)\n",
    "    review3 = review2.lower() # transform into small letters\n",
    "    review_list.append(review3)"
   ]
  },
  {
   "cell_type": "markdown",
   "id": "dc1c287adf6dc5b8",
   "metadata": {},
   "source": [
    "Tokenization"
   ]
  },
  {
   "cell_type": "code",
   "execution_count": 21,
   "id": "6fd547950ebcf8e5",
   "metadata": {
    "ExecuteTime": {
     "end_time": "2023-11-15T08:33:35.405630Z",
     "start_time": "2023-11-15T08:33:35.403987Z"
    }
   },
   "outputs": [],
   "source": [
    "token_list = []\n",
    "for row2 in review_list:\n",
    "    review4 = row2.split()\n",
    "    token_list.append(review4)"
   ]
  },
  {
   "cell_type": "markdown",
   "id": "f287acc128a9c52",
   "metadata": {},
   "source": [
    "removing stopwords"
   ]
  },
  {
   "cell_type": "code",
   "execution_count": 22,
   "id": "18d5a492f7a8d382",
   "metadata": {
    "ExecuteTime": {
     "end_time": "2023-11-15T08:33:35.408895Z",
     "start_time": "2023-11-15T08:33:35.406364Z"
    }
   },
   "outputs": [
    {
     "name": "stderr",
     "output_type": "stream",
     "text": [
      "[nltk_data] Downloading package stopwords to\n",
      "[nltk_data]     /Users/junghunlee/nltk_data...\n",
      "[nltk_data]   Package stopwords is already up-to-date!\n"
     ]
    }
   ],
   "source": [
    "import nltk\n",
    "nltk.download('stopwords')\n",
    "from nltk.corpus import stopwords\n",
    "stop_words = stopwords.words('english')"
   ]
  },
  {
   "cell_type": "code",
   "execution_count": 23,
   "id": "30c680d42e68617b",
   "metadata": {
    "ExecuteTime": {
     "end_time": "2023-11-15T08:33:44.379399Z",
     "start_time": "2023-11-15T08:33:35.409801Z"
    }
   },
   "outputs": [],
   "source": [
    "sentence_words = []\n",
    "for w in token_list:\n",
    "    sword = []\n",
    "    for wi in w:\n",
    "        if not wi in stopwords.words('english'): sword.append(wi)\n",
    "    sentence_words.append(sword)"
   ]
  },
  {
   "cell_type": "code",
   "execution_count": 24,
   "id": "57e0d3df96678785",
   "metadata": {
    "ExecuteTime": {
     "end_time": "2023-11-15T08:33:44.382042Z",
     "start_time": "2023-11-15T08:33:44.379816Z"
    }
   },
   "outputs": [
    {
     "name": "stdout",
     "output_type": "stream",
     "text": [
      "1000\n",
      "['one', 'reviewers', 'mentioned', 'watching', 'oz', 'episode', 'hooked', 'right', 'exactly', 'happened', 'first', 'thing', 'struck', 'oz', 'brutality', 'unflinching', 'scenes', 'violence', 'set', 'right', 'word', 'go', 'trust', 'show', 'faint', 'hearted', 'timid', 'show', 'pulls', 'punches', 'regards', 'drugs', 'sex', 'violence', 'hardcore', 'classic', 'use', 'word', 'called', 'oz', 'nickname', 'given', 'oswald', 'maximum', 'security', 'state', 'penitentary', 'focuses', 'mainly', 'emerald', 'city', 'experimental', 'section', 'prison', 'cells', 'glass', 'fronts', 'face', 'inwards', 'privacy', 'high', 'agenda', 'em', 'city', 'home', 'many', 'aryans', 'muslims', 'gangstas', 'latinos', 'christians', 'italians', 'irish', 'scuffles', 'death', 'stares', 'dodgy', 'dealings', 'shady', 'agreements', 'never', 'far', 'away', 'would', 'say', 'main', 'appeal', 'show', 'due', 'fact', 'goes', 'shows', 'dare', 'forget', 'pretty', 'pictures', 'painted', 'mainstream', 'audiences', 'forget', 'charm', 'forget', 'romance', 'oz', 'mess', 'around', 'first', 'episode', 'ever', 'saw', 'struck', 'nasty', 'surreal', 'say', 'ready', 'watched', 'developed', 'taste', 'oz', 'got', 'accustomed', 'high', 'levels', 'graphic', 'violence', 'violence', 'injustice', 'crooked', 'guards', 'sold', 'nickel', 'inmates', 'kill', 'order', 'get', 'away', 'well', 'mannered', 'middle', 'class', 'inmates', 'turned', 'prison', 'bitches', 'due', 'lack', 'street', 'skills', 'prison', 'experience', 'watching', 'oz', 'may', 'become', 'comfortable', 'uncomfortable', 'viewing', 'thats', 'get', 'touch', 'darker', 'side']\n"
     ]
    }
   ],
   "source": [
    "print(len(sentence_words))\n",
    "print(sentence_words[0])"
   ]
  },
  {
   "cell_type": "code",
   "execution_count": 25,
   "id": "747af67a4be8a6b5",
   "metadata": {
    "ExecuteTime": {
     "end_time": "2023-11-15T08:33:44.388476Z",
     "start_time": "2023-11-15T08:33:44.384428Z"
    }
   },
   "outputs": [],
   "source": [
    "clean_review = []\n",
    "for sentence in sentence_words:\n",
    "    s = ' '\n",
    "    clean_review.append(s.join(sentence))"
   ]
  },
  {
   "cell_type": "code",
   "execution_count": 26,
   "id": "ed0fb078682c7821",
   "metadata": {
    "ExecuteTime": {
     "end_time": "2023-11-15T08:33:44.390148Z",
     "start_time": "2023-11-15T08:33:44.387278Z"
    }
   },
   "outputs": [],
   "source": [
    "n = 1000\n",
    "review1 = clean_review[0:n]\n",
    "\n",
    "x_input = review1\n",
    "y_output = review['sentiment']\n",
    "\n",
    "X_train = x_input[0:700]\n",
    "X_test = x_input[700:1000]\n",
    "\n",
    "y_train = y_output[0:700]\n",
    "y_test = y_output[700:1000]"
   ]
  },
  {
   "cell_type": "markdown",
   "id": "999ec15bfd12292b",
   "metadata": {},
   "source": [
    "(1) A logistic regression model in which the vector-processed value of documents with word appearance frequency is used as an independent variable\n",
    "\n",
    "Build and evaluate model accuracy (Hint: CounterVectorizer use)"
   ]
  },
  {
   "cell_type": "markdown",
   "id": "428e77f67521c489",
   "metadata": {},
   "source": [
    "Counter Vectorizer"
   ]
  },
  {
   "cell_type": "code",
   "execution_count": 27,
   "id": "851dd053fe46d27f",
   "metadata": {
    "ExecuteTime": {
     "end_time": "2023-11-15T08:33:44.437680Z",
     "start_time": "2023-11-15T08:33:44.410190Z"
    }
   },
   "outputs": [],
   "source": [
    "from sklearn.feature_extraction.text import CountVectorizer\n",
    "\n",
    "vectorized = CountVectorizer()\n",
    "vectors = vectorized.fit(X_train)"
   ]
  },
  {
   "cell_type": "code",
   "execution_count": 28,
   "id": "42b9307ce0f39032",
   "metadata": {
    "ExecuteTime": {
     "end_time": "2023-11-15T08:33:44.467896Z",
     "start_time": "2023-11-15T08:33:44.463068Z"
    }
   },
   "outputs": [],
   "source": [
    "X_train_vectorizer = vectors.transform(X_train)"
   ]
  },
  {
   "cell_type": "markdown",
   "id": "8966a43bbe1a63a",
   "metadata": {},
   "source": [
    "Classification with Logistic Regression Model"
   ]
  },
  {
   "cell_type": "code",
   "execution_count": 29,
   "id": "2e84985b49d1938e",
   "metadata": {
    "ExecuteTime": {
     "end_time": "2023-11-15T08:33:44.580673Z",
     "start_time": "2023-11-15T08:33:44.468242Z"
    }
   },
   "outputs": [
    {
     "data": {
      "text/html": [
       "<style>#sk-container-id-3 {color: black;}#sk-container-id-3 pre{padding: 0;}#sk-container-id-3 div.sk-toggleable {background-color: white;}#sk-container-id-3 label.sk-toggleable__label {cursor: pointer;display: block;width: 100%;margin-bottom: 0;padding: 0.3em;box-sizing: border-box;text-align: center;}#sk-container-id-3 label.sk-toggleable__label-arrow:before {content: \"▸\";float: left;margin-right: 0.25em;color: #696969;}#sk-container-id-3 label.sk-toggleable__label-arrow:hover:before {color: black;}#sk-container-id-3 div.sk-estimator:hover label.sk-toggleable__label-arrow:before {color: black;}#sk-container-id-3 div.sk-toggleable__content {max-height: 0;max-width: 0;overflow: hidden;text-align: left;background-color: #f0f8ff;}#sk-container-id-3 div.sk-toggleable__content pre {margin: 0.2em;color: black;border-radius: 0.25em;background-color: #f0f8ff;}#sk-container-id-3 input.sk-toggleable__control:checked~div.sk-toggleable__content {max-height: 200px;max-width: 100%;overflow: auto;}#sk-container-id-3 input.sk-toggleable__control:checked~label.sk-toggleable__label-arrow:before {content: \"▾\";}#sk-container-id-3 div.sk-estimator input.sk-toggleable__control:checked~label.sk-toggleable__label {background-color: #d4ebff;}#sk-container-id-3 div.sk-label input.sk-toggleable__control:checked~label.sk-toggleable__label {background-color: #d4ebff;}#sk-container-id-3 input.sk-hidden--visually {border: 0;clip: rect(1px 1px 1px 1px);clip: rect(1px, 1px, 1px, 1px);height: 1px;margin: -1px;overflow: hidden;padding: 0;position: absolute;width: 1px;}#sk-container-id-3 div.sk-estimator {font-family: monospace;background-color: #f0f8ff;border: 1px dotted black;border-radius: 0.25em;box-sizing: border-box;margin-bottom: 0.5em;}#sk-container-id-3 div.sk-estimator:hover {background-color: #d4ebff;}#sk-container-id-3 div.sk-parallel-item::after {content: \"\";width: 100%;border-bottom: 1px solid gray;flex-grow: 1;}#sk-container-id-3 div.sk-label:hover label.sk-toggleable__label {background-color: #d4ebff;}#sk-container-id-3 div.sk-serial::before {content: \"\";position: absolute;border-left: 1px solid gray;box-sizing: border-box;top: 0;bottom: 0;left: 50%;z-index: 0;}#sk-container-id-3 div.sk-serial {display: flex;flex-direction: column;align-items: center;background-color: white;padding-right: 0.2em;padding-left: 0.2em;position: relative;}#sk-container-id-3 div.sk-item {position: relative;z-index: 1;}#sk-container-id-3 div.sk-parallel {display: flex;align-items: stretch;justify-content: center;background-color: white;position: relative;}#sk-container-id-3 div.sk-item::before, #sk-container-id-3 div.sk-parallel-item::before {content: \"\";position: absolute;border-left: 1px solid gray;box-sizing: border-box;top: 0;bottom: 0;left: 50%;z-index: -1;}#sk-container-id-3 div.sk-parallel-item {display: flex;flex-direction: column;z-index: 1;position: relative;background-color: white;}#sk-container-id-3 div.sk-parallel-item:first-child::after {align-self: flex-end;width: 50%;}#sk-container-id-3 div.sk-parallel-item:last-child::after {align-self: flex-start;width: 50%;}#sk-container-id-3 div.sk-parallel-item:only-child::after {width: 0;}#sk-container-id-3 div.sk-dashed-wrapped {border: 1px dashed gray;margin: 0 0.4em 0.5em 0.4em;box-sizing: border-box;padding-bottom: 0.4em;background-color: white;}#sk-container-id-3 div.sk-label label {font-family: monospace;font-weight: bold;display: inline-block;line-height: 1.2em;}#sk-container-id-3 div.sk-label-container {text-align: center;}#sk-container-id-3 div.sk-container {/* jupyter's `normalize.less` sets `[hidden] { display: none; }` but bootstrap.min.css set `[hidden] { display: none !important; }` so we also need the `!important` here to be able to override the default hidden behavior on the sphinx rendered scikit-learn.org. See: https://github.com/scikit-learn/scikit-learn/issues/21755 */display: inline-block !important;position: relative;}#sk-container-id-3 div.sk-text-repr-fallback {display: none;}</style><div id=\"sk-container-id-3\" class=\"sk-top-container\"><div class=\"sk-text-repr-fallback\"><pre>LogisticRegression()</pre><b>In a Jupyter environment, please rerun this cell to show the HTML representation or trust the notebook. <br />On GitHub, the HTML representation is unable to render, please try loading this page with nbviewer.org.</b></div><div class=\"sk-container\" hidden><div class=\"sk-item\"><div class=\"sk-estimator sk-toggleable\"><input class=\"sk-toggleable__control sk-hidden--visually\" id=\"sk-estimator-id-3\" type=\"checkbox\" checked><label for=\"sk-estimator-id-3\" class=\"sk-toggleable__label sk-toggleable__label-arrow\">LogisticRegression</label><div class=\"sk-toggleable__content\"><pre>LogisticRegression()</pre></div></div></div></div></div>"
      ],
      "text/plain": [
       "LogisticRegression()"
      ]
     },
     "execution_count": 29,
     "metadata": {},
     "output_type": "execute_result"
    }
   ],
   "source": [
    "model = LogisticRegression()\n",
    "model.fit(X_train_vectorizer, y_train)"
   ]
  },
  {
   "cell_type": "code",
   "execution_count": 30,
   "id": "d2e9cee9fead52ef",
   "metadata": {
    "ExecuteTime": {
     "end_time": "2023-11-15T08:33:44.589843Z",
     "start_time": "2023-11-15T08:33:44.577741Z"
    }
   },
   "outputs": [
    {
     "name": "stdout",
     "output_type": "stream",
     "text": [
      "The model train score is  1.0000\n"
     ]
    }
   ],
   "source": [
    "print(f'The model train score is {model.score(X_train_vectorizer, y_train) : .4f}')"
   ]
  },
  {
   "cell_type": "code",
   "execution_count": 31,
   "id": "d27e08ce174c73a6",
   "metadata": {
    "ExecuteTime": {
     "end_time": "2023-11-15T08:33:44.620078Z",
     "start_time": "2023-11-15T08:33:44.597029Z"
    }
   },
   "outputs": [
    {
     "name": "stdout",
     "output_type": "stream",
     "text": [
      "The model test score is  0.8300\n"
     ]
    }
   ],
   "source": [
    "print(f'The model test score is {model.score(vectors.transform(X_test), y_test) : .4f}')"
   ]
  },
  {
   "cell_type": "code",
   "execution_count": 32,
   "id": "f6b70f7acd188103",
   "metadata": {
    "ExecuteTime": {
     "end_time": "2023-11-15T08:33:44.758666Z",
     "start_time": "2023-11-15T08:33:44.616023Z"
    }
   },
   "outputs": [
    {
     "name": "stdout",
     "output_type": "stream",
     "text": [
      "              precision    recall  f1-score   support\n",
      "\n",
      "    negative       0.79      0.85      0.82       137\n",
      "    positive       0.87      0.81      0.84       163\n",
      "\n",
      "    accuracy                           0.83       300\n",
      "   macro avg       0.83      0.83      0.83       300\n",
      "weighted avg       0.83      0.83      0.83       300\n"
     ]
    }
   ],
   "source": [
    "y_pred = model.predict(vectors.transform(X_test))\n",
    "print(classification_report(y_test, y_pred))"
   ]
  },
  {
   "cell_type": "code",
   "execution_count": 33,
   "id": "a943e9446c220233",
   "metadata": {
    "ExecuteTime": {
     "end_time": "2023-11-15T08:33:44.759615Z",
     "start_time": "2023-11-15T08:33:44.677944Z"
    }
   },
   "outputs": [
    {
     "data": {
      "image/png": "[encoded data removed]",
      "text/plain": [
       "<Figure size 300x300 with 1 Axes>"
      ]
     },
     "metadata": {},
     "output_type": "display_data"
    }
   ],
   "source": [
    "cm = confusion_matrix(y_test, y_pred)\n",
    "plt.figure(figsize = (3, 3))\n",
    "sns.heatmap(cm, annot = True, fmt = 'd', cbar = False)\n",
    "plt.xlabel('Predicted')\n",
    "plt.ylabel('True')\n",
    "plt.title('Confusion Matrix', fontsize = 12, fontfamily = 'Serif')\n",
    "plt.show()"
   ]
  },
  {
   "cell_type": "markdown",
   "id": "ef41d0a6760bc0c0",
   "metadata": {},
   "source": [
    "(2) Build and evaluate the accuracy of the model by building a logistic regression model with TF-IDF vectors as independent variables\n",
    "\n",
    "(Hint: Tfidf Vectorizer use)"
   ]
  },
  {
   "cell_type": "code",
   "execution_count": 34,
   "id": "fae26ca2067b5973",
   "metadata": {
    "ExecuteTime": {
     "end_time": "2023-11-15T08:33:44.826943Z",
     "start_time": "2023-11-15T08:33:44.780075Z"
    }
   },
   "outputs": [],
   "source": [
    "from sklearn.feature_extraction.text import TfidfVectorizer\n",
    "\n",
    "tfidf_vector = TfidfVectorizer(stop_words = stop_words).fit(X_train)\n",
    "X_train_vectorized_tfidf = tfidf_vector.transform(X_train)"
   ]
  },
  {
   "cell_type": "code",
   "execution_count": 35,
   "id": "419af812e5bf90a1",
   "metadata": {
    "ExecuteTime": {
     "end_time": "2023-11-15T08:33:44.885237Z",
     "start_time": "2023-11-15T08:33:44.833946Z"
    }
   },
   "outputs": [
    {
     "data": {
      "text/html": [
       "<style>#sk-container-id-4 {color: black;}#sk-container-id-4 pre{padding: 0;}#sk-container-id-4 div.sk-toggleable {background-color: white;}#sk-container-id-4 label.sk-toggleable__label {cursor: pointer;display: block;width: 100%;margin-bottom: 0;padding: 0.3em;box-sizing: border-box;text-align: center;}#sk-container-id-4 label.sk-toggleable__label-arrow:before {content: \"▸\";float: left;margin-right: 0.25em;color: #696969;}#sk-container-id-4 label.sk-toggleable__label-arrow:hover:before {color: black;}#sk-container-id-4 div.sk-estimator:hover label.sk-toggleable__label-arrow:before {color: black;}#sk-container-id-4 div.sk-toggleable__content {max-height: 0;max-width: 0;overflow: hidden;text-align: left;background-color: #f0f8ff;}#sk-container-id-4 div.sk-toggleable__content pre {margin: 0.2em;color: black;border-radius: 0.25em;background-color: #f0f8ff;}#sk-container-id-4 input.sk-toggleable__control:checked~div.sk-toggleable__content {max-height: 200px;max-width: 100%;overflow: auto;}#sk-container-id-4 input.sk-toggleable__control:checked~label.sk-toggleable__label-arrow:before {content: \"▾\";}#sk-container-id-4 div.sk-estimator input.sk-toggleable__control:checked~label.sk-toggleable__label {background-color: #d4ebff;}#sk-container-id-4 div.sk-label input.sk-toggleable__control:checked~label.sk-toggleable__label {background-color: #d4ebff;}#sk-container-id-4 input.sk-hidden--visually {border: 0;clip: rect(1px 1px 1px 1px);clip: rect(1px, 1px, 1px, 1px);height: 1px;margin: -1px;overflow: hidden;padding: 0;position: absolute;width: 1px;}#sk-container-id-4 div.sk-estimator {font-family: monospace;background-color: #f0f8ff;border: 1px dotted black;border-radius: 0.25em;box-sizing: border-box;margin-bottom: 0.5em;}#sk-container-id-4 div.sk-estimator:hover {background-color: #d4ebff;}#sk-container-id-4 div.sk-parallel-item::after {content: \"\";width: 100%;border-bottom: 1px solid gray;flex-grow: 1;}#sk-container-id-4 div.sk-label:hover label.sk-toggleable__label {background-color: #d4ebff;}#sk-container-id-4 div.sk-serial::before {content: \"\";position: absolute;border-left: 1px solid gray;box-sizing: border-box;top: 0;bottom: 0;left: 50%;z-index: 0;}#sk-container-id-4 div.sk-serial {display: flex;flex-direction: column;align-items: center;background-color: white;padding-right: 0.2em;padding-left: 0.2em;position: relative;}#sk-container-id-4 div.sk-item {position: relative;z-index: 1;}#sk-container-id-4 div.sk-parallel {display: flex;align-items: stretch;justify-content: center;background-color: white;position: relative;}#sk-container-id-4 div.sk-item::before, #sk-container-id-4 div.sk-parallel-item::before {content: \"\";position: absolute;border-left: 1px solid gray;box-sizing: border-box;top: 0;bottom: 0;left: 50%;z-index: -1;}#sk-container-id-4 div.sk-parallel-item {display: flex;flex-direction: column;z-index: 1;position: relative;background-color: white;}#sk-container-id-4 div.sk-parallel-item:first-child::after {align-self: flex-end;width: 50%;}#sk-container-id-4 div.sk-parallel-item:last-child::after {align-self: flex-start;width: 50%;}#sk-container-id-4 div.sk-parallel-item:only-child::after {width: 0;}#sk-container-id-4 div.sk-dashed-wrapped {border: 1px dashed gray;margin: 0 0.4em 0.5em 0.4em;box-sizing: border-box;padding-bottom: 0.4em;background-color: white;}#sk-container-id-4 div.sk-label label {font-family: monospace;font-weight: bold;display: inline-block;line-height: 1.2em;}#sk-container-id-4 div.sk-label-container {text-align: center;}#sk-container-id-4 div.sk-container {/* jupyter's `normalize.less` sets `[hidden] { display: none; }` but bootstrap.min.css set `[hidden] { display: none !important; }` so we also need the `!important` here to be able to override the default hidden behavior on the sphinx rendered scikit-learn.org. See: https://github.com/scikit-learn/scikit-learn/issues/21755 */display: inline-block !important;position: relative;}#sk-container-id-4 div.sk-text-repr-fallback {display: none;}</style><div id=\"sk-container-id-4\" class=\"sk-top-container\"><div class=\"sk-text-repr-fallback\"><pre>LogisticRegression()</pre><b>In a Jupyter environment, please rerun this cell to show the HTML representation or trust the notebook. <br />On GitHub, the HTML representation is unable to render, please try loading this page with nbviewer.org.</b></div><div class=\"sk-container\" hidden><div class=\"sk-item\"><div class=\"sk-estimator sk-toggleable\"><input class=\"sk-toggleable__control sk-hidden--visually\" id=\"sk-estimator-id-4\" type=\"checkbox\" checked><label for=\"sk-estimator-id-4\" class=\"sk-toggleable__label sk-toggleable__label-arrow\">LogisticRegression</label><div class=\"sk-toggleable__content\"><pre>LogisticRegression()</pre></div></div></div></div></div>"
      ],
      "text/plain": [
       "LogisticRegression()"
      ]
     },
     "execution_count": 35,
     "metadata": {},
     "output_type": "execute_result"
    }
   ],
   "source": [
    "model = LogisticRegression()\n",
    "model.fit(X_train_vectorized_tfidf, y_train)"
   ]
  },
  {
   "cell_type": "code",
   "execution_count": 36,
   "id": "d99f614b7dca6a28",
   "metadata": {
    "ExecuteTime": {
     "end_time": "2023-11-15T08:33:44.907427Z",
     "start_time": "2023-11-15T08:33:44.885892Z"
    }
   },
   "outputs": [
    {
     "name": "stdout",
     "output_type": "stream",
     "text": [
      "The model train score is  0.9914\n"
     ]
    }
   ],
   "source": [
    "print(f'The model train score is {model.score(X_train_vectorized_tfidf, y_train) : .4f}')"
   ]
  },
  {
   "cell_type": "code",
   "execution_count": 37,
   "id": "14c46f487a0443d3",
   "metadata": {
    "ExecuteTime": {
     "end_time": "2023-11-15T08:33:44.951102Z",
     "start_time": "2023-11-15T08:33:44.902879Z"
    }
   },
   "outputs": [
    {
     "name": "stdout",
     "output_type": "stream",
     "text": [
      "The model test score is  0.8333\n"
     ]
    }
   ],
   "source": [
    "print(f'The model test score is {model.score(tfidf_vector.transform(X_test), y_test) : .4f}')"
   ]
  },
  {
   "cell_type": "code",
   "execution_count": 38,
   "id": "2c07b540f9d21aec",
   "metadata": {
    "ExecuteTime": {
     "end_time": "2023-11-15T08:33:44.965983Z",
     "start_time": "2023-11-15T08:33:44.929022Z"
    }
   },
   "outputs": [
    {
     "name": "stdout",
     "output_type": "stream",
     "text": [
      "              precision    recall  f1-score   support\n",
      "\n",
      "    negative       0.76      0.92      0.83       137\n",
      "    positive       0.92      0.76      0.83       163\n",
      "\n",
      "    accuracy                           0.83       300\n",
      "   macro avg       0.84      0.84      0.83       300\n",
      "weighted avg       0.85      0.83      0.83       300\n"
     ]
    }
   ],
   "source": [
    "y_pred = model.predict(tfidf_vector.transform(X_test))\n",
    "print(classification_report(y_test, y_pred))"
   ]
  },
  {
   "cell_type": "code",
   "execution_count": 39,
   "id": "c035cc282015ead0",
   "metadata": {
    "ExecuteTime": {
     "end_time": "2023-11-15T08:33:45.027830Z",
     "start_time": "2023-11-15T08:33:44.961428Z"
    }
   },
   "outputs": [
    {
     "data": {
      "image/png": "[encoded data removed]",
      "text/plain": [
       "<Figure size 300x300 with 1 Axes>"
      ]
     },
     "metadata": {},
     "output_type": "display_data"
    }
   ],
   "source": [
    "cm = confusion_matrix(y_test, y_pred)\n",
    "plt.figure(figsize = (3, 3))\n",
    "sns.heatmap(cm, annot = True, fmt = 'd', cbar = False)\n",
    "plt.xlabel('Predicted')\n",
    "plt.ylabel('True')\n",
    "plt.title('Confusion Matrix', fontsize = 12, fontfamily = 'Serif')\n",
    "plt.show()"
   ]
  }
 ],
 "metadata": {
  "kernelspec": {
   "display_name": "Python 3 (ipykernel)",
   "language": "python",
   "name": "python3"
  },
  "language_info": {
   "codemirror_mode": {
    "name": "ipython",
    "version": 3
   },
   "file_extension": ".py",
   "mimetype": "text/x-python",
   "name": "python",
   "nbconvert_exporter": "python",
   "pygments_lexer": "ipython3",
   "version": "3.11.4"
  }
 },
 "nbformat": 4,
 "nbformat_minor": 5
}
