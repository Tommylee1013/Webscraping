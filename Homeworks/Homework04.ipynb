{
 "cells": [
  {
   "cell_type": "markdown",
   "source": [
    "### Text Mining Homework 4\n",
    "\n",
    "#### Problem 1\n",
    "\n",
    "Please put IMDB sentiment (positive, negative) of movie review data ( IMDB Dataset.csv) as a dependent variable. You want to evaluate model accuracy after establishing a model with the sentiment score for the review obtained using the sentiment dictionary(lexicon) as an independent variable. Among the entire data, only the first 1000 data are used for convenience. Among these, the first 70% is used as train data to build a model, and the remaining 30% is used as test data to evaluate accuracy. For accuracy evaluation, accuracy ( accuracy rate) is used."
   ],
   "metadata": {
    "collapsed": false
   },
   "id": "4eeb109dc97c01bf"
  },
  {
   "cell_type": "markdown",
   "source": [
    "(1) Build a logistic regression model with the sentiment score obtained using the AFINN dictionary\n",
    "as an independent variable, and evaluate model accuracy."
   ],
   "metadata": {
    "collapsed": false
   },
   "id": "3f2281b022a9f249"
  },
  {
   "cell_type": "code",
   "execution_count": null,
   "id": "initial_id",
   "metadata": {
    "collapsed": true
   },
   "outputs": [],
   "source": []
  },
  {
   "cell_type": "markdown",
   "source": [
    "(2) First, preprocess the review sentence using the following preprocessing way. Second, assign scores 1 and -1 to words that match positive and negative words in the NRC dictionary, respectively. Third, generate the sentiment score by adding the positive and negative scores as an independent variable. Finally, evaluate the accuracy of a logistic regression model with the sentiment score obtained using the procedures above. (using NRC-Emotion-Lexicon-Wordlevel-v0.92.txt)"
   ],
   "metadata": {
    "collapsed": false
   },
   "id": "286fce9b0d3ab9f8"
  },
  {
   "cell_type": "code",
   "execution_count": null,
   "outputs": [],
   "source": [],
   "metadata": {
    "collapsed": false
   },
   "id": "c5b3e12ffe8bcfef"
  },
  {
   "cell_type": "markdown",
   "source": [
    "#### Problem 2\n",
    "\n",
    "Please put IMDB sentiment (positive, negative) of movie review data ( IMDB Dataset.csv) as a dependent variable. The (raw frequency based or TF-IDF modified frequency based) Term-Document data for reviews work as independent variables. Among the entire data, only the first 1000 data are used for convenience. Among these, the first 70% is used as train data to build a model, and the remaining 30% is used as test data to evaluate accuracy. For accuracy evaluation, an accurate rate is used. Answer the questions using the data that went through the preprocessing process below.\n",
    "\n",
    "**Preprocessing process**\n",
    "\n",
    "1. HTML Remove tags and extract only text\n",
    "2. Convert non-alphabetic characters to spaces\n",
    "3. Convert to lower case\n",
    "4. stop words Removed (using nltk 's English stopwords)\n",
    "5. One Combining strings with spaces (using join)"
   ],
   "metadata": {
    "collapsed": false
   },
   "id": "eda13411cfd64b5c"
  },
  {
   "cell_type": "markdown",
   "source": [
    "(1) A logistic regression model in which the vector-processed value of documents with word appearance frequency is used as an independent variable\n",
    "\n",
    "Build and evaluate model accuracy. ( Hint: CounterVectorizer use )"
   ],
   "metadata": {
    "collapsed": false
   },
   "id": "999ec15bfd12292b"
  },
  {
   "cell_type": "code",
   "execution_count": null,
   "outputs": [],
   "source": [],
   "metadata": {
    "collapsed": false
   },
   "id": "1f0d0e595565e014"
  },
  {
   "cell_type": "markdown",
   "source": [
    "(2) Build and evaluate the accuracy of the model by building a logistic regression model with TF-IDF vectors as independent variables\n",
    "\n",
    "(Hint: Tfidf Vectorizer use)"
   ],
   "metadata": {
    "collapsed": false
   },
   "id": "ef41d0a6760bc0c0"
  },
  {
   "cell_type": "code",
   "execution_count": null,
   "outputs": [],
   "source": [],
   "metadata": {
    "collapsed": false
   },
   "id": "fae26ca2067b5973"
  }
 ],
 "metadata": {
  "kernelspec": {
   "display_name": "Python 3",
   "language": "python",
   "name": "python3"
  },
  "language_info": {
   "codemirror_mode": {
    "name": "ipython",
    "version": 2
   },
   "file_extension": ".py",
   "mimetype": "text/x-python",
   "name": "python",
   "nbconvert_exporter": "python",
   "pygments_lexer": "ipython2",
   "version": "2.7.6"
  }
 },
 "nbformat": 4,
 "nbformat_minor": 5
}
