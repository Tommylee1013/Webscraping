{
 "cells": [
  {
   "cell_type": "markdown",
   "id": "956613ca95353689",
   "metadata": {},
   "source": [
    "### Text Mining Homework 2\n",
    "\n",
    "#### 1. IMDB Top 250 movies\n",
    "\n",
    "(https://www.imdb.com/search/title/?groups=top_250&sort=user_rating)\n",
    "\n",
    "We want to analyze IMDB top 250 movies. Create a data frame containing the five variables below while doing necessary preprocessing, such as removing dots or parentheses, and then answer the question. (rank, title, year, runtime, genre, director, rating (the number next to the yellow star))"
   ]
  },
  {
   "cell_type": "code",
   "execution_count": 2,
   "id": "initial_id",
   "metadata": {
    "collapsed": true,
    "ExecuteTime": {
     "end_time": "2023-10-17T14:26:30.029675Z",
     "start_time": "2023-10-17T14:25:56.961806Z"
    }
   },
   "outputs": [],
   "source": [
    "import requests\n",
    "from bs4 import BeautifulSoup\n",
    "import re\n",
    "\n",
    "url1 = 'https://www.imdb.com/search/title/?groups=top_250&sort=user_rating,desc&ref_=adv_prv'\n",
    "url2 = 'https://www.imdb.com/search/title/?groups=top_250&sort=user_rating,desc&start=51&ref_=adv_nxt'\n",
    "url3 = 'https://www.imdb.com/search/title/?groups=top_250&sort=user_rating,desc&start=101&ref_=adv_nxt'\n",
    "url4 = 'https://www.imdb.com/search/title/?groups=top_250&sort=user_rating,desc&start=151&ref_=adv_nxt'\n",
    "url5 = 'https://www.imdb.com/search/title/?groups=top_250&sort=user_rating,desc&start=201&ref_=adv_nxt'\n",
    "url_list = [url1, url2, url3, url4, url5]\n",
    "\n",
    "rank_list = []\n",
    "title_list = []\n",
    "year_list = []\n",
    "runtime_list = []\n",
    "genre_list = []\n",
    "director_list = []\n",
    "rating_list = []\n",
    "\n",
    "for url_i in url_list:\n",
    "  url = url_i\n",
    "  req = requests.get(url)\n",
    "  html = req.text\n",
    "  soup = BeautifulSoup(html, \"html.parser\")\n",
    "\n",
    "  for i in range(0,50):\n",
    "    rank = re.sub('\\.', '', soup.select(\".lister-item-index\")[i].text)\n",
    "    title = soup.select(\".lister-item-header > a\")[i].text\n",
    "    year = re.sub('\\(|\\)', '', soup.select(\".lister-item-year\")[i].text)\n",
    "    runtime = float(re.sub('min', ' ', soup.select(\".runtime\")[i].text))\n",
    "    genre = re.sub('\\\\n', '', soup.select(\".genre\")[i].text)\n",
    "    director = soup.select(\"p > a:nth-of-type(1)\")[i].text\n",
    "    rating = float(soup.select(\".inline-block > strong\")[i].text)\n",
    "    rank_list.append(rank)\n",
    "    title_list.append(title)\n",
    "    year_list.append(year)\n",
    "    runtime_list.append(runtime)\n",
    "    genre_list.append(genre)\n",
    "    director_list.append(director)\n",
    "    rating_list.append(rating)\n",
    "    # print(i)"
   ]
  },
  {
   "cell_type": "markdown",
   "id": "19d8d93f9b41ca94",
   "metadata": {},
   "source": [
    "1.1 What are the top 2 years with the highest frequency?"
   ]
  },
  {
   "cell_type": "code",
   "execution_count": 3,
   "id": "1367d72253b5ccdf",
   "metadata": {
    "ExecuteTime": {
     "end_time": "2023-10-17T14:26:33.925563Z",
     "start_time": "2023-10-17T14:26:33.904480Z"
    }
   },
   "outputs": [
    {
     "name": "stdout",
     "output_type": "stream",
     "text": [
      "[('1995', 8), ('2004', 7)]\n"
     ]
    }
   ],
   "source": [
    "from collections import Counter\n",
    "year_clean = [i.replace('I ','') for i in year_list]\n",
    "counter = Counter(year_clean)\n",
    "most_common_2 = counter.most_common(2)\n",
    "\n",
    "print(most_common_2)"
   ]
  },
  {
   "cell_type": "markdown",
   "id": "9de4d926e39117b1",
   "metadata": {},
   "source": [
    "1995, 2004 are the highest frequent year."
   ]
  },
  {
   "cell_type": "markdown",
   "id": "6e9bc7d6f55c62bc",
   "metadata": {},
   "source": [
    "1.2 Using the average of ratings by year, find the **year with the highest** average value and **the average value**"
   ]
  },
  {
   "cell_type": "code",
   "execution_count": 5,
   "id": "4bd21ac432d4c2f5",
   "metadata": {
    "ExecuteTime": {
     "end_time": "2023-10-17T14:27:55.309438Z",
     "start_time": "2023-10-17T14:27:55.298834Z"
    }
   },
   "outputs": [
    {
     "data": {
      "text/plain": "                title rank runtime                                     genre  \\\n1994           쇼생크 탈출    1   142.0                         Drama               \n1972           Daeboo    2   175.0                  Crime, Drama               \n2008           다크 나이트    3   152.0          Action, Crime, Drama               \n1993          쉰들러 리스트    4   195.0     Biography, Drama, History               \n2003    반지의 제왕: 왕의 귀환    5   201.0      Action, Adventure, Drama               \n...               ...  ...     ...                                       ...   \n1925    The Gold Rush  246    95.0      Adventure, Comedy, Drama               \n2004  The Incredibles  247   115.0  Animation, Action, Adventure               \n1992              알라딘  248    90.0  Animation, Adventure, Comedy               \n1993          사랑의 블랙홀  249   101.0        Comedy, Drama, Fantasy               \n1979    Life of Brian  250    94.0                        Comedy               \n\n                  director rating  \n1994        Frank Darabont    9.3  \n1972  Francis Ford Coppola    9.2  \n2008     Christopher Nolan    9.0  \n1993       Oskar Schindler    9.0  \n2003      Steven Spielberg    9.0  \n...                    ...    ...  \n1925          Yasujirô Ozu    8.1  \n2004   Carl Theodor Dreyer    8.0  \n1992           Frank Capra    8.0  \n1993        Clyde Bruckman    8.0  \n1979       Charles Chaplin    8.0  \n\n[250 rows x 6 columns]",
      "text/html": "<div>\n<style scoped>\n    .dataframe tbody tr th:only-of-type {\n        vertical-align: middle;\n    }\n\n    .dataframe tbody tr th {\n        vertical-align: top;\n    }\n\n    .dataframe thead th {\n        text-align: right;\n    }\n</style>\n<table border=\"1\" class=\"dataframe\">\n  <thead>\n    <tr style=\"text-align: right;\">\n      <th></th>\n      <th>title</th>\n      <th>rank</th>\n      <th>runtime</th>\n      <th>genre</th>\n      <th>director</th>\n      <th>rating</th>\n    </tr>\n  </thead>\n  <tbody>\n    <tr>\n      <th>1994</th>\n      <td>쇼생크 탈출</td>\n      <td>1</td>\n      <td>142.0</td>\n      <td>Drama</td>\n      <td>Frank Darabont</td>\n      <td>9.3</td>\n    </tr>\n    <tr>\n      <th>1972</th>\n      <td>Daeboo</td>\n      <td>2</td>\n      <td>175.0</td>\n      <td>Crime, Drama</td>\n      <td>Francis Ford Coppola</td>\n      <td>9.2</td>\n    </tr>\n    <tr>\n      <th>2008</th>\n      <td>다크 나이트</td>\n      <td>3</td>\n      <td>152.0</td>\n      <td>Action, Crime, Drama</td>\n      <td>Christopher Nolan</td>\n      <td>9.0</td>\n    </tr>\n    <tr>\n      <th>1993</th>\n      <td>쉰들러 리스트</td>\n      <td>4</td>\n      <td>195.0</td>\n      <td>Biography, Drama, History</td>\n      <td>Oskar Schindler</td>\n      <td>9.0</td>\n    </tr>\n    <tr>\n      <th>2003</th>\n      <td>반지의 제왕: 왕의 귀환</td>\n      <td>5</td>\n      <td>201.0</td>\n      <td>Action, Adventure, Drama</td>\n      <td>Steven Spielberg</td>\n      <td>9.0</td>\n    </tr>\n    <tr>\n      <th>...</th>\n      <td>...</td>\n      <td>...</td>\n      <td>...</td>\n      <td>...</td>\n      <td>...</td>\n      <td>...</td>\n    </tr>\n    <tr>\n      <th>1925</th>\n      <td>The Gold Rush</td>\n      <td>246</td>\n      <td>95.0</td>\n      <td>Adventure, Comedy, Drama</td>\n      <td>Yasujirô Ozu</td>\n      <td>8.1</td>\n    </tr>\n    <tr>\n      <th>2004</th>\n      <td>The Incredibles</td>\n      <td>247</td>\n      <td>115.0</td>\n      <td>Animation, Action, Adventure</td>\n      <td>Carl Theodor Dreyer</td>\n      <td>8.0</td>\n    </tr>\n    <tr>\n      <th>1992</th>\n      <td>알라딘</td>\n      <td>248</td>\n      <td>90.0</td>\n      <td>Animation, Adventure, Comedy</td>\n      <td>Frank Capra</td>\n      <td>8.0</td>\n    </tr>\n    <tr>\n      <th>1993</th>\n      <td>사랑의 블랙홀</td>\n      <td>249</td>\n      <td>101.0</td>\n      <td>Comedy, Drama, Fantasy</td>\n      <td>Clyde Bruckman</td>\n      <td>8.0</td>\n    </tr>\n    <tr>\n      <th>1979</th>\n      <td>Life of Brian</td>\n      <td>250</td>\n      <td>94.0</td>\n      <td>Comedy</td>\n      <td>Charles Chaplin</td>\n      <td>8.0</td>\n    </tr>\n  </tbody>\n</table>\n<p>250 rows × 6 columns</p>\n</div>"
     },
     "execution_count": 5,
     "metadata": {},
     "output_type": "execute_result"
    }
   ],
   "source": [
    "import pandas as pd\n",
    "df = pd.DataFrame([title_list, rank_list, runtime_list, genre_list, director_list, rating_list], \n",
    "                   index = ['title','rank','runtime','genre','director','rating'], \n",
    "                   columns = year_clean).T\n",
    "df"
   ]
  },
  {
   "cell_type": "code",
   "execution_count": 6,
   "id": "8e555a096d2f92f4",
   "metadata": {
    "ExecuteTime": {
     "end_time": "2023-10-17T14:28:10.378179Z",
     "start_time": "2023-10-17T14:28:10.366384Z"
    }
   },
   "outputs": [
    {
     "data": {
      "text/plain": "1972    9.2\nName: rating, dtype: object"
     },
     "execution_count": 6,
     "metadata": {},
     "output_type": "execute_result"
    }
   ],
   "source": [
    "df['rating'].groupby(df.index).mean().sort_values(ascending = False).iloc[:1]"
   ]
  },
  {
   "cell_type": "markdown",
   "id": "3a07e14323d9da54",
   "metadata": {},
   "source": [
    "The year which have the highest average rating is **1972** whose value is 9.2"
   ]
  },
  {
   "cell_type": "markdown",
   "id": "5edf8d50724d7e52",
   "metadata": {},
   "source": [
    "1.3 What is the second most frequent genre and how many episodes are there? (Note: Multiple genre combinations are classified as one separate genre )"
   ]
  },
  {
   "cell_type": "code",
   "execution_count": 7,
   "id": "31a19f447bd3c66d",
   "metadata": {
    "ExecuteTime": {
     "end_time": "2023-10-17T14:29:08.480436Z",
     "start_time": "2023-10-17T14:29:08.468710Z"
    }
   },
   "outputs": [
    {
     "data": {
      "text/plain": "genre\nDrama                                       19\nCrime, Drama                                14\nAnimation, Adventure, Comedy                 9\nCrime, Drama, Mystery                        9\nBiography, Drama, History                    9\n                                            ..\nCrime, Drama, Film-Noir                      1\nAdventure, Comedy, Sci-Fi                    1\nAdventure, Comedy, Fantasy                   1\nCrime, Mystery, Thriller                     1\nWestern                                      1\nName: count, Length: 105, dtype: int64"
     },
     "execution_count": 7,
     "metadata": {},
     "output_type": "execute_result"
    }
   ],
   "source": [
    "df.groupby('genre')['genre'].value_counts().sort_values(ascending = False)"
   ]
  },
  {
   "cell_type": "code",
   "execution_count": 8,
   "id": "b1238034d25bee81",
   "metadata": {
    "ExecuteTime": {
     "end_time": "2023-10-17T14:29:09.948557Z",
     "start_time": "2023-10-17T14:29:09.922051Z"
    }
   },
   "outputs": [
    {
     "data": {
      "text/plain": "genre\nCrime, Drama                14\nName: count, dtype: int64"
     },
     "execution_count": 8,
     "metadata": {},
     "output_type": "execute_result"
    }
   ],
   "source": [
    "df.groupby('genre')['genre'].value_counts().sort_values(ascending = False).iloc[1:2]"
   ]
  },
  {
   "cell_type": "markdown",
   "id": "290779d600c4a450",
   "metadata": {},
   "source": [
    "The second most frequent genre is **Crime, Drama** whose number of episode are 14"
   ]
  },
  {
   "cell_type": "markdown",
   "source": [
    "장르를 만약 나누라면?"
   ],
   "metadata": {
    "collapsed": false
   },
   "id": "81b8406bbf5c1e19"
  },
  {
   "cell_type": "code",
   "execution_count": 21,
   "outputs": [],
   "source": [
    "import numpy as np\n",
    "sep_genre_count = []\n",
    "for i in np.array(df['genre']) :\n",
    "    sep_genre_count.append(i.split(', '))"
   ],
   "metadata": {
    "collapsed": false,
    "ExecuteTime": {
     "end_time": "2023-10-17T14:32:59.837424Z",
     "start_time": "2023-10-17T14:32:59.817325Z"
    }
   },
   "id": "ea9197c3118741d8"
  },
  {
   "cell_type": "code",
   "execution_count": 23,
   "outputs": [],
   "source": [
    "for i in sep_genre_count :\n",
    "    for j in range(len(i)) :\n",
    "        i[j] = i[j].replace(' ','')"
   ],
   "metadata": {
    "collapsed": false,
    "ExecuteTime": {
     "end_time": "2023-10-17T14:34:26.013714Z",
     "start_time": "2023-10-17T14:34:25.996053Z"
    }
   },
   "id": "fed05ca5aeffef0b"
  },
  {
   "cell_type": "code",
   "execution_count": 27,
   "outputs": [],
   "source": [
    "save_genre = []\n",
    "for i in sep_genre_count :\n",
    "    for j in i :\n",
    "        save_genre.append(j)"
   ],
   "metadata": {
    "collapsed": false,
    "ExecuteTime": {
     "end_time": "2023-10-17T14:43:41.264386Z",
     "start_time": "2023-10-17T14:43:41.252301Z"
    }
   },
   "id": "2f9bd72108b8fd98"
  },
  {
   "cell_type": "code",
   "execution_count": 28,
   "outputs": [
    {
     "data": {
      "text/plain": "Drama        176\nAdventure     59\nAction        52\nCrime         52\nComedy        46\nMystery       32\nThriller      32\nBiography     28\nWar           24\nAnimation     24\nRomance       23\nSci-Fi        20\nFantasy       14\nFamily        13\nHistory       10\nWestern        6\nHorror         5\nSport          5\nMusic          4\nFilm-Noir      4\nMusical        1\nName: count, dtype: int64"
     },
     "execution_count": 28,
     "metadata": {},
     "output_type": "execute_result"
    }
   ],
   "source": [
    "pd.Series(save_genre).value_counts()"
   ],
   "metadata": {
    "collapsed": false,
    "ExecuteTime": {
     "end_time": "2023-10-17T14:43:46.957064Z",
     "start_time": "2023-10-17T14:43:46.935707Z"
    }
   },
   "id": "141a00ad2b1aa93b"
  },
  {
   "cell_type": "code",
   "execution_count": 32,
   "outputs": [
    {
     "data": {
      "text/plain": "<Figure size 800x400 with 1 Axes>",
      "image/png": "[encoded data removed]"
     },
     "metadata": {},
     "output_type": "display_data"
    }
   ],
   "source": [
    "import matplotlib.pyplot as plt\n",
    "plt.figure(figsize = (8, 4))\n",
    "plt.bar(pd.Series(save_genre).value_counts().index, pd.Series(save_genre).value_counts())\n",
    "plt.xticks(rotation = 90)\n",
    "plt.show()"
   ],
   "metadata": {
    "collapsed": false,
    "ExecuteTime": {
     "end_time": "2023-10-17T14:46:16.162634Z",
     "start_time": "2023-10-17T14:46:16.080872Z"
    }
   },
   "id": "8637cbc8908b45fa"
  },
  {
   "cell_type": "markdown",
   "source": [
    "모두 분리해서 counting하면 Drama가 176번으로 가장 많다"
   ],
   "metadata": {
    "collapsed": false
   },
   "id": "b2c64e08aaa63524"
  },
  {
   "cell_type": "markdown",
   "id": "bd13405f30adc94e",
   "metadata": {},
   "source": [
    "1.4 Who is(are) the director(s) who produced more than 7 films?"
   ]
  },
  {
   "cell_type": "code",
   "execution_count": 33,
   "id": "1ab5203304eb7e20",
   "metadata": {
    "ExecuteTime": {
     "end_time": "2023-10-17T14:50:08.431556Z",
     "start_time": "2023-10-17T14:50:08.410053Z"
    }
   },
   "outputs": [
    {
     "data": {
      "text/plain": "director\nChristopher Nolan         True\nMartin Scorsese          False\nSteven Spielberg         False\nAkira Kurosawa           False\nAlfred Hitchcock         False\n                         ...  \nHenry Hill               False\nHenri-Georges Clouzot    False\nGus Van Sant             False\nGuillermo del Toro       False\n어벤져스: 인피니티 워             False\nName: count, Length: 159, dtype: bool"
     },
     "execution_count": 33,
     "metadata": {},
     "output_type": "execute_result"
    }
   ],
   "source": [
    "df.groupby('director')['director'].value_counts().sort_values(ascending = False) > 7"
   ]
  },
  {
   "cell_type": "markdown",
   "id": "9eb4760c4736be70",
   "metadata": {},
   "source": [
    "The director who produced more than 7 films is **Christopher Nolan**"
   ]
  },
  {
   "cell_type": "markdown",
   "id": "ad3aa7fd9bfd62e7",
   "metadata": {},
   "source": [
    "1.5 How many works are there less than 70 minutes in their runtime?"
   ]
  },
  {
   "cell_type": "code",
   "execution_count": 34,
   "id": "595683b708aca4e",
   "metadata": {
    "ExecuteTime": {
     "end_time": "2023-10-17T14:50:10.357509Z",
     "start_time": "2023-10-17T14:50:10.340389Z"
    }
   },
   "outputs": [],
   "source": [
    "df['runtime'] = df['runtime'].astype(float)"
   ]
  },
  {
   "cell_type": "code",
   "execution_count": 35,
   "id": "3b4b086a3091351f",
   "metadata": {
    "ExecuteTime": {
     "end_time": "2023-10-17T14:50:10.665574Z",
     "start_time": "2023-10-17T14:50:10.649298Z"
    }
   },
   "outputs": [
    {
     "data": {
      "text/plain": "             title rank  runtime                                genre  \\\n1921       The Kid  169     68.0    Comedy, Drama, Family               \n1924  Sherlock Jr.  172     45.0  Action, Comedy, Romance               \n\n             director rating  \n1921  Charles Chaplin    8.2  \n1924    Buster Keaton    8.2  ",
      "text/html": "<div>\n<style scoped>\n    .dataframe tbody tr th:only-of-type {\n        vertical-align: middle;\n    }\n\n    .dataframe tbody tr th {\n        vertical-align: top;\n    }\n\n    .dataframe thead th {\n        text-align: right;\n    }\n</style>\n<table border=\"1\" class=\"dataframe\">\n  <thead>\n    <tr style=\"text-align: right;\">\n      <th></th>\n      <th>title</th>\n      <th>rank</th>\n      <th>runtime</th>\n      <th>genre</th>\n      <th>director</th>\n      <th>rating</th>\n    </tr>\n  </thead>\n  <tbody>\n    <tr>\n      <th>1921</th>\n      <td>The Kid</td>\n      <td>169</td>\n      <td>68.0</td>\n      <td>Comedy, Drama, Family</td>\n      <td>Charles Chaplin</td>\n      <td>8.2</td>\n    </tr>\n    <tr>\n      <th>1924</th>\n      <td>Sherlock Jr.</td>\n      <td>172</td>\n      <td>45.0</td>\n      <td>Action, Comedy, Romance</td>\n      <td>Buster Keaton</td>\n      <td>8.2</td>\n    </tr>\n  </tbody>\n</table>\n</div>"
     },
     "execution_count": 35,
     "metadata": {},
     "output_type": "execute_result"
    }
   ],
   "source": [
    "df[df['runtime'] < 70]"
   ]
  },
  {
   "cell_type": "markdown",
   "id": "8063b797a14f991",
   "metadata": {},
   "source": [
    "There is only 2 works whose running time is less than 70 minutes"
   ]
  },
  {
   "cell_type": "markdown",
   "id": "10608d50309d8b99",
   "metadata": {},
   "source": [
    "#### Problem 2\n",
    "\n",
    "We want to extract the news from August 15th to 18th, 2023 from the oilprice.com site and list [title] and [writer]. After extracting the title and date of the news using the URL pages below (20 cases per page) as candidates, we are trying to separately extract cases where the corresponding date falls between August 15 and 18, 2023.\n",
    "\n",
    "https://oilprice.com/Latest-Energy-News/World-News/\n",
    "https://oilprice.com/Latest-Energy-News/World-News/Page-1.html\n",
    "https://oilprice.com/Latest-Energy-News/World-News/Page-2.html\n",
    "\n",
    "Note that each of the above URL pages contains 20 news articles.\n",
    "Answer the questions below about the news from August 15-18, 2023."
   ]
  },
  {
   "cell_type": "code",
   "execution_count": 39,
   "id": "ad5ea9df23347f87",
   "metadata": {
    "ExecuteTime": {
     "end_time": "2023-10-17T14:51:41.108059Z",
     "start_time": "2023-10-17T14:51:41.092409Z"
    }
   },
   "outputs": [],
   "source": [
    "url_list = [\n",
    "    \"https://oilprice.com/Latest-Energy-News/World-News/Page-24.html\",\n",
    "    \"https://oilprice.com/Latest-Energy-News/World-News/Page-25.html\",\n",
    "    \"https://oilprice.com/Latest-Energy-News/World-News/Page-26.html\"\n",
    "]"
   ]
  },
  {
   "cell_type": "code",
   "execution_count": 40,
   "id": "69cace7632377c97",
   "metadata": {
    "ExecuteTime": {
     "end_time": "2023-10-17T14:51:46.147626Z",
     "start_time": "2023-10-17T14:51:41.483536Z"
    }
   },
   "outputs": [],
   "source": [
    "news_titles = []\n",
    "news_date = []\n",
    "news_writer = []\n",
    "news_excerpt = []\n",
    "\n",
    "for url in url_list:\n",
    "    req = requests.get(url)\n",
    "    html = req.text\n",
    "    soup = BeautifulSoup(html, \"html.parser\")\n",
    "    \n",
    "    title_elements = soup.select(\".categoryArticle__title\")\n",
    "    meta_elements = soup.select(\".categoryArticle__meta\")\n",
    "    excerpt_elements = soup.select('.categoryArticle__excerpt')\n",
    "    \n",
    "    for title_element in title_elements:\n",
    "        title = title_element.text.strip()\n",
    "        news_titles.append(title)\n",
    "        \n",
    "    for meta_element in meta_elements :\n",
    "        time, writer = meta_element.text.strip().split(' | ')\n",
    "        date, _ = time.split(' at ')\n",
    "        news_writer.append(writer)\n",
    "        news_date.append(date)\n",
    "    \n",
    "    for excerpt_element in excerpt_elements :\n",
    "        excerpt = excerpt_element.text.strip()\n",
    "        news_excerpt.append(excerpt)"
   ]
  },
  {
   "cell_type": "code",
   "execution_count": 41,
   "id": "9517f2a21d3373f1",
   "metadata": {
    "ExecuteTime": {
     "end_time": "2023-10-17T14:51:55.134269Z",
     "start_time": "2023-10-17T14:51:55.127477Z"
    }
   },
   "outputs": [
    {
     "data": {
      "text/plain": "                                                          title  \\\nAug 21, 2023  Latest U.S. Upstream Merger To Create $14-Bill...   \nAug 21, 2023  U.S. Oil Firm Apache Plans To Invest $1.4 Bill...   \nAug 21, 2023  North Carolina Excluded From Offshore Wind Lea...   \nAug 21, 2023  Saudi Arabia Secures Financing For $2.4 Billio...   \nAug 21, 2023  The Impact Of Looming Strikes At Australian LN...   \nAug 21, 2023        China Emerges As A Global LNG Trading Power   \nAug 21, 2023  Alberta Halts New Wind And Solar Projects As R...   \nAug 21, 2023  Libya Unifies Central Bank After Nearly A Deca...   \nAug 18, 2023  Big Solar Slapped With Tariffs For Dodging Chi...   \nAug 18, 2023  Adani Clears Air On Rumored $2.5 Billion Deal ...   \nAug 18, 2023  LNG Tanker Prices Soar Earlier Than Usual Ahea...   \nAug 18, 2023  China’s Oil Giant CNOOC Sees Profits Drop 11% ...   \nAug 18, 2023  Sour Crude Market Tightens Further As Kuwait’s...   \nAug 18, 2023  Nigeria Has Lost $46 Billion Worth Of Crude Oi...   \nAug 18, 2023    Diesel Demand Outlook Darkens On China Slowdown   \nAug 18, 2023       Chevron LNG Workers To Vote On Strike Action   \nAug 17, 2023  ERCOT Asks Texans to Conserve Energy Again As ...   \nAug 17, 2023  Chinese EV Battery Imports Under Scrutiny Over...   \nAug 17, 2023  U.S. Sanctions Lebanese Environmental Activist...   \nAug 17, 2023   Citigroup Says To Short Oil After Summer Is Over   \nAug 17, 2023            Brazil Looks To Introduce Emissions Cap   \nAug 17, 2023  WoodMac: Fivefold Annual Jump In Global Offsho...   \nAug 17, 2023  China Seeks More Secrecy In Its Energy Sector ...   \nAug 17, 2023        UK's Truck Fleet Faces Pressure To Go Green   \nAug 17, 2023  China Likely Tapped Its Crude Inventories In July   \nAug 17, 2023  Kurdistan Oilfield Restarted Despite Ongoing E...   \nAug 17, 2023  ADNOC Gas Signs LNG Deal With Japanese Energy ...   \nAug 17, 2023  Iran To Bring 67 New Oil And Gas Projects Onli...   \nAug 17, 2023  Quebec Energy Minister Wants Fewer Cars On The...   \nAug 17, 2023       Russian Crude Oil Discount For India Shrinks   \nAug 16, 2023        India Approves $7B Electric City Bus Scheme   \nAug 16, 2023  Amid Energy Crisis, Lebanon Sees First DrillSh...   \nAug 16, 2023   U.S. Gas Prices Hit Year High As Market Tightens   \nAug 16, 2023  Energy Transfer LP To Acquire Crestwood Equity...   \nAug 16, 2023  Investors Boost Bullish Bets On European Natur...   \nAug 16, 2023  Lula Aide Signals It’s Okay For Petrobras To P...   \nAug 16, 2023  Tesla Reignites Price War With More Cuts In China   \nAug 16, 2023          Indonesia Delays $20 Billion Climate Plan   \nAug 16, 2023  Germany Sees Natural Gas Prices Remaining High...   \nAug 16, 2023  Woodside Energy Reports Positive Progress In L...   \nAug 16, 2023       Libyan Fighting Stops After Prisoner Release   \nAug 15, 2023                Oil Steady Despite Large Crude Draw   \nAug 15, 2023  U.S. Shale Oil Production Growth Getting Incre...   \nAug 15, 2023  U.S. Pipeline Gas Exports To Mexico Hit A Reco...   \nAug 15, 2023  Russia To Raise Oil Export Duty To Highest Thi...   \nAug 15, 2023  Premier Claims Alberta Will Never Comply With ...   \nAug 15, 2023  Libya’s Oil Output Threatened As Intense Fight...   \nAug 15, 2023  Robotaxis Clog Streets Of San Francisco In Maj...   \nAug 15, 2023  APA In Talks About Floating LNG Site Offshore ...   \nAug 15, 2023            Deadly Explosions Rock Russian Oilfield   \nAug 15, 2023  Australia To Consider Tariffs On Carbon-Intens...   \nAug 15, 2023  Suncor Energy Reports A Substantial Decline In...   \nAug 15, 2023   EIA Sees Lower Shale Oil Production In September   \nAug 14, 2023    ADNOC Could Raise Covestro Bid To $12.6 Billion   \nAug 14, 2023  Americans Struggling To Pay Skyrocketing Energ...   \nAug 14, 2023          Sudan Oil Exports Rising Despite Conflict   \nAug 14, 2023  Nigeria’s Forcados Crude Resumes Loadings Afte...   \nAug 14, 2023  Glencore Gains Majority Stake In Argentina's P...   \nAug 14, 2023  U.S. Steel Stock Skyrockets After Declining Ma...   \nAug 14, 2023  Russia May Have To Raise Oil And Gas Taxes To ...   \n\n                          writer  \\\nAug 21, 2023     Charles Kennedy   \nAug 21, 2023     Charles Kennedy   \nAug 21, 2023  Tsvetana Paraskova   \nAug 21, 2023  Tsvetana Paraskova   \nAug 21, 2023  Tsvetana Paraskova   \nAug 21, 2023     Charles Kennedy   \nAug 21, 2023          Irina Slav   \nAug 21, 2023     Charles Kennedy   \nAug 18, 2023         Alex Kimani   \nAug 18, 2023         Alex Kimani   \nAug 18, 2023     Charles Kennedy   \nAug 18, 2023  Tsvetana Paraskova   \nAug 18, 2023  Tsvetana Paraskova   \nAug 18, 2023  Tsvetana Paraskova   \nAug 18, 2023     Charles Kennedy   \nAug 18, 2023          Irina Slav   \nAug 17, 2023     Julianne Geiger   \nAug 17, 2023         Alex Kimani   \nAug 17, 2023         Alex Kimani   \nAug 17, 2023     Julianne Geiger   \nAug 17, 2023     Charles Kennedy   \nAug 17, 2023     Charles Kennedy   \nAug 17, 2023  Tsvetana Paraskova   \nAug 17, 2023            City A.M   \nAug 17, 2023     Charles Kennedy   \nAug 17, 2023  Tsvetana Paraskova   \nAug 17, 2023  Tsvetana Paraskova   \nAug 17, 2023     Charles Kennedy   \nAug 17, 2023          Irina Slav   \nAug 17, 2023          Irina Slav   \nAug 16, 2023     Julianne Geiger   \nAug 16, 2023         Alex Kimani   \nAug 16, 2023         Alex Kimani   \nAug 16, 2023         Alex Kimani   \nAug 16, 2023     Charles Kennedy   \nAug 16, 2023     Charles Kennedy   \nAug 16, 2023           ZeroHedge   \nAug 16, 2023  Tsvetana Paraskova   \nAug 16, 2023  Tsvetana Paraskova   \nAug 16, 2023          Irina Slav   \nAug 16, 2023     Charles Kennedy   \nAug 15, 2023     Julianne Geiger   \nAug 15, 2023     Julianne Geiger   \nAug 15, 2023            Tom Kool   \nAug 15, 2023     Julianne Geiger   \nAug 15, 2023     Charles Kennedy   \nAug 15, 2023  Tsvetana Paraskova   \nAug 15, 2023           ZeroHedge   \nAug 15, 2023  Tsvetana Paraskova   \nAug 15, 2023  Tsvetana Paraskova   \nAug 15, 2023  Tsvetana Paraskova   \nAug 15, 2023     Charles Kennedy   \nAug 15, 2023          Irina Slav   \nAug 14, 2023         Alex Kimani   \nAug 14, 2023         Alex Kimani   \nAug 14, 2023         Alex Kimani   \nAug 14, 2023     Charles Kennedy   \nAug 14, 2023         Metal Miner   \nAug 14, 2023            City A.M   \nAug 14, 2023     Charles Kennedy   \n\n                                                        excerpt  \nAug 21, 2023  Permian Resources has signed a deal to buy Ear...  \nAug 21, 2023  Apache Corporation plans to invest next year $...  \nAug 21, 2023  The Biden Administration has not included area...  \nAug 21, 2023  Several Saudi firms, including oil giant Aramc...  \nAug 21, 2023  A prolonged stoppage is the least likely scena...  \nAug 21, 2023  China is expanding its presence in the global ...  \nAug 21, 2023  Alberta, Canada’s oil heartland, this month in...  \nAug 21, 2023  Amid ongoing political instability caused by r...  \nAug 18, 2023  The United Commerce Department will finalize a...  \nAug 18, 2023  Adani Transmission, a subsidiary of Indian con...  \nAug 18, 2023  The pre-winter seasonal rally of LNG tanker ch...  \nAug 18, 2023  CNOOC Ltd, China’s state-held oil and gas gian...  \nAug 18, 2023  The market for sour crude in Asia is tightenin...  \nAug 18, 2023  In the decade to 2020, Nigeria lost to oil the...  \nAug 18, 2023  Forecasters are revising their diesel demand o...  \nAug 18, 2023  Workers at the two LNG projects that Chevron o...  \nAug 17, 2023  Texans have been asked to voluntarily cut back...  \nAug 17, 2023  The U.S. government is scrutinizing Chinese el...  \nAug 17, 2023  The United States has imposed sanctions on Leb...  \nAug 17, 2023  Citigroup is advising traders to short oil and...  \nAug 17, 2023  The Brazilian government is considering an emi...  \nAug 17, 2023  Governments’ collective target to have offshor...  \nAug 17, 2023  China needs to exercise extreme discretion and...  \nAug 17, 2023  The mission to get the UK’s fleet of trucks to...  \nAug 17, 2023  Chinese refiners likely tapped their crude sto...  \nAug 17, 2023  Norwegian oil and gas operator DNO ASA said on...  \nAug 17, 2023  ADNOC Gas, the natural gas arm of Abu Dhabi’s ...  \nAug 17, 2023  67 new oil and gas projects worth some $15 bil...  \nAug 17, 2023  Quebecers would need to drive a lot less if th...  \nAug 17, 2023  The discount of Russian oil exported to India ...  \nAug 16, 2023  India’s federal government has agreed to chip ...  \nAug 16, 2023  French energy group TotalEnergies (NYSE:TTE) h...  \nAug 16, 2023  U.S. gasoline prices have surged to their high...  \nAug 16, 2023  Natural gas pipeline operator Energy Transfer ...  \nAug 16, 2023  Over the past week, portfolio managers have bo...  \nAug 16, 2023  There isn’t a discrepancy in Brazil’s efforts ...  \nAug 16, 2023  Tesla shares are slumping nearly 2% in pre-mar...  \nAug 16, 2023  Due to disagreements over policy, the cost of ...  \nAug 16, 2023  Germany expects natural gas prices to remain h...  \nAug 16, 2023  Talks between workers and LNG producers in Aus...  \nAug 16, 2023  The deadliest fighting in Libya so far this ye...  \nAug 15, 2023  Crude oil inventories in the United States saw...  \nAug 15, 2023  The average U.S. shale output per well may hav...  \nAug 15, 2023  The United States exported record-high volumes...  \nAug 15, 2023  Russia’s Finance Ministry has set its oil expo...  \nAug 15, 2023  The oil and gas-rich province of Alberta will ...  \nAug 15, 2023  Libya saw overnight its worst clashes in the c...  \nAug 15, 2023  Turns out that driverless robotaxis still may ...  \nAug 15, 2023  APA Corp, which has made several oil discoveri...  \nAug 15, 2023  Two people died and seven others were injured ...  \nAug 15, 2023  Australia will launch a review into whether to...  \nAug 15, 2023  Suncor Energy has become the latest oil major ...  \nAug 15, 2023  For the second month in a row, the Energy Info...  \nAug 14, 2023  Abu Dhabi National Oil Co (ADNOC) has signaled...  \nAug 14, 2023  A summer of record-breaking heat has dramatica...  \nAug 14, 2023  Crude exports by South Sudan have climbed to t...  \nAug 14, 2023  Nigerian crude oil exports from the Forcados e...  \nAug 14, 2023  Via Metal Miner\\r\\nMultinational commodity tra...  \nAug 14, 2023  United States Steel Corporation, one of the mo...  \nAug 14, 2023  Russia may have to raise oil and gas taxation ...  ",
      "text/html": "<div>\n<style scoped>\n    .dataframe tbody tr th:only-of-type {\n        vertical-align: middle;\n    }\n\n    .dataframe tbody tr th {\n        vertical-align: top;\n    }\n\n    .dataframe thead th {\n        text-align: right;\n    }\n</style>\n<table border=\"1\" class=\"dataframe\">\n  <thead>\n    <tr style=\"text-align: right;\">\n      <th></th>\n      <th>title</th>\n      <th>writer</th>\n      <th>excerpt</th>\n    </tr>\n  </thead>\n  <tbody>\n    <tr>\n      <th>Aug 21, 2023</th>\n      <td>Latest U.S. Upstream Merger To Create $14-Bill...</td>\n      <td>Charles Kennedy</td>\n      <td>Permian Resources has signed a deal to buy Ear...</td>\n    </tr>\n    <tr>\n      <th>Aug 21, 2023</th>\n      <td>U.S. Oil Firm Apache Plans To Invest $1.4 Bill...</td>\n      <td>Charles Kennedy</td>\n      <td>Apache Corporation plans to invest next year $...</td>\n    </tr>\n    <tr>\n      <th>Aug 21, 2023</th>\n      <td>North Carolina Excluded From Offshore Wind Lea...</td>\n      <td>Tsvetana Paraskova</td>\n      <td>The Biden Administration has not included area...</td>\n    </tr>\n    <tr>\n      <th>Aug 21, 2023</th>\n      <td>Saudi Arabia Secures Financing For $2.4 Billio...</td>\n      <td>Tsvetana Paraskova</td>\n      <td>Several Saudi firms, including oil giant Aramc...</td>\n    </tr>\n    <tr>\n      <th>Aug 21, 2023</th>\n      <td>The Impact Of Looming Strikes At Australian LN...</td>\n      <td>Tsvetana Paraskova</td>\n      <td>A prolonged stoppage is the least likely scena...</td>\n    </tr>\n    <tr>\n      <th>Aug 21, 2023</th>\n      <td>China Emerges As A Global LNG Trading Power</td>\n      <td>Charles Kennedy</td>\n      <td>China is expanding its presence in the global ...</td>\n    </tr>\n    <tr>\n      <th>Aug 21, 2023</th>\n      <td>Alberta Halts New Wind And Solar Projects As R...</td>\n      <td>Irina Slav</td>\n      <td>Alberta, Canada’s oil heartland, this month in...</td>\n    </tr>\n    <tr>\n      <th>Aug 21, 2023</th>\n      <td>Libya Unifies Central Bank After Nearly A Deca...</td>\n      <td>Charles Kennedy</td>\n      <td>Amid ongoing political instability caused by r...</td>\n    </tr>\n    <tr>\n      <th>Aug 18, 2023</th>\n      <td>Big Solar Slapped With Tariffs For Dodging Chi...</td>\n      <td>Alex Kimani</td>\n      <td>The United Commerce Department will finalize a...</td>\n    </tr>\n    <tr>\n      <th>Aug 18, 2023</th>\n      <td>Adani Clears Air On Rumored $2.5 Billion Deal ...</td>\n      <td>Alex Kimani</td>\n      <td>Adani Transmission, a subsidiary of Indian con...</td>\n    </tr>\n    <tr>\n      <th>Aug 18, 2023</th>\n      <td>LNG Tanker Prices Soar Earlier Than Usual Ahea...</td>\n      <td>Charles Kennedy</td>\n      <td>The pre-winter seasonal rally of LNG tanker ch...</td>\n    </tr>\n    <tr>\n      <th>Aug 18, 2023</th>\n      <td>China’s Oil Giant CNOOC Sees Profits Drop 11% ...</td>\n      <td>Tsvetana Paraskova</td>\n      <td>CNOOC Ltd, China’s state-held oil and gas gian...</td>\n    </tr>\n    <tr>\n      <th>Aug 18, 2023</th>\n      <td>Sour Crude Market Tightens Further As Kuwait’s...</td>\n      <td>Tsvetana Paraskova</td>\n      <td>The market for sour crude in Asia is tightenin...</td>\n    </tr>\n    <tr>\n      <th>Aug 18, 2023</th>\n      <td>Nigeria Has Lost $46 Billion Worth Of Crude Oi...</td>\n      <td>Tsvetana Paraskova</td>\n      <td>In the decade to 2020, Nigeria lost to oil the...</td>\n    </tr>\n    <tr>\n      <th>Aug 18, 2023</th>\n      <td>Diesel Demand Outlook Darkens On China Slowdown</td>\n      <td>Charles Kennedy</td>\n      <td>Forecasters are revising their diesel demand o...</td>\n    </tr>\n    <tr>\n      <th>Aug 18, 2023</th>\n      <td>Chevron LNG Workers To Vote On Strike Action</td>\n      <td>Irina Slav</td>\n      <td>Workers at the two LNG projects that Chevron o...</td>\n    </tr>\n    <tr>\n      <th>Aug 17, 2023</th>\n      <td>ERCOT Asks Texans to Conserve Energy Again As ...</td>\n      <td>Julianne Geiger</td>\n      <td>Texans have been asked to voluntarily cut back...</td>\n    </tr>\n    <tr>\n      <th>Aug 17, 2023</th>\n      <td>Chinese EV Battery Imports Under Scrutiny Over...</td>\n      <td>Alex Kimani</td>\n      <td>The U.S. government is scrutinizing Chinese el...</td>\n    </tr>\n    <tr>\n      <th>Aug 17, 2023</th>\n      <td>U.S. Sanctions Lebanese Environmental Activist...</td>\n      <td>Alex Kimani</td>\n      <td>The United States has imposed sanctions on Leb...</td>\n    </tr>\n    <tr>\n      <th>Aug 17, 2023</th>\n      <td>Citigroup Says To Short Oil After Summer Is Over</td>\n      <td>Julianne Geiger</td>\n      <td>Citigroup is advising traders to short oil and...</td>\n    </tr>\n    <tr>\n      <th>Aug 17, 2023</th>\n      <td>Brazil Looks To Introduce Emissions Cap</td>\n      <td>Charles Kennedy</td>\n      <td>The Brazilian government is considering an emi...</td>\n    </tr>\n    <tr>\n      <th>Aug 17, 2023</th>\n      <td>WoodMac: Fivefold Annual Jump In Global Offsho...</td>\n      <td>Charles Kennedy</td>\n      <td>Governments’ collective target to have offshor...</td>\n    </tr>\n    <tr>\n      <th>Aug 17, 2023</th>\n      <td>China Seeks More Secrecy In Its Energy Sector ...</td>\n      <td>Tsvetana Paraskova</td>\n      <td>China needs to exercise extreme discretion and...</td>\n    </tr>\n    <tr>\n      <th>Aug 17, 2023</th>\n      <td>UK's Truck Fleet Faces Pressure To Go Green</td>\n      <td>City A.M</td>\n      <td>The mission to get the UK’s fleet of trucks to...</td>\n    </tr>\n    <tr>\n      <th>Aug 17, 2023</th>\n      <td>China Likely Tapped Its Crude Inventories In July</td>\n      <td>Charles Kennedy</td>\n      <td>Chinese refiners likely tapped their crude sto...</td>\n    </tr>\n    <tr>\n      <th>Aug 17, 2023</th>\n      <td>Kurdistan Oilfield Restarted Despite Ongoing E...</td>\n      <td>Tsvetana Paraskova</td>\n      <td>Norwegian oil and gas operator DNO ASA said on...</td>\n    </tr>\n    <tr>\n      <th>Aug 17, 2023</th>\n      <td>ADNOC Gas Signs LNG Deal With Japanese Energy ...</td>\n      <td>Tsvetana Paraskova</td>\n      <td>ADNOC Gas, the natural gas arm of Abu Dhabi’s ...</td>\n    </tr>\n    <tr>\n      <th>Aug 17, 2023</th>\n      <td>Iran To Bring 67 New Oil And Gas Projects Onli...</td>\n      <td>Charles Kennedy</td>\n      <td>67 new oil and gas projects worth some $15 bil...</td>\n    </tr>\n    <tr>\n      <th>Aug 17, 2023</th>\n      <td>Quebec Energy Minister Wants Fewer Cars On The...</td>\n      <td>Irina Slav</td>\n      <td>Quebecers would need to drive a lot less if th...</td>\n    </tr>\n    <tr>\n      <th>Aug 17, 2023</th>\n      <td>Russian Crude Oil Discount For India Shrinks</td>\n      <td>Irina Slav</td>\n      <td>The discount of Russian oil exported to India ...</td>\n    </tr>\n    <tr>\n      <th>Aug 16, 2023</th>\n      <td>India Approves $7B Electric City Bus Scheme</td>\n      <td>Julianne Geiger</td>\n      <td>India’s federal government has agreed to chip ...</td>\n    </tr>\n    <tr>\n      <th>Aug 16, 2023</th>\n      <td>Amid Energy Crisis, Lebanon Sees First DrillSh...</td>\n      <td>Alex Kimani</td>\n      <td>French energy group TotalEnergies (NYSE:TTE) h...</td>\n    </tr>\n    <tr>\n      <th>Aug 16, 2023</th>\n      <td>U.S. Gas Prices Hit Year High As Market Tightens</td>\n      <td>Alex Kimani</td>\n      <td>U.S. gasoline prices have surged to their high...</td>\n    </tr>\n    <tr>\n      <th>Aug 16, 2023</th>\n      <td>Energy Transfer LP To Acquire Crestwood Equity...</td>\n      <td>Alex Kimani</td>\n      <td>Natural gas pipeline operator Energy Transfer ...</td>\n    </tr>\n    <tr>\n      <th>Aug 16, 2023</th>\n      <td>Investors Boost Bullish Bets On European Natur...</td>\n      <td>Charles Kennedy</td>\n      <td>Over the past week, portfolio managers have bo...</td>\n    </tr>\n    <tr>\n      <th>Aug 16, 2023</th>\n      <td>Lula Aide Signals It’s Okay For Petrobras To P...</td>\n      <td>Charles Kennedy</td>\n      <td>There isn’t a discrepancy in Brazil’s efforts ...</td>\n    </tr>\n    <tr>\n      <th>Aug 16, 2023</th>\n      <td>Tesla Reignites Price War With More Cuts In China</td>\n      <td>ZeroHedge</td>\n      <td>Tesla shares are slumping nearly 2% in pre-mar...</td>\n    </tr>\n    <tr>\n      <th>Aug 16, 2023</th>\n      <td>Indonesia Delays $20 Billion Climate Plan</td>\n      <td>Tsvetana Paraskova</td>\n      <td>Due to disagreements over policy, the cost of ...</td>\n    </tr>\n    <tr>\n      <th>Aug 16, 2023</th>\n      <td>Germany Sees Natural Gas Prices Remaining High...</td>\n      <td>Tsvetana Paraskova</td>\n      <td>Germany expects natural gas prices to remain h...</td>\n    </tr>\n    <tr>\n      <th>Aug 16, 2023</th>\n      <td>Woodside Energy Reports Positive Progress In L...</td>\n      <td>Irina Slav</td>\n      <td>Talks between workers and LNG producers in Aus...</td>\n    </tr>\n    <tr>\n      <th>Aug 16, 2023</th>\n      <td>Libyan Fighting Stops After Prisoner Release</td>\n      <td>Charles Kennedy</td>\n      <td>The deadliest fighting in Libya so far this ye...</td>\n    </tr>\n    <tr>\n      <th>Aug 15, 2023</th>\n      <td>Oil Steady Despite Large Crude Draw</td>\n      <td>Julianne Geiger</td>\n      <td>Crude oil inventories in the United States saw...</td>\n    </tr>\n    <tr>\n      <th>Aug 15, 2023</th>\n      <td>U.S. Shale Oil Production Growth Getting Incre...</td>\n      <td>Julianne Geiger</td>\n      <td>The average U.S. shale output per well may hav...</td>\n    </tr>\n    <tr>\n      <th>Aug 15, 2023</th>\n      <td>U.S. Pipeline Gas Exports To Mexico Hit A Reco...</td>\n      <td>Tom Kool</td>\n      <td>The United States exported record-high volumes...</td>\n    </tr>\n    <tr>\n      <th>Aug 15, 2023</th>\n      <td>Russia To Raise Oil Export Duty To Highest Thi...</td>\n      <td>Julianne Geiger</td>\n      <td>Russia’s Finance Ministry has set its oil expo...</td>\n    </tr>\n    <tr>\n      <th>Aug 15, 2023</th>\n      <td>Premier Claims Alberta Will Never Comply With ...</td>\n      <td>Charles Kennedy</td>\n      <td>The oil and gas-rich province of Alberta will ...</td>\n    </tr>\n    <tr>\n      <th>Aug 15, 2023</th>\n      <td>Libya’s Oil Output Threatened As Intense Fight...</td>\n      <td>Tsvetana Paraskova</td>\n      <td>Libya saw overnight its worst clashes in the c...</td>\n    </tr>\n    <tr>\n      <th>Aug 15, 2023</th>\n      <td>Robotaxis Clog Streets Of San Francisco In Maj...</td>\n      <td>ZeroHedge</td>\n      <td>Turns out that driverless robotaxis still may ...</td>\n    </tr>\n    <tr>\n      <th>Aug 15, 2023</th>\n      <td>APA In Talks About Floating LNG Site Offshore ...</td>\n      <td>Tsvetana Paraskova</td>\n      <td>APA Corp, which has made several oil discoveri...</td>\n    </tr>\n    <tr>\n      <th>Aug 15, 2023</th>\n      <td>Deadly Explosions Rock Russian Oilfield</td>\n      <td>Tsvetana Paraskova</td>\n      <td>Two people died and seven others were injured ...</td>\n    </tr>\n    <tr>\n      <th>Aug 15, 2023</th>\n      <td>Australia To Consider Tariffs On Carbon-Intens...</td>\n      <td>Tsvetana Paraskova</td>\n      <td>Australia will launch a review into whether to...</td>\n    </tr>\n    <tr>\n      <th>Aug 15, 2023</th>\n      <td>Suncor Energy Reports A Substantial Decline In...</td>\n      <td>Charles Kennedy</td>\n      <td>Suncor Energy has become the latest oil major ...</td>\n    </tr>\n    <tr>\n      <th>Aug 15, 2023</th>\n      <td>EIA Sees Lower Shale Oil Production In September</td>\n      <td>Irina Slav</td>\n      <td>For the second month in a row, the Energy Info...</td>\n    </tr>\n    <tr>\n      <th>Aug 14, 2023</th>\n      <td>ADNOC Could Raise Covestro Bid To $12.6 Billion</td>\n      <td>Alex Kimani</td>\n      <td>Abu Dhabi National Oil Co (ADNOC) has signaled...</td>\n    </tr>\n    <tr>\n      <th>Aug 14, 2023</th>\n      <td>Americans Struggling To Pay Skyrocketing Energ...</td>\n      <td>Alex Kimani</td>\n      <td>A summer of record-breaking heat has dramatica...</td>\n    </tr>\n    <tr>\n      <th>Aug 14, 2023</th>\n      <td>Sudan Oil Exports Rising Despite Conflict</td>\n      <td>Alex Kimani</td>\n      <td>Crude exports by South Sudan have climbed to t...</td>\n    </tr>\n    <tr>\n      <th>Aug 14, 2023</th>\n      <td>Nigeria’s Forcados Crude Resumes Loadings Afte...</td>\n      <td>Charles Kennedy</td>\n      <td>Nigerian crude oil exports from the Forcados e...</td>\n    </tr>\n    <tr>\n      <th>Aug 14, 2023</th>\n      <td>Glencore Gains Majority Stake In Argentina's P...</td>\n      <td>Metal Miner</td>\n      <td>Via Metal Miner\\r\\nMultinational commodity tra...</td>\n    </tr>\n    <tr>\n      <th>Aug 14, 2023</th>\n      <td>U.S. Steel Stock Skyrockets After Declining Ma...</td>\n      <td>City A.M</td>\n      <td>United States Steel Corporation, one of the mo...</td>\n    </tr>\n    <tr>\n      <th>Aug 14, 2023</th>\n      <td>Russia May Have To Raise Oil And Gas Taxes To ...</td>\n      <td>Charles Kennedy</td>\n      <td>Russia may have to raise oil and gas taxation ...</td>\n    </tr>\n  </tbody>\n</table>\n</div>"
     },
     "execution_count": 41,
     "metadata": {},
     "output_type": "execute_result"
    }
   ],
   "source": [
    "news = pd.DataFrame([news_titles, news_writer, news_excerpt], \n",
    "                    columns = news_date, \n",
    "                    index = ['title','writer','excerpt']).T\n",
    "news"
   ]
  },
  {
   "cell_type": "markdown",
   "id": "3e30a02d9eab75df",
   "metadata": {},
   "source": [
    "select the data during 2023.08.15 - 2023.08.18"
   ]
  },
  {
   "cell_type": "code",
   "execution_count": 42,
   "id": "ca98e0ef274343b3",
   "metadata": {
    "ExecuteTime": {
     "end_time": "2023-10-17T14:52:04.168005Z",
     "start_time": "2023-10-17T14:52:04.149874Z"
    }
   },
   "outputs": [
    {
     "data": {
      "text/plain": "                                                          title  \\\nAug 15, 2023                Oil Steady Despite Large Crude Draw   \nAug 15, 2023  U.S. Shale Oil Production Growth Getting Incre...   \nAug 15, 2023  U.S. Pipeline Gas Exports To Mexico Hit A Reco...   \nAug 15, 2023  Russia To Raise Oil Export Duty To Highest Thi...   \nAug 15, 2023  Premier Claims Alberta Will Never Comply With ...   \nAug 15, 2023  Libya’s Oil Output Threatened As Intense Fight...   \nAug 15, 2023  Robotaxis Clog Streets Of San Francisco In Maj...   \nAug 15, 2023  APA In Talks About Floating LNG Site Offshore ...   \nAug 15, 2023            Deadly Explosions Rock Russian Oilfield   \nAug 15, 2023  Australia To Consider Tariffs On Carbon-Intens...   \nAug 15, 2023  Suncor Energy Reports A Substantial Decline In...   \nAug 15, 2023   EIA Sees Lower Shale Oil Production In September   \nAug 16, 2023        India Approves $7B Electric City Bus Scheme   \nAug 16, 2023  Amid Energy Crisis, Lebanon Sees First DrillSh...   \nAug 16, 2023   U.S. Gas Prices Hit Year High As Market Tightens   \nAug 16, 2023  Energy Transfer LP To Acquire Crestwood Equity...   \nAug 16, 2023  Investors Boost Bullish Bets On European Natur...   \nAug 16, 2023  Lula Aide Signals It’s Okay For Petrobras To P...   \nAug 16, 2023  Tesla Reignites Price War With More Cuts In China   \nAug 16, 2023          Indonesia Delays $20 Billion Climate Plan   \nAug 16, 2023  Germany Sees Natural Gas Prices Remaining High...   \nAug 16, 2023  Woodside Energy Reports Positive Progress In L...   \nAug 16, 2023       Libyan Fighting Stops After Prisoner Release   \nAug 17, 2023  ERCOT Asks Texans to Conserve Energy Again As ...   \nAug 17, 2023  Chinese EV Battery Imports Under Scrutiny Over...   \nAug 17, 2023  U.S. Sanctions Lebanese Environmental Activist...   \nAug 17, 2023   Citigroup Says To Short Oil After Summer Is Over   \nAug 17, 2023            Brazil Looks To Introduce Emissions Cap   \nAug 17, 2023  WoodMac: Fivefold Annual Jump In Global Offsho...   \nAug 17, 2023  China Seeks More Secrecy In Its Energy Sector ...   \nAug 17, 2023        UK's Truck Fleet Faces Pressure To Go Green   \nAug 17, 2023  China Likely Tapped Its Crude Inventories In July   \nAug 17, 2023  Kurdistan Oilfield Restarted Despite Ongoing E...   \nAug 17, 2023  ADNOC Gas Signs LNG Deal With Japanese Energy ...   \nAug 17, 2023  Iran To Bring 67 New Oil And Gas Projects Onli...   \nAug 17, 2023  Quebec Energy Minister Wants Fewer Cars On The...   \nAug 17, 2023       Russian Crude Oil Discount For India Shrinks   \nAug 18, 2023  Big Solar Slapped With Tariffs For Dodging Chi...   \nAug 18, 2023  Adani Clears Air On Rumored $2.5 Billion Deal ...   \nAug 18, 2023  LNG Tanker Prices Soar Earlier Than Usual Ahea...   \nAug 18, 2023  China’s Oil Giant CNOOC Sees Profits Drop 11% ...   \nAug 18, 2023  Sour Crude Market Tightens Further As Kuwait’s...   \nAug 18, 2023  Nigeria Has Lost $46 Billion Worth Of Crude Oi...   \nAug 18, 2023    Diesel Demand Outlook Darkens On China Slowdown   \nAug 18, 2023       Chevron LNG Workers To Vote On Strike Action   \n\n                          writer  \\\nAug 15, 2023     Julianne Geiger   \nAug 15, 2023     Julianne Geiger   \nAug 15, 2023            Tom Kool   \nAug 15, 2023     Julianne Geiger   \nAug 15, 2023     Charles Kennedy   \nAug 15, 2023  Tsvetana Paraskova   \nAug 15, 2023           ZeroHedge   \nAug 15, 2023  Tsvetana Paraskova   \nAug 15, 2023  Tsvetana Paraskova   \nAug 15, 2023  Tsvetana Paraskova   \nAug 15, 2023     Charles Kennedy   \nAug 15, 2023          Irina Slav   \nAug 16, 2023     Julianne Geiger   \nAug 16, 2023         Alex Kimani   \nAug 16, 2023         Alex Kimani   \nAug 16, 2023         Alex Kimani   \nAug 16, 2023     Charles Kennedy   \nAug 16, 2023     Charles Kennedy   \nAug 16, 2023           ZeroHedge   \nAug 16, 2023  Tsvetana Paraskova   \nAug 16, 2023  Tsvetana Paraskova   \nAug 16, 2023          Irina Slav   \nAug 16, 2023     Charles Kennedy   \nAug 17, 2023     Julianne Geiger   \nAug 17, 2023         Alex Kimani   \nAug 17, 2023         Alex Kimani   \nAug 17, 2023     Julianne Geiger   \nAug 17, 2023     Charles Kennedy   \nAug 17, 2023     Charles Kennedy   \nAug 17, 2023  Tsvetana Paraskova   \nAug 17, 2023            City A.M   \nAug 17, 2023     Charles Kennedy   \nAug 17, 2023  Tsvetana Paraskova   \nAug 17, 2023  Tsvetana Paraskova   \nAug 17, 2023     Charles Kennedy   \nAug 17, 2023          Irina Slav   \nAug 17, 2023          Irina Slav   \nAug 18, 2023         Alex Kimani   \nAug 18, 2023         Alex Kimani   \nAug 18, 2023     Charles Kennedy   \nAug 18, 2023  Tsvetana Paraskova   \nAug 18, 2023  Tsvetana Paraskova   \nAug 18, 2023  Tsvetana Paraskova   \nAug 18, 2023     Charles Kennedy   \nAug 18, 2023          Irina Slav   \n\n                                                        excerpt  \nAug 15, 2023  Crude oil inventories in the United States saw...  \nAug 15, 2023  The average U.S. shale output per well may hav...  \nAug 15, 2023  The United States exported record-high volumes...  \nAug 15, 2023  Russia’s Finance Ministry has set its oil expo...  \nAug 15, 2023  The oil and gas-rich province of Alberta will ...  \nAug 15, 2023  Libya saw overnight its worst clashes in the c...  \nAug 15, 2023  Turns out that driverless robotaxis still may ...  \nAug 15, 2023  APA Corp, which has made several oil discoveri...  \nAug 15, 2023  Two people died and seven others were injured ...  \nAug 15, 2023  Australia will launch a review into whether to...  \nAug 15, 2023  Suncor Energy has become the latest oil major ...  \nAug 15, 2023  For the second month in a row, the Energy Info...  \nAug 16, 2023  India’s federal government has agreed to chip ...  \nAug 16, 2023  French energy group TotalEnergies (NYSE:TTE) h...  \nAug 16, 2023  U.S. gasoline prices have surged to their high...  \nAug 16, 2023  Natural gas pipeline operator Energy Transfer ...  \nAug 16, 2023  Over the past week, portfolio managers have bo...  \nAug 16, 2023  There isn’t a discrepancy in Brazil’s efforts ...  \nAug 16, 2023  Tesla shares are slumping nearly 2% in pre-mar...  \nAug 16, 2023  Due to disagreements over policy, the cost of ...  \nAug 16, 2023  Germany expects natural gas prices to remain h...  \nAug 16, 2023  Talks between workers and LNG producers in Aus...  \nAug 16, 2023  The deadliest fighting in Libya so far this ye...  \nAug 17, 2023  Texans have been asked to voluntarily cut back...  \nAug 17, 2023  The U.S. government is scrutinizing Chinese el...  \nAug 17, 2023  The United States has imposed sanctions on Leb...  \nAug 17, 2023  Citigroup is advising traders to short oil and...  \nAug 17, 2023  The Brazilian government is considering an emi...  \nAug 17, 2023  Governments’ collective target to have offshor...  \nAug 17, 2023  China needs to exercise extreme discretion and...  \nAug 17, 2023  The mission to get the UK’s fleet of trucks to...  \nAug 17, 2023  Chinese refiners likely tapped their crude sto...  \nAug 17, 2023  Norwegian oil and gas operator DNO ASA said on...  \nAug 17, 2023  ADNOC Gas, the natural gas arm of Abu Dhabi’s ...  \nAug 17, 2023  67 new oil and gas projects worth some $15 bil...  \nAug 17, 2023  Quebecers would need to drive a lot less if th...  \nAug 17, 2023  The discount of Russian oil exported to India ...  \nAug 18, 2023  The United Commerce Department will finalize a...  \nAug 18, 2023  Adani Transmission, a subsidiary of Indian con...  \nAug 18, 2023  The pre-winter seasonal rally of LNG tanker ch...  \nAug 18, 2023  CNOOC Ltd, China’s state-held oil and gas gian...  \nAug 18, 2023  The market for sour crude in Asia is tightenin...  \nAug 18, 2023  In the decade to 2020, Nigeria lost to oil the...  \nAug 18, 2023  Forecasters are revising their diesel demand o...  \nAug 18, 2023  Workers at the two LNG projects that Chevron o...  ",
      "text/html": "<div>\n<style scoped>\n    .dataframe tbody tr th:only-of-type {\n        vertical-align: middle;\n    }\n\n    .dataframe tbody tr th {\n        vertical-align: top;\n    }\n\n    .dataframe thead th {\n        text-align: right;\n    }\n</style>\n<table border=\"1\" class=\"dataframe\">\n  <thead>\n    <tr style=\"text-align: right;\">\n      <th></th>\n      <th>title</th>\n      <th>writer</th>\n      <th>excerpt</th>\n    </tr>\n  </thead>\n  <tbody>\n    <tr>\n      <th>Aug 15, 2023</th>\n      <td>Oil Steady Despite Large Crude Draw</td>\n      <td>Julianne Geiger</td>\n      <td>Crude oil inventories in the United States saw...</td>\n    </tr>\n    <tr>\n      <th>Aug 15, 2023</th>\n      <td>U.S. Shale Oil Production Growth Getting Incre...</td>\n      <td>Julianne Geiger</td>\n      <td>The average U.S. shale output per well may hav...</td>\n    </tr>\n    <tr>\n      <th>Aug 15, 2023</th>\n      <td>U.S. Pipeline Gas Exports To Mexico Hit A Reco...</td>\n      <td>Tom Kool</td>\n      <td>The United States exported record-high volumes...</td>\n    </tr>\n    <tr>\n      <th>Aug 15, 2023</th>\n      <td>Russia To Raise Oil Export Duty To Highest Thi...</td>\n      <td>Julianne Geiger</td>\n      <td>Russia’s Finance Ministry has set its oil expo...</td>\n    </tr>\n    <tr>\n      <th>Aug 15, 2023</th>\n      <td>Premier Claims Alberta Will Never Comply With ...</td>\n      <td>Charles Kennedy</td>\n      <td>The oil and gas-rich province of Alberta will ...</td>\n    </tr>\n    <tr>\n      <th>Aug 15, 2023</th>\n      <td>Libya’s Oil Output Threatened As Intense Fight...</td>\n      <td>Tsvetana Paraskova</td>\n      <td>Libya saw overnight its worst clashes in the c...</td>\n    </tr>\n    <tr>\n      <th>Aug 15, 2023</th>\n      <td>Robotaxis Clog Streets Of San Francisco In Maj...</td>\n      <td>ZeroHedge</td>\n      <td>Turns out that driverless robotaxis still may ...</td>\n    </tr>\n    <tr>\n      <th>Aug 15, 2023</th>\n      <td>APA In Talks About Floating LNG Site Offshore ...</td>\n      <td>Tsvetana Paraskova</td>\n      <td>APA Corp, which has made several oil discoveri...</td>\n    </tr>\n    <tr>\n      <th>Aug 15, 2023</th>\n      <td>Deadly Explosions Rock Russian Oilfield</td>\n      <td>Tsvetana Paraskova</td>\n      <td>Two people died and seven others were injured ...</td>\n    </tr>\n    <tr>\n      <th>Aug 15, 2023</th>\n      <td>Australia To Consider Tariffs On Carbon-Intens...</td>\n      <td>Tsvetana Paraskova</td>\n      <td>Australia will launch a review into whether to...</td>\n    </tr>\n    <tr>\n      <th>Aug 15, 2023</th>\n      <td>Suncor Energy Reports A Substantial Decline In...</td>\n      <td>Charles Kennedy</td>\n      <td>Suncor Energy has become the latest oil major ...</td>\n    </tr>\n    <tr>\n      <th>Aug 15, 2023</th>\n      <td>EIA Sees Lower Shale Oil Production In September</td>\n      <td>Irina Slav</td>\n      <td>For the second month in a row, the Energy Info...</td>\n    </tr>\n    <tr>\n      <th>Aug 16, 2023</th>\n      <td>India Approves $7B Electric City Bus Scheme</td>\n      <td>Julianne Geiger</td>\n      <td>India’s federal government has agreed to chip ...</td>\n    </tr>\n    <tr>\n      <th>Aug 16, 2023</th>\n      <td>Amid Energy Crisis, Lebanon Sees First DrillSh...</td>\n      <td>Alex Kimani</td>\n      <td>French energy group TotalEnergies (NYSE:TTE) h...</td>\n    </tr>\n    <tr>\n      <th>Aug 16, 2023</th>\n      <td>U.S. Gas Prices Hit Year High As Market Tightens</td>\n      <td>Alex Kimani</td>\n      <td>U.S. gasoline prices have surged to their high...</td>\n    </tr>\n    <tr>\n      <th>Aug 16, 2023</th>\n      <td>Energy Transfer LP To Acquire Crestwood Equity...</td>\n      <td>Alex Kimani</td>\n      <td>Natural gas pipeline operator Energy Transfer ...</td>\n    </tr>\n    <tr>\n      <th>Aug 16, 2023</th>\n      <td>Investors Boost Bullish Bets On European Natur...</td>\n      <td>Charles Kennedy</td>\n      <td>Over the past week, portfolio managers have bo...</td>\n    </tr>\n    <tr>\n      <th>Aug 16, 2023</th>\n      <td>Lula Aide Signals It’s Okay For Petrobras To P...</td>\n      <td>Charles Kennedy</td>\n      <td>There isn’t a discrepancy in Brazil’s efforts ...</td>\n    </tr>\n    <tr>\n      <th>Aug 16, 2023</th>\n      <td>Tesla Reignites Price War With More Cuts In China</td>\n      <td>ZeroHedge</td>\n      <td>Tesla shares are slumping nearly 2% in pre-mar...</td>\n    </tr>\n    <tr>\n      <th>Aug 16, 2023</th>\n      <td>Indonesia Delays $20 Billion Climate Plan</td>\n      <td>Tsvetana Paraskova</td>\n      <td>Due to disagreements over policy, the cost of ...</td>\n    </tr>\n    <tr>\n      <th>Aug 16, 2023</th>\n      <td>Germany Sees Natural Gas Prices Remaining High...</td>\n      <td>Tsvetana Paraskova</td>\n      <td>Germany expects natural gas prices to remain h...</td>\n    </tr>\n    <tr>\n      <th>Aug 16, 2023</th>\n      <td>Woodside Energy Reports Positive Progress In L...</td>\n      <td>Irina Slav</td>\n      <td>Talks between workers and LNG producers in Aus...</td>\n    </tr>\n    <tr>\n      <th>Aug 16, 2023</th>\n      <td>Libyan Fighting Stops After Prisoner Release</td>\n      <td>Charles Kennedy</td>\n      <td>The deadliest fighting in Libya so far this ye...</td>\n    </tr>\n    <tr>\n      <th>Aug 17, 2023</th>\n      <td>ERCOT Asks Texans to Conserve Energy Again As ...</td>\n      <td>Julianne Geiger</td>\n      <td>Texans have been asked to voluntarily cut back...</td>\n    </tr>\n    <tr>\n      <th>Aug 17, 2023</th>\n      <td>Chinese EV Battery Imports Under Scrutiny Over...</td>\n      <td>Alex Kimani</td>\n      <td>The U.S. government is scrutinizing Chinese el...</td>\n    </tr>\n    <tr>\n      <th>Aug 17, 2023</th>\n      <td>U.S. Sanctions Lebanese Environmental Activist...</td>\n      <td>Alex Kimani</td>\n      <td>The United States has imposed sanctions on Leb...</td>\n    </tr>\n    <tr>\n      <th>Aug 17, 2023</th>\n      <td>Citigroup Says To Short Oil After Summer Is Over</td>\n      <td>Julianne Geiger</td>\n      <td>Citigroup is advising traders to short oil and...</td>\n    </tr>\n    <tr>\n      <th>Aug 17, 2023</th>\n      <td>Brazil Looks To Introduce Emissions Cap</td>\n      <td>Charles Kennedy</td>\n      <td>The Brazilian government is considering an emi...</td>\n    </tr>\n    <tr>\n      <th>Aug 17, 2023</th>\n      <td>WoodMac: Fivefold Annual Jump In Global Offsho...</td>\n      <td>Charles Kennedy</td>\n      <td>Governments’ collective target to have offshor...</td>\n    </tr>\n    <tr>\n      <th>Aug 17, 2023</th>\n      <td>China Seeks More Secrecy In Its Energy Sector ...</td>\n      <td>Tsvetana Paraskova</td>\n      <td>China needs to exercise extreme discretion and...</td>\n    </tr>\n    <tr>\n      <th>Aug 17, 2023</th>\n      <td>UK's Truck Fleet Faces Pressure To Go Green</td>\n      <td>City A.M</td>\n      <td>The mission to get the UK’s fleet of trucks to...</td>\n    </tr>\n    <tr>\n      <th>Aug 17, 2023</th>\n      <td>China Likely Tapped Its Crude Inventories In July</td>\n      <td>Charles Kennedy</td>\n      <td>Chinese refiners likely tapped their crude sto...</td>\n    </tr>\n    <tr>\n      <th>Aug 17, 2023</th>\n      <td>Kurdistan Oilfield Restarted Despite Ongoing E...</td>\n      <td>Tsvetana Paraskova</td>\n      <td>Norwegian oil and gas operator DNO ASA said on...</td>\n    </tr>\n    <tr>\n      <th>Aug 17, 2023</th>\n      <td>ADNOC Gas Signs LNG Deal With Japanese Energy ...</td>\n      <td>Tsvetana Paraskova</td>\n      <td>ADNOC Gas, the natural gas arm of Abu Dhabi’s ...</td>\n    </tr>\n    <tr>\n      <th>Aug 17, 2023</th>\n      <td>Iran To Bring 67 New Oil And Gas Projects Onli...</td>\n      <td>Charles Kennedy</td>\n      <td>67 new oil and gas projects worth some $15 bil...</td>\n    </tr>\n    <tr>\n      <th>Aug 17, 2023</th>\n      <td>Quebec Energy Minister Wants Fewer Cars On The...</td>\n      <td>Irina Slav</td>\n      <td>Quebecers would need to drive a lot less if th...</td>\n    </tr>\n    <tr>\n      <th>Aug 17, 2023</th>\n      <td>Russian Crude Oil Discount For India Shrinks</td>\n      <td>Irina Slav</td>\n      <td>The discount of Russian oil exported to India ...</td>\n    </tr>\n    <tr>\n      <th>Aug 18, 2023</th>\n      <td>Big Solar Slapped With Tariffs For Dodging Chi...</td>\n      <td>Alex Kimani</td>\n      <td>The United Commerce Department will finalize a...</td>\n    </tr>\n    <tr>\n      <th>Aug 18, 2023</th>\n      <td>Adani Clears Air On Rumored $2.5 Billion Deal ...</td>\n      <td>Alex Kimani</td>\n      <td>Adani Transmission, a subsidiary of Indian con...</td>\n    </tr>\n    <tr>\n      <th>Aug 18, 2023</th>\n      <td>LNG Tanker Prices Soar Earlier Than Usual Ahea...</td>\n      <td>Charles Kennedy</td>\n      <td>The pre-winter seasonal rally of LNG tanker ch...</td>\n    </tr>\n    <tr>\n      <th>Aug 18, 2023</th>\n      <td>China’s Oil Giant CNOOC Sees Profits Drop 11% ...</td>\n      <td>Tsvetana Paraskova</td>\n      <td>CNOOC Ltd, China’s state-held oil and gas gian...</td>\n    </tr>\n    <tr>\n      <th>Aug 18, 2023</th>\n      <td>Sour Crude Market Tightens Further As Kuwait’s...</td>\n      <td>Tsvetana Paraskova</td>\n      <td>The market for sour crude in Asia is tightenin...</td>\n    </tr>\n    <tr>\n      <th>Aug 18, 2023</th>\n      <td>Nigeria Has Lost $46 Billion Worth Of Crude Oi...</td>\n      <td>Tsvetana Paraskova</td>\n      <td>In the decade to 2020, Nigeria lost to oil the...</td>\n    </tr>\n    <tr>\n      <th>Aug 18, 2023</th>\n      <td>Diesel Demand Outlook Darkens On China Slowdown</td>\n      <td>Charles Kennedy</td>\n      <td>Forecasters are revising their diesel demand o...</td>\n    </tr>\n    <tr>\n      <th>Aug 18, 2023</th>\n      <td>Chevron LNG Workers To Vote On Strike Action</td>\n      <td>Irina Slav</td>\n      <td>Workers at the two LNG projects that Chevron o...</td>\n    </tr>\n  </tbody>\n</table>\n</div>"
     },
     "execution_count": 42,
     "metadata": {},
     "output_type": "execute_result"
    }
   ],
   "source": [
    "news_clean = news.loc[['Aug 15, 2023', 'Aug 16, 2023', 'Aug 17, 2023', 'Aug 18, 2023']]\n",
    "news_clean"
   ]
  },
  {
   "cell_type": "markdown",
   "id": "6d3757771051e317",
   "metadata": {},
   "source": [
    "2.1 How many news articles were there for 4 days?"
   ]
  },
  {
   "cell_type": "code",
   "execution_count": 43,
   "id": "5f24386f1ab419a5",
   "metadata": {
    "ExecuteTime": {
     "end_time": "2023-10-17T14:52:30.991482Z",
     "start_time": "2023-10-17T14:52:30.969411Z"
    }
   },
   "outputs": [
    {
     "name": "stdout",
     "output_type": "stream",
     "text": [
      "There has 45 articles for 4 days\n"
     ]
    }
   ],
   "source": [
    "print(f'There has {len(news_clean)} articles for 4 days')"
   ]
  },
  {
   "cell_type": "markdown",
   "id": "bd97b49521adfec9",
   "metadata": {},
   "source": [
    "2.2 List all news titles for 4 days"
   ]
  },
  {
   "cell_type": "code",
   "execution_count": 44,
   "id": "f9588fad5f980f7e",
   "metadata": {
    "ExecuteTime": {
     "end_time": "2023-10-17T14:52:34.647691Z",
     "start_time": "2023-10-17T14:52:34.624928Z"
    }
   },
   "outputs": [
    {
     "data": {
      "text/plain": "array(['Oil Steady Despite Large Crude Draw',\n       'U.S. Shale Oil Production Growth Getting Increasingly Difficult: Report',\n       'U.S. Pipeline Gas Exports To Mexico Hit A Record-High',\n       'Russia To Raise Oil Export Duty To Highest This Year',\n       'Premier Claims Alberta Will Never Comply With Canada’s Clean Power Proposal',\n       'Libya’s Oil Output Threatened As Intense Fighting Breaks Out In Tripoli',\n       'Robotaxis Clog Streets Of San Francisco In Major Traffic Jam',\n       'APA In Talks About Floating LNG Site Offshore Guyana-Suriname',\n       'Deadly Explosions Rock Russian Oilfield',\n       'Australia To Consider Tariffs On Carbon-Intensive Imports',\n       'Suncor Energy Reports A Substantial Decline In Profits',\n       'EIA Sees Lower Shale Oil Production In September',\n       'India Approves $7B Electric City Bus Scheme',\n       'Amid Energy Crisis, Lebanon Sees First DrillShip Arrive For Oil Exploration',\n       'U.S. Gas Prices Hit Year High As Market Tightens',\n       'Energy Transfer LP To Acquire Crestwood Equity Partners In $7B Deal',\n       'Investors Boost Bullish Bets On European Natural Gas Prices',\n       'Lula Aide Signals It’s Okay For Petrobras To Pursue Amazon Drilling',\n       'Tesla Reignites Price War With More Cuts In China',\n       'Indonesia Delays $20 Billion Climate Plan',\n       'Germany Sees Natural Gas Prices Remaining High For Years',\n       'Woodside Energy Reports Positive Progress In LNG Strike Talks',\n       'Libyan Fighting Stops After Prisoner Release',\n       'ERCOT Asks Texans to Conserve Energy Again As Demand Tests Limits',\n       'Chinese EV Battery Imports Under Scrutiny Over Forced Labor',\n       'U.S. Sanctions Lebanese Environmental Activist Aiding Hezbollah',\n       'Citigroup Says To Short Oil After Summer Is Over',\n       'Brazil Looks To Introduce Emissions Cap',\n       'WoodMac: Fivefold Annual Jump In Global Offshore Wind Is “Unrealistic”',\n       'China Seeks More Secrecy In Its Energy Sector To Protect National Security',\n       \"UK's Truck Fleet Faces Pressure To Go Green\",\n       'China Likely Tapped Its Crude Inventories In July',\n       'Kurdistan Oilfield Restarted Despite Ongoing Export Halt',\n       'ADNOC Gas Signs LNG Deal With Japanese Energy Giant',\n       'Iran To Bring 67 New Oil And Gas Projects Online By March',\n       'Quebec Energy Minister Wants Fewer Cars On The Roads',\n       'Russian Crude Oil Discount For India Shrinks',\n       'Big Solar Slapped With Tariffs For Dodging China Duties',\n       'Adani Clears Air On Rumored $2.5 Billion Deal With Abu Dhabi’s TAQA',\n       'LNG Tanker Prices Soar Earlier Than Usual Ahead Of Winter',\n       'China’s Oil Giant CNOOC Sees Profits Drop 11% On Lower Prices',\n       'Sour Crude Market Tightens Further As Kuwait’s Exports Dip',\n       'Nigeria Has Lost $46 Billion Worth Of Crude Oil To Theft',\n       'Diesel Demand Outlook Darkens On China Slowdown',\n       'Chevron LNG Workers To Vote On Strike Action'], dtype=object)"
     },
     "execution_count": 44,
     "metadata": {},
     "output_type": "execute_result"
    }
   ],
   "source": [
    "news_clean['title'].values"
   ]
  },
  {
   "cell_type": "markdown",
   "id": "6e7ab41ae68d7b1b",
   "metadata": {},
   "source": [
    "2.3 Who is the most frequent news reporter for 4 days?"
   ]
  },
  {
   "cell_type": "code",
   "execution_count": 45,
   "id": "7b88b124d8f09978",
   "metadata": {
    "ExecuteTime": {
     "end_time": "2023-10-17T14:52:39.177345Z",
     "start_time": "2023-10-17T14:52:39.161338Z"
    }
   },
   "outputs": [],
   "source": [
    "most_freq_reporter = news_clean.groupby('writer')['writer'].value_counts().sort_values(ascending = False).iloc[:1]"
   ]
  },
  {
   "cell_type": "code",
   "execution_count": 46,
   "id": "128bac0e594c9ac9",
   "metadata": {
    "ExecuteTime": {
     "end_time": "2023-10-17T14:52:39.576348Z",
     "start_time": "2023-10-17T14:52:39.541211Z"
    }
   },
   "outputs": [
    {
     "name": "stdout",
     "output_type": "stream",
     "text": [
      "The most frequent news reporter is ['Tsvetana Paraskova'] who wrotes [12] articles\n"
     ]
    }
   ],
   "source": [
    "print(f'The most frequent news reporter is {most_freq_reporter.index.values} who wrotes {most_freq_reporter.values} articles')"
   ]
  },
  {
   "cell_type": "code",
   "execution_count": 48,
   "outputs": [],
   "source": [
    "ex = []\n",
    "for i in news_clean['excerpt'] :\n",
    "    ex.append(i)"
   ],
   "metadata": {
    "collapsed": false,
    "ExecuteTime": {
     "end_time": "2023-10-17T14:54:14.688146Z",
     "start_time": "2023-10-17T14:54:14.668350Z"
    }
   },
   "id": "c06f0ea9858085bb"
  },
  {
   "cell_type": "code",
   "execution_count": 51,
   "outputs": [],
   "source": [
    "ex_text = ' '.join(ex)"
   ],
   "metadata": {
    "collapsed": false,
    "ExecuteTime": {
     "end_time": "2023-10-17T14:54:33.359743Z",
     "start_time": "2023-10-17T14:54:33.345497Z"
    }
   },
   "id": "97890d85aa05ecc1"
  },
  {
   "cell_type": "markdown",
   "source": [
    "preprocessing"
   ],
   "metadata": {
    "collapsed": false
   },
   "id": "fe5766d27c212b5c"
  },
  {
   "cell_type": "code",
   "execution_count": 52,
   "outputs": [],
   "source": [
    "import re\n",
    "letters_only = re.sub('[^a-zA-Z]', ' ', ex_text)"
   ],
   "metadata": {
    "collapsed": false,
    "ExecuteTime": {
     "end_time": "2023-10-17T14:57:07.174730Z",
     "start_time": "2023-10-17T14:57:07.155184Z"
    }
   },
   "id": "a70a5324675c2084"
  },
  {
   "cell_type": "markdown",
   "source": [
    "소문자 변경"
   ],
   "metadata": {
    "collapsed": false
   },
   "id": "4763e35ae904b5d1"
  },
  {
   "cell_type": "code",
   "execution_count": 54,
   "outputs": [],
   "source": [
    "lower_latters = letters_only.lower().split() # list"
   ],
   "metadata": {
    "collapsed": false,
    "ExecuteTime": {
     "end_time": "2023-10-17T14:57:29.936488Z",
     "start_time": "2023-10-17T14:57:29.901481Z"
    }
   },
   "id": "8877b461874dd6aa"
  },
  {
   "cell_type": "markdown",
   "source": [
    "불용어 제거"
   ],
   "metadata": {
    "collapsed": false
   },
   "id": "be2223820488c096"
  },
  {
   "cell_type": "code",
   "execution_count": 55,
   "outputs": [
    {
     "name": "stderr",
     "output_type": "stream",
     "text": [
      "[nltk_data] Downloading package stopwords to\n",
      "[nltk_data]     /Users/junghunlee/nltk_data...\n",
      "[nltk_data]   Package stopwords is already up-to-date!\n"
     ]
    }
   ],
   "source": [
    "import nltk\n",
    "nltk.download('stopwords')\n",
    "from nltk.corpus import stopwords"
   ],
   "metadata": {
    "collapsed": false,
    "ExecuteTime": {
     "end_time": "2023-10-17T14:57:45.255328Z",
     "start_time": "2023-10-17T14:57:44.450833Z"
    }
   },
   "id": "dfb1b2af605f9f18"
  },
  {
   "cell_type": "code",
   "execution_count": 56,
   "outputs": [],
   "source": [
    "stops = set(stopwords.words('english')) # unique words"
   ],
   "metadata": {
    "collapsed": false,
    "ExecuteTime": {
     "end_time": "2023-10-17T14:57:50.963128Z",
     "start_time": "2023-10-17T14:57:50.929265Z"
    }
   },
   "id": "99f1f0cee9ccd3c8"
  },
  {
   "cell_type": "code",
   "execution_count": 57,
   "outputs": [],
   "source": [
    "meaningful_words = [word for word in lower_latters if not word in stops]"
   ],
   "metadata": {
    "collapsed": false,
    "ExecuteTime": {
     "end_time": "2023-10-17T14:58:02.182543Z",
     "start_time": "2023-10-17T14:58:02.147771Z"
    }
   },
   "id": "6e77ff5041cca9a7"
  },
  {
   "cell_type": "markdown",
   "source": [
    "단어 어근 추출"
   ],
   "metadata": {
    "collapsed": false
   },
   "id": "55e960a394de5da7"
  },
  {
   "cell_type": "code",
   "execution_count": 58,
   "outputs": [],
   "source": [
    "from nltk.stem import PorterStemmer\n",
    "ps = PorterStemmer()\n",
    "stemming_words = [ps.stem(word) for word in meaningful_words]"
   ],
   "metadata": {
    "collapsed": false,
    "ExecuteTime": {
     "end_time": "2023-10-17T14:58:17.447355Z",
     "start_time": "2023-10-17T14:58:17.416578Z"
    }
   },
   "id": "f236a20bc2f2366c"
  },
  {
   "cell_type": "code",
   "execution_count": 62,
   "outputs": [
    {
     "name": "stdout",
     "output_type": "stream",
     "text": [
      "It can obtain 501 words when duplicates are removed\n"
     ]
    }
   ],
   "source": [
    "print(f'It can obtain {len(set(stemming_words))} words when duplicates are removed')"
   ],
   "metadata": {
    "collapsed": false,
    "ExecuteTime": {
     "end_time": "2023-10-17T14:59:00.755196Z",
     "start_time": "2023-10-17T14:59:00.740734Z"
    }
   },
   "id": "4df34fe4020f608b"
  },
  {
   "cell_type": "markdown",
   "source": [
    "oil이 나온 횟수"
   ],
   "metadata": {
    "collapsed": false
   },
   "id": "3f36d840f18526ff"
  },
  {
   "cell_type": "code",
   "execution_count": 63,
   "outputs": [
    {
     "name": "stdout",
     "output_type": "stream",
     "text": [
      "20 times are occurred in text\n"
     ]
    }
   ],
   "source": [
    "print(f'{stemming_words.count(\"oil\")} times are occurred in text')"
   ],
   "metadata": {
    "collapsed": false,
    "ExecuteTime": {
     "end_time": "2023-10-17T14:59:19.892600Z",
     "start_time": "2023-10-17T14:59:19.870291Z"
    }
   },
   "id": "3e666337173e664d"
  },
  {
   "cell_type": "code",
   "execution_count": 64,
   "outputs": [
    {
     "name": "stdout",
     "output_type": "stream",
     "text": [
      "The third most frequent word is \"ga\" and its frequency is 11\n"
     ]
    }
   ],
   "source": [
    "from collections import Counter\n",
    "third_word, freq = Counter(stemming_words).most_common(10)[2]\n",
    "print(f'The third most frequent word is \"{third_word}\" and its frequency is {freq}')"
   ],
   "metadata": {
    "collapsed": false,
    "ExecuteTime": {
     "end_time": "2023-10-17T14:59:38.145312Z",
     "start_time": "2023-10-17T14:59:38.113388Z"
    }
   },
   "id": "f883c6ccb6d591f0"
  },
  {
   "cell_type": "code",
   "execution_count": 65,
   "outputs": [],
   "source": [
    "import matplotlib.pyplot as plt\n",
    "freq_words = Counter(stemming_words).most_common(20)\n",
    "keywords = [key[0] for key in freq_words]\n",
    "freq = [freq[1] for freq in freq_words]"
   ],
   "metadata": {
    "collapsed": false,
    "ExecuteTime": {
     "end_time": "2023-10-17T14:59:51.737872Z",
     "start_time": "2023-10-17T14:59:51.701691Z"
    }
   },
   "id": "24f440a4dfd70a20"
  },
  {
   "cell_type": "code",
   "execution_count": 69,
   "outputs": [
    {
     "data": {
      "text/plain": "<Figure size 1000x400 with 1 Axes>",
      "image/png": "[encoded data removed]"
     },
     "metadata": {},
     "output_type": "display_data"
    }
   ],
   "source": [
    "def plot_word_freq(keywords : list, freq : list) -> None :\n",
    "    plt.figure(figsize = (10, 4))\n",
    "    plt.bar(keywords, freq, color = 'navy', alpha = 0.6)\n",
    "    plt.xlabel('words', fontfamily = 'Serif')\n",
    "    plt.ylabel('freqency', fontfamily = 'Serif')\n",
    "    plt.xticks(rotation = 90)\n",
    "    plt.title('word - frequency relationship', fontsize = 12, fontfamily = 'Serif')\n",
    "    plt.show()\n",
    "    \n",
    "def main() -> None : plot_word_freq(keywords, freq)\n",
    "\n",
    "if __name__ == '__main__' : main();"
   ],
   "metadata": {
    "collapsed": false,
    "ExecuteTime": {
     "end_time": "2023-10-17T15:00:26.374265Z",
     "start_time": "2023-10-17T15:00:26.287869Z"
    }
   },
   "id": "a08bd9a06688dd43"
  }
 ],
 "metadata": {
  "kernelspec": {
   "display_name": "Python 3 (ipykernel)",
   "language": "python",
   "name": "python3"
  },
  "language_info": {
   "codemirror_mode": {
    "name": "ipython",
    "version": 3
   },
   "file_extension": ".py",
   "mimetype": "text/x-python",
   "name": "python",
   "nbconvert_exporter": "python",
   "pygments_lexer": "ipython3",
   "version": "3.11.4"
  }
 },
 "nbformat": 4,
 "nbformat_minor": 5
}
