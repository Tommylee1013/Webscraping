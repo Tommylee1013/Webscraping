{
 "cells": [
  {
   "cell_type": "markdown",
   "source": [
    "### Text Mining Homework 2\n",
    "\n",
    "#### 1. IMDB Top 250 movies\n",
    "\n",
    "(https://www.imdb.com/search/title/?groups=top_250&sort=user_rating)\n",
    "\n",
    "We want to analyze IMDB top 250 movies. Create a data frame containing the five variables below while doing necessary preprocessing, such as removing dots or parentheses, and then answer the question. (rank, title, year, runtime, genre, director, rating (the number next to the yellow star))"
   ],
   "metadata": {
    "collapsed": false
   },
   "id": "956613ca95353689"
  },
  {
   "cell_type": "code",
   "execution_count": 1,
   "id": "initial_id",
   "metadata": {
    "collapsed": true,
    "ExecuteTime": {
     "end_time": "2023-10-14T06:41:51.516058Z",
     "start_time": "2023-10-14T06:41:19.131408Z"
    }
   },
   "outputs": [
    {
     "name": "stdout",
     "output_type": "stream",
     "text": [
      "0\n",
      "1\n",
      "2\n",
      "3\n",
      "4\n",
      "5\n",
      "6\n",
      "7\n",
      "8\n",
      "9\n",
      "10\n",
      "11\n",
      "12\n",
      "13\n",
      "14\n",
      "15\n",
      "16\n",
      "17\n",
      "18\n",
      "19\n",
      "20\n",
      "21\n",
      "22\n",
      "23\n",
      "24\n",
      "25\n",
      "26\n",
      "27\n",
      "28\n",
      "29\n",
      "30\n",
      "31\n",
      "32\n",
      "33\n",
      "34\n",
      "35\n",
      "36\n",
      "37\n",
      "38\n",
      "39\n",
      "40\n",
      "41\n",
      "42\n",
      "43\n",
      "44\n",
      "45\n",
      "46\n",
      "47\n",
      "48\n",
      "49\n",
      "0\n",
      "1\n",
      "2\n",
      "3\n",
      "4\n",
      "5\n",
      "6\n",
      "7\n",
      "8\n",
      "9\n",
      "10\n",
      "11\n",
      "12\n",
      "13\n",
      "14\n",
      "15\n",
      "16\n",
      "17\n",
      "18\n",
      "19\n",
      "20\n",
      "21\n",
      "22\n",
      "23\n",
      "24\n",
      "25\n",
      "26\n",
      "27\n",
      "28\n",
      "29\n",
      "30\n",
      "31\n",
      "32\n",
      "33\n",
      "34\n",
      "35\n",
      "36\n",
      "37\n",
      "38\n",
      "39\n",
      "40\n",
      "41\n",
      "42\n",
      "43\n",
      "44\n",
      "45\n",
      "46\n",
      "47\n",
      "48\n",
      "49\n",
      "0\n",
      "1\n",
      "2\n",
      "3\n",
      "4\n",
      "5\n",
      "6\n",
      "7\n",
      "8\n",
      "9\n",
      "10\n",
      "11\n",
      "12\n",
      "13\n",
      "14\n",
      "15\n",
      "16\n",
      "17\n",
      "18\n",
      "19\n",
      "20\n",
      "21\n",
      "22\n",
      "23\n",
      "24\n",
      "25\n",
      "26\n",
      "27\n",
      "28\n",
      "29\n",
      "30\n",
      "31\n",
      "32\n",
      "33\n",
      "34\n",
      "35\n",
      "36\n",
      "37\n",
      "38\n",
      "39\n",
      "40\n",
      "41\n",
      "42\n",
      "43\n",
      "44\n",
      "45\n",
      "46\n",
      "47\n",
      "48\n",
      "49\n",
      "0\n",
      "1\n",
      "2\n",
      "3\n",
      "4\n",
      "5\n",
      "6\n",
      "7\n",
      "8\n",
      "9\n",
      "10\n",
      "11\n",
      "12\n",
      "13\n",
      "14\n",
      "15\n",
      "16\n",
      "17\n",
      "18\n",
      "19\n",
      "20\n",
      "21\n",
      "22\n",
      "23\n",
      "24\n",
      "25\n",
      "26\n",
      "27\n",
      "28\n",
      "29\n",
      "30\n",
      "31\n",
      "32\n",
      "33\n",
      "34\n",
      "35\n",
      "36\n",
      "37\n",
      "38\n",
      "39\n",
      "40\n",
      "41\n",
      "42\n",
      "43\n",
      "44\n",
      "45\n",
      "46\n",
      "47\n",
      "48\n",
      "49\n",
      "0\n",
      "1\n",
      "2\n",
      "3\n",
      "4\n",
      "5\n",
      "6\n",
      "7\n",
      "8\n",
      "9\n",
      "10\n",
      "11\n",
      "12\n",
      "13\n",
      "14\n",
      "15\n",
      "16\n",
      "17\n",
      "18\n",
      "19\n",
      "20\n",
      "21\n",
      "22\n",
      "23\n",
      "24\n",
      "25\n",
      "26\n",
      "27\n",
      "28\n",
      "29\n",
      "30\n",
      "31\n",
      "32\n",
      "33\n",
      "34\n",
      "35\n",
      "36\n",
      "37\n",
      "38\n",
      "39\n",
      "40\n",
      "41\n",
      "42\n",
      "43\n",
      "44\n",
      "45\n",
      "46\n",
      "47\n",
      "48\n",
      "49\n"
     ]
    }
   ],
   "source": [
    "import requests\n",
    "from bs4 import BeautifulSoup\n",
    "import re\n",
    "\n",
    "url1 = 'https://www.imdb.com/search/title/?groups=top_250&sort=user_rating,desc&ref_=adv_prv'\n",
    "url2 = 'https://www.imdb.com/search/title/?groups=top_250&sort=user_rating,desc&start=51&ref_=adv_nxt'\n",
    "url3 = 'https://www.imdb.com/search/title/?groups=top_250&sort=user_rating,desc&start=101&ref_=adv_nxt'\n",
    "url4 = 'https://www.imdb.com/search/title/?groups=top_250&sort=user_rating,desc&start=151&ref_=adv_nxt'\n",
    "url5 = 'https://www.imdb.com/search/title/?groups=top_250&sort=user_rating,desc&start=201&ref_=adv_nxt'\n",
    "url_list = [url1, url2, url3, url4, url5]\n",
    "\n",
    "rank_list = []\n",
    "title_list = []\n",
    "year_list = []\n",
    "runtime_list = []\n",
    "genre_list = []\n",
    "director_list = []\n",
    "rating_list = []\n",
    "\n",
    "for url_i in url_list:\n",
    "  url = url_i\n",
    "  req = requests.get(url)\n",
    "  html = req.text\n",
    "  soup = BeautifulSoup(html, \"html.parser\")\n",
    "\n",
    "  for i in range(0,50):\n",
    "    rank = re.sub('\\.', '', soup.select(\".lister-item-index\")[i].text)\n",
    "    title = soup.select(\".lister-item-header > a\")[i].text\n",
    "    year = re.sub('\\(|\\)', '', soup.select(\".lister-item-year\")[i].text)\n",
    "    runtime = float(re.sub('min', ' ', soup.select(\".runtime\")[i].text))\n",
    "    genre = re.sub('\\\\n', '', soup.select(\".genre\")[i].text)\n",
    "    director = soup.select(\"p > a:nth-of-type(1)\")[i].text\n",
    "    rating = float(soup.select(\".inline-block > strong\")[i].text)\n",
    "    rank_list.append(rank)\n",
    "    title_list.append(title)\n",
    "    year_list.append(year)\n",
    "    runtime_list.append(runtime)\n",
    "    genre_list.append(genre)\n",
    "    director_list.append(director)\n",
    "    rating_list.append(rating)\n",
    "    print(i)"
   ]
  },
  {
   "cell_type": "markdown",
   "source": [
    "1.1 What are the top 2 years with the highest frequency?"
   ],
   "metadata": {
    "collapsed": false
   },
   "id": "19d8d93f9b41ca94"
  },
  {
   "cell_type": "code",
   "execution_count": 2,
   "outputs": [
    {
     "name": "stdout",
     "output_type": "stream",
     "text": [
      "[('1995', 8), ('2004', 7)]\n"
     ]
    }
   ],
   "source": [
    "from collections import Counter\n",
    "year_clean = [i.replace('I ','') for i in year_list]\n",
    "counter = Counter(year_clean)\n",
    "most_common_2 = counter.most_common(2)\n",
    "\n",
    "print(most_common_2)"
   ],
   "metadata": {
    "collapsed": false,
    "ExecuteTime": {
     "end_time": "2023-10-14T06:41:51.520118Z",
     "start_time": "2023-10-14T06:41:51.518003Z"
    }
   },
   "id": "1367d72253b5ccdf"
  },
  {
   "cell_type": "markdown",
   "source": [
    "1995, 2004 are the highest frequent year."
   ],
   "metadata": {
    "collapsed": false
   },
   "id": "9de4d926e39117b1"
  },
  {
   "cell_type": "markdown",
   "source": [
    "1.2 Using the average of ratings by year, find the **year with the highest** average value and **the average value**"
   ],
   "metadata": {
    "collapsed": false
   },
   "id": "6e9bc7d6f55c62bc"
  },
  {
   "cell_type": "code",
   "execution_count": 3,
   "outputs": [
    {
     "data": {
      "text/plain": "                   title rank runtime  \\\n1994              쇼생크 탈출    1   142.0   \n1972              Daeboo    2   175.0   \n2008              다크 나이트    3   152.0   \n1993             쉰들러 리스트    4   195.0   \n2003       반지의 제왕: 왕의 귀환    5   201.0   \n...                  ...  ...     ...   \n2004     The Incredibles  246   115.0   \n1990  Dances with Wolves  247   181.0   \n1993             사랑의 블랙홀  248   101.0   \n1992                 알라딘  249    90.0   \n1979       Life of Brian  250    94.0   \n\n                                         genre              director rating  \n1994                         Drama                    Frank Darabont    9.3  \n1972                  Crime, Drama              Francis Ford Coppola    9.2  \n2008          Action, Crime, Drama                 Christopher Nolan    9.0  \n1993     Biography, Drama, History                   Oskar Schindler    9.0  \n2003      Action, Adventure, Drama                  Steven Spielberg    9.0  \n...                                        ...                   ...    ...  \n2004  Animation, Action, Adventure                  Gillo Pontecorvo    8.0  \n1990     Adventure, Drama, Western                    Clyde Bruckman    8.0  \n1993        Comedy, Drama, Fantasy               Carl Theodor Dreyer    8.0  \n1992  Animation, Adventure, Comedy                   Charles Chaplin    8.0  \n1979                        Comedy                         Brad Bird    8.0  \n\n[250 rows x 6 columns]",
      "text/html": "<div>\n<style scoped>\n    .dataframe tbody tr th:only-of-type {\n        vertical-align: middle;\n    }\n\n    .dataframe tbody tr th {\n        vertical-align: top;\n    }\n\n    .dataframe thead th {\n        text-align: right;\n    }\n</style>\n<table border=\"1\" class=\"dataframe\">\n  <thead>\n    <tr style=\"text-align: right;\">\n      <th></th>\n      <th>title</th>\n      <th>rank</th>\n      <th>runtime</th>\n      <th>genre</th>\n      <th>director</th>\n      <th>rating</th>\n    </tr>\n  </thead>\n  <tbody>\n    <tr>\n      <th>1994</th>\n      <td>쇼생크 탈출</td>\n      <td>1</td>\n      <td>142.0</td>\n      <td>Drama</td>\n      <td>Frank Darabont</td>\n      <td>9.3</td>\n    </tr>\n    <tr>\n      <th>1972</th>\n      <td>Daeboo</td>\n      <td>2</td>\n      <td>175.0</td>\n      <td>Crime, Drama</td>\n      <td>Francis Ford Coppola</td>\n      <td>9.2</td>\n    </tr>\n    <tr>\n      <th>2008</th>\n      <td>다크 나이트</td>\n      <td>3</td>\n      <td>152.0</td>\n      <td>Action, Crime, Drama</td>\n      <td>Christopher Nolan</td>\n      <td>9.0</td>\n    </tr>\n    <tr>\n      <th>1993</th>\n      <td>쉰들러 리스트</td>\n      <td>4</td>\n      <td>195.0</td>\n      <td>Biography, Drama, History</td>\n      <td>Oskar Schindler</td>\n      <td>9.0</td>\n    </tr>\n    <tr>\n      <th>2003</th>\n      <td>반지의 제왕: 왕의 귀환</td>\n      <td>5</td>\n      <td>201.0</td>\n      <td>Action, Adventure, Drama</td>\n      <td>Steven Spielberg</td>\n      <td>9.0</td>\n    </tr>\n    <tr>\n      <th>...</th>\n      <td>...</td>\n      <td>...</td>\n      <td>...</td>\n      <td>...</td>\n      <td>...</td>\n      <td>...</td>\n    </tr>\n    <tr>\n      <th>2004</th>\n      <td>The Incredibles</td>\n      <td>246</td>\n      <td>115.0</td>\n      <td>Animation, Action, Adventure</td>\n      <td>Gillo Pontecorvo</td>\n      <td>8.0</td>\n    </tr>\n    <tr>\n      <th>1990</th>\n      <td>Dances with Wolves</td>\n      <td>247</td>\n      <td>181.0</td>\n      <td>Adventure, Drama, Western</td>\n      <td>Clyde Bruckman</td>\n      <td>8.0</td>\n    </tr>\n    <tr>\n      <th>1993</th>\n      <td>사랑의 블랙홀</td>\n      <td>248</td>\n      <td>101.0</td>\n      <td>Comedy, Drama, Fantasy</td>\n      <td>Carl Theodor Dreyer</td>\n      <td>8.0</td>\n    </tr>\n    <tr>\n      <th>1992</th>\n      <td>알라딘</td>\n      <td>249</td>\n      <td>90.0</td>\n      <td>Animation, Adventure, Comedy</td>\n      <td>Charles Chaplin</td>\n      <td>8.0</td>\n    </tr>\n    <tr>\n      <th>1979</th>\n      <td>Life of Brian</td>\n      <td>250</td>\n      <td>94.0</td>\n      <td>Comedy</td>\n      <td>Brad Bird</td>\n      <td>8.0</td>\n    </tr>\n  </tbody>\n</table>\n<p>250 rows × 6 columns</p>\n</div>"
     },
     "execution_count": 3,
     "metadata": {},
     "output_type": "execute_result"
    }
   ],
   "source": [
    "import pandas as pd\n",
    "df = pd.DataFrame([title_list, rank_list, runtime_list, genre_list, director_list, rating_list], \n",
    "                   index = ['title','rank','runtime','genre','director','rating'], \n",
    "                   columns = year_clean).T\n",
    "df"
   ],
   "metadata": {
    "collapsed": false,
    "ExecuteTime": {
     "end_time": "2023-10-14T06:41:51.876952Z",
     "start_time": "2023-10-14T06:41:51.520074Z"
    }
   },
   "id": "4bd21ac432d4c2f5"
  },
  {
   "cell_type": "code",
   "execution_count": 4,
   "outputs": [
    {
     "data": {
      "text/plain": "1972    9.2\nName: rating, dtype: object"
     },
     "execution_count": 4,
     "metadata": {},
     "output_type": "execute_result"
    }
   ],
   "source": [
    "df['rating'].groupby(df.index).mean().sort_values(ascending = False).iloc[:1]"
   ],
   "metadata": {
    "collapsed": false,
    "ExecuteTime": {
     "end_time": "2023-10-14T06:41:51.884615Z",
     "start_time": "2023-10-14T06:41:51.881884Z"
    }
   },
   "id": "8e555a096d2f92f4"
  },
  {
   "cell_type": "markdown",
   "source": [
    "The year which have the highest average rating is **1972** whose value is 9.2"
   ],
   "metadata": {
    "collapsed": false
   },
   "id": "3a07e14323d9da54"
  },
  {
   "cell_type": "markdown",
   "source": [
    "1.3 What is the second most frequent genre and how many episodes are there? (Note: Multiple genre combinations are classified as one separate genre )"
   ],
   "metadata": {
    "collapsed": false
   },
   "id": "5edf8d50724d7e52"
  },
  {
   "cell_type": "code",
   "execution_count": 5,
   "outputs": [
    {
     "data": {
      "text/plain": "genre\nDrama                                       19\nCrime, Drama                                14\nAnimation, Adventure, Comedy                 9\nCrime, Drama, Mystery                        9\nBiography, Drama, History                    9\n                                            ..\nAdventure, Comedy, Sci-Fi                    1\nAdventure, Comedy, Fantasy                   1\nCrime, Mystery, Thriller                     1\nCrime, Sci-Fi                                1\nWestern                                      1\nName: count, Length: 105, dtype: int64"
     },
     "execution_count": 5,
     "metadata": {},
     "output_type": "execute_result"
    }
   ],
   "source": [
    "df.groupby('genre')['genre'].value_counts().sort_values(ascending = False)"
   ],
   "metadata": {
    "collapsed": false,
    "ExecuteTime": {
     "end_time": "2023-10-14T06:41:51.890637Z",
     "start_time": "2023-10-14T06:41:51.885965Z"
    }
   },
   "id": "31a19f447bd3c66d"
  },
  {
   "cell_type": "code",
   "execution_count": 6,
   "outputs": [
    {
     "data": {
      "text/plain": "genre\nCrime, Drama                14\nName: count, dtype: int64"
     },
     "execution_count": 6,
     "metadata": {},
     "output_type": "execute_result"
    }
   ],
   "source": [
    "df.groupby('genre')['genre'].value_counts().sort_values(ascending = False).iloc[1:2]"
   ],
   "metadata": {
    "collapsed": false,
    "ExecuteTime": {
     "end_time": "2023-10-14T06:41:51.893974Z",
     "start_time": "2023-10-14T06:41:51.890481Z"
    }
   },
   "id": "b1238034d25bee81"
  },
  {
   "cell_type": "markdown",
   "source": [
    "The second most frequent genre is **Crime, Drama** whose number of episode are 14"
   ],
   "metadata": {
    "collapsed": false
   },
   "id": "290779d600c4a450"
  },
  {
   "cell_type": "markdown",
   "source": [
    "1.4 Who is(are) the director(s) who produced more than 7 films?"
   ],
   "metadata": {
    "collapsed": false
   },
   "id": "bd13405f30adc94e"
  },
  {
   "cell_type": "code",
   "execution_count": 7,
   "outputs": [
    {
     "data": {
      "text/plain": "director\nChristopher Nolan         True\nSteven Spielberg         False\nMartin Scorsese          False\nStanley Kubrick          False\nAkira Kurosawa           False\n                         ...  \nHenri-Georges Clouzot    False\nGus Van Sant             False\nGuillermo del Toro       False\nGore Verbinski           False\n어벤져스: 인피니티 워             False\nName: count, Length: 160, dtype: bool"
     },
     "execution_count": 7,
     "metadata": {},
     "output_type": "execute_result"
    }
   ],
   "source": [
    "df.groupby('director')['director'].value_counts().sort_values(ascending = False) > 7"
   ],
   "metadata": {
    "collapsed": false,
    "ExecuteTime": {
     "end_time": "2023-10-14T06:41:51.914679Z",
     "start_time": "2023-10-14T06:41:51.894283Z"
    }
   },
   "id": "1ab5203304eb7e20"
  },
  {
   "cell_type": "markdown",
   "source": [
    "The director who produced more than 7 films is **Christopher Nolan**"
   ],
   "metadata": {
    "collapsed": false
   },
   "id": "9eb4760c4736be70"
  },
  {
   "cell_type": "markdown",
   "source": [
    "1.5 How many works are there less than 70 minutes in their runtime?"
   ],
   "metadata": {
    "collapsed": false
   },
   "id": "ad3aa7fd9bfd62e7"
  },
  {
   "cell_type": "code",
   "execution_count": 8,
   "outputs": [],
   "source": [
    "df['runtime'] = df['runtime'].astype(float)"
   ],
   "metadata": {
    "collapsed": false,
    "ExecuteTime": {
     "end_time": "2023-10-14T06:41:51.915556Z",
     "start_time": "2023-10-14T06:41:51.898512Z"
    }
   },
   "id": "595683b708aca4e"
  },
  {
   "cell_type": "code",
   "execution_count": 9,
   "outputs": [
    {
     "data": {
      "text/plain": "             title rank  runtime                                genre  \\\n1921       The Kid  168     68.0    Comedy, Drama, Family               \n1924  Sherlock Jr.  171     45.0  Action, Comedy, Romance               \n\n             director rating  \n1921  Charles Chaplin    8.2  \n1924    Buster Keaton    8.2  ",
      "text/html": "<div>\n<style scoped>\n    .dataframe tbody tr th:only-of-type {\n        vertical-align: middle;\n    }\n\n    .dataframe tbody tr th {\n        vertical-align: top;\n    }\n\n    .dataframe thead th {\n        text-align: right;\n    }\n</style>\n<table border=\"1\" class=\"dataframe\">\n  <thead>\n    <tr style=\"text-align: right;\">\n      <th></th>\n      <th>title</th>\n      <th>rank</th>\n      <th>runtime</th>\n      <th>genre</th>\n      <th>director</th>\n      <th>rating</th>\n    </tr>\n  </thead>\n  <tbody>\n    <tr>\n      <th>1921</th>\n      <td>The Kid</td>\n      <td>168</td>\n      <td>68.0</td>\n      <td>Comedy, Drama, Family</td>\n      <td>Charles Chaplin</td>\n      <td>8.2</td>\n    </tr>\n    <tr>\n      <th>1924</th>\n      <td>Sherlock Jr.</td>\n      <td>171</td>\n      <td>45.0</td>\n      <td>Action, Comedy, Romance</td>\n      <td>Buster Keaton</td>\n      <td>8.2</td>\n    </tr>\n  </tbody>\n</table>\n</div>"
     },
     "execution_count": 9,
     "metadata": {},
     "output_type": "execute_result"
    }
   ],
   "source": [
    "df[df['runtime'] < 70]"
   ],
   "metadata": {
    "collapsed": false,
    "ExecuteTime": {
     "end_time": "2023-10-14T06:41:51.924748Z",
     "start_time": "2023-10-14T06:41:51.903341Z"
    }
   },
   "id": "3b4b086a3091351f"
  },
  {
   "cell_type": "markdown",
   "source": [
    "There is only 2 works whose running time is less than 70 minutes"
   ],
   "metadata": {
    "collapsed": false
   },
   "id": "8063b797a14f991"
  },
  {
   "cell_type": "markdown",
   "source": [
    "#### Problem 2\n",
    "\n",
    "We want to extract the news from August 15th to 18th, 2023 from the oilprice.com site and list [title] and [writer]. After extracting the title and date of the news using the URL pages below (20 cases per page) as candidates, we are trying to separately extract cases where the corresponding date falls between August 15 and 18, 2023.\n",
    "\n",
    "https://oilprice.com/Latest-Energy-News/World-News/\n",
    "https://oilprice.com/Latest-Energy-News/World-News/Page-1.html\n",
    "https://oilprice.com/Latest-Energy-News/World-News/Page-2.html\n",
    "\n",
    "Note that each of the above URL pages contains 20 news articles.\n",
    "Answer the questions below about the news from August 15-18, 2023."
   ],
   "metadata": {
    "collapsed": false
   },
   "id": "10608d50309d8b99"
  },
  {
   "cell_type": "code",
   "execution_count": 10,
   "outputs": [],
   "source": [
    "url_list = [\n",
    "    \"https://oilprice.com/Latest-Energy-News/World-News/Page-23.html\",\n",
    "    \"https://oilprice.com/Latest-Energy-News/World-News/Page-24.html\",\n",
    "    \"https://oilprice.com/Latest-Energy-News/World-News/Page-25.html\"\n",
    "]"
   ],
   "metadata": {
    "collapsed": false,
    "ExecuteTime": {
     "end_time": "2023-10-14T06:41:51.924865Z",
     "start_time": "2023-10-14T06:41:51.906015Z"
    }
   },
   "id": "ad5ea9df23347f87"
  },
  {
   "cell_type": "code",
   "execution_count": 11,
   "outputs": [],
   "source": [
    "news_titles = []\n",
    "news_date = []\n",
    "news_writer = []\n",
    "news_excerpt = []\n",
    "\n",
    "for url in url_list:\n",
    "    req = requests.get(url)\n",
    "    html = req.text\n",
    "    soup = BeautifulSoup(html, \"html.parser\")\n",
    "    \n",
    "    title_elements = soup.select(\".categoryArticle__title\")\n",
    "    meta_elements = soup.select(\".categoryArticle__meta\")\n",
    "    excerpt_elements = soup.select('.categoryArticle__excerpt')\n",
    "    \n",
    "    for title_element in title_elements:\n",
    "        title = title_element.text.strip()\n",
    "        news_titles.append(title)\n",
    "        \n",
    "    for meta_element in meta_elements :\n",
    "        time, writer = meta_element.text.strip().split(' | ')\n",
    "        date, _ = time.split(' at ')\n",
    "        news_writer.append(writer)\n",
    "        news_date.append(date)\n",
    "    \n",
    "    for excerpt_element in excerpt_elements :\n",
    "        excerpt = excerpt_element.text.strip()\n",
    "        news_excerpt.append(excerpt)"
   ],
   "metadata": {
    "collapsed": false,
    "ExecuteTime": {
     "end_time": "2023-10-14T06:41:56.137811Z",
     "start_time": "2023-10-14T06:41:51.910348Z"
    }
   },
   "id": "69cace7632377c97"
  },
  {
   "cell_type": "code",
   "execution_count": 12,
   "outputs": [
    {
     "data": {
      "text/plain": "                                                          title  \\\nAug 21, 2023  Kinder Morgan Unit Declares Force Majeure At T...   \nAug 21, 2023  Latest U.S. Upstream Merger To Create $14-Bill...   \nAug 21, 2023  U.S. Oil Firm Apache Plans To Invest $1.4 Bill...   \nAug 21, 2023  North Carolina Excluded From Offshore Wind Lea...   \nAug 21, 2023  Saudi Arabia Secures Financing For $2.4 Billio...   \nAug 21, 2023  The Impact Of Looming Strikes At Australian LN...   \nAug 21, 2023        China Emerges As A Global LNG Trading Power   \nAug 21, 2023  Alberta Halts New Wind And Solar Projects As R...   \nAug 21, 2023  Libya Unifies Central Bank After Nearly A Deca...   \nAug 18, 2023  Big Solar Slapped With Tariffs For Dodging Chi...   \nAug 18, 2023  Adani Clears Air On Rumored $2.5 Billion Deal ...   \nAug 18, 2023  LNG Tanker Prices Soar Earlier Than Usual Ahea...   \nAug 18, 2023  China’s Oil Giant CNOOC Sees Profits Drop 11% ...   \nAug 18, 2023  Sour Crude Market Tightens Further As Kuwait’s...   \nAug 18, 2023  Nigeria Has Lost $46 Billion Worth Of Crude Oi...   \nAug 18, 2023    Diesel Demand Outlook Darkens On China Slowdown   \nAug 18, 2023       Chevron LNG Workers To Vote On Strike Action   \nAug 17, 2023  ERCOT Asks Texans to Conserve Energy Again As ...   \nAug 17, 2023  Chinese EV Battery Imports Under Scrutiny Over...   \nAug 17, 2023  U.S. Sanctions Lebanese Environmental Activist...   \nAug 17, 2023   Citigroup Says To Short Oil After Summer Is Over   \nAug 17, 2023            Brazil Looks To Introduce Emissions Cap   \nAug 17, 2023  WoodMac: Fivefold Annual Jump In Global Offsho...   \nAug 17, 2023  China Seeks More Secrecy In Its Energy Sector ...   \nAug 17, 2023        UK's Truck Fleet Faces Pressure To Go Green   \nAug 17, 2023  China Likely Tapped Its Crude Inventories In July   \nAug 17, 2023  Kurdistan Oilfield Restarted Despite Ongoing E...   \nAug 17, 2023  ADNOC Gas Signs LNG Deal With Japanese Energy ...   \nAug 17, 2023  Iran To Bring 67 New Oil And Gas Projects Onli...   \nAug 17, 2023  Quebec Energy Minister Wants Fewer Cars On The...   \nAug 17, 2023       Russian Crude Oil Discount For India Shrinks   \nAug 16, 2023        India Approves $7B Electric City Bus Scheme   \nAug 16, 2023  Amid Energy Crisis, Lebanon Sees First DrillSh...   \nAug 16, 2023   U.S. Gas Prices Hit Year High As Market Tightens   \nAug 16, 2023  Energy Transfer LP To Acquire Crestwood Equity...   \nAug 16, 2023  Investors Boost Bullish Bets On European Natur...   \nAug 16, 2023  Lula Aide Signals It’s Okay For Petrobras To P...   \nAug 16, 2023  Tesla Reignites Price War With More Cuts In China   \nAug 16, 2023          Indonesia Delays $20 Billion Climate Plan   \nAug 16, 2023  Germany Sees Natural Gas Prices Remaining High...   \nAug 16, 2023  Woodside Energy Reports Positive Progress In L...   \nAug 16, 2023       Libyan Fighting Stops After Prisoner Release   \nAug 15, 2023                Oil Steady Despite Large Crude Draw   \nAug 15, 2023  U.S. Shale Oil Production Growth Getting Incre...   \nAug 15, 2023  U.S. Pipeline Gas Exports To Mexico Hit A Reco...   \nAug 15, 2023  Russia To Raise Oil Export Duty To Highest Thi...   \nAug 15, 2023  Premier Claims Alberta Will Never Comply With ...   \nAug 15, 2023  Libya’s Oil Output Threatened As Intense Fight...   \nAug 15, 2023  Robotaxis Clog Streets Of San Francisco In Maj...   \nAug 15, 2023  APA In Talks About Floating LNG Site Offshore ...   \nAug 15, 2023            Deadly Explosions Rock Russian Oilfield   \nAug 15, 2023  Australia To Consider Tariffs On Carbon-Intens...   \nAug 15, 2023  Suncor Energy Reports A Substantial Decline In...   \nAug 15, 2023   EIA Sees Lower Shale Oil Production In September   \nAug 14, 2023    ADNOC Could Raise Covestro Bid To $12.6 Billion   \nAug 14, 2023  Americans Struggling To Pay Skyrocketing Energ...   \nAug 14, 2023          Sudan Oil Exports Rising Despite Conflict   \nAug 14, 2023  Nigeria’s Forcados Crude Resumes Loadings Afte...   \nAug 14, 2023  Glencore Gains Majority Stake In Argentina's P...   \nAug 14, 2023  U.S. Steel Stock Skyrockets After Declining Ma...   \n\n                          writer  \\\nAug 21, 2023     Charles Kennedy   \nAug 21, 2023     Charles Kennedy   \nAug 21, 2023     Charles Kennedy   \nAug 21, 2023  Tsvetana Paraskova   \nAug 21, 2023  Tsvetana Paraskova   \nAug 21, 2023  Tsvetana Paraskova   \nAug 21, 2023     Charles Kennedy   \nAug 21, 2023          Irina Slav   \nAug 21, 2023     Charles Kennedy   \nAug 18, 2023         Alex Kimani   \nAug 18, 2023         Alex Kimani   \nAug 18, 2023     Charles Kennedy   \nAug 18, 2023  Tsvetana Paraskova   \nAug 18, 2023  Tsvetana Paraskova   \nAug 18, 2023  Tsvetana Paraskova   \nAug 18, 2023     Charles Kennedy   \nAug 18, 2023          Irina Slav   \nAug 17, 2023     Julianne Geiger   \nAug 17, 2023         Alex Kimani   \nAug 17, 2023         Alex Kimani   \nAug 17, 2023     Julianne Geiger   \nAug 17, 2023     Charles Kennedy   \nAug 17, 2023     Charles Kennedy   \nAug 17, 2023  Tsvetana Paraskova   \nAug 17, 2023            City A.M   \nAug 17, 2023     Charles Kennedy   \nAug 17, 2023  Tsvetana Paraskova   \nAug 17, 2023  Tsvetana Paraskova   \nAug 17, 2023     Charles Kennedy   \nAug 17, 2023          Irina Slav   \nAug 17, 2023          Irina Slav   \nAug 16, 2023     Julianne Geiger   \nAug 16, 2023         Alex Kimani   \nAug 16, 2023         Alex Kimani   \nAug 16, 2023         Alex Kimani   \nAug 16, 2023     Charles Kennedy   \nAug 16, 2023     Charles Kennedy   \nAug 16, 2023           ZeroHedge   \nAug 16, 2023  Tsvetana Paraskova   \nAug 16, 2023  Tsvetana Paraskova   \nAug 16, 2023          Irina Slav   \nAug 16, 2023     Charles Kennedy   \nAug 15, 2023     Julianne Geiger   \nAug 15, 2023     Julianne Geiger   \nAug 15, 2023            Tom Kool   \nAug 15, 2023     Julianne Geiger   \nAug 15, 2023     Charles Kennedy   \nAug 15, 2023  Tsvetana Paraskova   \nAug 15, 2023           ZeroHedge   \nAug 15, 2023  Tsvetana Paraskova   \nAug 15, 2023  Tsvetana Paraskova   \nAug 15, 2023  Tsvetana Paraskova   \nAug 15, 2023     Charles Kennedy   \nAug 15, 2023          Irina Slav   \nAug 14, 2023         Alex Kimani   \nAug 14, 2023         Alex Kimani   \nAug 14, 2023         Alex Kimani   \nAug 14, 2023     Charles Kennedy   \nAug 14, 2023         Metal Miner   \nAug 14, 2023            City A.M   \n\n                                                        excerpt  \nAug 21, 2023  Tennessee Gas Pipeline, a unit of pipeline gia...  \nAug 21, 2023  Permian Resources has signed a deal to buy Ear...  \nAug 21, 2023  Apache Corporation plans to invest next year $...  \nAug 21, 2023  The Biden Administration has not included area...  \nAug 21, 2023  Several Saudi firms, including oil giant Aramc...  \nAug 21, 2023  A prolonged stoppage is the least likely scena...  \nAug 21, 2023  China is expanding its presence in the global ...  \nAug 21, 2023  Alberta, Canada’s oil heartland, this month in...  \nAug 21, 2023  Amid ongoing political instability caused by r...  \nAug 18, 2023  The United Commerce Department will finalize a...  \nAug 18, 2023  Adani Transmission, a subsidiary of Indian con...  \nAug 18, 2023  The pre-winter seasonal rally of LNG tanker ch...  \nAug 18, 2023  CNOOC Ltd, China’s state-held oil and gas gian...  \nAug 18, 2023  The market for sour crude in Asia is tightenin...  \nAug 18, 2023  In the decade to 2020, Nigeria lost to oil the...  \nAug 18, 2023  Forecasters are revising their diesel demand o...  \nAug 18, 2023  Workers at the two LNG projects that Chevron o...  \nAug 17, 2023  Texans have been asked to voluntarily cut back...  \nAug 17, 2023  The U.S. government is scrutinizing Chinese el...  \nAug 17, 2023  The United States has imposed sanctions on Leb...  \nAug 17, 2023  Citigroup is advising traders to short oil and...  \nAug 17, 2023  The Brazilian government is considering an emi...  \nAug 17, 2023  Governments’ collective target to have offshor...  \nAug 17, 2023  China needs to exercise extreme discretion and...  \nAug 17, 2023  The mission to get the UK’s fleet of trucks to...  \nAug 17, 2023  Chinese refiners likely tapped their crude sto...  \nAug 17, 2023  Norwegian oil and gas operator DNO ASA said on...  \nAug 17, 2023  ADNOC Gas, the natural gas arm of Abu Dhabi’s ...  \nAug 17, 2023  67 new oil and gas projects worth some $15 bil...  \nAug 17, 2023  Quebecers would need to drive a lot less if th...  \nAug 17, 2023  The discount of Russian oil exported to India ...  \nAug 16, 2023  India’s federal government has agreed to chip ...  \nAug 16, 2023  French energy group TotalEnergies (NYSE:TTE) h...  \nAug 16, 2023  U.S. gasoline prices have surged to their high...  \nAug 16, 2023  Natural gas pipeline operator Energy Transfer ...  \nAug 16, 2023  Over the past week, portfolio managers have bo...  \nAug 16, 2023  There isn’t a discrepancy in Brazil’s efforts ...  \nAug 16, 2023  Tesla shares are slumping nearly 2% in pre-mar...  \nAug 16, 2023  Due to disagreements over policy, the cost of ...  \nAug 16, 2023  Germany expects natural gas prices to remain h...  \nAug 16, 2023  Talks between workers and LNG producers in Aus...  \nAug 16, 2023  The deadliest fighting in Libya so far this ye...  \nAug 15, 2023  Crude oil inventories in the United States saw...  \nAug 15, 2023  The average U.S. shale output per well may hav...  \nAug 15, 2023  The United States exported record-high volumes...  \nAug 15, 2023  Russia’s Finance Ministry has set its oil expo...  \nAug 15, 2023  The oil and gas-rich province of Alberta will ...  \nAug 15, 2023  Libya saw overnight its worst clashes in the c...  \nAug 15, 2023  Turns out that driverless robotaxis still may ...  \nAug 15, 2023  APA Corp, which has made several oil discoveri...  \nAug 15, 2023  Two people died and seven others were injured ...  \nAug 15, 2023  Australia will launch a review into whether to...  \nAug 15, 2023  Suncor Energy has become the latest oil major ...  \nAug 15, 2023  For the second month in a row, the Energy Info...  \nAug 14, 2023  Abu Dhabi National Oil Co (ADNOC) has signaled...  \nAug 14, 2023  A summer of record-breaking heat has dramatica...  \nAug 14, 2023  Crude exports by South Sudan have climbed to t...  \nAug 14, 2023  Nigerian crude oil exports from the Forcados e...  \nAug 14, 2023  Via Metal Miner\\r\\nMultinational commodity tra...  \nAug 14, 2023  United States Steel Corporation, one of the mo...  ",
      "text/html": "<div>\n<style scoped>\n    .dataframe tbody tr th:only-of-type {\n        vertical-align: middle;\n    }\n\n    .dataframe tbody tr th {\n        vertical-align: top;\n    }\n\n    .dataframe thead th {\n        text-align: right;\n    }\n</style>\n<table border=\"1\" class=\"dataframe\">\n  <thead>\n    <tr style=\"text-align: right;\">\n      <th></th>\n      <th>title</th>\n      <th>writer</th>\n      <th>excerpt</th>\n    </tr>\n  </thead>\n  <tbody>\n    <tr>\n      <th>Aug 21, 2023</th>\n      <td>Kinder Morgan Unit Declares Force Majeure At T...</td>\n      <td>Charles Kennedy</td>\n      <td>Tennessee Gas Pipeline, a unit of pipeline gia...</td>\n    </tr>\n    <tr>\n      <th>Aug 21, 2023</th>\n      <td>Latest U.S. Upstream Merger To Create $14-Bill...</td>\n      <td>Charles Kennedy</td>\n      <td>Permian Resources has signed a deal to buy Ear...</td>\n    </tr>\n    <tr>\n      <th>Aug 21, 2023</th>\n      <td>U.S. Oil Firm Apache Plans To Invest $1.4 Bill...</td>\n      <td>Charles Kennedy</td>\n      <td>Apache Corporation plans to invest next year $...</td>\n    </tr>\n    <tr>\n      <th>Aug 21, 2023</th>\n      <td>North Carolina Excluded From Offshore Wind Lea...</td>\n      <td>Tsvetana Paraskova</td>\n      <td>The Biden Administration has not included area...</td>\n    </tr>\n    <tr>\n      <th>Aug 21, 2023</th>\n      <td>Saudi Arabia Secures Financing For $2.4 Billio...</td>\n      <td>Tsvetana Paraskova</td>\n      <td>Several Saudi firms, including oil giant Aramc...</td>\n    </tr>\n    <tr>\n      <th>Aug 21, 2023</th>\n      <td>The Impact Of Looming Strikes At Australian LN...</td>\n      <td>Tsvetana Paraskova</td>\n      <td>A prolonged stoppage is the least likely scena...</td>\n    </tr>\n    <tr>\n      <th>Aug 21, 2023</th>\n      <td>China Emerges As A Global LNG Trading Power</td>\n      <td>Charles Kennedy</td>\n      <td>China is expanding its presence in the global ...</td>\n    </tr>\n    <tr>\n      <th>Aug 21, 2023</th>\n      <td>Alberta Halts New Wind And Solar Projects As R...</td>\n      <td>Irina Slav</td>\n      <td>Alberta, Canada’s oil heartland, this month in...</td>\n    </tr>\n    <tr>\n      <th>Aug 21, 2023</th>\n      <td>Libya Unifies Central Bank After Nearly A Deca...</td>\n      <td>Charles Kennedy</td>\n      <td>Amid ongoing political instability caused by r...</td>\n    </tr>\n    <tr>\n      <th>Aug 18, 2023</th>\n      <td>Big Solar Slapped With Tariffs For Dodging Chi...</td>\n      <td>Alex Kimani</td>\n      <td>The United Commerce Department will finalize a...</td>\n    </tr>\n    <tr>\n      <th>Aug 18, 2023</th>\n      <td>Adani Clears Air On Rumored $2.5 Billion Deal ...</td>\n      <td>Alex Kimani</td>\n      <td>Adani Transmission, a subsidiary of Indian con...</td>\n    </tr>\n    <tr>\n      <th>Aug 18, 2023</th>\n      <td>LNG Tanker Prices Soar Earlier Than Usual Ahea...</td>\n      <td>Charles Kennedy</td>\n      <td>The pre-winter seasonal rally of LNG tanker ch...</td>\n    </tr>\n    <tr>\n      <th>Aug 18, 2023</th>\n      <td>China’s Oil Giant CNOOC Sees Profits Drop 11% ...</td>\n      <td>Tsvetana Paraskova</td>\n      <td>CNOOC Ltd, China’s state-held oil and gas gian...</td>\n    </tr>\n    <tr>\n      <th>Aug 18, 2023</th>\n      <td>Sour Crude Market Tightens Further As Kuwait’s...</td>\n      <td>Tsvetana Paraskova</td>\n      <td>The market for sour crude in Asia is tightenin...</td>\n    </tr>\n    <tr>\n      <th>Aug 18, 2023</th>\n      <td>Nigeria Has Lost $46 Billion Worth Of Crude Oi...</td>\n      <td>Tsvetana Paraskova</td>\n      <td>In the decade to 2020, Nigeria lost to oil the...</td>\n    </tr>\n    <tr>\n      <th>Aug 18, 2023</th>\n      <td>Diesel Demand Outlook Darkens On China Slowdown</td>\n      <td>Charles Kennedy</td>\n      <td>Forecasters are revising their diesel demand o...</td>\n    </tr>\n    <tr>\n      <th>Aug 18, 2023</th>\n      <td>Chevron LNG Workers To Vote On Strike Action</td>\n      <td>Irina Slav</td>\n      <td>Workers at the two LNG projects that Chevron o...</td>\n    </tr>\n    <tr>\n      <th>Aug 17, 2023</th>\n      <td>ERCOT Asks Texans to Conserve Energy Again As ...</td>\n      <td>Julianne Geiger</td>\n      <td>Texans have been asked to voluntarily cut back...</td>\n    </tr>\n    <tr>\n      <th>Aug 17, 2023</th>\n      <td>Chinese EV Battery Imports Under Scrutiny Over...</td>\n      <td>Alex Kimani</td>\n      <td>The U.S. government is scrutinizing Chinese el...</td>\n    </tr>\n    <tr>\n      <th>Aug 17, 2023</th>\n      <td>U.S. Sanctions Lebanese Environmental Activist...</td>\n      <td>Alex Kimani</td>\n      <td>The United States has imposed sanctions on Leb...</td>\n    </tr>\n    <tr>\n      <th>Aug 17, 2023</th>\n      <td>Citigroup Says To Short Oil After Summer Is Over</td>\n      <td>Julianne Geiger</td>\n      <td>Citigroup is advising traders to short oil and...</td>\n    </tr>\n    <tr>\n      <th>Aug 17, 2023</th>\n      <td>Brazil Looks To Introduce Emissions Cap</td>\n      <td>Charles Kennedy</td>\n      <td>The Brazilian government is considering an emi...</td>\n    </tr>\n    <tr>\n      <th>Aug 17, 2023</th>\n      <td>WoodMac: Fivefold Annual Jump In Global Offsho...</td>\n      <td>Charles Kennedy</td>\n      <td>Governments’ collective target to have offshor...</td>\n    </tr>\n    <tr>\n      <th>Aug 17, 2023</th>\n      <td>China Seeks More Secrecy In Its Energy Sector ...</td>\n      <td>Tsvetana Paraskova</td>\n      <td>China needs to exercise extreme discretion and...</td>\n    </tr>\n    <tr>\n      <th>Aug 17, 2023</th>\n      <td>UK's Truck Fleet Faces Pressure To Go Green</td>\n      <td>City A.M</td>\n      <td>The mission to get the UK’s fleet of trucks to...</td>\n    </tr>\n    <tr>\n      <th>Aug 17, 2023</th>\n      <td>China Likely Tapped Its Crude Inventories In July</td>\n      <td>Charles Kennedy</td>\n      <td>Chinese refiners likely tapped their crude sto...</td>\n    </tr>\n    <tr>\n      <th>Aug 17, 2023</th>\n      <td>Kurdistan Oilfield Restarted Despite Ongoing E...</td>\n      <td>Tsvetana Paraskova</td>\n      <td>Norwegian oil and gas operator DNO ASA said on...</td>\n    </tr>\n    <tr>\n      <th>Aug 17, 2023</th>\n      <td>ADNOC Gas Signs LNG Deal With Japanese Energy ...</td>\n      <td>Tsvetana Paraskova</td>\n      <td>ADNOC Gas, the natural gas arm of Abu Dhabi’s ...</td>\n    </tr>\n    <tr>\n      <th>Aug 17, 2023</th>\n      <td>Iran To Bring 67 New Oil And Gas Projects Onli...</td>\n      <td>Charles Kennedy</td>\n      <td>67 new oil and gas projects worth some $15 bil...</td>\n    </tr>\n    <tr>\n      <th>Aug 17, 2023</th>\n      <td>Quebec Energy Minister Wants Fewer Cars On The...</td>\n      <td>Irina Slav</td>\n      <td>Quebecers would need to drive a lot less if th...</td>\n    </tr>\n    <tr>\n      <th>Aug 17, 2023</th>\n      <td>Russian Crude Oil Discount For India Shrinks</td>\n      <td>Irina Slav</td>\n      <td>The discount of Russian oil exported to India ...</td>\n    </tr>\n    <tr>\n      <th>Aug 16, 2023</th>\n      <td>India Approves $7B Electric City Bus Scheme</td>\n      <td>Julianne Geiger</td>\n      <td>India’s federal government has agreed to chip ...</td>\n    </tr>\n    <tr>\n      <th>Aug 16, 2023</th>\n      <td>Amid Energy Crisis, Lebanon Sees First DrillSh...</td>\n      <td>Alex Kimani</td>\n      <td>French energy group TotalEnergies (NYSE:TTE) h...</td>\n    </tr>\n    <tr>\n      <th>Aug 16, 2023</th>\n      <td>U.S. Gas Prices Hit Year High As Market Tightens</td>\n      <td>Alex Kimani</td>\n      <td>U.S. gasoline prices have surged to their high...</td>\n    </tr>\n    <tr>\n      <th>Aug 16, 2023</th>\n      <td>Energy Transfer LP To Acquire Crestwood Equity...</td>\n      <td>Alex Kimani</td>\n      <td>Natural gas pipeline operator Energy Transfer ...</td>\n    </tr>\n    <tr>\n      <th>Aug 16, 2023</th>\n      <td>Investors Boost Bullish Bets On European Natur...</td>\n      <td>Charles Kennedy</td>\n      <td>Over the past week, portfolio managers have bo...</td>\n    </tr>\n    <tr>\n      <th>Aug 16, 2023</th>\n      <td>Lula Aide Signals It’s Okay For Petrobras To P...</td>\n      <td>Charles Kennedy</td>\n      <td>There isn’t a discrepancy in Brazil’s efforts ...</td>\n    </tr>\n    <tr>\n      <th>Aug 16, 2023</th>\n      <td>Tesla Reignites Price War With More Cuts In China</td>\n      <td>ZeroHedge</td>\n      <td>Tesla shares are slumping nearly 2% in pre-mar...</td>\n    </tr>\n    <tr>\n      <th>Aug 16, 2023</th>\n      <td>Indonesia Delays $20 Billion Climate Plan</td>\n      <td>Tsvetana Paraskova</td>\n      <td>Due to disagreements over policy, the cost of ...</td>\n    </tr>\n    <tr>\n      <th>Aug 16, 2023</th>\n      <td>Germany Sees Natural Gas Prices Remaining High...</td>\n      <td>Tsvetana Paraskova</td>\n      <td>Germany expects natural gas prices to remain h...</td>\n    </tr>\n    <tr>\n      <th>Aug 16, 2023</th>\n      <td>Woodside Energy Reports Positive Progress In L...</td>\n      <td>Irina Slav</td>\n      <td>Talks between workers and LNG producers in Aus...</td>\n    </tr>\n    <tr>\n      <th>Aug 16, 2023</th>\n      <td>Libyan Fighting Stops After Prisoner Release</td>\n      <td>Charles Kennedy</td>\n      <td>The deadliest fighting in Libya so far this ye...</td>\n    </tr>\n    <tr>\n      <th>Aug 15, 2023</th>\n      <td>Oil Steady Despite Large Crude Draw</td>\n      <td>Julianne Geiger</td>\n      <td>Crude oil inventories in the United States saw...</td>\n    </tr>\n    <tr>\n      <th>Aug 15, 2023</th>\n      <td>U.S. Shale Oil Production Growth Getting Incre...</td>\n      <td>Julianne Geiger</td>\n      <td>The average U.S. shale output per well may hav...</td>\n    </tr>\n    <tr>\n      <th>Aug 15, 2023</th>\n      <td>U.S. Pipeline Gas Exports To Mexico Hit A Reco...</td>\n      <td>Tom Kool</td>\n      <td>The United States exported record-high volumes...</td>\n    </tr>\n    <tr>\n      <th>Aug 15, 2023</th>\n      <td>Russia To Raise Oil Export Duty To Highest Thi...</td>\n      <td>Julianne Geiger</td>\n      <td>Russia’s Finance Ministry has set its oil expo...</td>\n    </tr>\n    <tr>\n      <th>Aug 15, 2023</th>\n      <td>Premier Claims Alberta Will Never Comply With ...</td>\n      <td>Charles Kennedy</td>\n      <td>The oil and gas-rich province of Alberta will ...</td>\n    </tr>\n    <tr>\n      <th>Aug 15, 2023</th>\n      <td>Libya’s Oil Output Threatened As Intense Fight...</td>\n      <td>Tsvetana Paraskova</td>\n      <td>Libya saw overnight its worst clashes in the c...</td>\n    </tr>\n    <tr>\n      <th>Aug 15, 2023</th>\n      <td>Robotaxis Clog Streets Of San Francisco In Maj...</td>\n      <td>ZeroHedge</td>\n      <td>Turns out that driverless robotaxis still may ...</td>\n    </tr>\n    <tr>\n      <th>Aug 15, 2023</th>\n      <td>APA In Talks About Floating LNG Site Offshore ...</td>\n      <td>Tsvetana Paraskova</td>\n      <td>APA Corp, which has made several oil discoveri...</td>\n    </tr>\n    <tr>\n      <th>Aug 15, 2023</th>\n      <td>Deadly Explosions Rock Russian Oilfield</td>\n      <td>Tsvetana Paraskova</td>\n      <td>Two people died and seven others were injured ...</td>\n    </tr>\n    <tr>\n      <th>Aug 15, 2023</th>\n      <td>Australia To Consider Tariffs On Carbon-Intens...</td>\n      <td>Tsvetana Paraskova</td>\n      <td>Australia will launch a review into whether to...</td>\n    </tr>\n    <tr>\n      <th>Aug 15, 2023</th>\n      <td>Suncor Energy Reports A Substantial Decline In...</td>\n      <td>Charles Kennedy</td>\n      <td>Suncor Energy has become the latest oil major ...</td>\n    </tr>\n    <tr>\n      <th>Aug 15, 2023</th>\n      <td>EIA Sees Lower Shale Oil Production In September</td>\n      <td>Irina Slav</td>\n      <td>For the second month in a row, the Energy Info...</td>\n    </tr>\n    <tr>\n      <th>Aug 14, 2023</th>\n      <td>ADNOC Could Raise Covestro Bid To $12.6 Billion</td>\n      <td>Alex Kimani</td>\n      <td>Abu Dhabi National Oil Co (ADNOC) has signaled...</td>\n    </tr>\n    <tr>\n      <th>Aug 14, 2023</th>\n      <td>Americans Struggling To Pay Skyrocketing Energ...</td>\n      <td>Alex Kimani</td>\n      <td>A summer of record-breaking heat has dramatica...</td>\n    </tr>\n    <tr>\n      <th>Aug 14, 2023</th>\n      <td>Sudan Oil Exports Rising Despite Conflict</td>\n      <td>Alex Kimani</td>\n      <td>Crude exports by South Sudan have climbed to t...</td>\n    </tr>\n    <tr>\n      <th>Aug 14, 2023</th>\n      <td>Nigeria’s Forcados Crude Resumes Loadings Afte...</td>\n      <td>Charles Kennedy</td>\n      <td>Nigerian crude oil exports from the Forcados e...</td>\n    </tr>\n    <tr>\n      <th>Aug 14, 2023</th>\n      <td>Glencore Gains Majority Stake In Argentina's P...</td>\n      <td>Metal Miner</td>\n      <td>Via Metal Miner\\r\\nMultinational commodity tra...</td>\n    </tr>\n    <tr>\n      <th>Aug 14, 2023</th>\n      <td>U.S. Steel Stock Skyrockets After Declining Ma...</td>\n      <td>City A.M</td>\n      <td>United States Steel Corporation, one of the mo...</td>\n    </tr>\n  </tbody>\n</table>\n</div>"
     },
     "execution_count": 12,
     "metadata": {},
     "output_type": "execute_result"
    }
   ],
   "source": [
    "news = pd.DataFrame([news_titles, news_writer, news_excerpt], \n",
    "                    columns = news_date, \n",
    "                    index = ['title','writer','excerpt']).T\n",
    "news"
   ],
   "metadata": {
    "collapsed": false,
    "ExecuteTime": {
     "end_time": "2023-10-14T06:41:56.147117Z",
     "start_time": "2023-10-14T06:41:56.143198Z"
    }
   },
   "id": "9517f2a21d3373f1"
  },
  {
   "cell_type": "markdown",
   "source": [
    "select the data during 2023.08.15 - 2023.08.18"
   ],
   "metadata": {
    "collapsed": false
   },
   "id": "3e30a02d9eab75df"
  },
  {
   "cell_type": "code",
   "execution_count": 13,
   "outputs": [
    {
     "data": {
      "text/plain": "                                                          title  \\\nAug 15, 2023                Oil Steady Despite Large Crude Draw   \nAug 15, 2023  U.S. Shale Oil Production Growth Getting Incre...   \nAug 15, 2023  U.S. Pipeline Gas Exports To Mexico Hit A Reco...   \nAug 15, 2023  Russia To Raise Oil Export Duty To Highest Thi...   \nAug 15, 2023  Premier Claims Alberta Will Never Comply With ...   \nAug 15, 2023  Libya’s Oil Output Threatened As Intense Fight...   \nAug 15, 2023  Robotaxis Clog Streets Of San Francisco In Maj...   \nAug 15, 2023  APA In Talks About Floating LNG Site Offshore ...   \nAug 15, 2023            Deadly Explosions Rock Russian Oilfield   \nAug 15, 2023  Australia To Consider Tariffs On Carbon-Intens...   \nAug 15, 2023  Suncor Energy Reports A Substantial Decline In...   \nAug 15, 2023   EIA Sees Lower Shale Oil Production In September   \nAug 16, 2023        India Approves $7B Electric City Bus Scheme   \nAug 16, 2023  Amid Energy Crisis, Lebanon Sees First DrillSh...   \nAug 16, 2023   U.S. Gas Prices Hit Year High As Market Tightens   \nAug 16, 2023  Energy Transfer LP To Acquire Crestwood Equity...   \nAug 16, 2023  Investors Boost Bullish Bets On European Natur...   \nAug 16, 2023  Lula Aide Signals It’s Okay For Petrobras To P...   \nAug 16, 2023  Tesla Reignites Price War With More Cuts In China   \nAug 16, 2023          Indonesia Delays $20 Billion Climate Plan   \nAug 16, 2023  Germany Sees Natural Gas Prices Remaining High...   \nAug 16, 2023  Woodside Energy Reports Positive Progress In L...   \nAug 16, 2023       Libyan Fighting Stops After Prisoner Release   \nAug 17, 2023  ERCOT Asks Texans to Conserve Energy Again As ...   \nAug 17, 2023  Chinese EV Battery Imports Under Scrutiny Over...   \nAug 17, 2023  U.S. Sanctions Lebanese Environmental Activist...   \nAug 17, 2023   Citigroup Says To Short Oil After Summer Is Over   \nAug 17, 2023            Brazil Looks To Introduce Emissions Cap   \nAug 17, 2023  WoodMac: Fivefold Annual Jump In Global Offsho...   \nAug 17, 2023  China Seeks More Secrecy In Its Energy Sector ...   \nAug 17, 2023        UK's Truck Fleet Faces Pressure To Go Green   \nAug 17, 2023  China Likely Tapped Its Crude Inventories In July   \nAug 17, 2023  Kurdistan Oilfield Restarted Despite Ongoing E...   \nAug 17, 2023  ADNOC Gas Signs LNG Deal With Japanese Energy ...   \nAug 17, 2023  Iran To Bring 67 New Oil And Gas Projects Onli...   \nAug 17, 2023  Quebec Energy Minister Wants Fewer Cars On The...   \nAug 17, 2023       Russian Crude Oil Discount For India Shrinks   \nAug 18, 2023  Big Solar Slapped With Tariffs For Dodging Chi...   \nAug 18, 2023  Adani Clears Air On Rumored $2.5 Billion Deal ...   \nAug 18, 2023  LNG Tanker Prices Soar Earlier Than Usual Ahea...   \nAug 18, 2023  China’s Oil Giant CNOOC Sees Profits Drop 11% ...   \nAug 18, 2023  Sour Crude Market Tightens Further As Kuwait’s...   \nAug 18, 2023  Nigeria Has Lost $46 Billion Worth Of Crude Oi...   \nAug 18, 2023    Diesel Demand Outlook Darkens On China Slowdown   \nAug 18, 2023       Chevron LNG Workers To Vote On Strike Action   \n\n                          writer  \\\nAug 15, 2023     Julianne Geiger   \nAug 15, 2023     Julianne Geiger   \nAug 15, 2023            Tom Kool   \nAug 15, 2023     Julianne Geiger   \nAug 15, 2023     Charles Kennedy   \nAug 15, 2023  Tsvetana Paraskova   \nAug 15, 2023           ZeroHedge   \nAug 15, 2023  Tsvetana Paraskova   \nAug 15, 2023  Tsvetana Paraskova   \nAug 15, 2023  Tsvetana Paraskova   \nAug 15, 2023     Charles Kennedy   \nAug 15, 2023          Irina Slav   \nAug 16, 2023     Julianne Geiger   \nAug 16, 2023         Alex Kimani   \nAug 16, 2023         Alex Kimani   \nAug 16, 2023         Alex Kimani   \nAug 16, 2023     Charles Kennedy   \nAug 16, 2023     Charles Kennedy   \nAug 16, 2023           ZeroHedge   \nAug 16, 2023  Tsvetana Paraskova   \nAug 16, 2023  Tsvetana Paraskova   \nAug 16, 2023          Irina Slav   \nAug 16, 2023     Charles Kennedy   \nAug 17, 2023     Julianne Geiger   \nAug 17, 2023         Alex Kimani   \nAug 17, 2023         Alex Kimani   \nAug 17, 2023     Julianne Geiger   \nAug 17, 2023     Charles Kennedy   \nAug 17, 2023     Charles Kennedy   \nAug 17, 2023  Tsvetana Paraskova   \nAug 17, 2023            City A.M   \nAug 17, 2023     Charles Kennedy   \nAug 17, 2023  Tsvetana Paraskova   \nAug 17, 2023  Tsvetana Paraskova   \nAug 17, 2023     Charles Kennedy   \nAug 17, 2023          Irina Slav   \nAug 17, 2023          Irina Slav   \nAug 18, 2023         Alex Kimani   \nAug 18, 2023         Alex Kimani   \nAug 18, 2023     Charles Kennedy   \nAug 18, 2023  Tsvetana Paraskova   \nAug 18, 2023  Tsvetana Paraskova   \nAug 18, 2023  Tsvetana Paraskova   \nAug 18, 2023     Charles Kennedy   \nAug 18, 2023          Irina Slav   \n\n                                                        excerpt  \nAug 15, 2023  Crude oil inventories in the United States saw...  \nAug 15, 2023  The average U.S. shale output per well may hav...  \nAug 15, 2023  The United States exported record-high volumes...  \nAug 15, 2023  Russia’s Finance Ministry has set its oil expo...  \nAug 15, 2023  The oil and gas-rich province of Alberta will ...  \nAug 15, 2023  Libya saw overnight its worst clashes in the c...  \nAug 15, 2023  Turns out that driverless robotaxis still may ...  \nAug 15, 2023  APA Corp, which has made several oil discoveri...  \nAug 15, 2023  Two people died and seven others were injured ...  \nAug 15, 2023  Australia will launch a review into whether to...  \nAug 15, 2023  Suncor Energy has become the latest oil major ...  \nAug 15, 2023  For the second month in a row, the Energy Info...  \nAug 16, 2023  India’s federal government has agreed to chip ...  \nAug 16, 2023  French energy group TotalEnergies (NYSE:TTE) h...  \nAug 16, 2023  U.S. gasoline prices have surged to their high...  \nAug 16, 2023  Natural gas pipeline operator Energy Transfer ...  \nAug 16, 2023  Over the past week, portfolio managers have bo...  \nAug 16, 2023  There isn’t a discrepancy in Brazil’s efforts ...  \nAug 16, 2023  Tesla shares are slumping nearly 2% in pre-mar...  \nAug 16, 2023  Due to disagreements over policy, the cost of ...  \nAug 16, 2023  Germany expects natural gas prices to remain h...  \nAug 16, 2023  Talks between workers and LNG producers in Aus...  \nAug 16, 2023  The deadliest fighting in Libya so far this ye...  \nAug 17, 2023  Texans have been asked to voluntarily cut back...  \nAug 17, 2023  The U.S. government is scrutinizing Chinese el...  \nAug 17, 2023  The United States has imposed sanctions on Leb...  \nAug 17, 2023  Citigroup is advising traders to short oil and...  \nAug 17, 2023  The Brazilian government is considering an emi...  \nAug 17, 2023  Governments’ collective target to have offshor...  \nAug 17, 2023  China needs to exercise extreme discretion and...  \nAug 17, 2023  The mission to get the UK’s fleet of trucks to...  \nAug 17, 2023  Chinese refiners likely tapped their crude sto...  \nAug 17, 2023  Norwegian oil and gas operator DNO ASA said on...  \nAug 17, 2023  ADNOC Gas, the natural gas arm of Abu Dhabi’s ...  \nAug 17, 2023  67 new oil and gas projects worth some $15 bil...  \nAug 17, 2023  Quebecers would need to drive a lot less if th...  \nAug 17, 2023  The discount of Russian oil exported to India ...  \nAug 18, 2023  The United Commerce Department will finalize a...  \nAug 18, 2023  Adani Transmission, a subsidiary of Indian con...  \nAug 18, 2023  The pre-winter seasonal rally of LNG tanker ch...  \nAug 18, 2023  CNOOC Ltd, China’s state-held oil and gas gian...  \nAug 18, 2023  The market for sour crude in Asia is tightenin...  \nAug 18, 2023  In the decade to 2020, Nigeria lost to oil the...  \nAug 18, 2023  Forecasters are revising their diesel demand o...  \nAug 18, 2023  Workers at the two LNG projects that Chevron o...  ",
      "text/html": "<div>\n<style scoped>\n    .dataframe tbody tr th:only-of-type {\n        vertical-align: middle;\n    }\n\n    .dataframe tbody tr th {\n        vertical-align: top;\n    }\n\n    .dataframe thead th {\n        text-align: right;\n    }\n</style>\n<table border=\"1\" class=\"dataframe\">\n  <thead>\n    <tr style=\"text-align: right;\">\n      <th></th>\n      <th>title</th>\n      <th>writer</th>\n      <th>excerpt</th>\n    </tr>\n  </thead>\n  <tbody>\n    <tr>\n      <th>Aug 15, 2023</th>\n      <td>Oil Steady Despite Large Crude Draw</td>\n      <td>Julianne Geiger</td>\n      <td>Crude oil inventories in the United States saw...</td>\n    </tr>\n    <tr>\n      <th>Aug 15, 2023</th>\n      <td>U.S. Shale Oil Production Growth Getting Incre...</td>\n      <td>Julianne Geiger</td>\n      <td>The average U.S. shale output per well may hav...</td>\n    </tr>\n    <tr>\n      <th>Aug 15, 2023</th>\n      <td>U.S. Pipeline Gas Exports To Mexico Hit A Reco...</td>\n      <td>Tom Kool</td>\n      <td>The United States exported record-high volumes...</td>\n    </tr>\n    <tr>\n      <th>Aug 15, 2023</th>\n      <td>Russia To Raise Oil Export Duty To Highest Thi...</td>\n      <td>Julianne Geiger</td>\n      <td>Russia’s Finance Ministry has set its oil expo...</td>\n    </tr>\n    <tr>\n      <th>Aug 15, 2023</th>\n      <td>Premier Claims Alberta Will Never Comply With ...</td>\n      <td>Charles Kennedy</td>\n      <td>The oil and gas-rich province of Alberta will ...</td>\n    </tr>\n    <tr>\n      <th>Aug 15, 2023</th>\n      <td>Libya’s Oil Output Threatened As Intense Fight...</td>\n      <td>Tsvetana Paraskova</td>\n      <td>Libya saw overnight its worst clashes in the c...</td>\n    </tr>\n    <tr>\n      <th>Aug 15, 2023</th>\n      <td>Robotaxis Clog Streets Of San Francisco In Maj...</td>\n      <td>ZeroHedge</td>\n      <td>Turns out that driverless robotaxis still may ...</td>\n    </tr>\n    <tr>\n      <th>Aug 15, 2023</th>\n      <td>APA In Talks About Floating LNG Site Offshore ...</td>\n      <td>Tsvetana Paraskova</td>\n      <td>APA Corp, which has made several oil discoveri...</td>\n    </tr>\n    <tr>\n      <th>Aug 15, 2023</th>\n      <td>Deadly Explosions Rock Russian Oilfield</td>\n      <td>Tsvetana Paraskova</td>\n      <td>Two people died and seven others were injured ...</td>\n    </tr>\n    <tr>\n      <th>Aug 15, 2023</th>\n      <td>Australia To Consider Tariffs On Carbon-Intens...</td>\n      <td>Tsvetana Paraskova</td>\n      <td>Australia will launch a review into whether to...</td>\n    </tr>\n    <tr>\n      <th>Aug 15, 2023</th>\n      <td>Suncor Energy Reports A Substantial Decline In...</td>\n      <td>Charles Kennedy</td>\n      <td>Suncor Energy has become the latest oil major ...</td>\n    </tr>\n    <tr>\n      <th>Aug 15, 2023</th>\n      <td>EIA Sees Lower Shale Oil Production In September</td>\n      <td>Irina Slav</td>\n      <td>For the second month in a row, the Energy Info...</td>\n    </tr>\n    <tr>\n      <th>Aug 16, 2023</th>\n      <td>India Approves $7B Electric City Bus Scheme</td>\n      <td>Julianne Geiger</td>\n      <td>India’s federal government has agreed to chip ...</td>\n    </tr>\n    <tr>\n      <th>Aug 16, 2023</th>\n      <td>Amid Energy Crisis, Lebanon Sees First DrillSh...</td>\n      <td>Alex Kimani</td>\n      <td>French energy group TotalEnergies (NYSE:TTE) h...</td>\n    </tr>\n    <tr>\n      <th>Aug 16, 2023</th>\n      <td>U.S. Gas Prices Hit Year High As Market Tightens</td>\n      <td>Alex Kimani</td>\n      <td>U.S. gasoline prices have surged to their high...</td>\n    </tr>\n    <tr>\n      <th>Aug 16, 2023</th>\n      <td>Energy Transfer LP To Acquire Crestwood Equity...</td>\n      <td>Alex Kimani</td>\n      <td>Natural gas pipeline operator Energy Transfer ...</td>\n    </tr>\n    <tr>\n      <th>Aug 16, 2023</th>\n      <td>Investors Boost Bullish Bets On European Natur...</td>\n      <td>Charles Kennedy</td>\n      <td>Over the past week, portfolio managers have bo...</td>\n    </tr>\n    <tr>\n      <th>Aug 16, 2023</th>\n      <td>Lula Aide Signals It’s Okay For Petrobras To P...</td>\n      <td>Charles Kennedy</td>\n      <td>There isn’t a discrepancy in Brazil’s efforts ...</td>\n    </tr>\n    <tr>\n      <th>Aug 16, 2023</th>\n      <td>Tesla Reignites Price War With More Cuts In China</td>\n      <td>ZeroHedge</td>\n      <td>Tesla shares are slumping nearly 2% in pre-mar...</td>\n    </tr>\n    <tr>\n      <th>Aug 16, 2023</th>\n      <td>Indonesia Delays $20 Billion Climate Plan</td>\n      <td>Tsvetana Paraskova</td>\n      <td>Due to disagreements over policy, the cost of ...</td>\n    </tr>\n    <tr>\n      <th>Aug 16, 2023</th>\n      <td>Germany Sees Natural Gas Prices Remaining High...</td>\n      <td>Tsvetana Paraskova</td>\n      <td>Germany expects natural gas prices to remain h...</td>\n    </tr>\n    <tr>\n      <th>Aug 16, 2023</th>\n      <td>Woodside Energy Reports Positive Progress In L...</td>\n      <td>Irina Slav</td>\n      <td>Talks between workers and LNG producers in Aus...</td>\n    </tr>\n    <tr>\n      <th>Aug 16, 2023</th>\n      <td>Libyan Fighting Stops After Prisoner Release</td>\n      <td>Charles Kennedy</td>\n      <td>The deadliest fighting in Libya so far this ye...</td>\n    </tr>\n    <tr>\n      <th>Aug 17, 2023</th>\n      <td>ERCOT Asks Texans to Conserve Energy Again As ...</td>\n      <td>Julianne Geiger</td>\n      <td>Texans have been asked to voluntarily cut back...</td>\n    </tr>\n    <tr>\n      <th>Aug 17, 2023</th>\n      <td>Chinese EV Battery Imports Under Scrutiny Over...</td>\n      <td>Alex Kimani</td>\n      <td>The U.S. government is scrutinizing Chinese el...</td>\n    </tr>\n    <tr>\n      <th>Aug 17, 2023</th>\n      <td>U.S. Sanctions Lebanese Environmental Activist...</td>\n      <td>Alex Kimani</td>\n      <td>The United States has imposed sanctions on Leb...</td>\n    </tr>\n    <tr>\n      <th>Aug 17, 2023</th>\n      <td>Citigroup Says To Short Oil After Summer Is Over</td>\n      <td>Julianne Geiger</td>\n      <td>Citigroup is advising traders to short oil and...</td>\n    </tr>\n    <tr>\n      <th>Aug 17, 2023</th>\n      <td>Brazil Looks To Introduce Emissions Cap</td>\n      <td>Charles Kennedy</td>\n      <td>The Brazilian government is considering an emi...</td>\n    </tr>\n    <tr>\n      <th>Aug 17, 2023</th>\n      <td>WoodMac: Fivefold Annual Jump In Global Offsho...</td>\n      <td>Charles Kennedy</td>\n      <td>Governments’ collective target to have offshor...</td>\n    </tr>\n    <tr>\n      <th>Aug 17, 2023</th>\n      <td>China Seeks More Secrecy In Its Energy Sector ...</td>\n      <td>Tsvetana Paraskova</td>\n      <td>China needs to exercise extreme discretion and...</td>\n    </tr>\n    <tr>\n      <th>Aug 17, 2023</th>\n      <td>UK's Truck Fleet Faces Pressure To Go Green</td>\n      <td>City A.M</td>\n      <td>The mission to get the UK’s fleet of trucks to...</td>\n    </tr>\n    <tr>\n      <th>Aug 17, 2023</th>\n      <td>China Likely Tapped Its Crude Inventories In July</td>\n      <td>Charles Kennedy</td>\n      <td>Chinese refiners likely tapped their crude sto...</td>\n    </tr>\n    <tr>\n      <th>Aug 17, 2023</th>\n      <td>Kurdistan Oilfield Restarted Despite Ongoing E...</td>\n      <td>Tsvetana Paraskova</td>\n      <td>Norwegian oil and gas operator DNO ASA said on...</td>\n    </tr>\n    <tr>\n      <th>Aug 17, 2023</th>\n      <td>ADNOC Gas Signs LNG Deal With Japanese Energy ...</td>\n      <td>Tsvetana Paraskova</td>\n      <td>ADNOC Gas, the natural gas arm of Abu Dhabi’s ...</td>\n    </tr>\n    <tr>\n      <th>Aug 17, 2023</th>\n      <td>Iran To Bring 67 New Oil And Gas Projects Onli...</td>\n      <td>Charles Kennedy</td>\n      <td>67 new oil and gas projects worth some $15 bil...</td>\n    </tr>\n    <tr>\n      <th>Aug 17, 2023</th>\n      <td>Quebec Energy Minister Wants Fewer Cars On The...</td>\n      <td>Irina Slav</td>\n      <td>Quebecers would need to drive a lot less if th...</td>\n    </tr>\n    <tr>\n      <th>Aug 17, 2023</th>\n      <td>Russian Crude Oil Discount For India Shrinks</td>\n      <td>Irina Slav</td>\n      <td>The discount of Russian oil exported to India ...</td>\n    </tr>\n    <tr>\n      <th>Aug 18, 2023</th>\n      <td>Big Solar Slapped With Tariffs For Dodging Chi...</td>\n      <td>Alex Kimani</td>\n      <td>The United Commerce Department will finalize a...</td>\n    </tr>\n    <tr>\n      <th>Aug 18, 2023</th>\n      <td>Adani Clears Air On Rumored $2.5 Billion Deal ...</td>\n      <td>Alex Kimani</td>\n      <td>Adani Transmission, a subsidiary of Indian con...</td>\n    </tr>\n    <tr>\n      <th>Aug 18, 2023</th>\n      <td>LNG Tanker Prices Soar Earlier Than Usual Ahea...</td>\n      <td>Charles Kennedy</td>\n      <td>The pre-winter seasonal rally of LNG tanker ch...</td>\n    </tr>\n    <tr>\n      <th>Aug 18, 2023</th>\n      <td>China’s Oil Giant CNOOC Sees Profits Drop 11% ...</td>\n      <td>Tsvetana Paraskova</td>\n      <td>CNOOC Ltd, China’s state-held oil and gas gian...</td>\n    </tr>\n    <tr>\n      <th>Aug 18, 2023</th>\n      <td>Sour Crude Market Tightens Further As Kuwait’s...</td>\n      <td>Tsvetana Paraskova</td>\n      <td>The market for sour crude in Asia is tightenin...</td>\n    </tr>\n    <tr>\n      <th>Aug 18, 2023</th>\n      <td>Nigeria Has Lost $46 Billion Worth Of Crude Oi...</td>\n      <td>Tsvetana Paraskova</td>\n      <td>In the decade to 2020, Nigeria lost to oil the...</td>\n    </tr>\n    <tr>\n      <th>Aug 18, 2023</th>\n      <td>Diesel Demand Outlook Darkens On China Slowdown</td>\n      <td>Charles Kennedy</td>\n      <td>Forecasters are revising their diesel demand o...</td>\n    </tr>\n    <tr>\n      <th>Aug 18, 2023</th>\n      <td>Chevron LNG Workers To Vote On Strike Action</td>\n      <td>Irina Slav</td>\n      <td>Workers at the two LNG projects that Chevron o...</td>\n    </tr>\n  </tbody>\n</table>\n</div>"
     },
     "execution_count": 13,
     "metadata": {},
     "output_type": "execute_result"
    }
   ],
   "source": [
    "news_clean = news.loc[['Aug 15, 2023', 'Aug 16, 2023', 'Aug 17, 2023', 'Aug 18, 2023']]\n",
    "news_clean"
   ],
   "metadata": {
    "collapsed": false,
    "ExecuteTime": {
     "end_time": "2023-10-14T06:41:56.153183Z",
     "start_time": "2023-10-14T06:41:56.145831Z"
    }
   },
   "id": "ca98e0ef274343b3"
  },
  {
   "cell_type": "markdown",
   "source": [
    "2.1 How many news articles were there for 4 days?"
   ],
   "metadata": {
    "collapsed": false
   },
   "id": "6d3757771051e317"
  },
  {
   "cell_type": "code",
   "execution_count": 14,
   "outputs": [
    {
     "name": "stdout",
     "output_type": "stream",
     "text": [
      "There has 45 articles for 4 days\n"
     ]
    }
   ],
   "source": [
    "print(f'There has {len(news_clean)} articles for 4 days')"
   ],
   "metadata": {
    "collapsed": false,
    "ExecuteTime": {
     "end_time": "2023-10-14T06:41:56.156070Z",
     "start_time": "2023-10-14T06:41:56.154390Z"
    }
   },
   "id": "5f24386f1ab419a5"
  },
  {
   "cell_type": "markdown",
   "source": [
    "2.2 List all news titles for 4 days"
   ],
   "metadata": {
    "collapsed": false
   },
   "id": "bd97b49521adfec9"
  },
  {
   "cell_type": "code",
   "execution_count": 15,
   "outputs": [
    {
     "data": {
      "text/plain": "array(['Oil Steady Despite Large Crude Draw',\n       'U.S. Shale Oil Production Growth Getting Increasingly Difficult: Report',\n       'U.S. Pipeline Gas Exports To Mexico Hit A Record-High',\n       'Russia To Raise Oil Export Duty To Highest This Year',\n       'Premier Claims Alberta Will Never Comply With Canada’s Clean Power Proposal',\n       'Libya’s Oil Output Threatened As Intense Fighting Breaks Out In Tripoli',\n       'Robotaxis Clog Streets Of San Francisco In Major Traffic Jam',\n       'APA In Talks About Floating LNG Site Offshore Guyana-Suriname',\n       'Deadly Explosions Rock Russian Oilfield',\n       'Australia To Consider Tariffs On Carbon-Intensive Imports',\n       'Suncor Energy Reports A Substantial Decline In Profits',\n       'EIA Sees Lower Shale Oil Production In September',\n       'India Approves $7B Electric City Bus Scheme',\n       'Amid Energy Crisis, Lebanon Sees First DrillShip Arrive For Oil Exploration',\n       'U.S. Gas Prices Hit Year High As Market Tightens',\n       'Energy Transfer LP To Acquire Crestwood Equity Partners In $7B Deal',\n       'Investors Boost Bullish Bets On European Natural Gas Prices',\n       'Lula Aide Signals It’s Okay For Petrobras To Pursue Amazon Drilling',\n       'Tesla Reignites Price War With More Cuts In China',\n       'Indonesia Delays $20 Billion Climate Plan',\n       'Germany Sees Natural Gas Prices Remaining High For Years',\n       'Woodside Energy Reports Positive Progress In LNG Strike Talks',\n       'Libyan Fighting Stops After Prisoner Release',\n       'ERCOT Asks Texans to Conserve Energy Again As Demand Tests Limits',\n       'Chinese EV Battery Imports Under Scrutiny Over Forced Labor',\n       'U.S. Sanctions Lebanese Environmental Activist Aiding Hezbollah',\n       'Citigroup Says To Short Oil After Summer Is Over',\n       'Brazil Looks To Introduce Emissions Cap',\n       'WoodMac: Fivefold Annual Jump In Global Offshore Wind Is “Unrealistic”',\n       'China Seeks More Secrecy In Its Energy Sector To Protect National Security',\n       \"UK's Truck Fleet Faces Pressure To Go Green\",\n       'China Likely Tapped Its Crude Inventories In July',\n       'Kurdistan Oilfield Restarted Despite Ongoing Export Halt',\n       'ADNOC Gas Signs LNG Deal With Japanese Energy Giant',\n       'Iran To Bring 67 New Oil And Gas Projects Online By March',\n       'Quebec Energy Minister Wants Fewer Cars On The Roads',\n       'Russian Crude Oil Discount For India Shrinks',\n       'Big Solar Slapped With Tariffs For Dodging China Duties',\n       'Adani Clears Air On Rumored $2.5 Billion Deal With Abu Dhabi’s TAQA',\n       'LNG Tanker Prices Soar Earlier Than Usual Ahead Of Winter',\n       'China’s Oil Giant CNOOC Sees Profits Drop 11% On Lower Prices',\n       'Sour Crude Market Tightens Further As Kuwait’s Exports Dip',\n       'Nigeria Has Lost $46 Billion Worth Of Crude Oil To Theft',\n       'Diesel Demand Outlook Darkens On China Slowdown',\n       'Chevron LNG Workers To Vote On Strike Action'], dtype=object)"
     },
     "execution_count": 15,
     "metadata": {},
     "output_type": "execute_result"
    }
   ],
   "source": [
    "news_clean['title'].values"
   ],
   "metadata": {
    "collapsed": false,
    "ExecuteTime": {
     "end_time": "2023-10-14T06:41:56.162460Z",
     "start_time": "2023-10-14T06:41:56.156715Z"
    }
   },
   "id": "f9588fad5f980f7e"
  },
  {
   "cell_type": "markdown",
   "source": [
    "2.3 Who is the most frequent news reporter for 4 days?"
   ],
   "metadata": {
    "collapsed": false
   },
   "id": "6e7ab41ae68d7b1b"
  },
  {
   "cell_type": "code",
   "execution_count": 16,
   "outputs": [],
   "source": [
    "most_freq_reporter = news_clean.groupby('writer')['writer'].value_counts().sort_values(ascending = False).iloc[:1]"
   ],
   "metadata": {
    "collapsed": false,
    "ExecuteTime": {
     "end_time": "2023-10-14T06:41:56.176521Z",
     "start_time": "2023-10-14T06:41:56.159218Z"
    }
   },
   "id": "7b88b124d8f09978"
  },
  {
   "cell_type": "code",
   "execution_count": 17,
   "outputs": [
    {
     "name": "stdout",
     "output_type": "stream",
     "text": [
      "The most frequent news reporter is ['Tsvetana Paraskova'] who wrotes [12] articles\n"
     ]
    }
   ],
   "source": [
    "print(f'The most frequent news reporter is {most_freq_reporter.index.values} who wrotes {most_freq_reporter.values} articles')"
   ],
   "metadata": {
    "collapsed": false,
    "ExecuteTime": {
     "end_time": "2023-10-14T06:41:56.177649Z",
     "start_time": "2023-10-14T06:41:56.162569Z"
    }
   },
   "id": "128bac0e594c9ac9"
  }
 ],
 "metadata": {
  "kernelspec": {
   "display_name": "Python 3",
   "language": "python",
   "name": "python3"
  },
  "language_info": {
   "codemirror_mode": {
    "name": "ipython",
    "version": 2
   },
   "file_extension": ".py",
   "mimetype": "text/x-python",
   "name": "python",
   "nbconvert_exporter": "python",
   "pygments_lexer": "ipython2",
   "version": "2.7.6"
  }
 },
 "nbformat": 4,
 "nbformat_minor": 5
}
