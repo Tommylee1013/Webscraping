{
 "cells": [
  {
   "cell_type": "markdown",
   "source": [
    "### Text Mining HW01\n",
    "\n",
    "#### Problem 1\n",
    "\n",
    "Using the contents of the openAPI.txt file, proceed with the preprocessing step by step below and answer the questions."
   ],
   "metadata": {
    "collapsed": false
   },
   "id": "821dd1ed5083fc22"
  },
  {
   "cell_type": "code",
   "execution_count": 1,
   "id": "initial_id",
   "metadata": {
    "collapsed": true,
    "ExecuteTime": {
     "end_time": "2023-09-17T10:35:56.505077Z",
     "start_time": "2023-09-17T10:35:56.492714Z"
    }
   },
   "outputs": [
    {
     "data": {
      "text/plain": "'/Users/junghunlee/Desktop/Pycharm/Webscraping/Homeworks'"
     },
     "execution_count": 1,
     "metadata": {},
     "output_type": "execute_result"
    }
   ],
   "source": [
    "import os\n",
    "os.getcwd()"
   ]
  },
  {
   "cell_type": "code",
   "execution_count": 3,
   "outputs": [
    {
     "data": {
      "text/plain": "'/Users/junghunlee/Desktop/Pycharm/Webscraping'"
     },
     "execution_count": 3,
     "metadata": {},
     "output_type": "execute_result"
    }
   ],
   "source": [
    "os.chdir('..')\n",
    "os.getcwd()"
   ],
   "metadata": {
    "collapsed": false,
    "ExecuteTime": {
     "end_time": "2023-09-17T10:37:46.143653Z",
     "start_time": "2023-09-17T10:37:46.136008Z"
    }
   },
   "id": "50804e176d8cacaa"
  },
  {
   "cell_type": "code",
   "execution_count": 5,
   "outputs": [],
   "source": [
    "file_path = './Data/openAPI.txt'\n",
    "with open(file_path) as file :\n",
    "    raw_review = file.read()\n",
    "#print(raw_review)"
   ],
   "metadata": {
    "collapsed": false,
    "ExecuteTime": {
     "end_time": "2023-09-17T10:40:19.488013Z",
     "start_time": "2023-09-17T10:40:19.474174Z"
    }
   },
   "id": "62314e33026289da"
  },
  {
   "cell_type": "markdown",
   "source": [
    "Remove HTML tags and extract text only (Beautiful Soup use)"
   ],
   "metadata": {
    "collapsed": false
   },
   "id": "429549a1dc466a3a"
  },
  {
   "cell_type": "code",
   "execution_count": 6,
   "outputs": [],
   "source": [
    "from bs4 import BeautifulSoup\n",
    "review_text = BeautifulSoup(raw_review, 'html.parser').get_text()"
   ],
   "metadata": {
    "collapsed": false,
    "ExecuteTime": {
     "end_time": "2023-09-17T10:40:33.673831Z",
     "start_time": "2023-09-17T10:40:32.176820Z"
    }
   },
   "id": "3f22a17ac15b3cfd"
  },
  {
   "cell_type": "markdown",
   "source": [
    "Convert non-alphabetic characters to spaces"
   ],
   "metadata": {
    "collapsed": false
   },
   "id": "14e0ace02cfdd194"
  },
  {
   "cell_type": "code",
   "execution_count": 7,
   "outputs": [],
   "source": [
    "import re\n",
    "letters_only = re.sub('[^a-zA-Z]', ' ', review_text)"
   ],
   "metadata": {
    "collapsed": false,
    "ExecuteTime": {
     "end_time": "2023-09-17T10:41:45.206011Z",
     "start_time": "2023-09-17T10:41:45.187304Z"
    }
   },
   "id": "1d80d5e3327b97da"
  },
  {
   "cell_type": "markdown",
   "source": [
    "Convert to lower case"
   ],
   "metadata": {
    "collapsed": false
   },
   "id": "50abe3c696d7127b"
  },
  {
   "cell_type": "code",
   "execution_count": 9,
   "outputs": [],
   "source": [
    "lower_latters = letters_only.lower().split() # list"
   ],
   "metadata": {
    "collapsed": false,
    "ExecuteTime": {
     "end_time": "2023-09-17T10:42:29.307376Z",
     "start_time": "2023-09-17T10:42:29.297052Z"
    }
   },
   "id": "bfc035cae22fa794"
  },
  {
   "cell_type": "markdown",
   "source": [
    "stop words removed (using nltk's englist stopwords)"
   ],
   "metadata": {
    "collapsed": false
   },
   "id": "e9ecc6e38b99245c"
  },
  {
   "cell_type": "code",
   "execution_count": 10,
   "outputs": [
    {
     "name": "stderr",
     "output_type": "stream",
     "text": [
      "[nltk_data] Downloading package stopwords to\n",
      "[nltk_data]     /Users/junghunlee/nltk_data...\n",
      "[nltk_data]   Unzipping corpora/stopwords.zip.\n"
     ]
    }
   ],
   "source": [
    "import nltk\n",
    "nltk.download('stopwords')\n",
    "from nltk.corpus import stopwords"
   ],
   "metadata": {
    "collapsed": false,
    "ExecuteTime": {
     "end_time": "2023-09-17T10:44:08.694594Z",
     "start_time": "2023-09-17T10:44:08.165417Z"
    }
   },
   "id": "ab4d572f4a3aee68"
  },
  {
   "cell_type": "code",
   "execution_count": 11,
   "outputs": [],
   "source": [
    "stops = set(stopwords.words('english'))"
   ],
   "metadata": {
    "collapsed": false,
    "ExecuteTime": {
     "end_time": "2023-09-17T10:44:33.690934Z",
     "start_time": "2023-09-17T10:44:33.675468Z"
    }
   },
   "id": "f5132e1d87a29f35"
  },
  {
   "cell_type": "code",
   "execution_count": 12,
   "outputs": [],
   "source": [
    "meaningful_words = [word for word in lower_latters if not word in stops]"
   ],
   "metadata": {
    "collapsed": false,
    "ExecuteTime": {
     "end_time": "2023-09-17T10:45:09.813750Z",
     "start_time": "2023-09-17T10:45:09.800049Z"
    }
   },
   "id": "3f1cc5118251737b"
  },
  {
   "cell_type": "markdown",
   "source": [
    "Stem extraction (using `PorterStemmer()`)"
   ],
   "metadata": {
    "collapsed": false
   },
   "id": "bb982d774567880b"
  },
  {
   "cell_type": "code",
   "execution_count": 14,
   "outputs": [],
   "source": [
    "from nltk.stem import PorterStemmer\n",
    "ps = PorterStemmer()\n",
    "stemming_words = [ps.stem(word) for word in meaningful_words]"
   ],
   "metadata": {
    "collapsed": false,
    "ExecuteTime": {
     "end_time": "2023-09-17T10:46:18.388626Z",
     "start_time": "2023-09-17T10:46:18.386758Z"
    }
   },
   "id": "76e3f2d0522991b2"
  },
  {
   "cell_type": "markdown",
   "source": [
    "One Combining strings with spaces (using join)"
   ],
   "metadata": {
    "collapsed": false
   },
   "id": "76eaaef29be6e8e"
  },
  {
   "cell_type": "code",
   "execution_count": 17,
   "outputs": [
    {
     "data": {
      "text/plain": "'open api wikipedia open api wikipedia free encyclopedia jump navig jump search articl open vs privat api web servic specif see openapi specif open api often refer public api publicli avail applic program interfac provid develop programmat access proprietari softwar applic web servic api set requir govern one applic commun interact anoth api also allow develop access certain intern function program although typic case web api simplest term api allow one piec softwar interact anoth piec softwar whether within singl comput via mechan provid oper system intern extern tcp ip base non tcp ip base network current mani api provid organ access http api may use develop insid organis publish api develop outsid organis wish regist access interfac content characterist open api versu privat api privat api open api open api busi open api web see also extern link refer characterist edit open api three main characterist avail use develop user rel restrict restrict might includ necess regist servic provid api typic back open data open data freeli avail everyon use republish wish without restrict copyright patent mechan control open api may free use publish may limit api data use base open standard open api versu privat api edit privat api edit privat api interfac open part organ backend data applic function use develop work within contractor work organ privat api expos intern develop therefor api publish total control applic develop privat api offer substanti benefit regard intern collabor use privat api across organ allow greater share awar intern data model develop work contract one organ commun direct therefor abl work cohes group privat api significantli diminish develop time need manipul build intern system maximis product creat custom face applic improv market reach add valu exist offer open api edit contrast privat api open api publicli avail develop access allow develop outsid organ workforc access backend data use enhanc applic open api significantli increas revenu without busi invest hire new develop make profit softwar applic howev import rememb open back end inform public creat rang secur manag challeng exampl publish open api make harder organis control experi end user inform asset open api publish cannot assum client app built api offer good user experi furthermor cannot fulli ensur client app maintain look feel corpor brand open api busi edit open api use busi seek leverag ever grow commun freelanc develop abil creat innov applic add valu core busi open api favour busi sphere simultan increas product new idea without invest directli develop effort busi often tailor api target specif develop audienc feel effect creat valuabl new applic howev api significantli diminish applic function overload featur open api busi chart exampl yahoo open search api allow develop integr yahoo search softwar applic addit api provid search function develop applic whilst also increas search traffic yahoo search engin henc benefit parti respect facebook twitter see third parti enrich servic code exampl abil creat account extern site app use facebook credenti made possibl use facebook open api mani larg technolog firm twitter linkedin facebook allow use servic third parti competitor open api web edit rise promin html web modern brows experi becom interact dynam part acceler use open api open api fetch data databas behind websit call web api exampl googl youtub api allow develop integr youtub applic provid capabl search video retriev standard feed see relat content web api use exchang inform websit either receiv send data web api fetch data websit applic make care construct http request server site store server send data back format applic expect request data incorpor chang websit sent data see also edit openapi specif applic enabl open system comput mashup web applic hybrid webhook web api extern link edit open api initi oai websit eclips openapi oa editor studio openapi editor test studio usag wiki refer edit open api definit whati com searchcloudappl retriev proffitt brian septemb api import readwrit retriev octob api strategi privat api vs open api api design strategi www apiacademi co archiv origin retriev dodd leigh open api lost boy retriev open data opendatahandbook org retriev busi benefit privat api nordic api nordic api retriev beat risk manag public privat api searchsoa retriev deng zhui saltaformaggio brendan zhang xiangyu xu dongyan iri vet privat api abus io applic proceed nd acm sigsac confer comput commun secur cc new york ny usa acm doi isbn api open api chang internet makeuseof retriev facebook develop doc facebook develop retriev tonyxu io linkedin api document linkedin doc microsoft com retriev twitter api help twitter com retriev vteweb interfacesserv sideprotocol http cgi scgi fcgi ajp wsrp websocket server api c nsapi c asapi c isapi com asp jakarta servlet contain cli owin asp net handler python wsgi rubi rack javascript jsgi perl psgi portlet contain apach modul mod includ mod jk mod lisp mod mono mod parrot mod perl mod php mod proxi mod python mod wsgi mod rubi phusion passeng topic web resourc vs web servic open api webhook applic server comparison script client sidebrows api c npapi liveconnect xpconnect c npruntim c ppapi nacl activex bho xbap web apisw c audio canva cor dom dom event eme file geoloc indexeddb mse sse svg video webauthn webgpu webrtc websocket web messag web storag web worker xmlhttprequest webassembl khrono webcl webgl other gear web sql databas formerli w c webusb topic ajax remot script vs dhtml browser extens mashup web idl script topic web page static dynam web standard web api secur web applic rich singl page progress web framework retriev http en wikipedia org w index php titl open api oldid categori applic program interfac navig menu person tool log intalkcontributionscr accountlog namespac articletalk variant expand collaps view readeditview histori expand collaps search navig main pagecontentscurr eventsrandom articleabout wikipediacontact usdon contribut helplearn editcommun portalrec changesupload file tool link hererel changesupload filespeci pagesperman linkpag informationcit pagewikidata item print export download pdfprintabl version languag ti ng vi edit link page last edit septemb utc text avail creativ common attribut sharealik licens addit term may appli use site agre term use privaci polici wikipedia regist trademark wikimedia foundat inc non profit organ privaci polici wikipedia disclaim contact wikipedia mobil view develop statist cooki statement'"
     },
     "execution_count": 17,
     "metadata": {},
     "output_type": "execute_result"
    }
   ],
   "source": [
    "combined = ' '.join(stemming_words)\n",
    "combined"
   ],
   "metadata": {
    "collapsed": false,
    "ExecuteTime": {
     "end_time": "2023-09-17T10:47:02.258457Z",
     "start_time": "2023-09-17T10:47:02.246831Z"
    }
   },
   "id": "a0598a3144d2a4fb"
  },
  {
   "cell_type": "markdown",
   "source": [
    "**(1) Among the words obtained in step 5 of the preprocessing task , how many words are obtained in total if duplicates are removed?**"
   ],
   "metadata": {
    "collapsed": false
   },
   "id": "e2219654beb525ba"
  },
  {
   "cell_type": "code",
   "execution_count": 28,
   "outputs": [
    {
     "name": "stdout",
     "output_type": "stream",
     "text": [
      "It can obtain 547 words when duplicates are removed\n"
     ]
    }
   ],
   "source": [
    "print(f'It can obtain {len(set(meaningful_words))} words when duplicates are removed')"
   ],
   "metadata": {
    "collapsed": false,
    "ExecuteTime": {
     "end_time": "2023-09-17T10:56:45.741045Z",
     "start_time": "2023-09-17T10:56:45.734974Z"
    }
   },
   "id": "170bd038597c1c48"
  },
  {
   "cell_type": "markdown",
   "source": [
    "**(2) How many times does the word ' api ' occur in total?**"
   ],
   "metadata": {
    "collapsed": false
   },
   "id": "1f14e6e3f5b74d75"
  },
  {
   "cell_type": "code",
   "execution_count": 29,
   "outputs": [
    {
     "name": "stdout",
     "output_type": "stream",
     "text": [
      "41 times are occurred in text\n"
     ]
    }
   ],
   "source": [
    "print(f'{meaningful_words.count(\"api\")} times are occurred in text')"
   ],
   "metadata": {
    "collapsed": false,
    "ExecuteTime": {
     "end_time": "2023-09-17T10:56:47.025132Z",
     "start_time": "2023-09-17T10:56:47.017563Z"
    }
   },
   "id": "aaecde3acbb1ff82"
  },
  {
   "cell_type": "markdown",
   "source": [
    "**(3) What is the third most frequent [ word ] and what is the [ corresponding frequency ]?**"
   ],
   "metadata": {
    "collapsed": false
   },
   "id": "4954da4bf7f30cc4"
  },
  {
   "cell_type": "code",
   "execution_count": 35,
   "outputs": [
    {
     "name": "stdout",
     "output_type": "stream",
     "text": [
      "The third most frequent word is \"apis\" and its frequency is 36\n"
     ]
    }
   ],
   "source": [
    "from collections import Counter\n",
    "third_word, freq = Counter(meaningful_words).most_common(10)[2]\n",
    "print(f'The third most frequent word is \"{third_word}\" and its frequency is {freq}')"
   ],
   "metadata": {
    "collapsed": false,
    "ExecuteTime": {
     "end_time": "2023-09-17T11:03:51.436676Z",
     "start_time": "2023-09-17T11:03:51.427583Z"
    }
   },
   "id": "2b5d965f4099b4eb"
  },
  {
   "cell_type": "markdown",
   "source": [
    "**(4) Using the word-frequency relationship obtained above and the code below, draw a graph of the top 20 word frequencies**"
   ],
   "metadata": {
    "collapsed": false
   },
   "id": "362a6d16b8e86c80"
  },
  {
   "cell_type": "code",
   "execution_count": 36,
   "outputs": [],
   "source": [
    "import matplotlib.pyplot as plt\n",
    "freq_words = Counter(meaningful_words).most_common(20)\n",
    "keywords = [key[0] for key in freq_words]\n",
    "freq = [freq[1] for freq in freq_words]"
   ],
   "metadata": {
    "collapsed": false,
    "ExecuteTime": {
     "end_time": "2023-09-17T11:06:17.242253Z",
     "start_time": "2023-09-17T11:06:16.895168Z"
    }
   },
   "id": "ebdc6f6d5adf71b4"
  },
  {
   "cell_type": "code",
   "execution_count": 43,
   "outputs": [],
   "source": [
    "def plot_word_freq(keywords : list, freq : list) -> None :\n",
    "    plt.figure(figsize = (10, 4))\n",
    "    plt.bar(keywords, freq)\n",
    "    plt.xlabel('words', fontfamily = 'Serif')\n",
    "    plt.ylabel('freqency', fontfamily = 'Serif')\n",
    "    plt.xticks(rotation = 90)\n",
    "    plt.title('word - frequency relationship', fontsize = 12, fontfamily = 'Serif')\n",
    "    plt.show()\n",
    "    \n",
    "def main() -> None : plot_word_freq(keywords, freq)"
   ],
   "metadata": {
    "collapsed": false,
    "ExecuteTime": {
     "end_time": "2023-09-17T11:12:21.978875Z",
     "start_time": "2023-09-17T11:12:21.971499Z"
    }
   },
   "id": "6f1b350179fb8746"
  },
  {
   "cell_type": "code",
   "execution_count": 44,
   "outputs": [
    {
     "data": {
      "text/plain": "<Figure size 1000x400 with 1 Axes>",
      "image/png": "[encoded data removed]"
     },
     "metadata": {},
     "output_type": "display_data"
    }
   ],
   "source": [
    "if __name__ == '__main__' : main();"
   ],
   "metadata": {
    "collapsed": false,
    "ExecuteTime": {
     "end_time": "2023-09-17T11:12:36.357704Z",
     "start_time": "2023-09-17T11:12:36.271831Z"
    }
   },
   "id": "3300649bd63fccb7"
  },
  {
   "cell_type": "markdown",
   "source": [
    "**(5) Obtain 2- gram using the functions below, and find the frequency of the word combination { open api }**"
   ],
   "metadata": {
    "collapsed": false
   },
   "id": "153d99d3e1132745"
  },
  {
   "cell_type": "code",
   "execution_count": 46,
   "outputs": [
    {
     "name": "stderr",
     "output_type": "stream",
     "text": [
      "[nltk_data] Downloading package punkt to\n",
      "[nltk_data]     /Users/junghunlee/nltk_data...\n",
      "[nltk_data]   Unzipping tokenizers/punkt.zip.\n"
     ]
    },
    {
     "data": {
      "text/plain": "True"
     },
     "execution_count": 46,
     "metadata": {},
     "output_type": "execute_result"
    }
   ],
   "source": [
    "nltk.download('punkt')"
   ],
   "metadata": {
    "collapsed": false,
    "ExecuteTime": {
     "end_time": "2023-09-17T11:16:14.558151Z",
     "start_time": "2023-09-17T11:16:13.978406Z"
    }
   },
   "id": "6810a2064edb96ad"
  },
  {
   "cell_type": "code",
   "execution_count": 51,
   "outputs": [],
   "source": [
    "from nltk.tokenize import word_tokenize \n",
    "from nltk.util import ngrams\n",
    "\n",
    "def get_ngrams(text : str, nums : int) -> list :\n",
    "    n_grams = ngrams(word_tokenize(text), nums)\n",
    "    out = [' '.join(grams) for grams in n_grams]\n",
    "    return out\n",
    "\n",
    "n_gram = get_ngrams(combined, 2)"
   ],
   "metadata": {
    "collapsed": false,
    "ExecuteTime": {
     "end_time": "2023-09-17T11:18:24.872730Z",
     "start_time": "2023-09-17T11:18:24.864227Z"
    }
   },
   "id": "f40203c6d3e87035"
  },
  {
   "cell_type": "markdown",
   "source": [
    "**(6) Draw a frequency graph like (4) using the two-word-frequency relationship obtained in (5) above**"
   ],
   "metadata": {
    "collapsed": false
   },
   "id": "9aa7b0a04f6627d"
  },
  {
   "cell_type": "code",
   "execution_count": 54,
   "outputs": [],
   "source": [
    "freq_words = Counter(n_gram).most_common(20)\n",
    "keywords = [key[0] for key in freq_words]\n",
    "freq = [freq[1] for freq in freq_words]"
   ],
   "metadata": {
    "collapsed": false,
    "ExecuteTime": {
     "end_time": "2023-09-17T11:21:00.409350Z",
     "start_time": "2023-09-17T11:21:00.397662Z"
    }
   },
   "id": "254d0424c5b1cfd4"
  },
  {
   "cell_type": "code",
   "execution_count": 55,
   "outputs": [
    {
     "data": {
      "text/plain": "<Figure size 1000x400 with 1 Axes>",
      "image/png": "[encoded data removed]"
     },
     "metadata": {},
     "output_type": "display_data"
    }
   ],
   "source": [
    "if __name__ == '__main__' : main();"
   ],
   "metadata": {
    "collapsed": false,
    "ExecuteTime": {
     "end_time": "2023-09-17T11:21:12.875473Z",
     "start_time": "2023-09-17T11:21:12.776280Z"
    }
   },
   "id": "ea4934d46dcc81de"
  },
  {
   "cell_type": "markdown",
   "source": [
    "#### Problem 2\n",
    "\n",
    "In coin.zip, there are 5 cryptocurrency-related whitepaper txt files. Create a folder called coin in the Colab , and unzip these files. Save them in txt format, and answer the questions below"
   ],
   "metadata": {
    "collapsed": false
   },
   "id": "9b8ca41fcd8001f8"
  },
  {
   "cell_type": "code",
   "execution_count": null,
   "outputs": [],
   "source": [],
   "metadata": {
    "collapsed": false
   },
   "id": "b4b828c8ba9bb0ac"
  }
 ],
 "metadata": {
  "kernelspec": {
   "display_name": "Python 3",
   "language": "python",
   "name": "python3"
  },
  "language_info": {
   "codemirror_mode": {
    "name": "ipython",
    "version": 2
   },
   "file_extension": ".py",
   "mimetype": "text/x-python",
   "name": "python",
   "nbconvert_exporter": "python",
   "pygments_lexer": "ipython2",
   "version": "2.7.6"
  }
 },
 "nbformat": 4,
 "nbformat_minor": 5
}
