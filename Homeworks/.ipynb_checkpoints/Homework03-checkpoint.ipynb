{
 "cells": [
  {
   "cell_type": "markdown",
   "id": "fbf41345e5b073a1",
   "metadata": {},
   "source": [
    "### Text Mining Homework 3\n",
    "\n",
    "#### Problem 1\n",
    "\n",
    "Get the titles of the 1st, 100th, and 200th topics by collecting data from the teamblind website below. (Hint: use selenium)"
   ]
  },
  {
   "cell_type": "code",
   "execution_count": 3,
   "id": "initial_id",
   "metadata": {
    "ExecuteTime": {
     "end_time": "2023-10-25T12:23:39.127118Z",
     "start_time": "2023-10-25T12:21:06.690397Z"
    }
   },
   "outputs": [
    {
     "data": {
      "text/plain": [
       "2430"
      ]
     },
     "execution_count": 3,
     "metadata": {},
     "output_type": "execute_result"
    }
   ],
   "source": [
    "from selenium import webdriver\n",
    "from bs4 import BeautifulSoup\n",
    "import time\n",
    "\n",
    "chrome_options = webdriver.ChromeOptions()\n",
    "driver = webdriver.Chrome(options = chrome_options)\n",
    "\n",
    "url = \"https://www.teamblind.com/topics/Industries/Financial-Services\"\n",
    "driver.get(url)\n",
    "SCROLL_PAUSE_SEC = 1\n",
    "last_height = driver.execute_script (\"return document.body.scrollHeight\") # Get the scroll height\n",
    "while True :\n",
    "    driver.execute_script (\"window.scrollTo (0, document.body.scrollHeight);\") # Scroll down to the end (mouse movement effect)\n",
    "    time.sleep(SCROLL_PAUSE_SEC) # wait 1 second\n",
    "    new_height = driver.execute_script(\"return document.body.scrollHeight\") # Get scroll height back after scrolling down\n",
    "    if new_height == last_height : break\n",
    "    last_height = new_height\n",
    "    \n",
    "html1 = driver.page_source\n",
    "soup = BeautifulSoup(html1, 'html.parser')\n",
    "title_list = soup.select(\"div.h_tit > strong\")\n",
    "len(title_list)"
   ]
  },
  {
   "cell_type": "code",
   "execution_count": 4,
   "id": "1cc6fb08b4ee00a5",
   "metadata": {
    "ExecuteTime": {
     "end_time": "2023-10-25T12:23:39.193722Z",
     "start_time": "2023-10-25T12:23:39.150162Z"
    }
   },
   "outputs": [],
   "source": [
    "import re\n",
    "meaningful_title = []\n",
    "\n",
    "for i in title_list :\n",
    "    clean_text = re.sub(r'<.*?>', '', str(i))\n",
    "    meaningful_info = ' '.join(clean_text.split())\n",
    "    meaningful_title.append(meaningful_info)"
   ]
  },
  {
   "cell_type": "code",
   "execution_count": 5,
   "id": "10318b86e819b995",
   "metadata": {
    "ExecuteTime": {
     "end_time": "2023-10-25T12:23:39.210156Z",
     "start_time": "2023-10-25T12:23:39.154622Z"
    }
   },
   "outputs": [
    {
     "data": {
      "text/plain": [
       "['vote Investment Banking vs Tech',\n",
       " 'If you work for a finance company, is it true that you have to report your stock market trades to your company?',\n",
       " 'Is joining Svb safe in this market ?',\n",
       " 'vote Value of Hedge Fund Headhunters',\n",
       " 'Struggling to pass recruiter interviews',\n",
       " 'C++ deployment at HFT',\n",
       " 'Referral',\n",
       " 'vote Given the current situation to support one, without any ‘if’ or ‘but’, what would you support?',\n",
       " 'How much should I rent out a place (monthly) worth 1M dollars?',\n",
       " 'Can you reinterview at JS?']"
      ]
     },
     "execution_count": 5,
     "metadata": {},
     "output_type": "execute_result"
    }
   ],
   "source": [
    "meaningful_title[:10]"
   ]
  },
  {
   "cell_type": "code",
   "execution_count": 6,
   "id": "553c293e1b5f6d11",
   "metadata": {
    "ExecuteTime": {
     "end_time": "2023-10-25T12:23:39.210355Z",
     "start_time": "2023-10-25T12:23:39.161274Z"
    }
   },
   "outputs": [
    {
     "name": "stdout",
     "output_type": "stream",
     "text": [
      "The first topic is \"vote Investment Banking vs Tech\"\n"
     ]
    }
   ],
   "source": [
    "print(f'The first topic is \"{meaningful_title[0]}\"')"
   ]
  },
  {
   "cell_type": "code",
   "execution_count": 7,
   "id": "954ae7505690ce99",
   "metadata": {
    "ExecuteTime": {
     "end_time": "2023-10-25T12:23:39.211018Z",
     "start_time": "2023-10-25T12:23:39.168264Z"
    }
   },
   "outputs": [
    {
     "name": "stdout",
     "output_type": "stream",
     "text": [
      "The 100th topic is \"Made $9K this morning.\"\n"
     ]
    }
   ],
   "source": [
    "print(f'The 100th topic is \"{meaningful_title[99]}\"')"
   ]
  },
  {
   "cell_type": "code",
   "execution_count": 8,
   "id": "4ef8802e16b25223",
   "metadata": {
    "ExecuteTime": {
     "end_time": "2023-10-25T12:23:39.211204Z",
     "start_time": "2023-10-25T12:23:39.170744Z"
    }
   },
   "outputs": [
    {
     "name": "stdout",
     "output_type": "stream",
     "text": [
      "The 200th topic is \"What’s the best stock to invest in right now?\"\n"
     ]
    }
   ],
   "source": [
    "print(f'The 200th topic is \"{meaningful_title[199]}\"')"
   ]
  },
  {
   "cell_type": "markdown",
   "id": "f0cce7061711a03c",
   "metadata": {},
   "source": [
    "#### Problem 2\n",
    "\n",
    "Create a data frame with [title, url to detailed news] as variables for the top 4 education(교육) news among [social(사회)] section of NAVER news (https://news.naver.com/), and report the result."
   ]
  },
  {
   "cell_type": "code",
   "execution_count": 9,
   "id": "9048a2011ded3a8",
   "metadata": {
    "ExecuteTime": {
     "end_time": "2023-10-25T12:23:48.814445Z",
     "start_time": "2023-10-25T12:23:39.173410Z"
    }
   },
   "outputs": [],
   "source": [
    "import pandas as pd\n",
    "import time\n",
    "from selenium import webdriver\n",
    "from selenium.webdriver.common.by import By\n",
    "from selenium.webdriver.chrome.service import Service\n",
    "from webdriver_manager.chrome import ChromeDriverManager\n",
    "from selenium.webdriver.support.ui import WebDriverWait\n",
    "from selenium.webdriver.support import expected_conditions as EC\n",
    "\n",
    "chrome_options = webdriver.ChromeOptions()\n",
    "driver = webdriver.Chrome(options = chrome_options)\n",
    "driver.get(\"https://news.naver.com\")\n",
    "\n",
    "society_section = driver.find_element(By.LINK_TEXT, \"사회\")\n",
    "society_section.click()\n",
    "\n",
    "time.sleep(2)\n",
    "\n",
    "education_tab = driver.find_element(By.LINK_TEXT, \"교육\")\n",
    "education_tab.click()\n",
    "\n",
    "wait = WebDriverWait(driver, 10)\n",
    "news_elements = wait.until(EC.presence_of_all_elements_located((By.CSS_SELECTOR, \".list_body.newsflash_body ul.type06_headline li\")))\n",
    "\n",
    "titles = []\n",
    "links = []\n",
    "for news in news_elements[:4]:\n",
    "    title_element = news.find_element(By.CSS_SELECTOR, \"dt:not(.photo) a\")\n",
    "    titles.append(title_element.text)\n",
    "    links.append(title_element.get_attribute('href'))\n",
    "\n",
    "pd.set_option('display.max_rows', 1000)\n",
    "pd.set_option('display.max_colwidth', 800)\n",
    "\n",
    "data = pd.DataFrame({\n",
    "    'Title': titles,\n",
    "    'Link': links\n",
    "})\n",
    "\n",
    "driver.quit()"
   ]
  },
  {
   "cell_type": "code",
   "execution_count": 10,
   "id": "e17c4655d5059122",
   "metadata": {
    "ExecuteTime": {
     "end_time": "2023-10-25T12:23:48.820444Z",
     "start_time": "2023-10-25T12:23:48.816162Z"
    }
   },
   "outputs": [
    {
     "data": {
      "text/html": [
       "<div>\n",
       "<style scoped>\n",
       "    .dataframe tbody tr th:only-of-type {\n",
       "        vertical-align: middle;\n",
       "    }\n",
       "\n",
       "    .dataframe tbody tr th {\n",
       "        vertical-align: top;\n",
       "    }\n",
       "\n",
       "    .dataframe thead th {\n",
       "        text-align: right;\n",
       "    }\n",
       "</style>\n",
       "<table border=\"1\" class=\"dataframe\">\n",
       "  <thead>\n",
       "    <tr style=\"text-align: right;\">\n",
       "      <th></th>\n",
       "      <th>Title</th>\n",
       "      <th>Link</th>\n",
       "    </tr>\n",
       "  </thead>\n",
       "  <tbody>\n",
       "    <tr>\n",
       "      <th>0</th>\n",
       "      <td>표선고, 첫 IB DP 외부 평가 실시</td>\n",
       "      <td>https://n.news.naver.com/mnews/article/661/0000032828?sid=102</td>\n",
       "    </tr>\n",
       "    <tr>\n",
       "      <th>1</th>\n",
       "      <td>'대입개편안'상대평가 병행…교육계 \"고교 학점제 무력화\" 우려</td>\n",
       "      <td>https://n.news.naver.com/mnews/article/421/0007133776?sid=102</td>\n",
       "    </tr>\n",
       "    <tr>\n",
       "      <th>2</th>\n",
       "      <td>여야, 의대 증원 촉구…\"의대별 80명 이상 돼야\"</td>\n",
       "      <td>https://n.news.naver.com/mnews/article/422/0000625823?sid=102</td>\n",
       "    </tr>\n",
       "    <tr>\n",
       "      <th>3</th>\n",
       "      <td>의사협회 \"의대정원 300명선 증원 합의설 사실 아냐\"</td>\n",
       "      <td>https://n.news.naver.com/mnews/article/422/0000625822?sid=102</td>\n",
       "    </tr>\n",
       "  </tbody>\n",
       "</table>\n",
       "</div>"
      ],
      "text/plain": [
       "                                Title  \\\n",
       "0               표선고, 첫 IB DP 외부 평가 실시   \n",
       "1  '대입개편안'상대평가 병행…교육계 \"고교 학점제 무력화\" 우려   \n",
       "2        여야, 의대 증원 촉구…\"의대별 80명 이상 돼야\"   \n",
       "3      의사협회 \"의대정원 300명선 증원 합의설 사실 아냐\"   \n",
       "\n",
       "                                                            Link  \n",
       "0  https://n.news.naver.com/mnews/article/661/0000032828?sid=102  \n",
       "1  https://n.news.naver.com/mnews/article/421/0007133776?sid=102  \n",
       "2  https://n.news.naver.com/mnews/article/422/0000625823?sid=102  \n",
       "3  https://n.news.naver.com/mnews/article/422/0000625822?sid=102  "
      ]
     },
     "execution_count": 10,
     "metadata": {},
     "output_type": "execute_result"
    }
   ],
   "source": [
    "data"
   ]
  }
 ],
 "metadata": {
  "kernelspec": {
   "display_name": "Python 3 (ipykernel)",
   "language": "python",
   "name": "python3"
  },
  "language_info": {
   "codemirror_mode": {
    "name": "ipython",
    "version": 3
   },
   "file_extension": ".py",
   "mimetype": "text/x-python",
   "name": "python",
   "nbconvert_exporter": "python",
   "pygments_lexer": "ipython3",
   "version": "3.11.4"
  }
 },
 "nbformat": 4,
 "nbformat_minor": 5
}
