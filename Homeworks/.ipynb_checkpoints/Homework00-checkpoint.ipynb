{
 "cells": [
  {
   "cell_type": "markdown",
   "id": "527eea671e942c85",
   "metadata": {},
   "source": [
    "### Text Mining HW0\n",
    "\n",
    "( Please write and submit the Python code and result together)\n",
    "\n",
    "#### Problem 1\n",
    "\n",
    "It's a new semester and I'm going to buy a new stationery. Let's say the stationery purchase list contains the following stationery: \n",
    "\n",
    "Stationery Buy List: `{ pencil case, marker pen , pencil sharpener }` \n",
    "\n",
    "Here, if it is located at the far left of the list, it is ranked 1 , Let's assume that the ranking is pushed in turn as you move to the right. In other words, { pencil case} is ranked first , { sign pen } is ranked second , and { pencil sharpener } is ranked third . Assume that when a new phrase is added to or deleted from the phrase purchase list, the ranking automatically changes due to a location change. If you want to continue purchasing the phrase by adding, selecting, or deleting the phrase purchase list, print the [1] code and [2] the result of executing the following commands in sequence using Python"
   ]
  },
  {
   "cell_type": "code",
   "execution_count": 1,
   "id": "f68b32c22b488d03",
   "metadata": {
    "ExecuteTime": {
     "end_time": "2023-09-13T08:04:15.010590Z",
     "start_time": "2023-09-13T08:04:15.002803Z"
    }
   },
   "outputs": [],
   "source": [
    "buyList = ['pencil case', ' marker pen', 'pencil sharpener']"
   ]
  },
  {
   "cell_type": "markdown",
   "id": "ab2ed30ec5330bc8",
   "metadata": {},
   "source": [
    "(1) Add { eraser } as 4th priority."
   ]
  },
  {
   "cell_type": "code",
   "execution_count": 2,
   "id": "initial_id",
   "metadata": {
    "ExecuteTime": {
     "end_time": "2023-09-13T08:04:15.408584Z",
     "start_time": "2023-09-13T08:04:15.385974Z"
    }
   },
   "outputs": [
    {
     "data": {
      "text/plain": [
       "['pencil case', ' marker pen', 'pencil sharpener', 'eraser']"
      ]
     },
     "execution_count": 2,
     "metadata": {},
     "output_type": "execute_result"
    }
   ],
   "source": [
    "buyList.append('eraser')\n",
    "buyList"
   ]
  },
  {
   "cell_type": "markdown",
   "id": "c5925330833c0a39",
   "metadata": {},
   "source": [
    "(2) Delete { pencil sharpener } from the stationery purchase list ."
   ]
  },
  {
   "cell_type": "code",
   "execution_count": 3,
   "id": "b75f3585667e5c7e",
   "metadata": {
    "ExecuteTime": {
     "end_time": "2023-09-13T08:05:00.986874Z",
     "start_time": "2023-09-13T08:05:00.969995Z"
    }
   },
   "outputs": [
    {
     "data": {
      "text/plain": [
       "['pencil case', ' marker pen', 'eraser']"
      ]
     },
     "execution_count": 3,
     "metadata": {},
     "output_type": "execute_result"
    }
   ],
   "source": [
    "buyList.remove('pencil sharpener')\n",
    "buyList"
   ]
  },
  {
   "cell_type": "markdown",
   "id": "7cb80b615d56f960",
   "metadata": {},
   "source": [
    "(3) Add { ink pen } as the third priority."
   ]
  },
  {
   "cell_type": "code",
   "execution_count": 4,
   "id": "b457802ba1c0db9c",
   "metadata": {
    "ExecuteTime": {
     "end_time": "2023-09-13T08:05:04.812090Z",
     "start_time": "2023-09-13T08:05:04.803247Z"
    }
   },
   "outputs": [
    {
     "data": {
      "text/plain": [
       "['pencil case', ' marker pen', 'ink pen', 'eraser']"
      ]
     },
     "execution_count": 4,
     "metadata": {},
     "output_type": "execute_result"
    }
   ],
   "source": [
    "buyList.insert(2, 'ink pen')\n",
    "buyList"
   ]
  },
  {
   "cell_type": "markdown",
   "id": "a6679ee0d29b4ee7",
   "metadata": {},
   "source": [
    "(4) Finally, find the number of { ink pen } in the stationery purchase list . (Hint) Using a list"
   ]
  },
  {
   "cell_type": "code",
   "execution_count": 5,
   "id": "16512fc6f59b70cc",
   "metadata": {
    "ExecuteTime": {
     "end_time": "2023-09-13T08:05:11.266501Z",
     "start_time": "2023-09-13T08:05:11.247033Z"
    }
   },
   "outputs": [
    {
     "data": {
      "text/plain": [
       "1"
      ]
     },
     "execution_count": 5,
     "metadata": {},
     "output_type": "execute_result"
    }
   ],
   "source": [
    "buyList.count('ink pen')"
   ]
  },
  {
   "cell_type": "markdown",
   "id": "273221aaf3379439",
   "metadata": {},
   "source": [
    "#### Problem 2\n",
    "\n",
    "The title of the movie 007 series and box office : millions of dollars data were prepared as follows . {For Your Eyes Only : 449.4 , Skyfall : 943.5, Die Another Day : 465.4, A View to a Kill: 275.2 }. If you want to continue creating data by selecting, adding or deleting this data , print the [1] code and [2] the result of executing the following commands in sequence using Python"
   ]
  },
  {
   "cell_type": "code",
   "execution_count": 6,
   "id": "36baf65048ce578a",
   "metadata": {
    "ExecuteTime": {
     "end_time": "2023-09-13T08:09:48.523686Z",
     "start_time": "2023-09-13T08:09:48.511107Z"
    }
   },
   "outputs": [],
   "source": [
    "boxOffice = {'For Your Eyes Only' : 449.4, \n",
    "             'Skyfall' : 943.5, \n",
    "             'Die Another Day' : 465.4, \n",
    "             'A View to a Kill' : 275.2 }"
   ]
  },
  {
   "cell_type": "markdown",
   "id": "8cc9ee6d304368e6",
   "metadata": {},
   "source": [
    "(1) Add { Specter : 725.5}"
   ]
  },
  {
   "cell_type": "code",
   "execution_count": 7,
   "id": "1fafea3eee72be53",
   "metadata": {
    "ExecuteTime": {
     "end_time": "2023-09-13T08:09:50.276412Z",
     "start_time": "2023-09-13T08:09:50.267305Z"
    }
   },
   "outputs": [
    {
     "data": {
      "text/plain": [
       "{'For Your Eyes Only': 449.4,\n",
       " 'Skyfall': 943.5,\n",
       " 'Die Another Day': 465.4,\n",
       " 'A View to a Kill': 275.2,\n",
       " 'Specter': 725.5}"
      ]
     },
     "execution_count": 7,
     "metadata": {},
     "output_type": "execute_result"
    }
   ],
   "source": [
    "boxOffice['Specter'] = 725.5\n",
    "boxOffice"
   ]
  },
  {
   "cell_type": "markdown",
   "id": "823efddf968cd614",
   "metadata": {},
   "source": [
    "(2) Replace {For Your Eyes Only : 449.4 } with { Golden Eye : 518.5 } which performed better at box office"
   ]
  },
  {
   "cell_type": "code",
   "execution_count": 8,
   "id": "6a68c9f12054a622",
   "metadata": {
    "ExecuteTime": {
     "end_time": "2023-09-13T08:11:05.420693Z",
     "start_time": "2023-09-13T08:11:05.412993Z"
    }
   },
   "outputs": [
    {
     "data": {
      "text/plain": [
       "{'Skyfall': 943.5,\n",
       " 'Die Another Day': 465.4,\n",
       " 'A View to a Kill': 275.2,\n",
       " 'Specter': 725.5,\n",
       " 'Golden Eye': 518.5}"
      ]
     },
     "execution_count": 8,
     "metadata": {},
     "output_type": "execute_result"
    }
   ],
   "source": [
    "boxOffice['Golden Eye'] = boxOffice.pop('For Your Eyes Only')\n",
    "boxOffice['Golden Eye'] = 518.5\n",
    "boxOffice"
   ]
  },
  {
   "cell_type": "markdown",
   "id": "d21decde398e7562",
   "metadata": {},
   "source": [
    "(3) Delete { A View to a Kill: 275.2}"
   ]
  },
  {
   "cell_type": "code",
   "execution_count": 9,
   "id": "f699227e963cd727",
   "metadata": {
    "ExecuteTime": {
     "end_time": "2023-09-13T08:11:52.969505Z",
     "start_time": "2023-09-13T08:11:52.958206Z"
    }
   },
   "outputs": [
    {
     "data": {
      "text/plain": [
       "{'Skyfall': 943.5,\n",
       " 'Die Another Day': 465.4,\n",
       " 'Specter': 725.5,\n",
       " 'Golden Eye': 518.5}"
      ]
     },
     "execution_count": 9,
     "metadata": {},
     "output_type": "execute_result"
    }
   ],
   "source": [
    "boxOffice.pop('A View to a Kill')\n",
    "boxOffice"
   ]
  },
  {
   "cell_type": "markdown",
   "id": "a75d427875f1ad7b",
   "metadata": {},
   "source": [
    "(4) Outputs the box office performance of {Skyfall}"
   ]
  },
  {
   "cell_type": "code",
   "execution_count": 10,
   "id": "e391d22ef7cd2fc3",
   "metadata": {
    "ExecuteTime": {
     "end_time": "2023-09-13T08:12:01.840358Z",
     "start_time": "2023-09-13T08:12:01.830838Z"
    }
   },
   "outputs": [
    {
     "name": "stdout",
     "output_type": "stream",
     "text": [
      "943.5\n"
     ]
    }
   ],
   "source": [
    "print(boxOffice['Skyfall'])"
   ]
  },
  {
   "cell_type": "markdown",
   "id": "15f730ccdef51a06",
   "metadata": {},
   "source": [
    "(5) Summing up the box office (millions of dollars) of all movies included in the data . (Hint) Using a dictionary"
   ]
  },
  {
   "cell_type": "code",
   "execution_count": 11,
   "id": "c544e77bf7d7685a",
   "metadata": {
    "ExecuteTime": {
     "end_time": "2023-09-13T08:12:09.777367Z",
     "start_time": "2023-09-13T08:12:09.762184Z"
    }
   },
   "outputs": [
    {
     "name": "stdout",
     "output_type": "stream",
     "text": [
      "The total of box office earned is $2652.9M\n"
     ]
    }
   ],
   "source": [
    "boxOffice_sum = sum(boxOffice.values())\n",
    "print(f'The total of box office earned is ${boxOffice_sum}M')"
   ]
  },
  {
   "cell_type": "markdown",
   "id": "e5a4f8c62123bf",
   "metadata": {},
   "source": [
    "#### Problem 3\n",
    "\n",
    "programmer A and B respectively use the following programming languages\n",
    "\n",
    "A: `{R, Python, Excel, Matlab , SAS, C#}` \n",
    "\n",
    "B: `{Python, HTML, CSS, C++, Excel}`"
   ]
  },
  {
   "cell_type": "code",
   "execution_count": 12,
   "id": "482a0afaefb7856a",
   "metadata": {
    "ExecuteTime": {
     "end_time": "2023-09-13T08:12:12.640949Z",
     "start_time": "2023-09-13T08:12:12.634664Z"
    }
   },
   "outputs": [],
   "source": [
    "A = {'R','Python','Excel','Matlab','SAS','C#'}\n",
    "B = {'Python','HTML','CSS','C++','Excel'}"
   ]
  },
  {
   "cell_type": "markdown",
   "id": "179de7a94b8406fb",
   "metadata": {},
   "source": [
    "(1) Find the programming language used by both programmers (intersection set)"
   ]
  },
  {
   "cell_type": "code",
   "execution_count": 13,
   "id": "10fd79e4a3a4fe2c",
   "metadata": {
    "ExecuteTime": {
     "end_time": "2023-09-13T08:12:13.516738Z",
     "start_time": "2023-09-13T08:12:13.509953Z"
    }
   },
   "outputs": [
    {
     "name": "stdout",
     "output_type": "stream",
     "text": [
      "{'Excel', 'Python'}\n"
     ]
    }
   ],
   "source": [
    "print(A.intersection(B))"
   ]
  },
  {
   "cell_type": "markdown",
   "id": "53d3715e37854645",
   "metadata": {},
   "source": [
    "(2) Find all programming languages used by the two programmers (union)"
   ]
  },
  {
   "cell_type": "code",
   "execution_count": 14,
   "id": "356fe316ca3b44e3",
   "metadata": {
    "ExecuteTime": {
     "end_time": "2023-09-13T08:12:15.001562Z",
     "start_time": "2023-09-13T08:12:14.992027Z"
    }
   },
   "outputs": [
    {
     "name": "stdout",
     "output_type": "stream",
     "text": [
      "{'C++', 'Excel', 'HTML', 'R', 'CSS', 'C#', 'Python', 'Matlab', 'SAS'}\n"
     ]
    }
   ],
   "source": [
    "print(A.union(B))"
   ]
  },
  {
   "cell_type": "markdown",
   "id": "3d69332ee5bea9aa",
   "metadata": {},
   "source": [
    "(3) A Find all programming languages that only programmers can use ( set difference )"
   ]
  },
  {
   "cell_type": "code",
   "execution_count": 15,
   "id": "c4035b6f7d7cd343",
   "metadata": {
    "ExecuteTime": {
     "end_time": "2023-09-13T08:12:16.120220Z",
     "start_time": "2023-09-13T08:12:16.113147Z"
    }
   },
   "outputs": [
    {
     "name": "stdout",
     "output_type": "stream",
     "text": [
      "Programmer A can use uniquely {'C#', 'Matlab', 'R', 'SAS'} and Programmer B can do uniquely {'C++', 'HTML', 'CSS'}.\n"
     ]
    }
   ],
   "source": [
    "print(f\"Programmer A can use uniquely {A.difference(B)} and Programmer B can do uniquely {B.difference(A)}.\")"
   ]
  },
  {
   "cell_type": "markdown",
   "id": "378ff32e363db049",
   "metadata": {},
   "source": [
    "#### Problem 4 \n",
    "\n",
    "[English test score] and [ English literature major] The data are as follows.\n",
    "\n",
    "| English test scores | Englist literature major |\n",
    "|---------------------|--------------------------|\n",
    "| 95                  | 0                        |\n",
    "| 97                  | 0                        |\n",
    "| 90                  | 1                        |\n",
    "| 97                  | 1                        |\n",
    "| 93                  | 1                        |\n",
    "| 85                  | 0                        |\n",
    "| 79                  | 0                        |\n",
    "| 89                  | 1                        |\n",
    "\n",
    "Here, if you majored in computer science, it is marked as 1, otherwise it is marked as 0."
   ]
  },
  {
   "cell_type": "markdown",
   "id": "45fb3c0d7d44a6f7",
   "metadata": {},
   "source": [
    "(1) Create a data frame using two variables"
   ]
  },
  {
   "cell_type": "code",
   "execution_count": 16,
   "id": "75196921cfece47d",
   "metadata": {
    "ExecuteTime": {
     "end_time": "2023-09-13T08:12:18.438730Z",
     "start_time": "2023-09-13T08:12:17.916886Z"
    }
   },
   "outputs": [
    {
     "name": "stdout",
     "output_type": "stream",
     "text": [
      "   English test scores  English literature major\n",
      "0                   95                         0\n",
      "1                   97                         0\n",
      "2                   90                         1\n",
      "3                   97                         1\n",
      "4                   93                         1\n",
      "5                   85                         0\n",
      "6                   79                         0\n",
      "7                   89                         1\n"
     ]
    }
   ],
   "source": [
    "import pandas as pd\n",
    "\n",
    "english = pd.DataFrame({\n",
    "    'English test scores' : [95,97,90,97,93,85,79,89],\n",
    "    'English literature major' : [0,0,1,1,1,0,0,1]\n",
    "});\n",
    "\n",
    "print(english)"
   ]
  },
  {
   "cell_type": "markdown",
   "id": "f72dec4bc7e1fcc6",
   "metadata": {},
   "source": [
    "(2) Calculate the average of the English test scores of the English major group and the non-major group, respectively. (Hint: use pandas )"
   ]
  },
  {
   "cell_type": "code",
   "execution_count": 17,
   "id": "95065557527eeecc",
   "metadata": {
    "ExecuteTime": {
     "end_time": "2023-09-13T08:12:19.238555Z",
     "start_time": "2023-09-13T08:12:19.228804Z"
    }
   },
   "outputs": [
    {
     "name": "stdout",
     "output_type": "stream",
     "text": [
      "Mean of major group is 92.25, another group's is 89.0\n"
     ]
    }
   ],
   "source": [
    "mean_major = english[english['English literature major'] == 1]['English test scores'].mean()\n",
    "mean_nonMajor = english[english['English literature major'] == 0]['English test scores'].mean()\n",
    "\n",
    "print(f'Mean of major group is {mean_major}, another group\\'s is {mean_nonMajor}')"
   ]
  },
  {
   "cell_type": "markdown",
   "id": "ea516c3a265c0a72",
   "metadata": {},
   "source": [
    "#### Problem 5\n",
    "\n",
    "Write an array according to the conditions given below and answer the questions. (hint: use numpy)\n",
    "Class V (7 students) and Class A (6 students) are given below.\n",
    "\n",
    "Class V : {96, 78, 88, 93, 90, 85, 78} , Class A: {99, 74, 97, 79, 89, 90}"
   ]
  },
  {
   "cell_type": "code",
   "execution_count": 18,
   "id": "d44cba6348144c71",
   "metadata": {
    "ExecuteTime": {
     "end_time": "2023-09-13T08:12:20.419893Z",
     "start_time": "2023-09-13T08:12:20.413759Z"
    }
   },
   "outputs": [],
   "source": [
    "import numpy as np\n",
    "\n",
    "ClassV = np.array([\n",
    "    96, 78, 88, 93, 90, 85, 78\n",
    "]);\n",
    "ClassA = np.array([\n",
    "    99, 74, 97, 79, 89, 90\n",
    "]);"
   ]
  },
  {
   "cell_type": "markdown",
   "id": "c2e5fc3d7ddb1975",
   "metadata": {},
   "source": [
    "(1) Write the English scores of the two classes in one array"
   ]
  },
  {
   "cell_type": "code",
   "execution_count": 19,
   "id": "40ae362ae18b8b1f",
   "metadata": {
    "ExecuteTime": {
     "end_time": "2023-09-13T08:12:21.252448Z",
     "start_time": "2023-09-13T08:12:21.245632Z"
    }
   },
   "outputs": [
    {
     "name": "stdout",
     "output_type": "stream",
     "text": [
      "[96 78 88 93 90 85 78 99 74 97 79 89 90]\n",
      "<class 'numpy.ndarray'>\n"
     ]
    }
   ],
   "source": [
    "EnglishScores = np.concatenate([ClassV, ClassA])\n",
    "print(EnglishScores)\n",
    "print(type(EnglishScores))"
   ]
  },
  {
   "cell_type": "markdown",
   "id": "4ea741f5a121251b",
   "metadata": {},
   "source": [
    "(2) Calculate the average of the English scores of both classes"
   ]
  },
  {
   "cell_type": "code",
   "execution_count": 20,
   "id": "b0fffb26d02e40d7",
   "metadata": {
    "ExecuteTime": {
     "end_time": "2023-09-13T08:12:22.153677Z",
     "start_time": "2023-09-13T08:12:22.139612Z"
    }
   },
   "outputs": [
    {
     "name": "stdout",
     "output_type": "stream",
     "text": [
      "The Average score of both classes is 87.38461538461539\n"
     ]
    }
   ],
   "source": [
    "meanOfBothClasses = EnglishScores.mean()\n",
    "print(f'The Average score of both classes is {meanOfBothClasses}')"
   ]
  },
  {
   "cell_type": "markdown",
   "id": "cdd40e16e60b378e",
   "metadata": {},
   "source": [
    "#### Problem 6\n",
    "\n",
    "Write a function that adds the numbers 1 to 10 and find the answer.\n",
    "( Hint: use def )"
   ]
  },
  {
   "cell_type": "code",
   "execution_count": 21,
   "id": "efc754fe75cc8831",
   "metadata": {
    "ExecuteTime": {
     "end_time": "2023-09-13T08:12:22.865690Z",
     "start_time": "2023-09-13T08:12:22.858896Z"
    }
   },
   "outputs": [
    {
     "name": "stdout",
     "output_type": "stream",
     "text": [
      "55\n"
     ]
    }
   ],
   "source": [
    "def addNums(start : int = 1, end : int = 10) -> int:\n",
    "    result = 0\n",
    "    for i in range(start, end + 1) : result += i;\n",
    "    return result\n",
    "\n",
    "def main() -> None : print(addNums());\n",
    "\n",
    "if __name__ == '__main__' : main();"
   ]
  },
  {
   "cell_type": "markdown",
   "id": "676294658639ea74",
   "metadata": {},
   "source": [
    "#### Problem 7\n",
    "\n",
    "Extract and sum only odd numbers from numbers 1 to 100 , I am trying to write a function that extracts and sums only even numbers as follows. Please answer the question\n",
    "\n",
    "(1 ) Fill in ? with appropriate values\n",
    "(2) Find the result of sum_num2(100)"
   ]
  },
  {
   "cell_type": "code",
   "execution_count": 22,
   "id": "654e8f81ed13f5d8",
   "metadata": {
    "ExecuteTime": {
     "end_time": "2023-09-13T08:12:24.354055Z",
     "start_time": "2023-09-13T08:12:24.327295Z"
    }
   },
   "outputs": [
    {
     "name": "stdout",
     "output_type": "stream",
     "text": [
      "(2550, 2500)\n"
     ]
    }
   ],
   "source": [
    "def sum_num2(n : int) -> int:\n",
    "    odd = 0\n",
    "    even = 0\n",
    "    for i in range(1, n+1) :\n",
    "        if i % 2 == 0 : even = even + i;\n",
    "        if i % 2 == 1 : odd = odd + i;\n",
    "    return even, odd\n",
    "\n",
    "def main() -> None : print(sum_num2(100));\n",
    "\n",
    "if __name__ == '__main__' : main();"
   ]
  }
 ],
 "metadata": {
  "kernelspec": {
   "display_name": "Python 3 (ipykernel)",
   "language": "python",
   "name": "python3"
  },
  "language_info": {
   "codemirror_mode": {
    "name": "ipython",
    "version": 3
   },
   "file_extension": ".py",
   "mimetype": "text/x-python",
   "name": "python",
   "nbconvert_exporter": "python",
   "pygments_lexer": "ipython3",
   "version": "3.11.4"
  }
 },
 "nbformat": 4,
 "nbformat_minor": 5
}
