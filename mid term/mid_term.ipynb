{
 "cells": [
  {
   "cell_type": "markdown",
   "id": "c4060c5a78b8100e",
   "metadata": {},
   "source": [
    "### Problem 1 - 6\n",
    "\n",
    "There are 7 crypto currency-related whitepaper txt files in whitepaper.zip. Create a folder, and locate these files in the folder.\n",
    "\n",
    "After carrying out the following data preprocessing procedures, answer the questions.\n",
    "\n",
    "**preprocessing** : use the same method introduced as a hint in homework#1 (2) at cyber campus.\n",
    "\n",
    "(i) Convert non-alphabetic characters to spaces\n",
    "(ii) convert to lower case\n",
    "(iii) Remove Stopwords (Using nltk's English stopwords)\n",
    "(iv) Stemming (using PorterStemmer())\n",
    "\n",
    "Here, include the following words in the English stopwords set in (iii) above.\n",
    "\n",
    "`words = {'use','user','used','white','one'}`"
   ]
  },
  {
   "cell_type": "code",
   "execution_count": 1,
   "id": "initial_id",
   "metadata": {
    "ExecuteTime": {
     "end_time": "2023-10-18T08:33:30.759435Z",
     "start_time": "2023-10-18T08:33:30.465251Z"
    },
    "collapsed": true
   },
   "outputs": [
    {
     "data": {
      "text/plain": [
       "['0015.txt',\n",
       " '0014.txt',\n",
       " '0071.txt',\n",
       " '0059.txt',\n",
       " '0098.txt',\n",
       " '0040.txt',\n",
       " '0033.txt']"
      ]
     },
     "execution_count": 1,
     "metadata": {},
     "output_type": "execute_result"
    }
   ],
   "source": [
    "import os\n",
    "\n",
    "path = '../Data/whitepaper'\n",
    "file_list = os.listdir(path)\n",
    "file_list_py = [file for file in file_list if file.endswith('.txt')]\n",
    "file_list_py"
   ]
  },
  {
   "cell_type": "code",
   "execution_count": 2,
   "id": "7935d06a4f4f9f8b",
   "metadata": {
    "ExecuteTime": {
     "end_time": "2023-10-18T08:33:30.827735Z",
     "start_time": "2023-10-18T08:33:30.470883Z"
    }
   },
   "outputs": [],
   "source": [
    "with open('../Data/whitepaper/whitefile.txt', 'wb') as outfile :\n",
    "    for file in file_list_py :\n",
    "        with open('../Data/whitepaper/' + file, 'rb') as infile : outfile.write(infile.read())"
   ]
  },
  {
   "cell_type": "code",
   "execution_count": 51,
   "id": "ccdd988e19474ab7",
   "metadata": {
    "ExecuteTime": {
     "end_time": "2023-10-18T08:46:50.183092Z",
     "start_time": "2023-10-18T08:46:50.167671Z"
    }
   },
   "outputs": [],
   "source": [
    "with open('../Data/whitepaper/whitefile.txt', 'rt', encoding = 'utf-8') as file: content = file.read()"
   ]
  },
  {
   "cell_type": "markdown",
   "id": "bdf44b4a956a717c",
   "metadata": {},
   "source": [
    "(i) convert non-alphabetic characteristic to spaces"
   ]
  },
  {
   "cell_type": "code",
   "execution_count": 53,
   "id": "9b17bf6c8d5da12c",
   "metadata": {
    "ExecuteTime": {
     "end_time": "2023-10-18T08:46:52.318971Z",
     "start_time": "2023-10-18T08:46:52.298441Z"
    }
   },
   "outputs": [],
   "source": [
    "import re\n",
    "content = content.replace('\\xa0', ' ').replace('\\n', ' ').replace('\\xad', ' ').replace('\\t', ' ').replace('\\u200b', '')\n",
    "content = re.sub(r'==.*?==+', '', content)\n",
    "content = re.sub('[^a-zA-Z]', ' ', content)"
   ]
  },
  {
   "cell_type": "markdown",
   "id": "77c20c56106d62c7",
   "metadata": {},
   "source": [
    "(ii) convert to lower case"
   ]
  },
  {
   "cell_type": "code",
   "execution_count": 55,
   "id": "f249fcb02d29abdf",
   "metadata": {
    "ExecuteTime": {
     "end_time": "2023-10-18T08:48:04.363230Z",
     "start_time": "2023-10-18T08:48:04.344876Z"
    }
   },
   "outputs": [],
   "source": [
    "content = content.lower().split()"
   ]
  },
  {
   "cell_type": "markdown",
   "id": "85eaded5179dbdd9",
   "metadata": {},
   "source": [
    "(iii) Remove Stopwords (Using nltk's English stopwords)"
   ]
  },
  {
   "cell_type": "code",
   "execution_count": 56,
   "id": "cd4fcad797ad6092",
   "metadata": {
    "ExecuteTime": {
     "end_time": "2023-10-18T08:48:05.086194Z",
     "start_time": "2023-10-18T08:48:05.047776Z"
    }
   },
   "outputs": [
    {
     "name": "stderr",
     "output_type": "stream",
     "text": [
      "[nltk_data] Downloading package stopwords to\n",
      "[nltk_data]     /Users/junghunlee/nltk_data...\n",
      "[nltk_data]   Package stopwords is already up-to-date!\n"
     ]
    }
   ],
   "source": [
    "import nltk\n",
    "nltk.download('stopwords')\n",
    "from nltk.corpus import stopwords"
   ]
  },
  {
   "cell_type": "code",
   "execution_count": 57,
   "id": "df4988f5d6314787",
   "metadata": {
    "ExecuteTime": {
     "end_time": "2023-10-18T08:48:05.763669Z",
     "start_time": "2023-10-18T08:48:05.748927Z"
    }
   },
   "outputs": [],
   "source": [
    "stops = set(stopwords.words('english'))"
   ]
  },
  {
   "cell_type": "code",
   "execution_count": 58,
   "id": "e654cf21c489804c",
   "metadata": {
    "ExecuteTime": {
     "end_time": "2023-10-18T08:48:06.269338Z",
     "start_time": "2023-10-18T08:48:06.254722Z"
    }
   },
   "outputs": [],
   "source": [
    "stops = stops.union(set(['use','user','used','white','one'])) # stopword 추가"
   ]
  },
  {
   "cell_type": "code",
   "execution_count": 59,
   "id": "45a8cfa5d6d100c9",
   "metadata": {
    "ExecuteTime": {
     "end_time": "2023-10-18T08:48:06.626503Z",
     "start_time": "2023-10-18T08:48:06.606009Z"
    }
   },
   "outputs": [],
   "source": [
    "meaningful_words = [word for word in content if not word in stops] # 의미 있는 단어만 추출"
   ]
  },
  {
   "cell_type": "markdown",
   "id": "72311994f7b0c4a5",
   "metadata": {},
   "source": [
    "(iv) Stem extraction (using `PorterStemmer()`)"
   ]
  },
  {
   "cell_type": "code",
   "execution_count": 60,
   "id": "240f32d0f8160a5b",
   "metadata": {
    "ExecuteTime": {
     "end_time": "2023-10-18T08:48:07.543056Z",
     "start_time": "2023-10-18T08:48:07.411142Z"
    }
   },
   "outputs": [],
   "source": [
    "from nltk.stem import PorterStemmer\n",
    "ps = PorterStemmer()\n",
    "stemming_words = [ps.stem(word) for word in meaningful_words]"
   ]
  },
  {
   "cell_type": "code",
   "execution_count": 61,
   "id": "33c690a2ad98f19a",
   "metadata": {
    "ExecuteTime": {
     "end_time": "2023-10-18T08:48:08.983018Z",
     "start_time": "2023-10-18T08:48:08.961877Z"
    }
   },
   "outputs": [
    {
     "name": "stdout",
     "output_type": "stream",
     "text": [
      "oct hack ether camp virtual acceler abstract goal creat ideal innov environ startup utilis blockchain \n"
     ]
    }
   ],
   "source": [
    "combined = ' '.join(stemming_words)\n",
    "print(combined[:102])"
   ]
  },
  {
   "cell_type": "markdown",
   "id": "fc1ab5404089203c",
   "metadata": {},
   "source": [
    "#### Problem 1.\n",
    "\n",
    "How many times does a 2-gram word 'open api' appear?"
   ]
  },
  {
   "cell_type": "code",
   "execution_count": 62,
   "id": "851a6c2b89cb1936",
   "metadata": {
    "ExecuteTime": {
     "end_time": "2023-10-18T08:48:10.592018Z",
     "start_time": "2023-10-18T08:48:10.575256Z"
    }
   },
   "outputs": [
    {
     "name": "stderr",
     "output_type": "stream",
     "text": [
      "[nltk_data] Downloading package punkt to\n",
      "[nltk_data]     /Users/junghunlee/nltk_data...\n",
      "[nltk_data]   Package punkt is already up-to-date!\n"
     ]
    },
    {
     "data": {
      "text/plain": [
       "True"
      ]
     },
     "execution_count": 62,
     "metadata": {},
     "output_type": "execute_result"
    }
   ],
   "source": [
    "nltk.download('punkt')"
   ]
  },
  {
   "cell_type": "code",
   "execution_count": 63,
   "id": "9a16ee7def091d11",
   "metadata": {
    "ExecuteTime": {
     "end_time": "2023-10-18T08:48:11.082824Z",
     "start_time": "2023-10-18T08:48:11.078501Z"
    }
   },
   "outputs": [],
   "source": [
    "from nltk.tokenize import word_tokenize \n",
    "from nltk.util import ngrams\n",
    "\n",
    "def get_ngrams(text : str, nums : int) -> list :\n",
    "    n_grams = ngrams(word_tokenize(text), nums)\n",
    "    out = [' '.join(grams) for grams in n_grams]\n",
    "    return out\n",
    "\n",
    "n_gram = get_ngrams(combined, 2)"
   ]
  },
  {
   "cell_type": "code",
   "execution_count": 64,
   "id": "89088178826e7354",
   "metadata": {
    "ExecuteTime": {
     "end_time": "2023-10-18T08:48:11.771460Z",
     "start_time": "2023-10-18T08:48:11.752533Z"
    }
   },
   "outputs": [
    {
     "data": {
      "text/plain": [
       "2"
      ]
     },
     "execution_count": 64,
     "metadata": {},
     "output_type": "execute_result"
    }
   ],
   "source": [
    "n_gram.count('open api')"
   ]
  },
  {
   "cell_type": "markdown",
   "id": "e7840ca8fbdd7353",
   "metadata": {},
   "source": [
    "#### Problem 2\n",
    "\n",
    "How many unique stopwords are there?"
   ]
  },
  {
   "cell_type": "code",
   "execution_count": 65,
   "id": "8d071b78b3591ada",
   "metadata": {
    "ExecuteTime": {
     "end_time": "2023-10-18T08:48:13.040006Z",
     "start_time": "2023-10-18T08:48:13.013896Z"
    }
   },
   "outputs": [
    {
     "data": {
      "text/plain": [
       "184"
      ]
     },
     "execution_count": 65,
     "metadata": {},
     "output_type": "execute_result"
    }
   ],
   "source": [
    "len(stops)"
   ]
  },
  {
   "cell_type": "markdown",
   "id": "26912ad4fe42fe6e",
   "metadata": {},
   "source": [
    "#### Problem 3\n",
    "\n",
    "What is the word that most frequently appear?"
   ]
  },
  {
   "cell_type": "code",
   "execution_count": 66,
   "id": "fc102461020e4eb3",
   "metadata": {
    "ExecuteTime": {
     "end_time": "2023-10-18T08:48:21.450270Z",
     "start_time": "2023-10-18T08:48:21.422862Z"
    }
   },
   "outputs": [
    {
     "name": "stdout",
     "output_type": "stream",
     "text": [
      "The third most frequent word is \"token\" and its frequency is 265\n"
     ]
    }
   ],
   "source": [
    "from collections import Counter\n",
    "first_word, freq = Counter(stemming_words).most_common(10)[0]\n",
    "print(f'The third most frequent word is \"{first_word}\" and its frequency is {freq}')"
   ]
  },
  {
   "cell_type": "code",
   "execution_count": 67,
   "id": "ee9766b0838344e2",
   "metadata": {
    "ExecuteTime": {
     "end_time": "2023-10-18T08:48:23.697958Z",
     "start_time": "2023-10-18T08:48:23.668208Z"
    }
   },
   "outputs": [
    {
     "data": {
      "text/plain": [
       "[('token', 265),\n",
       " ('contract', 105),\n",
       " ('blockchain', 98),\n",
       " ('asset', 96),\n",
       " ('vote', 89),\n",
       " ('platform', 87),\n",
       " ('project', 77),\n",
       " ('develop', 76),\n",
       " ('fund', 75),\n",
       " ('market', 74)]"
      ]
     },
     "execution_count": 67,
     "metadata": {},
     "output_type": "execute_result"
    }
   ],
   "source": [
    "Counter(stemming_words).most_common(10)"
   ]
  },
  {
   "cell_type": "markdown",
   "id": "1a62138a3d778ea",
   "metadata": {},
   "source": [
    "#### Problem 4\n",
    "\n",
    "Whar is the most frequently appearing 2-gram words?\n",
    "\n",
    "(Write only 2 words with a single space w/o quotation marks)"
   ]
  },
  {
   "cell_type": "code",
   "execution_count": 68,
   "id": "b400f19a399bf317",
   "metadata": {
    "ExecuteTime": {
     "end_time": "2023-10-18T08:48:27.425161Z",
     "start_time": "2023-10-18T08:48:27.400349Z"
    }
   },
   "outputs": [],
   "source": [
    "freq_words = Counter(n_gram).most_common(20)\n",
    "keywords = [key[0] for key in freq_words]\n",
    "freq = [freq[1] for freq in freq_words]"
   ]
  },
  {
   "cell_type": "code",
   "execution_count": 69,
   "id": "9cb1361ad7c8b96d",
   "metadata": {
    "ExecuteTime": {
     "end_time": "2023-10-18T08:48:32.887164Z",
     "start_time": "2023-10-18T08:48:32.865487Z"
    }
   },
   "outputs": [
    {
     "data": {
      "text/plain": [
       "[('smart contract', 60),\n",
       " ('token holder', 32),\n",
       " ('ether camp', 29),\n",
       " ('pat protocol', 29),\n",
       " ('adchain registri', 26),\n",
       " ('underli asset', 24),\n",
       " ('blockchain technolog', 19),\n",
       " ('kibo whitepap', 17),\n",
       " ('control token', 16),\n",
       " ('onplac inc', 16),\n",
       " ('inc pat', 16),\n",
       " ('protocol version', 16),\n",
       " ('header bid', 15),\n",
       " ('privat compani', 15),\n",
       " ('virtual acceler', 14),\n",
       " ('earli adopt', 13),\n",
       " ('peer peer', 12),\n",
       " ('suppli chain', 12),\n",
       " ('bid request', 12),\n",
       " ('world readi', 12)]"
      ]
     },
     "execution_count": 69,
     "metadata": {},
     "output_type": "execute_result"
    }
   ],
   "source": [
    "freq_words"
   ]
  },
  {
   "cell_type": "code",
   "execution_count": 70,
   "id": "f2ba2b7c6c7d8920",
   "metadata": {
    "ExecuteTime": {
     "end_time": "2023-10-18T08:48:37.955661Z",
     "start_time": "2023-10-18T08:48:37.851526Z"
    }
   },
   "outputs": [
    {
     "data": {
      "image/png": "[encoded data removed]",
      "text/plain": [
       "<Figure size 1000x400 with 1 Axes>"
      ]
     },
     "metadata": {},
     "output_type": "display_data"
    }
   ],
   "source": [
    "import matplotlib.pyplot as plt\n",
    "def plot_word_freq(keywords : list, freq : list) -> None :\n",
    "    plt.figure(figsize = (10, 4))\n",
    "    plt.bar(keywords, freq, color = 'navy', alpha = .5)\n",
    "    plt.xlabel('words', fontfamily = 'Serif')\n",
    "    plt.ylabel('freqency', fontfamily = 'Serif')\n",
    "    plt.xticks(rotation = 90)\n",
    "    plt.title('word - frequency relationship', fontsize = 12, fontfamily = 'Serif')\n",
    "    plt.show()\n",
    "    \n",
    "def main() -> None : plot_word_freq(keywords, freq)\n",
    "\n",
    "if __name__ == '__main__' : main();"
   ]
  },
  {
   "cell_type": "markdown",
   "id": "1c136da7ef1df554",
   "metadata": {},
   "source": [
    "#### Problem 5\n",
    "\n",
    "How many times does a word 'bitcoin' appear?"
   ]
  },
  {
   "cell_type": "code",
   "execution_count": 71,
   "id": "17413943fcdd1288",
   "metadata": {
    "ExecuteTime": {
     "end_time": "2023-10-18T08:48:41.012901Z",
     "start_time": "2023-10-18T08:48:40.995817Z"
    }
   },
   "outputs": [
    {
     "name": "stdout",
     "output_type": "stream",
     "text": [
      "The word 'bitcoin' is appeared 21 times\n"
     ]
    }
   ],
   "source": [
    "print(f'The word \\'bitcoin\\' is appeared {combined.split().count(\"bitcoin\")} times')"
   ]
  },
  {
   "cell_type": "markdown",
   "id": "3f37239be86bc5dc",
   "metadata": {},
   "source": [
    "#### Problem 6\n",
    "\n",
    "How many stemming words are there?"
   ]
  },
  {
   "cell_type": "code",
   "execution_count": 72,
   "id": "d6b4dd7490741b6b",
   "metadata": {
    "ExecuteTime": {
     "end_time": "2023-10-18T08:48:50.924744Z",
     "start_time": "2023-10-18T08:48:50.912993Z"
    }
   },
   "outputs": [
    {
     "name": "stdout",
     "output_type": "stream",
     "text": [
      "It can obtain 2575 words when duplicates are removed\n"
     ]
    }
   ],
   "source": [
    "print(f'It can obtain {len(set(stemming_words))} words when duplicates are removed')"
   ]
  },
  {
   "cell_type": "markdown",
   "id": "3d582a3bd7bcbd0a",
   "metadata": {},
   "source": [
    "### Problem 7 ~ 10\n",
    "\n",
    "IMDB Top 250 movies\n",
    "\n",
    "We want to analyze IMDB top 250 movies. Create a data frame containing the variables below while doing necessary preprocessing, such as removing dots or parentheses (Use the Preprocessing method introduced in *Homework 2* hint at cyber campus), and then answer the question.\n",
    "\n",
    "Variables : title, year, runtime, director, stars, rating\n",
    "\n",
    "Here stars are included up to 4th persons per movie."
   ]
  },
  {
   "cell_type": "code",
   "execution_count": 23,
   "id": "3c0ba9c3620a8c95",
   "metadata": {
    "ExecuteTime": {
     "end_time": "2023-10-18T08:33:40.444343Z",
     "start_time": "2023-10-18T08:33:31.991873Z"
    }
   },
   "outputs": [],
   "source": [
    "import requests\n",
    "from bs4 import BeautifulSoup\n",
    "import re\n",
    "import urllib.request\n",
    "\n",
    "rank_list = []\n",
    "title_list = []\n",
    "year_list = []\n",
    "runtime_list = []\n",
    "genre_list = []\n",
    "director_list = []\n",
    "actor_list = []\n",
    "rating_list = []\n",
    "vote_list = []\n",
    "\n",
    "url_list = ['https://www.imdb.com/search/title/?groups=top_250&sort=user_rating',\n",
    "            'https://www.imdb.com/search/title/?groups=top_250&sort=user_rating,desc&start=51&ref_=adv_nxt',\n",
    "            'https://www.imdb.com/search/title/?groups=top_250&sort=user_rating,desc&start=101&ref_=adv_nxt',\n",
    "            'https://www.imdb.com/search/title/?groups=top_250&sort=user_rating,desc&start=151&ref_=adv_nxt',\n",
    "            'https://www.imdb.com/search/title/?groups=top_250&sort=user_rating,desc&start=201&ref_=adv_nxt']\n",
    "\n",
    "for u in url_list:\n",
    "    url = u\n",
    "    req = urllib.request.Request(url)\n",
    "    html = urllib.request.urlopen(req)\n",
    "    soup = BeautifulSoup(html, 'html.parser')\n",
    "    \n",
    "    rank = soup.find_all('span',{'class':'lister-item-index unbold text-primary'})\n",
    "    for n in rank:\n",
    "        rank_list.append(n.text.strip('.'))\n",
    "        \n",
    "    title = soup.find_all('h3',{'class':'lister-item-header'})\n",
    "    for n in title:\n",
    "        title_list.append(n.find('a').text)\n",
    "        \n",
    "    year = soup.find_all('span',{'class':'lister-item-year text-muted unbold'})\n",
    "    for n in year:\n",
    "        year_list.append(n.text[-5:-1])\n",
    "        \n",
    "    runtime = soup.find_all('span',{'class':'runtime'})\n",
    "    for n in runtime:\n",
    "        runtime_list.append(int(n.text[0:n.text.index('min')-1]))\n",
    "        \n",
    "    genre = soup.find_all('span',{'class':'genre'})\n",
    "    for n in genre:\n",
    "        genre_list.append(n.text.strip('\\n '))\n",
    "        \n",
    "    director = soup.find_all('p',{'class':''})\n",
    "    for n in director:\n",
    "        director_list.append(n.find_all('a')[:-4])\n",
    "        \n",
    "    actor = soup.find_all('p',{'class':''})\n",
    "    for n in actor:\n",
    "        actor_list.append(n.find_all('a')[-4:])\n",
    "        \n",
    "    rating = soup.find_all('div',{'class':'inline-block ratings-imdb-rating'})\n",
    "    for n in rating:\n",
    "        rating_list.append(float(n.find('strong').text))\n",
    "    \n",
    "    vote_gross = soup.find_all('p',{'class':'sort-num_votes-visible'})\n",
    "    for n in vote_gross:\n",
    "        vote_list.append(int(re.sub(',', '', n.find_all('span',{'name':'nv'})[0]['data-value'])))\n",
    "\n",
    "\n",
    "for i in range(len(director_list)):\n",
    "    for j in range(len(director_list[i])):\n",
    "        director_list[i][j] = director_list[i][j].text        \n",
    "         \n",
    "for i in range(len(actor_list)):\n",
    "    for j in range(len(actor_list[i])):\n",
    "        actor_list[i][j] = actor_list[i][j].text"
   ]
  },
  {
   "cell_type": "code",
   "execution_count": 24,
   "id": "248b69f2bcd4f1b5",
   "metadata": {
    "ExecuteTime": {
     "end_time": "2023-10-18T08:33:40.746252Z",
     "start_time": "2023-10-18T08:33:40.445451Z"
    }
   },
   "outputs": [
    {
     "data": {
      "text/html": [
       "<div>\n",
       "<style scoped>\n",
       "    .dataframe tbody tr th:only-of-type {\n",
       "        vertical-align: middle;\n",
       "    }\n",
       "\n",
       "    .dataframe tbody tr th {\n",
       "        vertical-align: top;\n",
       "    }\n",
       "\n",
       "    .dataframe thead th {\n",
       "        text-align: right;\n",
       "    }\n",
       "</style>\n",
       "<table border=\"1\" class=\"dataframe\">\n",
       "  <thead>\n",
       "    <tr style=\"text-align: right;\">\n",
       "      <th></th>\n",
       "      <th>title</th>\n",
       "      <th>year</th>\n",
       "      <th>runtime</th>\n",
       "      <th>genre</th>\n",
       "      <th>director</th>\n",
       "      <th>actor</th>\n",
       "      <th>rating</th>\n",
       "      <th>vote</th>\n",
       "    </tr>\n",
       "  </thead>\n",
       "  <tbody>\n",
       "    <tr>\n",
       "      <th>1</th>\n",
       "      <td>쇼생크 탈출</td>\n",
       "      <td>1994</td>\n",
       "      <td>142</td>\n",
       "      <td>Drama</td>\n",
       "      <td>[Frank Darabont]</td>\n",
       "      <td>[Tim Robbins, Morgan Freeman, Bob Gunton, Will...</td>\n",
       "      <td>9.3</td>\n",
       "      <td>2809207</td>\n",
       "    </tr>\n",
       "    <tr>\n",
       "      <th>2</th>\n",
       "      <td>Daeboo</td>\n",
       "      <td>1972</td>\n",
       "      <td>175</td>\n",
       "      <td>Crime, Drama</td>\n",
       "      <td>[Francis Ford Coppola]</td>\n",
       "      <td>[Marlon Brando, Al Pacino, James Caan, Diane K...</td>\n",
       "      <td>9.2</td>\n",
       "      <td>1957640</td>\n",
       "    </tr>\n",
       "    <tr>\n",
       "      <th>3</th>\n",
       "      <td>다크 나이트</td>\n",
       "      <td>2008</td>\n",
       "      <td>152</td>\n",
       "      <td>Action, Crime, Drama</td>\n",
       "      <td>[Christopher Nolan]</td>\n",
       "      <td>[Christian Bale, Heath Ledger, Aaron Eckhart, ...</td>\n",
       "      <td>9.0</td>\n",
       "      <td>2790876</td>\n",
       "    </tr>\n",
       "    <tr>\n",
       "      <th>4</th>\n",
       "      <td>쉰들러 리스트</td>\n",
       "      <td>1993</td>\n",
       "      <td>195</td>\n",
       "      <td>Biography, Drama, History</td>\n",
       "      <td>[Steven Spielberg]</td>\n",
       "      <td>[Liam Neeson, Ralph Fiennes, Ben Kingsley, Car...</td>\n",
       "      <td>9.0</td>\n",
       "      <td>1412171</td>\n",
       "    </tr>\n",
       "    <tr>\n",
       "      <th>5</th>\n",
       "      <td>반지의 제왕: 왕의 귀환</td>\n",
       "      <td>2003</td>\n",
       "      <td>201</td>\n",
       "      <td>Action, Adventure, Drama</td>\n",
       "      <td>[Peter Jackson]</td>\n",
       "      <td>[Elijah Wood, Viggo Mortensen, Ian McKellen, O...</td>\n",
       "      <td>9.0</td>\n",
       "      <td>1923078</td>\n",
       "    </tr>\n",
       "    <tr>\n",
       "      <th>...</th>\n",
       "      <td>...</td>\n",
       "      <td>...</td>\n",
       "      <td>...</td>\n",
       "      <td>...</td>\n",
       "      <td>...</td>\n",
       "      <td>...</td>\n",
       "      <td>...</td>\n",
       "      <td>...</td>\n",
       "    </tr>\n",
       "    <tr>\n",
       "      <th>246</th>\n",
       "      <td>The Incredibles</td>\n",
       "      <td>2004</td>\n",
       "      <td>115</td>\n",
       "      <td>Animation, Action, Adventure</td>\n",
       "      <td>[Brad Bird]</td>\n",
       "      <td>[Craig T. Nelson, Samuel L. Jackson, Holly Hun...</td>\n",
       "      <td>8.0</td>\n",
       "      <td>782045</td>\n",
       "    </tr>\n",
       "    <tr>\n",
       "      <th>247</th>\n",
       "      <td>Dances with Wolves</td>\n",
       "      <td>1990</td>\n",
       "      <td>181</td>\n",
       "      <td>Adventure, Drama, Western</td>\n",
       "      <td>[Kevin Costner]</td>\n",
       "      <td>[Kevin Costner, Mary McDonnell, Graham Greene,...</td>\n",
       "      <td>8.0</td>\n",
       "      <td>282408</td>\n",
       "    </tr>\n",
       "    <tr>\n",
       "      <th>248</th>\n",
       "      <td>알라딘</td>\n",
       "      <td>1992</td>\n",
       "      <td>90</td>\n",
       "      <td>Animation, Adventure, Comedy</td>\n",
       "      <td>[Ron Clements, John Musker]</td>\n",
       "      <td>[Scott Weinger, Robin Williams, Linda Larkin, ...</td>\n",
       "      <td>8.0</td>\n",
       "      <td>450521</td>\n",
       "    </tr>\n",
       "    <tr>\n",
       "      <th>249</th>\n",
       "      <td>사랑의 블랙홀</td>\n",
       "      <td>1993</td>\n",
       "      <td>101</td>\n",
       "      <td>Comedy, Drama, Fantasy</td>\n",
       "      <td>[Harold Ramis]</td>\n",
       "      <td>[Bill Murray, Andie MacDowell, Chris Elliott, ...</td>\n",
       "      <td>8.0</td>\n",
       "      <td>664497</td>\n",
       "    </tr>\n",
       "    <tr>\n",
       "      <th>250</th>\n",
       "      <td>Life of Brian</td>\n",
       "      <td>1979</td>\n",
       "      <td>94</td>\n",
       "      <td>Comedy</td>\n",
       "      <td>[Terry Jones]</td>\n",
       "      <td>[Graham Chapman, John Cleese, Michael Palin, T...</td>\n",
       "      <td>8.0</td>\n",
       "      <td>415517</td>\n",
       "    </tr>\n",
       "  </tbody>\n",
       "</table>\n",
       "<p>250 rows × 8 columns</p>\n",
       "</div>"
      ],
      "text/plain": [
       "                  title  year runtime                         genre  \\\n",
       "1                쇼생크 탈출  1994     142                         Drama   \n",
       "2                Daeboo  1972     175                  Crime, Drama   \n",
       "3                다크 나이트  2008     152          Action, Crime, Drama   \n",
       "4               쉰들러 리스트  1993     195     Biography, Drama, History   \n",
       "5         반지의 제왕: 왕의 귀환  2003     201      Action, Adventure, Drama   \n",
       "..                  ...   ...     ...                           ...   \n",
       "246     The Incredibles  2004     115  Animation, Action, Adventure   \n",
       "247  Dances with Wolves  1990     181     Adventure, Drama, Western   \n",
       "248                 알라딘  1992      90  Animation, Adventure, Comedy   \n",
       "249             사랑의 블랙홀  1993     101        Comedy, Drama, Fantasy   \n",
       "250       Life of Brian  1979      94                        Comedy   \n",
       "\n",
       "                        director  \\\n",
       "1               [Frank Darabont]   \n",
       "2         [Francis Ford Coppola]   \n",
       "3            [Christopher Nolan]   \n",
       "4             [Steven Spielberg]   \n",
       "5                [Peter Jackson]   \n",
       "..                           ...   \n",
       "246                  [Brad Bird]   \n",
       "247              [Kevin Costner]   \n",
       "248  [Ron Clements, John Musker]   \n",
       "249               [Harold Ramis]   \n",
       "250                [Terry Jones]   \n",
       "\n",
       "                                                 actor rating     vote  \n",
       "1    [Tim Robbins, Morgan Freeman, Bob Gunton, Will...    9.3  2809207  \n",
       "2    [Marlon Brando, Al Pacino, James Caan, Diane K...    9.2  1957640  \n",
       "3    [Christian Bale, Heath Ledger, Aaron Eckhart, ...    9.0  2790876  \n",
       "4    [Liam Neeson, Ralph Fiennes, Ben Kingsley, Car...    9.0  1412171  \n",
       "5    [Elijah Wood, Viggo Mortensen, Ian McKellen, O...    9.0  1923078  \n",
       "..                                                 ...    ...      ...  \n",
       "246  [Craig T. Nelson, Samuel L. Jackson, Holly Hun...    8.0   782045  \n",
       "247  [Kevin Costner, Mary McDonnell, Graham Greene,...    8.0   282408  \n",
       "248  [Scott Weinger, Robin Williams, Linda Larkin, ...    8.0   450521  \n",
       "249  [Bill Murray, Andie MacDowell, Chris Elliott, ...    8.0   664497  \n",
       "250  [Graham Chapman, John Cleese, Michael Palin, T...    8.0   415517  \n",
       "\n",
       "[250 rows x 8 columns]"
      ]
     },
     "execution_count": 24,
     "metadata": {},
     "output_type": "execute_result"
    }
   ],
   "source": [
    "import pandas as pd\n",
    "data = pd.DataFrame([title_list, year_list, runtime_list, genre_list, \n",
    "                    director_list, actor_list, rating_list, vote_list],\n",
    "                    index = ['title','year','runtime','genre','director','actor','rating','vote'],\n",
    "                    columns = rank_list).T\n",
    "data"
   ]
  },
  {
   "cell_type": "markdown",
   "id": "851fab92f52f9452",
   "metadata": {},
   "source": [
    "#### Problem 7\n",
    "\n",
    "How many times did a star 'Tom Cruise' appear in the IMDB top 250 movies?"
   ]
  },
  {
   "cell_type": "code",
   "execution_count": 77,
   "id": "fba4f921147861a4",
   "metadata": {
    "ExecuteTime": {
     "end_time": "2023-10-18T08:50:07.891775Z",
     "start_time": "2023-10-18T08:50:07.851920Z"
    }
   },
   "outputs": [],
   "source": [
    "star = []\n",
    "for i in data.actor.values :\n",
    "    for j in i :\n",
    "        star.append(j)"
   ]
  },
  {
   "cell_type": "code",
   "execution_count": 81,
   "id": "82e1c4561ccd1acc",
   "metadata": {
    "ExecuteTime": {
     "end_time": "2023-10-18T08:50:54.654302Z",
     "start_time": "2023-10-18T08:50:54.613253Z"
    }
   },
   "outputs": [
    {
     "data": {
      "text/plain": [
       "1"
      ]
     },
     "execution_count": 81,
     "metadata": {},
     "output_type": "execute_result"
    }
   ],
   "source": [
    "star.count('Tom Cruise')"
   ]
  },
  {
   "cell_type": "markdown",
   "id": "b56544d7a23592c8",
   "metadata": {},
   "source": [
    "#### Problem 8\n",
    "\n",
    "What is the average rating of a director 'Christopher Nolan'?"
   ]
  },
  {
   "cell_type": "code",
   "execution_count": 27,
   "id": "38cd7194e881cc5e",
   "metadata": {
    "ExecuteTime": {
     "end_time": "2023-10-18T08:34:14.211757Z",
     "start_time": "2023-10-18T08:33:40.751140Z"
    }
   },
   "outputs": [],
   "source": [
    "import requests\n",
    "from bs4 import BeautifulSoup\n",
    "import re\n",
    "\n",
    "url1 = 'https://www.imdb.com/search/title/?groups=top_250&sort=user_rating,desc&ref_=adv_prv'\n",
    "url2 = 'https://www.imdb.com/search/title/?groups=top_250&sort=user_rating,desc&start=51&ref_=adv_nxt'\n",
    "url3 = 'https://www.imdb.com/search/title/?groups=top_250&sort=user_rating,desc&start=101&ref_=adv_nxt'\n",
    "url4 = 'https://www.imdb.com/search/title/?groups=top_250&sort=user_rating,desc&start=151&ref_=adv_nxt'\n",
    "url5 = 'https://www.imdb.com/search/title/?groups=top_250&sort=user_rating,desc&start=201&ref_=adv_nxt'\n",
    "url_list = [url1, url2, url3, url4, url5]\n",
    "\n",
    "rank_list = []\n",
    "title_list = []\n",
    "year_list = []\n",
    "runtime_list = []\n",
    "genre_list = []\n",
    "director_list = []\n",
    "rating_list = []\n",
    "\n",
    "for url_i in url_list:\n",
    "  url = url_i\n",
    "  req = requests.get(url)\n",
    "  html = req.text\n",
    "  soup = BeautifulSoup(html, \"html.parser\")\n",
    "\n",
    "  for i in range(0,50):\n",
    "    rank = re.sub('\\.', '', soup.select(\".lister-item-index\")[i].text)\n",
    "    title = soup.select(\".lister-item-header > a\")[i].text\n",
    "    year = re.sub('\\(|\\)', '', soup.select(\".lister-item-year\")[i].text)\n",
    "    runtime = float(re.sub('min', ' ', soup.select(\".runtime\")[i].text))\n",
    "    genre = re.sub('\\\\n', '', soup.select(\".genre\")[i].text)\n",
    "    director = soup.select(\"p > a:nth-of-type(1)\")[i].text\n",
    "    rating = float(soup.select(\".inline-block > strong\")[i].text)\n",
    "    rank_list.append(rank)\n",
    "    title_list.append(title)\n",
    "    year_list.append(year)\n",
    "    runtime_list.append(runtime)\n",
    "    genre_list.append(genre)\n",
    "    director_list.append(director)\n",
    "    rating_list.append(rating)\n",
    "    # print(i)"
   ]
  },
  {
   "cell_type": "code",
   "execution_count": 28,
   "id": "89c2d035565414e8",
   "metadata": {
    "ExecuteTime": {
     "end_time": "2023-10-18T08:34:14.215854Z",
     "start_time": "2023-10-18T08:34:14.212093Z"
    }
   },
   "outputs": [],
   "source": [
    "year_clean = [i.replace('I ','') for i in year_list]"
   ]
  },
  {
   "cell_type": "code",
   "execution_count": 29,
   "id": "c9acc4665e90df72",
   "metadata": {
    "ExecuteTime": {
     "end_time": "2023-10-18T08:34:14.223678Z",
     "start_time": "2023-10-18T08:34:14.219297Z"
    }
   },
   "outputs": [
    {
     "data": {
      "text/html": [
       "<div>\n",
       "<style scoped>\n",
       "    .dataframe tbody tr th:only-of-type {\n",
       "        vertical-align: middle;\n",
       "    }\n",
       "\n",
       "    .dataframe tbody tr th {\n",
       "        vertical-align: top;\n",
       "    }\n",
       "\n",
       "    .dataframe thead th {\n",
       "        text-align: right;\n",
       "    }\n",
       "</style>\n",
       "<table border=\"1\" class=\"dataframe\">\n",
       "  <thead>\n",
       "    <tr style=\"text-align: right;\">\n",
       "      <th></th>\n",
       "      <th>title</th>\n",
       "      <th>rank</th>\n",
       "      <th>runtime</th>\n",
       "      <th>genre</th>\n",
       "      <th>director</th>\n",
       "      <th>rating</th>\n",
       "    </tr>\n",
       "  </thead>\n",
       "  <tbody>\n",
       "    <tr>\n",
       "      <th>1994</th>\n",
       "      <td>쇼생크 탈출</td>\n",
       "      <td>1</td>\n",
       "      <td>142.0</td>\n",
       "      <td>Drama</td>\n",
       "      <td>Frank Darabont</td>\n",
       "      <td>9.3</td>\n",
       "    </tr>\n",
       "    <tr>\n",
       "      <th>1972</th>\n",
       "      <td>Daeboo</td>\n",
       "      <td>2</td>\n",
       "      <td>175.0</td>\n",
       "      <td>Crime, Drama</td>\n",
       "      <td>Francis Ford Coppola</td>\n",
       "      <td>9.2</td>\n",
       "    </tr>\n",
       "    <tr>\n",
       "      <th>2008</th>\n",
       "      <td>다크 나이트</td>\n",
       "      <td>3</td>\n",
       "      <td>152.0</td>\n",
       "      <td>Action, Crime, Drama</td>\n",
       "      <td>Christopher Nolan</td>\n",
       "      <td>9.0</td>\n",
       "    </tr>\n",
       "    <tr>\n",
       "      <th>1993</th>\n",
       "      <td>쉰들러 리스트</td>\n",
       "      <td>4</td>\n",
       "      <td>195.0</td>\n",
       "      <td>Biography, Drama, History</td>\n",
       "      <td>Oskar Schindler</td>\n",
       "      <td>9.0</td>\n",
       "    </tr>\n",
       "    <tr>\n",
       "      <th>2003</th>\n",
       "      <td>반지의 제왕: 왕의 귀환</td>\n",
       "      <td>5</td>\n",
       "      <td>201.0</td>\n",
       "      <td>Action, Adventure, Drama</td>\n",
       "      <td>Steven Spielberg</td>\n",
       "      <td>9.0</td>\n",
       "    </tr>\n",
       "    <tr>\n",
       "      <th>...</th>\n",
       "      <td>...</td>\n",
       "      <td>...</td>\n",
       "      <td>...</td>\n",
       "      <td>...</td>\n",
       "      <td>...</td>\n",
       "      <td>...</td>\n",
       "    </tr>\n",
       "    <tr>\n",
       "      <th>2004</th>\n",
       "      <td>The Incredibles</td>\n",
       "      <td>246</td>\n",
       "      <td>115.0</td>\n",
       "      <td>Animation, Action, Adventure</td>\n",
       "      <td>Carl Theodor Dreyer</td>\n",
       "      <td>8.0</td>\n",
       "    </tr>\n",
       "    <tr>\n",
       "      <th>1990</th>\n",
       "      <td>Dances with Wolves</td>\n",
       "      <td>247</td>\n",
       "      <td>181.0</td>\n",
       "      <td>Adventure, Drama, Western</td>\n",
       "      <td>Frank Capra</td>\n",
       "      <td>8.0</td>\n",
       "    </tr>\n",
       "    <tr>\n",
       "      <th>1992</th>\n",
       "      <td>알라딘</td>\n",
       "      <td>248</td>\n",
       "      <td>90.0</td>\n",
       "      <td>Animation, Adventure, Comedy</td>\n",
       "      <td>Clyde Bruckman</td>\n",
       "      <td>8.0</td>\n",
       "    </tr>\n",
       "    <tr>\n",
       "      <th>1993</th>\n",
       "      <td>사랑의 블랙홀</td>\n",
       "      <td>249</td>\n",
       "      <td>101.0</td>\n",
       "      <td>Comedy, Drama, Fantasy</td>\n",
       "      <td>Charles Chaplin</td>\n",
       "      <td>8.0</td>\n",
       "    </tr>\n",
       "    <tr>\n",
       "      <th>1979</th>\n",
       "      <td>Life of Brian</td>\n",
       "      <td>250</td>\n",
       "      <td>94.0</td>\n",
       "      <td>Comedy</td>\n",
       "      <td>Brad Bird</td>\n",
       "      <td>8.0</td>\n",
       "    </tr>\n",
       "  </tbody>\n",
       "</table>\n",
       "<p>250 rows × 6 columns</p>\n",
       "</div>"
      ],
      "text/plain": [
       "                   title rank runtime  \\\n",
       "1994              쇼생크 탈출    1   142.0   \n",
       "1972              Daeboo    2   175.0   \n",
       "2008              다크 나이트    3   152.0   \n",
       "1993             쉰들러 리스트    4   195.0   \n",
       "2003       반지의 제왕: 왕의 귀환    5   201.0   \n",
       "...                  ...  ...     ...   \n",
       "2004     The Incredibles  246   115.0   \n",
       "1990  Dances with Wolves  247   181.0   \n",
       "1992                 알라딘  248    90.0   \n",
       "1993             사랑의 블랙홀  249   101.0   \n",
       "1979       Life of Brian  250    94.0   \n",
       "\n",
       "                                         genre              director rating  \n",
       "1994                         Drama                    Frank Darabont    9.3  \n",
       "1972                  Crime, Drama              Francis Ford Coppola    9.2  \n",
       "2008          Action, Crime, Drama                 Christopher Nolan    9.0  \n",
       "1993     Biography, Drama, History                   Oskar Schindler    9.0  \n",
       "2003      Action, Adventure, Drama                  Steven Spielberg    9.0  \n",
       "...                                        ...                   ...    ...  \n",
       "2004  Animation, Action, Adventure               Carl Theodor Dreyer    8.0  \n",
       "1990     Adventure, Drama, Western                       Frank Capra    8.0  \n",
       "1992  Animation, Adventure, Comedy                    Clyde Bruckman    8.0  \n",
       "1993        Comedy, Drama, Fantasy                   Charles Chaplin    8.0  \n",
       "1979                        Comedy                         Brad Bird    8.0  \n",
       "\n",
       "[250 rows x 6 columns]"
      ]
     },
     "execution_count": 29,
     "metadata": {},
     "output_type": "execute_result"
    }
   ],
   "source": [
    "import pandas as pd\n",
    "df = pd.DataFrame([title_list, rank_list, runtime_list, genre_list, director_list, rating_list], \n",
    "                   index = ['title','rank','runtime','genre','director','rating'], \n",
    "                   columns = year_clean).T\n",
    "df"
   ]
  },
  {
   "cell_type": "code",
   "execution_count": 30,
   "id": "41eda51fb336893e",
   "metadata": {
    "ExecuteTime": {
     "end_time": "2023-10-18T08:34:14.233797Z",
     "start_time": "2023-10-18T08:34:14.222697Z"
    }
   },
   "outputs": [
    {
     "data": {
      "text/plain": [
       "8.5625"
      ]
     },
     "execution_count": 30,
     "metadata": {},
     "output_type": "execute_result"
    }
   ],
   "source": [
    "df[df['director'] == 'Christopher Nolan']['rating'].astype(float).mean()"
   ]
  },
  {
   "cell_type": "markdown",
   "id": "bd56031a5cf61f6a",
   "metadata": {},
   "source": [
    "#### Problem 9\n",
    "\n",
    "What is the average rating of a genre 'Action, Advanture, Drama'? (Write up to 1 decimal place. e.g. 3.5)"
   ]
  },
  {
   "cell_type": "code",
   "execution_count": 31,
   "id": "4820225f5f1870de",
   "metadata": {
    "ExecuteTime": {
     "end_time": "2023-10-18T08:34:14.233921Z",
     "start_time": "2023-10-18T08:34:14.225617Z"
    }
   },
   "outputs": [],
   "source": [
    "df['genre'] = df.genre.str.replace(' ','')"
   ]
  },
  {
   "cell_type": "code",
   "execution_count": 32,
   "id": "a09d365cfe7fa5dd",
   "metadata": {
    "ExecuteTime": {
     "end_time": "2023-10-18T08:34:14.234007Z",
     "start_time": "2023-10-18T08:34:14.228624Z"
    }
   },
   "outputs": [
    {
     "data": {
      "text/plain": [
       "8.7"
      ]
     },
     "execution_count": 32,
     "metadata": {},
     "output_type": "execute_result"
    }
   ],
   "source": [
    "df[df['genre'] == 'Action,Adventure,Drama']['rating'].astype(float).mean()"
   ]
  },
  {
   "cell_type": "markdown",
   "id": "1ec7ae3607c6ac3e",
   "metadata": {},
   "source": [
    "#### Problem 10\n",
    "\n",
    "What is the year of which annual average runtime is the longest?"
   ]
  },
  {
   "cell_type": "code",
   "execution_count": 33,
   "id": "d2f401208a7e6a17",
   "metadata": {
    "ExecuteTime": {
     "end_time": "2023-10-18T08:34:14.257209Z",
     "start_time": "2023-10-18T08:34:14.231829Z"
    }
   },
   "outputs": [],
   "source": [
    "df['runtime'] = df['runtime'].astype(float)"
   ]
  },
  {
   "cell_type": "code",
   "execution_count": 34,
   "id": "196f99b459b0f01c",
   "metadata": {
    "ExecuteTime": {
     "end_time": "2023-10-18T08:34:14.275344Z",
     "start_time": "2023-10-18T08:34:14.234448Z"
    }
   },
   "outputs": [
    {
     "data": {
      "text/plain": [
       "1978    183.000000\n",
       "1972    175.000000\n",
       "1974    166.000000\n",
       "1984    165.333333\n",
       "1990    163.000000\n",
       "           ...    \n",
       "1925     95.000000\n",
       "1936     87.000000\n",
       "1926     78.000000\n",
       "1921     68.000000\n",
       "1924     45.000000\n",
       "Name: runtime, Length: 87, dtype: float64"
      ]
     },
     "execution_count": 34,
     "metadata": {},
     "output_type": "execute_result"
    }
   ],
   "source": [
    "df.groupby(df.index)['runtime'].mean().sort_values(ascending = False)"
   ]
  }
 ],
 "metadata": {
  "kernelspec": {
   "display_name": "Python 3 (ipykernel)",
   "language": "python",
   "name": "python3"
  },
  "language_info": {
   "codemirror_mode": {
    "name": "ipython",
    "version": 3
   },
   "file_extension": ".py",
   "mimetype": "text/x-python",
   "name": "python",
   "nbconvert_exporter": "python",
   "pygments_lexer": "ipython3",
   "version": "3.11.4"
  }
 },
 "nbformat": 4,
 "nbformat_minor": 5
}
