{
 "cells": [
  {
   "cell_type": "markdown",
   "source": [
    "### Sentiment Analysis\n",
    "\n",
    "**◆ Uses of Sentiment Analysis**\n",
    "\n",
    "- It is necessary to analyze the emotions and sentiments contained in the text using machines without bias.\n",
    "- Spam or malicious messages can be extracted and removed.\n",
    "- A chatbot can analyze the emotional level of a message sent by a human and create a human-like response corresponding to it.\n",
    "\n",
    "**◆ Sentiment analysis approach**\n",
    "\n",
    "The following two methods are used\n",
    "\n",
    "(1) using human-written rule-based algorithms; It is based on a dictionary (lexicon) containing pairs of specific words and sentiment scores, and the VADER algorithm ( Scikit Learn ) has exist\n",
    "\n",
    "(2) using machine learning models where computers learn directly from data; Create rules by training a machine learning model using a set of sentences or documents with"
   ],
   "metadata": {
    "collapsed": false
   },
   "id": "c815c4311d2854b0"
  },
  {
   "cell_type": "markdown",
   "source": [
    "#### 1. English Emotional Glossary\n",
    "\n",
    "1. AFINN: assigns a score between -5 and 5 (positive/ negative)\n",
    "2. Bing : positive / negative of words in binary format classification\n",
    "3. NRC: 10 types emotion Use a glossary of terms\n",
    "    {fear, anger, anticipation, trust, surprise, positive, negative, sadness, disgust, joy}\n",
    "    http://jonathansoma.com/lede/algorithms-2017/classes/more-text-analysis/nrc-emotional-lexicon/\n",
    "4. VADER : Score calculation for ( negative+neutral+positive =1)\n",
    "    ( https://towardsdatascience.com/religion-on-twitter-5f7b84062304 )\n",
    "    The compound score is computed by summing the valence scores of each word in the lexicon, adjusted according to the rules, and then normalized to be between -1 (most extreme negative) and +1 (most extreme positive).\n",
    "   \n",
    "    **▪ Typical threshold values:**\n",
    "   \n",
    "    - positive sentiment: compound score >= 0.05\n",
    "   \n",
    "    - neutral sentiment: (compound score > -0.05) and (compound score < 0.05)\n",
    "   \n",
    "    - negative sentiment: compound score <= -0.05\n",
    "   \n",
    "5. SentiWordNet : SentiWordNet assigns to each synset of WordNet three sentiment scores: positivity, negativity, objectivity. https://github.com/aesuli/SentiWordNet\n",
    "\n",
    "6. TextBlob : It provides common NLP tasks such as part-of-speech tagging, noun phrase extraction, sentiment analysis, classification, translation, and more. ( https://textblob.readthedocs.io/en/dev/ )\n",
    "\n",
    "    Negative : polatiry [-1 to 1]\n",
    "   \n",
    "    Subjectivity : subjectivity [objective:0 ~subjective:1]\n",
    "   \n",
    "7. SentimentR"
   ],
   "metadata": {
    "collapsed": false
   },
   "id": "1049f16961c5dc1f"
  },
  {
   "cell_type": "markdown",
   "source": [
    "#### 2. Emotional terms in Korean dictionary\n",
    "\n",
    "For Korean, a free downloadable glossary is available. Incomplete. the Korean-ko-NRC-Emotion-Intensity-Lexicon-v1.txt file from google Applying the English sentiment analysis method using a translator is one method.\n",
    "\n",
    "**1. IMDB movie review download and sentiment analysis (Using the glossary)**"
   ],
   "metadata": {
    "collapsed": false
   },
   "id": "7de3ffdcd0beeb91"
  },
  {
   "cell_type": "code",
   "execution_count": 1,
   "id": "initial_id",
   "metadata": {
    "collapsed": true,
    "ExecuteTime": {
     "end_time": "2023-11-08T07:38:52.358339Z",
     "start_time": "2023-11-08T07:38:50.614562Z"
    }
   },
   "outputs": [
    {
     "name": "stderr",
     "output_type": "stream",
     "text": [
      "[nltk_data] Downloading package stopwords to\n",
      "[nltk_data]     /Users/junghunlee/nltk_data...\n",
      "[nltk_data]   Package stopwords is already up-to-date!\n"
     ]
    }
   ],
   "source": [
    "import pandas as pd\n",
    "import nltk\n",
    "from afinn import afinn\n",
    "nltk.download('stopwords')\n",
    "from nltk.corpus import stopwords\n",
    "from nltk.stem.porter import PorterStemmer\n",
    "from nltk.tokenize import RegexpTokenizer\n",
    "import numpy as np\n",
    "import matplotlib.pyplot as plt"
   ]
  },
  {
   "cell_type": "code",
   "execution_count": 2,
   "outputs": [
    {
     "data": {
      "text/plain": "                                              review sentiment\n0  One of the other reviewers has mentioned that ...  positive\n1  A wonderful little production. <br /><br />The...  positive\n2  I thought this was a wonderful way to spend ti...  positive\n3  Basically there's a family where a little boy ...  negative\n4  Petter Mattei's \"Love in the Time of Money\" is...  positive",
      "text/html": "<div>\n<style scoped>\n    .dataframe tbody tr th:only-of-type {\n        vertical-align: middle;\n    }\n\n    .dataframe tbody tr th {\n        vertical-align: top;\n    }\n\n    .dataframe thead th {\n        text-align: right;\n    }\n</style>\n<table border=\"1\" class=\"dataframe\">\n  <thead>\n    <tr style=\"text-align: right;\">\n      <th></th>\n      <th>review</th>\n      <th>sentiment</th>\n    </tr>\n  </thead>\n  <tbody>\n    <tr>\n      <th>0</th>\n      <td>One of the other reviewers has mentioned that ...</td>\n      <td>positive</td>\n    </tr>\n    <tr>\n      <th>1</th>\n      <td>A wonderful little production. &lt;br /&gt;&lt;br /&gt;The...</td>\n      <td>positive</td>\n    </tr>\n    <tr>\n      <th>2</th>\n      <td>I thought this was a wonderful way to spend ti...</td>\n      <td>positive</td>\n    </tr>\n    <tr>\n      <th>3</th>\n      <td>Basically there's a family where a little boy ...</td>\n      <td>negative</td>\n    </tr>\n    <tr>\n      <th>4</th>\n      <td>Petter Mattei's \"Love in the Time of Money\" is...</td>\n      <td>positive</td>\n    </tr>\n  </tbody>\n</table>\n</div>"
     },
     "execution_count": 2,
     "metadata": {},
     "output_type": "execute_result"
    }
   ],
   "source": [
    "review = pd.read_csv('../../Data/IMDBDataset.csv')\n",
    "review.head()"
   ],
   "metadata": {
    "collapsed": false,
    "ExecuteTime": {
     "end_time": "2023-11-08T07:38:52.828448Z",
     "start_time": "2023-11-08T07:38:52.360019Z"
    }
   },
   "id": "eeb37bc354b8f51b"
  },
  {
   "cell_type": "markdown",
   "source": [
    "**2. AFINN Lexicon**\n",
    "\n",
    "Calculate sentiment score using AFINN glossary(AFINN: consists of -5 to 5 points for each word)"
   ],
   "metadata": {
    "collapsed": false
   },
   "id": "5a2d745a8c84a71b"
  },
  {
   "cell_type": "code",
   "execution_count": 3,
   "outputs": [
    {
     "name": "stdout",
     "output_type": "stream",
     "text": [
      "13.0\n",
      "-8.0\n"
     ]
    }
   ],
   "source": [
    "afinn_ = afinn.Afinn()\n",
    "pos_review = review['review'][1] # Print only one positive sentence\n",
    "neg_review = review['review'][3] # print only one negative sentence\n",
    "print(afinn_.score(pos_review))\n",
    "print(afinn_.score(neg_review))"
   ],
   "metadata": {
    "collapsed": false,
    "ExecuteTime": {
     "end_time": "2023-11-08T07:38:52.919734Z",
     "start_time": "2023-11-08T07:38:52.828578Z"
    }
   },
   "id": "c9a6409ebac76c6d"
  },
  {
   "cell_type": "code",
   "execution_count": 4,
   "outputs": [],
   "source": [
    "afn = afinn.Afinn(emoticons = True)"
   ],
   "metadata": {
    "collapsed": false,
    "ExecuteTime": {
     "end_time": "2023-11-08T07:38:52.972265Z",
     "start_time": "2023-11-08T07:38:52.909366Z"
    }
   },
   "id": "40e74a4411cded28"
  },
  {
   "cell_type": "code",
   "execution_count": 5,
   "outputs": [
    {
     "name": "stdout",
     "output_type": "stream",
     "text": [
      "100 Predicted Sentiment Polarity :  41.0\n"
     ]
    }
   ],
   "source": [
    "# Parse only the first n sentences\n",
    "n = 100\n",
    "index = []\n",
    "for row in review['review'][0:n] :\n",
    "    index.append(row)\n",
    "print(len(index), 'Predicted Sentiment Polarity : ', afn.score(row))"
   ],
   "metadata": {
    "collapsed": false,
    "ExecuteTime": {
     "end_time": "2023-11-08T07:38:52.978342Z",
     "start_time": "2023-11-08T07:38:52.955614Z"
    }
   },
   "id": "6f2679053430db1e"
  },
  {
   "cell_type": "markdown",
   "source": [
    "**3. NRC Vocabulary**\n",
    "\n",
    "Sentiment classification using NRC terminology (NRC: classifying each word into 10 sentiments)"
   ],
   "metadata": {
    "collapsed": false
   },
   "id": "9b2b09b026f9dc27"
  },
  {
   "cell_type": "code",
   "execution_count": 6,
   "outputs": [
    {
     "data": {
      "text/plain": "       0             1  2\n0  aback         anger  0\n1  aback  anticipation  0\n2  aback       disgust  0\n3  aback          fear  0\n4  aback           joy  0",
      "text/html": "<div>\n<style scoped>\n    .dataframe tbody tr th:only-of-type {\n        vertical-align: middle;\n    }\n\n    .dataframe tbody tr th {\n        vertical-align: top;\n    }\n\n    .dataframe thead th {\n        text-align: right;\n    }\n</style>\n<table border=\"1\" class=\"dataframe\">\n  <thead>\n    <tr style=\"text-align: right;\">\n      <th></th>\n      <th>0</th>\n      <th>1</th>\n      <th>2</th>\n    </tr>\n  </thead>\n  <tbody>\n    <tr>\n      <th>0</th>\n      <td>aback</td>\n      <td>anger</td>\n      <td>0</td>\n    </tr>\n    <tr>\n      <th>1</th>\n      <td>aback</td>\n      <td>anticipation</td>\n      <td>0</td>\n    </tr>\n    <tr>\n      <th>2</th>\n      <td>aback</td>\n      <td>disgust</td>\n      <td>0</td>\n    </tr>\n    <tr>\n      <th>3</th>\n      <td>aback</td>\n      <td>fear</td>\n      <td>0</td>\n    </tr>\n    <tr>\n      <th>4</th>\n      <td>aback</td>\n      <td>joy</td>\n      <td>0</td>\n    </tr>\n  </tbody>\n</table>\n</div>"
     },
     "execution_count": 6,
     "metadata": {},
     "output_type": "execute_result"
    }
   ],
   "source": [
    "nrc = pd.read_csv('../../Data/NRC-Emotion-Lexicon-Wordlevel-v0.92.txt', engine = \"python\", header = None, sep = \"\\t\")\n",
    "nrc.head()"
   ],
   "metadata": {
    "collapsed": false,
    "ExecuteTime": {
     "end_time": "2023-11-08T07:38:53.147354Z",
     "start_time": "2023-11-08T07:38:52.958921Z"
    }
   },
   "id": "77215c132f908e42"
  },
  {
   "cell_type": "code",
   "execution_count": 7,
   "outputs": [
    {
     "data": {
      "text/plain": "              0         1  2\n19       abacus     trust  1\n23      abandon      fear  1\n25      abandon  negative  1\n27      abandon   sadness  1\n30    abandoned     anger  1\n33    abandoned      fear  1\n35    abandoned  negative  1\n37    abandoned   sadness  1\n40  abandonment     anger  1\n43  abandonment      fear  1",
      "text/html": "<div>\n<style scoped>\n    .dataframe tbody tr th:only-of-type {\n        vertical-align: middle;\n    }\n\n    .dataframe tbody tr th {\n        vertical-align: top;\n    }\n\n    .dataframe thead th {\n        text-align: right;\n    }\n</style>\n<table border=\"1\" class=\"dataframe\">\n  <thead>\n    <tr style=\"text-align: right;\">\n      <th></th>\n      <th>0</th>\n      <th>1</th>\n      <th>2</th>\n    </tr>\n  </thead>\n  <tbody>\n    <tr>\n      <th>19</th>\n      <td>abacus</td>\n      <td>trust</td>\n      <td>1</td>\n    </tr>\n    <tr>\n      <th>23</th>\n      <td>abandon</td>\n      <td>fear</td>\n      <td>1</td>\n    </tr>\n    <tr>\n      <th>25</th>\n      <td>abandon</td>\n      <td>negative</td>\n      <td>1</td>\n    </tr>\n    <tr>\n      <th>27</th>\n      <td>abandon</td>\n      <td>sadness</td>\n      <td>1</td>\n    </tr>\n    <tr>\n      <th>30</th>\n      <td>abandoned</td>\n      <td>anger</td>\n      <td>1</td>\n    </tr>\n    <tr>\n      <th>33</th>\n      <td>abandoned</td>\n      <td>fear</td>\n      <td>1</td>\n    </tr>\n    <tr>\n      <th>35</th>\n      <td>abandoned</td>\n      <td>negative</td>\n      <td>1</td>\n    </tr>\n    <tr>\n      <th>37</th>\n      <td>abandoned</td>\n      <td>sadness</td>\n      <td>1</td>\n    </tr>\n    <tr>\n      <th>40</th>\n      <td>abandonment</td>\n      <td>anger</td>\n      <td>1</td>\n    </tr>\n    <tr>\n      <th>43</th>\n      <td>abandonment</td>\n      <td>fear</td>\n      <td>1</td>\n    </tr>\n  </tbody>\n</table>\n</div>"
     },
     "execution_count": 7,
     "metadata": {},
     "output_type": "execute_result"
    }
   ],
   "source": [
    "nrc = nrc[(nrc != 0).all(1)]\n",
    "nrc.head(10)"
   ],
   "metadata": {
    "collapsed": false,
    "ExecuteTime": {
     "end_time": "2023-11-08T07:38:53.164194Z",
     "start_time": "2023-11-08T07:38:53.156441Z"
    }
   },
   "id": "6e171fe339fd3ac3"
  },
  {
   "cell_type": "markdown",
   "source": [
    "Column 0 : ( Applicable word ), Column 1 : (10 sentiments ), Column 2 : ( Applicable )\n",
    "\n",
    "Example ) abacus corresponds to the emotion of trust, and abadon corresponds to the three types of fear, negative, and sadness"
   ],
   "metadata": {
    "collapsed": false
   },
   "id": "d9b0498b871002f9"
  },
  {
   "cell_type": "code",
   "execution_count": 8,
   "outputs": [
    {
     "data": {
      "text/plain": "           0         1  2\n0     abacus     trust  1\n1    abandon      fear  1\n2    abandon  negative  1\n3    abandon   sadness  1\n4  abandoned     anger  1",
      "text/html": "<div>\n<style scoped>\n    .dataframe tbody tr th:only-of-type {\n        vertical-align: middle;\n    }\n\n    .dataframe tbody tr th {\n        vertical-align: top;\n    }\n\n    .dataframe thead th {\n        text-align: right;\n    }\n</style>\n<table border=\"1\" class=\"dataframe\">\n  <thead>\n    <tr style=\"text-align: right;\">\n      <th></th>\n      <th>0</th>\n      <th>1</th>\n      <th>2</th>\n    </tr>\n  </thead>\n  <tbody>\n    <tr>\n      <th>0</th>\n      <td>abacus</td>\n      <td>trust</td>\n      <td>1</td>\n    </tr>\n    <tr>\n      <th>1</th>\n      <td>abandon</td>\n      <td>fear</td>\n      <td>1</td>\n    </tr>\n    <tr>\n      <th>2</th>\n      <td>abandon</td>\n      <td>negative</td>\n      <td>1</td>\n    </tr>\n    <tr>\n      <th>3</th>\n      <td>abandon</td>\n      <td>sadness</td>\n      <td>1</td>\n    </tr>\n    <tr>\n      <th>4</th>\n      <td>abandoned</td>\n      <td>anger</td>\n      <td>1</td>\n    </tr>\n  </tbody>\n</table>\n</div>"
     },
     "execution_count": 8,
     "metadata": {},
     "output_type": "execute_result"
    }
   ],
   "source": [
    "# reset index number\n",
    "nrc = nrc.reset_index(drop = True)\n",
    "nrc.head()"
   ],
   "metadata": {
    "collapsed": false,
    "ExecuteTime": {
     "end_time": "2023-11-08T07:38:53.168792Z",
     "start_time": "2023-11-08T07:38:53.163904Z"
    }
   },
   "id": "447eb2882a81df48"
  },
  {
   "cell_type": "code",
   "execution_count": 9,
   "outputs": [
    {
     "data": {
      "text/plain": "['abacus', 'abandon', 'abandon', 'abandon', 'abandoned']"
     },
     "execution_count": 9,
     "metadata": {},
     "output_type": "execute_result"
    }
   ],
   "source": [
    "list(nrc[0][:5])"
   ],
   "metadata": {
    "collapsed": false,
    "ExecuteTime": {
     "end_time": "2023-11-08T07:38:53.178166Z",
     "start_time": "2023-11-08T07:38:53.167343Z"
    }
   },
   "id": "31b0badbd2c2e837"
  },
  {
   "cell_type": "markdown",
   "source": [
    "Sentiment analysis using NRC for a specific sentence 1"
   ],
   "metadata": {
    "collapsed": false
   },
   "id": "7a376a55d4fa590a"
  },
  {
   "cell_type": "code",
   "execution_count": 10,
   "outputs": [],
   "source": [
    "tokenizer = RegexpTokenizer('[\\w]+')\n",
    "stop_words = stopwords.words('english')\n",
    "p_stemmer = PorterStemmer()"
   ],
   "metadata": {
    "collapsed": false,
    "ExecuteTime": {
     "end_time": "2023-11-08T07:38:53.187671Z",
     "start_time": "2023-11-08T07:38:53.170784Z"
    }
   },
   "id": "8207d4ab08060181"
  },
  {
   "cell_type": "code",
   "execution_count": 11,
   "outputs": [],
   "source": [
    "raw = pos_review.lower() # the sentence you want to analyze\n",
    "tokens = tokenizer.tokenize(raw)\n",
    "stopped_tokens = [i for i in tokens if not i in stop_words] # remove stop words\n",
    "match_words = [x for x in stopped_tokens if x in list(nrc[0])] # match with dictionary"
   ],
   "metadata": {
    "collapsed": false,
    "ExecuteTime": {
     "end_time": "2023-11-08T07:38:53.294227Z",
     "start_time": "2023-11-08T07:38:53.193893Z"
    }
   },
   "id": "a6692605b7704196"
  },
  {
   "cell_type": "code",
   "execution_count": 12,
   "outputs": [],
   "source": [
    "emotion = []\n",
    "for i in match_words :\n",
    "    temp = list(nrc.iloc[np.where(nrc[0] == i)[0], 1])\n",
    "    for j in temp :\n",
    "        emotion.append(j)"
   ],
   "metadata": {
    "collapsed": false,
    "ExecuteTime": {
     "end_time": "2023-11-08T07:38:53.294894Z",
     "start_time": "2023-11-08T07:38:53.236888Z"
    }
   },
   "id": "f6382f6613eabfe2"
  },
  {
   "cell_type": "code",
   "execution_count": 13,
   "outputs": [
    {
     "name": "stdout",
     "output_type": "stream",
     "text": [
      "positive        14\n",
      "trust            4\n",
      "anticipation     3\n",
      "joy              2\n",
      "fear             2\n",
      "surprise         1\n",
      "disgust          1\n",
      "negative         1\n",
      "sadness          1\n",
      "Name: count, dtype: int64 Axes(0.125,0.11;0.775x0.77)\n"
     ]
    },
    {
     "data": {
      "text/plain": "<Figure size 640x480 with 1 Axes>",
      "image/png": "[encoded data removed]"
     },
     "metadata": {},
     "output_type": "display_data"
    }
   ],
   "source": [
    "sentiment_result1 = pd.Series(emotion).value_counts()\n",
    "print(sentiment_result1, sentiment_result1.plot.bar())"
   ],
   "metadata": {
    "collapsed": false,
    "ExecuteTime": {
     "end_time": "2023-11-08T07:38:53.406673Z",
     "start_time": "2023-11-08T07:38:53.241053Z"
    }
   },
   "id": "b7c7174de205c518"
  },
  {
   "cell_type": "markdown",
   "source": [
    "Sentiment analysis using NRC for a specific sentence 2"
   ],
   "metadata": {
    "collapsed": false
   },
   "id": "9945dce8ee5fe1f1"
  },
  {
   "cell_type": "code",
   "execution_count": 14,
   "outputs": [],
   "source": [
    "raw = neg_review.lower() # the sentence you want to analyze\n",
    "tokens = tokenizer.tokenize(raw)\n",
    "stopped_tokens = [i for i in tokens if not i in stop_words] # remove stop words\n",
    "match_words = [x for x in stopped_tokens if x in list(nrc[0])] # match w/ dictionary"
   ],
   "metadata": {
    "collapsed": false,
    "ExecuteTime": {
     "end_time": "2023-11-08T07:40:04.504175Z",
     "start_time": "2023-11-08T07:40:04.502309Z"
    }
   },
   "id": "6caff41fb3cfcb2d"
  },
  {
   "cell_type": "code",
   "execution_count": 15,
   "outputs": [],
   "source": [
    "emotion = []\n",
    "for i in match_words :\n",
    "    temp = list(nrc.iloc[np.where(nrc[0] == i)[0],1])\n",
    "    for j in temp:\n",
    "        emotion.append(j)"
   ],
   "metadata": {
    "collapsed": false,
    "ExecuteTime": {
     "end_time": "2023-11-08T07:40:32.403650Z",
     "start_time": "2023-11-08T07:40:32.392792Z"
    }
   },
   "id": "772ba194d9e7869e"
  },
  {
   "cell_type": "code",
   "execution_count": 16,
   "outputs": [
    {
     "name": "stdout",
     "output_type": "stream",
     "text": [
      "negative        5\n",
      "sadness         4\n",
      "anticipation    3\n",
      "fear            3\n",
      "anger           2\n",
      "positive        2\n",
      "surprise        2\n",
      "trust           2\n",
      "disgust         1\n",
      "joy             1\n",
      "Name: count, dtype: int64 Axes(0.125,0.11;0.775x0.77)\n"
     ]
    },
    {
     "data": {
      "text/plain": "<Figure size 640x480 with 1 Axes>",
      "image/png": "[encoded data removed]"
     },
     "metadata": {},
     "output_type": "display_data"
    }
   ],
   "source": [
    "sentiment_result2 = pd.Series(emotion).value_counts()\n",
    "print(sentiment_result2, sentiment_result2.plot.bar())"
   ],
   "metadata": {
    "collapsed": false,
    "ExecuteTime": {
     "end_time": "2023-11-08T07:40:40.312374Z",
     "start_time": "2023-11-08T07:40:40.250337Z"
    }
   },
   "id": "cc8a0756bd4b723"
  },
  {
   "cell_type": "markdown",
   "source": [
    "**4. VADER Lexion**"
   ],
   "metadata": {
    "collapsed": false
   },
   "id": "88c835c09d899b71"
  },
  {
   "cell_type": "code",
   "execution_count": 17,
   "outputs": [
    {
     "name": "stderr",
     "output_type": "stream",
     "text": [
      "[nltk_data] Downloading package vader_lexicon to\n",
      "[nltk_data]     /Users/junghunlee/nltk_data...\n"
     ]
    }
   ],
   "source": [
    "import nltk\n",
    "nltk.download('vader_lexicon')\n",
    "from nltk.sentiment.vader import SentimentIntensityAnalyzer"
   ],
   "metadata": {
    "collapsed": false,
    "ExecuteTime": {
     "end_time": "2023-11-08T07:42:04.097834Z",
     "start_time": "2023-11-08T07:42:03.740799Z"
    }
   },
   "id": "2d52d391103ca560"
  },
  {
   "cell_type": "code",
   "execution_count": 18,
   "outputs": [
    {
     "name": "stdout",
     "output_type": "stream",
     "text": [
      "{'neg': 0.203, 'neu': 0.748, 'pos': 0.048, 'compound': -0.9951}\n"
     ]
    }
   ],
   "source": [
    "analyser = SentimentIntensityAnalyzer()\n",
    "example = review['review'][0]\n",
    "score = analyser.polarity_scores(example)\n",
    "print(score)"
   ],
   "metadata": {
    "collapsed": false,
    "ExecuteTime": {
     "end_time": "2023-11-08T07:42:13.179903Z",
     "start_time": "2023-11-08T07:42:13.151780Z"
    }
   },
   "id": "ea758ae3ecccdcfa"
  },
  {
   "cell_type": "code",
   "execution_count": 19,
   "outputs": [],
   "source": [
    "def vader_polarity(text):\n",
    "    \"\"\" Transform the output to a binary 0/1 result \"\"\"\n",
    "    score = analyser.polarity_scores(text)\n",
    "    return 1 if score['pos'] > score['neg'] else 0"
   ],
   "metadata": {
    "collapsed": false,
    "ExecuteTime": {
     "end_time": "2023-11-08T07:42:26.067674Z",
     "start_time": "2023-11-08T07:42:26.042112Z"
    }
   },
   "id": "64d1d41ea72f6fcc"
  },
  {
   "cell_type": "markdown",
   "source": [
    "Parse only the first n sentences"
   ],
   "metadata": {
    "collapsed": false
   },
   "id": "c88661cc2f974911"
  },
  {
   "cell_type": "code",
   "execution_count": 22,
   "outputs": [
    {
     "name": "stdout",
     "output_type": "stream",
     "text": [
      "1 Predicted Sentiment polarity: {'neg': 0.203, 'neu': 0.748, 'pos': 0.048, 'compound': -0.9951}\n",
      "1 Predicted Sentiment polarity Class: 0\n",
      "2 Predicted Sentiment polarity: {'neg': 0.053, 'neu': 0.776, 'pos': 0.172, 'compound': 0.9641}\n",
      "2 Predicted Sentiment polarity Class: 1\n",
      "3 Predicted Sentiment polarity: {'neg': 0.094, 'neu': 0.714, 'pos': 0.192, 'compound': 0.9605}\n",
      "3 Predicted Sentiment polarity Class: 1\n",
      "4 Predicted Sentiment polarity: {'neg': 0.138, 'neu': 0.797, 'pos': 0.065, 'compound': -0.9213}\n",
      "4 Predicted Sentiment polarity Class: 0\n",
      "5 Predicted Sentiment polarity: {'neg': 0.052, 'neu': 0.801, 'pos': 0.147, 'compound': 0.9744}\n",
      "5 Predicted Sentiment polarity Class: 1\n",
      "6 Predicted Sentiment polarity: {'neg': 0.017, 'neu': 0.758, 'pos': 0.225, 'compound': 0.9828}\n",
      "6 Predicted Sentiment polarity Class: 1\n",
      "7 Predicted Sentiment polarity: {'neg': 0.024, 'neu': 0.871, 'pos': 0.104, 'compound': 0.9022}\n",
      "7 Predicted Sentiment polarity Class: 1\n",
      "8 Predicted Sentiment polarity: {'neg': 0.149, 'neu': 0.654, 'pos': 0.197, 'compound': 0.8596}\n",
      "8 Predicted Sentiment polarity Class: 1\n",
      "9 Predicted Sentiment polarity: {'neg': 0.166, 'neu': 0.662, 'pos': 0.172, 'compound': 0.2362}\n",
      "9 Predicted Sentiment polarity Class: 1\n",
      "10 Predicted Sentiment polarity: {'neg': 0.094, 'neu': 0.531, 'pos': 0.375, 'compound': 0.9149}\n",
      "10 Predicted Sentiment polarity Class: 1\n"
     ]
    }
   ],
   "source": [
    "n = 10\n",
    "index = []\n",
    "for row in review['review'][0:n] :\n",
    "    index.append(row)\n",
    "    print(len(index), 'Predicted Sentiment polarity:', analyser.polarity_scores(row))\n",
    "    print(len (index), 'Predicted Sentiment polarity Class:', vader_polarity(row))"
   ],
   "metadata": {
    "collapsed": false,
    "ExecuteTime": {
     "end_time": "2023-11-08T07:43:13.319728Z",
     "start_time": "2023-11-08T07:43:13.312192Z"
    }
   },
   "id": "f48ad108f297b401"
  },
  {
   "cell_type": "markdown",
   "source": [
    "**5. SentiWordNet Lexion**"
   ],
   "metadata": {
    "collapsed": false
   },
   "id": "b3c2b9fb1eabe8da"
  },
  {
   "cell_type": "code",
   "execution_count": 23,
   "outputs": [
    {
     "name": "stderr",
     "output_type": "stream",
     "text": [
      "[nltk_data] Downloading package wordnet to\n",
      "[nltk_data]     /Users/junghunlee/nltk_data...\n",
      "[nltk_data]   Package wordnet is already up-to-date!\n",
      "[nltk_data] Downloading package sentiwordnet to\n",
      "[nltk_data]     /Users/junghunlee/nltk_data...\n",
      "[nltk_data]   Unzipping corpora/sentiwordnet.zip.\n"
     ]
    }
   ],
   "source": [
    "import nltk\n",
    "nltk.download('wordnet')\n",
    "nltk.download('sentiwordnet')\n",
    "from nltk.stem import WordNetLemmatizer\n",
    "from nltk.corpus import wordnet as wn\n",
    "from nltk.corpus import sentiwordnet as swn\n",
    "from nltk import sent_tokenize, word_tokenize, pos_tag\n",
    "\n",
    "lemmatizer = WordNetLemmatizer()\n",
    "\n",
    "def penn_to_wn(tag):\n",
    "    \"\"\"Convert between the PennTreebank tags to simple Wordnet tags\"\"\"\n",
    "    if tag.startswith('J'):\n",
    "        return wn.ADJ\n",
    "    elif tag.startswith('N'):\n",
    "        return wn.NOUN\n",
    "    elif tag.startswith('R'):\n",
    "        return wn.ADV\n",
    "    elif tag.startswith('V'):\n",
    "        return wn.VERB\n",
    "    return None\n",
    "\n",
    "def clean_text(text):\n",
    "    text = text.replace(\"<br />\", \" \") # text = text.decode(\"utf-8\")\n",
    "    return text"
   ],
   "metadata": {
    "collapsed": false,
    "ExecuteTime": {
     "end_time": "2023-11-08T07:44:44.230576Z",
     "start_time": "2023-11-08T07:44:42.272638Z"
    }
   },
   "id": "2557eec51694e75a"
  },
  {
   "cell_type": "code",
   "execution_count": 24,
   "outputs": [],
   "source": [
    "def swn_polarity(text):\n",
    "    \"\"\"Return a sentiment polarity: 0 = negative, 1 = positive\"\"\"\n",
    "    sentiment = 0.0\n",
    "    tokens_count = 0\n",
    "    text = clean_text(text)\n",
    "    raw_sentences = sent_tokenize(text)\n",
    "    for raw_sentence in raw_sentences:\n",
    "        tagged_sentence = pos_tag(word_tokenize(raw_sentence))\n",
    "        for word, tag in tagged_sentence:\n",
    "            wn_tag = penn_to_wn(tag)\n",
    "        if wn_tag not in (wn.NOUN, wn.ADJ, wn.ADV):\n",
    "            continue\n",
    "        lemma = lemmatizer.lemmatize(word, pos=wn_tag)\n",
    "        if not lemma:\n",
    "            continue\n",
    "        synsets = wn.synsets(lemma, pos=wn_tag)\n",
    "        if not synsets:\n",
    "            continue\n",
    "        synset = synsets[0] # Take the first sense, the most common\n",
    "        swn_synset = swn.senti_synset(synset.name())\n",
    "        sentiment += swn_synset.pos_score() - swn_synset.neg_score()\n",
    "        tokens_count += 1\n",
    "    if not tokens_count: # judgment call ? Default to positive or negative\n",
    "        return 0\n",
    "    if sentiment >= 0: # sum greater than 0 => positive sentiment\n",
    "        return 1\n",
    "    return 0 # negative sentiment"
   ],
   "metadata": {
    "collapsed": false,
    "ExecuteTime": {
     "end_time": "2023-11-08T07:45:47.256897Z",
     "start_time": "2023-11-08T07:45:47.232889Z"
    }
   },
   "id": "ee0e550142b50d6c"
  },
  {
   "cell_type": "markdown",
   "source": [
    "Parse only the first n sentences"
   ],
   "metadata": {
    "collapsed": false
   },
   "id": "b69c3782d55a5b6f"
  },
  {
   "cell_type": "code",
   "execution_count": 25,
   "outputs": [
    {
     "name": "stdout",
     "output_type": "stream",
     "text": [
      "Predicted Sentiment polarity: 0\n"
     ]
    }
   ],
   "source": [
    "n = 10\n",
    "index = []\n",
    "for row in review['review'][0 : n] :\n",
    "    index.append(row)\n",
    "#print( len (index), 'Sentiment:', row['sentiment'])\n",
    "print('Predicted Sentiment polarity:', swn_polarity(row))"
   ],
   "metadata": {
    "collapsed": false,
    "ExecuteTime": {
     "end_time": "2023-11-08T07:46:40.720138Z",
     "start_time": "2023-11-08T07:46:40.660076Z"
    }
   },
   "id": "c1161b032c94fc2d"
  },
  {
   "cell_type": "markdown",
   "source": [
    "**6. Text Blobs**"
   ],
   "metadata": {
    "collapsed": false
   },
   "id": "134ad9eb3b270cc4"
  },
  {
   "cell_type": "code",
   "execution_count": 27,
   "outputs": [
    {
     "data": {
      "text/plain": "[('The', 'DT'),\n ('titular', 'JJ'),\n ('threat', 'NN'),\n ('of', 'IN'),\n ('The', 'DT')]"
     },
     "execution_count": 27,
     "metadata": {},
     "output_type": "execute_result"
    }
   ],
   "source": [
    "from textblob import TextBlob\n",
    "text = '''\n",
    "The titular threat of The Blob has always struck me as the ultimate movie monster: an insatiably hungry, amoeba-like mass able to penetrate virtually any safeguard, capable of--as a doomed doctor chillingly describes it--\"assimilating flesh on contact. Snide comparisons to gelatin be damned, it's a concept with the most devastating of potential consequences, not unlike the grey goo scenario proposed by technological theorists fearful ofartificial intelligence run rampant.\n",
    "'''\n",
    "blob = TextBlob(text)\n",
    "blob.tags[:5] # [('The', 'DT'), ('titular', 'JJ'), # ('threat', 'NN'), ('of', 'IN'), ...]"
   ],
   "metadata": {
    "collapsed": false,
    "ExecuteTime": {
     "end_time": "2023-11-08T07:57:41.959490Z",
     "start_time": "2023-11-08T07:57:41.951122Z"
    }
   },
   "id": "e78688a2f3b59fc9"
  },
  {
   "cell_type": "code",
   "execution_count": 29,
   "outputs": [
    {
     "name": "stderr",
     "output_type": "stream",
     "text": [
      "[nltk_data] Downloading package brown to\n",
      "[nltk_data]     /Users/junghunlee/nltk_data...\n",
      "[nltk_data]   Unzipping corpora/brown.zip.\n"
     ]
    },
    {
     "data": {
      "text/plain": "WordList(['titular threat', 'blob', 'ultimate movie monster', 'amoeba-like mass', 'snide', 'potential consequences', 'grey goo scenario', 'technological theorists fearful ofartificial intelligence run rampant'])"
     },
     "execution_count": 29,
     "metadata": {},
     "output_type": "execute_result"
    }
   ],
   "source": [
    "nltk.download('brown')\n",
    "blob.noun_phrases # WordList(['titular threat', 'blob',\n",
    "# 'ultimate movie monster', # 'amoeba-like mass', ...])"
   ],
   "metadata": {
    "collapsed": false,
    "ExecuteTime": {
     "end_time": "2023-11-08T07:58:06.595687Z",
     "start_time": "2023-11-08T07:58:04.529649Z"
    }
   },
   "id": "afa14016306e9eb6"
  },
  {
   "cell_type": "code",
   "execution_count": 30,
   "outputs": [
    {
     "name": "stdout",
     "output_type": "stream",
     "text": [
      "0.06000000000000001\n",
      "-0.29000000000000004\n"
     ]
    }
   ],
   "source": [
    "for sentence in blob. sentences :\n",
    "    print(sentence.sentiment.polarity)"
   ],
   "metadata": {
    "collapsed": false,
    "ExecuteTime": {
     "end_time": "2023-11-08T07:58:12.023434Z",
     "start_time": "2023-11-08T07:58:11.992893Z"
    }
   },
   "id": "abc249f7075e1744"
  },
  {
   "cell_type": "code",
   "execution_count": 31,
   "outputs": [],
   "source": [
    "sentence1 = '''\n",
    "The platform provides universal access to the world's best education, partnering with top universities and organizations to offer courses online.\n",
    "'''"
   ],
   "metadata": {
    "collapsed": false,
    "ExecuteTime": {
     "end_time": "2023-11-08T07:59:40.147097Z",
     "start_time": "2023-11-08T07:59:40.119593Z"
    }
   },
   "id": "8ead1c1c3f92754a"
  },
  {
   "cell_type": "markdown",
   "source": [
    "polarity and subjectivity"
   ],
   "metadata": {
    "collapsed": false
   },
   "id": "f3464fc63d809f7a"
  },
  {
   "cell_type": "code",
   "execution_count": 32,
   "outputs": [
    {
     "name": "stdout",
     "output_type": "stream",
     "text": [
      "Sentiment(polarity=0.5, subjectivity=0.26666666666666666)\n",
      "0.5\n",
      "0.26666666666666666\n"
     ]
    }
   ],
   "source": [
    "analysis = TextBlob(sentence1).sentiment\n",
    "print(analysis)\n",
    "analysisPol = TextBlob(sentence1).polarity # 긍부정\n",
    "analysisSub = TextBlob(sentence1).subjectivity # 주객관성\n",
    "print(analysisPol)\n",
    "print(analysisSub)"
   ],
   "metadata": {
    "collapsed": false,
    "ExecuteTime": {
     "end_time": "2023-11-08T07:59:59.990080Z",
     "start_time": "2023-11-08T07:59:59.963670Z"
    }
   },
   "id": "316b2d485fc89338"
  },
  {
   "cell_type": "code",
   "execution_count": 33,
   "outputs": [
    {
     "name": "stdout",
     "output_type": "stream",
     "text": [
      "Sentiment(polarity=0.45499999999999996, subjectivity=0.54)\n",
      "Sentiment(polarity=0.9099999999999999, subjectivity=0.7800000000000001)\n",
      "Sentiment(polarity=0.0, subjectivity=0.3)\n"
     ]
    }
   ],
   "source": [
    "sentence2 = '''This phone's camera image is very good. But, the life time of battery is too short'''\n",
    "analysis = TextBlob(sentence2).sentiment\n",
    "print(analysis)\n",
    "blob2 = TextBlob(sentence2)\n",
    "\n",
    "for sentence in blob2.sentences:\n",
    "    print(sentence.sentiment)"
   ],
   "metadata": {
    "collapsed": false,
    "ExecuteTime": {
     "end_time": "2023-11-08T08:00:17.377665Z",
     "start_time": "2023-11-08T08:00:17.350340Z"
    }
   },
   "id": "340d1b116f626615"
  },
  {
   "cell_type": "markdown",
   "source": [
    "**7. Korean Sentiment Analysis (NRC Korean processing)**"
   ],
   "metadata": {
    "collapsed": false
   },
   "id": "5c5dbd209de7c51e"
  },
  {
   "cell_type": "code",
   "execution_count": 35,
   "outputs": [
    {
     "data": {
      "text/plain": "            word       Korean-ko emotion  emotion-intensity-score\n0       outraged             격분한   anger                    0.964\n1      brutality             야만성   anger                    0.959\n2         hatred              증오   anger                    0.953\n3        hateful         증오심이 많은   anger                    0.940\n4      terrorize          겁 먹게하다   anger                    0.939\n5      violently             맹렬히   anger                    0.938\n6     infuriated            격노 한   anger                    0.938\n7        furious             맹렬한   anger                    0.929\n8        enraged          성나게 하는   anger                    0.927\n9      furiously             격렬히   anger                    0.927\n10      screwyou  NO TRANSLATION   anger                    0.924\n11      murderer             살인자   anger                    0.922\n12          fury              격노   anger                    0.922\n13     execution              실행   anger                    0.917\n14       angered             분노한   anger                    0.916\n15      savagery           야만 상태   anger                    0.915\n16  slaughtering              도살   anger                    0.914\n17     veryangry  NO TRANSLATION   anger                    0.913\n18       fuckoff            망할 놈   anger                    0.912\n19  annihilation              전멸   anger                    0.912",
      "text/html": "<div>\n<style scoped>\n    .dataframe tbody tr th:only-of-type {\n        vertical-align: middle;\n    }\n\n    .dataframe tbody tr th {\n        vertical-align: top;\n    }\n\n    .dataframe thead th {\n        text-align: right;\n    }\n</style>\n<table border=\"1\" class=\"dataframe\">\n  <thead>\n    <tr style=\"text-align: right;\">\n      <th></th>\n      <th>word</th>\n      <th>Korean-ko</th>\n      <th>emotion</th>\n      <th>emotion-intensity-score</th>\n    </tr>\n  </thead>\n  <tbody>\n    <tr>\n      <th>0</th>\n      <td>outraged</td>\n      <td>격분한</td>\n      <td>anger</td>\n      <td>0.964</td>\n    </tr>\n    <tr>\n      <th>1</th>\n      <td>brutality</td>\n      <td>야만성</td>\n      <td>anger</td>\n      <td>0.959</td>\n    </tr>\n    <tr>\n      <th>2</th>\n      <td>hatred</td>\n      <td>증오</td>\n      <td>anger</td>\n      <td>0.953</td>\n    </tr>\n    <tr>\n      <th>3</th>\n      <td>hateful</td>\n      <td>증오심이 많은</td>\n      <td>anger</td>\n      <td>0.940</td>\n    </tr>\n    <tr>\n      <th>4</th>\n      <td>terrorize</td>\n      <td>겁 먹게하다</td>\n      <td>anger</td>\n      <td>0.939</td>\n    </tr>\n    <tr>\n      <th>5</th>\n      <td>violently</td>\n      <td>맹렬히</td>\n      <td>anger</td>\n      <td>0.938</td>\n    </tr>\n    <tr>\n      <th>6</th>\n      <td>infuriated</td>\n      <td>격노 한</td>\n      <td>anger</td>\n      <td>0.938</td>\n    </tr>\n    <tr>\n      <th>7</th>\n      <td>furious</td>\n      <td>맹렬한</td>\n      <td>anger</td>\n      <td>0.929</td>\n    </tr>\n    <tr>\n      <th>8</th>\n      <td>enraged</td>\n      <td>성나게 하는</td>\n      <td>anger</td>\n      <td>0.927</td>\n    </tr>\n    <tr>\n      <th>9</th>\n      <td>furiously</td>\n      <td>격렬히</td>\n      <td>anger</td>\n      <td>0.927</td>\n    </tr>\n    <tr>\n      <th>10</th>\n      <td>screwyou</td>\n      <td>NO TRANSLATION</td>\n      <td>anger</td>\n      <td>0.924</td>\n    </tr>\n    <tr>\n      <th>11</th>\n      <td>murderer</td>\n      <td>살인자</td>\n      <td>anger</td>\n      <td>0.922</td>\n    </tr>\n    <tr>\n      <th>12</th>\n      <td>fury</td>\n      <td>격노</td>\n      <td>anger</td>\n      <td>0.922</td>\n    </tr>\n    <tr>\n      <th>13</th>\n      <td>execution</td>\n      <td>실행</td>\n      <td>anger</td>\n      <td>0.917</td>\n    </tr>\n    <tr>\n      <th>14</th>\n      <td>angered</td>\n      <td>분노한</td>\n      <td>anger</td>\n      <td>0.916</td>\n    </tr>\n    <tr>\n      <th>15</th>\n      <td>savagery</td>\n      <td>야만 상태</td>\n      <td>anger</td>\n      <td>0.915</td>\n    </tr>\n    <tr>\n      <th>16</th>\n      <td>slaughtering</td>\n      <td>도살</td>\n      <td>anger</td>\n      <td>0.914</td>\n    </tr>\n    <tr>\n      <th>17</th>\n      <td>veryangry</td>\n      <td>NO TRANSLATION</td>\n      <td>anger</td>\n      <td>0.913</td>\n    </tr>\n    <tr>\n      <th>18</th>\n      <td>fuckoff</td>\n      <td>망할 놈</td>\n      <td>anger</td>\n      <td>0.912</td>\n    </tr>\n    <tr>\n      <th>19</th>\n      <td>annihilation</td>\n      <td>전멸</td>\n      <td>anger</td>\n      <td>0.912</td>\n    </tr>\n  </tbody>\n</table>\n</div>"
     },
     "execution_count": 35,
     "metadata": {},
     "output_type": "execute_result"
    }
   ],
   "source": [
    "NRC = pd.read_csv('../../Data/Korean-ko-NRC-Emotion-Intensity-Lexicon-v1.txt', \n",
    "                  engine = \"python\", \n",
    "                  header = 0, \n",
    "                  sep = \"\\t\")\n",
    "NRC.head(20)"
   ],
   "metadata": {
    "collapsed": false,
    "ExecuteTime": {
     "end_time": "2023-11-08T08:01:55.383352Z",
     "start_time": "2023-11-08T08:01:55.358125Z"
    }
   },
   "id": "6b0e6ebcb5e04634"
  },
  {
   "cell_type": "markdown",
   "source": [
    "Sentiment analysis"
   ],
   "metadata": {
    "collapsed": false
   },
   "id": "e13b13dfc9d6e5b"
  },
  {
   "cell_type": "code",
   "execution_count": 77,
   "outputs": [],
   "source": [
    "review1 = \"재미없는 지루한. 같은 음식 영화 인데도 바베트의 만찬하고 너무 차이난다...바베트의 만찬은 이야기도 있고 음식 보는 재미도 있는데 ; 이건 볼게 없는 음식도 별로 안나오고, 핀란드 풍경이라도 구경 하려 했는데 그것도 별로 안나온다 ㅡㅡ\""
   ],
   "metadata": {
    "collapsed": false,
    "ExecuteTime": {
     "end_time": "2023-11-08T08:12:12.355385Z",
     "start_time": "2023-11-08T08:12:12.340018Z"
    }
   },
   "id": "a3b172503b36aa93"
  },
  {
   "cell_type": "code",
   "execution_count": 78,
   "outputs": [
    {
     "name": "stdout",
     "output_type": "stream",
     "text": [
      "['재미없는', '지루한', '같은', '음식', '영화', '인데도', '바베트의', '만찬하고', '너무', '차이난다', '바베트의', '만찬은', '이야기도', '있고', '음식', '보는', '재미도', '있는데', '이건', '볼게', '없는', '음식도', '별로', '안나오고', '핀란드', '풍경이라도', '구경', '하려', '했는데', '그것도', '별로', '안나온다', 'ㅡㅡ']\n"
     ]
    }
   ],
   "source": [
    "import numpy as np\n",
    "tokenizer = RegexpTokenizer('[\\w]+')\n",
    "tokens = tokenizer.tokenize(review1)\n",
    "print(tokens)"
   ],
   "metadata": {
    "collapsed": false,
    "ExecuteTime": {
     "end_time": "2023-11-08T08:12:12.572355Z",
     "start_time": "2023-11-08T08:12:12.564963Z"
    }
   },
   "id": "d8f7b9bcf09e6d95"
  },
  {
   "cell_type": "code",
   "execution_count": 79,
   "outputs": [
    {
     "name": "stdout",
     "output_type": "stream",
     "text": [
      "['음식', '영화', '음식', '없는']\n"
     ]
    },
    {
     "data": {
      "text/plain": "4"
     },
     "execution_count": 79,
     "metadata": {},
     "output_type": "execute_result"
    }
   ],
   "source": [
    "match_words = [x for x in tokens if x in list(NRC['Korean-ko'])] # 사전과 매칭\n",
    "print(match_words)\n",
    "len(match_words)"
   ],
   "metadata": {
    "collapsed": false,
    "ExecuteTime": {
     "end_time": "2023-11-08T08:12:13.278010Z",
     "start_time": "2023-11-08T08:12:13.259868Z"
    }
   },
   "id": "c5b27506363f51be"
  },
  {
   "cell_type": "code",
   "execution_count": 80,
   "outputs": [
    {
     "name": "stdout",
     "output_type": "stream",
     "text": [
      "['음식', '음식', '영화', '영화', '영화', '영화', '음식', '음식', '없는']\n"
     ]
    }
   ],
   "source": [
    "emotion=[]\n",
    "for i in match_words:\n",
    "    temp = list(NRC.iloc[np.where(NRC['Korean-ko'] == i)[0],1])\n",
    "    for j in temp:\n",
    "        emotion.append(j)\n",
    "print(emotion)"
   ],
   "metadata": {
    "collapsed": false,
    "ExecuteTime": {
     "end_time": "2023-11-08T08:12:14.710526Z",
     "start_time": "2023-11-08T08:12:14.703274Z"
    }
   },
   "id": "1e8d0519a2421ace"
  },
  {
   "cell_type": "code",
   "execution_count": 81,
   "outputs": [
    {
     "data": {
      "text/plain": "음식    4\n영화    4\n없는    1\nName: count, dtype: int64"
     },
     "execution_count": 81,
     "metadata": {},
     "output_type": "execute_result"
    }
   ],
   "source": [
    "sentiment_result1 = pd.Series(emotion).value_counts()\n",
    "# print(sentiment_result1, sentiment_result1.plot.bar())\n",
    "sentiment_result1"
   ],
   "metadata": {
    "collapsed": false,
    "ExecuteTime": {
     "end_time": "2023-11-08T08:12:15.348134Z",
     "start_time": "2023-11-08T08:12:15.343572Z"
    }
   },
   "id": "fd38dbf059c995"
  },
  {
   "cell_type": "markdown",
   "source": [
    "**8. Using Google Translate**"
   ],
   "metadata": {
    "collapsed": false
   },
   "id": "28427a0d35bed1a7"
  },
  {
   "cell_type": "code",
   "execution_count": 82,
   "outputs": [],
   "source": [
    "text = ['Ah dubbing.. Really annoying voice',\n",
    "        'It was so funny, so I recommend watching it',\n",
    "        'Its a prison story ..Honestly, its not fun .. Rating adjustment',\n",
    "        'A movie with Simon Peggs humorous acting that stood out! Kirsten Dunst, who only looked old in Spider-Man, looked so pretty',\n",
    "        'A movie for 8-year-olds who have just started walking from the age of 3 to the 1st year of elementary school. Hahaha... Its not even worth it.',\n",
    "        'I couldnt properly revive the tension of the original.',\n",
    "        'One of the few movies that is interesting even without action',\n",
    "        'Why is the rating so low? Its quite a sight to behold. Are you too accustomed to Hollywood-style glamour?',\n",
    "        'Gyan Infinite is the best. Its really cool ♥',\n",
    "        'Every time I see it I will die of tears! The nostalgic stimulation of the 90s!! Jinho Heo is a master of emotionally restrained melodies~',\n",
    "        'I almost ran out when I crossed the crosswalk with my hands raised crying, I cant show off Lee Beom-soos acting',\n",
    "        'Goodbye Lenin, I understand that this is plagiarism, but why does it get less interesting the further back you go',\n",
    "        'This is a really good mix of real casting and refreshing content that isnt sticky!!♥',\n",
    "        'Excuse for the looter, ya . Those guys aren\\'t good guys at all.',\n",
    "        'It seems to have a profound meaning. Its never just a movie in which students play with their teachers',\n",
    "        'I would like to say that it is a masterpiece, not an ordinary movie.',\n",
    "        'The subject is good, but it gets boring from the middle']"
   ],
   "metadata": {
    "collapsed": false,
    "ExecuteTime": {
     "end_time": "2023-11-08T08:13:46.693816Z",
     "start_time": "2023-11-08T08:13:46.659852Z"
    }
   },
   "id": "5efec7c5e7b074c8"
  },
  {
   "cell_type": "code",
   "execution_count": 83,
   "outputs": [
    {
     "data": {
      "text/plain": "         0             1  2\n0    aback         anger  0\n1    aback  anticipation  0\n2    aback       disgust  0\n3    aback          fear  0\n4    aback           joy  0\n5    aback      negative  0\n6    aback      positive  0\n7    aback       sadness  0\n8    aback      surprise  0\n9    aback         trust  0\n10  abacus         anger  0\n11  abacus  anticipation  0\n12  abacus       disgust  0\n13  abacus          fear  0\n14  abacus           joy  0\n15  abacus      negative  0\n16  abacus      positive  0\n17  abacus       sadness  0\n18  abacus      surprise  0\n19  abacus         trust  1",
      "text/html": "<div>\n<style scoped>\n    .dataframe tbody tr th:only-of-type {\n        vertical-align: middle;\n    }\n\n    .dataframe tbody tr th {\n        vertical-align: top;\n    }\n\n    .dataframe thead th {\n        text-align: right;\n    }\n</style>\n<table border=\"1\" class=\"dataframe\">\n  <thead>\n    <tr style=\"text-align: right;\">\n      <th></th>\n      <th>0</th>\n      <th>1</th>\n      <th>2</th>\n    </tr>\n  </thead>\n  <tbody>\n    <tr>\n      <th>0</th>\n      <td>aback</td>\n      <td>anger</td>\n      <td>0</td>\n    </tr>\n    <tr>\n      <th>1</th>\n      <td>aback</td>\n      <td>anticipation</td>\n      <td>0</td>\n    </tr>\n    <tr>\n      <th>2</th>\n      <td>aback</td>\n      <td>disgust</td>\n      <td>0</td>\n    </tr>\n    <tr>\n      <th>3</th>\n      <td>aback</td>\n      <td>fear</td>\n      <td>0</td>\n    </tr>\n    <tr>\n      <th>4</th>\n      <td>aback</td>\n      <td>joy</td>\n      <td>0</td>\n    </tr>\n    <tr>\n      <th>5</th>\n      <td>aback</td>\n      <td>negative</td>\n      <td>0</td>\n    </tr>\n    <tr>\n      <th>6</th>\n      <td>aback</td>\n      <td>positive</td>\n      <td>0</td>\n    </tr>\n    <tr>\n      <th>7</th>\n      <td>aback</td>\n      <td>sadness</td>\n      <td>0</td>\n    </tr>\n    <tr>\n      <th>8</th>\n      <td>aback</td>\n      <td>surprise</td>\n      <td>0</td>\n    </tr>\n    <tr>\n      <th>9</th>\n      <td>aback</td>\n      <td>trust</td>\n      <td>0</td>\n    </tr>\n    <tr>\n      <th>10</th>\n      <td>abacus</td>\n      <td>anger</td>\n      <td>0</td>\n    </tr>\n    <tr>\n      <th>11</th>\n      <td>abacus</td>\n      <td>anticipation</td>\n      <td>0</td>\n    </tr>\n    <tr>\n      <th>12</th>\n      <td>abacus</td>\n      <td>disgust</td>\n      <td>0</td>\n    </tr>\n    <tr>\n      <th>13</th>\n      <td>abacus</td>\n      <td>fear</td>\n      <td>0</td>\n    </tr>\n    <tr>\n      <th>14</th>\n      <td>abacus</td>\n      <td>joy</td>\n      <td>0</td>\n    </tr>\n    <tr>\n      <th>15</th>\n      <td>abacus</td>\n      <td>negative</td>\n      <td>0</td>\n    </tr>\n    <tr>\n      <th>16</th>\n      <td>abacus</td>\n      <td>positive</td>\n      <td>0</td>\n    </tr>\n    <tr>\n      <th>17</th>\n      <td>abacus</td>\n      <td>sadness</td>\n      <td>0</td>\n    </tr>\n    <tr>\n      <th>18</th>\n      <td>abacus</td>\n      <td>surprise</td>\n      <td>0</td>\n    </tr>\n    <tr>\n      <th>19</th>\n      <td>abacus</td>\n      <td>trust</td>\n      <td>1</td>\n    </tr>\n  </tbody>\n</table>\n</div>"
     },
     "execution_count": 83,
     "metadata": {},
     "output_type": "execute_result"
    }
   ],
   "source": [
    "NRC = pd.read_csv ('../../Data/NRC-Emotion-Lexicon-Wordlevel-v0.92.txt', \n",
    "                   engine = \"python\", \n",
    "                   header = None, \n",
    "                   sep = \"\\t\")\n",
    "NRC.head(20)"
   ],
   "metadata": {
    "collapsed": false,
    "ExecuteTime": {
     "end_time": "2023-11-08T08:15:19.617184Z",
     "start_time": "2023-11-08T08:15:19.459111Z"
    }
   },
   "id": "3fe3381597ef901c"
  },
  {
   "cell_type": "code",
   "execution_count": 84,
   "outputs": [
    {
     "data": {
      "text/plain": "              0         1  2\n19       abacus     trust  1\n23      abandon      fear  1\n25      abandon  negative  1\n27      abandon   sadness  1\n30    abandoned     anger  1\n33    abandoned      fear  1\n35    abandoned  negative  1\n37    abandoned   sadness  1\n40  abandonment     anger  1\n43  abandonment      fear  1",
      "text/html": "<div>\n<style scoped>\n    .dataframe tbody tr th:only-of-type {\n        vertical-align: middle;\n    }\n\n    .dataframe tbody tr th {\n        vertical-align: top;\n    }\n\n    .dataframe thead th {\n        text-align: right;\n    }\n</style>\n<table border=\"1\" class=\"dataframe\">\n  <thead>\n    <tr style=\"text-align: right;\">\n      <th></th>\n      <th>0</th>\n      <th>1</th>\n      <th>2</th>\n    </tr>\n  </thead>\n  <tbody>\n    <tr>\n      <th>19</th>\n      <td>abacus</td>\n      <td>trust</td>\n      <td>1</td>\n    </tr>\n    <tr>\n      <th>23</th>\n      <td>abandon</td>\n      <td>fear</td>\n      <td>1</td>\n    </tr>\n    <tr>\n      <th>25</th>\n      <td>abandon</td>\n      <td>negative</td>\n      <td>1</td>\n    </tr>\n    <tr>\n      <th>27</th>\n      <td>abandon</td>\n      <td>sadness</td>\n      <td>1</td>\n    </tr>\n    <tr>\n      <th>30</th>\n      <td>abandoned</td>\n      <td>anger</td>\n      <td>1</td>\n    </tr>\n    <tr>\n      <th>33</th>\n      <td>abandoned</td>\n      <td>fear</td>\n      <td>1</td>\n    </tr>\n    <tr>\n      <th>35</th>\n      <td>abandoned</td>\n      <td>negative</td>\n      <td>1</td>\n    </tr>\n    <tr>\n      <th>37</th>\n      <td>abandoned</td>\n      <td>sadness</td>\n      <td>1</td>\n    </tr>\n    <tr>\n      <th>40</th>\n      <td>abandonment</td>\n      <td>anger</td>\n      <td>1</td>\n    </tr>\n    <tr>\n      <th>43</th>\n      <td>abandonment</td>\n      <td>fear</td>\n      <td>1</td>\n    </tr>\n  </tbody>\n</table>\n</div>"
     },
     "execution_count": 84,
     "metadata": {},
     "output_type": "execute_result"
    }
   ],
   "source": [
    "NRC = NRC[(NRC != 0).all(1)]\n",
    "NRC.head(10)"
   ],
   "metadata": {
    "collapsed": false,
    "ExecuteTime": {
     "end_time": "2023-11-08T08:15:40.532663Z",
     "start_time": "2023-11-08T08:15:40.508733Z"
    }
   },
   "id": "e429f0e5378dca68"
  },
  {
   "cell_type": "markdown",
   "source": [
    "Column 0 : ( Applicable word ), Column 1 : (10 sentiments ), Column 2 : ( Applicable )\n",
    "\n",
    "Example ) abacus corresponds to the emotion of trust , and abadon corresponds to the three types of fear, negative,and sadness ."
   ],
   "metadata": {
    "collapsed": false
   },
   "id": "a67c15c75a6add54"
  },
  {
   "cell_type": "code",
   "execution_count": 85,
   "outputs": [
    {
     "data": {
      "text/plain": "             0         1  2\n0       abacus     trust  1\n1      abandon      fear  1\n2      abandon  negative  1\n3      abandon   sadness  1\n4    abandoned     anger  1\n5    abandoned      fear  1\n6    abandoned  negative  1\n7    abandoned   sadness  1\n8  abandonment     anger  1\n9  abandonment      fear  1",
      "text/html": "<div>\n<style scoped>\n    .dataframe tbody tr th:only-of-type {\n        vertical-align: middle;\n    }\n\n    .dataframe tbody tr th {\n        vertical-align: top;\n    }\n\n    .dataframe thead th {\n        text-align: right;\n    }\n</style>\n<table border=\"1\" class=\"dataframe\">\n  <thead>\n    <tr style=\"text-align: right;\">\n      <th></th>\n      <th>0</th>\n      <th>1</th>\n      <th>2</th>\n    </tr>\n  </thead>\n  <tbody>\n    <tr>\n      <th>0</th>\n      <td>abacus</td>\n      <td>trust</td>\n      <td>1</td>\n    </tr>\n    <tr>\n      <th>1</th>\n      <td>abandon</td>\n      <td>fear</td>\n      <td>1</td>\n    </tr>\n    <tr>\n      <th>2</th>\n      <td>abandon</td>\n      <td>negative</td>\n      <td>1</td>\n    </tr>\n    <tr>\n      <th>3</th>\n      <td>abandon</td>\n      <td>sadness</td>\n      <td>1</td>\n    </tr>\n    <tr>\n      <th>4</th>\n      <td>abandoned</td>\n      <td>anger</td>\n      <td>1</td>\n    </tr>\n    <tr>\n      <th>5</th>\n      <td>abandoned</td>\n      <td>fear</td>\n      <td>1</td>\n    </tr>\n    <tr>\n      <th>6</th>\n      <td>abandoned</td>\n      <td>negative</td>\n      <td>1</td>\n    </tr>\n    <tr>\n      <th>7</th>\n      <td>abandoned</td>\n      <td>sadness</td>\n      <td>1</td>\n    </tr>\n    <tr>\n      <th>8</th>\n      <td>abandonment</td>\n      <td>anger</td>\n      <td>1</td>\n    </tr>\n    <tr>\n      <th>9</th>\n      <td>abandonment</td>\n      <td>fear</td>\n      <td>1</td>\n    </tr>\n  </tbody>\n</table>\n</div>"
     },
     "execution_count": 85,
     "metadata": {},
     "output_type": "execute_result"
    }
   ],
   "source": [
    "NRC = NRC.reset_index(drop = True)\n",
    "NRC.head(10)"
   ],
   "metadata": {
    "collapsed": false,
    "ExecuteTime": {
     "end_time": "2023-11-08T08:16:08.725669Z",
     "start_time": "2023-11-08T08:16:08.677417Z"
    }
   },
   "id": "7da221c8b6047eaa"
  },
  {
   "cell_type": "markdown",
   "source": [
    "Sentiment analysis using NRC for a specific sentence 1"
   ],
   "metadata": {
    "collapsed": false
   },
   "id": "2400b10b8151f05"
  },
  {
   "cell_type": "code",
   "execution_count": 86,
   "outputs": [],
   "source": [
    "tokenizer = RegexpTokenizer('[\\w]+')\n",
    "stop_words = stopwords.words('english')\n",
    "p_stemmer = PorterStemmer()"
   ],
   "metadata": {
    "collapsed": false,
    "ExecuteTime": {
     "end_time": "2023-11-08T08:16:45.996937Z",
     "start_time": "2023-11-08T08:16:45.965727Z"
    }
   },
   "id": "db7243a49b3a7c14"
  },
  {
   "cell_type": "code",
   "execution_count": 89,
   "outputs": [
    {
     "data": {
      "text/plain": "17"
     },
     "execution_count": 89,
     "metadata": {},
     "output_type": "execute_result"
    }
   ],
   "source": [
    "len(text)"
   ],
   "metadata": {
    "collapsed": false,
    "ExecuteTime": {
     "end_time": "2023-11-08T08:17:28.682317Z",
     "start_time": "2023-11-08T08:17:28.663226Z"
    }
   },
   "id": "4eae7b97a3602ca"
  },
  {
   "cell_type": "code",
   "execution_count": 90,
   "outputs": [],
   "source": [
    "text1 = text[-1]\n",
    "raw = text1.lower() # target sentence\n",
    "tokens = tokenizer.tokenize(raw)\n",
    "stopped_tokens = [i for i in tokens if not i in stop_words] # remove stop words\n",
    "match_words = [x for x in stopped_tokens if x in list(NRC[0])] # match w/ dictionary"
   ],
   "metadata": {
    "collapsed": false,
    "ExecuteTime": {
     "end_time": "2023-11-08T08:17:49.268311Z",
     "start_time": "2023-11-08T08:17:49.252587Z"
    }
   },
   "id": "4eda818657dd1a3b"
  },
  {
   "cell_type": "code",
   "execution_count": 91,
   "outputs": [
    {
     "name": "stdout",
     "output_type": "stream",
     "text": [
      "negative        2\n",
      "anticipation    1\n",
      "joy             1\n",
      "positive        1\n",
      "surprise        1\n",
      "trust           1\n",
      "Name: count, dtype: int64 Axes(0.125,0.11;0.775x0.77)\n"
     ]
    },
    {
     "data": {
      "text/plain": "<Figure size 640x480 with 1 Axes>",
      "image/png": "[encoded data removed]"
     },
     "metadata": {},
     "output_type": "display_data"
    }
   ],
   "source": [
    "emotion=[]\n",
    "for i in match_words:\n",
    "    temp = list(NRC.iloc[np.where(NRC[0] == i)[0],1])\n",
    "    for j in temp:\n",
    "        emotion.append(j)\n",
    "sentiment_result1 = pd.Series(emotion).value_counts()\n",
    "print(sentiment_result1, sentiment_result1.plot.bar())"
   ],
   "metadata": {
    "collapsed": false,
    "ExecuteTime": {
     "end_time": "2023-11-08T08:18:00.336968Z",
     "start_time": "2023-11-08T08:18:00.275309Z"
    }
   },
   "id": "53679bc8bde0d41e"
  },
  {
   "cell_type": "code",
   "execution_count": null,
   "outputs": [],
   "source": [],
   "metadata": {
    "collapsed": false
   },
   "id": "31b5642d3c81187a"
  }
 ],
 "metadata": {
  "kernelspec": {
   "display_name": "Python 3",
   "language": "python",
   "name": "python3"
  },
  "language_info": {
   "codemirror_mode": {
    "name": "ipython",
    "version": 2
   },
   "file_extension": ".py",
   "mimetype": "text/x-python",
   "name": "python",
   "nbconvert_exporter": "python",
   "pygments_lexer": "ipython2",
   "version": "2.7.6"
  }
 },
 "nbformat": 4,
 "nbformat_minor": 5
}
