{
 "cells": [
  {
   "cell_type": "markdown",
   "source": [
    "### Sentiment Analysis\n",
    "\n",
    "**◆ Uses of Sentiment Analysis**\n",
    "\n",
    "- It is necessary to analyze the emotions and sentiments contained in the text using machines without bias.\n",
    "- Spam or malicious messages can be extracted and removed.\n",
    "- A chatbot can analyze the emotional level of a message sent by a human and create a human-like response corresponding to it.\n",
    "\n",
    "**◆ Sentiment analysis approach**\n",
    "\n",
    "The following two methods are used\n",
    "\n",
    "(1) using human-written rule-based algorithms; It is based on a dictionary (lexicon) containing pairs of specific words and sentiment scores, and the VADER algorithm ( Scikit Learn ) has exist\n",
    "\n",
    "(2) using machine learning models where computers learn directly from data; Create rules by training a machine learning model using a set of sentences or documents with"
   ],
   "metadata": {
    "collapsed": false
   },
   "id": "c815c4311d2854b0"
  },
  {
   "cell_type": "markdown",
   "source": [
    "#### 1. English Emotional Glossary\n",
    "\n",
    "1. AFINN: assigns a score between -5 and 5 (positive/ negative)\n",
    "2. Bing : positive / negative of words in binary format classification\n",
    "3. NRC: 10 types emotion Use a glossary of terms\n",
    "    {fear, anger, anticipation, trust, surprise, positive, negative, sadness, disgust, joy}\n",
    "    http://jonathansoma.com/lede/algorithms-2017/classes/more-text-analysis/nrc-emotional-lexicon/\n",
    "4. VADER : Score calculation for ( negative+neutral+positive =1)\n",
    "    ( https://towardsdatascience.com/religion-on-twitter-5f7b84062304 )\n",
    "    The compound score is computed by summing the valence scores of each word in the lexicon, adjusted according to the rules, and then normalized to be between -1 (most extreme negative) and +1 (most extreme positive).\n",
    "   \n",
    "    **▪ Typical threshold values:**\n",
    "   \n",
    "    - positive sentiment: compound score >= 0.05\n",
    "   \n",
    "    - neutral sentiment: (compound score > -0.05) and (compound score < 0.05)\n",
    "   \n",
    "    - negative sentiment: compound score <= -0.05\n",
    "   \n",
    "5. SentiWordNet : SentiWordNet assigns to each synset of WordNet three sentiment scores: positivity, negativity, objectivity. https://github.com/aesuli/SentiWordNet\n",
    "\n",
    "6. TextBlob : It provides common NLP tasks such as part-of-speech tagging, noun phrase extraction, sentiment analysis, classification, translation, and more. ( https://textblob.readthedocs.io/en/dev/ )\n",
    "\n",
    "    Negative : polatiry [-1 to 1]\n",
    "   \n",
    "    Subjectivity : subjectivity [objective:0 ~subjective:1]\n",
    "   \n",
    "7. SentimentR"
   ],
   "metadata": {
    "collapsed": false
   },
   "id": "1049f16961c5dc1f"
  },
  {
   "cell_type": "markdown",
   "source": [
    "#### 2. Emotional terms in Korean dictionary\n",
    "\n",
    "For Korean, a free downloadable glossary is available. Incomplete. the Korean-ko-NRC-Emotion-Intensity-Lexicon-v1.txt file from google Applying the English sentiment analysis method using a translator is one method.\n",
    "\n",
    "**1. IMDB movie review download and sentiment analysis (Using the glossary)**"
   ],
   "metadata": {
    "collapsed": false
   },
   "id": "7de3ffdcd0beeb91"
  },
  {
   "cell_type": "code",
   "execution_count": 1,
   "id": "initial_id",
   "metadata": {
    "collapsed": true,
    "ExecuteTime": {
     "end_time": "2023-11-06T08:07:34.139739Z",
     "start_time": "2023-11-06T08:07:32.916487Z"
    }
   },
   "outputs": [
    {
     "name": "stderr",
     "output_type": "stream",
     "text": [
      "[nltk_data] Downloading package stopwords to\n",
      "[nltk_data]     /Users/junghunlee/nltk_data...\n",
      "[nltk_data]   Package stopwords is already up-to-date!\n"
     ]
    }
   ],
   "source": [
    "import pandas as pd\n",
    "import nltk\n",
    "from afinn import afinn\n",
    "nltk.download('stopwords')\n",
    "from nltk.corpus import stopwords\n",
    "from nltk.stem.porter import PorterStemmer\n",
    "from nltk.tokenize import RegexpTokenizer\n",
    "import numpy as np\n",
    "import matplotlib.pyplot as plt"
   ]
  },
  {
   "cell_type": "code",
   "execution_count": 4,
   "outputs": [
    {
     "data": {
      "text/plain": "                                              review sentiment\n0  One of the other reviewers has mentioned that ...  positive\n1  A wonderful little production. <br /><br />The...  positive\n2  I thought this was a wonderful way to spend ti...  positive\n3  Basically there's a family where a little boy ...  negative\n4  Petter Mattei's \"Love in the Time of Money\" is...  positive",
      "text/html": "<div>\n<style scoped>\n    .dataframe tbody tr th:only-of-type {\n        vertical-align: middle;\n    }\n\n    .dataframe tbody tr th {\n        vertical-align: top;\n    }\n\n    .dataframe thead th {\n        text-align: right;\n    }\n</style>\n<table border=\"1\" class=\"dataframe\">\n  <thead>\n    <tr style=\"text-align: right;\">\n      <th></th>\n      <th>review</th>\n      <th>sentiment</th>\n    </tr>\n  </thead>\n  <tbody>\n    <tr>\n      <th>0</th>\n      <td>One of the other reviewers has mentioned that ...</td>\n      <td>positive</td>\n    </tr>\n    <tr>\n      <th>1</th>\n      <td>A wonderful little production. &lt;br /&gt;&lt;br /&gt;The...</td>\n      <td>positive</td>\n    </tr>\n    <tr>\n      <th>2</th>\n      <td>I thought this was a wonderful way to spend ti...</td>\n      <td>positive</td>\n    </tr>\n    <tr>\n      <th>3</th>\n      <td>Basically there's a family where a little boy ...</td>\n      <td>negative</td>\n    </tr>\n    <tr>\n      <th>4</th>\n      <td>Petter Mattei's \"Love in the Time of Money\" is...</td>\n      <td>positive</td>\n    </tr>\n  </tbody>\n</table>\n</div>"
     },
     "execution_count": 4,
     "metadata": {},
     "output_type": "execute_result"
    }
   ],
   "source": [
    "review = pd.read_csv('../../Data/IMDBDataset.csv')\n",
    "review.head()"
   ],
   "metadata": {
    "collapsed": false,
    "ExecuteTime": {
     "end_time": "2023-11-06T08:08:33.909867Z",
     "start_time": "2023-11-06T08:08:33.446452Z"
    }
   },
   "id": "eeb37bc354b8f51b"
  },
  {
   "cell_type": "markdown",
   "source": [
    "**2. AFINN Lexicon**\n",
    "\n",
    "Calculate sentiment score using AFINN glossary(AFINN: consists of -5 to 5 points for each word)"
   ],
   "metadata": {
    "collapsed": false
   },
   "id": "5a2d745a8c84a71b"
  },
  {
   "cell_type": "code",
   "execution_count": 6,
   "outputs": [
    {
     "name": "stdout",
     "output_type": "stream",
     "text": [
      "13.0\n",
      "-8.0\n"
     ]
    }
   ],
   "source": [
    "afinn_ = afinn.Afinn()\n",
    "pos_review = review['review'][1] # Print only one positive sentence\n",
    "neg_review = review['review'][3] # print only one negative sentence\n",
    "print(afinn_.score(pos_review))\n",
    "print(afinn_.score(neg_review))"
   ],
   "metadata": {
    "collapsed": false,
    "ExecuteTime": {
     "end_time": "2023-11-06T08:15:20.379974Z",
     "start_time": "2023-11-06T08:15:20.284703Z"
    }
   },
   "id": "c9a6409ebac76c6d"
  },
  {
   "cell_type": "code",
   "execution_count": 7,
   "outputs": [],
   "source": [
    "afn = afinn.Afinn(emoticons = True)"
   ],
   "metadata": {
    "collapsed": false,
    "ExecuteTime": {
     "end_time": "2023-11-06T08:15:43.089074Z",
     "start_time": "2023-11-06T08:15:43.054986Z"
    }
   },
   "id": "40e74a4411cded28"
  },
  {
   "cell_type": "code",
   "execution_count": 9,
   "outputs": [
    {
     "name": "stdout",
     "output_type": "stream",
     "text": [
      "100 Predicted Sentiment Polarity :  41.0\n"
     ]
    }
   ],
   "source": [
    "# Parse only the first n sentences\n",
    "n = 100\n",
    "index = []\n",
    "for row in review['review'][0:n] :\n",
    "    index.append(row)\n",
    "print(len(index), 'Predicted Sentiment Polarity : ', afn.score(row))"
   ],
   "metadata": {
    "collapsed": false,
    "ExecuteTime": {
     "end_time": "2023-11-06T08:16:49.237262Z",
     "start_time": "2023-11-06T08:16:49.235102Z"
    }
   },
   "id": "6f2679053430db1e"
  },
  {
   "cell_type": "markdown",
   "source": [
    "**3. NRC Vocabulary**\n",
    "\n",
    "Sentiment classification using NRC terminology (NRC: classifying each word into 10 sentiments)"
   ],
   "metadata": {
    "collapsed": false
   },
   "id": "9b2b09b026f9dc27"
  },
  {
   "cell_type": "code",
   "execution_count": 10,
   "outputs": [
    {
     "data": {
      "text/plain": "       0             1  2\n0  aback         anger  0\n1  aback  anticipation  0\n2  aback       disgust  0\n3  aback          fear  0\n4  aback           joy  0",
      "text/html": "<div>\n<style scoped>\n    .dataframe tbody tr th:only-of-type {\n        vertical-align: middle;\n    }\n\n    .dataframe tbody tr th {\n        vertical-align: top;\n    }\n\n    .dataframe thead th {\n        text-align: right;\n    }\n</style>\n<table border=\"1\" class=\"dataframe\">\n  <thead>\n    <tr style=\"text-align: right;\">\n      <th></th>\n      <th>0</th>\n      <th>1</th>\n      <th>2</th>\n    </tr>\n  </thead>\n  <tbody>\n    <tr>\n      <th>0</th>\n      <td>aback</td>\n      <td>anger</td>\n      <td>0</td>\n    </tr>\n    <tr>\n      <th>1</th>\n      <td>aback</td>\n      <td>anticipation</td>\n      <td>0</td>\n    </tr>\n    <tr>\n      <th>2</th>\n      <td>aback</td>\n      <td>disgust</td>\n      <td>0</td>\n    </tr>\n    <tr>\n      <th>3</th>\n      <td>aback</td>\n      <td>fear</td>\n      <td>0</td>\n    </tr>\n    <tr>\n      <th>4</th>\n      <td>aback</td>\n      <td>joy</td>\n      <td>0</td>\n    </tr>\n  </tbody>\n</table>\n</div>"
     },
     "execution_count": 10,
     "metadata": {},
     "output_type": "execute_result"
    }
   ],
   "source": [
    "nrc = pd.read_csv('../../Data/NRC-Emotion-Lexicon-Wordlevel-v0.92.txt', engine = \"python\", header = None, sep = \"\\t\")\n",
    "nrc.head()"
   ],
   "metadata": {
    "collapsed": false,
    "ExecuteTime": {
     "end_time": "2023-11-06T08:19:47.589067Z",
     "start_time": "2023-11-06T08:19:47.307913Z"
    }
   },
   "id": "77215c132f908e42"
  },
  {
   "cell_type": "code",
   "execution_count": 11,
   "outputs": [
    {
     "data": {
      "text/plain": "              0         1  2\n19       abacus     trust  1\n23      abandon      fear  1\n25      abandon  negative  1\n27      abandon   sadness  1\n30    abandoned     anger  1\n33    abandoned      fear  1\n35    abandoned  negative  1\n37    abandoned   sadness  1\n40  abandonment     anger  1\n43  abandonment      fear  1",
      "text/html": "<div>\n<style scoped>\n    .dataframe tbody tr th:only-of-type {\n        vertical-align: middle;\n    }\n\n    .dataframe tbody tr th {\n        vertical-align: top;\n    }\n\n    .dataframe thead th {\n        text-align: right;\n    }\n</style>\n<table border=\"1\" class=\"dataframe\">\n  <thead>\n    <tr style=\"text-align: right;\">\n      <th></th>\n      <th>0</th>\n      <th>1</th>\n      <th>2</th>\n    </tr>\n  </thead>\n  <tbody>\n    <tr>\n      <th>19</th>\n      <td>abacus</td>\n      <td>trust</td>\n      <td>1</td>\n    </tr>\n    <tr>\n      <th>23</th>\n      <td>abandon</td>\n      <td>fear</td>\n      <td>1</td>\n    </tr>\n    <tr>\n      <th>25</th>\n      <td>abandon</td>\n      <td>negative</td>\n      <td>1</td>\n    </tr>\n    <tr>\n      <th>27</th>\n      <td>abandon</td>\n      <td>sadness</td>\n      <td>1</td>\n    </tr>\n    <tr>\n      <th>30</th>\n      <td>abandoned</td>\n      <td>anger</td>\n      <td>1</td>\n    </tr>\n    <tr>\n      <th>33</th>\n      <td>abandoned</td>\n      <td>fear</td>\n      <td>1</td>\n    </tr>\n    <tr>\n      <th>35</th>\n      <td>abandoned</td>\n      <td>negative</td>\n      <td>1</td>\n    </tr>\n    <tr>\n      <th>37</th>\n      <td>abandoned</td>\n      <td>sadness</td>\n      <td>1</td>\n    </tr>\n    <tr>\n      <th>40</th>\n      <td>abandonment</td>\n      <td>anger</td>\n      <td>1</td>\n    </tr>\n    <tr>\n      <th>43</th>\n      <td>abandonment</td>\n      <td>fear</td>\n      <td>1</td>\n    </tr>\n  </tbody>\n</table>\n</div>"
     },
     "execution_count": 11,
     "metadata": {},
     "output_type": "execute_result"
    }
   ],
   "source": [
    "nrc = nrc[(nrc != 0).all(1)]\n",
    "nrc.head(10)"
   ],
   "metadata": {
    "collapsed": false,
    "ExecuteTime": {
     "end_time": "2023-11-06T08:20:14.788478Z",
     "start_time": "2023-11-06T08:20:14.779103Z"
    }
   },
   "id": "6e171fe339fd3ac3"
  },
  {
   "cell_type": "markdown",
   "source": [
    "Column 0 : ( Applicable word ), Column 1 : (10 sentiments ), Column 2 : ( Applicable )\n",
    "\n",
    "Example ) abacus corresponds to the emotion of trust, and abadon corresponds to the three types of fear, negative, and sadness"
   ],
   "metadata": {
    "collapsed": false
   },
   "id": "d9b0498b871002f9"
  },
  {
   "cell_type": "code",
   "execution_count": 12,
   "outputs": [
    {
     "data": {
      "text/plain": "           0         1  2\n0     abacus     trust  1\n1    abandon      fear  1\n2    abandon  negative  1\n3    abandon   sadness  1\n4  abandoned     anger  1",
      "text/html": "<div>\n<style scoped>\n    .dataframe tbody tr th:only-of-type {\n        vertical-align: middle;\n    }\n\n    .dataframe tbody tr th {\n        vertical-align: top;\n    }\n\n    .dataframe thead th {\n        text-align: right;\n    }\n</style>\n<table border=\"1\" class=\"dataframe\">\n  <thead>\n    <tr style=\"text-align: right;\">\n      <th></th>\n      <th>0</th>\n      <th>1</th>\n      <th>2</th>\n    </tr>\n  </thead>\n  <tbody>\n    <tr>\n      <th>0</th>\n      <td>abacus</td>\n      <td>trust</td>\n      <td>1</td>\n    </tr>\n    <tr>\n      <th>1</th>\n      <td>abandon</td>\n      <td>fear</td>\n      <td>1</td>\n    </tr>\n    <tr>\n      <th>2</th>\n      <td>abandon</td>\n      <td>negative</td>\n      <td>1</td>\n    </tr>\n    <tr>\n      <th>3</th>\n      <td>abandon</td>\n      <td>sadness</td>\n      <td>1</td>\n    </tr>\n    <tr>\n      <th>4</th>\n      <td>abandoned</td>\n      <td>anger</td>\n      <td>1</td>\n    </tr>\n  </tbody>\n</table>\n</div>"
     },
     "execution_count": 12,
     "metadata": {},
     "output_type": "execute_result"
    }
   ],
   "source": [
    "# reset index number\n",
    "nrc = nrc.reset_index(drop = True)\n",
    "nrc.head()"
   ],
   "metadata": {
    "collapsed": false,
    "ExecuteTime": {
     "end_time": "2023-11-06T08:21:04.233479Z",
     "start_time": "2023-11-06T08:21:04.209498Z"
    }
   },
   "id": "447eb2882a81df48"
  },
  {
   "cell_type": "code",
   "execution_count": 14,
   "outputs": [
    {
     "data": {
      "text/plain": "['abacus', 'abandon', 'abandon', 'abandon', 'abandoned']"
     },
     "execution_count": 14,
     "metadata": {},
     "output_type": "execute_result"
    }
   ],
   "source": [
    "list(nrc[0][:5])"
   ],
   "metadata": {
    "collapsed": false,
    "ExecuteTime": {
     "end_time": "2023-11-06T08:21:17.889958Z",
     "start_time": "2023-11-06T08:21:17.887243Z"
    }
   },
   "id": "31b0badbd2c2e837"
  },
  {
   "cell_type": "markdown",
   "source": [
    "Sentiment analysis using NRC for a specific sentence 1"
   ],
   "metadata": {
    "collapsed": false
   },
   "id": "7a376a55d4fa590a"
  },
  {
   "cell_type": "code",
   "execution_count": 15,
   "outputs": [],
   "source": [
    "tokenizer = RegexpTokenizer('[\\w]+')\n",
    "stop_words = stopwords.words('english')\n",
    "p_stemmer = PorterStemmer()"
   ],
   "metadata": {
    "collapsed": false,
    "ExecuteTime": {
     "end_time": "2023-11-06T08:22:32.151796Z",
     "start_time": "2023-11-06T08:22:32.135983Z"
    }
   },
   "id": "8207d4ab08060181"
  },
  {
   "cell_type": "code",
   "execution_count": 16,
   "outputs": [],
   "source": [
    "raw = pos_review.lower() # the sentence you want to analyze\n",
    "tokens = tokenizer.tokenize(raw)\n",
    "stopped_tokens = [i for i in tokens if not i in stop_words] # remove stop words\n",
    "match_words = [x for x in stopped_tokens if x in list(nrc[0])] # match with dictionary"
   ],
   "metadata": {
    "collapsed": false,
    "ExecuteTime": {
     "end_time": "2023-11-06T08:22:57.473469Z",
     "start_time": "2023-11-06T08:22:57.472308Z"
    }
   },
   "id": "a6692605b7704196"
  },
  {
   "cell_type": "code",
   "execution_count": 17,
   "outputs": [],
   "source": [
    "emotion = []\n",
    "for i in match_words :\n",
    "    temp = list(nrc.iloc[np.where(nrc[0] == i)[0], 1])\n",
    "    for j in temp :\n",
    "        emotion.append(j)"
   ],
   "metadata": {
    "collapsed": false,
    "ExecuteTime": {
     "end_time": "2023-11-06T08:23:45.213837Z",
     "start_time": "2023-11-06T08:23:45.197850Z"
    }
   },
   "id": "f6382f6613eabfe2"
  },
  {
   "cell_type": "code",
   "execution_count": 18,
   "outputs": [
    {
     "name": "stdout",
     "output_type": "stream",
     "text": [
      "positive        14\n",
      "trust            4\n",
      "anticipation     3\n",
      "joy              2\n",
      "fear             2\n",
      "surprise         1\n",
      "disgust          1\n",
      "negative         1\n",
      "sadness          1\n",
      "Name: count, dtype: int64 Axes(0.125,0.11;0.775x0.77)\n"
     ]
    },
    {
     "data": {
      "text/plain": "<Figure size 640x480 with 1 Axes>",
      "image/png": "[encoded data removed]"
     },
     "metadata": {},
     "output_type": "display_data"
    }
   ],
   "source": [
    "sentiment_result1 = pd.Series(emotion).value_counts()\n",
    "print(sentiment_result1, sentiment_result1.plot.bar())"
   ],
   "metadata": {
    "collapsed": false,
    "ExecuteTime": {
     "end_time": "2023-11-06T08:24:16.704644Z",
     "start_time": "2023-11-06T08:24:16.551610Z"
    }
   },
   "id": "b7c7174de205c518"
  },
  {
   "cell_type": "code",
   "execution_count": null,
   "outputs": [],
   "source": [],
   "metadata": {
    "collapsed": false
   },
   "id": "6caff41fb3cfcb2d"
  }
 ],
 "metadata": {
  "kernelspec": {
   "display_name": "Python 3",
   "language": "python",
   "name": "python3"
  },
  "language_info": {
   "codemirror_mode": {
    "name": "ipython",
    "version": 2
   },
   "file_extension": ".py",
   "mimetype": "text/x-python",
   "name": "python",
   "nbconvert_exporter": "python",
   "pygments_lexer": "ipython2",
   "version": "2.7.6"
  }
 },
 "nbformat": 4,
 "nbformat_minor": 5
}
