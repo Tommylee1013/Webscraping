{
 "cells": [
  {
   "cell_type": "markdown",
   "source": [
    "### Advanced Web Data Scraping\n",
    "\n",
    "#### Open API\n",
    "\n",
    "API structure : Frontends and backends interface role\n",
    "\n",
    "- Open API\n",
    "    - Data and analytics technology providers providing methods for using\n",
    "        \n",
    "- REST API way\n",
    "    - Specify resources through URI (uniform Resource Identifier) and process actions through\n",
    "- API operation\n",
    "    - Request / Response structure__\n",
    "    - Request : URL address , transmission method (GET, POST,…), request information ( search , sorting, etc. )\n",
    "    - Response : Provide"
   ],
   "metadata": {
    "collapsed": false
   },
   "id": "7c881c8c22d87319"
  },
  {
   "cell_type": "markdown",
   "source": [
    "• Web Open API : Accessing data provided by web applications or web applications service\n",
    "\n",
    "• Open API Providers: Web Applications and Web API\n",
    "\n",
    "• Open APIs : Access APIs to collect data or communicate with web applications.\n",
    "    - Wrapper software (e.g. converting JSON format to R data) may be needed to seamlessly exchange data with web services.\n",
    "    \n",
    "• Open API data format: JSON, XML many. HTML, CSV, and binary files as well has exist\n",
    "\n",
    "• REST (representation state transfer): As a representative API standard , it identifies the location of resources (data) by URL and defines a method for exchanging these resources.\n",
    "\n",
    "• RESTful API: It is composed of three things.\n",
    "    [1] Resource Identification (URL)\n",
    "    [2] Resource representation (JSON, HTML,…)\n",
    "    [3] Resource exchange method (HTTP method: GET (Query), POST (Create), PUT (Change), DELETE (Delete))\n",
    "    Representation is a document ( data ) defined in a language such as HTML, XML, or JSON. For example , Twitter messages are represented in JSON, and the Twitter API uses JSON format. Twitter message processing the way defined."
   ],
   "metadata": {
    "collapsed": false
   },
   "id": "abd4ce8fcfc2084d"
  },
  {
   "cell_type": "markdown",
   "source": [
    "#### Naver Open API\n",
    "\n",
    "❖ Write\n",
    "\n",
    "Application name selection> [Web service setting] is selected in [Non-login open API service environment] URL comes out .\n",
    "\n",
    "If there is no URL , enter http : //localhost and click\n",
    "\n",
    "❖ Once registered, check the information on the\n",
    "\n",
    "[0/25,000] is displayed in [ Non -Login Open API Daily Usage ] at the bottom . Up to 25,000 calls 100 extractions per cycle are possible . To request an excess of your daily allowance, apply using Make a note of ID and Client secret.\n",
    "\n",
    "❖ https://developers.naver.com You can check [ API call examples ] related to various Naver documents ( blog , news , books , movies , etc. ) _ _ _ _\n",
    "\n",
    "❖ self app site Access \n",
    "    https://developers.naver.com/apps/#/myapps/ My ClientID /overview\n",
    "\n",
    "Or, while logged in to your Naver account https://developers.naver.com/apps/#/myapps"
   ],
   "metadata": {
    "collapsed": false
   },
   "id": "6e3c5505b00e11f3"
  },
  {
   "cell_type": "code",
   "execution_count": 2,
   "id": "initial_id",
   "metadata": {
    "collapsed": true,
    "ExecuteTime": {
     "end_time": "2023-10-11T16:00:15.209487Z",
     "start_time": "2023-10-11T16:00:15.202405Z"
    }
   },
   "outputs": [],
   "source": [
    "import os\n",
    "import sys\n",
    "import urllib.request\n",
    "client_id = \"rII2SI3SkhOaVAkSnCw8\"\n",
    "client_secret = \"JwADJcGD5d\"\n",
    "encText = urllib.parse.quote(\"신촌\") # Example : Sinchon"
   ]
  },
  {
   "cell_type": "code",
   "execution_count": 4,
   "outputs": [],
   "source": [
    "url = \"https://openapi.naver.com/v1/search/blog?query=\" + encText # blog의 결과"
   ],
   "metadata": {
    "collapsed": false,
    "ExecuteTime": {
     "end_time": "2023-10-11T16:00:23.487517Z",
     "start_time": "2023-10-11T16:00:23.479524Z"
    }
   },
   "id": "9bcf48919933864b"
  },
  {
   "cell_type": "code",
   "execution_count": 5,
   "outputs": [],
   "source": [
    "request = urllib.request.Request(url)\n",
    "request.add_header(\"X-Naver-Client-Id\", client_id)\n",
    "request.add_header(\"X-Naver-Client-Secret\", client_secret)\n",
    "response = urllib.request.urlopen(request)"
   ],
   "metadata": {
    "collapsed": false,
    "ExecuteTime": {
     "end_time": "2023-10-11T16:00:50.318303Z",
     "start_time": "2023-10-11T16:00:49.995454Z"
    }
   },
   "id": "c4e231e51ff06fdc"
  },
  {
   "cell_type": "code",
   "execution_count": 7,
   "outputs": [
    {
     "name": "stdout",
     "output_type": "stream",
     "text": [
      "{\n",
      "\t\"lastBuildDate\":\"Thu, 12 Oct 2023 01:00:50 +0900\",\n",
      "\t\"total\":1769936,\n",
      "\t\"start\":1,\n",
      "\t\"display\":10,\n",
      "\t\"items\":[\n",
      "\t\t{\n",
      "\t\t\t\"title\":\"<b>신촌<\\/b>에스테틱에서 페이스경락 받은 후기\",\n",
      "\t\t\t\"link\":\"https:\\/\\/blog.naver.com\\/hearteffect\\/223187162525\",\n",
      "\t\t\t\"description\":\"제가 다니는 곳은 <b>신촌<\\/b>에스테틱 가인미가에요. 2주에 1회씩 케어 받으러 가고 있는데요. 갈때마다... 처음 <b>신촌<\\/b>에스테틱에 올 때에는 반신반의 했었어요. 과연 이것만으로 저의 비대칭 얼굴과 이제 막 생기기... \",\n",
      "\t\t\t\"bloggername\":\"평생, 연애 중\",\n",
      "\t\t\t\"bloggerlink\":\"blog.naver.com\\/hearteffect\",\n",
      "\t\t\t\"postdate\":\"20230821\"\n",
      "\t\t},\n",
      "\t\t{\n",
      "\t\t\t\"title\":\"<b>신촌<\\/b> 고기집 대박집 잡내없는 제주돈1848\",\n",
      "\t\t\t\"link\":\"https:\\/\\/blog.naver.com\\/ddunstories\\/223223945003\",\n",
      "\t\t\t\"description\":\"저희가 다녀온 <b>신촌<\\/b> 고기집은 제주돈 1848이라는 곳인데, 가격이 정말 저렴해서 다녀왔는데 맛도... 제주돈1848 위치 : 서울 서대문구 명물길 27-7 전화번호 : 02-363-1848 영업시간 : 매일 16:00 - 24:00 <b>신촌<\\/b> 고기집... \",\n",
      "\t\t\t\"bloggername\":\"앤아더스토리즈\",\n",
      "\t\t\t\"bloggerlink\":\"blog.naver.com\\/ddunstories\",\n",
      "\t\t\t\"postdate\":\"20230928\"\n",
      "\t\t},\n",
      "\t\t{\n",
      "\t\t\t\"title\":\"<b>신촌<\\/b> 스트레칭 &lt;스트레칭랑스튜디오&gt;\",\n",
      "\t\t\t\"link\":\"https:\\/\\/blog.naver.com\\/fromserena\\/223215927033\",\n",
      "\t\t\t\"description\":\"ㅇ <b>신촌<\\/b>역 부근에 스트레칭을 전문으로 하는 #스트레칭랑스튜디오 가 생겼다길래, 한 번 다녀와봤습니닷! 어제 다녀온 따끈따끈한 리뷰 시작할게요! #스트레칭랑스튜디오 : #스트레칭전문 #<b>신촌<\\/b>스트레칭... \",\n",
      "\t\t\t\"bloggername\":\"fromSerena\",\n",
      "\t\t\t\"bloggerlink\":\"blog.naver.com\\/fromserena\",\n",
      "\t\t\t\"postdate\":\"20230919\"\n",
      "\t\t},\n",
      "\t\t{\n",
      "\t\t\t\"title\":\"역시나였던 <b>신촌<\\/b> 삼겹살\",\n",
      "\t\t\t\"link\":\"https:\\/\\/blog.naver.com\\/jin980116\\/223230861788\",\n",
      "\t\t\t\"description\":\"싶었던 <b>신촌<\\/b> 삼겹살 소문난 식당을 찾았어요. 곁들임 반찬부터 서비스까지 부족함이 없었던 곳으로 풍부한 맛까지 알차게 접하고 왔던곳 소개할게요. &lt;금고기비스트로 <b>신촌<\\/b>&gt; 주소 : 서울 서대문구 연세로5가길... \",\n",
      "\t\t\t\"bloggername\":\"영상작가 & 사진작가의 맛집여행기\",\n",
      "\t\t\t\"bloggerlink\":\"blog.naver.com\\/jin980116\",\n",
      "\t\t\t\"postdate\":\"20231007\"\n",
      "\t\t},\n",
      "\t\t{\n",
      "\t\t\t\"title\":\"홍대피부관리 <b>신촌<\\/b>을 못가\",\n",
      "\t\t\t\"link\":\"https:\\/\\/blog.naver.com\\/akrkqo\\/223230081907\",\n",
      "\t\t\t\"description\":\"거울을 볼때마다 <b>신촌<\\/b>을 못가라는 노래 제목이 생각나는데요. 제가 요즘 피부고민 때문에 <b>신촌<\\/b>을 못가게 될거 같아서요; 환절기가 되어서 그런지 자꾸 얼굴에 뭐가 올라오고 까칠해지는 느낌이 들더라구요 저만... \",\n",
      "\t\t\t\"bloggername\":\"행복한 일상\",\n",
      "\t\t\t\"bloggerlink\":\"blog.naver.com\\/akrkqo\",\n",
      "\t\t\t\"postdate\":\"20231006\"\n",
      "\t\t},\n",
      "\t\t{\n",
      "\t\t\t\"title\":\"<b>신촌<\\/b>모임장소 로도 좋은 프라이빗한 <b>신촌<\\/b>중국집 - 가화만사성\",\n",
      "\t\t\t\"link\":\"https:\\/\\/blog.naver.com\\/round_box\\/223230888583\",\n",
      "\t\t\t\"description\":\"오늘은 <b>신촌<\\/b>에 사는 친동생과 오래간만에 <b>신촌<\\/b>에서 시간을 보낸 것 같아요~ㅎㅎ 그렇게 동생과 <b>신촌<\\/b>에서 만난 곳은 <b>신촌<\\/b>중국집 가화만사성 입니다. 자주 가는 골목에 위치한 <b>신촌<\\/b>중국집 인데, 2층에 있어서... \",\n",
      "\t\t\t\"bloggername\":\"텔러리의 끄적끄적\",\n",
      "\t\t\t\"bloggerlink\":\"blog.naver.com\\/round_box\",\n",
      "\t\t\t\"postdate\":\"20231008\"\n",
      "\t\t},\n",
      "\t\t{\n",
      "\t\t\t\"title\":\"<b>신촌<\\/b>PT 제대로 배울수 있는 <b>신촌<\\/b>헬스 후기\",\n",
      "\t\t\t\"link\":\"https:\\/\\/blog.naver.com\\/fullofblue\\/223229960940\",\n",
      "\t\t\t\"description\":\"먹기만하면 살이 너무 쪄버리니 운동을 시작해보려고 <b>신촌<\\/b>헬스를 알아보았었는데요. 아무래도 혼자서 운동을 해야하다보니 부담이 되서 <b>신촌<\\/b>PT를 할 수 있는 헬스장으로 찾아보았죠. 그래서 오늘은 <b>신촌<\\/b>헬스를... \",\n",
      "\t\t\t\"bloggername\":\"하루하루\",\n",
      "\t\t\t\"bloggerlink\":\"blog.naver.com\\/fullofblue\",\n",
      "\t\t\t\"postdate\":\"20231006\"\n",
      "\t\t},\n",
      "\t\t{\n",
      "\t\t\t\"title\":\"<b>신촌<\\/b>미용실 SJ헤어 단발레이어드펌 정아원장님\",\n",
      "\t\t\t\"link\":\"https:\\/\\/blog.naver.com\\/sargubaby\\/223230715180\",\n",
      "\t\t\t\"description\":\"이대역에서 <b>신촌<\\/b>방향으로 큰길따라 오시면 2증에 보입니다 ^^ https:\\/\\/pcmap.place.naver.com\\/hairshop\\/1414230946\\/feed?feedId=12063571# 전 정아원장님께 시술 받았구요~ 네이버로 예약하셔서 방문하시면 되요! <b>신촌<\\/b>미용실... \",\n",
      "\t\t\t\"bloggername\":\"정님이 상자\",\n",
      "\t\t\t\"bloggerlink\":\"blog.naver.com\\/sargubaby\",\n",
      "\t\t\t\"postdate\":\"20231007\"\n",
      "\t\t},\n",
      "\t\t{\n",
      "\t\t\t\"title\":\"이대 미용실 라비에벨 헤어 이대점 클리닉 후기 <b>신촌<\\/b> 미용실 추천\",\n",
      "\t\t\t\"link\":\"https:\\/\\/blog.naver.com\\/nicole357\\/223227190340\",\n",
      "\t\t\t\"description\":\"이대 미용실 <b>신촌<\\/b> 미용실 추천 라비에벨 헤어 이대점 위치 및 영업시간 위치 서울 서대문구 <b>신촌<\\/b>로 169-7(이대 포레스트) 2층 전화 ***-****-**** ⏰영업시간 매일 10:00-20:30 (마지막 예약 가능 시간 : 7시) 가는 길... \",\n",
      "\t\t\t\"bloggername\":\"나만의 북소리\",\n",
      "\t\t\t\"bloggerlink\":\"blog.naver.com\\/nicole357\",\n",
      "\t\t\t\"postdate\":\"20231003\"\n",
      "\t\t},\n",
      "\t\t{\n",
      "\t\t\t\"title\":\"강아지 연수 뇌종양 뇌수막염 진단 <b>신촌<\\/b> 웨스턴 동물의료센터... \",\n",
      "\t\t\t\"link\":\"https:\\/\\/blog.naver.com\\/hhyun_z\\/223232142828\",\n",
      "\t\t\t\"description\":\"#강아지뇌종양 #강아지뇌수막염 #노견뇌종양 #강아지항암치료 #강아지항암주사 #강아지MRI #<b>신촌<\\/b>웨스턴병원 #<b>신촌<\\/b>웨스턴MRI #강아지만니톨 #<b>신촌<\\/b>웨스턴동물의료센터 #<b>신촌<\\/b>웨스턴동물병원 우리집 첫째강아지... \",\n",
      "\t\t\t\"bloggername\":\"일상기록장\",\n",
      "\t\t\t\"bloggerlink\":\"blog.naver.com\\/hhyun_z\",\n",
      "\t\t\t\"postdate\":\"20231009\"\n",
      "\t\t}\n",
      "\t]\n",
      "}\n"
     ]
    }
   ],
   "source": [
    "recode = response.getcode()\n",
    "if (recode == 200): # 검색에 아무런 지장이 없을 때의 code, no problem to search\n",
    "    response_body = response.read()\n",
    "    print(response_body.decode('utf-8')) # JSON 형태로 가져온*\n",
    "else:\n",
    "    print(\"Error Code:\" + recode )"
   ],
   "metadata": {
    "collapsed": false,
    "ExecuteTime": {
     "end_time": "2023-10-11T16:01:36.427972Z",
     "start_time": "2023-10-11T16:01:36.412886Z"
    }
   },
   "id": "c2213d19eedfb663"
  },
  {
   "cell_type": "markdown",
   "source": [
    "***Naver News Crawling***\n",
    "\n",
    "1. Specify search term : srcText = ' search term '\n",
    "2. Search Naver News : getNaverSeach ()\n",
    "    (1) Url Configuration : url = base+node+srcText\n",
    "    (2) Url Access and search requests : urllib.request.urlopen ()\n",
    "    (3) Receive request result as response Json : json.load ()\n",
    "3. Organize response data and store them in a list : getPostData ()\n",
    "4. Save the list as a JSON file : json.dumps ()"
   ],
   "metadata": {
    "collapsed": false
   },
   "id": "2eef642c0e656408"
  },
  {
   "cell_type": "code",
   "execution_count": 8,
   "outputs": [],
   "source": [
    "import os\n",
    "import sys\n",
    "import urllib.request\n",
    "import datetime\n",
    "import time\n",
    "import json\n",
    "\n",
    "client_id = \"rII2SI3SkhOaVAkSnCw8\"\n",
    "client_secret = \"JwADJcGD5d\""
   ],
   "metadata": {
    "collapsed": false,
    "ExecuteTime": {
     "end_time": "2023-10-11T16:04:26.427236Z",
     "start_time": "2023-10-11T16:04:26.417543Z"
    }
   },
   "id": "6220d17f87bed44f"
  },
  {
   "cell_type": "code",
   "execution_count": 9,
   "outputs": [],
   "source": [
    "def getRequestUrl(url) :\n",
    "    req = urllib.request.Request(url)\n",
    "    req.add_header(\"X-Naver-Client-Id\", client_id)\n",
    "    req.add_header(\"X-Naver-Client-Secret\", client_secret)\n",
    "    try:\n",
    "        response = urllib.request.urlopen(req)\n",
    "        if response.getcode() == 200:\n",
    "            print(\"[%s] Url Request Success\" % datetime.datetime.now())\n",
    "            return response.read().decode('utf-8')\n",
    "    except Exception as e:\n",
    "        print(e)\n",
    "        print(\"[%s] Error for URL : %s\" % (datetime.datetime.now(), url))\n",
    "        return None"
   ],
   "metadata": {
    "collapsed": false,
    "ExecuteTime": {
     "end_time": "2023-10-11T16:05:19.656208Z",
     "start_time": "2023-10-11T16:05:19.627177Z"
    }
   },
   "id": "91994117ee060e2a"
  },
  {
   "cell_type": "code",
   "execution_count": 10,
   "outputs": [],
   "source": [
    "def getNaverSearch(node, srcText, start, display) :\n",
    "    base = \"https://openapi.naver.com/v1/search\"\n",
    "    node = \"/%s.json\" % node\n",
    "    parameters = \"?query=%s&start=%s&display=%s\" % (urllib.parse.quote(srcText), start, display)\n",
    "    \n",
    "    url = base + node + parameters\n",
    "    responseDecode = getRequestUrl(url)\n",
    "    \n",
    "    if responseDecode == None : return None\n",
    "    else : return json.loads(responseDecode)\n",
    "\n",
    "def getPostData(post, jsonResult, cnt) :\n",
    "    title = post['title']\n",
    "    description = post['description']\n",
    "    org_link = post['originallink']\n",
    "    link = post['link']\n",
    "    \n",
    "    pDate = datetime.datetime.strptime(post['pubDate'], '%a, %d %b %Y %H:%M:%S +0900')\n",
    "    pDate = pDate.strftime('%Y-%m-%d %H:%M:%S')\n",
    "    \n",
    "    jsonResult.append({'cnt':cnt, 'title':title, 'description': description, 'org_link':org_link, 'link': link, 'pDate':pDate})\n",
    "    return"
   ],
   "metadata": {
    "collapsed": false,
    "ExecuteTime": {
     "end_time": "2023-10-11T16:08:42.825821Z",
     "start_time": "2023-10-11T16:08:42.799994Z"
    }
   },
   "id": "c21d720bf997cd48"
  },
  {
   "cell_type": "code",
   "execution_count": 11,
   "outputs": [],
   "source": [
    "def main():\n",
    "    node = 'news' # what to crawl\n",
    "    srcText = input(' Please enter a search term : ')\n",
    "    cnt = 0\n",
    "    jsonResult = []\n",
    "    \n",
    "    jsonResponse = getNaverSearch ( node , srcText , 1, 100) \n",
    "    total = jsonResponse ['total']\n",
    "    \n",
    "    while (( jsonResponse != None) and ( jsonResponse ['display'] != 0)):\n",
    "        for post in jsonResponse['items']: \n",
    "            cnt += 1\n",
    "            getPostData(post, jsonResult, cnt) \n",
    "        start = jsonResponse['start'] + jsonResponse['display']\n",
    "        jsonResponse = getNaverSearch(node, srcText, start, 100) \n",
    "    print(' Total search : %d items ' %total)\n",
    "    \n",
    "    with open(' %s_ naver _% s.json ' % ( srcText , node) , 'w' , encoding = 'utf8') as outfile :\n",
    "        jsonFile = json.dumps(jsonResult, indent = 4, sort_keys = True, ensure_ascii = False)\n",
    "        outfile.write(jsonFile)\n",
    "    print(\"가져온 데이터 : %d 건\" % (cnt))\n",
    "    print('%s_naver_%s.json SAVED' % (srcText, node))"
   ],
   "metadata": {
    "collapsed": false,
    "ExecuteTime": {
     "end_time": "2023-10-11T16:09:52.401339Z",
     "start_time": "2023-10-11T16:09:52.376480Z"
    }
   },
   "id": "8632aade9cf5d0f8"
  },
  {
   "cell_type": "code",
   "execution_count": 12,
   "outputs": [
    {
     "name": "stdout",
     "output_type": "stream",
     "text": [
      "[2023-10-12 01:10:14.366677] Url Request Success\n",
      "[2023-10-12 01:10:14.537117] Url Request Success\n",
      "[2023-10-12 01:10:14.786845] Url Request Success\n",
      "[2023-10-12 01:10:14.947363] Url Request Success\n",
      "[2023-10-12 01:10:15.120344] Url Request Success\n",
      "[2023-10-12 01:10:15.428420] Url Request Success\n",
      "[2023-10-12 01:10:15.590704] Url Request Success\n",
      "[2023-10-12 01:10:15.835136] Url Request Success\n",
      "[2023-10-12 01:10:16.024786] Url Request Success\n",
      "[2023-10-12 01:10:16.361702] Url Request Success\n",
      "HTTP Error 400: Bad Request\n",
      "[2023-10-12 01:10:16.471605] Error for URL : https://openapi.naver.com/v1/search/news.json?query=AI&start=1001&display=100\n",
      " Total search : 2536930 items \n",
      "가져온 데이터 : 1000 건\n",
      "AI_naver_news.json SAVED\n"
     ]
    }
   ],
   "source": [
    "if __name__ == '__main__' : main()"
   ],
   "metadata": {
    "collapsed": false,
    "ExecuteTime": {
     "end_time": "2023-10-11T16:10:16.489537Z",
     "start_time": "2023-10-11T16:10:07.625618Z"
    }
   },
   "id": "acaf149207f8659a"
  },
  {
   "cell_type": "markdown",
   "source": [
    "#### Selenium"
   ],
   "metadata": {
    "collapsed": false
   },
   "id": "ee703cb12333a80b"
  },
  {
   "cell_type": "code",
   "execution_count": null,
   "outputs": [],
   "source": [],
   "metadata": {
    "collapsed": false
   },
   "id": "90494cf64dfd32c0"
  }
 ],
 "metadata": {
  "kernelspec": {
   "display_name": "Python 3",
   "language": "python",
   "name": "python3"
  },
  "language_info": {
   "codemirror_mode": {
    "name": "ipython",
    "version": 2
   },
   "file_extension": ".py",
   "mimetype": "text/x-python",
   "name": "python",
   "nbconvert_exporter": "python",
   "pygments_lexer": "ipython2",
   "version": "2.7.6"
  }
 },
 "nbformat": 4,
 "nbformat_minor": 5
}
