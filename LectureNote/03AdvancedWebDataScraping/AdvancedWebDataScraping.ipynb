{
 "cells": [
  {
   "cell_type": "markdown",
   "source": [
    "### Advanced Web Data Scraping\n",
    "\n",
    "#### Open API\n",
    "\n",
    "API structure : Frontends and backends interface role\n",
    "\n",
    "- Open API\n",
    "    - Data and analytics technology providers providing methods for using\n",
    "        \n",
    "- REST API way\n",
    "    - Specify resources through URI (uniform Resource Identifier) and process actions through\n",
    "- API operation\n",
    "    - Request / Response structure__\n",
    "    - Request : URL address , transmission method (GET, POST,…), request information ( search , sorting, etc. )\n",
    "    - Response : Provide"
   ],
   "metadata": {
    "collapsed": false
   },
   "id": "7c881c8c22d87319"
  },
  {
   "cell_type": "markdown",
   "source": [
    "• Web Open API : Accessing data provided by web applications or web applications service\n",
    "\n",
    "• Open API Providers: Web Applications and Web API\n",
    "\n",
    "• Open APIs : Access APIs to collect data or communicate with web applications.\n",
    "    - Wrapper software (e.g. converting JSON format to R data) may be needed to seamlessly exchange data with web services.\n",
    "    \n",
    "• Open API data format: JSON, XML many. HTML, CSV, and binary files as well has exist\n",
    "\n",
    "• REST (representation state transfer): As a representative API standard , it identifies the location of resources (data) by URL and defines a method for exchanging these resources.\n",
    "\n",
    "• RESTful API: It is composed of three things.\n",
    "    [1] Resource Identification (URL)\n",
    "    [2] Resource representation (JSON, HTML,…)\n",
    "    [3] Resource exchange method (HTTP method: GET (Query), POST (Create), PUT (Change), DELETE (Delete))\n",
    "    Representation is a document ( data ) defined in a language such as HTML, XML, or JSON. For example , Twitter messages are represented in JSON, and the Twitter API uses JSON format. Twitter message processing the way defined."
   ],
   "metadata": {
    "collapsed": false
   },
   "id": "abd4ce8fcfc2084d"
  },
  {
   "cell_type": "markdown",
   "source": [
    "#### Naver Open API\n",
    "\n",
    "❖ Write\n",
    "\n",
    "Application name selection> [Web service setting] is selected in [Non-login open API service environment] URL comes out .\n",
    "\n",
    "If there is no URL , enter http : //localhost and click\n",
    "\n",
    "❖ Once registered, check the information on the\n",
    "\n",
    "[0/25,000] is displayed in [ Non -Login Open API Daily Usage ] at the bottom . Up to 25,000 calls 100 extractions per cycle are possible . To request an excess of your daily allowance, apply using Make a note of ID and Client secret.\n",
    "\n",
    "❖ https://developers.naver.com You can check [ API call examples ] related to various Naver documents ( blog , news , books , movies , etc. ) _ _ _ _\n",
    "\n",
    "❖ self app site Access \n",
    "    https://developers.naver.com/apps/#/myapps/ My ClientID /overview\n",
    "\n",
    "Or, while logged in to your Naver account https://developers.naver.com/apps/#/myapps"
   ],
   "metadata": {
    "collapsed": false
   },
   "id": "6e3c5505b00e11f3"
  },
  {
   "cell_type": "code",
   "execution_count": 2,
   "id": "initial_id",
   "metadata": {
    "collapsed": true,
    "ExecuteTime": {
     "end_time": "2023-10-11T16:00:15.209487Z",
     "start_time": "2023-10-11T16:00:15.202405Z"
    }
   },
   "outputs": [],
   "source": [
    "import os\n",
    "import sys\n",
    "import urllib.request\n",
    "client_id = \"rII2SI3SkhOaVAkSnCw8\"\n",
    "client_secret = \"JwADJcGD5d\"\n",
    "encText = urllib.parse.quote(\"신촌\") # Example : Sinchon"
   ]
  },
  {
   "cell_type": "code",
   "execution_count": 4,
   "outputs": [],
   "source": [
    "url = \"https://openapi.naver.com/v1/search/blog?query=\" + encText # blog의 결과"
   ],
   "metadata": {
    "collapsed": false,
    "ExecuteTime": {
     "end_time": "2023-10-11T16:00:23.487517Z",
     "start_time": "2023-10-11T16:00:23.479524Z"
    }
   },
   "id": "9bcf48919933864b"
  },
  {
   "cell_type": "code",
   "execution_count": 5,
   "outputs": [],
   "source": [
    "request = urllib.request.Request(url)\n",
    "request.add_header(\"X-Naver-Client-Id\", client_id)\n",
    "request.add_header(\"X-Naver-Client-Secret\", client_secret)\n",
    "response = urllib.request.urlopen(request)"
   ],
   "metadata": {
    "collapsed": false,
    "ExecuteTime": {
     "end_time": "2023-10-11T16:00:50.318303Z",
     "start_time": "2023-10-11T16:00:49.995454Z"
    }
   },
   "id": "c4e231e51ff06fdc"
  },
  {
   "cell_type": "code",
   "execution_count": 7,
   "outputs": [
    {
     "name": "stdout",
     "output_type": "stream",
     "text": [
      "{\n",
      "\t\"lastBuildDate\":\"Thu, 12 Oct 2023 01:00:50 +0900\",\n",
      "\t\"total\":1769936,\n",
      "\t\"start\":1,\n",
      "\t\"display\":10,\n",
      "\t\"items\":[\n",
      "\t\t{\n",
      "\t\t\t\"title\":\"<b>신촌<\\/b>에스테틱에서 페이스경락 받은 후기\",\n",
      "\t\t\t\"link\":\"https:\\/\\/blog.naver.com\\/hearteffect\\/223187162525\",\n",
      "\t\t\t\"description\":\"제가 다니는 곳은 <b>신촌<\\/b>에스테틱 가인미가에요. 2주에 1회씩 케어 받으러 가고 있는데요. 갈때마다... 처음 <b>신촌<\\/b>에스테틱에 올 때에는 반신반의 했었어요. 과연 이것만으로 저의 비대칭 얼굴과 이제 막 생기기... \",\n",
      "\t\t\t\"bloggername\":\"평생, 연애 중\",\n",
      "\t\t\t\"bloggerlink\":\"blog.naver.com\\/hearteffect\",\n",
      "\t\t\t\"postdate\":\"20230821\"\n",
      "\t\t},\n",
      "\t\t{\n",
      "\t\t\t\"title\":\"<b>신촌<\\/b> 고기집 대박집 잡내없는 제주돈1848\",\n",
      "\t\t\t\"link\":\"https:\\/\\/blog.naver.com\\/ddunstories\\/223223945003\",\n",
      "\t\t\t\"description\":\"저희가 다녀온 <b>신촌<\\/b> 고기집은 제주돈 1848이라는 곳인데, 가격이 정말 저렴해서 다녀왔는데 맛도... 제주돈1848 위치 : 서울 서대문구 명물길 27-7 전화번호 : 02-363-1848 영업시간 : 매일 16:00 - 24:00 <b>신촌<\\/b> 고기집... \",\n",
      "\t\t\t\"bloggername\":\"앤아더스토리즈\",\n",
      "\t\t\t\"bloggerlink\":\"blog.naver.com\\/ddunstories\",\n",
      "\t\t\t\"postdate\":\"20230928\"\n",
      "\t\t},\n",
      "\t\t{\n",
      "\t\t\t\"title\":\"<b>신촌<\\/b> 스트레칭 &lt;스트레칭랑스튜디오&gt;\",\n",
      "\t\t\t\"link\":\"https:\\/\\/blog.naver.com\\/fromserena\\/223215927033\",\n",
      "\t\t\t\"description\":\"ㅇ <b>신촌<\\/b>역 부근에 스트레칭을 전문으로 하는 #스트레칭랑스튜디오 가 생겼다길래, 한 번 다녀와봤습니닷! 어제 다녀온 따끈따끈한 리뷰 시작할게요! #스트레칭랑스튜디오 : #스트레칭전문 #<b>신촌<\\/b>스트레칭... \",\n",
      "\t\t\t\"bloggername\":\"fromSerena\",\n",
      "\t\t\t\"bloggerlink\":\"blog.naver.com\\/fromserena\",\n",
      "\t\t\t\"postdate\":\"20230919\"\n",
      "\t\t},\n",
      "\t\t{\n",
      "\t\t\t\"title\":\"역시나였던 <b>신촌<\\/b> 삼겹살\",\n",
      "\t\t\t\"link\":\"https:\\/\\/blog.naver.com\\/jin980116\\/223230861788\",\n",
      "\t\t\t\"description\":\"싶었던 <b>신촌<\\/b> 삼겹살 소문난 식당을 찾았어요. 곁들임 반찬부터 서비스까지 부족함이 없었던 곳으로 풍부한 맛까지 알차게 접하고 왔던곳 소개할게요. &lt;금고기비스트로 <b>신촌<\\/b>&gt; 주소 : 서울 서대문구 연세로5가길... \",\n",
      "\t\t\t\"bloggername\":\"영상작가 & 사진작가의 맛집여행기\",\n",
      "\t\t\t\"bloggerlink\":\"blog.naver.com\\/jin980116\",\n",
      "\t\t\t\"postdate\":\"20231007\"\n",
      "\t\t},\n",
      "\t\t{\n",
      "\t\t\t\"title\":\"홍대피부관리 <b>신촌<\\/b>을 못가\",\n",
      "\t\t\t\"link\":\"https:\\/\\/blog.naver.com\\/akrkqo\\/223230081907\",\n",
      "\t\t\t\"description\":\"거울을 볼때마다 <b>신촌<\\/b>을 못가라는 노래 제목이 생각나는데요. 제가 요즘 피부고민 때문에 <b>신촌<\\/b>을 못가게 될거 같아서요; 환절기가 되어서 그런지 자꾸 얼굴에 뭐가 올라오고 까칠해지는 느낌이 들더라구요 저만... \",\n",
      "\t\t\t\"bloggername\":\"행복한 일상\",\n",
      "\t\t\t\"bloggerlink\":\"blog.naver.com\\/akrkqo\",\n",
      "\t\t\t\"postdate\":\"20231006\"\n",
      "\t\t},\n",
      "\t\t{\n",
      "\t\t\t\"title\":\"<b>신촌<\\/b>모임장소 로도 좋은 프라이빗한 <b>신촌<\\/b>중국집 - 가화만사성\",\n",
      "\t\t\t\"link\":\"https:\\/\\/blog.naver.com\\/round_box\\/223230888583\",\n",
      "\t\t\t\"description\":\"오늘은 <b>신촌<\\/b>에 사는 친동생과 오래간만에 <b>신촌<\\/b>에서 시간을 보낸 것 같아요~ㅎㅎ 그렇게 동생과 <b>신촌<\\/b>에서 만난 곳은 <b>신촌<\\/b>중국집 가화만사성 입니다. 자주 가는 골목에 위치한 <b>신촌<\\/b>중국집 인데, 2층에 있어서... \",\n",
      "\t\t\t\"bloggername\":\"텔러리의 끄적끄적\",\n",
      "\t\t\t\"bloggerlink\":\"blog.naver.com\\/round_box\",\n",
      "\t\t\t\"postdate\":\"20231008\"\n",
      "\t\t},\n",
      "\t\t{\n",
      "\t\t\t\"title\":\"<b>신촌<\\/b>PT 제대로 배울수 있는 <b>신촌<\\/b>헬스 후기\",\n",
      "\t\t\t\"link\":\"https:\\/\\/blog.naver.com\\/fullofblue\\/223229960940\",\n",
      "\t\t\t\"description\":\"먹기만하면 살이 너무 쪄버리니 운동을 시작해보려고 <b>신촌<\\/b>헬스를 알아보았었는데요. 아무래도 혼자서 운동을 해야하다보니 부담이 되서 <b>신촌<\\/b>PT를 할 수 있는 헬스장으로 찾아보았죠. 그래서 오늘은 <b>신촌<\\/b>헬스를... \",\n",
      "\t\t\t\"bloggername\":\"하루하루\",\n",
      "\t\t\t\"bloggerlink\":\"blog.naver.com\\/fullofblue\",\n",
      "\t\t\t\"postdate\":\"20231006\"\n",
      "\t\t},\n",
      "\t\t{\n",
      "\t\t\t\"title\":\"<b>신촌<\\/b>미용실 SJ헤어 단발레이어드펌 정아원장님\",\n",
      "\t\t\t\"link\":\"https:\\/\\/blog.naver.com\\/sargubaby\\/223230715180\",\n",
      "\t\t\t\"description\":\"이대역에서 <b>신촌<\\/b>방향으로 큰길따라 오시면 2증에 보입니다 ^^ https:\\/\\/pcmap.place.naver.com\\/hairshop\\/1414230946\\/feed?feedId=12063571# 전 정아원장님께 시술 받았구요~ 네이버로 예약하셔서 방문하시면 되요! <b>신촌<\\/b>미용실... \",\n",
      "\t\t\t\"bloggername\":\"정님이 상자\",\n",
      "\t\t\t\"bloggerlink\":\"blog.naver.com\\/sargubaby\",\n",
      "\t\t\t\"postdate\":\"20231007\"\n",
      "\t\t},\n",
      "\t\t{\n",
      "\t\t\t\"title\":\"이대 미용실 라비에벨 헤어 이대점 클리닉 후기 <b>신촌<\\/b> 미용실 추천\",\n",
      "\t\t\t\"link\":\"https:\\/\\/blog.naver.com\\/nicole357\\/223227190340\",\n",
      "\t\t\t\"description\":\"이대 미용실 <b>신촌<\\/b> 미용실 추천 라비에벨 헤어 이대점 위치 및 영업시간 위치 서울 서대문구 <b>신촌<\\/b>로 169-7(이대 포레스트) 2층 전화 ***-****-**** ⏰영업시간 매일 10:00-20:30 (마지막 예약 가능 시간 : 7시) 가는 길... \",\n",
      "\t\t\t\"bloggername\":\"나만의 북소리\",\n",
      "\t\t\t\"bloggerlink\":\"blog.naver.com\\/nicole357\",\n",
      "\t\t\t\"postdate\":\"20231003\"\n",
      "\t\t},\n",
      "\t\t{\n",
      "\t\t\t\"title\":\"강아지 연수 뇌종양 뇌수막염 진단 <b>신촌<\\/b> 웨스턴 동물의료센터... \",\n",
      "\t\t\t\"link\":\"https:\\/\\/blog.naver.com\\/hhyun_z\\/223232142828\",\n",
      "\t\t\t\"description\":\"#강아지뇌종양 #강아지뇌수막염 #노견뇌종양 #강아지항암치료 #강아지항암주사 #강아지MRI #<b>신촌<\\/b>웨스턴병원 #<b>신촌<\\/b>웨스턴MRI #강아지만니톨 #<b>신촌<\\/b>웨스턴동물의료센터 #<b>신촌<\\/b>웨스턴동물병원 우리집 첫째강아지... \",\n",
      "\t\t\t\"bloggername\":\"일상기록장\",\n",
      "\t\t\t\"bloggerlink\":\"blog.naver.com\\/hhyun_z\",\n",
      "\t\t\t\"postdate\":\"20231009\"\n",
      "\t\t}\n",
      "\t]\n",
      "}\n"
     ]
    }
   ],
   "source": [
    "recode = response.getcode()\n",
    "if (recode == 200): # 검색에 아무런 지장이 없을 때의 code, no problem to search\n",
    "    response_body = response.read()\n",
    "    print(response_body.decode('utf-8')) # JSON 형태로 가져온*\n",
    "else:\n",
    "    print(\"Error Code:\" + recode )"
   ],
   "metadata": {
    "collapsed": false,
    "ExecuteTime": {
     "end_time": "2023-10-11T16:01:36.427972Z",
     "start_time": "2023-10-11T16:01:36.412886Z"
    }
   },
   "id": "c2213d19eedfb663"
  },
  {
   "cell_type": "markdown",
   "source": [
    "***Naver News Crawling***\n",
    "\n",
    "1. Specify search term : srcText = ' search term '\n",
    "2. Search Naver News : getNaverSeach ()\n",
    "    (1) Url Configuration : url = base+node+srcText\n",
    "    (2) Url Access and search requests : urllib.request.urlopen ()\n",
    "    (3) Receive request result as response Json : json.load ()\n",
    "3. Organize response data and store them in a list : getPostData ()\n",
    "4. Save the list as a JSON file : json.dumps ()"
   ],
   "metadata": {
    "collapsed": false
   },
   "id": "2eef642c0e656408"
  },
  {
   "cell_type": "code",
   "execution_count": 8,
   "outputs": [],
   "source": [
    "import os\n",
    "import sys\n",
    "import urllib.request\n",
    "import datetime\n",
    "import time\n",
    "import json\n",
    "\n",
    "client_id = \"rII2SI3SkhOaVAkSnCw8\"\n",
    "client_secret = \"JwADJcGD5d\""
   ],
   "metadata": {
    "collapsed": false,
    "ExecuteTime": {
     "end_time": "2023-10-11T16:04:26.427236Z",
     "start_time": "2023-10-11T16:04:26.417543Z"
    }
   },
   "id": "6220d17f87bed44f"
  },
  {
   "cell_type": "code",
   "execution_count": 9,
   "outputs": [],
   "source": [
    "def getRequestUrl(url) :\n",
    "    req = urllib.request.Request(url)\n",
    "    req.add_header(\"X-Naver-Client-Id\", client_id)\n",
    "    req.add_header(\"X-Naver-Client-Secret\", client_secret)\n",
    "    try:\n",
    "        response = urllib.request.urlopen(req)\n",
    "        if response.getcode() == 200:\n",
    "            print(\"[%s] Url Request Success\" % datetime.datetime.now())\n",
    "            return response.read().decode('utf-8')\n",
    "    except Exception as e:\n",
    "        print(e)\n",
    "        print(\"[%s] Error for URL : %s\" % (datetime.datetime.now(), url))\n",
    "        return None"
   ],
   "metadata": {
    "collapsed": false,
    "ExecuteTime": {
     "end_time": "2023-10-11T16:05:19.656208Z",
     "start_time": "2023-10-11T16:05:19.627177Z"
    }
   },
   "id": "91994117ee060e2a"
  },
  {
   "cell_type": "code",
   "execution_count": 10,
   "outputs": [],
   "source": [
    "def getNaverSearch(node, srcText, start, display) :\n",
    "    base = \"https://openapi.naver.com/v1/search\"\n",
    "    node = \"/%s.json\" % node\n",
    "    parameters = \"?query=%s&start=%s&display=%s\" % (urllib.parse.quote(srcText), start, display)\n",
    "    \n",
    "    url = base + node + parameters\n",
    "    responseDecode = getRequestUrl(url)\n",
    "    \n",
    "    if responseDecode == None : return None\n",
    "    else : return json.loads(responseDecode)\n",
    "\n",
    "def getPostData(post, jsonResult, cnt) :\n",
    "    title = post['title']\n",
    "    description = post['description']\n",
    "    org_link = post['originallink']\n",
    "    link = post['link']\n",
    "    \n",
    "    pDate = datetime.datetime.strptime(post['pubDate'], '%a, %d %b %Y %H:%M:%S +0900')\n",
    "    pDate = pDate.strftime('%Y-%m-%d %H:%M:%S')\n",
    "    \n",
    "    jsonResult.append({'cnt':cnt, 'title':title, 'description': description, 'org_link':org_link, 'link': link, 'pDate':pDate})\n",
    "    return"
   ],
   "metadata": {
    "collapsed": false,
    "ExecuteTime": {
     "end_time": "2023-10-11T16:08:42.825821Z",
     "start_time": "2023-10-11T16:08:42.799994Z"
    }
   },
   "id": "c21d720bf997cd48"
  },
  {
   "cell_type": "code",
   "execution_count": 11,
   "outputs": [],
   "source": [
    "def main():\n",
    "    node = 'news' # what to crawl\n",
    "    srcText = input(' Please enter a search term : ')\n",
    "    cnt = 0\n",
    "    jsonResult = []\n",
    "    \n",
    "    jsonResponse = getNaverSearch ( node , srcText , 1, 100) \n",
    "    total = jsonResponse ['total']\n",
    "    \n",
    "    while (( jsonResponse != None) and ( jsonResponse ['display'] != 0)):\n",
    "        for post in jsonResponse['items']: \n",
    "            cnt += 1\n",
    "            getPostData(post, jsonResult, cnt) \n",
    "        start = jsonResponse['start'] + jsonResponse['display']\n",
    "        jsonResponse = getNaverSearch(node, srcText, start, 100) \n",
    "    print(' Total search : %d items ' %total)\n",
    "    \n",
    "    with open(' %s_ naver _% s.json ' % ( srcText , node) , 'w' , encoding = 'utf8') as outfile :\n",
    "        jsonFile = json.dumps(jsonResult, indent = 4, sort_keys = True, ensure_ascii = False)\n",
    "        outfile.write(jsonFile)\n",
    "    print(\"가져온 데이터 : %d 건\" % (cnt))\n",
    "    print('%s_naver_%s.json SAVED' % (srcText, node))"
   ],
   "metadata": {
    "collapsed": false,
    "ExecuteTime": {
     "end_time": "2023-10-11T16:09:52.401339Z",
     "start_time": "2023-10-11T16:09:52.376480Z"
    }
   },
   "id": "8632aade9cf5d0f8"
  },
  {
   "cell_type": "code",
   "execution_count": 12,
   "outputs": [
    {
     "name": "stdout",
     "output_type": "stream",
     "text": [
      "[2023-10-12 01:10:14.366677] Url Request Success\n",
      "[2023-10-12 01:10:14.537117] Url Request Success\n",
      "[2023-10-12 01:10:14.786845] Url Request Success\n",
      "[2023-10-12 01:10:14.947363] Url Request Success\n",
      "[2023-10-12 01:10:15.120344] Url Request Success\n",
      "[2023-10-12 01:10:15.428420] Url Request Success\n",
      "[2023-10-12 01:10:15.590704] Url Request Success\n",
      "[2023-10-12 01:10:15.835136] Url Request Success\n",
      "[2023-10-12 01:10:16.024786] Url Request Success\n",
      "[2023-10-12 01:10:16.361702] Url Request Success\n",
      "HTTP Error 400: Bad Request\n",
      "[2023-10-12 01:10:16.471605] Error for URL : https://openapi.naver.com/v1/search/news.json?query=AI&start=1001&display=100\n",
      " Total search : 2536930 items \n",
      "가져온 데이터 : 1000 건\n",
      "AI_naver_news.json SAVED\n"
     ]
    }
   ],
   "source": [
    "if __name__ == '__main__' : main()"
   ],
   "metadata": {
    "collapsed": false,
    "ExecuteTime": {
     "end_time": "2023-10-11T16:10:16.489537Z",
     "start_time": "2023-10-11T16:10:07.625618Z"
    }
   },
   "id": "acaf149207f8659a"
  },
  {
   "cell_type": "markdown",
   "source": [
    "#### Selenium\n",
    "\n",
    "Create a virtual web browser to \n",
    "\n",
    "(1) click on a web page to navigate to another web page and\n",
    "\n",
    "(2) web browser Scroll down to remotely extract the contents at the bottom of the web Executed (resolving the part that cannot be processed with the requests module)"
   ],
   "metadata": {
    "collapsed": false
   },
   "id": "ee703cb12333a80b"
  },
  {
   "cell_type": "markdown",
   "source": [
    "**1. Selenium Setup**"
   ],
   "metadata": {
    "collapsed": false
   },
   "id": "ba9355ec997b17a0"
  },
  {
   "cell_type": "code",
   "execution_count": 3,
   "outputs": [],
   "source": [
    "from selenium import webdriver\n",
    "from selenium.webdriver.common.by import By\n",
    "from selenium.webdriver.chrome.service import Service\n",
    "from webdriver_manager.chrome import ChromeDriverManager\n",
    "import time\n",
    "\n",
    "driver = webdriver.Chrome(service = Service(ChromeDriverManager().install()))\n",
    "\n",
    "url = \"https://www.naver.com/\"\n",
    "driver.get(url)\n",
    "time.sleep(5)"
   ],
   "metadata": {
    "collapsed": false,
    "ExecuteTime": {
     "end_time": "2023-10-12T16:34:46.323408Z",
     "start_time": "2023-10-12T16:34:30.158711Z"
    }
   },
   "id": "90494cf64dfd32c0"
  },
  {
   "cell_type": "code",
   "execution_count": 4,
   "outputs": [],
   "source": [
    "from bs4 import BeautifulSoup as bs\n",
    "from urllib.request import urlopen\n",
    "from urllib.parse import quote_plus\n",
    "from selenium.webdriver.common.keys import Keys"
   ],
   "metadata": {
    "collapsed": false,
    "ExecuteTime": {
     "end_time": "2023-10-12T16:35:26.271457Z",
     "start_time": "2023-10-12T16:35:26.155482Z"
    }
   },
   "id": "9055d0fc905bbb91"
  },
  {
   "cell_type": "markdown",
   "source": [
    "**2. Search Naver on Google**"
   ],
   "metadata": {
    "collapsed": false
   },
   "id": "5d954ec6208b32c1"
  },
  {
   "cell_type": "code",
   "execution_count": 12,
   "outputs": [],
   "source": [
    "url = \"https://www.google.com/\"\n",
    "chrome_options = webdriver.ChromeOptions()\n",
    "driver = webdriver.Chrome(options = chrome_options)\n",
    "driver.get(url) # app을 작동하는 동안 끄면 안된다. (끄면 오류가 발생한다!)"
   ],
   "metadata": {
    "collapsed": false,
    "ExecuteTime": {
     "end_time": "2023-10-12T16:42:05.768096Z",
     "start_time": "2023-10-12T16:41:59.622472Z"
    }
   },
   "id": "5b8ecca57b3d246f"
  },
  {
   "cell_type": "code",
   "execution_count": 13,
   "outputs": [],
   "source": [
    "driver.find_element(By.NAME, \"q\").send_keys(\"Naver\") \n",
    "driver.find_element(By.NAME, \"q\").send_keys(Keys.ENTER)\n",
    "driver.find_element(By.PARTIAL_LINK_TEXT, \"NAVER\").click()"
   ],
   "metadata": {
    "collapsed": false,
    "ExecuteTime": {
     "end_time": "2023-10-12T16:42:10.357796Z",
     "start_time": "2023-10-12T16:42:08.044666Z"
    }
   },
   "id": "5da3ed7df15f6131"
  },
  {
   "cell_type": "code",
   "execution_count": 14,
   "outputs": [
    {
     "name": "stdout",
     "output_type": "stream",
     "text": [
      "NAVER\n",
      "https://www.naver.com/\n"
     ]
    }
   ],
   "source": [
    "print(driver.title)\n",
    "print(driver.current_url)\n",
    "driver.close() # Chrome closing"
   ],
   "metadata": {
    "collapsed": false,
    "ExecuteTime": {
     "end_time": "2023-10-12T16:42:53.231493Z",
     "start_time": "2023-10-12T16:42:53.101375Z"
    }
   },
   "id": "e40b91f8e27ee242"
  },
  {
   "cell_type": "markdown",
   "source": [
    "**3. Save**"
   ],
   "metadata": {
    "collapsed": false
   },
   "id": "b0126174ae4552c"
  },
  {
   "cell_type": "code",
   "execution_count": 15,
   "outputs": [],
   "source": [
    "url = 'https://naver.com/'\n",
    "driver = webdriver.Chrome(options = chrome_options)\n",
    "driver.get(url) # selenium Use"
   ],
   "metadata": {
    "collapsed": false,
    "ExecuteTime": {
     "end_time": "2023-10-12T16:45:21.440741Z",
     "start_time": "2023-10-12T16:45:16.977489Z"
    }
   },
   "id": "afc9788330d32b17"
  },
  {
   "cell_type": "markdown",
   "source": [
    "**4. Naver News : link news**"
   ],
   "metadata": {
    "collapsed": false
   },
   "id": "b0c8a59fa6027fbe"
  },
  {
   "cell_type": "code",
   "execution_count": 16,
   "outputs": [],
   "source": [
    "driver = webdriver.Chrome(options = chrome_options)\n",
    "#### Extract\n",
    "import requests \n",
    "import re\n",
    "from bs4 import BeautifulSoup\n",
    "url = \"https://news.naver.com/\"\n",
    "req = requests.get(url)\n",
    "html = req.text\n",
    "soup = BeautifulSoup(html, 'html.parser')"
   ],
   "metadata": {
    "collapsed": false,
    "ExecuteTime": {
     "end_time": "2023-10-12T16:47:35.701930Z",
     "start_time": "2023-10-12T16:47:31.945522Z"
    }
   },
   "id": "a02cc2787e6a9cf1"
  },
  {
   "cell_type": "markdown",
   "source": [
    "News title and url by media Extraction (80 cases)"
   ],
   "metadata": {
    "collapsed": false
   },
   "id": "e5e2ebaee2b32847"
  },
  {
   "cell_type": "code",
   "execution_count": 17,
   "outputs": [],
   "source": [
    "titles = soup.select (\" div.cjs_journal_wrap a\")\n",
    "title_list = []\n",
    "url_list = []\n",
    "for title in titles:\n",
    "    text1 = title.text\n",
    "    text2 = re.sub('\\t|\\r|\\n|\\.|//|\\{|\\}|', '', text1)\n",
    "    title_list.append(text2)\n",
    "    url_list.append(title[\"href\"])"
   ],
   "metadata": {
    "collapsed": false,
    "ExecuteTime": {
     "end_time": "2023-10-12T16:48:06.045368Z",
     "start_time": "2023-10-12T16:48:06.000839Z"
    }
   },
   "id": "785b84352044a781"
  },
  {
   "cell_type": "markdown",
   "source": [
    "News infomation building (combine title, url)"
   ],
   "metadata": {
    "collapsed": false
   },
   "id": "c62acbe13cdb0963"
  },
  {
   "cell_type": "code",
   "execution_count": 21,
   "outputs": [],
   "source": [
    "news_list = zip(title_list, url_list)\n",
    "news_info_list = []\n",
    "for news in news_list:\n",
    "    news_dict = {\n",
    "    \"title\": news[0],\n",
    "    \" url \": news[1]\n",
    "    }\n",
    "    news_info_list.append(news_dict)"
   ],
   "metadata": {
    "collapsed": false,
    "ExecuteTime": {
     "end_time": "2023-10-12T16:50:46.487720Z",
     "start_time": "2023-10-12T16:50:46.473558Z"
    }
   },
   "id": "4fa897084423f9a"
  },
  {
   "cell_type": "code",
   "execution_count": 22,
   "outputs": [
    {
     "data": {
      "text/plain": "[{'title': '나도 모르고 짊어진 나라빚 2100만원…계속 늘어난다고?지난 8월 기준 국가채무가 1천100조원을 돌파했습니다 통계청의 올해 인구 전망치(5156만 명)로 나누면 1인당 2100만원을 웃돕니다 나라 살림을 보여주는 관리재정수지는 66조원 적자를 기록했습니다 기획재정',\n  ' url ': 'https://n.news.naver.com/article/374/0000354124'},\n {'title': '삼성전자 3분기 영업이익 2조4000억 원, 올해 첫 조 단위 실적반도체 바닥 기대감↑… 어닝 서프라이즈 소식에 주가 271% 상승 삼성전자가 올해 처음으로 조 단위 영업이익을 기록했다 영업이익이 직전 분기 대비 258% 이상 증가한 사실이 알려지면서 반도체 업황이 바닥을 찍은',\n  ' url ': 'https://n.news.naver.com/article/037/0000033218'},\n {'title': '\\'완승\\' 민주당 \"무거운 민심\" 겸손 모드…비명은 \\'총선 경계\\'친명계 \"이재명과 국민이 이겼다\" 자축 승리 만끽도 전에…檢, \\'백현동 의혹\\' 이재명 불구속 기소 더불어민주당은 서울 강서구청장 보궐선거에서 진교훈 구청장이 김태우 국민의힘 후보(전 구청장)에 낙승한 것을 두고 \\'윤',\n  ' url ': 'https://n.news.naver.com/article/629/0000243421'},\n {'title': '국민의힘, 수도권에서 苦戰할 수밖에 없는 3가지 이유● 수도권 중심 민주당 vs 영남 중심 국민의힘 지도부 ● 민주당은 이재명 개인 문제, 국민의힘은 구조적 문제 ● 세대·이념·출신지역 유권자 지형 변화, 민주당에 유리 선거가 가까워질수록 조선시대 유생들 상소문처럼 ',\n  ' url ': 'https://n.news.naver.com/article/262/0000016892'},\n {'title': '숫자 ‘7’ 이 부른 행운…이틀 연속 당첨 복권된 美 남성미국에서 한 남성이 ‘행운의 숫자 7’을 앞세운 즉석복권에 이틀 연속 당첨됐다 11일(현지시간) 미국 미주리주(州) 복권국에서 발표를 인용한 현지 매체 보도에 따르면 해당 주 버논카운티에 사는 이 남성은 4일 자택',\n  ' url ': 'https://n.news.naver.com/article/020/0003525003'},\n {'title': '박지원 “한동훈이 예술의전당 찾는 이유 알려드림” [정치왜그래?]\"김행 후보자 호가 ‘36계’라는 얘기가 있어요 후보자가 사라지는 일은 인사청문회 역사상 처음 있는 일이에요 근데 이것도 가짜 뉴스래요 왜 가짜 뉴스예요? 실제 없어졌잖아요 국민의힘은 입만 벌리면 전 정부 탓',\n  ' url ': 'https://n.news.naver.com/article/308/0000033540'},\n {'title': '여권, 이대로면…총선 가도 ‘이 장면’김기현 대표 최고위 취소 당 ‘혼란’ 내년 총선 전초전으로 꼽힌 서울 강서구청장 보궐선거가 집권여당이 야당에 17%포인트 뒤지는 완패로 끝났다 국민의힘에선 “윤석열 대통령의 패배”라는 진단과 함께 윤 대통령이 이념',\n  ' url ': 'https://n.news.naver.com/article/032/0003254544'},\n {'title': '“오늘 저녁, 킹크랩 사치 부려볼까”…40% 가격 하락1kg 당 7만원 수준···3개월 전 대비 급락 러·우 전쟁에 아시아 국가로 물량 쏟아져 러시아·우크라이나 전쟁에 고급 식재료 킹크랩 가격이 1kg당 7만원대로 떨어졌다 12일 수산물 유통 플랫폼 인어교주해적단에 ',\n  ' url ': 'https://n.news.naver.com/article/024/0000085036'},\n {'title': '5시리즈 신형 출시 임박에 ‘이 모델’ 중고가 4%이상 떨어졌다BMW 5시리즈(G60) 신형 출시를 앞두고 중고차 가격 변동이 일어나고 있다 헤이딜러가 분석한 10월 중고차 시세 결과를 살펴보면, 10월 중고차 시세는 5시리즈 풀체인지 출시를 앞 둔 시점에서 경쟁 차종인 벤츠',\n  ' url ': 'https://n.news.naver.com/article/050/0000068764'},\n {'title': \"'의붓딸 성추행' 논란 '오은영 결혼지옥' 법정 제재 전망의붓딸 성추행 논란이 불거진 MBC TV '오은영 리포트 결혼지옥' 방송에 대해 법정 제재가 내려질 전망이다 12일 방송통신심의위원회(이하 '방심위') 방송심의소위원회는 의붓딸 성추행 논란을 야기한 지난해 12월1\",\n  ' url ': 'https://n.news.naver.com/article/277/0005325467'},\n {'title': '신생아 100명 죽게 둘 겁니까…가자지구 병원 전기 끊긴다이스라엘의 연이은 공습과 완전 봉쇄로 팔레스타인 가자지구 내 병원에서 치료 중인 어린이 수백명의 목숨이 위태로운 상황인 것으로 알려졌다 특히 이 가운데 의료기기에 의존하고 있는 신생아 100여명이 포함돼 있다는 증',\n  ' url ': 'https://n.news.naver.com/article/028/0002660036'},\n {'title': '\"출퇴근길이 두려워요\" 공포…운전자 떨게 만드는 정체 [이슈+]\"운전하다가 멀리서 \\'킥보드\\'가 보이면 겁부터 나요 갑자기 튀어나오면 피하기도 어려운데 정말 큰일입니다\" 서울 도로 한복판에서 킥보드 탄 사람을 자주 마주한다는 20대 직장인 고모 씨는 \"무자비하게 도로를 달리거',\n  ' url ': 'https://n.news.naver.com/article/015/0004901642'},\n {'title': \"극단적 선택·월북·보육원 한 가족에게 남겨진 불우한 단어들3년 만에 다시 찾은 용산고개, 그 안에서 마주한 아픔 필자는 이번 연재를 통해 '한국전쟁기 민간인학살 유해발굴 자원봉사활동'에 대한 발굴 현장의 역사를 소개하고자 한다 2014년부터 진행한 전국각지 유해발굴 현장\",\n  ' url ': 'https://n.news.naver.com/article/047/0002409163'},\n {'title': \"인천 소상공인 ‘코로나 보릿고개’ 못 넘고빚더미 '허우적'올해 보증사고 작년比 ‘3배’↑… 연말 1천400억 육박할 듯 인천신보 “경기침체 탓 여전히 많은 소상공인 어려움 호소” 인천지역의 한 개인 사업자가 시중은행으로부터 대출을 받고 있다 경기일보DB “몇년째 대리운전\",\n  ' url ': 'https://n.news.naver.com/article/666/0000023258'},\n {'title': '이스라엘, 전세계서 예비군 36만명 총동원령…\\'지상전\\' 본격 준비전 세계에서 예비군 36만여 명을 소집한 이스라엘군이 팔레스타인 무장 정파 하마스의 기습 공격에 맞서 가자지구에서의 지상전 준비에 본격 돌입했다 12일(현지 시간) AP 통신에 따르면 이스라엘군은 \"가자지구에서의 ',\n  ' url ': 'https://n.news.naver.com/article/123/0002317786'},\n {'title': '의붓딸 성추행 논란 ‘오은영 결혼지옥’ 법정 제재 전망의붓딸 성추행 논란이 불거졌던 MBC ‘오은영 리포트 결혼지옥’ 방송에 법정 제재가 내려질 것으로 보인다 방송통신심의위원회 방송심의소위원회는 12일 의붓딸 성추행 논란이 불거졌던 MBC ‘오은영 리포트 결혼지옥’ ',\n  ' url ': 'https://n.news.naver.com/article/009/0005198628'},\n {'title': '이스라엘, 팔레스타인 전쟁 중 시리아 주요 공항 공습인근 국가로 확전 우려 나와 이스라엘이 팔레스타인 무장 정파 하마스와 교전을 하는 가운데 시리아의 주요 공항에도 공습을 가했다는 외신 보도가 나왔다 AFP, AP 통신은 12일(현지시간) 현지 언론을 인용해 이스라',\n  ' url ': 'https://n.news.naver.com/article/366/0000938934'},\n {'title': '안철수 \"이준석 제명이 혁신\"…李 \"이젠 지성을 의심\"(종합)국민의힘 안철수 의원은 12일 차기 총선 승리를 위한 당의 혁신 과제로 이준석 전 대표를 제명하는 방안을 꼽았다 속칭 \\'내부총질\\' 행위에 철퇴를 내려야 전열이 정비된다는 논리다 이준석 전 대표는 \"자빠졌죠\"라는 ',\n  ' url ': 'https://n.news.naver.com/article/079/0003822451'},\n {'title': '동영상재생시간01:59[단독]새벽 112에 걸려온 “짜장 1개 빨리요”여성이 혼자 사는 집을 상습적으로 훔쳐본 남성이 경찰에 붙잡혔습니다 112에 전화를 건 피해 여성이 남성에게 들킬까봐 \"짜장면 1개를 빨리 배달해달라\"고 말했는데, 112 상황실 직원이 그냥 넘기지 않고, 빠르게 ',\n  ' url ': 'https://n.news.naver.com/article/449/0000259477'},\n {'title': '대우마리나 재건축 ‘신탁 방식’ 추진… 부산 대단지 기준 될까부산 해운대구 대우마리나 1, 2차가 신탁 방식으로 재건축을 추진한다 최근 고금리와 공사비 갈등 등 정비사업 추진의 장애물이 많아지자 수수료를 내더라도 이러한 문제 해결에 유리한 신탁 방식을 택한 것으로 보인다 ',\n  ' url ': 'https://n.news.naver.com/article/082/0001236546'},\n {'title': '故김용호, 마지막 유언 영상…\"방탕하게 살아, 내 역할 다했다\"부산의 한 호텔에서 투신해 숨진 유튜버 김용호(47)가 사망 전 유튜브에 음성 메모를 남겼다 김용호와 강용석 변호사가 함께 운영한 유튜브 채널엔 12일 오후 1시쯤 \\'[긴급] 여러분 도와주세요 김용호 부장을 찾습',\n  ' url ': 'https://n.news.naver.com/article/008/0004948214'},\n {'title': '[주간 뉴스타파] 검찰 특활비 먹칠 벗기니 수사기밀은 없고 오남용만 있었다뉴스타파와 3개 시민단체(세금도둑잡아라, 정보공개센터, 함께하는시민행동), 그리고 5개 독립언론·공영방송(경남도민일보, 뉴스민, 뉴스하다, 부산MBC, 충청리뷰)은 ‘검찰예산검증 공동취재단’(공동취재단)을 꾸려 사상',\n  ' url ': 'https://n.news.naver.com/article/607/0000001703'},\n {'title': '“내 역할 다했으니 사라지겠다” 유튜버 김용호 육성 유언유튜버 김용호(47)씨가 남긴 마지막 육성 유언이 공개됐다 전날 강제추행 혐의로 유죄를 선고받고, 연예인 공갈 혐의로 수사를 받던 그는 12일 오후 1시께 투숙하던 부산 호텔에서 숨진 채 발견됐다 유튜버 김용호',\n  ' url ': 'https://n.news.naver.com/article/018/0005594600'},\n {'title': '암컷 개구리, 수컷과 짝짓기 피하려고 죽은 척 한다원치 않는 수컷의 관심을 피하기 위해 일부 암컷 개구리들은 죽음을 위장한 극단적인 행동을 하는 것으로 나타났다 수컷 개구리들은 암컷 개구리와 짝짓기를 하기 위해 다른 수컷들과 쟁탈전을 벌이는 것으로 알려져 있다 ',\n  ' url ': 'https://n.news.naver.com/article/584/0000024562'},\n {'title': '동영상재생시간02:16줄소환된 중대재해·직장갑질 대표들…성토장 된 고용부 국감고용노동부 국감에서는 산업재해나 직장내 괴롭힘 사건에 책임이 있는 기업 대표들이 줄줄이 출석했습니다 국회에서라도 책임있는 답변을 해주길 기대했는데, 어떤 대답들이 나왔을까요? 강나루 기자가 전해드립니다 [리포트]',\n  ' url ': 'https://n.news.naver.com/article/056/0011580995'},\n {'title': \"[등산시렁] 바다가 '집'인 기자, 산에서 책을 낭독하다내 기준으로 세상엔 두 개의 잡지가 있다 하나는 남성 패션잡지, 다른 하나는 등산잡지(월간산)다 남성 패션잡지는 화려하다 내지에 쓰인 폰트부터 시작해 페이지마다 다른 레이아웃으로 구성되어 있다 연예인과 잘생긴\",\n  ' url ': 'https://n.news.naver.com/article/094/0000011255'},\n {'title': '동영상재생시간02:23\"강력 추천\" 댓글 믿었는데…알고 보니 해커스 자작 댓글취업이나 어학 공부를 위해 인터넷 온라인 카페에서 정보를 얻는 분들이 많습니다 그런데 해커스 그룹이 온라인 카페들을 직접 운영하며 수험생인 척 댓글로 광고를 하다 적발됐습니다 조을선 기자가 취재했습니다 <기자>',\n  ' url ': 'https://n.news.naver.com/article/055/0001096845'},\n {'title': '나만 나가면 불안해하는 반려견… ‘홈캠’ 설치 추천 안 하는 이유 [멍멍냥냥]반려견이 있으면 외출이 쉽지 않다 보호자가 없을 때 반려견이 수시로 짖거나, 낑낑거리기 때문이다 보통은 보호자와 분리되는 것을 두려워하는 탓에 이런 행동이 나타난다 반려견 분리불안 증상을 완화하려면 어떻게 해야',\n  ' url ': 'https://n.news.naver.com/article/346/0000065424'},\n {'title': '선거 불신 초래한 선관위, 통합보안관제 맡은 ‘윈스’ 책임론 불거질까중앙선거관리위원회(이하 선관위)의 사이버보안 체계가 처참한 수준인 것으로 드러났다 내년도 제22대 국회의원선거(이하 총선)을 앞두고 논란을 자초한 데 대한 비난의 수위가 높아지는 가운데 선관위에게 통합보안관제 서비',\n  ' url ': 'https://n.news.naver.com/article/138/0002158452'},\n {'title': '“킁킁, 비싼 냄새”, “시골서 온 사람들 같아”…강남구 홍보 영상강남구 홍보 영상이 온라인상에서 논란이 일자 강남구는 해당 영상을 비공개로 돌렸다 영상에는 “촌스럽게 건물들 좀 그만 쳐다봐 완전 시골에서 온 사람들 같아 보이거든” 등 대사가 담겼다 12일 강남구 공식 유튜브',\n  ' url ': 'https://n.news.naver.com/article/081/0003399991'},\n {'title': '동영상재생시간03:3920대 여학생도, 90대 노인도 \"자원입대\"…이스라엘 예비군 집결이스라엘은 지상전을 준비 중이라며 모두 죽은 목숨이라고 목소리를 높이고 있습니다 이에 맞서 하마스가 이번 전쟁을 2년간 준비해 왔다는 말도 나오는데 지금 상황 어떤지 현지에서 취재하고 있는 이도성 기자 불러보겠습니',\n  ' url ': 'https://n.news.naver.com/article/437/0000362923'},\n {'title': '동영상재생시간02:12하영올레도 낙석으로 통제 또 관리사각  지대지난달 제주시 별도봉 산책로가 낙석 우려로 통제됐다는 소식 전해드린 바 있는데요 이번에는 서귀포시 하영올레 2코스에서도 똑같은 일이 벌어졌습니다 이효형 기잡니다 (리포트) 서복전시관과 정방폭포로 이어지는 하영올',\n  ' url ': 'https://n.news.naver.com/article/661/0000032317'},\n {'title': \"여교사 화장실 불법 촬영한 고3 남학생 3명'퇴학'여성 교사 화장실에 카메라를 설치하고 불법 촬영한 고등학교 3학년 남학생 3명이 퇴학 처분됐습니다 대전중부경찰서는 성폭력범죄의 처벌에 관한 특별법 위반 혐의로 대전의 한 고등학교 3학년 남학생 A군 등 3명을 붙잡\",\n  ' url ': 'https://n.news.naver.com/article/660/0000046765'},\n {'title': '[기가車] 트럭 전복시킨 킥보드, 잡고보니 여중생…경찰 조사한밤중 신호등 없는 교차로를 달리던 전동 킥보드를 피하려던 화물차가 전복되는 사고가 발생해 경찰이 조사에 나섰다 킥보드를 타고 있던 여학생은 사고가 발생했음에도 현장을 지나치려 했다는 사실이 전해져 공분을 사고 있',\n  ' url ': 'https://n.news.naver.com/article/031/0000778745'},\n {'title': '‘아이폰15 시리즈’ 韓 상륙 D-1…방통위 “사기 판매 주의”애플의 최신 스마트폰 ‘아이폰 15’ 시리즈가 한국 상륙에 임박했다 방송통신위원회(방통위)는 이에 맞춰 허위·과장 광고 등의 사기 판매에 대한 이용자 주의를 12일 당부했다 아이폰15 시리즈의 국내 판매는 오는 ',\n  ' url ': 'https://n.news.naver.com/article/243/0000051341'},\n {'title': '동영상재생시간02:35\\'인질 영상\\' 퍼뜨리는 하마스‥\"IS와 판박이\"하마스가 인질들을 학대하고 살해하는 영상을 소셜 미디어를 통해서 의도적으로 퍼뜨리고 있다는 소식을 전해드렸죠 이렇게 잔혹한 영상을 적극적으로 활용하는 이런 행태, IS나 알 카에다 같은 극단주의 테러 단체와 매우 ',\n  ' url ': 'https://n.news.naver.com/article/214/0001304884'},\n {'title': \"당뇨 있는데 근육 없으면사망 위험 더 높다당뇨병 환자라면 근육량에 더 신경을 써야 한다는 주장이 나왔다 최근 '유럽당뇨병학회(EASD)' 연례 회의에서 근육량이 적은 당뇨병 환자가 심혈관 질환은 물론 모든 원인으로 인한 사망 위험이 높다는 연구 결과가 나\",\n  ' url ': 'https://n.news.naver.com/article/296/0000070383'},\n {'title': \"Crushing by-election defeat puts PPP in a pickleThe governing People Power Party (PPP) is in a pinch after its marked defeat in a critical race in Seoul's Gangseo Distr\",\n  ' url ': 'https://n.news.naver.com/article/640/0000044463'},\n {'title': 'Import ban on Japanese seafood has loopholes: lawmakersImports of processed Japanese seafood and rice from regions near the disposal of the treated wastewater from the damaged',\n  ' url ': 'https://n.news.naver.com/article/044/0000250725'},\n {'title': \"기아 'EV3·4·5' 보급형 전기차 시대 연다기아가 전기 스포츠유틸리티차량(SUV) EV5에서 EV3·EV4까지 전기차 대중화를 앞당길 보급형 라인업을 구축한다 앞서 내놓은 EV6·EV9에 이어 풀라인업을 완성해, 2030년 전기차 160만대 판매 목표 달성\",\n  ' url ': 'https://n.news.naver.com/article/030/0003144372'},\n {'title': '이근, 故김용호 조롱 논란 \"모든 사이버 래커의 끝…치얼스\"UDT 대위 출신 유튜버 이근이 고(故) 김용호의 사망을 언급하며 조롱하는 듯한 게시글을 올려 논란이 되고 있다 이근은 12일 유튜브 채널 ‘ROKSEAL’ 커뮤니티 게시판에 김씨의 사망 소식이 담긴 기사를 게시하',\n  ' url ': 'https://n.news.naver.com/article/025/0003313965'},\n {'title': '동영상재생시간02:07[단독] \\'김정은 방러 이후 \\'러 통제\\' 느슨…北노동자 \"임영웅 좋아해\"중국이 아시안게임 폐막 직후 수백 명의 탈북민을 강제북송했다고 뉴스를 어제 전해드렸지요 그런데 김정은 위원장이 러시아를 방문해 푸틴을 만난 뒤, 러시아에선 북한 노동자들에 대한 통제가 느슨해진 걸로 전해졌습니다 ',\n  ' url ': 'https://n.news.naver.com/article/448/0000431458'},\n {'title': \"청계천 떠난 '작은 공장'이 말하는 떠나야만 했던 이유 [視리즈]문래동은 이제 서울 속 작은 공장의 마지막 보루다 2000년대 중반 청계천ㆍ을지로에 불어닥친 개발 바람에 밀려난 작은 공장이 모여든 곳이어서다 하지만 여기엔 우리가 놓치고 있던 질문이 있다 왜 이들은 청계천ㆍ을\",\n  ' url ': 'https://n.news.naver.com/article/665/0000001777'},\n {'title': '동영상재생시간07:17[뉴스+] 대구시 \"신청사 짓기 위해 다른 땅 팔 수도 있어\"홍준표 시장 취임 이후 대구시청 신청사 건립이 안갯속으로 들어갔습니다 전임 권영진 시장 시절 주민 의견을 모은 숙의 민주주의로 정해진 대로 옛 두류정수장 터에 짓기는 하겠지만, 두류정수장의 땅 일부를 팔아서 그 돈',\n  ' url ': 'https://n.news.naver.com/article/657/0000019260'},\n {'title': '인질 잔혹영상 확산 우려… “자녀 폰 SNS 삭제” 움직임이스라엘·팔레스타인 전쟁 발발 이후 잔인한 내용이 담긴 사진과 영상이 SNS를 통해 무분별하게 확산하고 있다 민간인을 향한 총기 난사 장면 등이 여과 없이 유포되면서 학부모 사이에서는 자녀의 SNS 사용을 막자는 ',\n  ' url ': 'https://n.news.naver.com/article/005/0001644001'},\n {'title': '\"내 딸 의사 마음먹었는데 면허 박탈…화 많이 난다\" 조국 분통조국 전 법무부 장관이 자신의 딸 조민 씨를 언급하며\\'입시 비리 혐의\\'로 불구속 기소된 데 대해 \"화가 많이 난다\"고 말했다 조 전 장관은 지난 11일 유튜브 채널 \\'새날\\'에서 \\'의사 면허가 취소됐는데 기죽지 않고',\n  ' url ': 'https://n.news.naver.com/article/119/0002757573'},\n {'title': '安 \"이준석 제명해야\" 李 \"길게 쓰고 자빠졌죠\"이준석 국민의힘 전 대표와 오랜 갈등 관계인 안철수 국민의힘 의원이 이 전 대표의 제명을 주장하고 나섰다 안 의원은 글에서 이 전 대표가 서울 강서구청장 보궐선거 기간 \"자신이 \\'XX하고 자빠졌네\\'라는 욕설을 했다',\n  ' url ': 'https://n.news.naver.com/article/053/0000038927'},\n {'title': '유튜버 김용호 부산 호텔서 숨진 채 발견…극단적 선택 추정유튜버 김용호(사진) 씨가 부산의 한 호텔에서 숨진 채 발견됐다 12일 경찰 등에 따르면 이날 오후 1시쯤 부산 해운대구 한 호텔에서 유튜버 김 씨가 숨진 채 발견됐다 호텔 직원이 숨진 김 씨를 발견하고 소방당국',\n  ' url ': 'https://n.news.naver.com/article/021/0002598727'},\n {'title': \"백일 앞둔 쌍둥이 판다 이름은 `루이바오`·`후이바오`…내년초 공개'슬기로운 보물'과 '빛나는 보물'이란 의미 2만명 참여한 4만여개 제안 중 70만명 투표로 결정 100일 사흘 앞둔 현재 몸무게 5㎏ 달해 에버랜드에서 태어난 쌍둥이 아기 판다의 이름이 '루이바오(睿寶)'와 '후이\",\n  ' url ': 'https://n.news.naver.com/article/029/0002830138'},\n {'title': '동영상재생시간02:08신규 EV 3종 공개…\"전기차 대중화 이끌 것\"기아가 신형 전기차 3종을 공개했습니다 그동안 프리미엄 차량에 집중하던 것과 달리 모두 5천만 원 이하 가격대로 전기차 대중화를 이끌겠다고 구상입니다 이서후 기자가 보도합니다 <기자> 비슷한 패밀리룩 헤드램프 ',\n  ' url ': 'https://n.news.naver.com/article/215/0001129064'},\n {'title': '동영상재생시간02:18\"문 닫는 지방 병의원\" 공공의료 서비스도 위태위태◀앵커▶ 남원의 의원 4곳이 최근 문들 닫는 등 병의원이 잇달아 폐업 행렬에 동참하면서 지방의료가 붕괴하는 것 아니냐 우려가 커지고 있습니다 인구는 줄고 수요는 없다 보니 중소 도시에서는 줄줄이 폐업하고 대도시로만',\n  ' url ': 'https://n.news.naver.com/article/659/0000015562'},\n {'title': \"‘여성농과 함께 활력 넘치는 농촌'⋯제2회 여성농업인의 날 기념식‘여성농과 함께, 활력 넘치는 농촌, 생기발랄한 농업!’ ‘제2회 여성농업인의 날(10월15일)’ 기념식이 12일 서울 중구 농협중앙회 대강당에서 개최됐다 여성농업인의 날은 여성농의 지위와 자긍심을 높이고, 농업주\",\n  ' url ': 'https://n.news.naver.com/article/662/0000029835'},\n {'title': '8세딸 시신 발견되자 “차라리 다행” 눈시울 붉힌 이스라엘父팔레스타인 무장정파 하마스의 공격을 받은 이스라엘 키부츠 ‘비에리’ 주민인 한 남성은 8살 딸의 시신을 발견했다는 사실에 오히려 안도하고 말았다 인질이 되느니 차라리 죽는 게 낫다고 말하는 이 아버지가 눈시울을 붉',\n  ' url ': 'https://n.news.naver.com/article/023/0003792966'},\n {'title': '동영상재생시간02:10쌩쌩 지나던 도로가 신호주기 바뀐 뒤 상습정체 구간 전락민원 폭주청주 시내와 금천·용담동을 오가는 도로에서 최근 출퇴근길 극심한 정체 현상이 빚어지고 있습니다 인근에 아파트가 생기면서 중간에 사거리가 신설돼 신호 주기가 바뀌었기 때문인데요 불과 2주 사이 경찰과 청주시에 1백',\n  ' url ': 'https://n.news.naver.com/article/655/0000013593'},\n {'title': '가수 남태현 \"혼자선 마약 끊기 어려워…재활에 정부 지원 필요\"\"현장서 느끼는 약물 문제 심각한데 지원 너무 부족해\" 김잔디 한주홍 권지현 기자 = 필로폰 투약 혐의로 재판에 넘겨진 아이돌 출신 가수 남태현(29)씨가 12일 약물중독은 혼자서 해결할 수 없다며 정부가 지원을 늘',\n  ' url ': 'https://n.news.naver.com/article/001/0014258226'},\n {'title': '요즘 이준석, 금쪽이 아니 금쪽 같아…시간은 그의 편예술가와 정치인의 공통점은 그 무엇보다 자신을 사랑한다는 것이다 자기애가 큰 동력이다 차이점은 예술가는 그걸 내보이거나 추구해도 괜찮지만 정치인은 그래선 안 된다는 것이다 대놓고 ‘나를 위해’ 정치한다고 내세우',\n  ' url ': 'https://n.news.naver.com/article/036/0000048852'},\n {'title': '\"2030년 전기차 160만대 판매\"기아가 자신한 이유기아가 전동화 비전에 시동을 걸었다 기아는 올 상반기 157만대의 차량을 팔았는데, 이 판매량을 2030년에는 전기차로 바꾼다는 계획이다 이 같은 대담한 목표는 기아가 수년 간 전동화 내실을 다져온 덕에 \\'이유 ',\n  ' url ': 'https://n.news.naver.com/article/092/0002307687'},\n {'title': '라디오까지 뉴스타파 인용보도 법정제재 또 늘어지난해 대선 직전 뉴스타파가 보도한 김만배-신학림 음성파일을 인용 보도한 방송에 추가 징계가 내려졌다 방송통신심의위원회(방심위) 방송소위원회는 12일 정기회의를 열고 KBS 라디오 ‘최경영의 최강시사’에 대해 중징',\n  ' url ': 'https://n.news.naver.com/article/127/0000034683'},\n {'title': '\"국산 돼지고기라며\"어쩐지 저렴하던 \\'무한리필집\\', 들통났다외국에서 들여온 값싼 돼지고기를 국내산 돼지고기로 둔갑해 판매한 식당 업주가 입건됐다 12일 법조계 등에 따르면 전날 국립농산물품질관리원 충북지원은 \\'농수산물의 원산지 표시 등에 관한 법률\\' 위반 혐의(원산지 거짓',\n  ' url ': 'https://n.news.naver.com/article/014/0005084610'},\n {'title': \"동영상재생시간02:06'백일' 앞둔 쌍둥이 판다 모습 첫 공개…이름은 '루이바오·후이바오'지난 7월 태어난 국내 첫 쌍둥이 판다의 실물 모습과 이름이 공개됐습니다 태어난 지 100일이 조금 안 됐지만 몸무게는 30배 이상 폭풍 성장했습니다 이름은 슬기로운 보물, 빛나는 보물이란 뜻의 루이바오와 후이바\",\n  ' url ': 'https://n.news.naver.com/article/422/0000623557'},\n {'title': '\"윤 대통령께 죄송\"… 김행 여가부 장관 후보자 자진사퇴(상보)김행 여성가족부 장관 후보자가 \"정부와 여당에 도움되길 바란다\"며 후보자직을 자진사퇴하겠다고 밝혔다 12일 김 후보자는 입장문을 내고 \"여가부 장관 후보자 지명 이후 긴 시간을 보냈다\"며 \"특히 어제 늦게까지 강서',\n  ' url ': 'https://n.news.naver.com/article/417/0000954494'},\n {'title': '여교사 화장실에 떨어져있던 카메라…고3 남학생들 퇴학 처분영상 공유하기도…3명 불구속 입건 KBS 자료화면 갈무리 대전의 한 고등학교에서 남학생들이 몰래 여교사 화장실에 카메라를 설치해 불법 촬영한 사실이 뒤늦게 알려져 경찰이 수사에 착수했다 12일 대전중부경찰서는 성폭',\n  ' url ': 'https://n.news.naver.com/article/022/0003864032'},\n {'title': '이스라엘 압승 불투명한데도\"지상군 투입, 버튼 누르기만 남았다\"이스라엘 지상군의 가자지구 투입이 사실상 \\'버튼 누르기\\'만 남았다 팔레스타인 무장 정파 하마스와 교전 닷새째인 11일(현지시간) 베냐민 네타냐후 이스라엘 총리는 야당 지도자들과 전·현직 국방장관들이 참여하는 \\'전시',\n  ' url ': 'https://n.news.naver.com/article/469/0000764803'},\n {'title': \"기아 EV5 양산형 직접 살펴보니주간주행등 디자인 눈길 [카미경]기아가 12일 경기도 여주 마임비전빌리지에서 열린 '기아 EV 데이'에서 EV5 양산형, EV3 콘셉트카, EV4 콘셉트카 등 총 3종류의 새로운 전기차를 공개했습니다 EV5 양산형은 국내서 2025년 출시될 예정\",\n  ' url ': 'https://n.news.naver.com/article/293/0000048170'},\n {'title': '\"윤 대통령, 518 희생자 두 번 죽인 파렴치한 KBS 이사 임명\"윤석열 대통령이 518 민주화운동을 폄훼했다는 비판을 받는 이동욱 전 월간조선 기자를 KBS보궐이사에 임명해 파장이 예상된다 앞서 방송통신위원회는 지난 11일 사의를 표명한 김종민 이사 후임으로 이동욱 전 기자 ',\n  ' url ': 'https://n.news.naver.com/article/006/0000120245'},\n {'title': '김행 여가부 장관 후보자, 자진사퇴…  \"尹에 누가 되어 죄송\"김행 여성가족부 장관 후보자가 자진사퇴를 결정했다 김 후보자는 12일 입장문을 내고 \"여가부 후보자 지명 이후 긴 시간을 보냈다\"며 \"저는 여가부 장관 후보자 이전에 국민의힘 당원이다 당원으로서 선당후사의 자세로',\n  ' url ': 'https://n.news.naver.com/article/656/0000065798'},\n {'title': '필리핀 세부해역-바다뱀을 만나도 떨지 말라[박수현의 바닷속 풍경](37)현존하는 약 1만2000종 또는 아종의 파충류 가운데 약 100종 또는 아종이 바다에서 발견된다 이중 7종의 바다거북, 1종의 바다이구아나, 1종의 바다악어를 제외하면 나머지는 모두 바다뱀이다 해양파충류 중 가장',\n  ' url ': 'https://n.news.naver.com/article/033/0000046302'},\n {'title': '“순찰차였나요?”…고속도로 난폭운전 줄줄이 적발“차량번호 XXXX 고속도로 지정차로 위반했습니다 순찰차 따라 졸음쉼터로 서행해 주세요” 12일 오전 중앙고속도로 부산 방향 강원경찰청 고속도로순찰대 제7지구대 소속 박성진·차병일 경위가 암행순찰차의 무전기로 ',\n  ' url ': 'https://n.news.naver.com/article/087/0001000139'},\n {'title': '국감 오른 故 강보경 씨 사건…“원청 작업 독촉 정황 확인”부산 DL이앤씨 아파트 신축 현장에서 안전장치와 안전관리자 없이 작업하다 목숨을 잃은 고(故) 강보경(29) 씨 사망사고(국제신문 지난 8월 14일 자 10면 등 보도)를 두고 원·하청 대표를 향한 국회의 질타가 이',\n  ' url ': 'https://n.news.naver.com/article/658/0000055074'},\n {'title': \"총선 앞 확인된 '정권심판론', 尹대통령은 받아들일까김태우 사면‧낮은 지지율로 불 붙는 '용산 책임론' 尹 변화 의지, 메시지 변화‧인적 쇄신 여부로 가늠될 듯 불과 6개월 앞으로 다가온 총선의 '전초전'으로 불린 서울 강서구청장 보궐선거가 여권\",\n  ' url ': 'https://n.news.naver.com/article/586/0000065716'},\n {'title': '여성 비율 높지만, 여성에게 좋은 일터는 아니거든요〈일다〉는 여성 노동자가 겪는 구조적 차별을 드러내기 위해, 연속 세미나 [다섯 가지 키워드로 본 여성과 노동]을 기획했다 세 번째 키워드 ‘화장실/젠더 건강’에 관한 논의는 9월 7일 반올림(반도체 노동자의 건강',\n  ' url ': 'https://n.news.naver.com/article/007/0000007482'},\n {'title': '\"번 돈 50% 주주에 돌려주겠다\"는 서울보증보험국내 유일의 전업보증보험 회사인 서울보증보험이 설립 25년 만에 유가증권시장 상장을 앞두고 있다 금융시장 불확실성 확대로 국내 증시가 약세를 면치 못하고 있는 가운데 안전성이 높은 고배당주 전략을 짜 기업공개(IP',\n  ' url ': 'https://n.news.naver.com/article/648/0000020149'},\n {'title': '\"50만원 환급 받아가세요\"…매일 카톡 보내던 삼쩜삼, 결국 국감서 \\'혼쭐\\'근거 없이 이용자들의 주민등록번호를 수집·보관한 혐의로 정부로부터 과징금 제재를 받은 개인세금 환급 플랫폼 \\'삼쩜삼\\'이 국정감사 도마 위에 올랐다 김영선 국민의힘 의원은 지난 10일 국회 기획재정위원회 국정감사에서',\n  ' url ': 'https://n.news.naver.com/article/011/0004248536'},\n {'title': '\"딱 걸렸다\"…野의원 자리 비운 사이 질의자료 훔쳐본 남북하나재단국회 외교통일위원회(이하 외통위) 국정감사에서 피감기관 소속 직원이 야당 의원의 질의자료를 훔쳐보는 모습이 카메라에 포착됐습니다 외통위에 의하면, 어제(11일) 남북하나재단 소속 직원 A씨는 점심시간 중 의원들이 ',\n  ' url ': 'https://n.news.naver.com/article/057/0001773674'},\n {'title': '\"윤석열 정부, 깡패국가 이스라엘 편들어\"…대학가에도 팔레스타인 지지 확산팔레스타인의 무장정파 하마스의 이스라엘 기습 공격으로 전쟁이 이어지는 가운데 국내 대학 곳곳에 팔레스타인을 지지하는 성명서가 내걸려 논란이 일고 있다 12일 노동자연대 청년학생그룹(청년학생그룹) 등에 따르면 \\'인종',\n  ' url ': 'https://n.news.naver.com/article/088/0000840402'},\n {'title': '이스라엘서 네타냐후 질책 여론 커져…가자 난민 34만 명 육박[\\'중동 화약고\\' 이스라엘-팔레스타인 분쟁]네타냐후, 일부 야권과 연합 전시 내각…\"이, 인질·벙커 탓 지상 공격 어려움 겪을 것\" 전망도 이스라엘이 일부 야권과 함께 전시 내각을 꾸리며 팔레스타인 가자지구 지상 공격 준비에 박차를 가했다 이스라엘 내부에선',\n  ' url ': 'https://n.news.naver.com/article/002/0002303673'},\n {'title': '동영상재생시간02:10정부, 이르면 내일 이스라엘에 항공기 급파\"재외국민 신속 귀국\"팔레스타인 무장 정파 하마스의 공격으로 전시 상황에 놓인 이스라엘에 정부가 항공기를 급파하기로 했습니다 현지 재외국민과 여행자들의 신속한 귀국을 돕기 위해 이르면 내일 밤 출발할 예정입니다 안윤학 기자의 보도입니',\n  ' url ': 'https://n.news.naver.com/article/052/0001946401'},\n {'title': \"정선 증산터널 안에서 차량과 포크레인 추돌…승용차 화재 '아찔'12일 오후 2시 39분쯤 정선군 남면 무릉리 국도 38호선 태백방향 증산터널에서 소나타 차량과 포크레인 간 추돌사고로 화재가 발생했다 경찰과 소방당국은 소나타 차량이 포크레인을 들이받고 터널벽면에 충돌하면서 차량\",\n  ' url ': 'https://n.news.naver.com/article/654/0000054552'},\n {'title': '김행 여가부 장관 후보자, 자진사퇴… \"국민께 진심으로 죄송\"강서구 보궐선거 참패 의식한 듯 \"후보자 이전에 국힘 당원…선당후사 결심\" \"불법 저지른 적 결코 없어…결백 밝힐 것\" 김행 여성가족부 장관 후보자가 12일 자진사퇴 의사를 밝혔다 전날 강서구 보궐선거에서 민주당이',\n  ' url ': 'https://n.news.naver.com/article/310/0000110988'},\n {'title': '홍대 빌딩 2층에 야생동물이 갇혀 있다…입장료 1만6천원 벌려고 [지구, 뭐래?]“우리 라쿤 친구 먹이 한번 줘보시겠어요?” 입장료는 1만6000원 2개층짜리 테마카페다 들어가보니 너구리과인 라쿤 뿐이 아녔다 미어캣, 왈라비 등 이색동물이 살고 있다 들이나 숲이 아닌, 마룻바닥에서다 이',\n  ' url ': 'https://n.news.naver.com/article/016/0002209325'},\n {'title': '김용호 \"역할 끝내고 사라진다\"…사망 전 육성 남겨(종합2보)김찬호 리포터 = 부산의 한 호텔에서 숨진채 발견된 유튜버 김용호씨가 사망 직전 남긴 육성이 공개됐다 12일 오후 유튜브 채널 KNL 강용석 나이트 라이브에는 \\'[긴급] 여러분 도와주세요 김용호 부장을 찾습니다',\n  ' url ': 'https://n.news.naver.com/article/003/0012142918'},\n {'title': '조국 \"조민, 똑 부러진 딸…의사면허 취소돼 아비로서 속상\"조국 전 법무부장관이 딸 조민씨의 의사면허 취소에 대해 속상한 마음을 드러내며 애틋한 부성애를 보였다 11일 유튜브 채널 \\'새날\\' 라이브 방송에 출연한 조 전 장관은 \"조민씨 의사면허가 취소되고 이때 아빠의 마음은',\n  ' url ': 'https://n.news.naver.com/article/421/0007106415'}]"
     },
     "execution_count": 22,
     "metadata": {},
     "output_type": "execute_result"
    }
   ],
   "source": [
    "news_info_list"
   ],
   "metadata": {
    "collapsed": false,
    "ExecuteTime": {
     "end_time": "2023-10-12T16:50:47.218724Z",
     "start_time": "2023-10-12T16:50:47.200934Z"
    }
   },
   "id": "a79ec84f243d643f"
  },
  {
   "cell_type": "markdown",
   "source": [
    "Extract linked news content (takes about 2 minutes)"
   ],
   "metadata": {
    "collapsed": false
   },
   "id": "d8eca813c3afbe8f"
  },
  {
   "cell_type": "code",
   "execution_count": 23,
   "outputs": [
    {
     "name": "stdout",
     "output_type": "stream",
     "text": [
      "['']\n"
     ]
    }
   ],
   "source": [
    "news_stories =[]\n",
    "for url_i in url_list :\n",
    "    driver.get(url_i) # using selenium\n",
    "html = driver.page_source\n",
    "soup_i = BeautifulSoup(html, \"html.parser\")\n",
    "string0 = soup_i.select(\"div#dic_area\")\n",
    "strings = \" \".join(map(str , string0)) # convert list to string\n",
    "string1 = re.sub('<script.*?>.*?</script>', '', strings, 0, re.I|re.S ) # Remove content inside script\n",
    "string2 = re.sub('<.+?>', '', string1, 0, re.I|re.S ) # remove tags and comments\n",
    "storys = re.sub('\\t|\\r|\\n|\\.|//|\\{|\\}|', '', string2) # Delete other unnecessary symbols\n",
    "news_stories.append(storys)\n",
    "\n",
    "print(news_stories)"
   ],
   "metadata": {
    "collapsed": false,
    "ExecuteTime": {
     "end_time": "2023-10-12T16:51:07.997255Z",
     "start_time": "2023-10-12T16:50:50.289585Z"
    }
   },
   "id": "802c3aa3412f3bc9"
  },
  {
   "cell_type": "markdown",
   "source": [
    "news information building (combine title, content)"
   ],
   "metadata": {
    "collapsed": false
   },
   "id": "8c86073dd1eebbaf"
  },
  {
   "cell_type": "code",
   "execution_count": 24,
   "outputs": [
    {
     "name": "stdout",
     "output_type": "stream",
     "text": [
      "[{'title': '나도 모르고 짊어진 나라빚 2100만원…계속 늘어난다고?지난 8월 기준 국가채무가 1천100조원을 돌파했습니다 통계청의 올해 인구 전망치(5156만 명)로 나누면 1인당 2100만원을 웃돕니다 나라 살림을 보여주는 관리재정수지는 66조원 적자를 기록했습니다 기획재정', 'content': ''}]\n"
     ]
    }
   ],
   "source": [
    "news_list = zip(title_list, news_stories)\n",
    "news_info_list = []\n",
    "for news in news_list:\n",
    "    news_dict = {\n",
    "    \"title\": news[0],\n",
    "    \"content\": news[1]\n",
    "    }\n",
    "    news_info_list.append(news_dict)\n",
    "print(news_info_list)"
   ],
   "metadata": {
    "collapsed": false,
    "ExecuteTime": {
     "end_time": "2023-10-12T16:51:14.154857Z",
     "start_time": "2023-10-12T16:51:14.114299Z"
    }
   },
   "id": "3c96407d0a105bee"
  },
  {
   "cell_type": "markdown",
   "source": [
    "**4-2. Extraction of headline news titles in economy section of NAVER News**"
   ],
   "metadata": {
    "collapsed": false
   },
   "id": "b660a84852876d25"
  },
  {
   "cell_type": "code",
   "execution_count": 27,
   "outputs": [
    {
     "data": {
      "text/plain": "str"
     },
     "execution_count": 27,
     "metadata": {},
     "output_type": "execute_result"
    }
   ],
   "source": [
    "driver = webdriver.Chrome(options=chrome_options)\n",
    "# Extract\n",
    "from bs4 import BeautifulSoup\n",
    "import requests\n",
    "import re\n",
    "\n",
    "# Economic Section \n",
    "url = \"https://news.naver.com/main/main.naver?mode=LSD&mid=shm&sid1=101\"\n",
    "driver.get(url)\n",
    "\n",
    "html = driver.page_source # scrapping\n",
    "type(html) # str"
   ],
   "metadata": {
    "collapsed": false,
    "ExecuteTime": {
     "end_time": "2023-10-12T16:53:12.501451Z",
     "start_time": "2023-10-12T16:53:08.694633Z"
    }
   },
   "id": "9e7cacdc1f5eaa8a"
  },
  {
   "cell_type": "code",
   "execution_count": 28,
   "outputs": [
    {
     "data": {
      "text/plain": "bs4.BeautifulSoup"
     },
     "execution_count": 28,
     "metadata": {},
     "output_type": "execute_result"
    }
   ],
   "source": [
    "soup = BeautifulSoup(html, 'html.parser')\n",
    "type(soup)"
   ],
   "metadata": {
    "collapsed": false,
    "ExecuteTime": {
     "end_time": "2023-10-12T16:53:13.995728Z",
     "start_time": "2023-10-12T16:53:13.972935Z"
    }
   },
   "id": "26bbcd2a62b71e93"
  },
  {
   "cell_type": "markdown",
   "source": [
    "headline news (12) title and url extraction"
   ],
   "metadata": {
    "collapsed": false
   },
   "id": "e1829e078571f5fe"
  },
  {
   "cell_type": "code",
   "execution_count": 29,
   "outputs": [],
   "source": [
    "titles = soup.select(\".sh_text>a\")\n",
    "title_list = []\n",
    "url_list = []\n",
    "for title in titles:\n",
    "    text1 = title.text\n",
    "    text2 = re.sub('\\n', '', text1)\n",
    "    title_list.append(text2)\n",
    "    url_list.append (title[\"href\"])"
   ],
   "metadata": {
    "collapsed": false,
    "ExecuteTime": {
     "end_time": "2023-10-12T16:53:44.720997Z",
     "start_time": "2023-10-12T16:53:44.690931Z"
    }
   },
   "id": "aaf9a12d1c6de2d"
  },
  {
   "cell_type": "code",
   "execution_count": 30,
   "outputs": [
    {
     "data": {
      "text/plain": "['9월 기업대출 11조3천억원 ↑ …11개월 만에 최대 증가폭',\n '통계청장 “가구별 부채 특성 분석…가상자산 통계 작성 검토”',\n '美 9월 소비자물가 3.7%↑…8월 수준 유지',\n '이창용 \"국제유가 예의주시…유가 급등시 내년 성장률 조정\"',\n '“7% 금리에 영끌 허리 휘나\"...아파트값 상승폭 줄었다',\n \"중기부 국감도 R&D 난타전?...與 '체질개선'vs野 '졸속삭감' 공방 예상\",\n '무탄소연합 창립총회…초대 회장에 이회성',\n '방문규 산업부장관, 한전에 고강도 혁신 주문',\n '기아 송호성 사장, \"전기차 얼리어답터 단계 극복하려면?\"',\n '함윤식 우아한형제들 부사장 \"배달 권역 반경 내에서만 깃발 꽂을 것\" [2023 국감]']"
     },
     "execution_count": 30,
     "metadata": {},
     "output_type": "execute_result"
    }
   ],
   "source": [
    "title_list"
   ],
   "metadata": {
    "collapsed": false,
    "ExecuteTime": {
     "end_time": "2023-10-12T16:53:48.351927Z",
     "start_time": "2023-10-12T16:53:48.320390Z"
    }
   },
   "id": "98be036b1df5732"
  },
  {
   "cell_type": "code",
   "execution_count": 31,
   "outputs": [
    {
     "data": {
      "text/plain": "['https://n.news.naver.com/mnews/article/028/0002660037?sid=101',\n 'https://n.news.naver.com/mnews/article/021/0002598620?sid=101',\n 'https://n.news.naver.com/mnews/article/081/0003399990?sid=101',\n 'https://n.news.naver.com/mnews/article/008/0004948181?sid=101',\n 'https://n.news.naver.com/mnews/article/014/0005085006?sid=101',\n 'https://n.news.naver.com/mnews/article/008/0004947810?sid=101',\n 'https://n.news.naver.com/mnews/article/015/0004901631?sid=101',\n 'https://n.news.naver.com/mnews/article/215/0001129033?sid=101',\n 'https://n.news.naver.com/mnews/article/003/0012142945?sid=101',\n 'https://n.news.naver.com/mnews/article/119/0002757581?sid=101']"
     },
     "execution_count": 31,
     "metadata": {},
     "output_type": "execute_result"
    }
   ],
   "source": [
    "url_list"
   ],
   "metadata": {
    "collapsed": false,
    "ExecuteTime": {
     "end_time": "2023-10-12T16:53:53.360350Z",
     "start_time": "2023-10-12T16:53:53.321385Z"
    }
   },
   "id": "c27c7d774d4648b7"
  },
  {
   "cell_type": "markdown",
   "source": [
    "**4-3 Extraction of headline news titles and linked contents of 3 sections of NAVER News**"
   ],
   "metadata": {
    "collapsed": false
   },
   "id": "dc662474c84c6163"
  },
  {
   "cell_type": "code",
   "execution_count": 32,
   "outputs": [],
   "source": [
    "driver = webdriver.Chrome(options=chrome_options)\n",
    "# NAVER News extraction\n",
    "from bs4 import BeautifulSoup\n",
    "import requests\n",
    "import re"
   ],
   "metadata": {
    "collapsed": false,
    "ExecuteTime": {
     "end_time": "2023-10-12T16:54:48.867078Z",
     "start_time": "2023-10-12T16:54:45.531627Z"
    }
   },
   "id": "7fa610c3bf4b7ddb"
  },
  {
   "cell_type": "markdown",
   "source": [
    "NAVER News: Politics(정치), Economy(경제), Social(사회) Section URL"
   ],
   "metadata": {
    "collapsed": false
   },
   "id": "451a3964c170fa07"
  },
  {
   "cell_type": "code",
   "execution_count": 33,
   "outputs": [],
   "source": [
    "news_site = \"https://news.naver.com/main/main.naver?mode=LSD&mid=shm&sid1=\"\n",
    "url_section = ['101', '102', '103']\n",
    "\n",
    "title_list_all = []\n",
    "url_list_all = []\n",
    "news_stories_all =[]"
   ],
   "metadata": {
    "collapsed": false,
    "ExecuteTime": {
     "end_time": "2023-10-12T16:55:12.688808Z",
     "start_time": "2023-10-12T16:55:12.653915Z"
    }
   },
   "id": "dd7a2749c53a13f5"
  },
  {
   "cell_type": "code",
   "execution_count": 36,
   "outputs": [],
   "source": [
    "for url_i in url_section:\n",
    "    driver.get(news_site + url_i) # Section-based news list\n",
    "    html1 = driver.page_source\n",
    "    soup1 = BeautifulSoup(html1, 'html.parser')\n",
    "    titles1 = soup1.select(\".sh_text>a\")\n",
    "    title_list1 = []\n",
    "    url_list1 = []\n",
    "    for title1 in titles1:\n",
    "        text1 = title1.text\n",
    "        text2 = re.sub('\\\\|\\n', '', text1)\n",
    "        title_list1.append(text2)\n",
    "        url_list1.append(title[\"href\"])\n",
    "        news_stories =[]\n",
    "        for url_j in url_list1:\n",
    "            driver.get(url_j)\n",
    "            html_j = driver.page_source\n",
    "            soup_j = BeautifulSoup(html_j, \"html.parser\")\n",
    "            string0 = soup_j.select(\"div#newsct_article\") # news contents in the linked articles\n",
    "            strings = \" \".join(map(str, string0)) # list into string\n",
    "            string1 = re.sub('<script.*?>.*?</script>', '', strings, 0, re.I|re.S) # remove contents in script\n",
    "            string2 = re.sub('<.+?>', '', string1, 0, re.I|re.S) # remove tags and annotations\n",
    "            storys = re.sub('\\t|\\r|\\n|\\.|//|\\{|\\}|', '', string2) # remove unnecessary symbols\n",
    "            news_stories.append(storys)\n",
    "        title_list_all.append(title_list1)\n",
    "        url_list_all.append(url_list1)\n",
    "        news_stories_all.append(news_stories)"
   ],
   "metadata": {
    "collapsed": false,
    "ExecuteTime": {
     "end_time": "2023-10-12T16:57:15.712313Z",
     "start_time": "2023-10-12T16:56:24.540017Z"
    }
   },
   "id": "b6a058cd9a58bcbd"
  },
  {
   "cell_type": "markdown",
   "source": [
    "New information (title, content)"
   ],
   "metadata": {
    "collapsed": false
   },
   "id": "6f3b9a5e6a80fdf5"
  },
  {
   "cell_type": "code",
   "execution_count": 37,
   "outputs": [],
   "source": [
    "news_list = zip(title_list_all, news_stories_all)\n",
    "news_info_list = []\n",
    "for news in news_list:\n",
    "    news_dict = {\n",
    "        \"title\": news[0],\n",
    "        \"content\": news[1]\n",
    "    }\n",
    "    news_info_list.append(news_dict)"
   ],
   "metadata": {
    "collapsed": false,
    "ExecuteTime": {
     "end_time": "2023-10-12T16:57:15.716197Z",
     "start_time": "2023-10-12T16:57:15.713535Z"
    }
   },
   "id": "bdc6faf50de702ab"
  },
  {
   "cell_type": "code",
   "execution_count": 42,
   "outputs": [
    {
     "name": "stdout",
     "output_type": "stream",
     "text": [
      "{'title': ['기아 \"다양한 가격대 풀라인업 전기차로 승부\"…EV5·EV4·EV3 공개', '‘수험생인 척’ 직원이 댓글 달아 광고한 해커스, 과징금 7.8억 폭탄 맞는다', 'GS칼텍스-포스코인터, 인도네시아에 바이오원료 정제시설 건설', '\"대구은행, 비이자이익 올리려 고객 몰래 계좌 개설\"', '8월까지 나라살림 총수입 394.4조…전년比 44.2조 감소', '9월 연준의사록 추가 금리인상에 의견대립…11월 금리동결 유력', 'SKC, 폴리우레탄 사업 4103억원에 매각', '\"머리 말리고 스타일링 한꺼번에\"', '\"국내 대기업이 세운 이스라엘 현지 법인은 8곳\"', '금융위원장 “지난달 가계대출 증가 폭, 절반 이하로 줄어”'], 'content': ['지난해 국회에서 열린 정무위원회의 공정거래위원회, 한국소비자원, 한국공정거래조정원에 대한 국정감사에 일반증인으로 출석한 함윤식 우아한형제 부사장이 답변하고 있다(자료사진)ⓒ뉴시스/공동취재사진[데일리안 = 이나영 기자] 배달의민족(배민)이 운영 중인 광고상품 \\'깃발\\'이 자칫 업주 간의 깃발 경쟁, 즉 출혈경쟁으로 이어질 수 있다는 지적이 나왔다김성환 더불어민주당 의원은 12일 국회에서 열린 산업통상자원중소벤처기업위원회의 중소벤처기업부 대상 국정감사에서 \"영업점뿐 아니라 가상영업점에도 깃발을 꽂을 수 있도록 돼 있다\"며 \"이를 통해 배민이 1년에 약 7000억원의 수익을 보고 있다 이는 배민이 독점지위를 이용해 서민들의 고열을 짜고 있는 것\"이라고 지적했다이에 함윤식 우아한형제들 부사장은 \"배달 권역을 반경 7km 이내로 제한을 하고 있고 그 안에서만 깃발을 꽂을 수 있도록 하고 있다\"고 해명했다배민이 배달앱 시장의 독과점 지위를 활용해 신생 스타트업들의 혁신을 막고 있다는 지적도 나왔다김회재 더불어민주당 의원은 \"2019년 배민은 요기요의 정보를 활용해 사업을 시작하면서 업소 매출 정보는 점주 것이라고 주장했는데 지금은 다른 스타트업 기업들이 배민의 정보를 사용하지 못하도록 하고 있다\"고 꼬집었다그는 \"해당 데이터의 진짜 주인은 점주지만 점주들도 배민의 정보를 이용하지 못해 점주들의 데이터주권도 침해받고 있다\"며 \"후발 스타트업들의 혁신을 가로막고 점주들에게도 데이터 주권을 침해하고 있다\"고 강조했다함 부사장은 \"데이터 연동에 상당한 비용이 들어 협의가 필요한 상황\"이라며 \"영세한 업체나 규모가 작은 회사는 비용을 감면할 수 있는 방안이 있는지 가이드라인을 협의해 볼 것\"이라고 답했다']}\n"
     ]
    }
   ],
   "source": [
    "print(news_info_list[0])"
   ],
   "metadata": {
    "collapsed": false,
    "ExecuteTime": {
     "end_time": "2023-10-12T16:57:40.873198Z",
     "start_time": "2023-10-12T16:57:40.851607Z"
    }
   },
   "id": "630504611f71ecf8"
  },
  {
   "cell_type": "code",
   "execution_count": 43,
   "outputs": [
    {
     "name": "stdout",
     "output_type": "stream",
     "text": [
      "['기아 \"다양한 가격대 풀라인업 전기차로 승부\"…EV5·EV4·EV3 공개', '‘수험생인 척’ 직원이 댓글 달아 광고한 해커스, 과징금 7.8억 폭탄 맞는다', 'GS칼텍스-포스코인터, 인도네시아에 바이오원료 정제시설 건설', '\"대구은행, 비이자이익 올리려 고객 몰래 계좌 개설\"', '8월까지 나라살림 총수입 394.4조…전년比 44.2조 감소', '9월 연준의사록 추가 금리인상에 의견대립…11월 금리동결 유력', 'SKC, 폴리우레탄 사업 4103억원에 매각', '\"머리 말리고 스타일링 한꺼번에\"', '\"국내 대기업이 세운 이스라엘 현지 법인은 8곳\"', '금융위원장 “지난달 가계대출 증가 폭, 절반 이하로 줄어”']\n"
     ]
    }
   ],
   "source": [
    "print(news_info_list[0]['title']) # 기사 제목"
   ],
   "metadata": {
    "collapsed": false,
    "ExecuteTime": {
     "end_time": "2023-10-12T16:57:59.876371Z",
     "start_time": "2023-10-12T16:57:59.860047Z"
    }
   },
   "id": "d1abd47747d11fd9"
  },
  {
   "cell_type": "markdown",
   "source": [
    "**5. Amazon product review(updating page) data extraction (service unavailable site)**"
   ],
   "metadata": {
    "collapsed": false
   },
   "id": "753c622fa3b7ec4"
  },
  {
   "cell_type": "code",
   "execution_count": 44,
   "outputs": [],
   "source": [
    "driver = webdriver.Chrome(options = chrome_options)\n",
    "from bs4 import BeautifulSoup\n",
    "import requests\n",
    "import re"
   ],
   "metadata": {
    "collapsed": false,
    "ExecuteTime": {
     "end_time": "2023-10-12T17:10:12.345564Z",
     "start_time": "2023-10-12T17:10:08.781603Z"
    }
   },
   "id": "7b4d8c6671730de0"
  },
  {
   "cell_type": "code",
   "execution_count": 45,
   "outputs": [],
   "source": [
    "url = \"https://www.amazon.com/Fire-HD-10-tablet/product-reviews/B08BX7FV5L/ref=cm_cr_getr_d_paging_btm_prev_1?ie=UTF8&reviewerType=all_reviews&pageNumber=\"\n",
    "num = list(map(str, range(1,4))) # print 1, 2, 3 as strings"
   ],
   "metadata": {
    "collapsed": false,
    "ExecuteTime": {
     "end_time": "2023-10-12T17:10:43.507661Z",
     "start_time": "2023-10-12T17:10:43.477335Z"
    }
   },
   "id": "10aaa3cb8ddfece3"
  },
  {
   "cell_type": "code",
   "execution_count": 47,
   "outputs": [],
   "source": [
    "author_set = []\n",
    "score_set = []\n",
    "review_set = []\n",
    "help_set = []"
   ],
   "metadata": {
    "collapsed": false,
    "ExecuteTime": {
     "end_time": "2023-10-12T17:10:59.257203Z",
     "start_time": "2023-10-12T17:10:59.211108Z"
    }
   },
   "id": "3e63cf6c2d23f331"
  },
  {
   "cell_type": "markdown",
   "source": [
    "Extract information by page using for statement"
   ],
   "metadata": {
    "collapsed": false
   },
   "id": "42f1ed5f216b8bd1"
  },
  {
   "cell_type": "code",
   "execution_count": 52,
   "outputs": [
    {
     "name": "stdout",
     "output_type": "stream",
     "text": [
      "1\n",
      "52\n",
      "50\n",
      "0\n",
      "36\n",
      "2\n",
      "62\n",
      "60\n",
      "0\n",
      "44\n",
      "3\n",
      "74\n",
      "70\n",
      "0\n",
      "52\n"
     ]
    }
   ],
   "source": [
    "for i in num:\n",
    "    driver.get(url+i) # selenium 이용\n",
    "    html = driver.page_source\n",
    "    soup = BeautifulSoup(html, 'html.parser')\n",
    "    author = soup.select(\"span.a-profile-name\")\n",
    "    score = soup.select(\".review-rating > span.a-icon-alt\")\n",
    "    # If there is an image , only .a-icon-alt can be used for repeated extraction , so .review-rating must also be used .\n",
    "    review = soup.select(\"span.review -text > span\")\n",
    "    help = soup.select (\".a-color-tertiary\")\n",
    "    # You can use only one attribute value that can distinguish the element among several attribute values in the class attribute\n",
    "    \n",
    "    # Extract information by page using for statement\n",
    "    author_list = []\n",
    "    for author_i in author:\n",
    "        author_list.append(author_i.text)\n",
    "        \n",
    "    score_list = []\n",
    "    for score_i in score:\n",
    "        score_list.append(score_i.text)\n",
    "    \n",
    "    review_list = []\n",
    "    for review_i in review:\n",
    "        review1 = review_i.text\n",
    "        review_list.append ( re.sub ('\\t|\\r|\\n', '', review1))\n",
    "    \n",
    "    help_list = []\n",
    "    for help_i in help:\n",
    "        help1 = help_i.text\n",
    "        help_list.append( re.sub ('\\t|\\r|\\n', '', help1))\n",
    "    \n",
    "    del author_list [0:2] # Remove the first 2 reviews of each page as they are repeated\n",
    "    del score_list [0:2] # Remove the first 2 scores on each page as they are repeated\n",
    "    del help_list [0:2] # first 2 help on each page are repeated so remove them\n",
    "    \n",
    "    author_set.extend(author_list) # combine multiple lists into one list\n",
    "    score_set.extend(score_list)\n",
    "    review_set.extend(review_list)\n",
    "    help_set.extend(help_list)\n",
    "    print(i)\n",
    "    print(len(author_set))\n",
    "    print(len(score_set))\n",
    "    print(len(review_set))\n",
    "    print(len(help_set))"
   ],
   "metadata": {
    "collapsed": false,
    "ExecuteTime": {
     "end_time": "2023-10-12T17:16:31.736758Z",
     "start_time": "2023-10-12T17:16:28.303190Z"
    }
   },
   "id": "59bf4c32650efc9b"
  },
  {
   "cell_type": "markdown",
   "source": [
    "Write review information (title, content bundle )"
   ],
   "metadata": {
    "collapsed": false
   },
   "id": "33b709c641ee57d8"
  },
  {
   "cell_type": "code",
   "execution_count": 53,
   "outputs": [
    {
     "name": "stdout",
     "output_type": "stream",
     "text": [
      "[]\n"
     ]
    },
    {
     "ename": "IndexError",
     "evalue": "list index out of range",
     "output_type": "error",
     "traceback": [
      "\u001B[0;31m---------------------------------------------------------------------------\u001B[0m",
      "\u001B[0;31mIndexError\u001B[0m                                Traceback (most recent call last)",
      "Cell \u001B[0;32mIn[53], line 12\u001B[0m\n\u001B[1;32m     10\u001B[0m     info_info_list\u001B[38;5;241m.\u001B[39mappend(info_dict)\n\u001B[1;32m     11\u001B[0m \u001B[38;5;28mprint\u001B[39m(info_info_list)\n\u001B[0;32m---> 12\u001B[0m \u001B[38;5;28mprint\u001B[39m(\u001B[43minfo_info_list\u001B[49m\u001B[43m[\u001B[49m\u001B[38;5;241;43m3\u001B[39;49m\u001B[43m]\u001B[49m)\n",
      "\u001B[0;31mIndexError\u001B[0m: list index out of range"
     ]
    }
   ],
   "source": [
    "info_list = zip(author_set, score_set, review_set, help_set)\n",
    "info_info_list = []\n",
    "for info in info_list:\n",
    "    info_dict = {\n",
    "        \"author\": info[0],\n",
    "        \"score\": info[1],\n",
    "        \"review\": info[2],\n",
    "        \"help\": info[3]\n",
    "    }\n",
    "    info_info_list.append(info_dict)\n",
    "print(info_info_list)\n",
    "print(info_info_list[3])\n",
    "\n",
    "# list index out of range because review set is None"
   ],
   "metadata": {
    "collapsed": false,
    "ExecuteTime": {
     "end_time": "2023-10-12T17:17:25.178995Z",
     "start_time": "2023-10-12T17:17:25.129414Z"
    }
   },
   "id": "2f14328fbc2eb35c"
  },
  {
   "cell_type": "markdown",
   "source": [
    "**6. Naver image keyword search and screen scroll down**"
   ],
   "metadata": {
    "collapsed": false
   },
   "id": "ddacff8cfd6107f7"
  },
  {
   "cell_type": "code",
   "execution_count": 55,
   "outputs": [],
   "source": [
    "driver = webdriver.Chrome(options = chrome_options)\n",
    "key = 'AI'\n",
    "url = 'https://search.naver.com/search.naver?sm=tab_sug.top&where=image&query='\n",
    "url_new = url + key\n",
    "driver.get(url_new) # via selenium"
   ],
   "metadata": {
    "collapsed": false,
    "ExecuteTime": {
     "end_time": "2023-10-12T17:19:35.819472Z",
     "start_time": "2023-10-12T17:19:32.236021Z"
    }
   },
   "id": "1464406f1b402ed4"
  },
  {
   "cell_type": "markdown",
   "source": [
    "Determine the page size to scroll down : range(n)"
   ],
   "metadata": {
    "collapsed": false
   },
   "id": "96595f70dd665b1a"
  },
  {
   "cell_type": "code",
   "execution_count": 56,
   "outputs": [],
   "source": [
    "from selenium.webdriver.common.by import By\n",
    "\n",
    "body = driver.find_element(By.CSS_SELECTOR ,'body')\n",
    "for i in range(20):\n",
    "    body.send_keys(Keys.PAGE_DOWN)\n",
    "    time.sleep(1)"
   ],
   "metadata": {
    "collapsed": false,
    "ExecuteTime": {
     "end_time": "2023-10-12T17:20:47.002330Z",
     "start_time": "2023-10-12T17:20:26.427028Z"
    }
   },
   "id": "f45fbd0cbff30898"
  },
  {
   "cell_type": "markdown",
   "source": [
    "collect image links"
   ],
   "metadata": {
    "collapsed": false
   },
   "id": "ba8878efa137bf9c"
  },
  {
   "cell_type": "code",
   "execution_count": 57,
   "outputs": [
    {
     "name": "stdout",
     "output_type": "stream",
     "text": [
      "['https://search.pstatic.net/sunny/?src=https%3A%2F%2Fmedia.licdn.com%2Fdms%2Fimage%2FD4E12AQHJJkrly0dFWw%2Farticle-cover_image-shrink_600_2000%2F0%2F1689355254711%3Fe%3D2147483647%26v%3Dbeta%26t%3DN_kbunsn0REm7GMATFeUN__OwDtA0sfg1SEjpUvxXJc&type=l340_165', 'https://search.pstatic.net/common/?src=http%3A%2F%2Fimgnews.naver.net%2Fimage%2F5652%2F2023%2F07%2F21%2F0000092026_001_20230721120612569.jpg&type=l340_165', 'https://search.pstatic.net/sunny/?src=https%3A%2F%2Fmedia.licdn.com%2Fdms%2Fimage%2Fsync%2FD5627AQHWC7WLZj3JQg%2Farticleshare-shrink_800%2F0%2F1693992161841%3Fe%3D1695326400%26v%3Dbeta%26t%3DUmCMXqFdRG4Wpcm35qRQYTwPaaJ2kbTvyDogOnu1GO4&type=a340', 'https://search.pstatic.net/common/?src=http%3A%2F%2Fimgnews.naver.net%2Fimage%2F5417%2F2023%2F06%2F26%2F0000044902_001_20230626173801956.jpg&type=a340', 'https://search.pstatic.net/common/?src=http%3A%2F%2Fblogfiles.naver.net%2FMjAyMzAxMDZfMjg2%2FMDAxNjcyOTg3NjUyOTI3.nEZqAzlRfz7MVEUi0E2WtTaAdqF7e69BB6h9V4h4nnwg.NgwAoI9HAalppsl9QY2MBJw8qzHz3ly-ryQdoBQKRRcg.PNG.ub1111%2Fimage.png&type=a340', 'https://search.pstatic.net/sunny/?src=https%3A%2F%2Fventurebeat.com%2Fwp-content%2Fuploads%2F2023%2F04%2Fallegro-1.jpg%3Fw%3D1200%26strip%3Dall&type=l340_165', 'https://search.pstatic.net/sunny/?src=https%3A%2F%2Fthumbs.dreamstime.com%2Fz%2Fai-artificial-intelligence-machine-learning-big-data-analysis-automation-technology-business-industrial-manufacturing-145014919.jpg&type=a340', 'https://search.pstatic.net/sunny/?src=https%3A%2F%2Fi.pinimg.com%2Foriginals%2F65%2F7a%2F60%2F657a60e8c9bda156d849b7bac2d53352.jpg&type=a340', 'https://search.pstatic.net/common/?src=http%3A%2F%2Fblogfiles.naver.net%2FMjAyMzA4MTBfMjY2%2FMDAxNjkxNjI3NzkyNjI1.5sM4Gk8P7osY-UVajKUgzwbWUeYfdYLzVrGklnRdxrAg.9GhY12YKQ4jWHujiGr2mu20jjhr4dbx_U4OZARL5ydEg.PNG.happyhany1%2Fjer7ciii.png&type=l340_165', 'https://search.pstatic.net/sunny/?src=https%3A%2F%2Fmedia.licdn.com%2Fdms%2Fimage%2Fsync%2FC5627AQHoiV2OKuL18A%2Farticleshare-shrink_800%2F0%2F1679601525342%3Fe%3D1681131600%26v%3Dbeta%26t%3DCP1QDiEtyZ2JMbC2SvZdVvuPGlZCDyl_Pl91rsIDm-4&type=a340', 'https://search.pstatic.net/common/?src=http%3A%2F%2Fimgnews.naver.net%2Fimage%2F5234%2F2023%2F05%2F23%2F0000110806_001_20230523085601473.jpg&type=a340', 'https://search.pstatic.net/common/?src=http%3A%2F%2Fimgnews.naver.net%2Fimage%2F5137%2F2023%2F08%2F04%2F0000138683_002_20230804074201375.jpg&type=l340_165', 'https://search.pstatic.net/common/?src=http%3A%2F%2Fimgnews.naver.net%2Fimage%2F584%2F2023%2F05%2F02%2F0000022900_001_20230502135501580.jpg&type=l340_165', 'https://search.pstatic.net/sunny/?src=https%3A%2F%2Fi2.ruliweb.com%2Fori%2F23%2F03%2F05%2F186ae5144ad56d69a.webp&type=a340', 'https://search.pstatic.net/common/?src=http%3A%2F%2Fpost.phinf.naver.net%2FMjAyMzA1MTFfMTgz%2FMDAxNjgzNzg4NDgwMjc1.6w3PhX7F8sl-hc2l-HqFaYekF_PjAbPkRXl8xXK8_Fog.DbkXmXBN5YIDfTGlig84vbTV_kNv1Imefs57o02-XXwg.JPEG%2FIjv1N8eBsNDYGUaT28APx4s5zCzc.jpg&type=l340_165', 'https://search.pstatic.net/common/?src=http%3A%2F%2Fimgnews.naver.net%2Fimage%2F020%2F2023%2F03%2F06%2F0003483506_001_20230306170705518.jpg&type=a340', 'https://search.pstatic.net/sunny/?src=https%3A%2F%2Fi3.ruliweb.com%2Fimg%2F23%2F02%2F04%2F1861900fcc4576058.jpg&type=a340', 'https://search.pstatic.net/sunny/?src=https%3A%2F%2Fmedia.licdn.com%2Fdms%2Fimage%2FD5622AQH3fgsyVC_CMw%2Ffeedshare-shrink_1280%2F0%2F1680555637557%3Fe%3D1683763200%26v%3Dbeta%26t%3DE9dwBLyGgBjIES26Rm0nAfMxji0XK0VCwqcpHe95ibM&type=ofullfill340_600_png']\n"
     ]
    }
   ],
   "source": [
    "imgs = driver.find_elements(By.CSS_SELECTOR, 'img._image')\n",
    "result = []\n",
    "for img in imgs :\n",
    "    if 'http' in img.get_attribute('src'): result.append(img.get_attribute('src'))\n",
    "print(result)"
   ],
   "metadata": {
    "collapsed": false,
    "ExecuteTime": {
     "end_time": "2023-10-12T17:23:17.422681Z",
     "start_time": "2023-10-12T17:23:17.149340Z"
    }
   },
   "id": "3d083c053bef6d53"
  },
  {
   "cell_type": "code",
   "execution_count": 58,
   "outputs": [
    {
     "data": {
      "text/plain": "18"
     },
     "execution_count": 58,
     "metadata": {},
     "output_type": "execute_result"
    }
   ],
   "source": [
    "driver.close()\n",
    "len(result) # check the change in len (result) while increasing the size of n in range(n)"
   ],
   "metadata": {
    "collapsed": false,
    "ExecuteTime": {
     "end_time": "2023-10-12T17:23:30.607923Z",
     "start_time": "2023-10-12T17:23:30.493278Z"
    }
   },
   "id": "c43152246dd8f09"
  },
  {
   "cell_type": "code",
   "execution_count": 60,
   "outputs": [],
   "source": [
    "num = list(map(str, range(1, len(result)+1)))"
   ],
   "metadata": {
    "collapsed": false,
    "ExecuteTime": {
     "end_time": "2023-10-12T17:25:04.986198Z",
     "start_time": "2023-10-12T17:25:04.971720Z"
    }
   },
   "id": "41a3447e479b531"
  },
  {
   "cell_type": "code",
   "execution_count": 61,
   "outputs": [],
   "source": [
    "import urllib.request\n",
    "folder_name = '../../Data/'\n",
    "index = []\n",
    "for link in result:\n",
    "    savename = folder_name + num[len(index)]\n",
    "    index.append(link)\n",
    "    urllib.request.urlretrieve(link, savename)"
   ],
   "metadata": {
    "collapsed": false,
    "ExecuteTime": {
     "end_time": "2023-10-12T17:26:07.543107Z",
     "start_time": "2023-10-12T17:26:00.817132Z"
    }
   },
   "id": "b5b0c1df6d2d918b"
  },
  {
   "cell_type": "markdown",
   "source": [
    "**7. Naver news Economy Section**\n",
    "\n",
    "Top news titles and urls in the field of finance Extraction (using user-agent information)\n",
    "\n",
    "If crawling is blocked on the server , try to solve the problem using User-Agent information (Check at www.useragentstring.com)"
   ],
   "metadata": {
    "collapsed": false
   },
   "id": "1f4b4b0fb24e5de7"
  },
  {
   "cell_type": "code",
   "execution_count": null,
   "outputs": [],
   "source": [],
   "metadata": {
    "collapsed": false
   },
   "id": "8bb33dc4ca30b6f0"
  }
 ],
 "metadata": {
  "kernelspec": {
   "display_name": "Python 3",
   "language": "python",
   "name": "python3"
  },
  "language_info": {
   "codemirror_mode": {
    "name": "ipython",
    "version": 2
   },
   "file_extension": ".py",
   "mimetype": "text/x-python",
   "name": "python",
   "nbconvert_exporter": "python",
   "pygments_lexer": "ipython2",
   "version": "2.7.6"
  }
 },
 "nbformat": 4,
 "nbformat_minor": 5
}
