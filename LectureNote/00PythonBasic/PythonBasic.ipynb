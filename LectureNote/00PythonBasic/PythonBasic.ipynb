{
 "cells": [
  {
   "cell_type": "markdown",
   "source": [
    "### Python Basic\n",
    "\n",
    "Reserved words : Cannot be used as a variable or function name because the purpose of use has already been determined ( check the method below )"
   ],
   "metadata": {
    "collapsed": false
   },
   "id": "801876d2261ed755"
  },
  {
   "cell_type": "code",
   "execution_count": 1,
   "id": "initial_id",
   "metadata": {
    "collapsed": true,
    "ExecuteTime": {
     "end_time": "2023-09-11T08:00:10.859504Z",
     "start_time": "2023-09-11T08:00:10.794952Z"
    }
   },
   "outputs": [
    {
     "name": "stdout",
     "output_type": "stream",
     "text": [
      "['False', 'None', 'True', 'and', 'as', 'assert', 'async', 'await', 'break', 'class', 'continue', 'def', 'del', 'elif', 'else', 'except', 'finally', 'for', 'from', 'global', 'if', 'import', 'in', 'is', 'lambda', 'nonlocal', 'not', 'or', 'pass', 'raise', 'return', 'try', 'while', 'with', 'yield']\n"
     ]
    }
   ],
   "source": [
    "import keyword\n",
    "print(keyword.kwlist)"
   ]
  },
  {
   "cell_type": "markdown",
   "source": [
    "Basic input/output functions ( `print()`, `input()` )"
   ],
   "metadata": {
    "collapsed": false
   },
   "id": "2a2f7866d2fef5f2"
  },
  {
   "cell_type": "code",
   "execution_count": 2,
   "outputs": [
    {
     "name": "stdout",
     "output_type": "stream",
     "text": [
      "30\n",
      "60\n"
     ]
    }
   ],
   "source": [
    "print(10+20)\n",
    "n = input('type a number : ')\n",
    "print(n)"
   ],
   "metadata": {
    "collapsed": false,
    "ExecuteTime": {
     "end_time": "2023-09-11T08:00:13.065159Z",
     "start_time": "2023-09-11T08:00:10.800430Z"
    }
   },
   "id": "d9b46aec5b5a9431"
  },
  {
   "cell_type": "markdown",
   "source": [
    "Types of variables : integer ( int ), string ( str ), real number (float), ... => Using type(), you can check the type with a function"
   ],
   "metadata": {
    "collapsed": false
   },
   "id": "6ca0044c94a2d902"
  },
  {
   "cell_type": "code",
   "execution_count": 3,
   "outputs": [
    {
     "data": {
      "text/plain": "3"
     },
     "execution_count": 3,
     "metadata": {},
     "output_type": "execute_result"
    }
   ],
   "source": [
    "n = '3'\n",
    "int(n)"
   ],
   "metadata": {
    "collapsed": false,
    "ExecuteTime": {
     "end_time": "2023-09-11T08:00:13.065429Z",
     "start_time": "2023-09-11T08:00:13.055495Z"
    }
   },
   "id": "7d91cebc1971da0f"
  },
  {
   "cell_type": "code",
   "execution_count": 4,
   "outputs": [
    {
     "data": {
      "text/plain": "str"
     },
     "execution_count": 4,
     "metadata": {},
     "output_type": "execute_result"
    }
   ],
   "source": [
    "type(n)"
   ],
   "metadata": {
    "collapsed": false,
    "ExecuteTime": {
     "end_time": "2023-09-11T08:00:13.066610Z",
     "start_time": "2023-09-11T08:00:13.060349Z"
    }
   },
   "id": "738718c842d798e4"
  },
  {
   "cell_type": "code",
   "execution_count": 5,
   "outputs": [
    {
     "data": {
      "text/plain": "float"
     },
     "execution_count": 5,
     "metadata": {},
     "output_type": "execute_result"
    }
   ],
   "source": [
    "n1 = float(n); \n",
    "type(n1) "
   ],
   "metadata": {
    "collapsed": false,
    "ExecuteTime": {
     "end_time": "2023-09-11T08:00:13.075642Z",
     "start_time": "2023-09-11T08:00:13.065997Z"
    }
   },
   "id": "4522b1e72e6e82e3"
  },
  {
   "cell_type": "code",
   "execution_count": 6,
   "outputs": [
    {
     "data": {
      "text/plain": "'3'"
     },
     "execution_count": 6,
     "metadata": {},
     "output_type": "execute_result"
    }
   ],
   "source": [
    "str(n)"
   ],
   "metadata": {
    "collapsed": false,
    "ExecuteTime": {
     "end_time": "2023-09-11T08:00:13.075853Z",
     "start_time": "2023-09-11T08:00:13.070180Z"
    }
   },
   "id": "574893f66d1f6be1"
  },
  {
   "cell_type": "markdown",
   "source": [
    "#### 0.Main Modules"
   ],
   "metadata": {
    "collapsed": false
   },
   "id": "6e9ee35e0197c700"
  },
  {
   "cell_type": "code",
   "execution_count": 7,
   "outputs": [
    {
     "data": {
      "text/plain": "'/Users/junghunlee/Desktop/Pycharm/Webscraping/LectureNote/00PythonBasic'"
     },
     "execution_count": 7,
     "metadata": {},
     "output_type": "execute_result"
    }
   ],
   "source": [
    "import os\n",
    "os.getcwd()"
   ],
   "metadata": {
    "collapsed": false,
    "ExecuteTime": {
     "end_time": "2023-09-11T08:00:13.084049Z",
     "start_time": "2023-09-11T08:00:13.073559Z"
    }
   },
   "id": "28dfeae234ab424d"
  },
  {
   "cell_type": "code",
   "execution_count": 8,
   "outputs": [
    {
     "data": {
      "text/plain": "['PythonBasic.ipynb', '0. Python basic.pdf']"
     },
     "execution_count": 8,
     "metadata": {},
     "output_type": "execute_result"
    }
   ],
   "source": [
    "os.listdir()"
   ],
   "metadata": {
    "collapsed": false,
    "ExecuteTime": {
     "end_time": "2023-09-11T08:00:13.133974Z",
     "start_time": "2023-09-11T08:00:13.076754Z"
    }
   },
   "id": "2e8e187d9ac1120c"
  },
  {
   "cell_type": "code",
   "execution_count": 9,
   "outputs": [],
   "source": [
    "#os.mkdir('XX') # create subdirectories\n",
    "#os.chdir('/content/XX') # change current working directory \n",
    "#os.getcwd()"
   ],
   "metadata": {
    "collapsed": false,
    "ExecuteTime": {
     "end_time": "2023-09-11T08:00:13.141728Z",
     "start_time": "2023-09-11T08:00:13.083772Z"
    }
   },
   "id": "a5a642a898cbdb17"
  },
  {
   "cell_type": "markdown",
   "source": [
    "**sys library**\n",
    "\n",
    "sys.prefix : A string giving the site-specific directory prefix where the platform independent Python files are installed; on Unix, the default is /usr/local."
   ],
   "metadata": {
    "collapsed": false
   },
   "id": "21ab068fabcc232"
  },
  {
   "cell_type": "code",
   "execution_count": 10,
   "outputs": [
    {
     "data": {
      "text/plain": "'/Users/junghunlee/anaconda3/envs/Webscraping'"
     },
     "execution_count": 10,
     "metadata": {},
     "output_type": "execute_result"
    }
   ],
   "source": [
    "import sys\n",
    "sys.prefix"
   ],
   "metadata": {
    "collapsed": false,
    "ExecuteTime": {
     "end_time": "2023-09-11T08:00:13.142252Z",
     "start_time": "2023-09-11T08:00:13.086047Z"
    }
   },
   "id": "5e2dc440e3a444cc"
  },
  {
   "cell_type": "code",
   "execution_count": 11,
   "outputs": [
    {
     "data": {
      "text/plain": "'3.10.12 (main, Jul  5 2023, 15:02:25) [Clang 14.0.6 ]'"
     },
     "execution_count": 11,
     "metadata": {},
     "output_type": "execute_result"
    }
   ],
   "source": [
    "sys.version"
   ],
   "metadata": {
    "collapsed": false,
    "ExecuteTime": {
     "end_time": "2023-09-11T08:00:13.142606Z",
     "start_time": "2023-09-11T08:00:13.089133Z"
    }
   },
   "id": "c867833b39531040"
  },
  {
   "cell_type": "code",
   "execution_count": 12,
   "outputs": [
    {
     "data": {
      "text/plain": "'little'"
     },
     "execution_count": 12,
     "metadata": {},
     "output_type": "execute_result"
    }
   ],
   "source": [
    "sys.byteorder # byteordering"
   ],
   "metadata": {
    "collapsed": false,
    "ExecuteTime": {
     "end_time": "2023-09-11T08:00:13.142802Z",
     "start_time": "2023-09-11T08:00:13.092100Z"
    }
   },
   "id": "83e4bfd3a26f536b"
  },
  {
   "cell_type": "code",
   "execution_count": 13,
   "outputs": [],
   "source": [
    "# sys.modules # Print all installed modules ( long )"
   ],
   "metadata": {
    "collapsed": false,
    "ExecuteTime": {
     "end_time": "2023-09-11T08:00:13.142924Z",
     "start_time": "2023-09-11T08:00:13.094446Z"
    }
   },
   "id": "b66d91aa76d95e6f"
  },
  {
   "cell_type": "markdown",
   "source": [
    "**random library**"
   ],
   "metadata": {
    "collapsed": false
   },
   "id": "ee51e90e71d0d82f"
  },
  {
   "cell_type": "code",
   "execution_count": 14,
   "outputs": [
    {
     "data": {
      "text/plain": "2"
     },
     "execution_count": 14,
     "metadata": {},
     "output_type": "execute_result"
    }
   ],
   "source": [
    "import random\n",
    "random.randint (1,5)"
   ],
   "metadata": {
    "collapsed": false,
    "ExecuteTime": {
     "end_time": "2023-09-11T08:00:13.143150Z",
     "start_time": "2023-09-11T08:00:13.099128Z"
    }
   },
   "id": "abe64e98ec5699e3"
  },
  {
   "cell_type": "code",
   "execution_count": 15,
   "outputs": [
    {
     "data": {
      "text/plain": "0.15348923481468513"
     },
     "execution_count": 15,
     "metadata": {},
     "output_type": "execute_result"
    }
   ],
   "source": [
    "random.random()"
   ],
   "metadata": {
    "collapsed": false,
    "ExecuteTime": {
     "end_time": "2023-09-11T08:00:13.143337Z",
     "start_time": "2023-09-11T08:00:13.102185Z"
    }
   },
   "id": "2c745c8bc4079a0b"
  },
  {
   "cell_type": "code",
   "execution_count": 16,
   "outputs": [
    {
     "data": {
      "text/plain": "'a'"
     },
     "execution_count": 16,
     "metadata": {},
     "output_type": "execute_result"
    }
   ],
   "source": [
    "list = ['a','b','c']\n",
    "random.choice(list)"
   ],
   "metadata": {
    "collapsed": false,
    "ExecuteTime": {
     "end_time": "2023-09-11T08:00:13.143458Z",
     "start_time": "2023-09-11T08:00:13.104661Z"
    }
   },
   "id": "c3ce21269f4d0064"
  },
  {
   "cell_type": "code",
   "execution_count": 17,
   "outputs": [
    {
     "data": {
      "text/plain": "['a', 'b', 'c']"
     },
     "execution_count": 17,
     "metadata": {},
     "output_type": "execute_result"
    }
   ],
   "source": [
    "random.shuffle(list)\n",
    "list"
   ],
   "metadata": {
    "collapsed": false,
    "ExecuteTime": {
     "end_time": "2023-09-11T08:00:13.143644Z",
     "start_time": "2023-09-11T08:00:13.107705Z"
    }
   },
   "id": "95a475f713cb0c9f"
  },
  {
   "cell_type": "markdown",
   "source": [
    "**time library**"
   ],
   "metadata": {
    "collapsed": false
   },
   "id": "bb3df6313e19e5e"
  },
  {
   "cell_type": "code",
   "execution_count": 18,
   "outputs": [
    {
     "data": {
      "text/plain": "1694419213.110126"
     },
     "execution_count": 18,
     "metadata": {},
     "output_type": "execute_result"
    }
   ],
   "source": [
    "import time\n",
    "time.time() # a seconds value since 1970-01-01"
   ],
   "metadata": {
    "collapsed": false,
    "ExecuteTime": {
     "end_time": "2023-09-11T08:00:13.143830Z",
     "start_time": "2023-09-11T08:00:13.111Z"
    }
   },
   "id": "a5ba96f963826bff"
  },
  {
   "cell_type": "code",
   "execution_count": 19,
   "outputs": [
    {
     "data": {
      "text/plain": "'Mon Sep 11 17:00:13 2023'"
     },
     "execution_count": 19,
     "metadata": {},
     "output_type": "execute_result"
    }
   ],
   "source": [
    "time.asctime() # local time"
   ],
   "metadata": {
    "collapsed": false,
    "ExecuteTime": {
     "end_time": "2023-09-11T08:00:13.143940Z",
     "start_time": "2023-09-11T08:00:13.117202Z"
    }
   },
   "id": "6291c57bacf1e76a"
  },
  {
   "cell_type": "markdown",
   "source": [
    "**calendar library**"
   ],
   "metadata": {
    "collapsed": false
   },
   "id": "8d5f00723c1f4eae"
  },
  {
   "cell_type": "code",
   "execution_count": 20,
   "outputs": [
    {
     "name": "stdout",
     "output_type": "stream",
     "text": [
      "    October 2020\n",
      "Mo Tu We Th Fr Sa Su\n",
      "          1  2  3  4\n",
      " 5  6  7  8  9 10 11\n",
      "12 13 14 15 16 17 18\n",
      "19 20 21 22 23 24 25\n",
      "26 27 28 29 30 31\n"
     ]
    }
   ],
   "source": [
    "import calendar\n",
    "cal = calendar.month(2020,10)\n",
    "print(cal)"
   ],
   "metadata": {
    "collapsed": false,
    "ExecuteTime": {
     "end_time": "2023-09-11T08:00:13.144124Z",
     "start_time": "2023-09-11T08:00:13.119616Z"
    }
   },
   "id": "6e6e7fa667dbadbe"
  },
  {
   "cell_type": "markdown",
   "source": [
    "#### 1. Variables and Constants"
   ],
   "metadata": {
    "collapsed": false
   },
   "id": "50a20c3a4c7bee43"
  },
  {
   "cell_type": "code",
   "execution_count": 21,
   "outputs": [],
   "source": [
    "class Constant :\n",
    "    def __init__(self, constant):\n",
    "        self.__constant = constant\n",
    "    @property\n",
    "    def constant(self):\n",
    "        return self.__constant"
   ],
   "metadata": {
    "collapsed": false,
    "ExecuteTime": {
     "end_time": "2023-09-11T08:00:13.144191Z",
     "start_time": "2023-09-11T08:00:13.122497Z"
    }
   },
   "id": "1d87c39c85cebf62"
  },
  {
   "cell_type": "code",
   "execution_count": 22,
   "outputs": [
    {
     "data": {
      "text/plain": "int"
     },
     "execution_count": 22,
     "metadata": {},
     "output_type": "execute_result"
    }
   ],
   "source": [
    "out1 = 10\n",
    "type(out1)"
   ],
   "metadata": {
    "collapsed": false,
    "ExecuteTime": {
     "end_time": "2023-09-11T08:00:13.144291Z",
     "start_time": "2023-09-11T08:00:13.124809Z"
    }
   },
   "id": "9cfc69144de1c01c"
  },
  {
   "cell_type": "code",
   "execution_count": 23,
   "outputs": [
    {
     "name": "stdout",
     "output_type": "stream",
     "text": [
      "10\n",
      "10\n"
     ]
    }
   ],
   "source": [
    "print(out1); print(10)"
   ],
   "metadata": {
    "collapsed": false,
    "ExecuteTime": {
     "end_time": "2023-09-11T08:00:13.144384Z",
     "start_time": "2023-09-11T08:00:13.127183Z"
    }
   },
   "id": "b4ad4b34a235cb3d"
  },
  {
   "cell_type": "code",
   "execution_count": 24,
   "outputs": [],
   "source": [
    "out2 = Constant(10)"
   ],
   "metadata": {
    "collapsed": false,
    "ExecuteTime": {
     "end_time": "2023-09-11T08:00:13.144431Z",
     "start_time": "2023-09-11T08:00:13.129701Z"
    }
   },
   "id": "f49a1782fbe77ec0"
  },
  {
   "cell_type": "code",
   "execution_count": 25,
   "outputs": [
    {
     "data": {
      "text/plain": "int"
     },
     "execution_count": 25,
     "metadata": {},
     "output_type": "execute_result"
    }
   ],
   "source": [
    "type(out2.constant)"
   ],
   "metadata": {
    "collapsed": false,
    "ExecuteTime": {
     "end_time": "2023-09-11T08:00:13.144540Z",
     "start_time": "2023-09-11T08:00:13.131645Z"
    }
   },
   "id": "2ba3309032765b25"
  },
  {
   "cell_type": "markdown",
   "source": [
    "#### 2. Conditional Statements"
   ],
   "metadata": {
    "collapsed": false
   },
   "id": "c8dd27c0647f603d"
  },
  {
   "cell_type": "code",
   "execution_count": 26,
   "outputs": [
    {
     "name": "stdout",
     "output_type": "stream",
     "text": [
      "A\n"
     ]
    }
   ],
   "source": [
    "score = 90\n",
    "if score >= 90 : print(\"A\")\n",
    "elif score >= 80 : print(\"B\")\n",
    "elif score >= 70 : print(\"C\")\n",
    "else : print(\"F\")"
   ],
   "metadata": {
    "collapsed": false,
    "ExecuteTime": {
     "end_time": "2023-09-11T08:01:15.560800Z",
     "start_time": "2023-09-11T08:01:15.540769Z"
    }
   },
   "id": "2bc3fb6faf94df79"
  },
  {
   "cell_type": "markdown",
   "source": [
    "#### 3. Function"
   ],
   "metadata": {
    "collapsed": false
   },
   "id": "4767985f6e863226"
  },
  {
   "cell_type": "code",
   "execution_count": 27,
   "outputs": [
    {
     "name": "stdout",
     "output_type": "stream",
     "text": [
      "<class 'str'>\n",
      "hello\n",
      "<class 'int'>\n",
      "10\n",
      "<class 'list'>\n",
      "[10]\n",
      "<class 'set'>\n",
      "{10}\n",
      "deffense\n",
      "None\n",
      "result = 25\n"
     ]
    }
   ],
   "source": [
    "%run BasicFunction.py"
   ],
   "metadata": {
    "collapsed": false,
    "ExecuteTime": {
     "end_time": "2023-09-11T08:07:01.574787Z",
     "start_time": "2023-09-11T08:07:01.558415Z"
    }
   },
   "id": "2e1c4de7c5a5ba17"
  },
  {
   "cell_type": "markdown",
   "source": [
    "**lambda expression**\n",
    "\n",
    " lamda expression function : assigning a function to a function as an expression"
   ],
   "metadata": {
    "collapsed": false
   },
   "id": "a0c0996910d7669"
  },
  {
   "cell_type": "code",
   "execution_count": 33,
   "outputs": [
    {
     "name": "stdout",
     "output_type": "stream",
     "text": [
      "use function\n",
      "angle : 0, radians : 0.00\n",
      "angle : 90, radians : 1.05\n",
      "angle : 180, radians : 2.09\n",
      "angle : 270, radians : 3.14\n",
      "use lambda expression\n",
      "degrees : 0, radians : 0.00\n",
      "degrees : 90, radians : 1.05\n",
      "degrees : 180, radians : 2.09\n",
      "degrees : 270, radians : 3.14\n"
     ]
    }
   ],
   "source": [
    "%run lambdaExpression.py"
   ],
   "metadata": {
    "collapsed": false,
    "ExecuteTime": {
     "end_time": "2023-09-11T08:15:45.132715Z",
     "start_time": "2023-09-11T08:15:45.128265Z"
    }
   },
   "id": "1a84374f250c6423"
  },
  {
   "cell_type": "code",
   "execution_count": null,
   "outputs": [],
   "source": [],
   "metadata": {
    "collapsed": false
   },
   "id": "854857448d73a9e2"
  }
 ],
 "metadata": {
  "kernelspec": {
   "display_name": "Python 3",
   "language": "python",
   "name": "python3"
  },
  "language_info": {
   "codemirror_mode": {
    "name": "ipython",
    "version": 2
   },
   "file_extension": ".py",
   "mimetype": "text/x-python",
   "name": "python",
   "nbconvert_exporter": "python",
   "pygments_lexer": "ipython2",
   "version": "2.7.6"
  }
 },
 "nbformat": 4,
 "nbformat_minor": 5
}
