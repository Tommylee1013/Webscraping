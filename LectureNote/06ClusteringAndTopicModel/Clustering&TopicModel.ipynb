{
 "cells": [
  {
   "cell_type": "markdown",
   "source": [
    "### Cluster Analysis & Topic Models"
   ],
   "metadata": {
    "collapsed": false
   },
   "id": "ce6cf326c3da97ff"
  },
  {
   "cell_type": "markdown",
   "source": [
    "#### Cluster analysis topic model\n",
    "\n",
    "**Classification**\n",
    "- Classify similar words or documents into clusters using the relative distance of\n",
    "- Establish document - word(or word - document) matrix (frequency matrix , TF-IDF, etc.)\n",
    "- Similarity measurement(Euclidean , Cosine , Jacquard , etc.)\n",
    "- Classification by applying\n",
    "\n",
    "**topic model**\n",
    "- Classify documents based on topics by using the probability of occurrence of latent topics in documents\n",
    "\n",
    "#### Similarity Measure\n",
    "\n",
    "**Euclidean Similarity**\n",
    "\n",
    "- Measure the relative distance difference between 2 document vectors\n",
    "\n",
    "$$\\sqrt{\\Sigma_{f = 1}^p (x_{if} - x_{jf})^2}$$\n",
    "\n",
    "**Cosine Similarity**\n",
    "- The more similar two vectors are, the closer the cosine value is to 1, the less similar the closer to\n",
    "- For example, even if the number of occurrences of words in the two documents differs greatly if the ratio is the same, the similarity is high.\n",
    "\n",
    "$$x \\cdot y = ||x|| ||y|| \\cos \\theta$$\n",
    "\n",
    "$$\\cos \\theta = \\frac{x \\cdot y}{||x|| ||y||} = \\frac{\\Sigma_{i=1}^n x_i \\times y_i}{\\sqrt{\\Sigma_{i=1}^n x_i^2} \\sqrt{\\Sigma_{i=1}^n y_i^2}}$$"
   ],
   "metadata": {
    "collapsed": false
   },
   "id": "74519e667516e10e"
  },
  {
   "cell_type": "markdown",
   "source": [
    "**1. Cosine Similarity**"
   ],
   "metadata": {
    "collapsed": false
   },
   "id": "29d8af852c2d5174"
  },
  {
   "cell_type": "code",
   "execution_count": 1,
   "id": "initial_id",
   "metadata": {
    "collapsed": true,
    "ExecuteTime": {
     "end_time": "2023-11-22T08:19:18.392020Z",
     "start_time": "2023-11-22T08:19:18.321762Z"
    }
   },
   "outputs": [],
   "source": [
    "from numpy import dot\n",
    "from numpy.linalg import norm\n",
    "import numpy as np\n",
    "\n",
    "def cos_sim(A, B):\n",
    "    return dot(A, B)/(norm(A) * norm(B))"
   ]
  },
  {
   "cell_type": "code",
   "execution_count": 2,
   "outputs": [],
   "source": [
    "d1 = 'I like apples'\n",
    "d2 = 'I like mango'\n",
    "d3 = 'I like mango I like mango'\n",
    "Word_vectors = ['me' , 'apple' , 'mango' , 'like']"
   ],
   "metadata": {
    "collapsed": false,
    "ExecuteTime": {
     "end_time": "2023-11-22T08:20:07.084064Z",
     "start_time": "2023-11-22T08:20:07.069260Z"
    }
   },
   "id": "fbae4813ddffd2aa"
  },
  {
   "cell_type": "code",
   "execution_count": 3,
   "outputs": [
    {
     "name": "stdout",
     "output_type": "stream",
     "text": [
      "0.6666666666666667\n",
      "0.6666666666666667\n",
      "1.0000000000000002\n"
     ]
    }
   ],
   "source": [
    "doc1= np.array ([1,1,0,1]) # vector of words from document 1\n",
    "doc2= np.array ([1,0,1,1]) # vector of words from document 2\n",
    "doc3= np.array ([2,0,2,2]) # vector of words from document 3\n",
    "print(cos_sim (doc1, doc2)) # cosine similarity between document 1 and document 2\n",
    "print(cos_sim (doc1, doc3)) # cosine similarity between document 1 and document 3\n",
    "print(cos_sim (doc2, doc3)) # cosine similarity between document 2 and document 3"
   ],
   "metadata": {
    "collapsed": false,
    "ExecuteTime": {
     "end_time": "2023-11-22T08:20:14.173813Z",
     "start_time": "2023-11-22T08:20:14.156420Z"
    }
   },
   "id": "317a3caee7cc336b"
  },
  {
   "cell_type": "code",
   "execution_count": 5,
   "outputs": [
    {
     "data": {
      "text/plain": "array([[1.        , 0.66666667, 0.66666667],\n       [0.66666667, 1.        , 1.        ],\n       [0.66666667, 1.        , 1.        ]])"
     },
     "execution_count": 5,
     "metadata": {},
     "output_type": "execute_result"
    }
   ],
   "source": [
    "from sklearn.metrics.pairwise import cosine_similarity\n",
    "\n",
    "matx = np.vstack([doc1, doc2, doc3])\n",
    "cosine_similarity(matx)"
   ],
   "metadata": {
    "collapsed": false,
    "ExecuteTime": {
     "end_time": "2023-11-22T08:21:14.301677Z",
     "start_time": "2023-11-22T08:21:13.383212Z"
    }
   },
   "id": "9c8fb8b2e5bd5da1"
  },
  {
   "cell_type": "markdown",
   "source": [
    "**2. Euclidean Similarity**"
   ],
   "metadata": {
    "collapsed": false
   },
   "id": "36165d6c998c2303"
  },
  {
   "cell_type": "code",
   "execution_count": 6,
   "outputs": [],
   "source": [
    "def euclidean_dist(x, y) :\n",
    "    return np.sqrt(np.sum(x * y) ** 2)"
   ],
   "metadata": {
    "collapsed": false,
    "ExecuteTime": {
     "end_time": "2023-11-22T08:23:53.824373Z",
     "start_time": "2023-11-22T08:23:53.806052Z"
    }
   },
   "id": "30149c1cac75eacb"
  },
  {
   "cell_type": "code",
   "execution_count": 7,
   "outputs": [],
   "source": [
    "new = 'I like apples'\n",
    "\n",
    "doc1= np.array ([1,1,0,1]) # vector of words from document 1\n",
    "doc2= np.array ([1,0,1,1]) # vector of words from document 2\n",
    "doc3= np.array ([2,0,2,2]) # vector of words from document 3\n",
    "docQ = np.array ((1,1,0,1))"
   ],
   "metadata": {
    "collapsed": false,
    "ExecuteTime": {
     "end_time": "2023-11-22T08:24:14.692075Z",
     "start_time": "2023-11-22T08:24:14.684017Z"
    }
   },
   "id": "4d39e4e2c2ef537e"
  },
  {
   "cell_type": "code",
   "execution_count": 8,
   "outputs": [
    {
     "name": "stdout",
     "output_type": "stream",
     "text": [
      "3.0\n",
      "2.0\n",
      "4.0\n"
     ]
    }
   ],
   "source": [
    "print(euclidean_dist(doc1, docQ))\n",
    "print(euclidean_dist(doc2, docQ))\n",
    "print(euclidean_dist(doc3, docQ))"
   ],
   "metadata": {
    "collapsed": false,
    "ExecuteTime": {
     "end_time": "2023-11-22T08:24:38.594797Z",
     "start_time": "2023-11-22T08:24:38.582990Z"
    }
   },
   "id": "fc8092470a472835"
  },
  {
   "cell_type": "markdown",
   "source": [
    "**3. Jacquard smilarity**"
   ],
   "metadata": {
    "collapsed": false
   },
   "id": "66e134dca7a72354"
  },
  {
   "cell_type": "code",
   "execution_count": 9,
   "outputs": [],
   "source": [
    "# Two words appearing in both documents: apple and banana.\n",
    "doc1 = \"apple banana everyone like likey watch card holder\"\n",
    "doc2 = \"apple banana coupon passport love you\""
   ],
   "metadata": {
    "collapsed": false,
    "ExecuteTime": {
     "end_time": "2023-11-22T08:25:22.793342Z",
     "start_time": "2023-11-22T08:25:22.786118Z"
    }
   },
   "id": "4740f5cce1a92aaf"
  },
  {
   "cell_type": "markdown",
   "source": [
    "then, perform tokenization"
   ],
   "metadata": {
    "collapsed": false
   },
   "id": "6fa2ce212142371f"
  },
  {
   "cell_type": "code",
   "execution_count": 10,
   "outputs": [],
   "source": [
    "tokenized_doc1 = doc1.split()\n",
    "tokenized_doc2 = doc2.split()"
   ],
   "metadata": {
    "collapsed": false,
    "ExecuteTime": {
     "end_time": "2023-11-22T08:25:45.576145Z",
     "start_time": "2023-11-22T08:25:45.570695Z"
    }
   },
   "id": "54040bfb8af15b87"
  },
  {
   "cell_type": "markdown",
   "source": [
    "output the tokenization result"
   ],
   "metadata": {
    "collapsed": false
   },
   "id": "2562801dceac01ec"
  },
  {
   "cell_type": "code",
   "execution_count": 11,
   "outputs": [
    {
     "name": "stdout",
     "output_type": "stream",
     "text": [
      "['apple', 'banana', 'everyone', 'like', 'likey', 'watch', 'card', 'holder']\n",
      "['apple', 'banana', 'coupon', 'passport', 'love', 'you']\n"
     ]
    }
   ],
   "source": [
    "print(tokenized_doc1)\n",
    "print(tokenized_doc2)"
   ],
   "metadata": {
    "collapsed": false,
    "ExecuteTime": {
     "end_time": "2023-11-22T08:25:59.290326Z",
     "start_time": "2023-11-22T08:25:59.275113Z"
    }
   },
   "id": "ee9de8ca962461f1"
  },
  {
   "cell_type": "markdown",
   "source": [
    "union of document 1 and document 2"
   ],
   "metadata": {
    "collapsed": false
   },
   "id": "72b5d9c36b04a2f"
  },
  {
   "cell_type": "code",
   "execution_count": 12,
   "outputs": [
    {
     "name": "stdout",
     "output_type": "stream",
     "text": [
      "{'card', 'you', 'banana', 'like', 'likey', 'holder', 'passport', 'love', 'apple', 'coupon', 'watch', 'everyone'}\n"
     ]
    }
   ],
   "source": [
    "union = set(tokenized_doc1).union(set(tokenized_doc2))\n",
    "print(union)"
   ],
   "metadata": {
    "collapsed": false,
    "ExecuteTime": {
     "end_time": "2023-11-22T08:26:36.700134Z",
     "start_time": "2023-11-22T08:26:36.683825Z"
    }
   },
   "id": "d9b462bc3f5d8663"
  },
  {
   "cell_type": "markdown",
   "source": [
    "intersection of document 1 and document 2"
   ],
   "metadata": {
    "collapsed": false
   },
   "id": "30a890377d79d6d9"
  },
  {
   "cell_type": "code",
   "execution_count": 13,
   "outputs": [
    {
     "name": "stdout",
     "output_type": "stream",
     "text": [
      "{'banana', 'apple'}\n"
     ]
    }
   ],
   "source": [
    "intersection = set(tokenized_doc1).intersection(set(tokenized_doc2))\n",
    "print(intersection)"
   ],
   "metadata": {
    "collapsed": false,
    "ExecuteTime": {
     "end_time": "2023-11-22T08:26:54.712117Z",
     "start_time": "2023-11-22T08:26:54.695978Z"
    }
   },
   "id": "6e35b4f034375f8"
  },
  {
   "cell_type": "markdown",
   "source": [
    "**Jacquard similarity** means number of intersections divided by number of unions"
   ],
   "metadata": {
    "collapsed": false
   },
   "id": "15fe0c6d106a6c5e"
  },
  {
   "cell_type": "code",
   "execution_count": 14,
   "outputs": [
    {
     "name": "stdout",
     "output_type": "stream",
     "text": [
      "0.16666666666666666\n"
     ]
    }
   ],
   "source": [
    "print(len (intersection)/ len (union))"
   ],
   "metadata": {
    "collapsed": false,
    "ExecuteTime": {
     "end_time": "2023-11-22T08:27:14.525745Z",
     "start_time": "2023-11-22T08:27:14.504967Z"
    }
   },
   "id": "6cdfb5f70fd7553c"
  },
  {
   "cell_type": "markdown",
   "source": [
    "#### Similarity Between Too many Documents : A non-Hierarchical Clustering Method\n",
    "\n",
    "**K-means clustering**\n",
    "\n",
    "- used in non-hierarchical clustering\n",
    "- Hierarchical clustering becomes less useful as\n",
    "\n",
    "**Algorithms**\n",
    "\n",
    "1. Dividing n entities into K predefined clusters and calculating the centroid of each cluster. Use the cluster's mean as the center of the cluster\n",
    "2. Calculate the distance between each object and the center of the cluster. Calculate\n",
    "3. Classify each object into the cluster with the shortest distance\n",
    "4. Repeat the above steps until there are no more clusters\n",
    "\n",
    "Limitation : The number of clusters must be known in advance. Much influenced by the initial classification. (Different results possible for each analyst)"
   ],
   "metadata": {
    "collapsed": false
   },
   "id": "28468d6e5db8c15a"
  },
  {
   "cell_type": "markdown",
   "source": [
    "K-means clustering procedures\n",
    "\n",
    "<center>\n",
    "\n",
    "![cluster](./image/cluster.png)\n",
    "\n",
    "</center>"
   ],
   "metadata": {
    "collapsed": false
   },
   "id": "757b789b7afbd216"
  },
  {
   "cell_type": "markdown",
   "source": [
    "#### Non-nierarchical clustering method\n",
    "\n",
    "**Algorithm application**\n",
    "\n",
    "1.  Divide the 5 objects into 2 predefined clusters and calculate the centroid of each cluster. Randomly classify entities 1 and 2 as cluster A, and entities 3, 4, and 5 as cluster B. The mean of cluster A is (6 (=(4+8)/2), 4 (=(4+4)/2)) and the mean of cluster B is (21, 8) .\n",
    "2. Calculate the distance between each object and the center of the cluster.\n",
    "3. Classify each object into the cluster with the shortest distance.\n",
    "4. Repeat the above steps until there are no more clusters.\n",
    "\n",
    "Limitation ) The number of clusters must be known in advance. Much influenced by the initial classification. (Different results possible for each analyst)"
   ],
   "metadata": {
    "collapsed": false
   },
   "id": "53aee5c19dc3b486"
  },
  {
   "cell_type": "markdown",
   "source": [
    "**4. K-Means Clustering**\n",
    "\n",
    "National Park Basic Statistics (Source : KOSIS National Statistics Portal)"
   ],
   "metadata": {
    "collapsed": false
   },
   "id": "88e4982fb5fb989d"
  },
  {
   "cell_type": "code",
   "execution_count": 21,
   "outputs": [
    {
     "data": {
      "text/plain": "    공원명     육지면적     탐방객수\n0   지리산  483.022  3308833\n1    경주  136.550  2887634\n2   계룡산   65.335  1817602\n3  한려해상  127.188  6439653\n4   설악산  398.237  3241484",
      "text/html": "<div>\n<style scoped>\n    .dataframe tbody tr th:only-of-type {\n        vertical-align: middle;\n    }\n\n    .dataframe tbody tr th {\n        vertical-align: top;\n    }\n\n    .dataframe thead th {\n        text-align: right;\n    }\n</style>\n<table border=\"1\" class=\"dataframe\">\n  <thead>\n    <tr style=\"text-align: right;\">\n      <th></th>\n      <th>공원명</th>\n      <th>육지면적</th>\n      <th>탐방객수</th>\n    </tr>\n  </thead>\n  <tbody>\n    <tr>\n      <th>0</th>\n      <td>지리산</td>\n      <td>483.022</td>\n      <td>3308833</td>\n    </tr>\n    <tr>\n      <th>1</th>\n      <td>경주</td>\n      <td>136.550</td>\n      <td>2887634</td>\n    </tr>\n    <tr>\n      <th>2</th>\n      <td>계룡산</td>\n      <td>65.335</td>\n      <td>1817602</td>\n    </tr>\n    <tr>\n      <th>3</th>\n      <td>한려해상</td>\n      <td>127.188</td>\n      <td>6439653</td>\n    </tr>\n    <tr>\n      <th>4</th>\n      <td>설악산</td>\n      <td>398.237</td>\n      <td>3241484</td>\n    </tr>\n  </tbody>\n</table>\n</div>"
     },
     "execution_count": 21,
     "metadata": {},
     "output_type": "execute_result"
    }
   ],
   "source": [
    "import pandas as pd\n",
    "import matplotlib.pyplot as plt\n",
    "import seaborn as sns\n",
    "import random\n",
    "\n",
    "df = pd.read_csv('../../Data/NLPRK_STA.csv', encoding = 'cp949')\n",
    "df.head()"
   ],
   "metadata": {
    "collapsed": false,
    "ExecuteTime": {
     "end_time": "2023-11-22T15:54:53.250190Z",
     "start_time": "2023-11-22T15:54:53.238863Z"
    }
   },
   "id": "c7037685d77f701f"
  },
  {
   "cell_type": "code",
   "execution_count": 22,
   "outputs": [
    {
     "data": {
      "text/plain": "22"
     },
     "execution_count": 22,
     "metadata": {},
     "output_type": "execute_result"
    }
   ],
   "source": [
    "len(df)"
   ],
   "metadata": {
    "collapsed": false,
    "ExecuteTime": {
     "end_time": "2023-11-22T15:54:53.791077Z",
     "start_time": "2023-11-22T15:54:53.785990Z"
    }
   },
   "id": "e898ef7e2e5da3a9"
  },
  {
   "cell_type": "markdown",
   "source": [
    "id: national park , variable 1: land area , variable 2: number of visitors => Group id using variable 1 and variable 2"
   ],
   "metadata": {
    "collapsed": false
   },
   "id": "834fb4bb459053ed"
  },
  {
   "cell_type": "code",
   "execution_count": 23,
   "outputs": [],
   "source": [
    "X = df.iloc [:, [1, 2]].values # shape=(22, 2)\n",
    "n= X.shape [0] # number of sets (n=22)\n",
    "m= X.shape [1] # number of features (m=2)\n",
    "name = df.iloc [:,0].values"
   ],
   "metadata": {
    "collapsed": false,
    "ExecuteTime": {
     "end_time": "2023-11-22T15:54:54.485142Z",
     "start_time": "2023-11-22T15:54:54.459768Z"
    }
   },
   "id": "9805c2995ed2fb09"
  },
  {
   "cell_type": "code",
   "execution_count": 26,
   "outputs": [
    {
     "data": {
      "text/plain": "<Figure size 640x480 with 1 Axes>",
      "image/png": "[encoded data removed]"
     },
     "metadata": {},
     "output_type": "display_data"
    }
   ],
   "source": [
    "plt.scatter(X[:,0],X[:,1], c = 'black', label = 'national park', marker = '.')\n",
    "plt.xlabel('Area (km-square)')\n",
    "plt.ylabel('Visitors(count)')\n",
    "# plt.legend ()\n",
    "plt.title('National Parks')\n",
    "plt.show()"
   ],
   "metadata": {
    "collapsed": false,
    "ExecuteTime": {
     "end_time": "2023-11-22T15:55:49.140048Z",
     "start_time": "2023-11-22T15:55:49.084502Z"
    }
   },
   "id": "f1dd86dc95c9e66c"
  },
  {
   "cell_type": "code",
   "execution_count": null,
   "outputs": [],
   "source": [],
   "metadata": {
    "collapsed": false
   },
   "id": "f713789d516a4a2"
  }
 ],
 "metadata": {
  "kernelspec": {
   "display_name": "Python 3",
   "language": "python",
   "name": "python3"
  },
  "language_info": {
   "codemirror_mode": {
    "name": "ipython",
    "version": 2
   },
   "file_extension": ".py",
   "mimetype": "text/x-python",
   "name": "python",
   "nbconvert_exporter": "python",
   "pygments_lexer": "ipython2",
   "version": "2.7.6"
  }
 },
 "nbformat": 4,
 "nbformat_minor": 5
}
